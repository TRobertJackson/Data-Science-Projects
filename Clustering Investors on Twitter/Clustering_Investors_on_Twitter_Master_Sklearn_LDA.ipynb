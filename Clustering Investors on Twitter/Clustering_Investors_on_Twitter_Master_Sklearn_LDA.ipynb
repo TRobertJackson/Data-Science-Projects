{
 "cells": [
  {
   "cell_type": "markdown",
   "metadata": {},
   "source": [
    "## Get recent tweets from 145 famous investors on Twitter\n",
    "\n",
    "The Best Invsting Blogs of 2017\n",
    "https://thecollegeinvestor.com/15601/the-best-investing-blogs/\n",
    "\n",
    "17 Venture Capital and Angel Investors to Follow on Twitter\n",
    "https://www.inc.com/larry-kim/17-venture-capital-and-angel-investors-to-follow-on-twitter.html\n",
    "\n",
    "Nine Twitter Accounts For Aspiring Real Estate Investors To Follow\n",
    "https://www.forbes.com/sites/forbesrealestatecouncil/2017/05/03/9-twitter-accounts-for-aspiring-real-estate-investors-to-follow/#61c1f6a627a0\n",
    "\n",
    "10 VCs & Angel Investors to Follow on Twitter\n",
    "http://www.techinsurance.com/blog/business-tips/10-vcs-angel-investors-to-follow-on-twitter/\n",
    "\n",
    "These Are The Top 20 Tech Investors You Should Follow On Twitter\n",
    "http://www.businessinsider.com/top-20-tech-investors-on-twitter-2013-5?op=1\n",
    "\n",
    "Top 50 Investors on Twitter and How To Engage Them\n",
    "http://startupfundraising.com/top-50-investors-on-twitter-and-how-to-engage-them/"
   ]
  },
  {
   "cell_type": "code",
   "execution_count": 1,
   "metadata": {
    "collapsed": true
   },
   "outputs": [],
   "source": [
    "random_state = 81917"
   ]
  },
  {
   "cell_type": "code",
   "execution_count": 1,
   "metadata": {
    "collapsed": true
   },
   "outputs": [],
   "source": [
    "import pandas as pd\n",
    "import numpy as np"
   ]
  },
  {
   "cell_type": "code",
   "execution_count": 29,
   "metadata": {
    "collapsed": true
   },
   "outputs": [],
   "source": [
    "import tweepy\n",
    "import os"
   ]
  },
  {
   "cell_type": "code",
   "execution_count": 30,
   "metadata": {
    "collapsed": true
   },
   "outputs": [],
   "source": [
    "consumer_key = os.environ[\"TWITTER_CONSUMER_KEY\"]\n",
    "consumer_secret = os.environ[\"TWITTER_CONSUMER_SECRET\"]\n",
    "access_token = os.environ[\"TWITTER_ACCESS_TOKEN\"]\n",
    "access_token_secret = os.environ[\"TWITTER_TOKEN_SECRET\"]"
   ]
  },
  {
   "cell_type": "code",
   "execution_count": 31,
   "metadata": {
    "collapsed": true
   },
   "outputs": [],
   "source": [
    "auth = tweepy.OAuthHandler(consumer_key, consumer_secret)\n",
    "auth.set_access_token(access_token, access_token_secret)\n",
    "\n",
    "api = tweepy.API(auth)"
   ]
  },
  {
   "cell_type": "code",
   "execution_count": null,
   "metadata": {
    "collapsed": true
   },
   "outputs": [],
   "source": [
    "text_file = open(\"Investors_on_twitter.txt\", \"r\")\n",
    "user_list = text_file.readlines()"
   ]
  },
  {
   "cell_type": "code",
   "execution_count": null,
   "metadata": {
    "collapsed": true
   },
   "outputs": [],
   "source": [
    "for index, user in enumerate(user_list):\n",
    "    user_list[index]= user.rstrip('\\n')"
   ]
  },
  {
   "cell_type": "code",
   "execution_count": null,
   "metadata": {
    "collapsed": true
   },
   "outputs": [],
   "source": [
    "len(user_list)"
   ]
  },
  {
   "cell_type": "code",
   "execution_count": 11,
   "metadata": {
    "collapsed": true
   },
   "outputs": [],
   "source": [
    "from pymongo import MongoClient\n",
    "client = MongoClient()\n",
    "investor_tweets_db = client.investor_tweets_db\n",
    "tweets_collection = investor_tweets_db.tweets_collection"
   ]
  },
  {
   "cell_type": "code",
   "execution_count": null,
   "metadata": {
    "collapsed": true
   },
   "outputs": [],
   "source": [
    "def get_all_tweets(screen_name):\n",
    "    '''get all tweets for one user'''\n",
    "    #initialize a list to hold all the tweepy Tweets\n",
    "    alltweets = []\t\n",
    "\n",
    "    #make initial request for most recent tweets (200 is the maximum allowed count)\n",
    "    new_tweets = api.user_timeline(screen_name = screen_name, count=200, tweet_mode='extended')\n",
    "\n",
    "    #save most recent tweets\n",
    "    alltweets.extend(new_tweets)\n",
    "\n",
    "    #save the id of the oldest tweet less one\n",
    "    oldest = alltweets[-1].id - 1\n",
    "\n",
    "    #keep grabbing tweets until there are no tweets left to grab\n",
    "    while len(new_tweets) > 0:\n",
    "        #print (\"getting tweets before %s\" % (oldest))\n",
    "\n",
    "        #all subsiquent requests use the max_id param to prevent duplicates\n",
    "        new_tweets = api.user_timeline(screen_name = screen_name,count=200,max_id=oldest, tweet_mode='extended')\n",
    "\n",
    "        #save most recent tweets\n",
    "        alltweets.extend(new_tweets)\n",
    "\n",
    "        #update the id of the oldest tweet less one\n",
    "        oldest = alltweets[-1].id - 1\n",
    "\n",
    "    print (\"{}: {} tweets downloaded so far\".format(screen_name, len(alltweets)))\n",
    "    return alltweets"
   ]
  },
  {
   "cell_type": "code",
   "execution_count": null,
   "metadata": {
    "collapsed": true,
    "scrolled": true
   },
   "outputs": [],
   "source": [
    "for user in user_list[100:]:\n",
    "    print(user)\n",
    "    if tweets_collection.find({'user': user}).count() > 0:\n",
    "        continue\n",
    "    all_tweets_raw = get_all_tweets(user)\n",
    "    all_tweets = ''\n",
    "    for tweet in all_tweets_raw:\n",
    "        all_tweets += tweet.full_text + ' '\n",
    "    user_dict = {}\n",
    "    user_dict['user'] = user\n",
    "    user_dict['all_tweets_raw'] = all_tweets\n",
    "    tweets_collection.insert_one((user_dict))"
   ]
  },
  {
   "cell_type": "code",
   "execution_count": null,
   "metadata": {
    "collapsed": true
   },
   "outputs": [],
   "source": [
    "for user in user_list:\n",
    "    print(user)\n",
    "    user_twitter = api.get_user(user)\n",
    "    description = user_twitter.description\n",
    "    if len(description) == 0:\n",
    "        print('User {} has no description'.format(user))\n",
    "    n_user = tweets_collection.find({'user': user}).count()\n",
    "    if n_user == 1:\n",
    "        investor = tweets_collection.find({'user': user})[0]\n",
    "        tweets_collection.update_one({\"_id\": investor[\"_id\"]}, {\"$set\": {\"description\": description}})\n",
    "    elif n_user == 0:\n",
    "        print('User {} is not in the collection'.format(user))\n",
    "    else:\n",
    "        print('{} documents have been found for user {}'.format(n_user, user))"
   ]
  },
  {
   "cell_type": "code",
   "execution_count": 12,
   "metadata": {},
   "outputs": [
    {
     "data": {
      "text/plain": [
       "143"
      ]
     },
     "execution_count": 12,
     "metadata": {},
     "output_type": "execute_result"
    }
   ],
   "source": [
    "tweets_collection.count()"
   ]
  },
  {
   "cell_type": "markdown",
   "metadata": {},
   "source": [
    "## Clean Tweets"
   ]
  },
  {
   "cell_type": "code",
   "execution_count": 20,
   "metadata": {
    "collapsed": true
   },
   "outputs": [],
   "source": [
    "import re\n",
    "import sys\n",
    "import unicodedata\n",
    "from string import digits"
   ]
  },
  {
   "cell_type": "code",
   "execution_count": 21,
   "metadata": {
    "collapsed": true
   },
   "outputs": [],
   "source": [
    "import html"
   ]
  },
  {
   "cell_type": "code",
   "execution_count": 23,
   "metadata": {
    "collapsed": true
   },
   "outputs": [],
   "source": [
    "for investor in tweets_collection.find({}):\n",
    "    all_tweets_clean = html.unescape(investor['all_tweets_raw']) #convert html entities to string\n",
    "    all_tweets_clean = ''.join(c for c in unicodedata.normalize('NFC', all_tweets_clean) if c <= '\\uFFFF') #remove emojis\n",
    "    all_tweets_clean = re.sub('(#[A-Za-z0-9_]+)|(%)|(@[A-Za-z0-9_]+)|(\\w+:\\/\\/\\S+)|(^rt)|(^RT)|(^Rt)|(\\sRT\\s)|(\\sRt\\s)|(\\srt\\s)|(http.+?)', ' ', all_tweets_clean).strip() #remove %, @, https, RT \n",
    "    all_tweets_clean = re.sub('\\s+', ' ', all_tweets_clean) #remove multiple spaces\n",
    "    all_tweets_clean = ''.join([i for i in all_tweets_clean if not i.isdigit()]) #remove all digits\n",
    "    tweets_collection.update_one({\"_id\": investor[\"_id\"]}, {\"$set\": {\"all_tweets_clean\": all_tweets_clean}}) "
   ]
  },
  {
   "cell_type": "markdown",
   "metadata": {},
   "source": [
    "## Natural Language Processing"
   ]
  },
  {
   "cell_type": "code",
   "execution_count": 24,
   "metadata": {
    "collapsed": true
   },
   "outputs": [],
   "source": [
    "import spacy"
   ]
  },
  {
   "cell_type": "code",
   "execution_count": 25,
   "metadata": {
    "collapsed": true
   },
   "outputs": [],
   "source": [
    "nlp = spacy.load('en')"
   ]
  },
  {
   "cell_type": "code",
   "execution_count": 26,
   "metadata": {
    "collapsed": true
   },
   "outputs": [],
   "source": [
    "for investor in tweets_collection.find({}):\n",
    "    doc = nlp(investor['all_tweets_clean'])\n",
    "    bag_of_words = ''\n",
    "    for token in doc:\n",
    "        if token.is_stop or token.is_space or token.is_punct or token.like_num:\n",
    "            continue\n",
    "        elif token.is_ascii:\n",
    "            bag_of_words += token.lemma_ + ' '\n",
    "        else:\n",
    "            continue\n",
    "    tweets_collection.update_one({\"_id\": investor[\"_id\"]}, {\"$set\": {\"bag_of_words\": bag_of_words}})"
   ]
  },
  {
   "cell_type": "code",
   "execution_count": 27,
   "metadata": {
    "scrolled": true
   },
   "outputs": [
    {
     "data": {
      "text/plain": [
       "\"@PlanMaestro What if the BK ignores the Nf8, and heads for e5? Nd7 Kc7, Nf8 Kd6, Kf4 Kd5 etc @offbalancetweet Possible, but the way the story reads, I'd lean towards my guess, also given what we know about Tesla's addiction to hype. Tesla comped bond investors an extra 5 bp after books had closed; presume so that bond wouldn't trade below par. https://t.co/e1HsWHyjMi Per the age-old Rothschild maxim, buy on the firing of Bannons. Fed policy can squeeze inflation from eg 4% to 2%. Patently ridiculous to clamour for policy that can move inflation from, say, 1.5% to 2%. Much shrill mkt comment abt small inflation divergences. There's no economic difference btwn 1.5% inflation and 2%, and no way of tweaking. Next mkt correction, S&amp;P loses 40% in 5 mins before snapping back. Poorly timed bathroom break, u miss the generational buying opportunity. We don't even know what Trump's team will look like next week, but people are speculating about the next Fed Chair. 'How cd Gary Cohn?'\\nCos u \""
      ]
     },
     "execution_count": 27,
     "metadata": {},
     "output_type": "execute_result"
    }
   ],
   "source": [
    "tweets_collection.find_one({'user' : '5_min_macro'})['all_tweets_raw'][:1000]"
   ]
  },
  {
   "cell_type": "code",
   "execution_count": 28,
   "metadata": {},
   "outputs": [
    {
     "data": {
      "text/plain": [
       "\"What if the BK ignores the Nf, and heads for e? Nd Kc, Nf Kd, Kf Kd etc Possible, but the way the story reads, I'd lean towards my guess, also given what we know about Tesla's addiction to hype. Tesla comped bond investors an extra  bp after books had closed; presume so that bond wouldn't trade below par. Per the age-old Rothschild maxim, buy on the firing of Bannons. Fed policy can squeeze inflation from eg  to  . Patently ridiculous to clamour for policy that can move inflation from, say, . to  . Much shrill mkt comment abt small inflation divergences. There's no economic difference btwn . inflation and  , and no way of tweaking. Next mkt correction, S&P loses  in  mins before snapping back. Poorly timed bathroom break, u miss the generational buying opportunity. We don't even know what Trump's team will look like next week, but people are speculating about the next Fed Chair. 'How cd Gary Cohn?' Cos u don't reach the top of the slippery pole at a bulge bracket IB w/o sloughing remna\""
      ]
     },
     "execution_count": 28,
     "metadata": {},
     "output_type": "execute_result"
    }
   ],
   "source": [
    "tweets_collection.find_one({'user' : '5_min_macro'})['all_tweets_clean'][:1000]"
   ]
  },
  {
   "cell_type": "code",
   "execution_count": 29,
   "metadata": {},
   "outputs": [
    {
     "data": {
      "text/plain": [
       "\"bk ignore nf head e nd kc nf kd kf kd possible way story read would lean guess give know tesla 's addiction hype tesla comp bond investor extra bp book close presume bond not trade par age old rothschild maxim buy firing bannons fed policy squeeze inflation eg patently ridiculous clamour policy inflation shrill mkt comment abt small inflation divergence be economic difference btwn inflation way tweak mkt correction s&p lose min snap poorly time bathroom break u mis generational buying opportunity not know trump 's team look like week people speculate fed chair cd gary cohn cos u not reach slippery pole bulge bracket ib w o sloughing remnant humanity way try adopt world weary man say surprise shock stance turn strategy form washington redskins change negative association henceforth know maryland redskins be uzi katz fugitive justice change oozi cats like totally legit strategy number 's opioid epidemic insane m americans prescription painkiller non facetious answer enjoy piece + feel gi\""
      ]
     },
     "execution_count": 29,
     "metadata": {},
     "output_type": "execute_result"
    }
   ],
   "source": [
    "tweets_collection.find_one({'user' : '5_min_macro'})['bag_of_words'][:1000]"
   ]
  },
  {
   "cell_type": "markdown",
   "metadata": {},
   "source": [
    "## CountVectorizer + TF-IDF"
   ]
  },
  {
   "cell_type": "code",
   "execution_count": 2,
   "metadata": {
    "collapsed": true
   },
   "outputs": [],
   "source": [
    "from sklearn.feature_extraction.text import CountVectorizer"
   ]
  },
  {
   "cell_type": "code",
   "execution_count": 3,
   "metadata": {
    "collapsed": true
   },
   "outputs": [],
   "source": [
    "from pymongo import MongoClient\n",
    "client = MongoClient()\n",
    "investor_tweets_db = client.investor_tweets_db\n",
    "tweets_collection = investor_tweets_db.tweets_collection"
   ]
  },
  {
   "cell_type": "code",
   "execution_count": 4,
   "metadata": {
    "collapsed": true
   },
   "outputs": [],
   "source": [
    "text_file = open(\"Investors_on_twitter.txt\", \"r\")\n",
    "user_list = text_file.readlines()"
   ]
  },
  {
   "cell_type": "code",
   "execution_count": 5,
   "metadata": {
    "collapsed": true
   },
   "outputs": [],
   "source": [
    "for index, user in enumerate(user_list):\n",
    "    user_list[index]= user.rstrip('\\n')"
   ]
  },
  {
   "cell_type": "code",
   "execution_count": 6,
   "metadata": {
    "collapsed": true
   },
   "outputs": [],
   "source": [
    "corpus = []"
   ]
  },
  {
   "cell_type": "code",
   "execution_count": 7,
   "metadata": {
    "collapsed": true
   },
   "outputs": [],
   "source": [
    "for user in user_list:\n",
    "    corpus.append(tweets_collection.find_one({'user': user})['bag_of_words'])"
   ]
  },
  {
   "cell_type": "code",
   "execution_count": 8,
   "metadata": {
    "collapsed": true
   },
   "outputs": [],
   "source": [
    "vectorizer = CountVectorizer(min_df = 0.02, max_df = 0.4)"
   ]
  },
  {
   "cell_type": "code",
   "execution_count": 9,
   "metadata": {
    "collapsed": true
   },
   "outputs": [],
   "source": [
    "X = vectorizer.fit_transform(corpus)"
   ]
  },
  {
   "cell_type": "code",
   "execution_count": 10,
   "metadata": {},
   "outputs": [
    {
     "data": {
      "text/plain": [
       "(143, 23688)"
      ]
     },
     "execution_count": 10,
     "metadata": {},
     "output_type": "execute_result"
    }
   ],
   "source": [
    "X.shape"
   ]
  },
  {
   "cell_type": "code",
   "execution_count": null,
   "metadata": {},
   "outputs": [],
   "source": [
    "word_list = vectorizer.get_feature_names()"
   ]
  },
  {
   "cell_type": "code",
   "execution_count": null,
   "metadata": {},
   "outputs": [],
   "source": [
    "word_list"
   ]
  },
  {
   "cell_type": "code",
   "execution_count": 12,
   "metadata": {
    "scrolled": true
   },
   "outputs": [
    {
     "data": {
      "text/plain": [
       "23688"
      ]
     },
     "execution_count": 12,
     "metadata": {},
     "output_type": "execute_result"
    }
   ],
   "source": [
    "len(word_list)"
   ]
  },
  {
   "cell_type": "code",
   "execution_count": 13,
   "metadata": {
    "scrolled": true
   },
   "outputs": [
    {
     "data": {
      "text/plain": [
       "scipy.sparse.csr.csr_matrix"
      ]
     },
     "execution_count": 13,
     "metadata": {},
     "output_type": "execute_result"
    }
   ],
   "source": [
    "type(X)"
   ]
  },
  {
   "cell_type": "code",
   "execution_count": 14,
   "metadata": {
    "collapsed": true
   },
   "outputs": [],
   "source": [
    "from sklearn.feature_extraction.text import TfidfTransformer"
   ]
  },
  {
   "cell_type": "code",
   "execution_count": 15,
   "metadata": {
    "collapsed": true
   },
   "outputs": [],
   "source": [
    "tf = TfidfTransformer()\n",
    "X_tfidf =  tf.fit_transform(X)"
   ]
  },
  {
   "cell_type": "markdown",
   "metadata": {},
   "source": [
    "## Functions"
   ]
  },
  {
   "cell_type": "code",
   "execution_count": 16,
   "metadata": {
    "collapsed": true
   },
   "outputs": [],
   "source": [
    "import numpy as np\n",
    "import pandas as pd\n",
    "import matplotlib.pyplot as plt\n",
    "%matplotlib inline\n",
    "import textwrap\n",
    "import plotly.plotly as py\n",
    "import plotly.graph_objs as go\n",
    "from sklearn.cluster import KMeans\n",
    "from sklearn.metrics import silhouette_score"
   ]
  },
  {
   "cell_type": "code",
   "execution_count": 17,
   "metadata": {
    "collapsed": true
   },
   "outputs": [],
   "source": [
    "from sklearn.decomposition import TruncatedSVD\n",
    "from sklearn.decomposition import NMF\n",
    "from sklearn.decomposition import LatentDirichletAllocation"
   ]
  },
  {
   "cell_type": "code",
   "execution_count": 18,
   "metadata": {
    "collapsed": true
   },
   "outputs": [],
   "source": [
    "def kmeans_inertias(ns_clusters, X):\n",
    "    inertias = []\n",
    "    for n_clusters in ns_clusters:\n",
    "        kmeans = KMeans(n_clusters=n_clusters , random_state=random_state).fit(X)\n",
    "        inertias.append(kmeans.inertia_)\n",
    "    return inertias"
   ]
  },
  {
   "cell_type": "code",
   "execution_count": 19,
   "metadata": {
    "collapsed": true
   },
   "outputs": [],
   "source": [
    "def kmeans_Sil_coefs(ns_clusters, X):\n",
    "    Sil_coefs = []\n",
    "    for n_clusters in ns_clusters:\n",
    "        kmeans = KMeans(n_clusters=n_clusters , random_state=random_state).fit(X)\n",
    "        labels = kmeans.labels_\n",
    "        Sil_coefs.append(silhouette_score(X, labels, metric='euclidean'))\n",
    "    return Sil_coefs"
   ]
  },
  {
   "cell_type": "code",
   "execution_count": 20,
   "metadata": {
    "collapsed": true
   },
   "outputs": [],
   "source": [
    "def make_user_cluster_dataframe(pred_cluster):\n",
    "    user_cluster = pd.DataFrame(columns=['user', 'cluster', 'description'])\n",
    "    for index, user in enumerate(user_list):\n",
    "        description = tweets_collection.find({'user': user})[0]['description']\n",
    "        user_cluster = user_cluster.append(pd.DataFrame([[user, pred_cluster[index], description]], columns = ['user', 'cluster', 'description']))\n",
    "    return user_cluster"
   ]
  },
  {
   "cell_type": "code",
   "execution_count": 21,
   "metadata": {
    "collapsed": true
   },
   "outputs": [],
   "source": [
    "def make_hover_text(pred_cluster, user_list):\n",
    "    hover_text = []\n",
    "    for index, user in enumerate(user_list):\n",
    "        investor = tweets_collection.find({'user': user})[0]\n",
    "        cluster = pred_cluster[index]\n",
    "        description = '<br>'.join(textwrap.wrap(investor['description'], 50))\n",
    "        hover_text.append(('Cluster: {cluster}<br>'+\n",
    "                          'Name: {name}<br>'+\n",
    "                          'Description: {description}<br>').format(cluster=cluster,\n",
    "                                                name=user,\n",
    "                                                description=description))\n",
    "    return hover_text"
   ]
  },
  {
   "cell_type": "code",
   "execution_count": 22,
   "metadata": {
    "collapsed": true
   },
   "outputs": [],
   "source": [
    "def plot_3D(X, hover_text, cluster):\n",
    "    trace1 = go.Scatter3d(\n",
    "        x=X[:,0],\n",
    "        y=X[:,1],\n",
    "        z=X[:,2],\n",
    "        mode='markers',\n",
    "        marker=dict(\n",
    "            size=12,\n",
    "            color=cluster,                # set color to an array/list of desired values\n",
    "            colorscale='Viridis',   # choose a colorscale\n",
    "            opacity=0.8\n",
    "        ),\n",
    "        text=hover_text,\n",
    "\n",
    "        hoverinfo='text'\n",
    "    )\n",
    "\n",
    "    data = [trace1]\n",
    "    layout = go.Layout(\n",
    "        margin=dict(\n",
    "            l=0,\n",
    "            r=0,\n",
    "            b=0,\n",
    "            t=0\n",
    "        )\n",
    "    )\n",
    "    return data, layout"
   ]
  },
  {
   "cell_type": "markdown",
   "metadata": {
    "collapsed": true
   },
   "source": [
    "## Sklearn - LDA"
   ]
  },
  {
   "cell_type": "code",
   "execution_count": 35,
   "metadata": {
    "collapsed": true
   },
   "outputs": [],
   "source": [
    "n_topics = 6\n",
    "lda_model = LatentDirichletAllocation(n_topics=n_topics, max_iter=10, learning_method='online',                \n",
    "                                learning_offset=50, random_state=random_state)"
   ]
  },
  {
   "cell_type": "code",
   "execution_count": 36,
   "metadata": {
    "collapsed": true
   },
   "outputs": [],
   "source": [
    "W = lda_model.fit_transform(X)"
   ]
  },
  {
   "cell_type": "code",
   "execution_count": 37,
   "metadata": {
    "collapsed": true
   },
   "outputs": [],
   "source": [
    "investor_topic_matrix = W"
   ]
  },
  {
   "cell_type": "code",
   "execution_count": 38,
   "metadata": {
    "collapsed": true
   },
   "outputs": [],
   "source": [
    "topic_word_matrix = lda_model.components_"
   ]
  },
  {
   "cell_type": "code",
   "execution_count": 39,
   "metadata": {},
   "outputs": [
    {
     "data": {
      "text/plain": [
       "(6, 23688)"
      ]
     },
     "execution_count": 39,
     "metadata": {},
     "output_type": "execute_result"
    }
   ],
   "source": [
    "topic_word_matrix.shape"
   ]
  },
  {
   "cell_type": "code",
   "execution_count": 40,
   "metadata": {},
   "outputs": [
    {
     "name": "stdout",
     "output_type": "stream",
     "text": [
      "['israel', 'vacant', 'rental', 'israeli', 'deed', 'rockstar', 'tutorial', 'jerusalem', 'videos', 'now']\n",
      "['mi', 'nike', 'amigo', 'gracias', 'wmt', 'fl', 'tweep', 'dks', 'prev', 'bc']\n",
      "['opec', 'crude', 'output', 'bbg', 'saudi', 'blackstone', 'prev', 'exp', 'vix', 'ecb']\n",
      "['spx', 'rec', 'ish', 'vix', 'vol', 'qqq', 'bearish', 'tsla', 'tx', 'etf']\n",
      "['titans', 'tools', 'techcrunch', 'resolute', 'dogpatch', 'entrepreneurs', 'labs', 'ferriss', 'ventures', 'sfo']\n",
      "['gbpusd', 'eurusd', 'usdjpy', 'eurgbp', 'usdcad', 'sustainability', 'esg', 'eurchf', 'audusd', 'dashboard']\n"
     ]
    }
   ],
   "source": [
    "words_in_topics = []\n",
    "for i in range(n_topics):\n",
    "    topic = topic_word_matrix[i, :]\n",
    "    importance = -np.sort(-topic)[:10]\n",
    "    word_indices = (-topic).argsort()[:10]\n",
    "    print([word_list[word_index] for word_index in word_indices])\n",
    "    #print(importance)\n",
    "    words_in_topics.append([word_list[word_index] for word_index in word_indices])"
   ]
  },
  {
   "cell_type": "code",
   "execution_count": null,
   "metadata": {
    "collapsed": true
   },
   "outputs": [],
   "source": [
    "word_index = word_list.index('nolan')\n",
    "for i in range(143):\n",
    "    if(X[i, word_index]) > 0:\n",
    "        print([user_list[i], X[i, word_index]])"
   ]
  },
  {
   "cell_type": "code",
   "execution_count": 65,
   "metadata": {
    "collapsed": true
   },
   "outputs": [],
   "source": [
    "ns_clusters = np.arange(2, 20, 1)"
   ]
  },
  {
   "cell_type": "code",
   "execution_count": 66,
   "metadata": {
    "collapsed": true
   },
   "outputs": [],
   "source": [
    "inertias = kmeans_inertias(ns_clusters, investor_topic_matrix) \n",
    "Sil_coefs = kmeans_Sil_coefs(ns_clusters, investor_topic_matrix)"
   ]
  },
  {
   "cell_type": "code",
   "execution_count": 67,
   "metadata": {},
   "outputs": [
    {
     "data": {
      "image/png": "[encoded data removed]",
      "text/plain": [
       "<matplotlib.figure.Figure at 0x7fdcf1859438>"
      ]
     },
     "metadata": {},
     "output_type": "display_data"
    }
   ],
   "source": [
    "plt.plot(ns_clusters, inertias)\n",
    "plt.xlabel('n_cluster')\n",
    "plt.ylabel('inertia');"
   ]
  },
  {
   "cell_type": "code",
   "execution_count": 68,
   "metadata": {},
   "outputs": [
    {
     "data": {
      "image/png": "[encoded data removed]",
      "text/plain": [
       "<matplotlib.figure.Figure at 0x7fdcef17e208>"
      ]
     },
     "metadata": {},
     "output_type": "display_data"
    }
   ],
   "source": [
    "plt.plot(ns_clusters, Sil_coefs)\n",
    "plt.xlabel('n_cluster')\n",
    "plt.ylabel('Sihouette score');"
   ]
  },
  {
   "cell_type": "code",
   "execution_count": 59,
   "metadata": {
    "collapsed": true
   },
   "outputs": [],
   "source": [
    "n = 8\n",
    "kmeans = KMeans(n_clusters=n, random_state=random_state).fit(investor_topic_matrix)"
   ]
  },
  {
   "cell_type": "code",
   "execution_count": 60,
   "metadata": {
    "collapsed": true
   },
   "outputs": [],
   "source": [
    "pred_cluster = kmeans.fit_predict(investor_topic_matrix)"
   ]
  },
  {
   "cell_type": "code",
   "execution_count": 61,
   "metadata": {
    "collapsed": true
   },
   "outputs": [],
   "source": [
    "user_cluster = make_user_cluster_dataframe(pred_cluster)"
   ]
  },
  {
   "cell_type": "code",
   "execution_count": 62,
   "metadata": {
    "collapsed": true
   },
   "outputs": [],
   "source": [
    "hover_text = make_hover_text(pred_cluster=pred_cluster, user_list = user_list)"
   ]
  },
  {
   "cell_type": "code",
   "execution_count": 63,
   "metadata": {
    "collapsed": true
   },
   "outputs": [],
   "source": [
    "from collections import Counter"
   ]
  },
  {
   "cell_type": "code",
   "execution_count": 64,
   "metadata": {},
   "outputs": [
    {
     "data": {
      "text/plain": [
       "Counter({0: 76, 1: 14, 2: 16, 3: 16, 4: 13, 5: 4, 6: 1, 7: 3})"
      ]
     },
     "execution_count": 64,
     "metadata": {},
     "output_type": "execute_result"
    }
   ],
   "source": [
    "Counter(pred_cluster)"
   ]
  },
  {
   "cell_type": "code",
   "execution_count": 99,
   "metadata": {},
   "outputs": [
    {
     "name": "stdout",
     "output_type": "stream",
     "text": [
      "High five! You successfuly sent some data to your account on plotly. View your plot in your browser at https://plot.ly/~tongwu21/0 or inside your plot.ly account where it is named '3d-scatter-colorscale'\n"
     ]
    },
    {
     "data": {
      "text/html": [
       "<iframe id=\"igraph\" scrolling=\"no\" style=\"border:none;\" seamless=\"seamless\" src=\"https://plot.ly/~tongwu21/0.embed\" height=\"525px\" width=\"100%\"></iframe>"
      ],
      "text/plain": [
       "<plotly.tools.PlotlyDisplay object>"
      ]
     },
     "execution_count": 99,
     "metadata": {},
     "output_type": "execute_result"
    }
   ],
   "source": [
    "data, layout = plot_3D(investor_topic_matrix, hover_text, user_cluster.cluster)\n",
    "fig = go.Figure(data = data, layout = layout)\n",
    "py.iplot(fig, filename='3d-scatter-colorscale')"
   ]
  },
  {
   "cell_type": "code",
   "execution_count": 69,
   "metadata": {
    "collapsed": true
   },
   "outputs": [],
   "source": [
    "ns_topics = np.arange(3, 10, 1)\n",
    "ns_clusters = np.arange(3, 15, 1)"
   ]
  },
  {
   "cell_type": "code",
   "execution_count": 70,
   "metadata": {
    "collapsed": true
   },
   "outputs": [],
   "source": [
    "all_inertias = []\n",
    "all_Sil_coefs = []\n",
    "for n_topics in ns_topics:\n",
    "    lda_model = LatentDirichletAllocation(n_topics=n_topics, max_iter=10, learning_method='online',                \n",
    "                                learning_offset=50, random_state=random_state)\n",
    "    W = lda_model.fit_transform(X)\n",
    "    H = lda_model.components_\n",
    "    all_inertias.append(kmeans_inertias(ns_clusters, W))\n",
    "    all_Sil_coefs.append(kmeans_Sil_coefs(ns_clusters, W))"
   ]
  },
  {
   "cell_type": "code",
   "execution_count": 71,
   "metadata": {},
   "outputs": [
    {
     "data": {
      "image/png": "[encoded data removed]",
      "text/plain": [
       "<matplotlib.figure.Figure at 0x7fdcef0f4278>"
      ]
     },
     "metadata": {},
     "output_type": "display_data"
    }
   ],
   "source": [
    "n = 3\n",
    "for inertias in all_inertias:\n",
    "    plt.plot(ns_clusters, inertias, label = str(n))\n",
    "    n += 1\n",
    "plt.legend(loc='upper right')\n",
    "plt.xlabel('n_cluster')\n",
    "plt.ylabel('inertia');"
   ]
  },
  {
   "cell_type": "code",
   "execution_count": 72,
   "metadata": {},
   "outputs": [
    {
     "data": {
      "image/png": "[encoded data removed]",
      "text/plain": [
       "<matplotlib.figure.Figure at 0x7fdcef176b00>"
      ]
     },
     "metadata": {},
     "output_type": "display_data"
    }
   ],
   "source": [
    "n = 3\n",
    "for Sil_coefs in all_Sil_coefs:\n",
    "    plt.plot(ns_clusters, Sil_coefs, label = str(n))\n",
    "    n += 1\n",
    "plt.legend(loc='upper right')\n",
    "plt.xlabel('n_cluster')\n",
    "plt.ylabel('Sihouette score');"
   ]
  },
  {
   "cell_type": "code",
   "execution_count": 105,
   "metadata": {},
   "outputs": [
    {
     "data": {
      "text/plain": [
       "(3, 23742)"
      ]
     },
     "execution_count": 105,
     "metadata": {},
     "output_type": "execute_result"
    }
   ],
   "source": [
    "topic_word_matrix.shape"
   ]
  },
  {
   "cell_type": "code",
   "execution_count": 111,
   "metadata": {
    "collapsed": true
   },
   "outputs": [],
   "source": [
    "n_topics = 7\n",
    "lda_model = LatentDirichletAllocation(n_topics=n_topics, max_iter=20, learning_method='online',                \n",
    "                                learning_offset=50, random_state=random_state)"
   ]
  },
  {
   "cell_type": "code",
   "execution_count": 112,
   "metadata": {
    "collapsed": true
   },
   "outputs": [],
   "source": [
    "W = lda_model.fit_transform(X)"
   ]
  },
  {
   "cell_type": "code",
   "execution_count": 113,
   "metadata": {
    "collapsed": true
   },
   "outputs": [],
   "source": [
    "investor_topic_matrix = W"
   ]
  },
  {
   "cell_type": "code",
   "execution_count": 114,
   "metadata": {
    "collapsed": true
   },
   "outputs": [],
   "source": [
    "topic_word_matrix = lda_model.components_"
   ]
  },
  {
   "cell_type": "code",
   "execution_count": 126,
   "metadata": {
    "collapsed": true
   },
   "outputs": [],
   "source": [
    "n = 6\n",
    "kmeans = KMeans(n_clusters=n, random_state=random_state).fit(investor_topic_matrix)"
   ]
  },
  {
   "cell_type": "code",
   "execution_count": 127,
   "metadata": {
    "collapsed": true
   },
   "outputs": [],
   "source": [
    "pred_cluster = kmeans.fit_predict(investor_topic_matrix)"
   ]
  },
  {
   "cell_type": "code",
   "execution_count": 128,
   "metadata": {
    "collapsed": true
   },
   "outputs": [],
   "source": [
    "user_cluster = make_user_cluster_dataframe(pred_cluster)"
   ]
  },
  {
   "cell_type": "code",
   "execution_count": 129,
   "metadata": {
    "collapsed": true
   },
   "outputs": [],
   "source": [
    "from collections import Counter"
   ]
  },
  {
   "cell_type": "code",
   "execution_count": 130,
   "metadata": {},
   "outputs": [
    {
     "data": {
      "text/plain": [
       "Counter({0: 85, 1: 19, 2: 13, 3: 8, 4: 3, 5: 15})"
      ]
     },
     "execution_count": 130,
     "metadata": {},
     "output_type": "execute_result"
    }
   ],
   "source": [
    "Counter(pred_cluster)"
   ]
  },
  {
   "cell_type": "code",
   "execution_count": 106,
   "metadata": {
    "collapsed": true
   },
   "outputs": [],
   "source": [
    "def find_words_in_topics(n_topics):\n",
    "    lda_model = LatentDirichletAllocation(n_topics=n_topics, max_iter=10, learning_method='online',                \n",
    "                                learning_offset=50, random_state=random_state)\n",
    "    investor_topic_matrix = lda_model.fit_transform(X)\n",
    "    topic_word_matrix = lda_model.components_\n",
    "    words_in_topics = []\n",
    "    for i in range(n_topics):\n",
    "        topic = topic_word_matrix[i, :]\n",
    "        importance = -np.sort(-topic)[:10]\n",
    "        word_indices = (-topic).argsort()[:10]\n",
    "        #print([word_list[word_index] for word_index in word_indices])\n",
    "        #print(importance)\n",
    "        words_in_topics.append([word_list[word_index] for word_index in word_indices])\n",
    "    return words_in_topics"
   ]
  },
  {
   "cell_type": "code",
   "execution_count": 108,
   "metadata": {},
   "outputs": [
    {
     "name": "stdout",
     "output_type": "stream",
     "text": [
      "3 topics:\n",
      "['opec', 'crude', 'output', 'vix', 'usd', 'bbg', 'fx', 'saudi', 'blackstone', 'exp']\n",
      "['spx', 'rec', 'ish', 'vix', 'vol', 'qqq', 'tsla', 'tx', 'bearish', 'nflx']\n",
      "['titans', 'tools', 'entrepreneurs', 'tenant', 'landlord', 'rental', 'ferriss', 'medicine', 'techcrunch', 'nasa']\n",
      "4 topics:\n",
      "['opec', 'crude', 'vix', 'output', 'usd', 'saudi', 'fx', 'bbg', 'blackstone', 'exp']\n",
      "['spx', 'rec', 'ish', 'vix', 'vol', 'qqq', 'tsla', 'tx', 'nflx', 'bearish']\n",
      "['titans', 'tools', 'entrepreneurs', 'tenant', 'landlord', 'dia', 'haha', 'rental', 'ferriss', 'medicine']\n",
      "['nolan', 'mi', 'nike', 'fda', 'ph', 'raleigh', 'nc', 'mrk', 'bmy', 'stories']\n",
      "5 topics:\n",
      "['opec', 'crude', 'vix', 'output', 'usd', 'fx', 'bbg', 'saudi', 'exp', 'prev']\n",
      "['spx', 'rec', 'ish', 'vix', 'vol', 'tx', 'tsla', 'nflx', 'wks', 'bearish']\n",
      "['titans', 'tools', 'tenant', 'landlord', 'ferriss', 'rental', 'diet', 'robbins', 'goody', 'bullet']\n",
      "['fda', 'ph', 'mrk', 'bmy', 'gild', 'amgn', 'abbv', 'combo', 'azn', 'vrx']\n",
      "['qqq', 'dia', 'blackstone', 'haha', 'techcrunch', 'resolute', 'dogpatch', 'entrepreneurs', 'labs', 'nike']\n",
      "6 topics:\n",
      "['opec', 'crude', 'output', 'vix', 'usd', 'bbg', 'saudi', 'fx', 'exp', 'prev']\n",
      "['spx', 'rec', 'ish', 'vix', 'vol', 'tx', 'tsla', 'nflx', 'bearish', 'wks']\n",
      "['tenant', 'landlord', 'rental', 'mish', 'iwm', 'iyt', 'laws', 'dia', 'xrt', 'qqq']\n",
      "['spx', 'nolan', 'vix', 'trendline', 'wk', 'etf', 'crude', 'chotd', 'ph', 'haha']\n",
      "['qqq', 'dia', 'haha', 'tools', 'titans', 'entrepreneurs', 'techcrunch', 'resolute', 'dogpatch', 'labs']\n",
      "['fda', 'ph', 'mrk', 'bmy', 'gild', 'amgn', 'abbv', 'combo', 'azn', 'vrx']\n",
      "7 topics:\n",
      "['blackstone', 'fx', 'usd', 'bearish', 'wheat', 'eurusd', 'gbpusd', 'ecb', 'breadth', 'vix']\n",
      "['spx', 'rec', 'ish', 'vix', 'vol', 'tx', 'tsla', 'nflx', 'wks', 'bearish']\n",
      "['titans', 'tenant', 'tools', 'landlord', 'ferriss', 'rental', 'diet', 'robbins', 'goody', 'bullet']\n",
      "['spx', 'nolan', 'vix', 'trendline', 'etf', 'wk', 'chotd', 'crude', 'haha', 'consecutive']\n",
      "['qqq', 'dia', 'haha', 'techcrunch', 'resolute', 'dogpatch', 'entrepreneurs', 'labs', 'nike', 'mi']\n",
      "['fx', 'usd', 'eurusd', 'fda', 'dax', 'gbpusd', 'mgt', 'spx', 'saas', 'wk']\n",
      "['opec', 'crude', 'output', 'saudi', 'bbg', 'prev', 'exp', 'vix', 'barrel', 'venezuela']\n",
      "8 topics:\n",
      "['usd', 'fx', 'exp', 'bbg', 'vix', 'ecb', 'bearish', 'eurusd', 'crude', 'wheat']\n",
      "['spx', 'rec', 'ish', 'vix', 'vol', 'tx', 'tsla', 'nflx', 'wks', 'bearish']\n",
      "['feld', 'thoughts', 'dia', 'brad', 'qqq', 'haha', 'boulder', 'techstars', 'iwm', 'entrepreneurs']\n",
      "['nolan', 'spx', 'vix', 'trendline', 'etf', 'chotd', 'wk', 'stories', 'consecutive', 'haha']\n",
      "['qqq', 'dia', 'blackstone', 'haha', 'techcrunch', 'resolute', 'dogpatch', 'entrepreneurs', 'labs', 'nike']\n",
      "['fx', 'usd', 'eurusd', 'dax', 'ro', 'gbpusd', 'opec', 'spx', 'ftse', 'wk']\n",
      "['opec', 'crude', 'prev', 'output', 'saudi', 'barrel', 'arabia', 'jul', 'vix', 'fda']\n",
      "['titans', 'tenant', 'tools', 'landlord', 'ferriss', 'rental', 'robbins', 'diet', 'goody', 'bullet']\n",
      "9 topics:\n",
      "['blackstone', 'bx', 'schwarzman', 'byron', 'wien', 'webcast', 'elevate', 'launchpad', 'announces', 'replay']\n",
      "['spx', 'rec', 'vix', 'tx', 'wks', 'ndx', 'etf', 'houston', 'tlt', 'wk']\n",
      "['dia', 'qqq', 'iwm', 'haha', 'iyt', 'mish', 'gld', 'vix', 'entrepreneurs', 'xrt']\n",
      "['nolan', 'spx', 'trendline', 'vix', 'chotd', 'etf', 'wk', 'stories', 'nasa', 'qqq']\n",
      "['spx', 'ish', 'vol', 'qqq', 'tsla', 'nflx', 'dia', 'haha', 'sma', 'pcln']\n",
      "['usd', 'fx', 'saas', 'eurozone', 'eurusd', 'dax', 'spx', 'opec', 'fda', 'yoy']\n",
      "['prev', 'jul', 'fda', 'ph', 'rtrs', 'jun', 'rev', 'pct', 'bln', 'mrk']\n",
      "['tenant', 'landlord', 'rental', 'laws', 'lucas', 'lease', 'cozy', 'landlords', 'tenants', 'renter']\n",
      "['opec', 'crude', 'vix', 'usd', 'output', 'saudi', 'fx', 'bbg', 'exp', 'ecb']\n",
      "10 topics:\n",
      "['blackstone', 'bx', 'schwarzman', 'byron', 'wien', 'webcast', 'elevate', 'launchpad', 'announces', 'replay']\n",
      "['spx', 'rec', 'vix', 'tx', 'wks', 'ndx', 'etf', 'tlt', 'houston', 'wk']\n",
      "['qqq', 'iwm', 'entrepreneurs', 'dia', 'vix', 'iyt', 'landlord', 'haha', 'gld', 'ecb']\n",
      "['nolan', 'spx', 'trendline', 'vix', 'chotd', 'etf', 'stories', 'wk', 'qqq', 'nasa']\n",
      "['spx', 'ish', 'vol', 'qqq', 'tsla', 'dia', 'nflx', 'haha', 'sma', 'pcln']\n",
      "['fx', 'usd', 'saas', 'eurozone', 'dax', 'fda', 'ro', 'yoy', 'spx', 'ftse']\n",
      "['fda', 'ph', 'mrk', 'bmy', 'gild', 'amgn', 'abbv', 'azn', 'vrx', 'combo']\n",
      "['tenant', 'landlord', 'rental', 'laws', 'lucas', 'lease', 'cozy', 'multifamily', 'apartment', 'landlords']\n",
      "['opec', 'crude', 'output', 'fx', 'usd', 'saudi', 'barrel', 'vix', 'bearish', 'etf']\n",
      "['prev', 'exp', 'bbg', 'eurusd', 'usdjpy', 'rtrs', 'gbpusd', 'vix', 'eps', 'ecb']\n"
     ]
    }
   ],
   "source": [
    "ns_topics = np.arange(3, 11, 1)\n",
    "words_in_topics_for_n_topics = []\n",
    "for n_topics in ns_topics:\n",
    "    print('{} topics:'.format(n_topics))\n",
    "    words_in_topics = find_words_in_topics(n_topics)\n",
    "    words_in_topics_for_n_topics.append(words_in_topics)\n",
    "    for words_in_topic in words_in_topics:\n",
    "        print(words_in_topic)"
   ]
  },
  {
   "cell_type": "markdown",
   "metadata": {},
   "source": [
    "## SVD"
   ]
  },
  {
   "cell_type": "code",
   "execution_count": 276,
   "metadata": {
    "collapsed": true
   },
   "outputs": [],
   "source": [
    "svd = TruncatedSVD(n_components=100, n_iter=7, random_state=random_state)\n",
    "svd.fit(X)\n",
    "X_reduced = svd.transform(X)"
   ]
  },
  {
   "cell_type": "code",
   "execution_count": 277,
   "metadata": {
    "collapsed": true
   },
   "outputs": [],
   "source": [
    "explained_variance_ratio = svd.explained_variance_ratio_"
   ]
  },
  {
   "cell_type": "code",
   "execution_count": 278,
   "metadata": {},
   "outputs": [
    {
     "name": "stdout",
     "output_type": "stream",
     "text": [
      "72\n"
     ]
    }
   ],
   "source": [
    "sum_ratio = 0\n",
    "for index, ratio in enumerate(explained_variance_ratio):\n",
    "    sum_ratio += ratio\n",
    "    if sum_ratio > 0.95:\n",
    "        print(index)\n",
    "        break"
   ]
  },
  {
   "cell_type": "code",
   "execution_count": 281,
   "metadata": {},
   "outputs": [
    {
     "name": "stdout",
     "output_type": "stream",
     "text": [
      "[ 0.07806488  0.1232592   0.06741092]\n"
     ]
    }
   ],
   "source": [
    "svd_3 = TruncatedSVD(n_components=3, n_iter=7, random_state=random_state)\n",
    "svd_3.fit(X)\n",
    "X_reduced_3 = svd_3.transform(X)\n",
    "print(svd_3.explained_variance_ratio_) "
   ]
  },
  {
   "cell_type": "code",
   "execution_count": 282,
   "metadata": {
    "collapsed": true
   },
   "outputs": [],
   "source": [
    "components = svd_3.components_"
   ]
  },
  {
   "cell_type": "code",
   "execution_count": 283,
   "metadata": {},
   "outputs": [
    {
     "data": {
      "text/plain": [
       "(3, 74004)"
      ]
     },
     "execution_count": 283,
     "metadata": {},
     "output_type": "execute_result"
    }
   ],
   "source": [
    "components.shape"
   ]
  },
  {
   "cell_type": "code",
   "execution_count": 284,
   "metadata": {
    "collapsed": true
   },
   "outputs": [],
   "source": [
    "words_in_component = []\n",
    "for component in components:\n",
    "    word_indices = (-component).argsort()[:10]\n",
    "    words_in_component.append([word_list[word_index] for word_index in word_indices])"
   ]
  },
  {
   "cell_type": "code",
   "execution_count": 285,
   "metadata": {},
   "outputs": [
    {
     "name": "stdout",
     "output_type": "stream",
     "text": [
      "['be', 'not', 'good', 'new', 'thank', 'day', 'time', 'great', 'year', 'like']\n",
      "['spy', 'market', 'high', 'stock', 'post', 'spx', 'day', 'low', 'new', 'chart']\n",
      "['new', 'post', 'thank', 'great', 'spy', 'startup', 'blog', 'business', 'entrepreneur', 'company']\n"
     ]
    }
   ],
   "source": [
    "for component in words_in_component:\n",
    "    print(component)"
   ]
  },
  {
   "cell_type": "code",
   "execution_count": 286,
   "metadata": {
    "collapsed": true
   },
   "outputs": [],
   "source": [
    "distinct_words_in_component = []\n",
    "for index, wic in enumerate(words_in_component):\n",
    "    other_components_union_1 = set().union(*words_in_component[0:index])\n",
    "    other_components_union_2 = set().union(*words_in_component[(index+1):])\n",
    "    other_components_union = other_components_union_1.union(other_components_union_2)\n",
    "    distinct_words_in_component.append(set(wic).difference(other_components_union))"
   ]
  },
  {
   "cell_type": "code",
   "execution_count": 287,
   "metadata": {},
   "outputs": [
    {
     "name": "stdout",
     "output_type": "stream",
     "text": [
      "[{'good', 'year', 'like', 'be', 'not', 'time'}, {'chart', 'spx', 'high', 'low', 'market', 'stock'}, {'company', 'startup', 'blog', 'entrepreneur', 'business'}]\n"
     ]
    }
   ],
   "source": [
    "print(distinct_words_in_component)"
   ]
  },
  {
   "cell_type": "code",
   "execution_count": 288,
   "metadata": {},
   "outputs": [
    {
     "name": "stdout",
     "output_type": "stream",
     "text": [
      "0.268734994204\n"
     ]
    }
   ],
   "source": [
    "print(np.sum(svd_3.explained_variance_ratio_))"
   ]
  },
  {
   "cell_type": "code",
   "execution_count": 289,
   "metadata": {
    "collapsed": true
   },
   "outputs": [],
   "source": [
    "ns_clusters = np.arange(2, 20, 1)"
   ]
  },
  {
   "cell_type": "code",
   "execution_count": 290,
   "metadata": {
    "collapsed": true
   },
   "outputs": [],
   "source": [
    "inertias = kmeans_inertias(ns_clusters, X_reduced_3) \n",
    "Sil_coefs = kmeans_Sil_coefs(ns_clusters, X_reduced_3)"
   ]
  },
  {
   "cell_type": "code",
   "execution_count": 291,
   "metadata": {},
   "outputs": [
    {
     "data": {
      "image/png": "[encoded data removed]",
      "text/plain": [
       "<matplotlib.figure.Figure at 0x7f6194e48828>"
      ]
     },
     "metadata": {},
     "output_type": "display_data"
    }
   ],
   "source": [
    "plt.plot(ns_clusters, inertias)\n",
    "plt.xlabel('n_cluster')\n",
    "plt.ylabel('inertia');"
   ]
  },
  {
   "cell_type": "code",
   "execution_count": 292,
   "metadata": {},
   "outputs": [
    {
     "data": {
      "image/png": "[encoded data removed]",
      "text/plain": [
       "<matplotlib.figure.Figure at 0x7f6194db8e48>"
      ]
     },
     "metadata": {},
     "output_type": "display_data"
    }
   ],
   "source": [
    "plt.plot(ns_clusters, Sil_coefs)\n",
    "plt.xlabel('n_cluster')\n",
    "plt.ylabel('Sihouette score');"
   ]
  },
  {
   "cell_type": "code",
   "execution_count": 293,
   "metadata": {
    "collapsed": true
   },
   "outputs": [],
   "source": [
    "n = 6\n",
    "kmeans = KMeans(n_clusters=n, random_state=random_state).fit(X_reduced_3)"
   ]
  },
  {
   "cell_type": "code",
   "execution_count": 294,
   "metadata": {
    "collapsed": true
   },
   "outputs": [],
   "source": [
    "pred_cluster = kmeans.fit_predict(X_reduced_3)"
   ]
  },
  {
   "cell_type": "code",
   "execution_count": 295,
   "metadata": {
    "collapsed": true
   },
   "outputs": [],
   "source": [
    "user_cluster = make_user_cluster_dataframe(pred_cluster)"
   ]
  },
  {
   "cell_type": "code",
   "execution_count": 296,
   "metadata": {
    "collapsed": true
   },
   "outputs": [],
   "source": [
    "hover_text = make_hover_text(pred_cluster=pred_cluster, user_list = user_list)"
   ]
  },
  {
   "cell_type": "code",
   "execution_count": 297,
   "metadata": {},
   "outputs": [
    {
     "name": "stdout",
     "output_type": "stream",
     "text": [
      "High five! You successfuly sent some data to your account on plotly. View your plot in your browser at https://plot.ly/~tongwu21/0 or inside your plot.ly account where it is named '3d-scatter-colorscale'\n"
     ]
    },
    {
     "data": {
      "text/html": [
       "<iframe id=\"igraph\" scrolling=\"no\" style=\"border:none;\" seamless=\"seamless\" src=\"https://plot.ly/~tongwu21/0.embed\" height=\"525px\" width=\"100%\"></iframe>"
      ],
      "text/plain": [
       "<plotly.tools.PlotlyDisplay object>"
      ]
     },
     "execution_count": 297,
     "metadata": {},
     "output_type": "execute_result"
    }
   ],
   "source": [
    "data, layout = plot_3D(X_reduced_3, hover_text, user_cluster.cluster)\n",
    "fig = go.Figure(data = data, layout = layout)\n",
    "py.iplot(fig, filename='3d-scatter-colorscale')"
   ]
  },
  {
   "cell_type": "markdown",
   "metadata": {
    "collapsed": true
   },
   "source": [
    "## NMF"
   ]
  },
  {
   "cell_type": "code",
   "execution_count": 182,
   "metadata": {},
   "outputs": [
    {
     "data": {
      "text/plain": [
       "(143, 74004)"
      ]
     },
     "execution_count": 182,
     "metadata": {},
     "output_type": "execute_result"
    }
   ],
   "source": [
    "X.shape"
   ]
  },
  {
   "cell_type": "code",
   "execution_count": 183,
   "metadata": {
    "collapsed": true
   },
   "outputs": [],
   "source": [
    "n_components = 3"
   ]
  },
  {
   "cell_type": "code",
   "execution_count": null,
   "metadata": {
    "collapsed": true
   },
   "outputs": [],
   "source": [
    "nmf_model = NMF(n_components=n_components, init='random', random_state=random_state)\n",
    "W_3 = nmf_model.fit_transform(X.transpose());\n",
    "H_3 = nmf_model.components_;"
   ]
  },
  {
   "cell_type": "code",
   "execution_count": 187,
   "metadata": {},
   "outputs": [
    {
     "data": {
      "text/plain": [
       "(74004, 3)"
      ]
     },
     "execution_count": 187,
     "metadata": {},
     "output_type": "execute_result"
    }
   ],
   "source": [
    "W_3.shape"
   ]
  },
  {
   "cell_type": "code",
   "execution_count": 188,
   "metadata": {},
   "outputs": [
    {
     "data": {
      "text/plain": [
       "(3, 143)"
      ]
     },
     "execution_count": 188,
     "metadata": {},
     "output_type": "execute_result"
    }
   ],
   "source": [
    "H_3.shape"
   ]
  },
  {
   "cell_type": "code",
   "execution_count": 192,
   "metadata": {
    "collapsed": true
   },
   "outputs": [],
   "source": [
    "X_nmf_3 = H_3.transpose()"
   ]
  },
  {
   "cell_type": "code",
   "execution_count": 189,
   "metadata": {},
   "outputs": [
    {
     "name": "stdout",
     "output_type": "stream",
     "text": [
      "['be', 'not', 'good', 'thank', 'great', 'like', 'new', 'think', 'time', 'know']\n",
      "['post', 'new', 'spy', 'market', 'blog', 'stock', 'thank', 'spx', 'day', 'great']\n",
      "['high', 'market', 'day', 'low', 'year', 'week', 'time', 'stock', 'price', 'today']\n"
     ]
    }
   ],
   "source": [
    "words_in_topics = []\n",
    "for i in range(n_components):\n",
    "    topic = W_3[:, i]\n",
    "    word_indices = (-topic).argsort()[:10]\n",
    "    print([word_list[word_index] for word_index in word_indices])\n",
    "    words_in_topics.append([word_list[word_index] for word_index in word_indices])"
   ]
  },
  {
   "cell_type": "code",
   "execution_count": 190,
   "metadata": {},
   "outputs": [
    {
     "name": "stdout",
     "output_type": "stream",
     "text": [
      "[ 0.37975702  0.          0.7259893 ]\n"
     ]
    }
   ],
   "source": [
    "print(H_3[:, 0])"
   ]
  },
  {
   "cell_type": "code",
   "execution_count": 37,
   "metadata": {
    "collapsed": true
   },
   "outputs": [],
   "source": [
    "ns_clusters = np.arange(2, 20, 1)"
   ]
  },
  {
   "cell_type": "code",
   "execution_count": 193,
   "metadata": {
    "collapsed": true
   },
   "outputs": [],
   "source": [
    "inertias = kmeans_inertias(ns_clusters, X_nmf_3) \n",
    "Sil_coefs = kmeans_Sil_coefs(ns_clusters, X_nmf_3)"
   ]
  },
  {
   "cell_type": "code",
   "execution_count": 194,
   "metadata": {},
   "outputs": [
    {
     "data": {
      "image/png": "[encoded data removed]",
      "text/plain": [
       "<matplotlib.figure.Figure at 0x7f782418b3c8>"
      ]
     },
     "metadata": {},
     "output_type": "display_data"
    }
   ],
   "source": [
    "plt.plot(ns_clusters, inertias)\n",
    "plt.xlabel('n_cluster')\n",
    "plt.ylabel('inertia');"
   ]
  },
  {
   "cell_type": "code",
   "execution_count": 195,
   "metadata": {
    "scrolled": true
   },
   "outputs": [
    {
     "data": {
      "image/png": "[encoded data removed]",
      "text/plain": [
       "<matplotlib.figure.Figure at 0x7f78241b39b0>"
      ]
     },
     "metadata": {},
     "output_type": "display_data"
    }
   ],
   "source": [
    "plt.plot(ns_clusters, Sil_coefs)\n",
    "plt.xlabel('n_cluster')\n",
    "plt.ylabel('Sihouette score');"
   ]
  },
  {
   "cell_type": "code",
   "execution_count": 202,
   "metadata": {
    "collapsed": true
   },
   "outputs": [],
   "source": [
    "n = 4\n",
    "kmeans = KMeans(n_clusters=n, random_state=random_state).fit(X_nmf_3)"
   ]
  },
  {
   "cell_type": "code",
   "execution_count": 203,
   "metadata": {
    "collapsed": true
   },
   "outputs": [],
   "source": [
    "pred_cluster = kmeans.fit_predict(X_nmf_3)"
   ]
  },
  {
   "cell_type": "code",
   "execution_count": 204,
   "metadata": {
    "collapsed": true
   },
   "outputs": [],
   "source": [
    "user_cluster = make_user_cluster_dataframe(pred_cluster)"
   ]
  },
  {
   "cell_type": "code",
   "execution_count": 210,
   "metadata": {
    "collapsed": true
   },
   "outputs": [],
   "source": [
    "hover_text = make_hover_text(pred_cluster=pred_cluster, user_list = user_list)"
   ]
  },
  {
   "cell_type": "code",
   "execution_count": 211,
   "metadata": {},
   "outputs": [
    {
     "name": "stdout",
     "output_type": "stream",
     "text": [
      "High five! You successfuly sent some data to your account on plotly. View your plot in your browser at https://plot.ly/~tongwu21/0 or inside your plot.ly account where it is named '3d-scatter-colorscale'\n"
     ]
    },
    {
     "data": {
      "text/html": [
       "<iframe id=\"igraph\" scrolling=\"no\" style=\"border:none;\" seamless=\"seamless\" src=\"https://plot.ly/~tongwu21/0.embed\" height=\"525px\" width=\"100%\"></iframe>"
      ],
      "text/plain": [
       "<plotly.tools.PlotlyDisplay object>"
      ]
     },
     "execution_count": 211,
     "metadata": {},
     "output_type": "execute_result"
    }
   ],
   "source": [
    "data, layout = plot_3D(X_nmf_3, hover_text, user_cluster.cluster)\n",
    "fig = go.Figure(data = data, layout = layout)\n",
    "py.iplot(fig, filename='3d-scatter-colorscale')"
   ]
  },
  {
   "cell_type": "markdown",
   "metadata": {
    "collapsed": true
   },
   "source": [
    "## LDA"
   ]
  },
  {
   "cell_type": "code",
   "execution_count": 12,
   "metadata": {},
   "outputs": [
    {
     "data": {
      "text/plain": [
       "(143, 74004)"
      ]
     },
     "execution_count": 12,
     "metadata": {},
     "output_type": "execute_result"
    }
   ],
   "source": [
    "X.shape"
   ]
  },
  {
   "cell_type": "code",
   "execution_count": 21,
   "metadata": {
    "collapsed": true
   },
   "outputs": [],
   "source": [
    "n_topics = 3\n",
    "lda_model = LatentDirichletAllocation(n_topics=n_topics, max_iter=10, learning_method='online',                \n",
    "                                learning_offset=50, random_state=random_state)"
   ]
  },
  {
   "cell_type": "code",
   "execution_count": 22,
   "metadata": {
    "collapsed": true
   },
   "outputs": [],
   "source": [
    "W = lda_model.fit_transform(X.transpose());"
   ]
  },
  {
   "cell_type": "code",
   "execution_count": 22,
   "metadata": {
    "collapsed": true
   },
   "outputs": [],
   "source": [
    "H = lda_model.components_;"
   ]
  },
  {
   "cell_type": "code",
   "execution_count": 23,
   "metadata": {},
   "outputs": [
    {
     "data": {
      "text/plain": [
       "(74004, 3)"
      ]
     },
     "execution_count": 23,
     "metadata": {},
     "output_type": "execute_result"
    }
   ],
   "source": [
    "W.shape"
   ]
  },
  {
   "cell_type": "code",
   "execution_count": 24,
   "metadata": {},
   "outputs": [
    {
     "data": {
      "text/plain": [
       "(3, 143)"
      ]
     },
     "execution_count": 24,
     "metadata": {},
     "output_type": "execute_result"
    }
   ],
   "source": [
    "H.shape"
   ]
  },
  {
   "cell_type": "code",
   "execution_count": 25,
   "metadata": {
    "collapsed": true
   },
   "outputs": [],
   "source": [
    "H_lda_3 = H.transpose()"
   ]
  },
  {
   "cell_type": "code",
   "execution_count": 26,
   "metadata": {
    "collapsed": true
   },
   "outputs": [],
   "source": [
    "ns_clusters = np.arange(2, 20, 1)"
   ]
  },
  {
   "cell_type": "code",
   "execution_count": 27,
   "metadata": {
    "collapsed": true
   },
   "outputs": [],
   "source": [
    "inertias = kmeans_inertias(ns_clusters, H_lda_3) \n",
    "Sil_coefs = kmeans_Sil_coefs(ns_clusters, H_lda_3)"
   ]
  },
  {
   "cell_type": "code",
   "execution_count": 28,
   "metadata": {},
   "outputs": [
    {
     "data": {
      "image/png": "[encoded data removed]",
      "text/plain": [
       "<matplotlib.figure.Figure at 0x7f16634c5748>"
      ]
     },
     "metadata": {},
     "output_type": "display_data"
    }
   ],
   "source": [
    "plt.plot(ns_clusters, inertias)\n",
    "plt.xlabel('n_cluster')\n",
    "plt.ylabel('inertia');"
   ]
  },
  {
   "cell_type": "code",
   "execution_count": 29,
   "metadata": {},
   "outputs": [
    {
     "data": {
      "image/png": "[encoded data removed]",
      "text/plain": [
       "<matplotlib.figure.Figure at 0x7f166049ac88>"
      ]
     },
     "metadata": {},
     "output_type": "display_data"
    }
   ],
   "source": [
    "plt.plot(ns_clusters, Sil_coefs)\n",
    "plt.xlabel('n_cluster')\n",
    "plt.ylabel('Sihouette score');"
   ]
  },
  {
   "cell_type": "code",
   "execution_count": 30,
   "metadata": {
    "collapsed": true
   },
   "outputs": [],
   "source": [
    "n = 4\n",
    "kmeans = KMeans(n_clusters=n, random_state=random_state).fit(H_lda_3)"
   ]
  },
  {
   "cell_type": "code",
   "execution_count": 31,
   "metadata": {
    "collapsed": true
   },
   "outputs": [],
   "source": [
    "pred_cluster = kmeans.fit_predict(H_lda_3)"
   ]
  },
  {
   "cell_type": "code",
   "execution_count": 32,
   "metadata": {
    "collapsed": true
   },
   "outputs": [],
   "source": [
    "user_cluster = make_user_cluster_dataframe(pred_cluster)"
   ]
  },
  {
   "cell_type": "code",
   "execution_count": 33,
   "metadata": {
    "collapsed": true
   },
   "outputs": [],
   "source": [
    "hover_text = make_hover_text(pred_cluster=pred_cluster, user_list = user_list)"
   ]
  },
  {
   "cell_type": "code",
   "execution_count": 34,
   "metadata": {},
   "outputs": [
    {
     "name": "stdout",
     "output_type": "stream",
     "text": [
      "['gbp', 'robeco', 'schwarzman', 'rns', 'pboc', 'rba', 'labour', 'shale', 'blackstone', 'westpac']\n",
      "['entrepreneur', 'jf', 'marketing', 'startup', 'sf', 'tenant', 'landlord', 'vc', 'entrepreneurs', 'android']\n",
      "['spx', 'qqq', 'iwm', 'trendline', 'tlt', 'gld', 'es_f', 'chotd', 'mish', 'ibb']\n"
     ]
    }
   ],
   "source": [
    "words_in_topics = []\n",
    "for i in range(n_topics):\n",
    "    topic = W[:, i]\n",
    "    importance = -np.sort(-topic)[:10]\n",
    "    word_indices = (-topic).argsort()[:10]\n",
    "    print([word_list[word_index] for word_index in word_indices])\n",
    "    #print(importance)\n",
    "    words_in_topics.append([word_list[word_index] for word_index in word_indices])"
   ]
  },
  {
   "cell_type": "code",
   "execution_count": 35,
   "metadata": {},
   "outputs": [
    {
     "name": "stdout",
     "output_type": "stream",
     "text": [
      "High five! You successfuly sent some data to your account on plotly. View your plot in your browser at https://plot.ly/~tongwu21/0 or inside your plot.ly account where it is named '3d-scatter-colorscale'\n"
     ]
    },
    {
     "data": {
      "text/html": [
       "<iframe id=\"igraph\" scrolling=\"no\" style=\"border:none;\" seamless=\"seamless\" src=\"https://plot.ly/~tongwu21/0.embed\" height=\"525px\" width=\"100%\"></iframe>"
      ],
      "text/plain": [
       "<plotly.tools.PlotlyDisplay object>"
      ]
     },
     "execution_count": 35,
     "metadata": {},
     "output_type": "execute_result"
    }
   ],
   "source": [
    "data, layout = plot_3D(H_lda_3, hover_text, user_cluster.cluster)\n",
    "fig = go.Figure(data = data, layout = layout)\n",
    "py.iplot(fig, filename='3d-scatter-colorscale')"
   ]
  },
  {
   "cell_type": "code",
   "execution_count": 35,
   "metadata": {
    "collapsed": true
   },
   "outputs": [],
   "source": [
    "ns_topics = np.arange(3, 30, 3)\n",
    "ns_clusters = np.arange(4, 15, 1)"
   ]
  },
  {
   "cell_type": "code",
   "execution_count": 36,
   "metadata": {
    "collapsed": true
   },
   "outputs": [],
   "source": [
    "all_inertias = []\n",
    "all_Sil_coefs = []\n",
    "for n_topics in ns_topics:\n",
    "    lda_model = LatentDirichletAllocation(n_topics=n_topics, max_iter=10, learning_method='online',                \n",
    "                                learning_offset=50, random_state=random_state)\n",
    "    W = lda_model.fit_transform(X.transpose())\n",
    "    H = lda_model.components_\n",
    "    all_inertias.append(kmeans_inertias(ns_clusters, H.transpose()))\n",
    "    all_Sil_coefs.append(kmeans_Sil_coefs(ns_clusters, H.transpose()))"
   ]
  },
  {
   "cell_type": "code",
   "execution_count": 40,
   "metadata": {},
   "outputs": [
    {
     "data": {
      "image/png": "[encoded data removed]",
      "text/plain": [
       "<matplotlib.figure.Figure at 0x7f5cdf3566d8>"
      ]
     },
     "metadata": {},
     "output_type": "display_data"
    }
   ],
   "source": [
    "# n = 3\n",
    "# for inertias in all_inertias:\n",
    "#     plt.plot(ns_clusters, inertias, label = str(n))\n",
    "#     n += 3\n",
    "# plt.legend(loc='upper right')\n",
    "# plt.xlabel('n_cluster')\n",
    "# plt.ylabel('inertia');"
   ]
  },
  {
   "cell_type": "code",
   "execution_count": 42,
   "metadata": {},
   "outputs": [
    {
     "data": {
      "image/png": "[encoded data removed]",
      "text/plain": [
       "<matplotlib.figure.Figure at 0x7f5cdeb50c88>"
      ]
     },
     "metadata": {},
     "output_type": "display_data"
    }
   ],
   "source": [
    "# n = 3\n",
    "# for Sil_coefs in all_Sil_coefs:\n",
    "#     plt.plot(ns_clusters, Sil_coefs, label = str(n))\n",
    "#     n += 3\n",
    "# plt.legend(loc='upper right')\n",
    "# plt.xlabel('n_cluster')\n",
    "# plt.ylabel('Sihouette score');"
   ]
  },
  {
   "cell_type": "code",
   "execution_count": 52,
   "metadata": {
    "collapsed": true
   },
   "outputs": [],
   "source": [
    "def find_words_in_topics(n_topics):\n",
    "    lda_model = LatentDirichletAllocation(n_topics=n_topics, max_iter=10, learning_method='online',                \n",
    "                                learning_offset=50, random_state=random_state)\n",
    "    W = lda_model.fit_transform(X.transpose())\n",
    "    H = lda_model.components_\n",
    "    words_in_topics = []\n",
    "    for i in range(n_topics):\n",
    "        topic = W[:, i]\n",
    "        importance = -np.sort(-topic)[:10]\n",
    "        word_indices = (-topic).argsort()[:10]\n",
    "        #print([word_list[word_index] for word_index in word_indices])\n",
    "        #print(importance)\n",
    "        words_in_topics.append([word_list[word_index] for word_index in word_indices])\n",
    "    return words_in_topics"
   ]
  },
  {
   "cell_type": "code",
   "execution_count": 53,
   "metadata": {
    "scrolled": true
   },
   "outputs": [
    {
     "name": "stdout",
     "output_type": "stream",
     "text": [
      "3 topics:\n",
      "['gbp', 'robeco', 'schwarzman', 'rns', 'pboc', 'rba', 'labour', 'shale', 'blackstone', 'westpac']\n",
      "['entrepreneur', 'jf', 'marketing', 'startup', 'sf', 'tenant', 'landlord', 'vc', 'entrepreneurs', 'android']\n",
      "['spx', 'qqq', 'iwm', 'trendline', 'tlt', 'gld', 'es_f', 'chotd', 'mish', 'ibb']\n",
      "4 topics:\n",
      "['gavekal', 'robeco', 'rns', 'pboc', 'rba', 'labour', 'westpac', 'falih', 'cny', 'imm']\n",
      "['vc', 'android', 'nolan', 'startup', 'rsd', 'ios', 'feld', 'israel', 'startups', 'boulder']\n",
      "['iwm', 'trendline', 'gld', 'tlt', 'es_f', 'chotd', 'mish', 'ibb', 'iyt', 'xrt']\n",
      "['jf', 'recon', 'blackstone', 'lmax', 'dotzour', 'gaines', 'dailyvee', 'bx', 'schwarzman', 'multifamily']\n",
      "5 topics:\n",
      "['gbp', 'mib', 'gavekal', 'rns', 'apac', 'boe', 'pboc', 'rba', 'audusd', 'labour']\n",
      "['nolan', 'recon', 'rsd', 'feld', 'fuck', 'lucas', 'workout', 'ftw', 'vacant', 'jelly']\n",
      "['qqq', 'iwm', 'spx', 'trendline', 'tlt', 'gld', 'es_f', 'chotd', 'mish', 'xrt']\n",
      "['blackstone', 'dailyvee', 'scv', 'nextview', 'atlassian', 'glambition', 'wien', 'volition', 'vsco', 'monage']\n",
      "['jf', 'robeco', 'cornelissen', 'nejm', 'daalder', 'rlyp', 'adcom', 'opdivo', 'keytruda', 'tsro']\n",
      "6 topics:\n",
      "['rtrs', 'gavekal', 'rns', 'apac', 'pboc', 'labour', 'fx', 'bpd', 'westpac', 'falih']\n",
      "['android', 'rsd', 'ios', 'feld', 'israel', 'fuck', 'wifi', 'nba', 'ftw', 'raleigh']\n",
      "['iwm', 'trendline', 'tlt', 'gld', 'es_f', 'chotd', 'mish', 'xrt', 'cmg', 'cl_f']\n",
      "['recon', 'blackstone', 'robeco', 'lmax', 'dotzour', 'bx', 'wien', 'schwarzman', 'esg', 'cornelissen']\n",
      "['azn', 'nejm', 'rlyp', 'adcom', 'keytruda', 'ptct', 'tsro', 'lume', 'chmp', 'alny']\n",
      "['jf', 'tenant', 'landlord', 'nolan', 'laws', 'titans', 'coworking', 'vacant', 'landlords', 'glambition']\n",
      "7 topics:\n",
      "['gavekal', 'apac', 'rtrs', 'pboc', 'rba', 'ibex', 'bpd', 'westpac', 'falih', 'imm']\n",
      "['rsd', 'ios', 'feld', 'techcrunch', 'palo', 'sxsw', 'cto', 'hbs', 'accel', 'techstars']\n",
      "['iwm', 'gld', 'es_f', 'chotd', 'xrt', 'cmg', 'kre', 'gdx', 'slv', 'mish']\n",
      "['blackstone', 'robeco', 'rns', 'lmax', 'bx', 'enlarge', 'schwarzman', 'esg', 'cornelissen', 'daalder']\n",
      "['nejm', 'rlyp', 'adcom', 'keytruda', 'ptct', 'lume', 'tsro', 'chmp', 'alny', 'zsph']\n",
      "['jf', 'tenant', 'landlord', 'nolan', 'recon', 'laws', 'dotzour', 'gaines', 'multifamily', 'titans']\n",
      "['flynn', 'nazi', 'trumpcare', 'prosecutor', 'gbpaud', 'priebus', 'covfefe', 'oj', 'bvp', 'raid']\n",
      "8 topics:\n",
      "['gavekal', 'rns', 'apac', 'pboc', 'rba', 'audusd', 'bpd', 'westpac', 'rtrs', 'falih']\n",
      "['rsd', 'ios', 'feld', 'raleigh', 'boulder', 'dailyvee', 'sv', 'durham', 'fitmob', 'scv']\n",
      "['iwm', 'chotd', 'xrt', 'cmg', 'kre', 'gdx', 'slv', 'mish', 'trendline', 'iyr']\n",
      "['lmax', 'blackstone', 'schwarzman', 'monage', 'jkonfx', 'audnzd', 'gbpnzd', 'polaris', 'hornik', 'gbpcad']\n",
      "['nejm', 'adcom', 'keytruda', 'ptct', 'chmp', 'alny', 'zsph', 'rhhby', 'mdvn', 'crl']\n",
      "['jf', 'landlord', 'nolan', 'recon', 'laws', 'dotzour', 'gaines', 'tenant', 'titans', 'coworking']\n",
      "['flynn', 'nazi', 'trumpcare', 'prosecutor', 'priebus', 'covfefe', 'bvp', 'raid', 'kushner', 'atheist']\n",
      "['robeco', 'enlarge', 'cornelissen', 'daalder', 'indexing', 'vti', 'bubblecovery', 'esg', 'gmi', 'opx']\n",
      "9 topics:\n",
      "['gavekal', 'apac', 'pboc', 'rba', 'westpac', 'cny', 'imm', 'anz', 'ibex', 'rtrs']\n",
      "['feld', 'vcs', 'saas', 'accel', 'techstars', 'foursquare', 'dailyvee', 'sv', 'oculus', 'durham']\n",
      "['mish', 'cmg', 'iyr', 'gn', 'ddd', 'bidu', 'talkmarkets', 'pcln', 'fslr', 'gpro']\n",
      "['lmax', 'blackstone', 'schwarzman', 'audnzd', 'jkonfx', 'gbpnzd', 'hornik', 'gbpcad', 'hapoel', 'bvp']\n",
      "['nejm', 'adcom', 'keytruda', 'ptct', 'chmp', 'alny', 'zsph', 'rhhby', 'mdvn', 'nsclc']\n",
      "['jf', 'landlord', 'nolan', 'laws', 'tenant', 'titans', 'coworking', 'landlords', 'glambition', 'wholesaling']\n",
      "['recon', 'rsd', 'dotzour', 'gainesville', 'knowist', 'eileenburbidge', 'andersonville', 'kbpd', 'rubbish', 'deliveroo']\n",
      "['chotd', 'robeco', 'rns', 'enlarge', 'vxv', 'jlfmi', 'cornelissen', 'daalder', 'vxst', 'fibs']\n",
      "['trumpcare', 'obstruction', 'ahca', 'devos', 'nunes', 'ftn', 'kellyanne', 'hannity', 'gutt', 'leaker']\n",
      "10 topics:\n",
      "['gavekal', 'apac', 'rtrs', 'lmax', 'pboc', 'rba', 'audusd', 'bpd', 'usdcad', 'westpac']\n",
      "['feld', 'bos', 'techstars', 'foursquare', 'dailyvee', 'sv', 'oculus', 'durham', 'resolute', 'sfo']\n",
      "['chotd', 'xrt', 'cmg', 'kre', 'gdx', 'slv', 'mish', 'iyt', 'iwm', 'iyr']\n",
      "['blackstone', 'schwarzman', 'hapoel', 'bvp', 'solotar', 'smule', 'stursberg', 'bx', 'wien', 'uncertaintie']\n",
      "['nejm', 'adcom', 'keytruda', 'ptct', 'chmp', 'alny', 'zsph', 'rhhby', 'mdvn', 'crl']\n",
      "['nolan', 'laws', 'landlordology', 'rolfe', 'goins', 'hackerone', 'interplay', 'carmichael', 'prefontaine', 'stoicism']\n",
      "['recon', 'dotzour', 'robeco', 'cornelissen', 'daalder', 'gbpnzd', 'gbpaud', 'eileenburbidge', 'lukas', 'rubbish']\n",
      "['rns', 'enlarge', 'vti', 'consultancy', 'bubblecovery', 'concepts', 'gmi', 'opx', 'dailyshot', 'cpce']\n",
      "['rsd', 'gainesville', 'prosecutor', 'covfefe', 'bigotry', 'trumpcare', 'ahca', 'tweep', 'devos', 'aprn']\n",
      "['jf', 'atlassian', 'glambition', 'crowdstrike', 'lume', 'ndp', 'skok', 'wirex', 'shimmer', 'zwilling']\n"
     ]
    }
   ],
   "source": [
    "ns_topics = np.arange(3, 11, 1)\n",
    "words_in_topics_for_n_topics = []\n",
    "for n_topics in ns_topics:\n",
    "    print('{} topics:'.format(n_topics))\n",
    "    words_in_topics = find_words_in_topics(n_topics)\n",
    "    words_in_topics_for_n_topics.append(words_in_topics)\n",
    "    for words_in_topic in words_in_topics:\n",
    "        print(words_in_topic)"
   ]
  },
  {
   "cell_type": "code",
   "execution_count": 65,
   "metadata": {},
   "outputs": [
    {
     "name": "stdout",
     "output_type": "stream",
     "text": [
      "['andybiotech', 56]\n"
     ]
    }
   ],
   "source": [
    "word_index = word_list.index('adcom')\n",
    "for i in range(143):\n",
    "    if(X[i, word_index]) > 0:\n",
    "        print([user_list[i], X[i, word_index]])"
   ]
  },
  {
   "cell_type": "code",
   "execution_count": 51,
   "metadata": {
    "collapsed": true
   },
   "outputs": [],
   "source": [
    "# topic_word_user_count = []\n",
    "# for row in words_in_topics:\n",
    "#     for word in row:\n",
    "#         temp = {word: []}\n",
    "#         word_index = word_list.index(word)\n",
    "#         for i in range(143):\n",
    "#             if(X[i, word_index]) > 0:\n",
    "#                 temp[word].append([user_list[i], X[i, word_index]])\n",
    "#         topic_word_user_count.append(temp)"
   ]
  },
  {
   "cell_type": "code",
   "execution_count": 52,
   "metadata": {},
   "outputs": [
    {
     "name": "stdout",
     "output_type": "stream",
     "text": [
      "{'gavekal': [['5_min_macro', 1], ['klcapital', 348], ['schuldensuehner', 3], ['zerohedge', 3]]}\n",
      "{'rns': [['financial_orbit', 229]]}\n",
      "{'apac': [['igsquawk', 216], ['larryvc', 1], ['livesquawk', 6]]}\n",
      "{'pboc': [['5_min_macro', 3], ['chrisweston_ig', 4], ['financial_orbit', 1], ['fxcm', 35], ['joelkruger', 1], ['jsblokland', 2], ['keithmccullough', 19], ['kitjuckes', 1], ['livesquawk', 89], ['schuldensuehner', 5], ['stephanie_link', 8], ['tihobrkan', 1], ['vexmark', 6], ['zerohedge', 12]]}\n",
      "{'rba': [['5_min_macro', 2], ['chrisweston_ig', 51], ['faithmight', 6], ['fxcm', 34], ['igsquawk', 2], ['joelkruger', 11], ['keithmccullough', 1], ['kitjuckes', 3], ['livesquawk', 68], ['ole_s_hansen', 1], ['tihobrkan', 2], ['zerohedge', 4]]}\n",
      "{'audusd': [['chrisweston_ig', 12], ['faithmight', 5], ['fxcm', 89], ['igsquawk', 6], ['joelkruger', 56], ['kitjuckes', 1], ['livesquawk', 1], ['zerohedge', 2]]}\n",
      "{'bpd': [['amena__bakr', 17], ['cleantechinv', 1], ['fxcm', 5], ['igsquawk', 2], ['livesquawk', 44], ['marketminute', 1], ['ole_s_hansen', 29], ['russian_market', 2], ['samir_madani', 23], ['vexmark', 15], ['zerohedge', 1]]}\n",
      "{'westpac': [['chrisweston_ig', 6], ['fxcm', 114], ['livesquawk', 8]]}\n",
      "{'rtrs': [['5_min_macro', 1], ['amena__bakr', 1], ['chrisweston_ig', 2], ['fxcm', 34], ['igsquawk', 1], ['joelkruger', 3], ['livesquawk', 374], ['marketminute', 2], ['northmantrader', 1], ['russian_market', 8], ['samir_madani', 1], ['sassy_spy', 1], ['schuldensuehner', 10], ['sconsetcapital', 1], ['vexmark', 1], ['zerohedge', 30]]}\n",
      "{'falih': [['_seandavid', 1], ['amena__bakr', 97], ['keithmccullough', 1], ['livesquawk', 6], ['ole_s_hansen', 2], ['samir_madani', 4], ['stephanie_link', 1], ['thestalwart', 1], ['vexmark', 1], ['zerohedge', 9]]}\n",
      "{'rsd': [['danrua', 449]]}\n",
      "{'ios': [['_seandavid', 3], ['ajay_bcv', 4], ['alibrown', 1], ['andrewparker', 14], ['annemarietrades', 1], ['aplusk', 3], ['bfeld', 4], ['bgurley', 4], ['bhorowitz', 2], ['bijan', 21], ['biz', 17], ['bostonvc', 1], ['brisbourne', 10], ['bryce', 4], ['bussgang', 3], ['callieabost', 1], ['chrisfralic', 4], ['christine', 3], ['coheda', 2], ['danrua', 1], ['davidbeisel', 1], ['davidcowan', 2], ['davidhornik', 1], ['davidlee', 9], ['dba', 3], ['dickc', 5], ['edsim', 9], ['eileentso', 1], ['ev', 5], ['fdestin', 2], ['fredwilson', 6], ['garyvee', 13], ['georgezachary', 14], ['guykawasaki', 1], ['hadip', 11], ['hlmorgan', 2], ['howardlindzon', 4], ['ivanthek', 1], ['jack', 15], ['jason', 2], ['jasonball', 9], ['jasonmendelson', 5], ['jcaplain', 2], ['jeff', 3], ['jeffmacke', 3], ['jeffnolan', 33], ['jeremyl', 2], ['jeremysliew', 9], ['jonahlupton', 1], ['joshk', 4], ['kentgoldman', 1], ['kevinrose', 32], ['larryvc', 2], ['lauriesegallcnn', 4], ['mikeeisenberg', 11], ['mokoyfman', 1], ['mpd', 3], ['ocvc', 6], ['om', 10], ['petershankman', 1], ['pkedrosky', 1], ['rajil', 2], ['raoulgmi', 3], ['richminer', 6], ['ritholtz', 3], ['robgo', 2], ['robhayes', 1], ['ryanjsweeney', 18], ['salsop', 15], ['sassy_spy', 1], ['she_v_c', 5], ['stephanie_link', 2], ['stevebrotman', 1], ['tdelistathis', 20], ['timoreilly', 2], ['vcmike', 2]]}\n",
      "{'feld': [['bfeld', 340], ['brisbourne', 2], ['bussgang', 2], ['chrisfralic', 3], ['coheda', 1], ['davidbeisel', 1], ['davidcowan', 1], ['davidhornik', 2], ['davidlee', 1], ['dickc', 1], ['edsim', 1], ['hlmorgan', 1], ['howardlindzon', 3], ['jasonmendelson', 19], ['jcaplain', 1], ['jeff', 5], ['joshk', 2], ['mcuban', 1], ['ocvc', 6], ['om', 2], ['robgo', 10], ['robhayes', 3], ['sether', 5], ['she_v_c', 1], ['tdelistathis', 1], ['vcmike', 3]]}\n",
      "{'raleigh': [['bhorowitz', 1], ['callieabost', 27], ['davidcowan', 1], ['jcaplain', 156], ['jeff', 1], ['jonahlupton', 1], ['larryvc', 1], ['richminer', 1], ['ritholtz', 1]]}\n",
      "{'boulder': [['ajay_bcv', 1], ['algore', 2], ['bfeld', 70], ['biz', 1], ['bussgang', 1], ['dickc', 3], ['howardlindzon', 9], ['jack', 1], ['jasonmendelson', 113], ['jeff', 6], ['joshk', 1], ['katie_martin_fx', 1], ['landlordology', 1], ['ocvc', 2], ['robgo', 1], ['robhayes', 19], ['sacca', 1], ['santopoliti', 2], ['sether', 35], ['vcmike', 9]]}\n",
      "{'dailyvee': [['chrisfralic', 1], ['garyvee', 109]]}\n",
      "{'sv': [['ajay_bcv', 2], ['andrewparker', 1], ['bfeld', 2], ['bgurley', 2], ['bhorowitz', 6], ['bryce', 1], ['bussgang', 2], ['chrisfralic', 1], ['coheda', 3], ['davidcowan', 2], ['davidhornik', 4], ['davidlee', 3], ['dba', 2], ['ev', 1], ['fdestin', 4], ['fredwilson', 4], ['georgezachary', 1], ['hadip', 1], ['howardlindzon', 2], ['jason', 2], ['jcaplain', 11], ['jeff', 5], ['jeffmacke', 1], ['jeffnolan', 1], ['jeremysliew', 1], ['kitjuckes', 1], ['lauriesegallcnn', 3], ['msuster', 2], ['om', 8], ['rajil', 10], ['robhayes', 1], ['sether', 1], ['she_v_c', 3], ['stevebrotman', 3], ['thestalwart', 1], ['timoreilly', 3], ['vcmike', 3], ['vkhosla', 1]]}\n",
      "{'durham': [['callieabost', 3], ['donrcampbell', 2], ['jcaplain', 82], ['jeff', 1], ['larryvc', 1], ['msuster', 2], ['ocvc', 1], ['ritholtz', 1], ['zerohedge', 1]]}\n",
      "{'fitmob': [['rajil', 86]]}\n",
      "{'scv': [['jcaplain', 83]]}\n",
      "{'iwm': [['_seandavid', 22], ['andrewnyquist', 112], ['annemarietrades', 36], ['callieabost', 2], ['ciovaccocapital', 22], ['hmeisler', 8], ['howardlindzon', 1], ['jlyonsfundmgmt', 58], ['joelkruger', 2], ['keithmccullough', 3], ['lizannsonders', 1], ['lmt978', 8], ['marketminute', 443], ['markyusko', 1], ['northmantrader', 2], ['sassy_spy', 55], ['stephanie_link', 3], ['stockcats', 5], ['thestalwart', 1], ['tihobrkan', 1], ['ukarlewitz', 6], ['z8angela', 15]]}\n",
      "{'chotd': [['andrewnyquist', 7], ['ciovaccocapital', 2], ['jlyonsfundmgmt', 423], ['markyusko', 1], ['raoulgmi', 1]]}\n",
      "{'xrt': [['_seandavid', 3], ['andrewnyquist', 2], ['annemarietrades', 6], ['ciovaccocapital', 12], ['howardlindzon', 2], ['jeffmacke', 3], ['jlyonsfundmgmt', 12], ['lmt978', 1], ['marketminute', 233], ['stephanie_link', 1], ['ukarlewitz', 1]]}\n",
      "{'cmg': [['_seandavid', 18], ['andrewnyquist', 1], ['annemarietrades', 4], ['bysamro', 4], ['callieabost', 1], ['faithmight', 1], ['hmeisler', 2], ['jeffmacke', 41], ['keithmccullough', 1], ['lmt978', 5], ['marketminute', 28], ['markyusko', 1], ['sassy_spy', 104], ['stephanie_link', 1], ['stockcats', 2], ['thestalwart', 3], ['z8angela', 50]]}\n",
      "{'kre': [['andrewnyquist', 3], ['annemarietrades', 6], ['ciovaccocapital', 16], ['hmeisler', 3], ['jlyonsfundmgmt', 11], ['lmt978', 2], ['marketminute', 211]]}\n",
      "{'gdx': [['andrewnyquist', 31], ['annemarietrades', 6], ['ciovaccocapital', 3], ['jlyonsfundmgmt', 13], ['lmt978', 23], ['marketminute', 169], ['markyusko', 1], ['ryandetrick', 1], ['ukarlewitz', 4]]}\n",
      "{'slv': [['andrewnyquist', 13], ['annemarietrades', 2], ['ciovaccocapital', 9], ['jlyonsfundmgmt', 29], ['klcapital', 3], ['lmt978', 5], ['marketminute', 117], ['ole_s_hansen', 2], ['ryandetrick', 1], ['ukarlewitz', 1]]}\n",
      "{'mish': [['brisbourne', 1], ['marketminute', 382], ['thebubblebubble', 1]]}\n",
      "{'trendline': [['_seandavid', 1], ['andrewnyquist', 7], ['callieabost', 1], ['ciovaccocapital', 15], ['faithmight', 1], ['fxcm', 2], ['hmeisler', 1], ['howardlindzon', 2], ['igsquawk', 3], ['jlyonsfundmgmt', 657], ['kitjuckes', 1], ['lmt978', 2], ['marketminute', 2], ['ole_s_hansen', 1], ['ryandetrick', 8], ['stockcats', 6], ['thestalwart', 1], ['tihobrkan', 1], ['z8angela', 5], ['zerohedge', 1]]}\n",
      "{'iyr': [['andrewnyquist', 1], ['annemarietrades', 2], ['ciovaccocapital', 1], ['jlyonsfundmgmt', 3], ['marketminute', 126], ['thebubblebubble', 5]]}\n",
      "{'lmax': [['joelkruger', 209]]}\n",
      "{'blackstone': [['5_min_macro', 1], ['_seandavid', 26], ['blackstone', 1219], ['bussgang', 1], ['bysamro', 1], ['chrisweston_ig', 1], ['coheda', 3], ['davidlee', 1], ['financial_orbit', 2], ['jcaplain', 1], ['jeffmacke', 1], ['joshk', 1], ['katie_martin_fx', 1], ['larryvc', 2], ['lauriesegallcnn', 1], ['livesquawk', 1], ['richminer', 1], ['santopoliti', 1], ['stephanie_link', 3], ['texrec', 1]]}\n",
      "{'schwarzman': [['_seandavid', 4], ['blackstone', 235], ['bysamro', 1], ['katie_martin_fx', 1], ['sacca', 1], ['santopoliti', 1]]}\n",
      "{'monage': [['jeffpulver', 60]]}\n",
      "{'jkonfx': [['joelkruger', 60]]}\n",
      "{'audnzd': [['joelkruger', 60]]}\n",
      "{'gbpnzd': [['faithmight', 45], ['joelkruger', 14]]}\n",
      "{'polaris': [['davidbeisel', 1], ['jcaplain', 2], ['larryvc', 1], ['robhayes', 1], ['vcmike', 52]]}\n",
      "{'hornik': [['bussgang', 1], ['davidcowan', 1], ['davidhornik', 54], ['rajil', 1]]}\n",
      "{'gbpcad': [['faithmight', 34], ['joelkruger', 17]]}\n",
      "{'nejm': [['andybiotech', 70]]}\n",
      "{'adcom': [['andybiotech', 56]]}\n",
      "{'keytruda': [['andybiotech', 46]]}\n",
      "{'ptct': [['andybiotech', 42], ['sassy_spy', 1]]}\n",
      "{'chmp': [['andybiotech', 40]]}\n",
      "{'alny': [['andybiotech', 38], ['sassy_spy', 1]]}\n",
      "{'zsph': [['andybiotech', 36]]}\n",
      "{'rhhby': [['andybiotech', 33]]}\n",
      "{'mdvn': [['andybiotech', 31]]}\n",
      "{'crl': [['andybiotech', 29]]}\n",
      "{'jf': [['joefairless', 1396], ['markyusko', 1]]}\n",
      "{'landlord': [['bgurley', 1], ['davidhornik', 1], ['donrcampbell', 21], ['jason', 1], ['jasonmendelson', 1], ['jbrec', 2], ['joefairless', 8], ['kevinrose', 1], ['landlordology', 685], ['larryvc', 1], ['mitch_stephen', 6], ['mpd', 1], ['retipsterseth', 2], ['she_v_c', 1], ['stockcats', 1], ['texrec', 3], ['tferriss', 1], ['thebubblebubble', 1]]}\n",
      "{'nolan': [['aplusk', 1], ['chrisfralic', 1], ['davidlee', 1], ['guykawasaki', 4], ['jeffmacke', 4], ['jeffnolan', 532]]}\n",
      "{'recon': [['ivanthek', 1], ['texrec', 529]]}\n",
      "{'laws': [['bgurley', 1], ['biz', 1], ['davidcowan', 1], ['donrcampbell', 1], ['frances_coppola', 1], ['landlordology', 237], ['mitch_stephen', 5], ['ocvc', 1], ['salsop', 1], ['she_v_c', 1], ['startuppro', 1], ['tdelistathis', 1], ['thebubblebubble', 1], ['vkhosla', 1], ['zerohedge', 4]]}\n",
      "{'dotzour': [['texrec', 159]]}\n",
      "{'gaines': [['mitch_stephen', 5], ['texrec', 142]]}\n",
      "{'tenant': [['bgurley', 1], ['bhorowitz', 1], ['blackstone', 3], ['bysamro', 1], ['christine', 1], ['davidlee', 1], ['donrcampbell', 14], ['financial_orbit', 1], ['georgezachary', 1], ['jbrec', 1], ['joefairless', 38], ['landlordology', 692], ['mitch_stephen', 7], ['mpd', 1], ['sether', 1], ['texrec', 5], ['thebubblebubble', 1], ['vcmike', 1]]}\n",
      "{'titans': [['biz', 1], ['christine', 1], ['davidlee', 1], ['fdestin', 1], ['georgezachary', 1], ['jeffpulver', 1], ['retipsterseth', 1], ['tferriss', 97]]}\n",
      "{'coworking': [['eileentso', 1], ['jeffnolan', 1], ['mikeeisenberg', 2], ['mpd', 3], ['she_v_c', 92], ['tferriss', 1]]}\n",
      "{'flynn': [['5_min_macro', 1], ['andrewparker', 1], ['bfeld', 1], ['chrisfralic', 1], ['erikfossing', 4], ['howardlindzon', 4], ['ivanthek', 7], ['jason', 1], ['jeremysliew', 1], ['justinwolfers', 6], ['katie_martin_fx', 1], ['kitjuckes', 1], ['lizannsonders', 1], ['mcuban', 2], ['msuster', 1], ['northmantrader', 2], ['om', 1], ['petershankman', 2], ['retipsterseth', 1], ['richminer', 48], ['ritholtz', 4], ['russian_market', 1], ['sacca', 31], ['sassy_spy', 1], ['schuldensuehner', 1], ['sconsetcapital', 1], ['sether', 5], ['timoreilly', 3], ['vexmark', 2], ['zerohedge', 1]]}\n",
      "{'nazi': [['5_min_macro', 4], ['amena__bakr', 1], ['bfeld', 1], ['bysamro', 2], ['christine', 4], ['cullenroche', 3], ['davidcowan', 3], ['erikfossing', 6], ['faithmight', 1], ['fdestin', 3], ['frances_coppola', 13], ['georgezachary', 3], ['guykawasaki', 1], ['howardlindzon', 2], ['ivanthek', 4], ['jason', 1], ['jeffmacke', 4], ['jeremysliew', 1], ['justinwolfers', 2], ['katie_martin_fx', 2], ['mikeeisenberg', 2], ['msuster', 1], ['northmantrader', 1], ['petershankman', 2], ['richminer', 8], ['ritholtz', 10], ['russian_market', 5], ['sacca', 11], ['samir_madani', 5], ['schuldensuehner', 2], ['sconsetcapital', 2], ['sether', 4], ['thestalwart', 1], ['timoreilly', 2], ['vexmark', 6], ['zerohedge', 5]]}\n",
      "{'trumpcare': [['5_min_macro', 1], ['bijan', 1], ['davidlee', 1], ['fdestin', 1], ['howardlindzon', 4], ['ivanthek', 2], ['justinwolfers', 32], ['kitjuckes', 1], ['mcuban', 1], ['msuster', 1], ['om', 1], ['richminer', 11], ['ritholtz', 5], ['sacca', 29], ['sconsetcapital', 3], ['sether', 4], ['timoreilly', 2]]}\n",
      "{'prosecutor': [['5_min_macro', 1], ['amena__bakr', 3], ['bgurley', 1], ['bysamro', 1], ['chrisfralic', 1], ['chrisweston_ig', 1], ['cullenroche', 2], ['davidhornik', 1], ['davidlee', 1], ['erikfossing', 1], ['fdestin', 1], ['frances_coppola', 2], ['howardlindzon', 1], ['ivanthek', 2], ['jason', 2], ['justinwolfers', 1], ['mcuban', 2], ['northmantrader', 6], ['richardbranson', 1], ['richminer', 3], ['ritholtz', 5], ['russian_market', 4], ['sacca', 11], ['samir_madani', 2], ['sassy_spy', 1], ['sconsetcapital', 3], ['timoreilly', 6], ['vexmark', 2], ['zerohedge', 5]]}\n",
      "{'priebus': [['cullenroche', 1], ['dickc', 2], ['fdestin', 1], ['frances_coppola', 4], ['ivanthek', 9], ['msuster', 1], ['northmantrader', 2], ['richminer', 9], ['ritholtz', 5], ['russian_market', 4], ['sacca', 3], ['schuldensuehner', 1], ['sconsetcapital', 2], ['sether', 1], ['thestalwart', 1], ['zerohedge', 5]]}\n",
      "{'covfefe': [['bysamro', 3], ['chrisfralic', 1], ['cullenroche', 1], ['erikfossing', 1], ['jack', 1], ['jeffmacke', 3], ['jonahlupton', 1], ['justinwolfers', 2], ['ritholtz', 2], ['russian_market', 3], ['sacca', 9], ['samir_madani', 1], ['sassy_spy', 2], ['sconsetcapital', 11], ['sether', 4], ['thebubblebubble', 1], ['vkhosla', 3]]}\n",
      "{'bvp': [['davidcowan', 44], ['jeremyl', 3], ['larryvc', 1]]}\n",
      "{'raid': [['bhorowitz', 1], ['bryce', 1], ['christine', 2], ['georgezachary', 1], ['howardlindzon', 2], ['ivanthek', 3], ['justinwolfers', 3], ['kitjuckes', 1], ['mikeeisenberg', 2], ['northmantrader', 2], ['richminer', 4], ['ritholtz', 3], ['russian_market', 3], ['sacca', 3], ['samir_madani', 2], ['tdelistathis', 1], ['texrec', 1], ['thestalwart', 1], ['timoreilly', 1], ['vexmark', 6], ['zerohedge', 4]]}\n",
      "{'kushner': [['andrewparker', 1], ['bussgang', 1], ['bysamro', 2], ['chrisfralic', 2], ['davidlee', 1], ['erikfossing', 2], ['fdestin', 2], ['howardlindzon', 13], ['ivanthek', 8], ['justinwolfers', 3], ['katie_martin_fx', 4], ['livesquawk', 1], ['msuster', 1], ['northmantrader', 3], ['richminer', 10], ['ritholtz', 8], ['russian_market', 4], ['sacca', 29], ['samir_madani', 1], ['sassy_spy', 1], ['schuldensuehner', 1], ['sconsetcapital', 3], ['timoreilly', 1], ['vkhosla', 1], ['zerohedge', 6]]}\n",
      "{'atheist': [['andrewparker', 1], ['bfeld', 1], ['brisbourne', 1], ['davidcowan', 36], ['georgezachary', 1], ['ritholtz', 1], ['sether', 1], ['vexmark', 1], ['vkhosla', 1]]}\n",
      "{'robeco': [['jsblokland', 1], ['robeco', 249]]}\n",
      "{'enlarge': [['5_min_macro', 1], ['ciovaccocapital', 92], ['georgezachary', 1]]}\n",
      "{'cornelissen': [['robeco', 74]]}\n",
      "{'daalder': [['robeco', 60]]}\n",
      "{'indexing': [['bysamro', 3], ['cullenroche', 30], ['howardlindzon', 1], ['lizannsonders', 4], ['om', 1], ['ritholtz', 2], ['robeco', 3], ['tferriss', 1], ['thebubblebubble', 2], ['ukarlewitz', 4]]}\n",
      "{'vti': [['andrewnyquist', 1], ['annemarietrades', 1], ['ciovaccocapital', 40], ['thestalwart', 1]]}\n",
      "{'bubblecovery': [['thebubblebubble', 39]]}\n",
      "{'esg': [['blackstone', 1], ['faithmight', 1], ['ritholtz', 2], ['robeco', 74], ['ryandetrick', 1]]}\n",
      "{'gmi': [['bryce', 1], ['raoulgmi', 25]]}\n",
      "{'opx': [['ukarlewitz', 24]]}\n"
     ]
    }
   ],
   "source": [
    "# # find out who has used the top words in each topic\n",
    "# for item in topic_word_user_count:\n",
    "#     print(item) "
   ]
  },
  {
   "cell_type": "code",
   "execution_count": null,
   "metadata": {
    "collapsed": true
   },
   "outputs": [],
   "source": []
  },
  {
   "cell_type": "code",
   "execution_count": null,
   "metadata": {
    "collapsed": true
   },
   "outputs": [],
   "source": []
  }
 ],
 "metadata": {
  "kernelspec": {
   "display_name": "Python 3",
   "language": "python",
   "name": "python3"
  },
  "language_info": {
   "codemirror_mode": {
    "name": "ipython",
    "version": 3
   },
   "file_extension": ".py",
   "mimetype": "text/x-python",
   "name": "python",
   "nbconvert_exporter": "python",
   "pygments_lexer": "ipython3",
   "version": "3.5.2"
  }
 },
 "nbformat": 4,
 "nbformat_minor": 2
}
