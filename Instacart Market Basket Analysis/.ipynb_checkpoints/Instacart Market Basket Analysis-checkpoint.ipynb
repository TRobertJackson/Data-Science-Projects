{
 "cells": [
  {
   "cell_type": "markdown",
   "metadata": {},
   "source": [
    "#### This notebook contains the code for 4 parts.\n",
    "1. Load Data  \n",
    "2. Feature Engineering\n",
    "3. Baseline Model\n",
    "4. Xgboost Model"
   ]
  },
  {
   "cell_type": "code",
   "execution_count": 5,
   "metadata": {
    "collapsed": true
   },
   "outputs": [],
   "source": [
    "#Loading packages\n",
    "import numpy as np\n",
    "import pandas as pd\n",
    "import matplotlib.pyplot as plt\n",
    "import pickle\n",
    "\n",
    "%matplotlib inline"
   ]
  },
  {
   "cell_type": "code",
   "execution_count": 6,
   "metadata": {
    "collapsed": true
   },
   "outputs": [],
   "source": [
    "pd.set_option('display.max_rows', 100)"
   ]
  },
  {
   "cell_type": "markdown",
   "metadata": {},
   "source": [
    "## 1. Load Data"
   ]
  },
  {
   "cell_type": "code",
   "execution_count": 7,
   "metadata": {
    "collapsed": true
   },
   "outputs": [],
   "source": [
    "aisles = pd.read_csv('data/aisles.csv', dtype = {\n",
    "    'aisle_id': np.uint16,\n",
    "    'aisle': np.str},\n",
    "    usecols=['aisle_id', 'aisle'])"
   ]
  },
  {
   "cell_type": "code",
   "execution_count": 8,
   "metadata": {
    "collapsed": true
   },
   "outputs": [],
   "source": [
    "departments = pd.read_csv('data/departments.csv', dtype = {\n",
    "    'department_id': np.uint16,\n",
    "    'department': np.str},\n",
    "    usecols=['department_id', 'department'])"
   ]
  },
  {
   "cell_type": "code",
   "execution_count": 9,
   "metadata": {
    "collapsed": true
   },
   "outputs": [],
   "source": [
    "order_products_prior = pd.read_csv('data/order_products__prior.csv', dtype = {\n",
    "    'order_id': np.uint32,\n",
    "    'product_id': np.uint32,\n",
    "    'add_to_cart_order': np.uint16,\n",
    "    'reordered': np.uint16},\n",
    "    usecols=['order_id', 'product_id', 'add_to_cart_order', 'reordered'])"
   ]
  },
  {
   "cell_type": "code",
   "execution_count": 10,
   "metadata": {
    "collapsed": true
   },
   "outputs": [],
   "source": [
    "order_product_train = pd.read_csv('data/order_products__train.csv', dtype = {\n",
    "    'order_id': np.uint32,\n",
    "    'product_id': np.uint32,\n",
    "    'add_to_cart_order': np.uint16,\n",
    "    'reordered': np.uint16},\n",
    "    usecols=['order_id', 'product_id', 'add_to_cart_order', 'reordered'])"
   ]
  },
  {
   "cell_type": "code",
   "execution_count": 11,
   "metadata": {
    "collapsed": true
   },
   "outputs": [],
   "source": [
    "orders = pd.read_csv('data/orders.csv', dtype = {\n",
    "    'order_id': np.uint32,\n",
    "    'user_id' :np.uint32,\n",
    "    'eval_set': 'category',\n",
    "    'order_number': np.uint16,\n",
    "    'order_dow': np.uint16,\n",
    "    'order_hour_of_day': np.uint8,\n",
    "    'days_since_prior_order': np.float32},\n",
    "                     usecols=['order_id', 'user_id', 'eval_set', 'order_number', 'order_dow', 'order_hour_of_day', 'days_since_prior_order'])"
   ]
  },
  {
   "cell_type": "code",
   "execution_count": 12,
   "metadata": {
    "collapsed": true
   },
   "outputs": [],
   "source": [
    "products = pd.read_csv('data/products.csv', dtype = {'product_id': np.uint16,\n",
    "        'product_name': np.str,\n",
    "        'aisle_id': np.uint16,\n",
    "        'department_id': np.uint16},\n",
    "        usecols=['product_id', 'product_name', 'aisle_id', 'department_id'])"
   ]
  },
  {
   "cell_type": "code",
   "execution_count": null,
   "metadata": {
    "collapsed": true
   },
   "outputs": [],
   "source": [
    "# priordf = pickle.load(open('data/pickle_files/priordf.p', 'rb'))\n",
    "# user_info = pickle.load(open('data/pickle_files/user_info.p', 'rb'))\n",
    "# product_info = pickle.load(open('data/pickle_files/product_info.p', 'rb'))\n",
    "# user_product_info = pickle.load(open('data/pickle_files/user_product_info.p', 'rb'))\n",
    "# ordertime_info = pickle.load(open('data/pickle_files/ordertime_info.p', 'rb'))\n",
    "# user_ordertime_info = pickle.load(open('data/pickle_files/user_ordertime_info.p', 'rb'))\n",
    "# product_ordertime_info = pickle.load(open('data/pickle_files/product_ordertime_info.p', 'rb'))\n",
    "# aisle_info = pickle.load(open('data/pickle_files/aisle_info.p', 'rb'))\n",
    "# department_info = pickle.load(open('data/pickle_files/department_info.p', 'rb'))"
   ]
  },
  {
   "cell_type": "markdown",
   "metadata": {},
   "source": [
    "##  2. Feature Engineering"
   ]
  },
  {
   "cell_type": "markdown",
   "metadata": {},
   "source": [
    "#### 1) create a column of days since first order (or we can consider this column as user history)"
   ]
  },
  {
   "cell_type": "code",
   "execution_count": 9,
   "metadata": {
    "collapsed": true
   },
   "outputs": [],
   "source": [
    "orders['days_since_first_order'] = orders.groupby('user_id')['days_since_prior_order'].cumsum()"
   ]
  },
  {
   "cell_type": "code",
   "execution_count": 10,
   "metadata": {},
   "outputs": [
    {
     "data": {
      "text/html": [
       "<div>\n",
       "<style>\n",
       "    .dataframe thead tr:only-child th {\n",
       "        text-align: right;\n",
       "    }\n",
       "\n",
       "    .dataframe thead th {\n",
       "        text-align: left;\n",
       "    }\n",
       "\n",
       "    .dataframe tbody tr th {\n",
       "        vertical-align: top;\n",
       "    }\n",
       "</style>\n",
       "<table border=\"1\" class=\"dataframe\">\n",
       "  <thead>\n",
       "    <tr style=\"text-align: right;\">\n",
       "      <th></th>\n",
       "      <th>order_id</th>\n",
       "      <th>user_id</th>\n",
       "      <th>eval_set</th>\n",
       "      <th>order_number</th>\n",
       "      <th>order_dow</th>\n",
       "      <th>order_hour_of_day</th>\n",
       "      <th>days_since_prior_order</th>\n",
       "      <th>days_since_first_order</th>\n",
       "    </tr>\n",
       "  </thead>\n",
       "  <tbody>\n",
       "    <tr>\n",
       "      <th>0</th>\n",
       "      <td>2539329</td>\n",
       "      <td>1</td>\n",
       "      <td>prior</td>\n",
       "      <td>1</td>\n",
       "      <td>2</td>\n",
       "      <td>8</td>\n",
       "      <td>NaN</td>\n",
       "      <td>NaN</td>\n",
       "    </tr>\n",
       "    <tr>\n",
       "      <th>1</th>\n",
       "      <td>2398795</td>\n",
       "      <td>1</td>\n",
       "      <td>prior</td>\n",
       "      <td>2</td>\n",
       "      <td>3</td>\n",
       "      <td>7</td>\n",
       "      <td>15.0</td>\n",
       "      <td>15.0</td>\n",
       "    </tr>\n",
       "    <tr>\n",
       "      <th>2</th>\n",
       "      <td>473747</td>\n",
       "      <td>1</td>\n",
       "      <td>prior</td>\n",
       "      <td>3</td>\n",
       "      <td>3</td>\n",
       "      <td>12</td>\n",
       "      <td>21.0</td>\n",
       "      <td>36.0</td>\n",
       "    </tr>\n",
       "    <tr>\n",
       "      <th>3</th>\n",
       "      <td>2254736</td>\n",
       "      <td>1</td>\n",
       "      <td>prior</td>\n",
       "      <td>4</td>\n",
       "      <td>4</td>\n",
       "      <td>7</td>\n",
       "      <td>29.0</td>\n",
       "      <td>65.0</td>\n",
       "    </tr>\n",
       "    <tr>\n",
       "      <th>4</th>\n",
       "      <td>431534</td>\n",
       "      <td>1</td>\n",
       "      <td>prior</td>\n",
       "      <td>5</td>\n",
       "      <td>4</td>\n",
       "      <td>15</td>\n",
       "      <td>28.0</td>\n",
       "      <td>93.0</td>\n",
       "    </tr>\n",
       "  </tbody>\n",
       "</table>\n",
       "</div>"
      ],
      "text/plain": [
       "   order_id  user_id eval_set  order_number  order_dow  order_hour_of_day  \\\n",
       "0   2539329        1    prior             1          2                  8   \n",
       "1   2398795        1    prior             2          3                  7   \n",
       "2    473747        1    prior             3          3                 12   \n",
       "3   2254736        1    prior             4          4                  7   \n",
       "4    431534        1    prior             5          4                 15   \n",
       "\n",
       "   days_since_prior_order  days_since_first_order  \n",
       "0                     NaN                     NaN  \n",
       "1                    15.0                    15.0  \n",
       "2                    21.0                    36.0  \n",
       "3                    29.0                    65.0  \n",
       "4                    28.0                    93.0  "
      ]
     },
     "execution_count": 10,
     "metadata": {},
     "output_type": "execute_result"
    }
   ],
   "source": [
    "orders.head()"
   ]
  },
  {
   "cell_type": "code",
   "execution_count": 11,
   "metadata": {
    "collapsed": true
   },
   "outputs": [],
   "source": [
    "orders.days_since_first_order.fillna(0, inplace = True)"
   ]
  },
  {
   "cell_type": "markdown",
   "metadata": {},
   "source": [
    "#### 2) merge order_products_prior dataframe with orders dataframe\n",
    "In order_products_prior dataframe, we have order id and product id. In orders dataframe, we have order id and user id. By merging these two dataframe together, we can know the custormer for each order and what he/she purchased in that particular order. "
   ]
  },
  {
   "cell_type": "code",
   "execution_count": 12,
   "metadata": {},
   "outputs": [
    {
     "data": {
      "text/plain": [
       "(32434489, 4)"
      ]
     },
     "execution_count": 12,
     "metadata": {},
     "output_type": "execute_result"
    }
   ],
   "source": [
    "order_products_prior.shape"
   ]
  },
  {
   "cell_type": "code",
   "execution_count": 13,
   "metadata": {
    "collapsed": true
   },
   "outputs": [],
   "source": [
    "priordf = pd.merge(order_products_prior, orders, on = 'order_id', how = 'left')"
   ]
  },
  {
   "cell_type": "code",
   "execution_count": 14,
   "metadata": {},
   "outputs": [
    {
     "data": {
      "text/plain": [
       "(32434489, 11)"
      ]
     },
     "execution_count": 14,
     "metadata": {},
     "output_type": "execute_result"
    }
   ],
   "source": [
    "priordf.shape"
   ]
  },
  {
   "cell_type": "code",
   "execution_count": 15,
   "metadata": {},
   "outputs": [
    {
     "data": {
      "text/html": [
       "<div>\n",
       "<style>\n",
       "    .dataframe thead tr:only-child th {\n",
       "        text-align: right;\n",
       "    }\n",
       "\n",
       "    .dataframe thead th {\n",
       "        text-align: left;\n",
       "    }\n",
       "\n",
       "    .dataframe tbody tr th {\n",
       "        vertical-align: top;\n",
       "    }\n",
       "</style>\n",
       "<table border=\"1\" class=\"dataframe\">\n",
       "  <thead>\n",
       "    <tr style=\"text-align: right;\">\n",
       "      <th></th>\n",
       "      <th>order_id</th>\n",
       "      <th>product_id</th>\n",
       "      <th>add_to_cart_order</th>\n",
       "      <th>reordered</th>\n",
       "      <th>user_id</th>\n",
       "      <th>eval_set</th>\n",
       "      <th>order_number</th>\n",
       "      <th>order_dow</th>\n",
       "      <th>order_hour_of_day</th>\n",
       "      <th>days_since_prior_order</th>\n",
       "      <th>days_since_first_order</th>\n",
       "    </tr>\n",
       "  </thead>\n",
       "  <tbody>\n",
       "    <tr>\n",
       "      <th>0</th>\n",
       "      <td>2</td>\n",
       "      <td>33120</td>\n",
       "      <td>1</td>\n",
       "      <td>1</td>\n",
       "      <td>202279</td>\n",
       "      <td>prior</td>\n",
       "      <td>3</td>\n",
       "      <td>5</td>\n",
       "      <td>9</td>\n",
       "      <td>8.0</td>\n",
       "      <td>28.0</td>\n",
       "    </tr>\n",
       "    <tr>\n",
       "      <th>1</th>\n",
       "      <td>2</td>\n",
       "      <td>28985</td>\n",
       "      <td>2</td>\n",
       "      <td>1</td>\n",
       "      <td>202279</td>\n",
       "      <td>prior</td>\n",
       "      <td>3</td>\n",
       "      <td>5</td>\n",
       "      <td>9</td>\n",
       "      <td>8.0</td>\n",
       "      <td>28.0</td>\n",
       "    </tr>\n",
       "    <tr>\n",
       "      <th>2</th>\n",
       "      <td>2</td>\n",
       "      <td>9327</td>\n",
       "      <td>3</td>\n",
       "      <td>0</td>\n",
       "      <td>202279</td>\n",
       "      <td>prior</td>\n",
       "      <td>3</td>\n",
       "      <td>5</td>\n",
       "      <td>9</td>\n",
       "      <td>8.0</td>\n",
       "      <td>28.0</td>\n",
       "    </tr>\n",
       "    <tr>\n",
       "      <th>3</th>\n",
       "      <td>2</td>\n",
       "      <td>45918</td>\n",
       "      <td>4</td>\n",
       "      <td>1</td>\n",
       "      <td>202279</td>\n",
       "      <td>prior</td>\n",
       "      <td>3</td>\n",
       "      <td>5</td>\n",
       "      <td>9</td>\n",
       "      <td>8.0</td>\n",
       "      <td>28.0</td>\n",
       "    </tr>\n",
       "    <tr>\n",
       "      <th>4</th>\n",
       "      <td>2</td>\n",
       "      <td>30035</td>\n",
       "      <td>5</td>\n",
       "      <td>0</td>\n",
       "      <td>202279</td>\n",
       "      <td>prior</td>\n",
       "      <td>3</td>\n",
       "      <td>5</td>\n",
       "      <td>9</td>\n",
       "      <td>8.0</td>\n",
       "      <td>28.0</td>\n",
       "    </tr>\n",
       "  </tbody>\n",
       "</table>\n",
       "</div>"
      ],
      "text/plain": [
       "   order_id  product_id  add_to_cart_order  reordered  user_id eval_set  \\\n",
       "0         2       33120                  1          1   202279    prior   \n",
       "1         2       28985                  2          1   202279    prior   \n",
       "2         2        9327                  3          0   202279    prior   \n",
       "3         2       45918                  4          1   202279    prior   \n",
       "4         2       30035                  5          0   202279    prior   \n",
       "\n",
       "   order_number  order_dow  order_hour_of_day  days_since_prior_order  \\\n",
       "0             3          5                  9                     8.0   \n",
       "1             3          5                  9                     8.0   \n",
       "2             3          5                  9                     8.0   \n",
       "3             3          5                  9                     8.0   \n",
       "4             3          5                  9                     8.0   \n",
       "\n",
       "   days_since_first_order  \n",
       "0                    28.0  \n",
       "1                    28.0  \n",
       "2                    28.0  \n",
       "3                    28.0  \n",
       "4                    28.0  "
      ]
     },
     "execution_count": 15,
     "metadata": {},
     "output_type": "execute_result"
    }
   ],
   "source": [
    "priordf.head()"
   ]
  },
  {
   "cell_type": "markdown",
   "metadata": {},
   "source": [
    "#### 3) create a column of days since prior product purchase\n",
    "this column represents the days since this user last purchased this particular product. "
   ]
  },
  {
   "cell_type": "code",
   "execution_count": 16,
   "metadata": {
    "collapsed": true
   },
   "outputs": [],
   "source": [
    "priordf['days_since_first_order'].fillna(0, inplace=True)"
   ]
  },
  {
   "cell_type": "code",
   "execution_count": 17,
   "metadata": {
    "collapsed": true
   },
   "outputs": [],
   "source": [
    "priordf.sort_values(['user_id', 'product_id','order_number'], inplace = True)"
   ]
  },
  {
   "cell_type": "code",
   "execution_count": 18,
   "metadata": {
    "collapsed": true
   },
   "outputs": [],
   "source": [
    "priordf['days_since_prior_product_purchase'] = priordf.groupby(['user_id', 'product_id'])['days_since_first_order'].transform(lambda x: x.diff())"
   ]
  },
  {
   "cell_type": "markdown",
   "metadata": {},
   "source": [
    "#### 4) created a column of order_hour_group"
   ]
  },
  {
   "cell_type": "code",
   "execution_count": 45,
   "metadata": {
    "collapsed": true
   },
   "outputs": [],
   "source": [
    "hour_bins = [-1,2,6,10,14,18,22,25]\n",
    "hour_gourp_names = ['22-2', '3-6', '7-10', '11-14', '15-18', '19-22', '22-2']\n",
    "priordf['order_hour_group'] = pd.cut(priordf.order_hour_of_day, bins = hour_bins, labels=hour_gourp_names)"
   ]
  },
  {
   "cell_type": "code",
   "execution_count": 133,
   "metadata": {
    "collapsed": true
   },
   "outputs": [],
   "source": [
    "priordf = pd.merge(priordf, products, on = 'product_id', how = 'left')"
   ]
  },
  {
   "cell_type": "code",
   "execution_count": 47,
   "metadata": {
    "collapsed": true
   },
   "outputs": [],
   "source": [
    "#pickle.dump(priordf, open('data/pickle_files/priordf.p', 'wb'))"
   ]
  },
  {
   "cell_type": "code",
   "execution_count": 111,
   "metadata": {
    "collapsed": true
   },
   "outputs": [],
   "source": [
    "priordf = pickle.load(open('data/pickle_files/priordf.p', 'rb'))"
   ]
  },
  {
   "cell_type": "code",
   "execution_count": 15,
   "metadata": {
    "collapsed": true
   },
   "outputs": [],
   "source": [
    "#user_info"
   ]
  },
  {
   "cell_type": "code",
   "execution_count": 16,
   "metadata": {
    "collapsed": true
   },
   "outputs": [],
   "source": [
    "user_info = pd.DataFrame()\n",
    "user_info['user_order_num'] = priordf.groupby('user_id')['order_id'].nunique().astype(np.uint16)"
   ]
  },
  {
   "cell_type": "code",
   "execution_count": 17,
   "metadata": {
    "collapsed": true
   },
   "outputs": [],
   "source": [
    "user_info['user_order_interval_mean'] = pd.DataFrame(priordf.groupby(['user_id', 'order_id'])['days_since_prior_order'].mean()).groupby(['user_id'])['days_since_prior_order'].mean().astype(np.float32)"
   ]
  },
  {
   "cell_type": "code",
   "execution_count": 18,
   "metadata": {
    "collapsed": true
   },
   "outputs": [],
   "source": [
    "user_info['user_order_interval_std'] = pd.DataFrame(priordf.groupby(['user_id', 'order_id'])['days_since_prior_order'].mean()).groupby(['user_id'])['days_since_prior_order'].std().astype(np.float32)"
   ]
  },
  {
   "cell_type": "code",
   "execution_count": 19,
   "metadata": {
    "collapsed": true
   },
   "outputs": [],
   "source": [
    "user_info['user_basket_size_mean'] = pd.DataFrame(priordf.groupby(['user_id', 'order_id'])['product_id'].count()).groupby('user_id')['product_id'].mean().astype(np.float32)"
   ]
  },
  {
   "cell_type": "code",
   "execution_count": 20,
   "metadata": {
    "collapsed": true
   },
   "outputs": [],
   "source": [
    "user_info['user_basket_size_std'] = pd.DataFrame(priordf.groupby(['user_id', 'order_id'])['product_id'].count()).groupby('user_id')['product_id'].std().astype(np.float32)"
   ]
  },
  {
   "cell_type": "code",
   "execution_count": 21,
   "metadata": {
    "collapsed": true
   },
   "outputs": [],
   "source": [
    "user_info['user_history'] = priordf.groupby('user_id')['days_since_first_order'].max().astype(np.uint16)"
   ]
  },
  {
   "cell_type": "code",
   "execution_count": 22,
   "metadata": {
    "collapsed": true
   },
   "outputs": [],
   "source": [
    "user_info.reset_index(inplace = True)"
   ]
  },
  {
   "cell_type": "code",
   "execution_count": 23,
   "metadata": {},
   "outputs": [
    {
     "data": {
      "text/html": [
       "<div>\n",
       "<style>\n",
       "    .dataframe thead tr:only-child th {\n",
       "        text-align: right;\n",
       "    }\n",
       "\n",
       "    .dataframe thead th {\n",
       "        text-align: left;\n",
       "    }\n",
       "\n",
       "    .dataframe tbody tr th {\n",
       "        vertical-align: top;\n",
       "    }\n",
       "</style>\n",
       "<table border=\"1\" class=\"dataframe\">\n",
       "  <thead>\n",
       "    <tr style=\"text-align: right;\">\n",
       "      <th></th>\n",
       "      <th>user_id</th>\n",
       "      <th>user_order_num</th>\n",
       "      <th>user_order_interval_mean</th>\n",
       "      <th>user_order_interval_std</th>\n",
       "      <th>user_basket_size_mean</th>\n",
       "      <th>user_basket_size_std</th>\n",
       "      <th>user_history</th>\n",
       "    </tr>\n",
       "  </thead>\n",
       "  <tbody>\n",
       "    <tr>\n",
       "      <th>0</th>\n",
       "      <td>1</td>\n",
       "      <td>10</td>\n",
       "      <td>19.555555</td>\n",
       "      <td>9.395625</td>\n",
       "      <td>5.900000</td>\n",
       "      <td>1.523884</td>\n",
       "      <td>176</td>\n",
       "    </tr>\n",
       "    <tr>\n",
       "      <th>1</th>\n",
       "      <td>2</td>\n",
       "      <td>14</td>\n",
       "      <td>15.230769</td>\n",
       "      <td>9.867064</td>\n",
       "      <td>13.928572</td>\n",
       "      <td>5.717238</td>\n",
       "      <td>198</td>\n",
       "    </tr>\n",
       "    <tr>\n",
       "      <th>2</th>\n",
       "      <td>3</td>\n",
       "      <td>12</td>\n",
       "      <td>12.090909</td>\n",
       "      <td>5.375026</td>\n",
       "      <td>7.333333</td>\n",
       "      <td>2.103388</td>\n",
       "      <td>133</td>\n",
       "    </tr>\n",
       "    <tr>\n",
       "      <th>3</th>\n",
       "      <td>4</td>\n",
       "      <td>5</td>\n",
       "      <td>13.750000</td>\n",
       "      <td>9.500000</td>\n",
       "      <td>3.600000</td>\n",
       "      <td>2.073644</td>\n",
       "      <td>55</td>\n",
       "    </tr>\n",
       "    <tr>\n",
       "      <th>4</th>\n",
       "      <td>5</td>\n",
       "      <td>4</td>\n",
       "      <td>13.333333</td>\n",
       "      <td>4.932883</td>\n",
       "      <td>9.250000</td>\n",
       "      <td>3.095696</td>\n",
       "      <td>40</td>\n",
       "    </tr>\n",
       "  </tbody>\n",
       "</table>\n",
       "</div>"
      ],
      "text/plain": [
       "   user_id  user_order_num  user_order_interval_mean  user_order_interval_std  \\\n",
       "0        1              10                 19.555555                 9.395625   \n",
       "1        2              14                 15.230769                 9.867064   \n",
       "2        3              12                 12.090909                 5.375026   \n",
       "3        4               5                 13.750000                 9.500000   \n",
       "4        5               4                 13.333333                 4.932883   \n",
       "\n",
       "   user_basket_size_mean  user_basket_size_std  user_history  \n",
       "0               5.900000              1.523884           176  \n",
       "1              13.928572              5.717238           198  \n",
       "2               7.333333              2.103388           133  \n",
       "3               3.600000              2.073644            55  \n",
       "4               9.250000              3.095696            40  "
      ]
     },
     "execution_count": 23,
     "metadata": {},
     "output_type": "execute_result"
    }
   ],
   "source": [
    "user_info.head()"
   ]
  },
  {
   "cell_type": "code",
   "execution_count": 24,
   "metadata": {
    "collapsed": true
   },
   "outputs": [],
   "source": [
    "#pickle.dump(user_info, open('data/pickle_files/user_info.p', 'wb'))"
   ]
  },
  {
   "cell_type": "code",
   "execution_count": null,
   "metadata": {
    "collapsed": true
   },
   "outputs": [],
   "source": [
    "#product_info"
   ]
  },
  {
   "cell_type": "code",
   "execution_count": 25,
   "metadata": {
    "collapsed": true
   },
   "outputs": [],
   "source": [
    "product_info = pd.DataFrame()"
   ]
  },
  {
   "cell_type": "code",
   "execution_count": 26,
   "metadata": {
    "collapsed": true
   },
   "outputs": [],
   "source": [
    "product_info['product_user_num'] = priordf.groupby(['product_id'])['user_id'].nunique().astype(np.uint32)"
   ]
  },
  {
   "cell_type": "code",
   "execution_count": 27,
   "metadata": {
    "collapsed": true
   },
   "outputs": [],
   "source": [
    "product_info['product_order_num'] = priordf.groupby(['product_id'])['order_id'].nunique().astype(np.uint32)"
   ]
  },
  {
   "cell_type": "code",
   "execution_count": 28,
   "metadata": {
    "collapsed": true
   },
   "outputs": [],
   "source": [
    "product_info['product_order_interval_mean'] = priordf.groupby(['product_id'])['days_since_prior_product_purchase'].mean().astype(np.float32)"
   ]
  },
  {
   "cell_type": "code",
   "execution_count": 29,
   "metadata": {
    "collapsed": true
   },
   "outputs": [],
   "source": [
    "product_info['product_order_interval_std'] = priordf.groupby(['product_id'])['days_since_prior_product_purchase'].std().astype(np.float32)"
   ]
  },
  {
   "cell_type": "code",
   "execution_count": 30,
   "metadata": {
    "collapsed": true
   },
   "outputs": [],
   "source": [
    "product_info['product_reorder_num'] = priordf[priordf.reordered == 1].groupby(['product_id'])['order_id'].nunique().astype(np.uint32)"
   ]
  },
  {
   "cell_type": "code",
   "execution_count": 31,
   "metadata": {
    "collapsed": true
   },
   "outputs": [],
   "source": [
    "product_info['product_reorder_num'].fillna(0, inplace = True)"
   ]
  },
  {
   "cell_type": "code",
   "execution_count": 32,
   "metadata": {
    "collapsed": true
   },
   "outputs": [],
   "source": [
    "product_info['product_reorder_user_num'] = priordf[priordf.reordered == 1].groupby(['product_id'])['user_id'].nunique().astype(np.uint32)"
   ]
  },
  {
   "cell_type": "code",
   "execution_count": 33,
   "metadata": {
    "collapsed": true
   },
   "outputs": [],
   "source": [
    "product_info['product_reorder_user_num'].fillna(0, inplace = True)"
   ]
  },
  {
   "cell_type": "code",
   "execution_count": 34,
   "metadata": {
    "collapsed": true
   },
   "outputs": [],
   "source": [
    "product_info['product_reorder_ratio'] = product_info['product_reorder_num']/product_info['product_order_num']"
   ]
  },
  {
   "cell_type": "code",
   "execution_count": 35,
   "metadata": {
    "collapsed": true
   },
   "outputs": [],
   "source": [
    "product_info['product_reorder_user_ratio'] = product_info['product_reorder_user_num']/product_info['product_user_num']"
   ]
  },
  {
   "cell_type": "code",
   "execution_count": 36,
   "metadata": {
    "collapsed": true
   },
   "outputs": [],
   "source": [
    "product_info['product_add_to_cart_order_mean'] = priordf.groupby(['product_id'])['add_to_cart_order'].mean().astype(np.float32)"
   ]
  },
  {
   "cell_type": "code",
   "execution_count": 37,
   "metadata": {
    "collapsed": true
   },
   "outputs": [],
   "source": [
    "product_info['product_add_to_cart_order_std'] = priordf.groupby(['product_id'])['add_to_cart_order'].std().astype(np.float32)"
   ]
  },
  {
   "cell_type": "code",
   "execution_count": 38,
   "metadata": {
    "collapsed": true
   },
   "outputs": [],
   "source": [
    "product_info.reset_index(inplace = True)"
   ]
  },
  {
   "cell_type": "code",
   "execution_count": 39,
   "metadata": {
    "collapsed": true
   },
   "outputs": [],
   "source": [
    "product_info = pd.merge(product_info, products, on = 'product_id', how = 'left')"
   ]
  },
  {
   "cell_type": "code",
   "execution_count": 11,
   "metadata": {
    "collapsed": true
   },
   "outputs": [],
   "source": [
    "product_info['product_order_interval_mean_NaN'] = product_info.product_order_interval_mean.isnull()\n",
    "product_info['product_order_interval_mean_NaN'].replace([False, True], [0, 1], inplace = True)\n",
    "product_info['product_order_interval_std_NaN'] = product_info.product_order_interval_std.isnull()\n",
    "product_info['product_order_interval_std_NaN'].replace([False, True], [0, 1], inplace = True)\n",
    "product_info['product_add_to_cart_order_std_NaN'] = product_info.product_add_to_cart_order_std.isnull()\n",
    "product_info['product_add_to_cart_order_std_NaN'].replace([False, True], [0, 1], inplace = True)"
   ]
  },
  {
   "cell_type": "code",
   "execution_count": null,
   "metadata": {
    "collapsed": true
   },
   "outputs": [],
   "source": [
    "product_info.fillna(product_info.mean(), inplace = True)"
   ]
  },
  {
   "cell_type": "code",
   "execution_count": 13,
   "metadata": {},
   "outputs": [
    {
     "data": {
      "text/html": [
       "<div>\n",
       "<style>\n",
       "    .dataframe thead tr:only-child th {\n",
       "        text-align: right;\n",
       "    }\n",
       "\n",
       "    .dataframe thead th {\n",
       "        text-align: left;\n",
       "    }\n",
       "\n",
       "    .dataframe tbody tr th {\n",
       "        vertical-align: top;\n",
       "    }\n",
       "</style>\n",
       "<table border=\"1\" class=\"dataframe\">\n",
       "  <thead>\n",
       "    <tr style=\"text-align: right;\">\n",
       "      <th></th>\n",
       "      <th>product_id</th>\n",
       "      <th>product_user_num</th>\n",
       "      <th>product_order_num</th>\n",
       "      <th>product_order_interval_mean</th>\n",
       "      <th>product_order_interval_std</th>\n",
       "      <th>product_reorder_num</th>\n",
       "      <th>product_reorder_user_num</th>\n",
       "      <th>product_reorder_ratio</th>\n",
       "      <th>product_reorder_user_ratio</th>\n",
       "      <th>product_add_to_cart_order_mean</th>\n",
       "      <th>product_add_to_cart_order_std</th>\n",
       "      <th>product_name</th>\n",
       "      <th>aisle_id</th>\n",
       "      <th>department_id</th>\n",
       "      <th>product_order_interval_mean_NaN</th>\n",
       "      <th>product_order_interval_std_NaN</th>\n",
       "      <th>product_add_to_cart_order_std_NaN</th>\n",
       "    </tr>\n",
       "  </thead>\n",
       "  <tbody>\n",
       "    <tr>\n",
       "      <th>0</th>\n",
       "      <td>1</td>\n",
       "      <td>716</td>\n",
       "      <td>1852</td>\n",
       "      <td>27.961267</td>\n",
       "      <td>37.873127</td>\n",
       "      <td>1136.0</td>\n",
       "      <td>276.0</td>\n",
       "      <td>0.613391</td>\n",
       "      <td>0.385475</td>\n",
       "      <td>5.801836</td>\n",
       "      <td>5.575389</td>\n",
       "      <td>Chocolate Sandwich Cookies</td>\n",
       "      <td>61</td>\n",
       "      <td>19</td>\n",
       "      <td>0</td>\n",
       "      <td>0</td>\n",
       "      <td>0</td>\n",
       "    </tr>\n",
       "    <tr>\n",
       "      <th>1</th>\n",
       "      <td>2</td>\n",
       "      <td>78</td>\n",
       "      <td>90</td>\n",
       "      <td>50.166668</td>\n",
       "      <td>52.135895</td>\n",
       "      <td>12.0</td>\n",
       "      <td>8.0</td>\n",
       "      <td>0.133333</td>\n",
       "      <td>0.102564</td>\n",
       "      <td>9.888889</td>\n",
       "      <td>7.821671</td>\n",
       "      <td>All-Seasons Salt</td>\n",
       "      <td>104</td>\n",
       "      <td>13</td>\n",
       "      <td>0</td>\n",
       "      <td>0</td>\n",
       "      <td>0</td>\n",
       "    </tr>\n",
       "    <tr>\n",
       "      <th>2</th>\n",
       "      <td>3</td>\n",
       "      <td>74</td>\n",
       "      <td>277</td>\n",
       "      <td>19.369457</td>\n",
       "      <td>24.833035</td>\n",
       "      <td>203.0</td>\n",
       "      <td>36.0</td>\n",
       "      <td>0.732852</td>\n",
       "      <td>0.486486</td>\n",
       "      <td>6.415163</td>\n",
       "      <td>6.472701</td>\n",
       "      <td>Robust Golden Unsweetened Oolong Tea</td>\n",
       "      <td>94</td>\n",
       "      <td>7</td>\n",
       "      <td>0</td>\n",
       "      <td>0</td>\n",
       "      <td>0</td>\n",
       "    </tr>\n",
       "    <tr>\n",
       "      <th>3</th>\n",
       "      <td>4</td>\n",
       "      <td>182</td>\n",
       "      <td>329</td>\n",
       "      <td>31.707483</td>\n",
       "      <td>28.790031</td>\n",
       "      <td>147.0</td>\n",
       "      <td>64.0</td>\n",
       "      <td>0.446809</td>\n",
       "      <td>0.351648</td>\n",
       "      <td>9.507599</td>\n",
       "      <td>6.861485</td>\n",
       "      <td>Smart Ones Classic Favorites Mini Rigatoni Wit...</td>\n",
       "      <td>38</td>\n",
       "      <td>1</td>\n",
       "      <td>0</td>\n",
       "      <td>0</td>\n",
       "      <td>0</td>\n",
       "    </tr>\n",
       "    <tr>\n",
       "      <th>4</th>\n",
       "      <td>5</td>\n",
       "      <td>6</td>\n",
       "      <td>15</td>\n",
       "      <td>34.888889</td>\n",
       "      <td>36.511795</td>\n",
       "      <td>9.0</td>\n",
       "      <td>4.0</td>\n",
       "      <td>0.600000</td>\n",
       "      <td>0.666667</td>\n",
       "      <td>6.466667</td>\n",
       "      <td>3.563038</td>\n",
       "      <td>Green Chile Anytime Sauce</td>\n",
       "      <td>5</td>\n",
       "      <td>13</td>\n",
       "      <td>0</td>\n",
       "      <td>0</td>\n",
       "      <td>0</td>\n",
       "    </tr>\n",
       "  </tbody>\n",
       "</table>\n",
       "</div>"
      ],
      "text/plain": [
       "   product_id  product_user_num  product_order_num  \\\n",
       "0           1               716               1852   \n",
       "1           2                78                 90   \n",
       "2           3                74                277   \n",
       "3           4               182                329   \n",
       "4           5                 6                 15   \n",
       "\n",
       "   product_order_interval_mean  product_order_interval_std  \\\n",
       "0                    27.961267                   37.873127   \n",
       "1                    50.166668                   52.135895   \n",
       "2                    19.369457                   24.833035   \n",
       "3                    31.707483                   28.790031   \n",
       "4                    34.888889                   36.511795   \n",
       "\n",
       "   product_reorder_num  product_reorder_user_num  product_reorder_ratio  \\\n",
       "0               1136.0                     276.0               0.613391   \n",
       "1                 12.0                       8.0               0.133333   \n",
       "2                203.0                      36.0               0.732852   \n",
       "3                147.0                      64.0               0.446809   \n",
       "4                  9.0                       4.0               0.600000   \n",
       "\n",
       "   product_reorder_user_ratio  product_add_to_cart_order_mean  \\\n",
       "0                    0.385475                        5.801836   \n",
       "1                    0.102564                        9.888889   \n",
       "2                    0.486486                        6.415163   \n",
       "3                    0.351648                        9.507599   \n",
       "4                    0.666667                        6.466667   \n",
       "\n",
       "   product_add_to_cart_order_std  \\\n",
       "0                       5.575389   \n",
       "1                       7.821671   \n",
       "2                       6.472701   \n",
       "3                       6.861485   \n",
       "4                       3.563038   \n",
       "\n",
       "                                        product_name  aisle_id  department_id  \\\n",
       "0                         Chocolate Sandwich Cookies        61             19   \n",
       "1                                   All-Seasons Salt       104             13   \n",
       "2               Robust Golden Unsweetened Oolong Tea        94              7   \n",
       "3  Smart Ones Classic Favorites Mini Rigatoni Wit...        38              1   \n",
       "4                          Green Chile Anytime Sauce         5             13   \n",
       "\n",
       "   product_order_interval_mean_NaN  product_order_interval_std_NaN  \\\n",
       "0                                0                               0   \n",
       "1                                0                               0   \n",
       "2                                0                               0   \n",
       "3                                0                               0   \n",
       "4                                0                               0   \n",
       "\n",
       "   product_add_to_cart_order_std_NaN  \n",
       "0                                  0  \n",
       "1                                  0  \n",
       "2                                  0  \n",
       "3                                  0  \n",
       "4                                  0  "
      ]
     },
     "execution_count": 13,
     "metadata": {},
     "output_type": "execute_result"
    }
   ],
   "source": [
    "product_info.head()"
   ]
  },
  {
   "cell_type": "code",
   "execution_count": 14,
   "metadata": {
    "collapsed": true
   },
   "outputs": [],
   "source": [
    "#pickle.dump(product_info, open('data/pickle_files/product_info.p', 'wb'))"
   ]
  },
  {
   "cell_type": "code",
   "execution_count": 11,
   "metadata": {
    "collapsed": true
   },
   "outputs": [],
   "source": [
    "#user_product_info"
   ]
  },
  {
   "cell_type": "code",
   "execution_count": 42,
   "metadata": {
    "collapsed": true
   },
   "outputs": [],
   "source": [
    "user_product_info = pd.DataFrame(priordf.reset_index().groupby(['user_id', 'product_id'])['order_id'].nunique())"
   ]
  },
  {
   "cell_type": "code",
   "execution_count": 43,
   "metadata": {
    "collapsed": true
   },
   "outputs": [],
   "source": [
    "user_product_info.rename(columns = {'order_id': 'user_product_order_num'}, inplace = True)"
   ]
  },
  {
   "cell_type": "code",
   "execution_count": 44,
   "metadata": {
    "collapsed": true
   },
   "outputs": [],
   "source": [
    "user_product_info['user_product_last_purchase_day'] = priordf.reset_index().groupby(['user_id', 'product_id'])['days_since_first_order'].max().astype(np.uint32)"
   ]
  },
  {
   "cell_type": "code",
   "execution_count": 45,
   "metadata": {
    "collapsed": true
   },
   "outputs": [],
   "source": [
    "user_product_info.rename(columns = {'user_product_order_interval': 'user_product_order_interval_mean'}, inplace = True)"
   ]
  },
  {
   "cell_type": "code",
   "execution_count": 46,
   "metadata": {
    "collapsed": true
   },
   "outputs": [],
   "source": [
    "user_product_info['user_product_order_interval_mean'] = priordf.reset_index().groupby(['user_id', 'product_id'])['days_since_prior_product_purchase'].mean()"
   ]
  },
  {
   "cell_type": "code",
   "execution_count": 47,
   "metadata": {
    "collapsed": true
   },
   "outputs": [],
   "source": [
    "user_product_info['user_product_order_interval_std'] = priordf.reset_index().groupby(['user_id', 'product_id'])['days_since_prior_product_purchase'].std()"
   ]
  },
  {
   "cell_type": "code",
   "execution_count": 48,
   "metadata": {
    "collapsed": true
   },
   "outputs": [],
   "source": [
    "user_product_info['user_product_rank'] = user_product_info.groupby('user_id')['user_product_order_num'].rank(ascending=False)"
   ]
  },
  {
   "cell_type": "code",
   "execution_count": 49,
   "metadata": {
    "collapsed": true
   },
   "outputs": [],
   "source": [
    "user_product_info['user_product_add_order_mean'] = priordf.reset_index().groupby(['user_id', 'product_id'])['add_to_cart_order'].mean().astype(np.float32)"
   ]
  },
  {
   "cell_type": "code",
   "execution_count": 50,
   "metadata": {
    "collapsed": true
   },
   "outputs": [],
   "source": [
    "user_product_info['user_product_add_order_std'] = priordf.reset_index().groupby(['user_id', 'product_id'])['add_to_cart_order'].std().astype(np.float32)"
   ]
  },
  {
   "cell_type": "code",
   "execution_count": 51,
   "metadata": {
    "collapsed": true
   },
   "outputs": [],
   "source": [
    "user_product_info = pd.merge(pd.DataFrame(user_product_info).reset_index(), user_info.reset_index()[['user_id', 'user_order_num']], on='user_id', how = 'left')"
   ]
  },
  {
   "cell_type": "code",
   "execution_count": 52,
   "metadata": {
    "collapsed": true
   },
   "outputs": [],
   "source": [
    "user_product_info['user_product_reorder_ratio'] = user_product_info.user_product_order_num/user_product_info.user_order_num"
   ]
  },
  {
   "cell_type": "code",
   "execution_count": 53,
   "metadata": {
    "collapsed": true
   },
   "outputs": [],
   "source": [
    "user_product_info.drop('user_order_num', axis = 1, inplace = True)"
   ]
  },
  {
   "cell_type": "code",
   "execution_count": 5,
   "metadata": {
    "collapsed": true
   },
   "outputs": [],
   "source": [
    "user_product_info['user_product_order_interval_mean_NaN'] = user_product_info.user_product_order_interval_mean.isnull()\n",
    "user_product_info['user_product_order_interval_mean_NaN'].replace([False, True], [0, 1], inplace = True)\n",
    "user_product_info['user_product_order_interval_std_NaN'] = user_product_info.user_product_order_interval_std.isnull()\n",
    "user_product_info['user_product_order_interval_std_NaN'].replace([False, True], [0, 1], inplace = True)\n",
    "user_product_info['user_product_add_order_std_NaN'] = user_product_info.user_product_add_order_std.isnull()\n",
    "user_product_info['user_product_add_order_std_NaN'].replace([False, True], [0, 1], inplace = True)"
   ]
  },
  {
   "cell_type": "code",
   "execution_count": null,
   "metadata": {
    "collapsed": true
   },
   "outputs": [],
   "source": [
    "user_product_info.fillna(user_product_info.mean(), inplace = True)"
   ]
  },
  {
   "cell_type": "code",
   "execution_count": 9,
   "metadata": {},
   "outputs": [
    {
     "data": {
      "text/html": [
       "<div>\n",
       "<style>\n",
       "    .dataframe thead tr:only-child th {\n",
       "        text-align: right;\n",
       "    }\n",
       "\n",
       "    .dataframe thead th {\n",
       "        text-align: left;\n",
       "    }\n",
       "\n",
       "    .dataframe tbody tr th {\n",
       "        vertical-align: top;\n",
       "    }\n",
       "</style>\n",
       "<table border=\"1\" class=\"dataframe\">\n",
       "  <thead>\n",
       "    <tr style=\"text-align: right;\">\n",
       "      <th></th>\n",
       "      <th>user_id</th>\n",
       "      <th>product_id</th>\n",
       "      <th>user_product_order_num</th>\n",
       "      <th>user_product_last_purchase_day</th>\n",
       "      <th>user_product_order_interval_mean</th>\n",
       "      <th>user_product_order_interval_std</th>\n",
       "      <th>user_product_rank</th>\n",
       "      <th>user_product_add_order_mean</th>\n",
       "      <th>user_product_add_order_std</th>\n",
       "      <th>user_product_reorder_ratio</th>\n",
       "      <th>user_product_order_interval_mean_NaN</th>\n",
       "      <th>user_product_order_interval_std_NaN</th>\n",
       "      <th>user_product_add_order_std_NaN</th>\n",
       "    </tr>\n",
       "  </thead>\n",
       "  <tbody>\n",
       "    <tr>\n",
       "      <th>0</th>\n",
       "      <td>1</td>\n",
       "      <td>196</td>\n",
       "      <td>10</td>\n",
       "      <td>176</td>\n",
       "      <td>19.555555</td>\n",
       "      <td>9.395625</td>\n",
       "      <td>1.5</td>\n",
       "      <td>1.400000</td>\n",
       "      <td>0.966092</td>\n",
       "      <td>1.0</td>\n",
       "      <td>0</td>\n",
       "      <td>0</td>\n",
       "      <td>0</td>\n",
       "    </tr>\n",
       "    <tr>\n",
       "      <th>1</th>\n",
       "      <td>1</td>\n",
       "      <td>10258</td>\n",
       "      <td>9</td>\n",
       "      <td>176</td>\n",
       "      <td>20.125000</td>\n",
       "      <td>9.876922</td>\n",
       "      <td>3.0</td>\n",
       "      <td>3.333333</td>\n",
       "      <td>1.322876</td>\n",
       "      <td>0.9</td>\n",
       "      <td>0</td>\n",
       "      <td>0</td>\n",
       "      <td>0</td>\n",
       "    </tr>\n",
       "    <tr>\n",
       "      <th>2</th>\n",
       "      <td>1</td>\n",
       "      <td>10326</td>\n",
       "      <td>1</td>\n",
       "      <td>93</td>\n",
       "      <td>42.677544</td>\n",
       "      <td>25.335363</td>\n",
       "      <td>14.5</td>\n",
       "      <td>5.000000</td>\n",
       "      <td>4.219923</td>\n",
       "      <td>0.1</td>\n",
       "      <td>1</td>\n",
       "      <td>1</td>\n",
       "      <td>1</td>\n",
       "    </tr>\n",
       "    <tr>\n",
       "      <th>3</th>\n",
       "      <td>1</td>\n",
       "      <td>12427</td>\n",
       "      <td>10</td>\n",
       "      <td>176</td>\n",
       "      <td>19.555555</td>\n",
       "      <td>9.395625</td>\n",
       "      <td>1.5</td>\n",
       "      <td>3.300000</td>\n",
       "      <td>2.406011</td>\n",
       "      <td>1.0</td>\n",
       "      <td>0</td>\n",
       "      <td>0</td>\n",
       "      <td>0</td>\n",
       "    </tr>\n",
       "    <tr>\n",
       "      <th>4</th>\n",
       "      <td>1</td>\n",
       "      <td>13032</td>\n",
       "      <td>3</td>\n",
       "      <td>176</td>\n",
       "      <td>80.500000</td>\n",
       "      <td>51.618793</td>\n",
       "      <td>5.5</td>\n",
       "      <td>6.333333</td>\n",
       "      <td>1.527525</td>\n",
       "      <td>0.3</td>\n",
       "      <td>0</td>\n",
       "      <td>0</td>\n",
       "      <td>0</td>\n",
       "    </tr>\n",
       "  </tbody>\n",
       "</table>\n",
       "</div>"
      ],
      "text/plain": [
       "   user_id  product_id  user_product_order_num  \\\n",
       "0        1         196                      10   \n",
       "1        1       10258                       9   \n",
       "2        1       10326                       1   \n",
       "3        1       12427                      10   \n",
       "4        1       13032                       3   \n",
       "\n",
       "   user_product_last_purchase_day  user_product_order_interval_mean  \\\n",
       "0                             176                         19.555555   \n",
       "1                             176                         20.125000   \n",
       "2                              93                         42.677544   \n",
       "3                             176                         19.555555   \n",
       "4                             176                         80.500000   \n",
       "\n",
       "   user_product_order_interval_std  user_product_rank  \\\n",
       "0                         9.395625                1.5   \n",
       "1                         9.876922                3.0   \n",
       "2                        25.335363               14.5   \n",
       "3                         9.395625                1.5   \n",
       "4                        51.618793                5.5   \n",
       "\n",
       "   user_product_add_order_mean  user_product_add_order_std  \\\n",
       "0                     1.400000                    0.966092   \n",
       "1                     3.333333                    1.322876   \n",
       "2                     5.000000                    4.219923   \n",
       "3                     3.300000                    2.406011   \n",
       "4                     6.333333                    1.527525   \n",
       "\n",
       "   user_product_reorder_ratio  user_product_order_interval_mean_NaN  \\\n",
       "0                         1.0                                     0   \n",
       "1                         0.9                                     0   \n",
       "2                         0.1                                     1   \n",
       "3                         1.0                                     0   \n",
       "4                         0.3                                     0   \n",
       "\n",
       "   user_product_order_interval_std_NaN  user_product_add_order_std_NaN  \n",
       "0                                    0                               0  \n",
       "1                                    0                               0  \n",
       "2                                    1                               1  \n",
       "3                                    0                               0  \n",
       "4                                    0                               0  "
      ]
     },
     "execution_count": 9,
     "metadata": {},
     "output_type": "execute_result"
    }
   ],
   "source": [
    "user_product_info.head()"
   ]
  },
  {
   "cell_type": "code",
   "execution_count": 10,
   "metadata": {
    "collapsed": true
   },
   "outputs": [],
   "source": [
    "#pickle.dump(user_product_info, open('data/pickle_files/user_product_info.p', 'wb'))"
   ]
  },
  {
   "cell_type": "code",
   "execution_count": 64,
   "metadata": {
    "collapsed": true
   },
   "outputs": [],
   "source": [
    "#ordertime_info"
   ]
  },
  {
   "cell_type": "code",
   "execution_count": 48,
   "metadata": {
    "collapsed": true
   },
   "outputs": [],
   "source": [
    "ordertime_info = pd.DataFrame(priordf.reset_index().groupby(['order_dow', 'order_hour_group'])['order_id'].nunique())"
   ]
  },
  {
   "cell_type": "code",
   "execution_count": 49,
   "metadata": {
    "collapsed": true
   },
   "outputs": [],
   "source": [
    "ordertime_info.rename(columns = {'order_id': 'ordertime_order_num'}, inplace = True)"
   ]
  },
  {
   "cell_type": "code",
   "execution_count": 50,
   "metadata": {
    "collapsed": true
   },
   "outputs": [],
   "source": [
    "ordertime_info.reset_index(inplace=True)"
   ]
  },
  {
   "cell_type": "code",
   "execution_count": 51,
   "metadata": {},
   "outputs": [
    {
     "data": {
      "text/html": [
       "<div>\n",
       "<style>\n",
       "    .dataframe thead tr:only-child th {\n",
       "        text-align: right;\n",
       "    }\n",
       "\n",
       "    .dataframe thead th {\n",
       "        text-align: left;\n",
       "    }\n",
       "\n",
       "    .dataframe tbody tr th {\n",
       "        vertical-align: top;\n",
       "    }\n",
       "</style>\n",
       "<table border=\"1\" class=\"dataframe\">\n",
       "  <thead>\n",
       "    <tr style=\"text-align: right;\">\n",
       "      <th></th>\n",
       "      <th>order_dow</th>\n",
       "      <th>order_hour_group</th>\n",
       "      <th>ordertime_order_num</th>\n",
       "    </tr>\n",
       "  </thead>\n",
       "  <tbody>\n",
       "    <tr>\n",
       "      <th>0</th>\n",
       "      <td>0</td>\n",
       "      <td>11-14</td>\n",
       "      <td>195567</td>\n",
       "    </tr>\n",
       "    <tr>\n",
       "      <th>1</th>\n",
       "      <td>0</td>\n",
       "      <td>15-18</td>\n",
       "      <td>160171</td>\n",
       "    </tr>\n",
       "    <tr>\n",
       "      <th>2</th>\n",
       "      <td>0</td>\n",
       "      <td>19-22</td>\n",
       "      <td>61821</td>\n",
       "    </tr>\n",
       "    <tr>\n",
       "      <th>3</th>\n",
       "      <td>0</td>\n",
       "      <td>22-2</td>\n",
       "      <td>13619</td>\n",
       "    </tr>\n",
       "    <tr>\n",
       "      <th>4</th>\n",
       "      <td>0</td>\n",
       "      <td>3-6</td>\n",
       "      <td>5852</td>\n",
       "    </tr>\n",
       "  </tbody>\n",
       "</table>\n",
       "</div>"
      ],
      "text/plain": [
       "   order_dow order_hour_group  ordertime_order_num\n",
       "0          0            11-14               195567\n",
       "1          0            15-18               160171\n",
       "2          0            19-22                61821\n",
       "3          0             22-2                13619\n",
       "4          0              3-6                 5852"
      ]
     },
     "execution_count": 51,
     "metadata": {},
     "output_type": "execute_result"
    }
   ],
   "source": [
    "ordertime_info.head()"
   ]
  },
  {
   "cell_type": "code",
   "execution_count": 52,
   "metadata": {
    "collapsed": true
   },
   "outputs": [],
   "source": [
    "#pickle.dump(ordertime_info, open('data/pickle_files/ordertime_info.p', 'wb'))"
   ]
  },
  {
   "cell_type": "code",
   "execution_count": 53,
   "metadata": {
    "collapsed": true
   },
   "outputs": [],
   "source": [
    "user_ordertime_info = pd.DataFrame(priordf.reset_index().groupby(['user_id','order_dow', 'order_hour_group'])['order_id'].nunique())"
   ]
  },
  {
   "cell_type": "code",
   "execution_count": 54,
   "metadata": {
    "collapsed": true
   },
   "outputs": [],
   "source": [
    "user_ordertime_info.rename(columns = {'order_id': 'user_ordertime_order_num'}, inplace = True)\n",
    "user_ordertime_info.reset_index(inplace=True)"
   ]
  },
  {
   "cell_type": "code",
   "execution_count": 55,
   "metadata": {},
   "outputs": [
    {
     "data": {
      "text/html": [
       "<div>\n",
       "<style>\n",
       "    .dataframe thead tr:only-child th {\n",
       "        text-align: right;\n",
       "    }\n",
       "\n",
       "    .dataframe thead th {\n",
       "        text-align: left;\n",
       "    }\n",
       "\n",
       "    .dataframe tbody tr th {\n",
       "        vertical-align: top;\n",
       "    }\n",
       "</style>\n",
       "<table border=\"1\" class=\"dataframe\">\n",
       "  <thead>\n",
       "    <tr style=\"text-align: right;\">\n",
       "      <th></th>\n",
       "      <th>user_id</th>\n",
       "      <th>order_dow</th>\n",
       "      <th>order_hour_group</th>\n",
       "      <th>user_ordertime_order_num</th>\n",
       "    </tr>\n",
       "  </thead>\n",
       "  <tbody>\n",
       "    <tr>\n",
       "      <th>0</th>\n",
       "      <td>1</td>\n",
       "      <td>1</td>\n",
       "      <td>11-14</td>\n",
       "      <td>1</td>\n",
       "    </tr>\n",
       "    <tr>\n",
       "      <th>1</th>\n",
       "      <td>1</td>\n",
       "      <td>1</td>\n",
       "      <td>15-18</td>\n",
       "      <td>1</td>\n",
       "    </tr>\n",
       "    <tr>\n",
       "      <th>2</th>\n",
       "      <td>1</td>\n",
       "      <td>1</td>\n",
       "      <td>7-10</td>\n",
       "      <td>1</td>\n",
       "    </tr>\n",
       "    <tr>\n",
       "      <th>3</th>\n",
       "      <td>1</td>\n",
       "      <td>2</td>\n",
       "      <td>7-10</td>\n",
       "      <td>2</td>\n",
       "    </tr>\n",
       "    <tr>\n",
       "      <th>4</th>\n",
       "      <td>1</td>\n",
       "      <td>3</td>\n",
       "      <td>11-14</td>\n",
       "      <td>1</td>\n",
       "    </tr>\n",
       "  </tbody>\n",
       "</table>\n",
       "</div>"
      ],
      "text/plain": [
       "   user_id  order_dow order_hour_group  user_ordertime_order_num\n",
       "0        1          1            11-14                         1\n",
       "1        1          1            15-18                         1\n",
       "2        1          1             7-10                         1\n",
       "3        1          2             7-10                         2\n",
       "4        1          3            11-14                         1"
      ]
     },
     "execution_count": 55,
     "metadata": {},
     "output_type": "execute_result"
    }
   ],
   "source": [
    "user_ordertime_info.head()"
   ]
  },
  {
   "cell_type": "code",
   "execution_count": 56,
   "metadata": {
    "collapsed": true
   },
   "outputs": [],
   "source": [
    "#pickle.dump(user_ordertime_info, open('data/pickle_files/user_ordertime_info.p', 'wb'))"
   ]
  },
  {
   "cell_type": "code",
   "execution_count": 57,
   "metadata": {
    "collapsed": true
   },
   "outputs": [],
   "source": [
    "product_ordertime_info = pd.DataFrame(priordf.reset_index().groupby(['product_id','order_dow', 'order_hour_group'])['order_id'].nunique())"
   ]
  },
  {
   "cell_type": "code",
   "execution_count": 58,
   "metadata": {
    "collapsed": true
   },
   "outputs": [],
   "source": [
    "product_ordertime_info.rename(columns = {'order_id': 'product_ordertime_order_num'}, inplace = True)\n",
    "product_ordertime_info.reset_index(inplace=True)"
   ]
  },
  {
   "cell_type": "code",
   "execution_count": 59,
   "metadata": {},
   "outputs": [
    {
     "data": {
      "text/html": [
       "<div>\n",
       "<style>\n",
       "    .dataframe thead tr:only-child th {\n",
       "        text-align: right;\n",
       "    }\n",
       "\n",
       "    .dataframe thead th {\n",
       "        text-align: left;\n",
       "    }\n",
       "\n",
       "    .dataframe tbody tr th {\n",
       "        vertical-align: top;\n",
       "    }\n",
       "</style>\n",
       "<table border=\"1\" class=\"dataframe\">\n",
       "  <thead>\n",
       "    <tr style=\"text-align: right;\">\n",
       "      <th></th>\n",
       "      <th>product_id</th>\n",
       "      <th>order_dow</th>\n",
       "      <th>order_hour_group</th>\n",
       "      <th>product_ordertime_order_num</th>\n",
       "    </tr>\n",
       "  </thead>\n",
       "  <tbody>\n",
       "    <tr>\n",
       "      <th>0</th>\n",
       "      <td>1</td>\n",
       "      <td>0</td>\n",
       "      <td>11-14</td>\n",
       "      <td>51</td>\n",
       "    </tr>\n",
       "    <tr>\n",
       "      <th>1</th>\n",
       "      <td>1</td>\n",
       "      <td>0</td>\n",
       "      <td>15-18</td>\n",
       "      <td>62</td>\n",
       "    </tr>\n",
       "    <tr>\n",
       "      <th>2</th>\n",
       "      <td>1</td>\n",
       "      <td>0</td>\n",
       "      <td>19-22</td>\n",
       "      <td>42</td>\n",
       "    </tr>\n",
       "    <tr>\n",
       "      <th>3</th>\n",
       "      <td>1</td>\n",
       "      <td>0</td>\n",
       "      <td>22-2</td>\n",
       "      <td>11</td>\n",
       "    </tr>\n",
       "    <tr>\n",
       "      <th>4</th>\n",
       "      <td>1</td>\n",
       "      <td>0</td>\n",
       "      <td>3-6</td>\n",
       "      <td>2</td>\n",
       "    </tr>\n",
       "  </tbody>\n",
       "</table>\n",
       "</div>"
      ],
      "text/plain": [
       "   product_id  order_dow order_hour_group  product_ordertime_order_num\n",
       "0           1          0            11-14                           51\n",
       "1           1          0            15-18                           62\n",
       "2           1          0            19-22                           42\n",
       "3           1          0             22-2                           11\n",
       "4           1          0              3-6                            2"
      ]
     },
     "execution_count": 59,
     "metadata": {},
     "output_type": "execute_result"
    }
   ],
   "source": [
    "product_ordertime_info.head()"
   ]
  },
  {
   "cell_type": "code",
   "execution_count": 60,
   "metadata": {
    "collapsed": true
   },
   "outputs": [],
   "source": [
    "#pickle.dump(product_ordertime_info, open('data/pickle_files/product_ordertime_info.p', 'wb'))"
   ]
  },
  {
   "cell_type": "code",
   "execution_count": 76,
   "metadata": {
    "collapsed": true
   },
   "outputs": [],
   "source": [
    "#aisle_info"
   ]
  },
  {
   "cell_type": "code",
   "execution_count": 126,
   "metadata": {
    "collapsed": true
   },
   "outputs": [],
   "source": [
    "aisle_info = pd.DataFrame()"
   ]
  },
  {
   "cell_type": "code",
   "execution_count": 135,
   "metadata": {
    "collapsed": true
   },
   "outputs": [],
   "source": [
    "aisle_info['aisle_user_num'] = priordf.groupby(['aisle_id'])['user_id'].nunique().astype(np.uint32)"
   ]
  },
  {
   "cell_type": "code",
   "execution_count": 137,
   "metadata": {
    "collapsed": true
   },
   "outputs": [],
   "source": [
    "aisle_info['aisle_order_num'] = priordf.groupby(['aisle_id'])['order_id'].nunique().astype(np.uint32)"
   ]
  },
  {
   "cell_type": "code",
   "execution_count": 139,
   "metadata": {
    "collapsed": true
   },
   "outputs": [],
   "source": [
    "aisle_info['aisle_order_interval_mean'] = product_info.groupby(['aisle_id'])['product_order_interval_mean'].mean().astype(np.uint32)"
   ]
  },
  {
   "cell_type": "code",
   "execution_count": 140,
   "metadata": {
    "collapsed": true
   },
   "outputs": [],
   "source": [
    "aisle_info['aisle_order_interval_std'] = product_info.groupby(['aisle_id'])['product_order_interval_mean'].std().astype(np.uint32)"
   ]
  },
  {
   "cell_type": "code",
   "execution_count": 141,
   "metadata": {
    "collapsed": true
   },
   "outputs": [],
   "source": [
    "aisle_info['aisle_reorder_num'] = priordf[priordf.reordered == 1].groupby(['aisle_id'])['order_id'].nunique().astype(np.uint32)"
   ]
  },
  {
   "cell_type": "code",
   "execution_count": 142,
   "metadata": {
    "collapsed": true
   },
   "outputs": [],
   "source": [
    "aisle_info['aisle_reorder_num'].fillna(0, inplace = True)"
   ]
  },
  {
   "cell_type": "code",
   "execution_count": 143,
   "metadata": {
    "collapsed": true
   },
   "outputs": [],
   "source": [
    "aisle_info['aisle_reorder_user_num'] = priordf[priordf.reordered == 1].groupby(['aisle_id'])['user_id'].nunique().astype(np.uint32)"
   ]
  },
  {
   "cell_type": "code",
   "execution_count": 144,
   "metadata": {
    "collapsed": true
   },
   "outputs": [],
   "source": [
    "aisle_info['aisle_reorder_user_num'].fillna(0, inplace = True)"
   ]
  },
  {
   "cell_type": "code",
   "execution_count": 145,
   "metadata": {
    "collapsed": true
   },
   "outputs": [],
   "source": [
    "aisle_info['aisle_reorder_ratio'] = aisle_info['aisle_reorder_num']/aisle_info['aisle_order_num']"
   ]
  },
  {
   "cell_type": "code",
   "execution_count": 146,
   "metadata": {
    "collapsed": true
   },
   "outputs": [],
   "source": [
    "aisle_info['aisle_reorder_user_ratio'] = aisle_info['aisle_reorder_user_num']/aisle_info['aisle_user_num']"
   ]
  },
  {
   "cell_type": "code",
   "execution_count": 148,
   "metadata": {
    "collapsed": true
   },
   "outputs": [],
   "source": [
    "aisle_info['aisle_product_add_to_cart_order_mean'] = product_info.groupby(['aisle_id'])['product_add_to_cart_order_mean'].mean().astype(np.float32)"
   ]
  },
  {
   "cell_type": "code",
   "execution_count": 149,
   "metadata": {
    "collapsed": true
   },
   "outputs": [],
   "source": [
    "aisle_info['aisle_product_add_to_cart_order_std'] = product_info.groupby(['aisle_id'])['product_add_to_cart_order_mean'].std().astype(np.float32)"
   ]
  },
  {
   "cell_type": "code",
   "execution_count": 150,
   "metadata": {
    "collapsed": true
   },
   "outputs": [],
   "source": [
    "aisle_info.reset_index(inplace = True)"
   ]
  },
  {
   "cell_type": "code",
   "execution_count": 151,
   "metadata": {
    "collapsed": true
   },
   "outputs": [],
   "source": [
    "aisle_info = pd.merge(aisle_info, aisles, on = 'aisle_id', how = 'left')"
   ]
  },
  {
   "cell_type": "code",
   "execution_count": 159,
   "metadata": {
    "scrolled": true
   },
   "outputs": [
    {
     "data": {
      "text/html": [
       "<div>\n",
       "<style>\n",
       "    .dataframe thead tr:only-child th {\n",
       "        text-align: right;\n",
       "    }\n",
       "\n",
       "    .dataframe thead th {\n",
       "        text-align: left;\n",
       "    }\n",
       "\n",
       "    .dataframe tbody tr th {\n",
       "        vertical-align: top;\n",
       "    }\n",
       "</style>\n",
       "<table border=\"1\" class=\"dataframe\">\n",
       "  <thead>\n",
       "    <tr style=\"text-align: right;\">\n",
       "      <th></th>\n",
       "      <th>aisle_id</th>\n",
       "      <th>aisle_user_num</th>\n",
       "      <th>aisle_order_num</th>\n",
       "      <th>aisle_order_interval_mean</th>\n",
       "      <th>aisle_order_interval_std</th>\n",
       "      <th>aisle_reorder_num</th>\n",
       "      <th>aisle_reorder_user_num</th>\n",
       "      <th>aisle_reorder_ratio</th>\n",
       "      <th>aisle_reorder_user_ratio</th>\n",
       "      <th>aisle_product_add_to_cart_order_mean</th>\n",
       "      <th>aisle_product_add_to_cart_order_std</th>\n",
       "      <th>aisle</th>\n",
       "    </tr>\n",
       "  </thead>\n",
       "  <tbody>\n",
       "    <tr>\n",
       "      <th>0</th>\n",
       "      <td>1</td>\n",
       "      <td>20711</td>\n",
       "      <td>63115</td>\n",
       "      <td>27</td>\n",
       "      <td>13</td>\n",
       "      <td>38470</td>\n",
       "      <td>9162</td>\n",
       "      <td>0.609522</td>\n",
       "      <td>0.442374</td>\n",
       "      <td>8.818574</td>\n",
       "      <td>1.806635</td>\n",
       "      <td>prepared soups salads</td>\n",
       "    </tr>\n",
       "    <tr>\n",
       "      <th>1</th>\n",
       "      <td>2</td>\n",
       "      <td>31222</td>\n",
       "      <td>77171</td>\n",
       "      <td>36</td>\n",
       "      <td>17</td>\n",
       "      <td>38747</td>\n",
       "      <td>11799</td>\n",
       "      <td>0.502093</td>\n",
       "      <td>0.377907</td>\n",
       "      <td>9.358910</td>\n",
       "      <td>2.217766</td>\n",
       "      <td>specialty cheeses</td>\n",
       "    </tr>\n",
       "    <tr>\n",
       "      <th>2</th>\n",
       "      <td>3</td>\n",
       "      <td>63592</td>\n",
       "      <td>278151</td>\n",
       "      <td>26</td>\n",
       "      <td>14</td>\n",
       "      <td>184142</td>\n",
       "      <td>35117</td>\n",
       "      <td>0.662022</td>\n",
       "      <td>0.552224</td>\n",
       "      <td>9.891664</td>\n",
       "      <td>2.654259</td>\n",
       "      <td>energy granola bars</td>\n",
       "    </tr>\n",
       "    <tr>\n",
       "      <th>3</th>\n",
       "      <td>4</td>\n",
       "      <td>53892</td>\n",
       "      <td>165541</td>\n",
       "      <td>36</td>\n",
       "      <td>15</td>\n",
       "      <td>88508</td>\n",
       "      <td>24734</td>\n",
       "      <td>0.534659</td>\n",
       "      <td>0.458955</td>\n",
       "      <td>10.449979</td>\n",
       "      <td>2.380114</td>\n",
       "      <td>instant foods</td>\n",
       "    </tr>\n",
       "    <tr>\n",
       "      <th>4</th>\n",
       "      <td>5</td>\n",
       "      <td>32312</td>\n",
       "      <td>58390</td>\n",
       "      <td>46</td>\n",
       "      <td>26</td>\n",
       "      <td>16977</td>\n",
       "      <td>7847</td>\n",
       "      <td>0.290752</td>\n",
       "      <td>0.242851</td>\n",
       "      <td>10.370530</td>\n",
       "      <td>2.503755</td>\n",
       "      <td>marinades meat preparation</td>\n",
       "    </tr>\n",
       "  </tbody>\n",
       "</table>\n",
       "</div>"
      ],
      "text/plain": [
       "   aisle_id  aisle_user_num  aisle_order_num  aisle_order_interval_mean  \\\n",
       "0         1           20711            63115                         27   \n",
       "1         2           31222            77171                         36   \n",
       "2         3           63592           278151                         26   \n",
       "3         4           53892           165541                         36   \n",
       "4         5           32312            58390                         46   \n",
       "\n",
       "   aisle_order_interval_std  aisle_reorder_num  aisle_reorder_user_num  \\\n",
       "0                        13              38470                    9162   \n",
       "1                        17              38747                   11799   \n",
       "2                        14             184142                   35117   \n",
       "3                        15              88508                   24734   \n",
       "4                        26              16977                    7847   \n",
       "\n",
       "   aisle_reorder_ratio  aisle_reorder_user_ratio  \\\n",
       "0             0.609522                  0.442374   \n",
       "1             0.502093                  0.377907   \n",
       "2             0.662022                  0.552224   \n",
       "3             0.534659                  0.458955   \n",
       "4             0.290752                  0.242851   \n",
       "\n",
       "   aisle_product_add_to_cart_order_mean  aisle_product_add_to_cart_order_std  \\\n",
       "0                              8.818574                             1.806635   \n",
       "1                              9.358910                             2.217766   \n",
       "2                              9.891664                             2.654259   \n",
       "3                             10.449979                             2.380114   \n",
       "4                             10.370530                             2.503755   \n",
       "\n",
       "                        aisle  \n",
       "0       prepared soups salads  \n",
       "1           specialty cheeses  \n",
       "2         energy granola bars  \n",
       "3               instant foods  \n",
       "4  marinades meat preparation  "
      ]
     },
     "execution_count": 159,
     "metadata": {},
     "output_type": "execute_result"
    }
   ],
   "source": [
    "aisle_info.head()"
   ]
  },
  {
   "cell_type": "code",
   "execution_count": 160,
   "metadata": {
    "collapsed": true
   },
   "outputs": [],
   "source": [
    "#pickle.dump(aisle_info, open('data/pickle_files/aisle_info.p', 'wb'))"
   ]
  },
  {
   "cell_type": "code",
   "execution_count": 162,
   "metadata": {
    "collapsed": true
   },
   "outputs": [],
   "source": [
    "department_info = pd.DataFrame()"
   ]
  },
  {
   "cell_type": "code",
   "execution_count": 163,
   "metadata": {
    "collapsed": true
   },
   "outputs": [],
   "source": [
    "department_info['department_user_num'] = priordf.groupby(['department_id'])['user_id'].nunique().astype(np.uint32)"
   ]
  },
  {
   "cell_type": "code",
   "execution_count": 164,
   "metadata": {
    "collapsed": true
   },
   "outputs": [],
   "source": [
    "department_info['department_order_num'] = priordf.groupby(['department_id'])['order_id'].nunique().astype(np.uint32)"
   ]
  },
  {
   "cell_type": "code",
   "execution_count": 165,
   "metadata": {
    "collapsed": true
   },
   "outputs": [],
   "source": [
    "department_info['department_order_interval_mean'] = product_info.groupby(['department_id'])['product_order_interval_mean'].mean().astype(np.uint32)"
   ]
  },
  {
   "cell_type": "code",
   "execution_count": 166,
   "metadata": {
    "collapsed": true
   },
   "outputs": [],
   "source": [
    "department_info['department_order_interval_std'] = product_info.groupby(['department_id'])['product_order_interval_mean'].std().astype(np.uint32)"
   ]
  },
  {
   "cell_type": "code",
   "execution_count": 167,
   "metadata": {
    "collapsed": true
   },
   "outputs": [],
   "source": [
    "department_info['department_reorder_num'] = priordf[priordf.reordered == 1].groupby(['department_id'])['order_id'].nunique().astype(np.uint32)"
   ]
  },
  {
   "cell_type": "code",
   "execution_count": 168,
   "metadata": {
    "collapsed": true
   },
   "outputs": [],
   "source": [
    "department_info['department_reorder_num'].fillna(0, inplace = True)"
   ]
  },
  {
   "cell_type": "code",
   "execution_count": 169,
   "metadata": {
    "collapsed": true
   },
   "outputs": [],
   "source": [
    "department_info['department_reorder_user_num'] = priordf[priordf.reordered == 1].groupby(['department_id'])['user_id'].nunique().astype(np.uint32)"
   ]
  },
  {
   "cell_type": "code",
   "execution_count": 170,
   "metadata": {
    "collapsed": true
   },
   "outputs": [],
   "source": [
    "department_info['department_reorder_user_num'].fillna(0, inplace = True)"
   ]
  },
  {
   "cell_type": "code",
   "execution_count": 171,
   "metadata": {
    "collapsed": true
   },
   "outputs": [],
   "source": [
    "department_info['department_reorder_ratio'] = department_info['department_reorder_num']/department_info['department_order_num']"
   ]
  },
  {
   "cell_type": "code",
   "execution_count": 172,
   "metadata": {
    "collapsed": true
   },
   "outputs": [],
   "source": [
    "department_info['department_reorder_user_ratio'] = department_info['department_reorder_user_num']/department_info['department_user_num']"
   ]
  },
  {
   "cell_type": "code",
   "execution_count": 173,
   "metadata": {
    "collapsed": true
   },
   "outputs": [],
   "source": [
    "department_info['department_product_add_to_cart_order_mean'] = product_info.groupby(['department_id'])['product_add_to_cart_order_mean'].mean().astype(np.float32)"
   ]
  },
  {
   "cell_type": "code",
   "execution_count": 174,
   "metadata": {
    "collapsed": true
   },
   "outputs": [],
   "source": [
    "department_info['department_product_add_to_cart_order_std'] = product_info.groupby(['department_id'])['product_add_to_cart_order_mean'].std().astype(np.float32)"
   ]
  },
  {
   "cell_type": "code",
   "execution_count": 181,
   "metadata": {
    "collapsed": true
   },
   "outputs": [],
   "source": [
    "department_info.reset_index(inplace = True)"
   ]
  },
  {
   "cell_type": "code",
   "execution_count": 183,
   "metadata": {
    "collapsed": true
   },
   "outputs": [],
   "source": [
    "department_info = pd.merge(department_info, departments, on = 'department_id', how = 'left')"
   ]
  },
  {
   "cell_type": "code",
   "execution_count": 184,
   "metadata": {
    "scrolled": true
   },
   "outputs": [
    {
     "data": {
      "text/html": [
       "<div>\n",
       "<style>\n",
       "    .dataframe thead tr:only-child th {\n",
       "        text-align: right;\n",
       "    }\n",
       "\n",
       "    .dataframe thead th {\n",
       "        text-align: left;\n",
       "    }\n",
       "\n",
       "    .dataframe tbody tr th {\n",
       "        vertical-align: top;\n",
       "    }\n",
       "</style>\n",
       "<table border=\"1\" class=\"dataframe\">\n",
       "  <thead>\n",
       "    <tr style=\"text-align: right;\">\n",
       "      <th></th>\n",
       "      <th>department_id</th>\n",
       "      <th>department_user_num</th>\n",
       "      <th>department_order_num</th>\n",
       "      <th>department_order_interval_mean</th>\n",
       "      <th>department_order_interval_std</th>\n",
       "      <th>department_reorder_num</th>\n",
       "      <th>department_reorder_user_num</th>\n",
       "      <th>department_reorder_ratio</th>\n",
       "      <th>department_reorder_user_ratio</th>\n",
       "      <th>department_product_add_to_cart_order_mean</th>\n",
       "      <th>department_product_add_to_cart_order_std</th>\n",
       "      <th>department</th>\n",
       "    </tr>\n",
       "  </thead>\n",
       "  <tbody>\n",
       "    <tr>\n",
       "      <th>0</th>\n",
       "      <td>1</td>\n",
       "      <td>163233</td>\n",
       "      <td>1181018</td>\n",
       "      <td>31</td>\n",
       "      <td>14</td>\n",
       "      <td>761976</td>\n",
       "      <td>112199</td>\n",
       "      <td>0.645186</td>\n",
       "      <td>0.687355</td>\n",
       "      <td>9.354378</td>\n",
       "      <td>2.215930</td>\n",
       "      <td>frozen</td>\n",
       "    </tr>\n",
       "    <tr>\n",
       "      <th>1</th>\n",
       "      <td>2</td>\n",
       "      <td>17875</td>\n",
       "      <td>35056</td>\n",
       "      <td>40</td>\n",
       "      <td>29</td>\n",
       "      <td>14565</td>\n",
       "      <td>4843</td>\n",
       "      <td>0.415478</td>\n",
       "      <td>0.270937</td>\n",
       "      <td>8.194178</td>\n",
       "      <td>2.719670</td>\n",
       "      <td>other</td>\n",
       "    </tr>\n",
       "    <tr>\n",
       "      <th>2</th>\n",
       "      <td>3</td>\n",
       "      <td>140612</td>\n",
       "      <td>881556</td>\n",
       "      <td>30</td>\n",
       "      <td>14</td>\n",
       "      <td>589018</td>\n",
       "      <td>91541</td>\n",
       "      <td>0.668157</td>\n",
       "      <td>0.651018</td>\n",
       "      <td>8.493633</td>\n",
       "      <td>2.011495</td>\n",
       "      <td>bakery</td>\n",
       "    </tr>\n",
       "    <tr>\n",
       "      <th>3</th>\n",
       "      <td>4</td>\n",
       "      <td>193237</td>\n",
       "      <td>2409320</td>\n",
       "      <td>29</td>\n",
       "      <td>12</td>\n",
       "      <td>1962871</td>\n",
       "      <td>169909</td>\n",
       "      <td>0.814699</td>\n",
       "      <td>0.879278</td>\n",
       "      <td>9.039677</td>\n",
       "      <td>1.801582</td>\n",
       "      <td>produce</td>\n",
       "    </tr>\n",
       "    <tr>\n",
       "      <th>4</th>\n",
       "      <td>5</td>\n",
       "      <td>15798</td>\n",
       "      <td>84689</td>\n",
       "      <td>28</td>\n",
       "      <td>17</td>\n",
       "      <td>56064</td>\n",
       "      <td>8751</td>\n",
       "      <td>0.661999</td>\n",
       "      <td>0.553931</td>\n",
       "      <td>6.410433</td>\n",
       "      <td>2.907398</td>\n",
       "      <td>alcohol</td>\n",
       "    </tr>\n",
       "  </tbody>\n",
       "</table>\n",
       "</div>"
      ],
      "text/plain": [
       "   department_id  department_user_num  department_order_num  \\\n",
       "0              1               163233               1181018   \n",
       "1              2                17875                 35056   \n",
       "2              3               140612                881556   \n",
       "3              4               193237               2409320   \n",
       "4              5                15798                 84689   \n",
       "\n",
       "   department_order_interval_mean  department_order_interval_std  \\\n",
       "0                              31                             14   \n",
       "1                              40                             29   \n",
       "2                              30                             14   \n",
       "3                              29                             12   \n",
       "4                              28                             17   \n",
       "\n",
       "   department_reorder_num  department_reorder_user_num  \\\n",
       "0                  761976                       112199   \n",
       "1                   14565                         4843   \n",
       "2                  589018                        91541   \n",
       "3                 1962871                       169909   \n",
       "4                   56064                         8751   \n",
       "\n",
       "   department_reorder_ratio  department_reorder_user_ratio  \\\n",
       "0                  0.645186                       0.687355   \n",
       "1                  0.415478                       0.270937   \n",
       "2                  0.668157                       0.651018   \n",
       "3                  0.814699                       0.879278   \n",
       "4                  0.661999                       0.553931   \n",
       "\n",
       "   department_product_add_to_cart_order_mean  \\\n",
       "0                                   9.354378   \n",
       "1                                   8.194178   \n",
       "2                                   8.493633   \n",
       "3                                   9.039677   \n",
       "4                                   6.410433   \n",
       "\n",
       "   department_product_add_to_cart_order_std department  \n",
       "0                                  2.215930     frozen  \n",
       "1                                  2.719670      other  \n",
       "2                                  2.011495     bakery  \n",
       "3                                  1.801582    produce  \n",
       "4                                  2.907398    alcohol  "
      ]
     },
     "execution_count": 184,
     "metadata": {},
     "output_type": "execute_result"
    }
   ],
   "source": [
    "department_info.head()"
   ]
  },
  {
   "cell_type": "code",
   "execution_count": 185,
   "metadata": {
    "collapsed": true
   },
   "outputs": [],
   "source": [
    "#pickle.dump(department_info, open('data/pickle_files/department_info.p', 'wb'))"
   ]
  },
  {
   "cell_type": "markdown",
   "metadata": {},
   "source": [
    "## Baseline"
   ]
  },
  {
   "cell_type": "code",
   "execution_count": 14,
   "metadata": {
    "collapsed": true
   },
   "outputs": [],
   "source": [
    "master_prior_df = pd.merge(user_product_info.reset_index(), user_info.reset_index(), on='user_id', how='left')"
   ]
  },
  {
   "cell_type": "code",
   "execution_count": 15,
   "metadata": {
    "collapsed": true
   },
   "outputs": [],
   "source": [
    "master_prior_df = pd.merge(master_prior_df, product_info.reset_index(), on='product_id', how = 'left')"
   ]
  },
  {
   "cell_type": "code",
   "execution_count": 161,
   "metadata": {
    "collapsed": true
   },
   "outputs": [],
   "source": [
    "#pickle.dump(master_prior_df, open('data/master_prior_df.p', 'wb'))"
   ]
  },
  {
   "cell_type": "code",
   "execution_count": 16,
   "metadata": {
    "collapsed": true
   },
   "outputs": [],
   "source": [
    "train_users = orders[orders.eval_set == 'train'].user_id"
   ]
  },
  {
   "cell_type": "code",
   "execution_count": 17,
   "metadata": {},
   "outputs": [
    {
     "data": {
      "text/plain": [
       "10    1\n",
       "25    2\n",
       "49    5\n",
       "74    7\n",
       "78    8\n",
       "Name: user_id, dtype: uint32"
      ]
     },
     "execution_count": 17,
     "metadata": {},
     "output_type": "execute_result"
    }
   ],
   "source": [
    "train_users.head()"
   ]
  },
  {
   "cell_type": "code",
   "execution_count": 18,
   "metadata": {
    "collapsed": true
   },
   "outputs": [],
   "source": [
    "traindf = master_prior_df[master_prior_df.user_id.isin(train_users)]"
   ]
  },
  {
   "cell_type": "code",
   "execution_count": 19,
   "metadata": {
    "collapsed": true
   },
   "outputs": [],
   "source": [
    "traindf = pd.merge(traindf, orders[orders.eval_set == 'train'], on='user_id', how = 'left')"
   ]
  },
  {
   "cell_type": "code",
   "execution_count": 20,
   "metadata": {
    "collapsed": true
   },
   "outputs": [],
   "source": [
    "traindf = pd.merge(traindf, order_product_train, on =['order_id', 'product_id'], how = 'left')"
   ]
  },
  {
   "cell_type": "code",
   "execution_count": 22,
   "metadata": {
    "collapsed": true
   },
   "outputs": [],
   "source": [
    "traindf.reordered.fillna(0, inplace = True)"
   ]
  },
  {
   "cell_type": "code",
   "execution_count": 23,
   "metadata": {},
   "outputs": [
    {
     "data": {
      "text/plain": [
       "0.0    7645837\n",
       "1.0     828824\n",
       "Name: reordered, dtype: int64"
      ]
     },
     "execution_count": 23,
     "metadata": {},
     "output_type": "execute_result"
    }
   ],
   "source": [
    "traindf.reordered.value_counts()"
   ]
  },
  {
   "cell_type": "code",
   "execution_count": 24,
   "metadata": {
    "collapsed": true
   },
   "outputs": [],
   "source": [
    "traindf.rename(columns = {'reordered': 'y'}, inplace = True)"
   ]
  },
  {
   "cell_type": "code",
   "execution_count": 26,
   "metadata": {},
   "outputs": [
    {
     "data": {
      "text/html": [
       "<div>\n",
       "<style>\n",
       "    .dataframe thead tr:only-child th {\n",
       "        text-align: right;\n",
       "    }\n",
       "\n",
       "    .dataframe thead th {\n",
       "        text-align: left;\n",
       "    }\n",
       "\n",
       "    .dataframe tbody tr th {\n",
       "        vertical-align: top;\n",
       "    }\n",
       "</style>\n",
       "<table border=\"1\" class=\"dataframe\">\n",
       "  <thead>\n",
       "    <tr style=\"text-align: right;\">\n",
       "      <th></th>\n",
       "      <th>index_x</th>\n",
       "      <th>user_id</th>\n",
       "      <th>product_id</th>\n",
       "      <th>user_product_order_num</th>\n",
       "      <th>user_product_last_purchase_day</th>\n",
       "      <th>user_product_order_interval_mean</th>\n",
       "      <th>user_product_order_interval_std</th>\n",
       "      <th>user_product_rank</th>\n",
       "      <th>user_product_add_order_mean</th>\n",
       "      <th>user_product_add_order_std</th>\n",
       "      <th>...</th>\n",
       "      <th>product_order_interval_std_NaN</th>\n",
       "      <th>product_add_to_cart_order_std_NaN</th>\n",
       "      <th>order_id</th>\n",
       "      <th>eval_set</th>\n",
       "      <th>order_number</th>\n",
       "      <th>order_dow</th>\n",
       "      <th>order_hour_of_day</th>\n",
       "      <th>days_since_prior_order</th>\n",
       "      <th>add_to_cart_order</th>\n",
       "      <th>y</th>\n",
       "    </tr>\n",
       "  </thead>\n",
       "  <tbody>\n",
       "    <tr>\n",
       "      <th>0</th>\n",
       "      <td>0</td>\n",
       "      <td>1</td>\n",
       "      <td>196</td>\n",
       "      <td>10</td>\n",
       "      <td>176</td>\n",
       "      <td>19.555555</td>\n",
       "      <td>9.395625</td>\n",
       "      <td>1.5</td>\n",
       "      <td>1.400000</td>\n",
       "      <td>0.966092</td>\n",
       "      <td>...</td>\n",
       "      <td>0</td>\n",
       "      <td>0</td>\n",
       "      <td>1187899</td>\n",
       "      <td>train</td>\n",
       "      <td>11</td>\n",
       "      <td>4</td>\n",
       "      <td>8</td>\n",
       "      <td>14.0</td>\n",
       "      <td>1.0</td>\n",
       "      <td>1.0</td>\n",
       "    </tr>\n",
       "    <tr>\n",
       "      <th>1</th>\n",
       "      <td>1</td>\n",
       "      <td>1</td>\n",
       "      <td>10258</td>\n",
       "      <td>9</td>\n",
       "      <td>176</td>\n",
       "      <td>20.125000</td>\n",
       "      <td>9.876922</td>\n",
       "      <td>3.0</td>\n",
       "      <td>3.333333</td>\n",
       "      <td>1.322876</td>\n",
       "      <td>...</td>\n",
       "      <td>0</td>\n",
       "      <td>0</td>\n",
       "      <td>1187899</td>\n",
       "      <td>train</td>\n",
       "      <td>11</td>\n",
       "      <td>4</td>\n",
       "      <td>8</td>\n",
       "      <td>14.0</td>\n",
       "      <td>6.0</td>\n",
       "      <td>1.0</td>\n",
       "    </tr>\n",
       "    <tr>\n",
       "      <th>2</th>\n",
       "      <td>2</td>\n",
       "      <td>1</td>\n",
       "      <td>10326</td>\n",
       "      <td>1</td>\n",
       "      <td>93</td>\n",
       "      <td>42.677544</td>\n",
       "      <td>25.335363</td>\n",
       "      <td>14.5</td>\n",
       "      <td>5.000000</td>\n",
       "      <td>4.219923</td>\n",
       "      <td>...</td>\n",
       "      <td>0</td>\n",
       "      <td>0</td>\n",
       "      <td>1187899</td>\n",
       "      <td>train</td>\n",
       "      <td>11</td>\n",
       "      <td>4</td>\n",
       "      <td>8</td>\n",
       "      <td>14.0</td>\n",
       "      <td>NaN</td>\n",
       "      <td>0.0</td>\n",
       "    </tr>\n",
       "    <tr>\n",
       "      <th>3</th>\n",
       "      <td>3</td>\n",
       "      <td>1</td>\n",
       "      <td>12427</td>\n",
       "      <td>10</td>\n",
       "      <td>176</td>\n",
       "      <td>19.555555</td>\n",
       "      <td>9.395625</td>\n",
       "      <td>1.5</td>\n",
       "      <td>3.300000</td>\n",
       "      <td>2.406011</td>\n",
       "      <td>...</td>\n",
       "      <td>0</td>\n",
       "      <td>0</td>\n",
       "      <td>1187899</td>\n",
       "      <td>train</td>\n",
       "      <td>11</td>\n",
       "      <td>4</td>\n",
       "      <td>8</td>\n",
       "      <td>14.0</td>\n",
       "      <td>NaN</td>\n",
       "      <td>0.0</td>\n",
       "    </tr>\n",
       "    <tr>\n",
       "      <th>4</th>\n",
       "      <td>4</td>\n",
       "      <td>1</td>\n",
       "      <td>13032</td>\n",
       "      <td>3</td>\n",
       "      <td>176</td>\n",
       "      <td>80.500000</td>\n",
       "      <td>51.618793</td>\n",
       "      <td>5.5</td>\n",
       "      <td>6.333333</td>\n",
       "      <td>1.527525</td>\n",
       "      <td>...</td>\n",
       "      <td>0</td>\n",
       "      <td>0</td>\n",
       "      <td>1187899</td>\n",
       "      <td>train</td>\n",
       "      <td>11</td>\n",
       "      <td>4</td>\n",
       "      <td>8</td>\n",
       "      <td>14.0</td>\n",
       "      <td>7.0</td>\n",
       "      <td>1.0</td>\n",
       "    </tr>\n",
       "  </tbody>\n",
       "</table>\n",
       "<p>5 rows × 46 columns</p>\n",
       "</div>"
      ],
      "text/plain": [
       "   index_x  user_id  product_id  user_product_order_num  \\\n",
       "0        0        1         196                      10   \n",
       "1        1        1       10258                       9   \n",
       "2        2        1       10326                       1   \n",
       "3        3        1       12427                      10   \n",
       "4        4        1       13032                       3   \n",
       "\n",
       "   user_product_last_purchase_day  user_product_order_interval_mean  \\\n",
       "0                             176                         19.555555   \n",
       "1                             176                         20.125000   \n",
       "2                              93                         42.677544   \n",
       "3                             176                         19.555555   \n",
       "4                             176                         80.500000   \n",
       "\n",
       "   user_product_order_interval_std  user_product_rank  \\\n",
       "0                         9.395625                1.5   \n",
       "1                         9.876922                3.0   \n",
       "2                        25.335363               14.5   \n",
       "3                         9.395625                1.5   \n",
       "4                        51.618793                5.5   \n",
       "\n",
       "   user_product_add_order_mean  user_product_add_order_std ...   \\\n",
       "0                     1.400000                    0.966092 ...    \n",
       "1                     3.333333                    1.322876 ...    \n",
       "2                     5.000000                    4.219923 ...    \n",
       "3                     3.300000                    2.406011 ...    \n",
       "4                     6.333333                    1.527525 ...    \n",
       "\n",
       "   product_order_interval_std_NaN  product_add_to_cart_order_std_NaN  \\\n",
       "0                               0                                  0   \n",
       "1                               0                                  0   \n",
       "2                               0                                  0   \n",
       "3                               0                                  0   \n",
       "4                               0                                  0   \n",
       "\n",
       "   order_id  eval_set  order_number  order_dow  order_hour_of_day  \\\n",
       "0   1187899     train            11          4                  8   \n",
       "1   1187899     train            11          4                  8   \n",
       "2   1187899     train            11          4                  8   \n",
       "3   1187899     train            11          4                  8   \n",
       "4   1187899     train            11          4                  8   \n",
       "\n",
       "   days_since_prior_order  add_to_cart_order    y  \n",
       "0                    14.0                1.0  1.0  \n",
       "1                    14.0                6.0  1.0  \n",
       "2                    14.0                NaN  0.0  \n",
       "3                    14.0                NaN  0.0  \n",
       "4                    14.0                7.0  1.0  \n",
       "\n",
       "[5 rows x 46 columns]"
      ]
     },
     "execution_count": 26,
     "metadata": {},
     "output_type": "execute_result"
    }
   ],
   "source": [
    "traindf.head()"
   ]
  },
  {
   "cell_type": "code",
   "execution_count": 28,
   "metadata": {
    "collapsed": true
   },
   "outputs": [],
   "source": [
    "traindf['y_baseline'] = np.where(traindf.user_product_rank < traindf.user_basket_size_mean, 1, 0)"
   ]
  },
  {
   "cell_type": "code",
   "execution_count": 29,
   "metadata": {},
   "outputs": [
    {
     "data": {
      "text/html": [
       "<div>\n",
       "<style>\n",
       "    .dataframe thead tr:only-child th {\n",
       "        text-align: right;\n",
       "    }\n",
       "\n",
       "    .dataframe thead th {\n",
       "        text-align: left;\n",
       "    }\n",
       "\n",
       "    .dataframe tbody tr th {\n",
       "        vertical-align: top;\n",
       "    }\n",
       "</style>\n",
       "<table border=\"1\" class=\"dataframe\">\n",
       "  <thead>\n",
       "    <tr style=\"text-align: right;\">\n",
       "      <th></th>\n",
       "      <th>index_x</th>\n",
       "      <th>user_id</th>\n",
       "      <th>product_id</th>\n",
       "      <th>user_product_order_num</th>\n",
       "      <th>user_product_last_purchase_day</th>\n",
       "      <th>user_product_order_interval_mean</th>\n",
       "      <th>user_product_order_interval_std</th>\n",
       "      <th>user_product_rank</th>\n",
       "      <th>user_product_add_order_mean</th>\n",
       "      <th>user_product_add_order_std</th>\n",
       "      <th>...</th>\n",
       "      <th>product_add_to_cart_order_std_NaN</th>\n",
       "      <th>order_id</th>\n",
       "      <th>eval_set</th>\n",
       "      <th>order_number</th>\n",
       "      <th>order_dow</th>\n",
       "      <th>order_hour_of_day</th>\n",
       "      <th>days_since_prior_order</th>\n",
       "      <th>add_to_cart_order</th>\n",
       "      <th>y</th>\n",
       "      <th>y_baseline</th>\n",
       "    </tr>\n",
       "  </thead>\n",
       "  <tbody>\n",
       "    <tr>\n",
       "      <th>0</th>\n",
       "      <td>0</td>\n",
       "      <td>1</td>\n",
       "      <td>196</td>\n",
       "      <td>10</td>\n",
       "      <td>176</td>\n",
       "      <td>19.555555</td>\n",
       "      <td>9.395625</td>\n",
       "      <td>1.5</td>\n",
       "      <td>1.400000</td>\n",
       "      <td>0.966092</td>\n",
       "      <td>...</td>\n",
       "      <td>0</td>\n",
       "      <td>1187899</td>\n",
       "      <td>train</td>\n",
       "      <td>11</td>\n",
       "      <td>4</td>\n",
       "      <td>8</td>\n",
       "      <td>14.0</td>\n",
       "      <td>1.0</td>\n",
       "      <td>1.0</td>\n",
       "      <td>1</td>\n",
       "    </tr>\n",
       "    <tr>\n",
       "      <th>1</th>\n",
       "      <td>1</td>\n",
       "      <td>1</td>\n",
       "      <td>10258</td>\n",
       "      <td>9</td>\n",
       "      <td>176</td>\n",
       "      <td>20.125000</td>\n",
       "      <td>9.876922</td>\n",
       "      <td>3.0</td>\n",
       "      <td>3.333333</td>\n",
       "      <td>1.322876</td>\n",
       "      <td>...</td>\n",
       "      <td>0</td>\n",
       "      <td>1187899</td>\n",
       "      <td>train</td>\n",
       "      <td>11</td>\n",
       "      <td>4</td>\n",
       "      <td>8</td>\n",
       "      <td>14.0</td>\n",
       "      <td>6.0</td>\n",
       "      <td>1.0</td>\n",
       "      <td>1</td>\n",
       "    </tr>\n",
       "    <tr>\n",
       "      <th>2</th>\n",
       "      <td>2</td>\n",
       "      <td>1</td>\n",
       "      <td>10326</td>\n",
       "      <td>1</td>\n",
       "      <td>93</td>\n",
       "      <td>42.677544</td>\n",
       "      <td>25.335363</td>\n",
       "      <td>14.5</td>\n",
       "      <td>5.000000</td>\n",
       "      <td>4.219923</td>\n",
       "      <td>...</td>\n",
       "      <td>0</td>\n",
       "      <td>1187899</td>\n",
       "      <td>train</td>\n",
       "      <td>11</td>\n",
       "      <td>4</td>\n",
       "      <td>8</td>\n",
       "      <td>14.0</td>\n",
       "      <td>NaN</td>\n",
       "      <td>0.0</td>\n",
       "      <td>0</td>\n",
       "    </tr>\n",
       "    <tr>\n",
       "      <th>3</th>\n",
       "      <td>3</td>\n",
       "      <td>1</td>\n",
       "      <td>12427</td>\n",
       "      <td>10</td>\n",
       "      <td>176</td>\n",
       "      <td>19.555555</td>\n",
       "      <td>9.395625</td>\n",
       "      <td>1.5</td>\n",
       "      <td>3.300000</td>\n",
       "      <td>2.406011</td>\n",
       "      <td>...</td>\n",
       "      <td>0</td>\n",
       "      <td>1187899</td>\n",
       "      <td>train</td>\n",
       "      <td>11</td>\n",
       "      <td>4</td>\n",
       "      <td>8</td>\n",
       "      <td>14.0</td>\n",
       "      <td>NaN</td>\n",
       "      <td>0.0</td>\n",
       "      <td>1</td>\n",
       "    </tr>\n",
       "    <tr>\n",
       "      <th>4</th>\n",
       "      <td>4</td>\n",
       "      <td>1</td>\n",
       "      <td>13032</td>\n",
       "      <td>3</td>\n",
       "      <td>176</td>\n",
       "      <td>80.500000</td>\n",
       "      <td>51.618793</td>\n",
       "      <td>5.5</td>\n",
       "      <td>6.333333</td>\n",
       "      <td>1.527525</td>\n",
       "      <td>...</td>\n",
       "      <td>0</td>\n",
       "      <td>1187899</td>\n",
       "      <td>train</td>\n",
       "      <td>11</td>\n",
       "      <td>4</td>\n",
       "      <td>8</td>\n",
       "      <td>14.0</td>\n",
       "      <td>7.0</td>\n",
       "      <td>1.0</td>\n",
       "      <td>1</td>\n",
       "    </tr>\n",
       "  </tbody>\n",
       "</table>\n",
       "<p>5 rows × 47 columns</p>\n",
       "</div>"
      ],
      "text/plain": [
       "   index_x  user_id  product_id  user_product_order_num  \\\n",
       "0        0        1         196                      10   \n",
       "1        1        1       10258                       9   \n",
       "2        2        1       10326                       1   \n",
       "3        3        1       12427                      10   \n",
       "4        4        1       13032                       3   \n",
       "\n",
       "   user_product_last_purchase_day  user_product_order_interval_mean  \\\n",
       "0                             176                         19.555555   \n",
       "1                             176                         20.125000   \n",
       "2                              93                         42.677544   \n",
       "3                             176                         19.555555   \n",
       "4                             176                         80.500000   \n",
       "\n",
       "   user_product_order_interval_std  user_product_rank  \\\n",
       "0                         9.395625                1.5   \n",
       "1                         9.876922                3.0   \n",
       "2                        25.335363               14.5   \n",
       "3                         9.395625                1.5   \n",
       "4                        51.618793                5.5   \n",
       "\n",
       "   user_product_add_order_mean  user_product_add_order_std     ...      \\\n",
       "0                     1.400000                    0.966092     ...       \n",
       "1                     3.333333                    1.322876     ...       \n",
       "2                     5.000000                    4.219923     ...       \n",
       "3                     3.300000                    2.406011     ...       \n",
       "4                     6.333333                    1.527525     ...       \n",
       "\n",
       "   product_add_to_cart_order_std_NaN  order_id  eval_set  order_number  \\\n",
       "0                                  0   1187899     train            11   \n",
       "1                                  0   1187899     train            11   \n",
       "2                                  0   1187899     train            11   \n",
       "3                                  0   1187899     train            11   \n",
       "4                                  0   1187899     train            11   \n",
       "\n",
       "   order_dow  order_hour_of_day  days_since_prior_order  add_to_cart_order  \\\n",
       "0          4                  8                    14.0                1.0   \n",
       "1          4                  8                    14.0                6.0   \n",
       "2          4                  8                    14.0                NaN   \n",
       "3          4                  8                    14.0                NaN   \n",
       "4          4                  8                    14.0                7.0   \n",
       "\n",
       "     y  y_baseline  \n",
       "0  1.0           1  \n",
       "1  1.0           1  \n",
       "2  0.0           0  \n",
       "3  0.0           1  \n",
       "4  1.0           1  \n",
       "\n",
       "[5 rows x 47 columns]"
      ]
     },
     "execution_count": 29,
     "metadata": {},
     "output_type": "execute_result"
    }
   ],
   "source": [
    "traindf.head()"
   ]
  },
  {
   "cell_type": "code",
   "execution_count": 32,
   "metadata": {
    "collapsed": true
   },
   "outputs": [],
   "source": [
    "traindf['XGB_pred_y'] = traindf['y_baseline'] "
   ]
  },
  {
   "cell_type": "code",
   "execution_count": 33,
   "metadata": {
    "scrolled": true
   },
   "outputs": [
    {
     "data": {
      "text/plain": [
       "0.3360308324133285"
      ]
     },
     "execution_count": 33,
     "metadata": {},
     "output_type": "execute_result"
    }
   ],
   "source": [
    "new_f1_score(traindf)"
   ]
  },
  {
   "cell_type": "markdown",
   "metadata": {},
   "source": [
    "## Traindf"
   ]
  },
  {
   "cell_type": "code",
   "execution_count": 1,
   "metadata": {
    "collapsed": true
   },
   "outputs": [],
   "source": [
    "import numpy as np\n",
    "import pandas as pd\n",
    "import matplotlib.pyplot as plt\n",
    "import pickle\n",
    "import random\n",
    "\n",
    "%matplotlib inline "
   ]
  },
  {
   "cell_type": "code",
   "execution_count": 2,
   "metadata": {
    "collapsed": true
   },
   "outputs": [],
   "source": [
    "aisles = pd.read_csv('data/aisles.csv', dtype = {\n",
    "    'aisle_id': np.uint16,\n",
    "    'aisle': np.str},\n",
    "    usecols=['aisle_id', 'aisle'])"
   ]
  },
  {
   "cell_type": "code",
   "execution_count": 3,
   "metadata": {
    "collapsed": true
   },
   "outputs": [],
   "source": [
    "departments = pd.read_csv('data/departments.csv', dtype = {\n",
    "    'department_id': np.uint16,\n",
    "    'department': np.str},\n",
    "    usecols=['department_id', 'department'])"
   ]
  },
  {
   "cell_type": "code",
   "execution_count": 4,
   "metadata": {
    "collapsed": true
   },
   "outputs": [],
   "source": [
    "order_products_prior = pd.read_csv('data/order_products__prior.csv', dtype = {\n",
    "    'order_id': np.uint32,\n",
    "    'product_id': np.uint32,\n",
    "    'add_to_cart_order': np.uint16,\n",
    "    'reordered': np.uint16},\n",
    "    usecols=['order_id', 'product_id', 'add_to_cart_order', 'reordered'])"
   ]
  },
  {
   "cell_type": "code",
   "execution_count": 5,
   "metadata": {
    "collapsed": true
   },
   "outputs": [],
   "source": [
    "order_product_train = pd.read_csv('data/order_products__train.csv', dtype = {\n",
    "    'order_id': np.uint32,\n",
    "    'product_id': np.uint32,\n",
    "    'add_to_cart_order': np.uint16,\n",
    "    'reordered': np.uint16},\n",
    "    usecols=['order_id', 'product_id', 'add_to_cart_order', 'reordered'])"
   ]
  },
  {
   "cell_type": "code",
   "execution_count": 6,
   "metadata": {
    "collapsed": true
   },
   "outputs": [],
   "source": [
    "orders = pd.read_csv('data/orders.csv', dtype = {\n",
    "    'order_id': np.uint32,\n",
    "    'user_id' :np.uint32,\n",
    "    'eval_set': 'category',\n",
    "    'order_number': np.uint16,\n",
    "    'order_dow': np.uint16,\n",
    "    'order_hour_of_day': np.uint8,\n",
    "    'days_since_prior_order': np.float32},\n",
    "                     usecols=['order_id', 'user_id', 'eval_set', 'order_number', 'order_dow', 'order_hour_of_day', 'days_since_prior_order'])"
   ]
  },
  {
   "cell_type": "code",
   "execution_count": 7,
   "metadata": {
    "collapsed": true
   },
   "outputs": [],
   "source": [
    "products = pd.read_csv('data/products.csv', dtype = {'product_id': np.uint16,\n",
    "        'product_name': np.str,\n",
    "        'aisle_id': np.uint16,\n",
    "        'department_id': np.uint16},\n",
    "        usecols=['product_id', 'product_name', 'aisle_id', 'department_id'])"
   ]
  },
  {
   "cell_type": "code",
   "execution_count": 8,
   "metadata": {
    "collapsed": true
   },
   "outputs": [],
   "source": [
    "priordf = pickle.load(open('data/pickle_files/priordf.p', 'rb'))\n",
    "user_info = pickle.load(open('data/pickle_files/user_info.p', 'rb'))\n",
    "product_info = pickle.load(open('data/pickle_files/product_info.p', 'rb'))\n",
    "user_product_info = pickle.load(open('data/pickle_files/user_product_info.p', 'rb'))\n",
    "ordertime_info = pickle.load(open('data/pickle_files/ordertime_info.p', 'rb'))\n",
    "user_ordertime_info = pickle.load(open('data/pickle_files/user_ordertime_info.p', 'rb'))\n",
    "product_ordertime_info = pickle.load(open('data/pickle_files/product_ordertime_info.p', 'rb'))\n",
    "aisle_info = pickle.load(open('data/pickle_files/aisle_info.p', 'rb'))\n",
    "department_info = pickle.load(open('data/pickle_files/department_info.p', 'rb'))"
   ]
  },
  {
   "cell_type": "code",
   "execution_count": 9,
   "metadata": {
    "collapsed": true
   },
   "outputs": [],
   "source": [
    "train_users = orders[orders.eval_set == 'train'].user_id"
   ]
  },
  {
   "cell_type": "code",
   "execution_count": 10,
   "metadata": {
    "collapsed": true
   },
   "outputs": [],
   "source": [
    "train_df = pd.merge(user_product_info[user_product_info.user_id.isin(train_users)], user_info, on = 'user_id', how = 'left')"
   ]
  },
  {
   "cell_type": "code",
   "execution_count": 11,
   "metadata": {
    "collapsed": true
   },
   "outputs": [],
   "source": [
    "train_df = pd.merge(train_df, product_info, on = 'product_id', how = 'left')"
   ]
  },
  {
   "cell_type": "code",
   "execution_count": 12,
   "metadata": {
    "collapsed": true
   },
   "outputs": [],
   "source": [
    "train_df = pd.merge(train_df, aisle_info, on = 'aisle_id', how = 'left', suffixes=('', '_y'))"
   ]
  },
  {
   "cell_type": "code",
   "execution_count": 13,
   "metadata": {
    "collapsed": true
   },
   "outputs": [],
   "source": [
    "train_df = pd.merge(train_df, department_info, on = 'department_id', how = 'left', suffixes=('', '_y'))"
   ]
  },
  {
   "cell_type": "code",
   "execution_count": 14,
   "metadata": {
    "collapsed": true
   },
   "outputs": [],
   "source": [
    "train_df = pd.merge(train_df, orders[orders.eval_set == 'train'], on='user_id', how = 'left')"
   ]
  },
  {
   "cell_type": "code",
   "execution_count": 15,
   "metadata": {
    "collapsed": true
   },
   "outputs": [],
   "source": [
    "train_df = pd.merge(train_df, order_product_train, on =['order_id', 'product_id'], how = 'left')"
   ]
  },
  {
   "cell_type": "code",
   "execution_count": 16,
   "metadata": {},
   "outputs": [
    {
     "data": {
      "text/html": [
       "<div>\n",
       "<style>\n",
       "    .dataframe thead tr:only-child th {\n",
       "        text-align: right;\n",
       "    }\n",
       "\n",
       "    .dataframe thead th {\n",
       "        text-align: left;\n",
       "    }\n",
       "\n",
       "    .dataframe tbody tr th {\n",
       "        vertical-align: top;\n",
       "    }\n",
       "</style>\n",
       "<table border=\"1\" class=\"dataframe\">\n",
       "  <thead>\n",
       "    <tr style=\"text-align: right;\">\n",
       "      <th></th>\n",
       "      <th>user_id</th>\n",
       "      <th>product_id</th>\n",
       "      <th>user_product_order_num</th>\n",
       "      <th>user_product_last_purchase_day</th>\n",
       "      <th>user_product_order_interval_mean</th>\n",
       "      <th>user_product_order_interval_std</th>\n",
       "      <th>user_product_rank</th>\n",
       "      <th>user_product_add_order_mean</th>\n",
       "      <th>user_product_add_order_std</th>\n",
       "      <th>user_product_reorder_ratio</th>\n",
       "      <th>...</th>\n",
       "      <th>department_product_add_to_cart_order_std</th>\n",
       "      <th>department</th>\n",
       "      <th>order_id</th>\n",
       "      <th>eval_set</th>\n",
       "      <th>order_number</th>\n",
       "      <th>order_dow</th>\n",
       "      <th>order_hour_of_day</th>\n",
       "      <th>days_since_prior_order</th>\n",
       "      <th>add_to_cart_order</th>\n",
       "      <th>reordered</th>\n",
       "    </tr>\n",
       "  </thead>\n",
       "  <tbody>\n",
       "    <tr>\n",
       "      <th>0</th>\n",
       "      <td>1</td>\n",
       "      <td>196</td>\n",
       "      <td>10</td>\n",
       "      <td>176</td>\n",
       "      <td>19.555555</td>\n",
       "      <td>9.395625</td>\n",
       "      <td>1.5</td>\n",
       "      <td>1.400000</td>\n",
       "      <td>0.966092</td>\n",
       "      <td>1.0</td>\n",
       "      <td>...</td>\n",
       "      <td>2.369946</td>\n",
       "      <td>beverages</td>\n",
       "      <td>1187899</td>\n",
       "      <td>train</td>\n",
       "      <td>11</td>\n",
       "      <td>4</td>\n",
       "      <td>8</td>\n",
       "      <td>14.0</td>\n",
       "      <td>1.0</td>\n",
       "      <td>1.0</td>\n",
       "    </tr>\n",
       "    <tr>\n",
       "      <th>1</th>\n",
       "      <td>1</td>\n",
       "      <td>10258</td>\n",
       "      <td>9</td>\n",
       "      <td>176</td>\n",
       "      <td>20.125000</td>\n",
       "      <td>9.876922</td>\n",
       "      <td>3.0</td>\n",
       "      <td>3.333333</td>\n",
       "      <td>1.322876</td>\n",
       "      <td>0.9</td>\n",
       "      <td>...</td>\n",
       "      <td>2.467903</td>\n",
       "      <td>snacks</td>\n",
       "      <td>1187899</td>\n",
       "      <td>train</td>\n",
       "      <td>11</td>\n",
       "      <td>4</td>\n",
       "      <td>8</td>\n",
       "      <td>14.0</td>\n",
       "      <td>6.0</td>\n",
       "      <td>1.0</td>\n",
       "    </tr>\n",
       "    <tr>\n",
       "      <th>2</th>\n",
       "      <td>1</td>\n",
       "      <td>10326</td>\n",
       "      <td>1</td>\n",
       "      <td>93</td>\n",
       "      <td>42.677544</td>\n",
       "      <td>25.335363</td>\n",
       "      <td>14.5</td>\n",
       "      <td>5.000000</td>\n",
       "      <td>4.219923</td>\n",
       "      <td>0.1</td>\n",
       "      <td>...</td>\n",
       "      <td>1.801582</td>\n",
       "      <td>produce</td>\n",
       "      <td>1187899</td>\n",
       "      <td>train</td>\n",
       "      <td>11</td>\n",
       "      <td>4</td>\n",
       "      <td>8</td>\n",
       "      <td>14.0</td>\n",
       "      <td>NaN</td>\n",
       "      <td>NaN</td>\n",
       "    </tr>\n",
       "    <tr>\n",
       "      <th>3</th>\n",
       "      <td>1</td>\n",
       "      <td>12427</td>\n",
       "      <td>10</td>\n",
       "      <td>176</td>\n",
       "      <td>19.555555</td>\n",
       "      <td>9.395625</td>\n",
       "      <td>1.5</td>\n",
       "      <td>3.300000</td>\n",
       "      <td>2.406011</td>\n",
       "      <td>1.0</td>\n",
       "      <td>...</td>\n",
       "      <td>2.467903</td>\n",
       "      <td>snacks</td>\n",
       "      <td>1187899</td>\n",
       "      <td>train</td>\n",
       "      <td>11</td>\n",
       "      <td>4</td>\n",
       "      <td>8</td>\n",
       "      <td>14.0</td>\n",
       "      <td>NaN</td>\n",
       "      <td>NaN</td>\n",
       "    </tr>\n",
       "    <tr>\n",
       "      <th>4</th>\n",
       "      <td>1</td>\n",
       "      <td>13032</td>\n",
       "      <td>3</td>\n",
       "      <td>176</td>\n",
       "      <td>80.500000</td>\n",
       "      <td>51.618793</td>\n",
       "      <td>5.5</td>\n",
       "      <td>6.333333</td>\n",
       "      <td>1.527525</td>\n",
       "      <td>0.3</td>\n",
       "      <td>...</td>\n",
       "      <td>2.065538</td>\n",
       "      <td>breakfast</td>\n",
       "      <td>1187899</td>\n",
       "      <td>train</td>\n",
       "      <td>11</td>\n",
       "      <td>4</td>\n",
       "      <td>8</td>\n",
       "      <td>14.0</td>\n",
       "      <td>7.0</td>\n",
       "      <td>1.0</td>\n",
       "    </tr>\n",
       "  </tbody>\n",
       "</table>\n",
       "<p>5 rows × 65 columns</p>\n",
       "</div>"
      ],
      "text/plain": [
       "   user_id  product_id  user_product_order_num  \\\n",
       "0        1         196                      10   \n",
       "1        1       10258                       9   \n",
       "2        1       10326                       1   \n",
       "3        1       12427                      10   \n",
       "4        1       13032                       3   \n",
       "\n",
       "   user_product_last_purchase_day  user_product_order_interval_mean  \\\n",
       "0                             176                         19.555555   \n",
       "1                             176                         20.125000   \n",
       "2                              93                         42.677544   \n",
       "3                             176                         19.555555   \n",
       "4                             176                         80.500000   \n",
       "\n",
       "   user_product_order_interval_std  user_product_rank  \\\n",
       "0                         9.395625                1.5   \n",
       "1                         9.876922                3.0   \n",
       "2                        25.335363               14.5   \n",
       "3                         9.395625                1.5   \n",
       "4                        51.618793                5.5   \n",
       "\n",
       "   user_product_add_order_mean  user_product_add_order_std  \\\n",
       "0                     1.400000                    0.966092   \n",
       "1                     3.333333                    1.322876   \n",
       "2                     5.000000                    4.219923   \n",
       "3                     3.300000                    2.406011   \n",
       "4                     6.333333                    1.527525   \n",
       "\n",
       "   user_product_reorder_ratio    ...      \\\n",
       "0                         1.0    ...       \n",
       "1                         0.9    ...       \n",
       "2                         0.1    ...       \n",
       "3                         1.0    ...       \n",
       "4                         0.3    ...       \n",
       "\n",
       "   department_product_add_to_cart_order_std  department  order_id  eval_set  \\\n",
       "0                                  2.369946   beverages   1187899     train   \n",
       "1                                  2.467903      snacks   1187899     train   \n",
       "2                                  1.801582     produce   1187899     train   \n",
       "3                                  2.467903      snacks   1187899     train   \n",
       "4                                  2.065538   breakfast   1187899     train   \n",
       "\n",
       "   order_number  order_dow  order_hour_of_day  days_since_prior_order  \\\n",
       "0            11          4                  8                    14.0   \n",
       "1            11          4                  8                    14.0   \n",
       "2            11          4                  8                    14.0   \n",
       "3            11          4                  8                    14.0   \n",
       "4            11          4                  8                    14.0   \n",
       "\n",
       "   add_to_cart_order  reordered  \n",
       "0                1.0        1.0  \n",
       "1                6.0        1.0  \n",
       "2                NaN        NaN  \n",
       "3                NaN        NaN  \n",
       "4                7.0        1.0  \n",
       "\n",
       "[5 rows x 65 columns]"
      ]
     },
     "execution_count": 16,
     "metadata": {},
     "output_type": "execute_result"
    }
   ],
   "source": [
    "train_df.head()"
   ]
  },
  {
   "cell_type": "code",
   "execution_count": 17,
   "metadata": {
    "collapsed": true
   },
   "outputs": [],
   "source": [
    "train_df.reordered.fillna(0, inplace = True)"
   ]
  },
  {
   "cell_type": "code",
   "execution_count": 18,
   "metadata": {
    "collapsed": true
   },
   "outputs": [],
   "source": [
    "train_df.rename(columns = {'reordered': 'y'}, inplace = True)"
   ]
  },
  {
   "cell_type": "code",
   "execution_count": 19,
   "metadata": {
    "collapsed": true
   },
   "outputs": [],
   "source": [
    "hour_bins = [-1,2,6,10,14,18,22,25]\n",
    "hour_gourp_names = ['22-2', '3-6', '7-10', '11-14', '15-18', '19-22', '22-2']\n",
    "train_df['order_hour_group'] = pd.cut(train_df.order_hour_of_day, bins = hour_bins, labels=hour_gourp_names)"
   ]
  },
  {
   "cell_type": "code",
   "execution_count": 20,
   "metadata": {},
   "outputs": [
    {
     "data": {
      "text/html": [
       "<div>\n",
       "<style>\n",
       "    .dataframe thead tr:only-child th {\n",
       "        text-align: right;\n",
       "    }\n",
       "\n",
       "    .dataframe thead th {\n",
       "        text-align: left;\n",
       "    }\n",
       "\n",
       "    .dataframe tbody tr th {\n",
       "        vertical-align: top;\n",
       "    }\n",
       "</style>\n",
       "<table border=\"1\" class=\"dataframe\">\n",
       "  <thead>\n",
       "    <tr style=\"text-align: right;\">\n",
       "      <th></th>\n",
       "      <th>order_dow</th>\n",
       "      <th>order_hour_group</th>\n",
       "      <th>ordertime_order_num</th>\n",
       "    </tr>\n",
       "  </thead>\n",
       "  <tbody>\n",
       "    <tr>\n",
       "      <th>0</th>\n",
       "      <td>0</td>\n",
       "      <td>11-14</td>\n",
       "      <td>195567</td>\n",
       "    </tr>\n",
       "    <tr>\n",
       "      <th>1</th>\n",
       "      <td>0</td>\n",
       "      <td>15-18</td>\n",
       "      <td>160171</td>\n",
       "    </tr>\n",
       "    <tr>\n",
       "      <th>2</th>\n",
       "      <td>0</td>\n",
       "      <td>19-22</td>\n",
       "      <td>61821</td>\n",
       "    </tr>\n",
       "    <tr>\n",
       "      <th>3</th>\n",
       "      <td>0</td>\n",
       "      <td>22-2</td>\n",
       "      <td>13619</td>\n",
       "    </tr>\n",
       "    <tr>\n",
       "      <th>4</th>\n",
       "      <td>0</td>\n",
       "      <td>3-6</td>\n",
       "      <td>5852</td>\n",
       "    </tr>\n",
       "  </tbody>\n",
       "</table>\n",
       "</div>"
      ],
      "text/plain": [
       "   order_dow order_hour_group  ordertime_order_num\n",
       "0          0            11-14               195567\n",
       "1          0            15-18               160171\n",
       "2          0            19-22                61821\n",
       "3          0             22-2                13619\n",
       "4          0              3-6                 5852"
      ]
     },
     "execution_count": 20,
     "metadata": {},
     "output_type": "execute_result"
    }
   ],
   "source": [
    "ordertime_info.head()"
   ]
  },
  {
   "cell_type": "code",
   "execution_count": 21,
   "metadata": {
    "collapsed": true
   },
   "outputs": [],
   "source": [
    "train_df = pd.merge(train_df, ordertime_info, on = ['order_dow', 'order_hour_group'], how = 'left')"
   ]
  },
  {
   "cell_type": "code",
   "execution_count": 22,
   "metadata": {},
   "outputs": [
    {
     "data": {
      "text/plain": [
       "Index(['user_id', 'product_id', 'user_product_order_num',\n",
       "       'user_product_last_purchase_day', 'user_product_order_interval_mean',\n",
       "       'user_product_order_interval_std', 'user_product_rank',\n",
       "       'user_product_add_order_mean', 'user_product_add_order_std',\n",
       "       'user_product_reorder_ratio', 'user_product_order_interval_mean_NaN',\n",
       "       'user_product_order_interval_std_NaN', 'user_product_add_order_std_NaN',\n",
       "       'user_order_num', 'user_order_interval_mean', 'user_order_interval_std',\n",
       "       'user_basket_size_mean', 'user_basket_size_std', 'user_history',\n",
       "       'product_user_num', 'product_order_num', 'product_order_interval_mean',\n",
       "       'product_order_interval_std', 'product_reorder_num',\n",
       "       'product_reorder_user_num', 'product_reorder_ratio',\n",
       "       'product_reorder_user_ratio', 'product_add_to_cart_order_mean',\n",
       "       'product_add_to_cart_order_std', 'product_name', 'aisle_id',\n",
       "       'department_id', 'product_order_interval_mean_NaN',\n",
       "       'product_order_interval_std_NaN', 'product_add_to_cart_order_std_NaN',\n",
       "       'aisle_user_num', 'aisle_order_num', 'aisle_order_interval_mean',\n",
       "       'aisle_order_interval_std', 'aisle_reorder_num',\n",
       "       'aisle_reorder_user_num', 'aisle_reorder_ratio',\n",
       "       'aisle_reorder_user_ratio', 'aisle_product_add_to_cart_order_mean',\n",
       "       'aisle_product_add_to_cart_order_std', 'aisle', 'department_user_num',\n",
       "       'department_order_num', 'department_order_interval_mean',\n",
       "       'department_order_interval_std', 'department_reorder_num',\n",
       "       'department_reorder_user_num', 'department_reorder_ratio',\n",
       "       'department_reorder_user_ratio',\n",
       "       'department_product_add_to_cart_order_mean',\n",
       "       'department_product_add_to_cart_order_std', 'department', 'order_id',\n",
       "       'eval_set', 'order_number', 'order_dow', 'order_hour_of_day',\n",
       "       'days_since_prior_order', 'add_to_cart_order', 'y', 'order_hour_group',\n",
       "       'ordertime_order_num'],\n",
       "      dtype='object')"
      ]
     },
     "execution_count": 22,
     "metadata": {},
     "output_type": "execute_result"
    }
   ],
   "source": [
    "train_df.columns"
   ]
  },
  {
   "cell_type": "code",
   "execution_count": 23,
   "metadata": {},
   "outputs": [
    {
     "data": {
      "text/html": [
       "<div>\n",
       "<style>\n",
       "    .dataframe thead tr:only-child th {\n",
       "        text-align: right;\n",
       "    }\n",
       "\n",
       "    .dataframe thead th {\n",
       "        text-align: left;\n",
       "    }\n",
       "\n",
       "    .dataframe tbody tr th {\n",
       "        vertical-align: top;\n",
       "    }\n",
       "</style>\n",
       "<table border=\"1\" class=\"dataframe\">\n",
       "  <thead>\n",
       "    <tr style=\"text-align: right;\">\n",
       "      <th></th>\n",
       "      <th>user_id</th>\n",
       "      <th>order_dow</th>\n",
       "      <th>order_hour_group</th>\n",
       "      <th>user_ordertime_order_num</th>\n",
       "    </tr>\n",
       "  </thead>\n",
       "  <tbody>\n",
       "    <tr>\n",
       "      <th>0</th>\n",
       "      <td>1</td>\n",
       "      <td>1</td>\n",
       "      <td>11-14</td>\n",
       "      <td>1</td>\n",
       "    </tr>\n",
       "    <tr>\n",
       "      <th>1</th>\n",
       "      <td>1</td>\n",
       "      <td>1</td>\n",
       "      <td>15-18</td>\n",
       "      <td>1</td>\n",
       "    </tr>\n",
       "    <tr>\n",
       "      <th>2</th>\n",
       "      <td>1</td>\n",
       "      <td>1</td>\n",
       "      <td>7-10</td>\n",
       "      <td>1</td>\n",
       "    </tr>\n",
       "    <tr>\n",
       "      <th>3</th>\n",
       "      <td>1</td>\n",
       "      <td>2</td>\n",
       "      <td>7-10</td>\n",
       "      <td>2</td>\n",
       "    </tr>\n",
       "    <tr>\n",
       "      <th>4</th>\n",
       "      <td>1</td>\n",
       "      <td>3</td>\n",
       "      <td>11-14</td>\n",
       "      <td>1</td>\n",
       "    </tr>\n",
       "  </tbody>\n",
       "</table>\n",
       "</div>"
      ],
      "text/plain": [
       "   user_id  order_dow order_hour_group  user_ordertime_order_num\n",
       "0        1          1            11-14                         1\n",
       "1        1          1            15-18                         1\n",
       "2        1          1             7-10                         1\n",
       "3        1          2             7-10                         2\n",
       "4        1          3            11-14                         1"
      ]
     },
     "execution_count": 23,
     "metadata": {},
     "output_type": "execute_result"
    }
   ],
   "source": [
    "user_ordertime_info.head()"
   ]
  },
  {
   "cell_type": "code",
   "execution_count": 24,
   "metadata": {
    "collapsed": true
   },
   "outputs": [],
   "source": [
    "train_df = pd.merge(train_df, user_ordertime_info, on = ['user_id', 'order_dow', 'order_hour_group'], how = 'left')"
   ]
  },
  {
   "cell_type": "code",
   "execution_count": 25,
   "metadata": {
    "collapsed": true
   },
   "outputs": [],
   "source": [
    "train_df = pd.merge(train_df, product_ordertime_info, on = ['product_id', 'order_dow', 'order_hour_group'], how = 'left')"
   ]
  },
  {
   "cell_type": "code",
   "execution_count": 26,
   "metadata": {
    "collapsed": true
   },
   "outputs": [],
   "source": [
    "train_df['user_ordertime_order_num'].fillna(0, inplace = True)\n",
    "train_df['product_ordertime_order_num'].fillna(0, inplace = True)"
   ]
  },
  {
   "cell_type": "code",
   "execution_count": 27,
   "metadata": {
    "collapsed": true
   },
   "outputs": [],
   "source": [
    "train_df = pd.concat([train_df, pd.get_dummies(train_df['order_hour_group'])], axis = 1)"
   ]
  },
  {
   "cell_type": "code",
   "execution_count": 28,
   "metadata": {
    "collapsed": true
   },
   "outputs": [],
   "source": [
    "train_df = pd.concat([train_df, pd.get_dummies(train_df['order_dow'], prefix='order_dow')], axis = 1)"
   ]
  },
  {
   "cell_type": "code",
   "execution_count": 29,
   "metadata": {
    "collapsed": true
   },
   "outputs": [],
   "source": [
    "info_columns = ['user_id', 'product_id', 'product_name', 'aisle_id', 'department_id', 'aisle', 'department', 'order_id', 'eval_set', 'add_to_cart_order', 'y', 'order_hour_group', 'order_dow', 'order_hour_of_day']"
   ]
  },
  {
   "cell_type": "code",
   "execution_count": 30,
   "metadata": {
    "collapsed": true
   },
   "outputs": [],
   "source": [
    "X = train_df.drop(info_columns, axis = 1)"
   ]
  },
  {
   "cell_type": "code",
   "execution_count": 31,
   "metadata": {
    "collapsed": true
   },
   "outputs": [],
   "source": [
    "y = train_df.y"
   ]
  },
  {
   "cell_type": "markdown",
   "metadata": {},
   "source": [
    "## Models!"
   ]
  },
  {
   "cell_type": "markdown",
   "metadata": {},
   "source": [
    "### Feature Importance"
   ]
  },
  {
   "cell_type": "code",
   "execution_count": 60,
   "metadata": {
    "collapsed": true
   },
   "outputs": [],
   "source": [
    "import numpy as np\n",
    "import pandas as pd\n",
    "import matplotlib.pyplot as plt\n",
    "import pickle\n",
    "import random\n",
    "\n",
    "%matplotlib inline "
   ]
  },
  {
   "cell_type": "code",
   "execution_count": 2,
   "metadata": {
    "collapsed": true
   },
   "outputs": [],
   "source": [
    "pd.set_option('display.max_rows', 100)\n",
    "pd.set_option('display.max_columns', 100)"
   ]
  },
  {
   "cell_type": "code",
   "execution_count": 37,
   "metadata": {
    "collapsed": true
   },
   "outputs": [],
   "source": [
    "from sklearn.neighbors import KNeighborsClassifier\n",
    "from sklearn.model_selection import train_test_split, cross_val_score, learning_curve, KFold, GridSearchCV, GroupKFold\n",
    "from sklearn.linear_model import LogisticRegression\n",
    "from sklearn.naive_bayes import GaussianNB\n",
    "from sklearn.svm import SVC\n",
    "from sklearn.tree import DecisionTreeClassifier\n",
    "from sklearn.ensemble import RandomForestClassifier\n",
    "from sklearn.preprocessing import MinMaxScaler\n",
    "from sklearn.neighbors import KNeighborsClassifier\n",
    "from sklearn.metrics import roc_curve,auc,accuracy_score,recall_score,precision_score,f1_score\n",
    "from xgboost import XGBClassifier"
   ]
  },
  {
   "cell_type": "code",
   "execution_count": 100,
   "metadata": {
    "collapsed": true
   },
   "outputs": [],
   "source": [
    "#xgb_model = XGBClassifier(learning_rate=0.1, max_depth=6, n_estimators=80, gamma=0, min_child_weight=3, subsample=1, nthread=-1)"
   ]
  },
  {
   "cell_type": "code",
   "execution_count": 101,
   "metadata": {
    "collapsed": true
   },
   "outputs": [],
   "source": [
    "#xgb_model_fit = xgb_model.fit(X,y)"
   ]
  },
  {
   "cell_type": "code",
   "execution_count": 102,
   "metadata": {},
   "outputs": [
    {
     "data": {
      "text/plain": [
       "(68,)"
      ]
     },
     "execution_count": 102,
     "metadata": {},
     "output_type": "execute_result"
    }
   ],
   "source": [
    "X.columns.shape"
   ]
  },
  {
   "cell_type": "code",
   "execution_count": 103,
   "metadata": {},
   "outputs": [
    {
     "data": {
      "text/plain": [
       "(68,)"
      ]
     },
     "execution_count": 103,
     "metadata": {},
     "output_type": "execute_result"
    }
   ],
   "source": [
    "xgb_model_fit.feature_importances_.shape"
   ]
  },
  {
   "cell_type": "code",
   "execution_count": 151,
   "metadata": {},
   "outputs": [
    {
     "data": {
      "text/plain": [
       "array([ 0.02096975,  0.12250311,  0.0466639 ,  0.01931206,  0.03588894,\n",
       "        0.02047244,  0.01052632,  0.0445918 ,  0.        ,  0.        ,\n",
       "        0.        ,  0.02884376,  0.0302528 ,  0.03016991,  0.04210526,\n",
       "        0.03240779,  0.09291339,  0.01898052,  0.00696229,  0.0382097 ,\n",
       "        0.01723995,  0.01102362,  0.01019478,  0.02271032,  0.03315375,\n",
       "        0.01574803,  0.00920017,  0.        ,  0.        ,  0.        ,\n",
       "        0.00812267,  0.00290095,  0.0132615 ,  0.00679652,  0.0015748 ,\n",
       "        0.00198922,  0.00621633,  0.00464152,  0.00870286,  0.00845421,\n",
       "        0.00281807,  0.00058019,  0.00406133,  0.00140903,  0.00049731,\n",
       "        0.        ,  0.0015748 ,  0.00232076,  0.00480729,  0.00381268,\n",
       "        0.        ,  0.08677994,  0.01956071,  0.0159138 ,  0.01127227,\n",
       "        0.00140903,  0.00232076,  0.00074596,  0.00132615,  0.        ,\n",
       "        0.00215499,  0.00273518,  0.00124327,  0.00099461,  0.00165769,\n",
       "        0.00256942,  0.00198922,  0.00174057], dtype=float32)"
      ]
     },
     "execution_count": 151,
     "metadata": {},
     "output_type": "execute_result"
    }
   ],
   "source": [
    "xgb_optimized_fit.feature_importances_"
   ]
  },
  {
   "cell_type": "code",
   "execution_count": 104,
   "metadata": {},
   "outputs": [
    {
     "data": {
      "text/plain": [
       "array([ 0.03203342,  0.19498608,  0.05949065,  0.01313172,  0.0206924 ,\n",
       "        0.01233585,  0.00119379,  0.07879029,  0.        ,  0.        ,\n",
       "        0.        ,  0.0252686 ,  0.01830482,  0.01193792,  0.01730999,\n",
       "        0.00815758,  0.13270991,  0.02268205,  0.00417827,  0.04019101,\n",
       "        0.00577   ,  0.01333068,  0.01452447,  0.02686033,  0.05789892,\n",
       "        0.01014723,  0.00298448,  0.00019897,  0.        ,  0.        ,\n",
       "        0.00318345,  0.00119379,  0.00736172,  0.00417827,  0.00099483,\n",
       "        0.00019897,  0.00318345,  0.00179069,  0.00278552,  0.00238758,\n",
       "        0.00278552,  0.00019897,  0.00378034,  0.00039793,  0.        ,\n",
       "        0.        ,  0.0005969 ,  0.0005969 ,  0.00298448,  0.00218862,\n",
       "        0.        ,  0.10664544,  0.00537207,  0.00855551,  0.00676482,\n",
       "        0.00039793,  0.00039793,  0.00019897,  0.00079586,  0.        ,\n",
       "        0.00119379,  0.00238758,  0.        ,  0.00019897,  0.        ,\n",
       "        0.0005969 ,  0.00019897,  0.00039793], dtype=float32)"
      ]
     },
     "execution_count": 104,
     "metadata": {},
     "output_type": "execute_result"
    }
   ],
   "source": [
    "#xgb_model_fit.feature_importances_"
   ]
  },
  {
   "cell_type": "code",
   "execution_count": 105,
   "metadata": {},
   "outputs": [
    {
     "data": {
      "image/png": "[encoded data removed]",
      "text/plain": [
       "<matplotlib.figure.Figure at 0x1171ef7b8>"
      ]
     },
     "metadata": {},
     "output_type": "display_data"
    }
   ],
   "source": [
    "#print(xgb_model_fit.feature_importances_)\n",
    "\n",
    "plt.bar(range(len(xgb_model_fit.feature_importances_)), xgb_model_fit.feature_importances_)\n",
    "plt.show();"
   ]
  },
  {
   "cell_type": "code",
   "execution_count": 152,
   "metadata": {
    "collapsed": true
   },
   "outputs": [],
   "source": [
    "feature_importance = pd.DataFrame(columns = ['feature', 'importance'])\n",
    "for index, importance in enumerate(xgb_optimized_fit.feature_importances_):\n",
    "    feature_importance.loc[index] = [X.columns[index], importance]\n",
    "feature_importance.sort_values('importance', inplace = True, ascending = False)\n",
    "feature_importance.reset_index(drop = True, inplace = True)"
   ]
  },
  {
   "cell_type": "code",
   "execution_count": 157,
   "metadata": {},
   "outputs": [
    {
     "data": {
      "text/html": [
       "<div>\n",
       "<style>\n",
       "    .dataframe thead tr:only-child th {\n",
       "        text-align: right;\n",
       "    }\n",
       "\n",
       "    .dataframe thead th {\n",
       "        text-align: left;\n",
       "    }\n",
       "\n",
       "    .dataframe tbody tr th {\n",
       "        vertical-align: top;\n",
       "    }\n",
       "</style>\n",
       "<table border=\"1\" class=\"dataframe\">\n",
       "  <thead>\n",
       "    <tr style=\"text-align: right;\">\n",
       "      <th></th>\n",
       "      <th>feature</th>\n",
       "      <th>importance</th>\n",
       "    </tr>\n",
       "  </thead>\n",
       "  <tbody>\n",
       "    <tr>\n",
       "      <th>0</th>\n",
       "      <td>user_product_last_purchase_day</td>\n",
       "      <td>0.122503</td>\n",
       "    </tr>\n",
       "    <tr>\n",
       "      <th>1</th>\n",
       "      <td>user_history</td>\n",
       "      <td>0.092913</td>\n",
       "    </tr>\n",
       "    <tr>\n",
       "      <th>2</th>\n",
       "      <td>days_since_prior_order</td>\n",
       "      <td>0.086780</td>\n",
       "    </tr>\n",
       "    <tr>\n",
       "      <th>3</th>\n",
       "      <td>user_product_order_interval_mean</td>\n",
       "      <td>0.046664</td>\n",
       "    </tr>\n",
       "    <tr>\n",
       "      <th>4</th>\n",
       "      <td>user_product_reorder_ratio</td>\n",
       "      <td>0.044592</td>\n",
       "    </tr>\n",
       "    <tr>\n",
       "      <th>5</th>\n",
       "      <td>user_basket_size_mean</td>\n",
       "      <td>0.042105</td>\n",
       "    </tr>\n",
       "    <tr>\n",
       "      <th>6</th>\n",
       "      <td>product_order_interval_mean</td>\n",
       "      <td>0.038210</td>\n",
       "    </tr>\n",
       "    <tr>\n",
       "      <th>7</th>\n",
       "      <td>user_product_rank</td>\n",
       "      <td>0.035889</td>\n",
       "    </tr>\n",
       "    <tr>\n",
       "      <th>8</th>\n",
       "      <td>product_reorder_user_ratio</td>\n",
       "      <td>0.033154</td>\n",
       "    </tr>\n",
       "    <tr>\n",
       "      <th>9</th>\n",
       "      <td>user_basket_size_std</td>\n",
       "      <td>0.032408</td>\n",
       "    </tr>\n",
       "    <tr>\n",
       "      <th>10</th>\n",
       "      <td>user_order_interval_mean</td>\n",
       "      <td>0.030253</td>\n",
       "    </tr>\n",
       "    <tr>\n",
       "      <th>11</th>\n",
       "      <td>user_order_interval_std</td>\n",
       "      <td>0.030170</td>\n",
       "    </tr>\n",
       "    <tr>\n",
       "      <th>12</th>\n",
       "      <td>user_order_num</td>\n",
       "      <td>0.028844</td>\n",
       "    </tr>\n",
       "    <tr>\n",
       "      <th>13</th>\n",
       "      <td>product_reorder_ratio</td>\n",
       "      <td>0.022710</td>\n",
       "    </tr>\n",
       "    <tr>\n",
       "      <th>14</th>\n",
       "      <td>user_product_order_num</td>\n",
       "      <td>0.020970</td>\n",
       "    </tr>\n",
       "    <tr>\n",
       "      <th>15</th>\n",
       "      <td>user_product_add_order_mean</td>\n",
       "      <td>0.020472</td>\n",
       "    </tr>\n",
       "    <tr>\n",
       "      <th>16</th>\n",
       "      <td>ordertime_order_num</td>\n",
       "      <td>0.019561</td>\n",
       "    </tr>\n",
       "    <tr>\n",
       "      <th>17</th>\n",
       "      <td>user_product_order_interval_std</td>\n",
       "      <td>0.019312</td>\n",
       "    </tr>\n",
       "    <tr>\n",
       "      <th>18</th>\n",
       "      <td>product_user_num</td>\n",
       "      <td>0.018981</td>\n",
       "    </tr>\n",
       "    <tr>\n",
       "      <th>19</th>\n",
       "      <td>product_order_interval_std</td>\n",
       "      <td>0.017240</td>\n",
       "    </tr>\n",
       "    <tr>\n",
       "      <th>20</th>\n",
       "      <td>user_ordertime_order_num</td>\n",
       "      <td>0.015914</td>\n",
       "    </tr>\n",
       "    <tr>\n",
       "      <th>21</th>\n",
       "      <td>product_add_to_cart_order_mean</td>\n",
       "      <td>0.015748</td>\n",
       "    </tr>\n",
       "    <tr>\n",
       "      <th>22</th>\n",
       "      <td>aisle_order_interval_mean</td>\n",
       "      <td>0.013261</td>\n",
       "    </tr>\n",
       "    <tr>\n",
       "      <th>23</th>\n",
       "      <td>product_ordertime_order_num</td>\n",
       "      <td>0.011272</td>\n",
       "    </tr>\n",
       "    <tr>\n",
       "      <th>24</th>\n",
       "      <td>product_reorder_num</td>\n",
       "      <td>0.011024</td>\n",
       "    </tr>\n",
       "    <tr>\n",
       "      <th>25</th>\n",
       "      <td>user_product_add_order_std</td>\n",
       "      <td>0.010526</td>\n",
       "    </tr>\n",
       "    <tr>\n",
       "      <th>26</th>\n",
       "      <td>product_reorder_user_num</td>\n",
       "      <td>0.010195</td>\n",
       "    </tr>\n",
       "    <tr>\n",
       "      <th>27</th>\n",
       "      <td>product_add_to_cart_order_std</td>\n",
       "      <td>0.009200</td>\n",
       "    </tr>\n",
       "    <tr>\n",
       "      <th>28</th>\n",
       "      <td>aisle_product_add_to_cart_order_mean</td>\n",
       "      <td>0.008703</td>\n",
       "    </tr>\n",
       "    <tr>\n",
       "      <th>29</th>\n",
       "      <td>aisle_product_add_to_cart_order_std</td>\n",
       "      <td>0.008454</td>\n",
       "    </tr>\n",
       "    <tr>\n",
       "      <th>...</th>\n",
       "      <td>...</td>\n",
       "      <td>...</td>\n",
       "    </tr>\n",
       "    <tr>\n",
       "      <th>38</th>\n",
       "      <td>aisle_order_num</td>\n",
       "      <td>0.002901</td>\n",
       "    </tr>\n",
       "    <tr>\n",
       "      <th>39</th>\n",
       "      <td>department_user_num</td>\n",
       "      <td>0.002818</td>\n",
       "    </tr>\n",
       "    <tr>\n",
       "      <th>40</th>\n",
       "      <td>order_dow_0</td>\n",
       "      <td>0.002735</td>\n",
       "    </tr>\n",
       "    <tr>\n",
       "      <th>41</th>\n",
       "      <td>order_dow_4</td>\n",
       "      <td>0.002569</td>\n",
       "    </tr>\n",
       "    <tr>\n",
       "      <th>42</th>\n",
       "      <td>15-18</td>\n",
       "      <td>0.002321</td>\n",
       "    </tr>\n",
       "    <tr>\n",
       "      <th>43</th>\n",
       "      <td>department_reorder_user_ratio</td>\n",
       "      <td>0.002321</td>\n",
       "    </tr>\n",
       "    <tr>\n",
       "      <th>44</th>\n",
       "      <td>7-10</td>\n",
       "      <td>0.002155</td>\n",
       "    </tr>\n",
       "    <tr>\n",
       "      <th>45</th>\n",
       "      <td>aisle_reorder_user_num</td>\n",
       "      <td>0.001989</td>\n",
       "    </tr>\n",
       "    <tr>\n",
       "      <th>46</th>\n",
       "      <td>order_dow_5</td>\n",
       "      <td>0.001989</td>\n",
       "    </tr>\n",
       "    <tr>\n",
       "      <th>47</th>\n",
       "      <td>order_dow_6</td>\n",
       "      <td>0.001741</td>\n",
       "    </tr>\n",
       "    <tr>\n",
       "      <th>48</th>\n",
       "      <td>order_dow_3</td>\n",
       "      <td>0.001658</td>\n",
       "    </tr>\n",
       "    <tr>\n",
       "      <th>49</th>\n",
       "      <td>department_reorder_ratio</td>\n",
       "      <td>0.001575</td>\n",
       "    </tr>\n",
       "    <tr>\n",
       "      <th>50</th>\n",
       "      <td>aisle_reorder_num</td>\n",
       "      <td>0.001575</td>\n",
       "    </tr>\n",
       "    <tr>\n",
       "      <th>51</th>\n",
       "      <td>department_order_interval_std</td>\n",
       "      <td>0.001409</td>\n",
       "    </tr>\n",
       "    <tr>\n",
       "      <th>52</th>\n",
       "      <td>11-14</td>\n",
       "      <td>0.001409</td>\n",
       "    </tr>\n",
       "    <tr>\n",
       "      <th>53</th>\n",
       "      <td>22-2</td>\n",
       "      <td>0.001326</td>\n",
       "    </tr>\n",
       "    <tr>\n",
       "      <th>54</th>\n",
       "      <td>order_dow_1</td>\n",
       "      <td>0.001243</td>\n",
       "    </tr>\n",
       "    <tr>\n",
       "      <th>55</th>\n",
       "      <td>order_dow_2</td>\n",
       "      <td>0.000995</td>\n",
       "    </tr>\n",
       "    <tr>\n",
       "      <th>56</th>\n",
       "      <td>19-22</td>\n",
       "      <td>0.000746</td>\n",
       "    </tr>\n",
       "    <tr>\n",
       "      <th>57</th>\n",
       "      <td>department_order_num</td>\n",
       "      <td>0.000580</td>\n",
       "    </tr>\n",
       "    <tr>\n",
       "      <th>58</th>\n",
       "      <td>department_reorder_num</td>\n",
       "      <td>0.000497</td>\n",
       "    </tr>\n",
       "    <tr>\n",
       "      <th>59</th>\n",
       "      <td>department_reorder_user_num</td>\n",
       "      <td>0.000000</td>\n",
       "    </tr>\n",
       "    <tr>\n",
       "      <th>60</th>\n",
       "      <td>product_order_interval_mean_NaN</td>\n",
       "      <td>0.000000</td>\n",
       "    </tr>\n",
       "    <tr>\n",
       "      <th>61</th>\n",
       "      <td>user_product_add_order_std_NaN</td>\n",
       "      <td>0.000000</td>\n",
       "    </tr>\n",
       "    <tr>\n",
       "      <th>62</th>\n",
       "      <td>product_order_interval_std_NaN</td>\n",
       "      <td>0.000000</td>\n",
       "    </tr>\n",
       "    <tr>\n",
       "      <th>63</th>\n",
       "      <td>product_add_to_cart_order_std_NaN</td>\n",
       "      <td>0.000000</td>\n",
       "    </tr>\n",
       "    <tr>\n",
       "      <th>64</th>\n",
       "      <td>order_number</td>\n",
       "      <td>0.000000</td>\n",
       "    </tr>\n",
       "    <tr>\n",
       "      <th>65</th>\n",
       "      <td>user_product_order_interval_std_NaN</td>\n",
       "      <td>0.000000</td>\n",
       "    </tr>\n",
       "    <tr>\n",
       "      <th>66</th>\n",
       "      <td>user_product_order_interval_mean_NaN</td>\n",
       "      <td>0.000000</td>\n",
       "    </tr>\n",
       "    <tr>\n",
       "      <th>67</th>\n",
       "      <td>3-6</td>\n",
       "      <td>0.000000</td>\n",
       "    </tr>\n",
       "  </tbody>\n",
       "</table>\n",
       "<p>68 rows × 2 columns</p>\n",
       "</div>"
      ],
      "text/plain": [
       "                                 feature  importance\n",
       "0         user_product_last_purchase_day    0.122503\n",
       "1                           user_history    0.092913\n",
       "2                 days_since_prior_order    0.086780\n",
       "3       user_product_order_interval_mean    0.046664\n",
       "4             user_product_reorder_ratio    0.044592\n",
       "5                  user_basket_size_mean    0.042105\n",
       "6            product_order_interval_mean    0.038210\n",
       "7                      user_product_rank    0.035889\n",
       "8             product_reorder_user_ratio    0.033154\n",
       "9                   user_basket_size_std    0.032408\n",
       "10              user_order_interval_mean    0.030253\n",
       "11               user_order_interval_std    0.030170\n",
       "12                        user_order_num    0.028844\n",
       "13                 product_reorder_ratio    0.022710\n",
       "14                user_product_order_num    0.020970\n",
       "15           user_product_add_order_mean    0.020472\n",
       "16                   ordertime_order_num    0.019561\n",
       "17       user_product_order_interval_std    0.019312\n",
       "18                      product_user_num    0.018981\n",
       "19            product_order_interval_std    0.017240\n",
       "20              user_ordertime_order_num    0.015914\n",
       "21        product_add_to_cart_order_mean    0.015748\n",
       "22             aisle_order_interval_mean    0.013261\n",
       "23           product_ordertime_order_num    0.011272\n",
       "24                   product_reorder_num    0.011024\n",
       "25            user_product_add_order_std    0.010526\n",
       "26              product_reorder_user_num    0.010195\n",
       "27         product_add_to_cart_order_std    0.009200\n",
       "28  aisle_product_add_to_cart_order_mean    0.008703\n",
       "29   aisle_product_add_to_cart_order_std    0.008454\n",
       "..                                   ...         ...\n",
       "38                       aisle_order_num    0.002901\n",
       "39                   department_user_num    0.002818\n",
       "40                           order_dow_0    0.002735\n",
       "41                           order_dow_4    0.002569\n",
       "42                                 15-18    0.002321\n",
       "43         department_reorder_user_ratio    0.002321\n",
       "44                                  7-10    0.002155\n",
       "45                aisle_reorder_user_num    0.001989\n",
       "46                           order_dow_5    0.001989\n",
       "47                           order_dow_6    0.001741\n",
       "48                           order_dow_3    0.001658\n",
       "49              department_reorder_ratio    0.001575\n",
       "50                     aisle_reorder_num    0.001575\n",
       "51         department_order_interval_std    0.001409\n",
       "52                                 11-14    0.001409\n",
       "53                                  22-2    0.001326\n",
       "54                           order_dow_1    0.001243\n",
       "55                           order_dow_2    0.000995\n",
       "56                                 19-22    0.000746\n",
       "57                  department_order_num    0.000580\n",
       "58                department_reorder_num    0.000497\n",
       "59           department_reorder_user_num    0.000000\n",
       "60       product_order_interval_mean_NaN    0.000000\n",
       "61        user_product_add_order_std_NaN    0.000000\n",
       "62        product_order_interval_std_NaN    0.000000\n",
       "63     product_add_to_cart_order_std_NaN    0.000000\n",
       "64                          order_number    0.000000\n",
       "65   user_product_order_interval_std_NaN    0.000000\n",
       "66  user_product_order_interval_mean_NaN    0.000000\n",
       "67                                   3-6    0.000000\n",
       "\n",
       "[68 rows x 2 columns]"
      ]
     },
     "execution_count": 157,
     "metadata": {},
     "output_type": "execute_result"
    }
   ],
   "source": [
    "feature_importance"
   ]
  },
  {
   "cell_type": "code",
   "execution_count": 154,
   "metadata": {
    "collapsed": true
   },
   "outputs": [],
   "source": [
    "featuredf = feature_importance.iloc[:3,:].sort_values('importance', ascending = True)"
   ]
  },
  {
   "cell_type": "code",
   "execution_count": 155,
   "metadata": {
    "collapsed": true
   },
   "outputs": [],
   "source": [
    "import matplotlib"
   ]
  },
  {
   "cell_type": "code",
   "execution_count": 156,
   "metadata": {},
   "outputs": [
    {
     "data": {
      "image/png": "[encoded data removed]",
      "text/plain": [
       "<matplotlib.figure.Figure at 0x1382a0320>"
      ]
     },
     "metadata": {},
     "output_type": "display_data"
    }
   ],
   "source": [
    "matplotlib.rcParams.update({'font.size': 16})\n",
    "objects = (featuredf.feature[:3])\n",
    "y_pos = np.arange(len(objects))\n",
    "performance = featuredf.importance[:3]\n",
    " \n",
    "plt.barh(y_pos, performance, align='center', alpha=0.5)\n",
    "plt.yticks(y_pos, objects)\n",
    "plt.xlabel('Importance')\n",
    "plt.title('Top 3 Important Features')\n",
    " \n",
    "plt.show()"
   ]
  },
  {
   "cell_type": "code",
   "execution_count": null,
   "metadata": {
    "collapsed": true
   },
   "outputs": [],
   "source": []
  },
  {
   "cell_type": "code",
   "execution_count": 152,
   "metadata": {
    "collapsed": true
   },
   "outputs": [],
   "source": [
    "import copy\n",
    "result_df = copy.deepcopy(train_df )\n",
    "result_df['XGB_pred_prob'] = xgb_model_fit.predict_proba(X)[:, 1:]"
   ]
  },
  {
   "cell_type": "code",
   "execution_count": 143,
   "metadata": {},
   "outputs": [
    {
     "data": {
      "text/plain": [
       "(8474661, 83)"
      ]
     },
     "execution_count": 143,
     "metadata": {},
     "output_type": "execute_result"
    }
   ],
   "source": [
    "result_df.shape"
   ]
  },
  {
   "cell_type": "code",
   "execution_count": 148,
   "metadata": {
    "collapsed": true
   },
   "outputs": [],
   "source": [
    "bins = [0, 0.2, 1]\n",
    "group_names = [0, 1]\n",
    "result_df['XGB_pred_y'] = pd.cut(result_df['XGB_pred_prob'], bins, labels=group_names)"
   ]
  },
  {
   "cell_type": "code",
   "execution_count": 151,
   "metadata": {},
   "outputs": [
    {
     "data": {
      "text/plain": [
       "0.3764929269287516"
      ]
     },
     "execution_count": 151,
     "metadata": {},
     "output_type": "execute_result"
    }
   ],
   "source": [
    "new_f1_score(result_df)"
   ]
  },
  {
   "cell_type": "markdown",
   "metadata": {},
   "source": [
    "### Tuning Parameters"
   ]
  },
  {
   "cell_type": "code",
   "execution_count": 206,
   "metadata": {
    "collapsed": true
   },
   "outputs": [],
   "source": [
    "random.seed(808)\n",
    "random_users = random.sample(set(train_df.user_id), 1000)"
   ]
  },
  {
   "cell_type": "code",
   "execution_count": 207,
   "metadata": {
    "collapsed": true
   },
   "outputs": [],
   "source": [
    "sample_train_df = train_df[train_df.user_id.isin(random_users)]"
   ]
  },
  {
   "cell_type": "code",
   "execution_count": 208,
   "metadata": {},
   "outputs": [
    {
     "data": {
      "text/plain": [
       "(63544, 82)"
      ]
     },
     "execution_count": 208,
     "metadata": {},
     "output_type": "execute_result"
    }
   ],
   "source": [
    "sample_train_df.shape"
   ]
  },
  {
   "cell_type": "code",
   "execution_count": 198,
   "metadata": {
    "collapsed": true
   },
   "outputs": [],
   "source": [
    "def new_f1_score(df):\n",
    "    TNdf = pd.DataFrame(df[(df.y == 0) & (df.XGB_pred_y == 0)].groupby('user_id')['product_id'].nunique())\n",
    "    TNdf.rename(columns = {'product_id': 'TN'}, inplace = True)\n",
    "    TNdf.reset_index(inplace = True)\n",
    "    \n",
    "    TPdf = pd.DataFrame(df[(df.y == 1) & (df.XGB_pred_y == 1)].groupby('user_id')['product_id'].nunique())\n",
    "    TPdf.rename(columns = {'product_id': 'TP'}, inplace = True)\n",
    "    TPdf.reset_index(inplace = True)\n",
    "    \n",
    "    FNdf = pd.DataFrame(df[(df.y == 1) & (df.XGB_pred_y == 0)].groupby('user_id')['product_id'].nunique())\n",
    "    FNdf.rename(columns = {'product_id': 'FN'}, inplace = True)\n",
    "    FNdf.reset_index(inplace = True)\n",
    "    \n",
    "    FPdf = pd.DataFrame(df[(df.y == 0) & (df.XGB_pred_y == 1)].groupby('user_id')['product_id'].nunique())\n",
    "    FPdf.rename(columns = {'product_id': 'FP'}, inplace = True)\n",
    "    FPdf.reset_index(inplace = True)\n",
    "    \n",
    "    matrix_df = pd.merge(TNdf, TPdf, on = 'user_id', how = 'outer')\n",
    "    matrix_df = pd.merge(matrix_df, FNdf, on = 'user_id', how = 'outer')\n",
    "    matrix_df = pd.merge(matrix_df, FPdf, on = 'user_id', how = 'outer')\n",
    "    \n",
    "    matrix_df.fillna(0, inplace = True)\n",
    "    matrix_df['precision'] = matrix_df.TP / (matrix_df.FP + matrix_df.TP)\n",
    "    matrix_df['recall'] = matrix_df.TP / (matrix_df.FN + matrix_df.TP)\n",
    "    matrix_df['f1'] = 2*matrix_df.TP / (2*matrix_df.TP+matrix_df.FP+matrix_df.FN)\n",
    "    matrix_df.fillna(1, inplace = True)\n",
    "    return matrix_df.f1.mean()"
   ]
  },
  {
   "cell_type": "code",
   "execution_count": 199,
   "metadata": {
    "collapsed": true
   },
   "outputs": [],
   "source": [
    "def man_cross_val(masterdf, learning_rate=0.2, max_depth=6, n_estimators=100, gamma=0, min_child_weight=1, subsample=1, threshold=0.2):\n",
    "    info_columns = ['user_id', 'product_id', 'product_name', 'aisle_id', 'department_id', 'aisle', 'department', 'order_id', 'eval_set', 'add_to_cart_order', 'y', 'order_hour_group', 'order_dow', 'order_hour_of_day']\n",
    "    X = masterdf.drop(info_columns, axis = 1)\n",
    "    y = masterdf.y\n",
    "    kf = GroupKFold(n_splits=5)\n",
    "    final_df = pd.DataFrame()\n",
    "    for i, (train_index, test_index) in enumerate(kf.split(masterdf, groups=masterdf['user_id'].values)):\n",
    "        xgb_model = XGBClassifier(learning_rate=learning_rate, max_depth=max_depth, n_estimators=n_estimators, gamma=gamma, min_child_weight=min_child_weight, subsample=subsample)\n",
    "        xgb_fit = xgb_model.fit(X.iloc[train_index], y.iloc[train_index])\n",
    "        result = xgb_fit.predict_proba(X.iloc[test_index])\n",
    "        new_df = masterdf.iloc[test_index][['y', 'user_id', 'product_id']]\n",
    "        new_df['True'] = result[:, 1:]\n",
    "        new_df['set'] = i\n",
    "        final_df = pd.concat([final_df, new_df])\n",
    "    return final_df"
   ]
  },
  {
   "cell_type": "code",
   "execution_count": 200,
   "metadata": {
    "collapsed": true
   },
   "outputs": [],
   "source": [
    "def optimize_threshold(result_df, threshold_list=[0.2]):\n",
    "    threshold_opt = 0.2\n",
    "    max_score = 0\n",
    "    for threshold in threshold_list:\n",
    "        scores = []\n",
    "        bins = [0, threshold, 1]\n",
    "        group_names = [0, 1]\n",
    "        result_df['XGB_pred_y'] = pd.cut(result_df['True'], bins, labels=group_names).astype(np.float32)\n",
    "        for i in range(5):\n",
    "            scores.append(new_f1_score(result_df[result_df.set == i]))\n",
    "        score = np.mean(scores)\n",
    "        #print(threshold, score)\n",
    "        if score > max_score:\n",
    "            max_score = score\n",
    "            threshold_opt = threshold\n",
    "    return threshold_opt, max_score"
   ]
  },
  {
   "cell_type": "code",
   "execution_count": 201,
   "metadata": {
    "collapsed": true
   },
   "outputs": [],
   "source": [
    "def tune_para_xgb(masterdf, learning_rate_list=[0.2], max_depth_list=[6], n_estimators_list=[100], gamma_list=[0], min_child_weight_list=[1], subsample_list=[1], threshold_list=[0.2]):\n",
    "    max_score = 0\n",
    "    parameters = [0.2, 6, 100, 0, 1, 1, 0.2]\n",
    "    cols = ['learning_rate', 'max_depth', 'n_estimators', 'gamma', 'min_child_weight_list', 'subsapmle', 'opt_threshold', 'score']\n",
    "    parameter_df = pd.DataFrame(columns = cols)\n",
    "    for lr in learning_rate_list:\n",
    "        for md in max_depth_list:\n",
    "            for n in n_estimators_list:\n",
    "                for g in gamma_list:\n",
    "                    for w in min_child_weight_list:\n",
    "                        for s in subsample_list:\n",
    "                            print(lr, md, n, g, w, s)\n",
    "                            #sys.stdout.flush()\n",
    "                            temp = optimize_threshold(man_cross_val(masterdf, learning_rate=lr, max_depth=md, n_estimators=n, gamma=g, min_child_weight=w, subsample=s), threshold_list=threshold_list)\n",
    "                            score = temp[1]\n",
    "                            threshold_opt = temp[0]\n",
    "                            parameter_df = parameter_df.append(pd.DataFrame([[lr, md, n, g, w, s, threshold_opt, score]], columns=cols))\n",
    "                            print(score, threshold_opt)\n",
    "                            #sys.stdout.flush()\n",
    "                            if score > max_score:\n",
    "                                max_score = score\n",
    "                                parameters = [lr, md, n, g, w, s, threshold_opt]\n",
    "    return max_score, parameters, parameter_df"
   ]
  },
  {
   "cell_type": "code",
   "execution_count": 202,
   "metadata": {
    "collapsed": true
   },
   "outputs": [],
   "source": [
    "learning_rate_list = np.arange(0.05,0.25,0.02)\n",
    "max_depth_list = [3, 6]\n",
    "n_estimators_list = np.arange(40,100,20)\n",
    "gamma_list = [0]\n",
    "min_child_weight_list = [1, 3]\n",
    "threshold_list = np.arange(0.1,0.4,0.001)\n",
    "subsample_list = [0.8, 1]"
   ]
  },
  {
   "cell_type": "code",
   "execution_count": 210,
   "metadata": {
    "collapsed": true
   },
   "outputs": [],
   "source": [
    "import copy\n",
    "masterdf = copy.deepcopy(sample_train_df )"
   ]
  },
  {
   "cell_type": "code",
   "execution_count": 211,
   "metadata": {
    "collapsed": true
   },
   "outputs": [],
   "source": [
    "# import sys\n",
    "\n",
    "# orig_stdout = sys.stdout\n",
    "# f = open('out.txt', 'w')\n",
    "# sys.stdout = f"
   ]
  },
  {
   "cell_type": "code",
   "execution_count": 213,
   "metadata": {
    "scrolled": false
   },
   "outputs": [
    {
     "name": "stdout",
     "output_type": "stream",
     "text": [
      "0.05 3 40 0 1 0.8\n",
      "0.355832069384 0.221\n",
      "0.05 3 40 0 1 1\n",
      "0.356623546913 0.237\n",
      "0.05 3 40 0 3 0.8\n",
      "0.355832069384 0.221\n",
      "0.05 3 40 0 3 1\n",
      "0.356623546913 0.237\n",
      "0.05 3 60 0 1 0.8\n",
      "0.360085467508 0.193\n",
      "0.05 3 60 0 1 1\n",
      "0.359464060837 0.204\n",
      "0.05 3 60 0 3 0.8\n",
      "0.360085467508 0.193\n",
      "0.05 3 60 0 3 1\n",
      "0.359464060837 0.204\n",
      "0.05 3 80 0 1 0.8\n",
      "0.364709797889 0.192\n",
      "0.05 3 80 0 1 1\n",
      "0.362693724661 0.192\n",
      "0.05 3 80 0 3 0.8\n",
      "0.364358166291 0.192\n",
      "0.05 3 80 0 3 1\n",
      "0.361448071513 0.195\n",
      "0.05 6 40 0 1 0.8\n",
      "0.368904110961 0.227\n",
      "0.05 6 40 0 1 1\n",
      "0.365807221468 0.218\n",
      "0.05 6 40 0 3 0.8\n",
      "0.367087793732 0.242\n",
      "0.05 6 40 0 3 1\n",
      "0.36535039282 0.244\n",
      "0.05 6 60 0 1 0.8\n",
      "0.371962605812 0.21\n",
      "0.05 6 60 0 1 1\n",
      "0.370585593492 0.206\n",
      "0.05 6 60 0 3 0.8\n",
      "0.369831196104 0.203\n",
      "0.05 6 60 0 3 1\n",
      "0.369168789905 0.214\n",
      "0.05 6 80 0 1 0.8\n",
      "0.371335373802 0.203\n",
      "0.05 6 80 0 1 1\n",
      "0.370402963751 0.196\n",
      "0.05 6 80 0 3 0.8\n",
      "0.371177542996 0.182\n",
      "0.05 6 80 0 3 1\n",
      "0.370917430836 0.204\n",
      "0.07 3 40 0 1 0.8\n",
      "0.36009266866 0.192\n",
      "0.07 3 40 0 1 1\n",
      "0.359120522816 0.19\n",
      "0.07 3 40 0 3 0.8\n",
      "0.36009266866 0.192\n",
      "0.07 3 40 0 3 1\n",
      "0.359120522816 0.19\n",
      "0.07 3 60 0 1 0.8\n",
      "0.36257871305 0.19\n",
      "0.07 3 60 0 1 1\n",
      "0.362759177827 0.191\n",
      "0.07 3 60 0 3 0.8\n",
      "0.362640834372 0.19\n",
      "0.07 3 60 0 3 1\n",
      "0.362891307765 0.189\n",
      "0.07 3 80 0 1 0.8\n",
      "0.364823867805 0.193\n",
      "0.07 3 80 0 1 1\n",
      "0.366216082496 0.188\n",
      "0.07 3 80 0 3 0.8\n",
      "0.364594854951 0.202\n",
      "0.07 3 80 0 3 1\n",
      "0.367121756801 0.188\n",
      "0.07 6 40 0 1 0.8\n",
      "0.368056347912 0.218\n",
      "0.07 6 40 0 1 1\n",
      "0.369649586677 0.221\n",
      "0.07 6 40 0 3 0.8\n",
      "0.367495833786 0.202\n",
      "0.07 6 40 0 3 1\n",
      "0.369961292288 0.206\n",
      "0.07 6 60 0 1 0.8\n",
      "0.374439365486 0.202\n",
      "0.07 6 60 0 1 1\n",
      "0.372301618995 0.213\n",
      "0.07 6 60 0 3 0.8\n",
      "0.367891466012 0.169\n",
      "0.07 6 60 0 3 1\n",
      "0.371598657635 0.194\n",
      "0.07 6 80 0 1 0.8\n",
      "0.373457710949 0.186\n",
      "0.07 6 80 0 1 1\n",
      "0.373110758055 0.189\n",
      "0.07 6 80 0 3 0.8\n",
      "0.36965396322 0.19\n",
      "0.07 6 80 0 3 1\n",
      "0.371050210357 0.195\n",
      "0.09 3 40 0 1 0.8\n",
      "0.359215401134 0.202\n",
      "0.09 3 40 0 1 1\n",
      "0.362384476498 0.193\n",
      "0.09 3 40 0 3 0.8\n",
      "0.359301697247 0.202\n",
      "0.09 3 40 0 3 1\n",
      "0.363108832866 0.193\n",
      "0.09 3 60 0 1 0.8\n",
      "0.363222497584 0.191\n",
      "0.09 3 60 0 1 1\n",
      "0.364721468341 0.187\n",
      "0.09 3 60 0 3 0.8\n",
      "0.364810784248 0.195\n",
      "0.09 3 60 0 3 1\n",
      "0.363360014325 0.184\n",
      "0.09 3 80 0 1 0.8\n",
      "0.365491085843 0.172\n",
      "0.09 3 80 0 1 1\n",
      "0.364786222346 0.21\n",
      "0.09 3 80 0 3 0.8\n",
      "0.365218414942 0.208\n",
      "0.09 3 80 0 3 1\n",
      "0.364282864542 0.206\n",
      "0.09 6 40 0 1 0.8\n",
      "0.369439183477 0.195\n",
      "0.09 6 40 0 1 1\n",
      "0.373327419277 0.19\n",
      "0.09 6 40 0 3 0.8\n",
      "0.367072336523 0.204\n",
      "0.09 6 40 0 3 1\n",
      "0.369293471459 0.214\n",
      "0.09 6 60 0 1 0.8\n",
      "0.373792005025 0.205\n",
      "0.09 6 60 0 1 1\n",
      "0.373271740794 0.194\n",
      "0.09 6 60 0 3 0.8\n",
      "0.368542902911 0.19\n",
      "0.09 6 60 0 3 1\n",
      "0.370972861949 0.2\n",
      "0.09 6 80 0 1 0.8\n",
      "0.372628438946 0.198\n",
      "0.09 6 80 0 1 1\n",
      "0.371707028148 0.185\n",
      "0.09 6 80 0 3 0.8\n",
      "0.369255659747 0.198\n",
      "0.09 6 80 0 3 1\n",
      "0.370151708198 0.206\n",
      "0.11 3 40 0 1 0.8\n",
      "0.364898649999 0.194\n",
      "0.11 3 40 0 1 1\n",
      "0.361931910937 0.2\n",
      "0.11 3 40 0 3 0.8\n",
      "0.364789330256 0.194\n",
      "0.11 3 40 0 3 1\n",
      "0.36394162435 0.184\n",
      "0.11 3 60 0 1 0.8\n",
      "0.366744740342 0.198\n",
      "0.11 3 60 0 1 1\n",
      "0.363274133433 0.206\n",
      "0.11 3 60 0 3 0.8\n",
      "0.366133259624 0.197\n",
      "0.11 3 60 0 3 1\n",
      "0.365054017653 0.206\n",
      "0.11 3 80 0 1 0.8\n",
      "0.369524437609 0.199\n",
      "0.11 3 80 0 1 1\n",
      "0.36332449688 0.149\n",
      "0.11 3 80 0 3 0.8\n",
      "0.367750395022 0.214\n",
      "0.11 3 80 0 3 1\n",
      "0.364594076468 0.215\n",
      "0.11 6 40 0 1 0.8\n",
      "0.369330310554 0.184\n",
      "0.11 6 40 0 1 1\n",
      "0.371974997019 0.196\n",
      "0.11 6 40 0 3 0.8\n",
      "0.369340515253 0.185\n",
      "0.11 6 40 0 3 1\n",
      "0.370505087457 0.199\n",
      "0.11 6 60 0 1 0.8\n",
      "0.372348085054 0.219\n",
      "0.11 6 60 0 1 1\n",
      "0.370203583039 0.189\n",
      "0.11 6 60 0 3 0.8\n",
      "0.370037381748 0.182\n",
      "0.11 6 60 0 3 1\n",
      "0.369880230956 0.202\n",
      "0.11 6 80 0 1 0.8\n",
      "0.369539418768 0.193\n",
      "0.11 6 80 0 1 1\n",
      "0.368150479648 0.193\n",
      "0.11 6 80 0 3 0.8\n",
      "0.370886675785 0.188\n",
      "0.11 6 80 0 3 1\n",
      "0.370881429882 0.194\n",
      "0.13 3 40 0 1 0.8\n",
      "0.365181419662 0.21\n",
      "0.13 3 40 0 1 1\n",
      "0.364154178581 0.187\n",
      "0.13 3 40 0 3 0.8\n",
      "0.364185656087 0.206\n",
      "0.13 3 40 0 3 1\n",
      "0.363979067126 0.195\n",
      "0.13 3 60 0 1 0.8\n",
      "0.364926193319 0.211\n",
      "0.13 3 60 0 1 1\n",
      "0.365281152152 0.186\n",
      "0.13 3 60 0 3 0.8\n",
      "0.366099538502 0.203\n",
      "0.13 3 60 0 3 1\n",
      "0.364446699265 0.185\n",
      "0.13 3 80 0 1 0.8\n",
      "0.36392042865 0.154\n",
      "0.13 3 80 0 1 1\n",
      "0.366500628512 0.171\n",
      "0.13 3 80 0 3 0.8\n",
      "0.365318374592 0.154\n",
      "0.13 3 80 0 3 1\n",
      "0.366220670983 0.179\n",
      "0.13 6 40 0 1 0.8\n",
      "0.371747222289 0.188\n",
      "0.13 6 40 0 1 1\n",
      "0.375444435188 0.197\n",
      "0.13 6 40 0 3 0.8\n",
      "0.36726276544 0.194\n",
      "0.13 6 40 0 3 1\n",
      "0.373068058469 0.199\n",
      "0.13 6 60 0 1 0.8\n",
      "0.368806067995 0.183\n",
      "0.13 6 60 0 1 1\n",
      "0.375800789948 0.194\n",
      "0.13 6 60 0 3 0.8\n",
      "0.366918835452 0.183\n",
      "0.13 6 60 0 3 1\n",
      "0.37075547659 0.198\n",
      "0.13 6 80 0 1 0.8\n",
      "0.366489339387 0.205\n",
      "0.13 6 80 0 1 1\n",
      "0.372768640388 0.189\n",
      "0.13 6 80 0 3 0.8\n",
      "0.368670433809 0.181\n",
      "0.13 6 80 0 3 1\n",
      "0.370424095985 0.195\n",
      "0.15 3 40 0 1 0.8\n",
      "0.36518856917 0.187\n",
      "0.15 3 40 0 1 1\n",
      "0.36503501177 0.178\n",
      "0.15 3 40 0 3 0.8\n",
      "0.363499848045 0.199\n",
      "0.15 3 40 0 3 1\n",
      "0.365657210747 0.183\n",
      "0.15 3 60 0 1 0.8\n",
      "0.367341674041 0.195\n",
      "0.15 3 60 0 1 1\n",
      "0.365740086879 0.179\n",
      "0.15 3 60 0 3 0.8\n",
      "0.365665155216 0.194\n",
      "0.15 3 60 0 3 1\n",
      "0.36455190723 0.213\n",
      "0.15 3 80 0 1 0.8\n",
      "0.368715732269 0.201\n",
      "0.15 3 80 0 1 1\n",
      "0.366811401934 0.188\n",
      "0.15 3 80 0 3 0.8\n",
      "0.366648079985 0.179\n",
      "0.15 3 80 0 3 1\n",
      "0.368174354654 0.187\n",
      "0.15 6 40 0 1 0.8\n",
      "0.369447451542 0.195\n",
      "0.15 6 40 0 1 1\n",
      "0.373266229196 0.205\n",
      "0.15 6 40 0 3 0.8\n",
      "0.370800557452 0.194\n",
      "0.15 6 40 0 3 1\n",
      "0.36987797138 0.191\n",
      "0.15 6 60 0 1 0.8\n",
      "0.365560532529 0.217\n",
      "0.15 6 60 0 1 1\n",
      "0.366245560077 0.218\n",
      "0.15 6 60 0 3 0.8\n",
      "0.367153591901 0.199\n",
      "0.15 6 60 0 3 1\n",
      "0.37218874613 0.209\n",
      "0.15 6 80 0 1 0.8\n",
      "0.364851258604 0.209\n",
      "0.15 6 80 0 1 1\n",
      "0.36845115813 0.163\n",
      "0.15 6 80 0 3 0.8\n",
      "0.360501503345 0.191\n",
      "0.15 6 80 0 3 1\n",
      "0.370188321442 0.199\n",
      "0.17 3 40 0 1 0.8\n",
      "0.363844203863 0.185\n",
      "0.17 3 40 0 1 1\n",
      "0.364074011504 0.192\n",
      "0.17 3 40 0 3 0.8\n",
      "0.363589199361 0.182\n",
      "0.17 3 40 0 3 1\n",
      "0.363923311748 0.171\n",
      "0.17 3 60 0 1 0.8\n",
      "0.363775668658 0.158\n",
      "0.17 3 60 0 1 1\n",
      "0.366922809475 0.195\n",
      "0.17 3 60 0 3 0.8\n",
      "0.364354052753 0.205\n",
      "0.17 3 60 0 3 1\n",
      "0.365706631782 0.18\n",
      "0.17 3 80 0 1 0.8\n",
      "0.365341557154 0.182\n",
      "0.17 3 80 0 1 1\n",
      "0.367677299853 0.201\n",
      "0.17 3 80 0 3 0.8\n",
      "0.367254329783 0.202\n",
      "0.17 3 80 0 3 1\n",
      "0.366482893296 0.196\n",
      "0.17 6 40 0 1 0.8\n",
      "0.364585267611 0.199\n",
      "0.17 6 40 0 1 1\n",
      "0.373909696393 0.177\n",
      "0.17 6 40 0 3 0.8\n",
      "0.366497694238 0.181\n",
      "0.17 6 40 0 3 1\n",
      "0.374322330526 0.226\n",
      "0.17 6 60 0 1 0.8\n",
      "0.357495260806 0.164\n",
      "0.17 6 60 0 1 1\n",
      "0.369919129393 0.183\n",
      "0.17 6 60 0 3 0.8\n",
      "0.366748997073 0.205\n",
      "0.17 6 60 0 3 1\n",
      "0.369190663364 0.206\n",
      "0.17 6 80 0 1 0.8\n",
      "0.35657281742 0.178\n",
      "0.17 6 80 0 1 1\n",
      "0.363462213584 0.205\n",
      "0.17 6 80 0 3 0.8\n",
      "0.361315750059 0.193\n",
      "0.17 6 80 0 3 1\n",
      "0.365068315688 0.158\n",
      "0.19 3 40 0 1 0.8\n",
      "0.364829451483 0.18\n",
      "0.19 3 40 0 1 1\n",
      "0.363385300189 0.212\n",
      "0.19 3 40 0 3 0.8\n",
      "0.363052894836 0.16\n",
      "0.19 3 40 0 3 1\n",
      "0.364252923001 0.192\n",
      "0.19 3 60 0 1 0.8\n",
      "0.364871226303 0.174\n",
      "0.19 3 60 0 1 1\n",
      "0.365052092219 0.209\n",
      "0.19 3 60 0 3 0.8\n",
      "0.364011696752 0.187\n",
      "0.19 3 60 0 3 1\n",
      "0.368043639327 0.183\n",
      "0.19 3 80 0 1 0.8\n",
      "0.363641822359 0.161\n",
      "0.19 3 80 0 1 1\n",
      "0.366713200357 0.193\n",
      "0.19 3 80 0 3 0.8\n",
      "0.368960462211 0.176\n",
      "0.19 3 80 0 3 1\n",
      "0.36497118319 0.184\n",
      "0.19 6 40 0 1 0.8\n",
      "0.367867273389 0.172\n",
      "0.19 6 40 0 1 1\n",
      "0.373273318784 0.179\n",
      "0.19 6 40 0 3 0.8\n",
      "0.366895038207 0.194\n",
      "0.19 6 40 0 3 1\n",
      "0.371289634804 0.198\n",
      "0.19 6 60 0 1 0.8\n",
      "0.362282514017 0.196\n",
      "0.19 6 60 0 1 1\n",
      "0.367483923762 0.209\n",
      "0.19 6 60 0 3 0.8\n",
      "0.359984999257 0.168\n",
      "0.19 6 60 0 3 1\n",
      "0.371491979449 0.19\n",
      "0.19 6 80 0 1 0.8\n",
      "0.35764695284 0.177\n",
      "0.19 6 80 0 1 1\n",
      "0.365312323628 0.212\n",
      "0.19 6 80 0 3 0.8\n",
      "0.354475294311 0.171\n",
      "0.19 6 80 0 3 1\n",
      "0.363940865622 0.166\n",
      "0.21 3 40 0 1 0.8\n",
      "0.363877347408 0.193\n",
      "0.21 3 40 0 1 1\n",
      "0.363904918861 0.19\n",
      "0.21 3 40 0 3 0.8\n",
      "0.363348825489 0.165\n",
      "0.21 3 40 0 3 1\n",
      "0.365281668007 0.223\n",
      "0.21 3 60 0 1 0.8\n",
      "0.365466066357 0.167\n",
      "0.21 3 60 0 1 1\n",
      "0.365658149094 0.179\n",
      "0.21 3 60 0 3 0.8\n",
      "0.366311515864 0.159\n",
      "0.21 3 60 0 3 1\n",
      "0.365275040277 0.197\n",
      "0.21 3 80 0 1 0.8\n",
      "0.364538742865 0.152\n",
      "0.21 3 80 0 1 1\n",
      "0.366913759848 0.202\n",
      "0.21 3 80 0 3 0.8\n",
      "0.365822637691 0.204\n",
      "0.21 3 80 0 3 1\n",
      "0.366567268752 0.192\n",
      "0.21 6 40 0 1 0.8\n",
      "0.366217496832 0.187\n",
      "0.21 6 40 0 1 1\n",
      "0.366820304458 0.197\n",
      "0.21 6 40 0 3 0.8\n",
      "0.370830038889 0.194\n",
      "0.21 6 40 0 3 1\n",
      "0.369127659983 0.211\n",
      "0.21 6 60 0 1 0.8\n",
      "0.361952402076 0.202\n",
      "0.21 6 60 0 1 1\n",
      "0.36649624614 0.187\n",
      "0.21 6 60 0 3 0.8\n",
      "0.366108550204 0.192\n",
      "0.21 6 60 0 3 1\n",
      "0.367815660228 0.203\n",
      "0.21 6 80 0 1 0.8\n",
      "0.355980299727 0.183\n",
      "0.21 6 80 0 1 1\n",
      "0.358959947044 0.147\n",
      "0.21 6 80 0 3 0.8\n",
      "0.356928587265 0.192\n",
      "0.21 6 80 0 3 1\n",
      "0.364608346358 0.206\n",
      "0.23 3 40 0 1 0.8\n",
      "0.364978268746 0.171\n",
      "0.23 3 40 0 1 1\n"
     ]
    },
    {
     "name": "stdout",
     "output_type": "stream",
     "text": [
      "0.364737732035 0.168\n",
      "0.23 3 40 0 3 0.8\n",
      "0.366879177846 0.173\n",
      "0.23 3 40 0 3 1\n",
      "0.364324348535 0.185\n",
      "0.23 3 60 0 1 0.8\n",
      "0.366509625041 0.18\n",
      "0.23 3 60 0 1 1\n",
      "0.365506443166 0.168\n",
      "0.23 3 60 0 3 0.8\n",
      "0.368573302822 0.186\n",
      "0.23 3 60 0 3 1\n",
      "0.366703523934 0.187\n",
      "0.23 3 80 0 1 0.8\n",
      "0.367432525454 0.199\n",
      "0.23 3 80 0 1 1\n",
      "0.364268960795 0.177\n",
      "0.23 3 80 0 3 0.8\n",
      "0.364665915556 0.192\n",
      "0.23 3 80 0 3 1\n",
      "0.365728033213 0.175\n",
      "0.23 6 40 0 1 0.8\n",
      "0.359563258781 0.17\n",
      "0.23 6 40 0 1 1\n",
      "0.365217686892 0.21\n",
      "0.23 6 40 0 3 0.8\n",
      "0.36261235466 0.167\n",
      "0.23 6 40 0 3 1\n",
      "0.364045132829 0.157\n",
      "0.23 6 60 0 1 0.8\n",
      "0.353435755579 0.188\n",
      "0.23 6 60 0 1 1\n",
      "0.35886035948 0.188\n",
      "0.23 6 60 0 3 0.8\n",
      "0.357892052261 0.161\n",
      "0.23 6 60 0 3 1\n",
      "0.36151869957 0.187\n",
      "0.23 6 80 0 1 0.8\n",
      "0.34688881357 0.173\n",
      "0.23 6 80 0 1 1\n",
      "0.358578621894 0.171\n",
      "0.23 6 80 0 3 0.8\n",
      "0.357056200416 0.177\n",
      "0.23 6 80 0 3 1\n",
      "0.357975733515 0.183\n"
     ]
    }
   ],
   "source": [
    "parameter_optimize_result = tune_para_xgb(masterdf, learning_rate_list=learning_rate_list, max_depth_list=max_depth_list, n_estimators_list=n_estimators_list, gamma_list=gamma_list, min_child_weight_list=min_child_weight_list, subsample_list = subsample_list, threshold_list=threshold_list)"
   ]
  },
  {
   "cell_type": "code",
   "execution_count": 218,
   "metadata": {},
   "outputs": [
    {
     "data": {
      "text/plain": [
       "(0.37580078994796473, [0.13, 6, 60, 0, 1, 1, 0.19400000000000009])"
      ]
     },
     "execution_count": 218,
     "metadata": {},
     "output_type": "execute_result"
    }
   ],
   "source": [
    "parameter_optimize_result[:2]"
   ]
  },
  {
   "cell_type": "code",
   "execution_count": null,
   "metadata": {
    "collapsed": true
   },
   "outputs": [],
   "source": []
  },
  {
   "cell_type": "code",
   "execution_count": null,
   "metadata": {
    "collapsed": true
   },
   "outputs": [],
   "source": [
    "#pickle.dump(parameter_optimize_result, open('parameter_optimize_result.p', 'wb'))"
   ]
  },
  {
   "cell_type": "markdown",
   "metadata": {},
   "source": [
    "## Prediction"
   ]
  },
  {
   "cell_type": "code",
   "execution_count": 33,
   "metadata": {
    "collapsed": true
   },
   "outputs": [],
   "source": [
    "parameter_optimize_result = pickle.load(open('output-1.p', 'rb'))"
   ]
  },
  {
   "cell_type": "code",
   "execution_count": 34,
   "metadata": {},
   "outputs": [
    {
     "data": {
      "text/html": [
       "<div>\n",
       "<style>\n",
       "    .dataframe thead tr:only-child th {\n",
       "        text-align: right;\n",
       "    }\n",
       "\n",
       "    .dataframe thead th {\n",
       "        text-align: left;\n",
       "    }\n",
       "\n",
       "    .dataframe tbody tr th {\n",
       "        vertical-align: top;\n",
       "    }\n",
       "</style>\n",
       "<table border=\"1\" class=\"dataframe\">\n",
       "  <thead>\n",
       "    <tr style=\"text-align: right;\">\n",
       "      <th></th>\n",
       "      <th>learning_rate</th>\n",
       "      <th>max_depth</th>\n",
       "      <th>n_estimators</th>\n",
       "      <th>gamma</th>\n",
       "      <th>min_child_weight</th>\n",
       "      <th>subsample</th>\n",
       "      <th>max_score</th>\n",
       "      <th>opt_threshold</th>\n",
       "    </tr>\n",
       "  </thead>\n",
       "  <tbody>\n",
       "    <tr>\n",
       "      <th>0</th>\n",
       "      <td>0.21</td>\n",
       "      <td>7</td>\n",
       "      <td>80</td>\n",
       "      <td>0</td>\n",
       "      <td>3</td>\n",
       "      <td>1.0</td>\n",
       "      <td>0.378324</td>\n",
       "      <td>0.201</td>\n",
       "    </tr>\n",
       "    <tr>\n",
       "      <th>0</th>\n",
       "      <td>0.21</td>\n",
       "      <td>7</td>\n",
       "      <td>80</td>\n",
       "      <td>0</td>\n",
       "      <td>1</td>\n",
       "      <td>1.0</td>\n",
       "      <td>0.378115</td>\n",
       "      <td>0.199</td>\n",
       "    </tr>\n",
       "    <tr>\n",
       "      <th>0</th>\n",
       "      <td>0.17</td>\n",
       "      <td>7</td>\n",
       "      <td>80</td>\n",
       "      <td>0</td>\n",
       "      <td>1</td>\n",
       "      <td>1.0</td>\n",
       "      <td>0.378100</td>\n",
       "      <td>0.198</td>\n",
       "    </tr>\n",
       "    <tr>\n",
       "      <th>0</th>\n",
       "      <td>0.17</td>\n",
       "      <td>7</td>\n",
       "      <td>80</td>\n",
       "      <td>0</td>\n",
       "      <td>1</td>\n",
       "      <td>0.8</td>\n",
       "      <td>0.378094</td>\n",
       "      <td>0.200</td>\n",
       "    </tr>\n",
       "    <tr>\n",
       "      <th>0</th>\n",
       "      <td>0.21</td>\n",
       "      <td>7</td>\n",
       "      <td>80</td>\n",
       "      <td>0</td>\n",
       "      <td>3</td>\n",
       "      <td>0.8</td>\n",
       "      <td>0.378085</td>\n",
       "      <td>0.199</td>\n",
       "    </tr>\n",
       "  </tbody>\n",
       "</table>\n",
       "</div>"
      ],
      "text/plain": [
       "   learning_rate  max_depth  n_estimators  gamma  min_child_weight  subsample  \\\n",
       "0           0.21          7            80      0                 3        1.0   \n",
       "0           0.21          7            80      0                 1        1.0   \n",
       "0           0.17          7            80      0                 1        1.0   \n",
       "0           0.17          7            80      0                 1        0.8   \n",
       "0           0.21          7            80      0                 3        0.8   \n",
       "\n",
       "   max_score  opt_threshold  \n",
       "0   0.378324          0.201  \n",
       "0   0.378115          0.199  \n",
       "0   0.378100          0.198  \n",
       "0   0.378094          0.200  \n",
       "0   0.378085          0.199  "
      ]
     },
     "execution_count": 34,
     "metadata": {},
     "output_type": "execute_result"
    }
   ],
   "source": [
    "parameter_optimize_result.head()"
   ]
  },
  {
   "cell_type": "code",
   "execution_count": 158,
   "metadata": {
    "collapsed": true
   },
   "outputs": [],
   "source": [
    "lr = 0.2\n",
    "md = 9\n",
    "n = 120\n",
    "g = 0.05\n",
    "w = 2\n",
    "s = 1\n",
    "threshold = 0.18"
   ]
  },
  {
   "cell_type": "code",
   "execution_count": 159,
   "metadata": {
    "collapsed": true
   },
   "outputs": [],
   "source": [
    "xgb_optimized_model = XGBClassifier(learning_rate=lr, max_depth=md, n_estimators=n, gamma=g, min_child_weight=w, subsample=s)"
   ]
  },
  {
   "cell_type": "code",
   "execution_count": 165,
   "metadata": {
    "collapsed": true
   },
   "outputs": [],
   "source": [
    "xgb_optimized_fit = xgb_optimized_model.fit(X,y)"
   ]
  },
  {
   "cell_type": "code",
   "execution_count": 167,
   "metadata": {
    "collapsed": true
   },
   "outputs": [],
   "source": [
    "#from sklearn.externals import joblib\n",
    "#joblib.dump(xgb_optimized_fit, 'Predict_funtion.p') "
   ]
  },
  {
   "cell_type": "code",
   "execution_count": 173,
   "metadata": {
    "collapsed": true
   },
   "outputs": [],
   "source": [
    "test_users = orders[orders.eval_set == 'test'].user_id"
   ]
  },
  {
   "cell_type": "code",
   "execution_count": 174,
   "metadata": {
    "collapsed": true
   },
   "outputs": [],
   "source": [
    "test_df = pd.merge(user_product_info[user_product_info.user_id.isin(test_users)], user_info, on = 'user_id', how = 'left')"
   ]
  },
  {
   "cell_type": "code",
   "execution_count": 175,
   "metadata": {
    "collapsed": true
   },
   "outputs": [],
   "source": [
    "test_df = pd.merge(test_df, product_info, on = 'product_id', how = 'left')"
   ]
  },
  {
   "cell_type": "code",
   "execution_count": 176,
   "metadata": {
    "collapsed": true
   },
   "outputs": [],
   "source": [
    "test_df = pd.merge(test_df, aisle_info, on = 'aisle_id', how = 'left', suffixes=('', '_y'))"
   ]
  },
  {
   "cell_type": "code",
   "execution_count": 177,
   "metadata": {
    "collapsed": true
   },
   "outputs": [],
   "source": [
    "test_df = pd.merge(test_df, department_info, on = 'department_id', how = 'left', suffixes=('', '_y'))"
   ]
  },
  {
   "cell_type": "code",
   "execution_count": 178,
   "metadata": {
    "collapsed": true
   },
   "outputs": [],
   "source": [
    "test_df = pd.merge(test_df, orders[orders.eval_set == 'test'], on='user_id', how = 'left')"
   ]
  },
  {
   "cell_type": "code",
   "execution_count": 179,
   "metadata": {
    "collapsed": true
   },
   "outputs": [],
   "source": [
    "test_df = pd.merge(test_df, order_product_train, on =['order_id', 'product_id'], how = 'left')"
   ]
  },
  {
   "cell_type": "code",
   "execution_count": 180,
   "metadata": {
    "collapsed": true
   },
   "outputs": [],
   "source": [
    "hour_bins = [-1,2,6,10,14,18,22,25]\n",
    "hour_gourp_names = ['22-2', '3-6', '7-10', '11-14', '15-18', '19-22', '22-2']\n",
    "test_df['order_hour_group'] = pd.cut(test_df.order_hour_of_day, bins = hour_bins, labels=hour_gourp_names)"
   ]
  },
  {
   "cell_type": "code",
   "execution_count": 181,
   "metadata": {
    "collapsed": true
   },
   "outputs": [],
   "source": [
    "test_df = pd.merge(test_df, ordertime_info, on = ['order_dow', 'order_hour_group'], how = 'left')"
   ]
  },
  {
   "cell_type": "code",
   "execution_count": 182,
   "metadata": {
    "collapsed": true
   },
   "outputs": [],
   "source": [
    "test_df = pd.merge(test_df, user_ordertime_info, on = ['user_id', 'order_dow', 'order_hour_group'], how = 'left')"
   ]
  },
  {
   "cell_type": "code",
   "execution_count": 183,
   "metadata": {
    "collapsed": true
   },
   "outputs": [],
   "source": [
    "test_df = pd.merge(test_df, product_ordertime_info, on = ['product_id', 'order_dow', 'order_hour_group'], how = 'left')"
   ]
  },
  {
   "cell_type": "code",
   "execution_count": 184,
   "metadata": {
    "collapsed": true
   },
   "outputs": [],
   "source": [
    "test_df['user_ordertime_order_num'].fillna(0, inplace = True)\n",
    "test_df['product_ordertime_order_num'].fillna(0, inplace = True)"
   ]
  },
  {
   "cell_type": "code",
   "execution_count": 185,
   "metadata": {
    "collapsed": true
   },
   "outputs": [],
   "source": [
    "test_df = pd.concat([test_df, pd.get_dummies(test_df['order_hour_group'])], axis = 1)"
   ]
  },
  {
   "cell_type": "code",
   "execution_count": 186,
   "metadata": {
    "collapsed": true
   },
   "outputs": [],
   "source": [
    "test_df = pd.concat([test_df, pd.get_dummies(test_df['order_dow'], prefix='order_dow')], axis = 1)"
   ]
  },
  {
   "cell_type": "code",
   "execution_count": 187,
   "metadata": {
    "collapsed": true
   },
   "outputs": [],
   "source": [
    "info_columns_test = ['user_id', 'product_id', 'product_name', 'aisle_id', 'department_id', 'aisle', 'department', 'order_id', 'eval_set', 'add_to_cart_order', 'order_hour_group', 'order_dow', 'order_hour_of_day', 'reordered']"
   ]
  },
  {
   "cell_type": "code",
   "execution_count": 188,
   "metadata": {
    "collapsed": true
   },
   "outputs": [],
   "source": [
    "X_test = test_df.drop(info_columns_test, axis = 1)"
   ]
  },
  {
   "cell_type": "code",
   "execution_count": 189,
   "metadata": {},
   "outputs": [
    {
     "data": {
      "text/plain": [
       "(4833292, 68)"
      ]
     },
     "execution_count": 189,
     "metadata": {},
     "output_type": "execute_result"
    }
   ],
   "source": [
    "X_test.shape"
   ]
  },
  {
   "cell_type": "code",
   "execution_count": 190,
   "metadata": {
    "collapsed": true
   },
   "outputs": [],
   "source": [
    "test_df['True'] = xgb_optimized_fit.predict_proba(X_test)[:,1:]"
   ]
  },
  {
   "cell_type": "code",
   "execution_count": 231,
   "metadata": {
    "collapsed": true
   },
   "outputs": [],
   "source": [
    "bins = [0, 0.175, 1]\n",
    "group_names = [0, 1]"
   ]
  },
  {
   "cell_type": "code",
   "execution_count": 232,
   "metadata": {
    "collapsed": true
   },
   "outputs": [],
   "source": [
    "test_df['XGB_pred_y'] = pd.cut(test_df['True'], bins, labels=group_names)"
   ]
  },
  {
   "cell_type": "code",
   "execution_count": 233,
   "metadata": {},
   "outputs": [
    {
     "data": {
      "text/plain": [
       "75000"
      ]
     },
     "execution_count": 233,
     "metadata": {},
     "output_type": "execute_result"
    }
   ],
   "source": [
    "test_df.order_id.nunique()"
   ]
  },
  {
   "cell_type": "code",
   "execution_count": 234,
   "metadata": {},
   "outputs": [
    {
     "data": {
      "text/html": [
       "<div>\n",
       "<style>\n",
       "    .dataframe thead tr:only-child th {\n",
       "        text-align: right;\n",
       "    }\n",
       "\n",
       "    .dataframe thead th {\n",
       "        text-align: left;\n",
       "    }\n",
       "\n",
       "    .dataframe tbody tr th {\n",
       "        vertical-align: top;\n",
       "    }\n",
       "</style>\n",
       "<table border=\"1\" class=\"dataframe\">\n",
       "  <thead>\n",
       "    <tr style=\"text-align: right;\">\n",
       "      <th></th>\n",
       "      <th>user_id</th>\n",
       "      <th>product_id</th>\n",
       "      <th>user_product_order_num</th>\n",
       "      <th>user_product_last_purchase_day</th>\n",
       "      <th>user_product_order_interval_mean</th>\n",
       "      <th>user_product_order_interval_std</th>\n",
       "      <th>user_product_rank</th>\n",
       "      <th>user_product_add_order_mean</th>\n",
       "      <th>user_product_add_order_std</th>\n",
       "      <th>user_product_reorder_ratio</th>\n",
       "      <th>...</th>\n",
       "      <th>7-10</th>\n",
       "      <th>order_dow_0</th>\n",
       "      <th>order_dow_1</th>\n",
       "      <th>order_dow_2</th>\n",
       "      <th>order_dow_3</th>\n",
       "      <th>order_dow_4</th>\n",
       "      <th>order_dow_5</th>\n",
       "      <th>order_dow_6</th>\n",
       "      <th>True</th>\n",
       "      <th>XGB_pred_y</th>\n",
       "    </tr>\n",
       "  </thead>\n",
       "  <tbody>\n",
       "    <tr>\n",
       "      <th>0</th>\n",
       "      <td>3</td>\n",
       "      <td>248</td>\n",
       "      <td>1</td>\n",
       "      <td>9</td>\n",
       "      <td>42.677544</td>\n",
       "      <td>25.335363</td>\n",
       "      <td>26.5</td>\n",
       "      <td>3.000000</td>\n",
       "      <td>4.219923</td>\n",
       "      <td>0.083333</td>\n",
       "      <td>...</td>\n",
       "      <td>0</td>\n",
       "      <td>0</td>\n",
       "      <td>0</td>\n",
       "      <td>0</td>\n",
       "      <td>0</td>\n",
       "      <td>0</td>\n",
       "      <td>1</td>\n",
       "      <td>0</td>\n",
       "      <td>0.020282</td>\n",
       "      <td>0</td>\n",
       "    </tr>\n",
       "    <tr>\n",
       "      <th>1</th>\n",
       "      <td>3</td>\n",
       "      <td>1005</td>\n",
       "      <td>1</td>\n",
       "      <td>107</td>\n",
       "      <td>42.677544</td>\n",
       "      <td>25.335363</td>\n",
       "      <td>26.5</td>\n",
       "      <td>5.000000</td>\n",
       "      <td>4.219923</td>\n",
       "      <td>0.083333</td>\n",
       "      <td>...</td>\n",
       "      <td>0</td>\n",
       "      <td>0</td>\n",
       "      <td>0</td>\n",
       "      <td>0</td>\n",
       "      <td>0</td>\n",
       "      <td>0</td>\n",
       "      <td>1</td>\n",
       "      <td>0</td>\n",
       "      <td>0.052820</td>\n",
       "      <td>0</td>\n",
       "    </tr>\n",
       "    <tr>\n",
       "      <th>2</th>\n",
       "      <td>3</td>\n",
       "      <td>1819</td>\n",
       "      <td>3</td>\n",
       "      <td>76</td>\n",
       "      <td>13.000000</td>\n",
       "      <td>8.485281</td>\n",
       "      <td>10.0</td>\n",
       "      <td>2.666667</td>\n",
       "      <td>2.081666</td>\n",
       "      <td>0.250000</td>\n",
       "      <td>...</td>\n",
       "      <td>0</td>\n",
       "      <td>0</td>\n",
       "      <td>0</td>\n",
       "      <td>0</td>\n",
       "      <td>0</td>\n",
       "      <td>0</td>\n",
       "      <td>1</td>\n",
       "      <td>0</td>\n",
       "      <td>0.123602</td>\n",
       "      <td>0</td>\n",
       "    </tr>\n",
       "    <tr>\n",
       "      <th>3</th>\n",
       "      <td>3</td>\n",
       "      <td>7503</td>\n",
       "      <td>1</td>\n",
       "      <td>30</td>\n",
       "      <td>42.677544</td>\n",
       "      <td>25.335363</td>\n",
       "      <td>26.5</td>\n",
       "      <td>6.000000</td>\n",
       "      <td>4.219923</td>\n",
       "      <td>0.083333</td>\n",
       "      <td>...</td>\n",
       "      <td>0</td>\n",
       "      <td>0</td>\n",
       "      <td>0</td>\n",
       "      <td>0</td>\n",
       "      <td>0</td>\n",
       "      <td>0</td>\n",
       "      <td>1</td>\n",
       "      <td>0</td>\n",
       "      <td>0.027987</td>\n",
       "      <td>0</td>\n",
       "    </tr>\n",
       "    <tr>\n",
       "      <th>4</th>\n",
       "      <td>3</td>\n",
       "      <td>8021</td>\n",
       "      <td>1</td>\n",
       "      <td>9</td>\n",
       "      <td>42.677544</td>\n",
       "      <td>25.335363</td>\n",
       "      <td>26.5</td>\n",
       "      <td>5.000000</td>\n",
       "      <td>4.219923</td>\n",
       "      <td>0.083333</td>\n",
       "      <td>...</td>\n",
       "      <td>0</td>\n",
       "      <td>0</td>\n",
       "      <td>0</td>\n",
       "      <td>0</td>\n",
       "      <td>0</td>\n",
       "      <td>0</td>\n",
       "      <td>1</td>\n",
       "      <td>0</td>\n",
       "      <td>0.031616</td>\n",
       "      <td>0</td>\n",
       "    </tr>\n",
       "  </tbody>\n",
       "</table>\n",
       "<p>5 rows × 84 columns</p>\n",
       "</div>"
      ],
      "text/plain": [
       "   user_id  product_id  user_product_order_num  \\\n",
       "0        3         248                       1   \n",
       "1        3        1005                       1   \n",
       "2        3        1819                       3   \n",
       "3        3        7503                       1   \n",
       "4        3        8021                       1   \n",
       "\n",
       "   user_product_last_purchase_day  user_product_order_interval_mean  \\\n",
       "0                               9                         42.677544   \n",
       "1                             107                         42.677544   \n",
       "2                              76                         13.000000   \n",
       "3                              30                         42.677544   \n",
       "4                               9                         42.677544   \n",
       "\n",
       "   user_product_order_interval_std  user_product_rank  \\\n",
       "0                        25.335363               26.5   \n",
       "1                        25.335363               26.5   \n",
       "2                         8.485281               10.0   \n",
       "3                        25.335363               26.5   \n",
       "4                        25.335363               26.5   \n",
       "\n",
       "   user_product_add_order_mean  user_product_add_order_std  \\\n",
       "0                     3.000000                    4.219923   \n",
       "1                     5.000000                    4.219923   \n",
       "2                     2.666667                    2.081666   \n",
       "3                     6.000000                    4.219923   \n",
       "4                     5.000000                    4.219923   \n",
       "\n",
       "   user_product_reorder_ratio     ...      7-10  order_dow_0  order_dow_1  \\\n",
       "0                    0.083333     ...         0            0            0   \n",
       "1                    0.083333     ...         0            0            0   \n",
       "2                    0.250000     ...         0            0            0   \n",
       "3                    0.083333     ...         0            0            0   \n",
       "4                    0.083333     ...         0            0            0   \n",
       "\n",
       "   order_dow_2  order_dow_3  order_dow_4  order_dow_5  order_dow_6      True  \\\n",
       "0            0            0            0            1            0  0.020282   \n",
       "1            0            0            0            1            0  0.052820   \n",
       "2            0            0            0            1            0  0.123602   \n",
       "3            0            0            0            1            0  0.027987   \n",
       "4            0            0            0            1            0  0.031616   \n",
       "\n",
       "   XGB_pred_y  \n",
       "0           0  \n",
       "1           0  \n",
       "2           0  \n",
       "3           0  \n",
       "4           0  \n",
       "\n",
       "[5 rows x 84 columns]"
      ]
     },
     "execution_count": 234,
     "metadata": {},
     "output_type": "execute_result"
    }
   ],
   "source": [
    "test_df.head()"
   ]
  },
  {
   "cell_type": "code",
   "execution_count": 235,
   "metadata": {
    "collapsed": true
   },
   "outputs": [],
   "source": [
    "result = test_df[test_df.XGB_pred_y == 1][['order_id', 'product_id']].reset_index(drop = True)"
   ]
  },
  {
   "cell_type": "code",
   "execution_count": 236,
   "metadata": {
    "collapsed": true
   },
   "outputs": [],
   "source": [
    "submission = pd.DataFrame(result.groupby('order_id').aggregate(lambda x: tuple(x)), columns = ['product_id']).reset_index()"
   ]
  },
  {
   "cell_type": "code",
   "execution_count": 237,
   "metadata": {
    "collapsed": true
   },
   "outputs": [],
   "source": [
    "submission['products'] = submission.product_id.apply(lambda x: ' '.join([str(a) for a in x]))"
   ]
  },
  {
   "cell_type": "code",
   "execution_count": 238,
   "metadata": {
    "collapsed": true
   },
   "outputs": [],
   "source": [
    "submission.drop('product_id', axis = 1, inplace=True)"
   ]
  },
  {
   "cell_type": "code",
   "execution_count": 239,
   "metadata": {},
   "outputs": [
    {
     "data": {
      "text/html": [
       "<div>\n",
       "<style>\n",
       "    .dataframe thead tr:only-child th {\n",
       "        text-align: right;\n",
       "    }\n",
       "\n",
       "    .dataframe thead th {\n",
       "        text-align: left;\n",
       "    }\n",
       "\n",
       "    .dataframe tbody tr th {\n",
       "        vertical-align: top;\n",
       "    }\n",
       "</style>\n",
       "<table border=\"1\" class=\"dataframe\">\n",
       "  <thead>\n",
       "    <tr style=\"text-align: right;\">\n",
       "      <th></th>\n",
       "      <th>order_id</th>\n",
       "      <th>products</th>\n",
       "    </tr>\n",
       "  </thead>\n",
       "  <tbody>\n",
       "    <tr>\n",
       "      <th>0</th>\n",
       "      <td>17</td>\n",
       "      <td>13107 21463 21709 38777 47766</td>\n",
       "    </tr>\n",
       "    <tr>\n",
       "      <th>1</th>\n",
       "      <td>34</td>\n",
       "      <td>2596 13176 16083 18618 21137 39180 39475 43504...</td>\n",
       "    </tr>\n",
       "    <tr>\n",
       "      <th>2</th>\n",
       "      <td>137</td>\n",
       "      <td>2326 5134 23794 24852 25890 38689 41787</td>\n",
       "    </tr>\n",
       "    <tr>\n",
       "      <th>3</th>\n",
       "      <td>182</td>\n",
       "      <td>5479 9337 11520 12456 13629 15252 15576 16973 ...</td>\n",
       "    </tr>\n",
       "    <tr>\n",
       "      <th>4</th>\n",
       "      <td>257</td>\n",
       "      <td>4605 11140 13870 21137 22035 24852 27104 27966...</td>\n",
       "    </tr>\n",
       "  </tbody>\n",
       "</table>\n",
       "</div>"
      ],
      "text/plain": [
       "   order_id                                           products\n",
       "0        17                      13107 21463 21709 38777 47766\n",
       "1        34  2596 13176 16083 18618 21137 39180 39475 43504...\n",
       "2       137            2326 5134 23794 24852 25890 38689 41787\n",
       "3       182  5479 9337 11520 12456 13629 15252 15576 16973 ...\n",
       "4       257  4605 11140 13870 21137 22035 24852 27104 27966..."
      ]
     },
     "execution_count": 239,
     "metadata": {},
     "output_type": "execute_result"
    }
   ],
   "source": [
    "submission.head()"
   ]
  },
  {
   "cell_type": "code",
   "execution_count": 240,
   "metadata": {
    "collapsed": true
   },
   "outputs": [],
   "source": [
    "new_submission = pd.merge(orders[orders.eval_set == 'test'], submission, on = 'order_id', how = 'left')"
   ]
  },
  {
   "cell_type": "code",
   "execution_count": 241,
   "metadata": {
    "collapsed": true
   },
   "outputs": [],
   "source": [
    "new_submission = new_submission[['order_id', 'products']]"
   ]
  },
  {
   "cell_type": "code",
   "execution_count": 242,
   "metadata": {
    "collapsed": true
   },
   "outputs": [],
   "source": [
    "new_submission = new_submission.sort_values('order_id').reset_index(drop =True)"
   ]
  },
  {
   "cell_type": "code",
   "execution_count": 243,
   "metadata": {
    "collapsed": true
   },
   "outputs": [],
   "source": [
    "new_submission.to_csv('submission_0814_4.csv', index=False)"
   ]
  },
  {
   "cell_type": "code",
   "execution_count": 204,
   "metadata": {},
   "outputs": [
    {
     "data": {
      "text/plain": [
       "(75000, 2)"
      ]
     },
     "execution_count": 204,
     "metadata": {},
     "output_type": "execute_result"
    }
   ],
   "source": [
    "new_submission.shape"
   ]
  },
  {
   "cell_type": "code",
   "execution_count": null,
   "metadata": {
    "collapsed": true
   },
   "outputs": [],
   "source": []
  }
 ],
 "metadata": {
  "kernelspec": {
   "display_name": "Python 3",
   "language": "python",
   "name": "python3"
  },
  "language_info": {
   "codemirror_mode": {
    "name": "ipython",
    "version": 3
   },
   "file_extension": ".py",
   "mimetype": "text/x-python",
   "name": "python",
   "nbconvert_exporter": "python",
   "pygments_lexer": "ipython3",
   "version": "3.6.1"
  }
 },
 "nbformat": 4,
 "nbformat_minor": 2
}
