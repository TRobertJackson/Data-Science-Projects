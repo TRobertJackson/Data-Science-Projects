{
 "cells": [
  {
   "cell_type": "code",
   "execution_count": 2,
   "metadata": {
    "collapsed": true
   },
   "outputs": [],
   "source": [
    "import numpy as np\n",
    "import pandas as pd\n",
    "import matplotlib.pyplot as plt\n",
    "import pickle\n",
    "\n",
    "%matplotlib inline "
   ]
  },
  {
   "cell_type": "code",
   "execution_count": 3,
   "metadata": {
    "collapsed": true
   },
   "outputs": [],
   "source": [
    "pd.set_option('display.max_rows', 100)"
   ]
  },
  {
   "cell_type": "markdown",
   "metadata": {},
   "source": [
    "## Load Data"
   ]
  },
  {
   "cell_type": "code",
   "execution_count": 4,
   "metadata": {
    "collapsed": true
   },
   "outputs": [],
   "source": [
    "aisles = pd.read_csv('data/aisles.csv', dtype = {\n",
    "    'aisle_id': np.uint16,\n",
    "    'aisle': np.str},\n",
    "    usecols=['aisle_id', 'aisle'])"
   ]
  },
  {
   "cell_type": "code",
   "execution_count": 5,
   "metadata": {
    "collapsed": true
   },
   "outputs": [],
   "source": [
    "departments = pd.read_csv('data/departments.csv', dtype = {\n",
    "    'department_id': np.uint16,\n",
    "    'department': np.str},\n",
    "    usecols=['department_id', 'department'])"
   ]
  },
  {
   "cell_type": "code",
   "execution_count": 6,
   "metadata": {
    "collapsed": true
   },
   "outputs": [],
   "source": [
    "order_products_prior = pd.read_csv('data/order_products__prior.csv', dtype = {\n",
    "    'order_id': np.uint32,\n",
    "    'product_id': np.uint32,\n",
    "    'add_to_cart_order': np.uint16,\n",
    "    'reordered': np.uint16},\n",
    "    usecols=['order_id', 'product_id', 'add_to_cart_order', 'reordered'])"
   ]
  },
  {
   "cell_type": "code",
   "execution_count": 7,
   "metadata": {
    "collapsed": true
   },
   "outputs": [],
   "source": [
    "order_product_train = pd.read_csv('data/order_products__train.csv', dtype = {\n",
    "    'order_id': np.uint32,\n",
    "    'product_id': np.uint32,\n",
    "    'add_to_cart_order': np.uint16,\n",
    "    'reordered': np.uint16},\n",
    "    usecols=['order_id', 'product_id', 'add_to_cart_order', 'reordered'])"
   ]
  },
  {
   "cell_type": "code",
   "execution_count": 8,
   "metadata": {
    "collapsed": true
   },
   "outputs": [],
   "source": [
    "orders = pd.read_csv('data/orders.csv', dtype = {\n",
    "    'order_id': np.uint32,\n",
    "    'user_id' :np.uint32,\n",
    "    'eval_set': 'category',\n",
    "    'order_number': np.uint16,\n",
    "    'order_dow': np.uint16,\n",
    "    'order_hour_of_day': np.uint8,\n",
    "    'days_since_prior_order': np.float32},\n",
    "                     usecols=['order_id', 'user_id', 'eval_set', 'order_number', 'order_dow', 'order_hour_of_day', 'days_since_prior_order'])"
   ]
  },
  {
   "cell_type": "code",
   "execution_count": 9,
   "metadata": {
    "collapsed": true
   },
   "outputs": [],
   "source": [
    "products = pd.read_csv('data/products.csv', dtype = {'product_id': np.uint16,\n",
    "        'product_name': np.str,\n",
    "        'aisle_id': np.uint16,\n",
    "        'department_id': np.uint16},\n",
    "        usecols=['product_id', 'product_name', 'aisle_id', 'department_id'])"
   ]
  },
  {
   "cell_type": "raw",
   "metadata": {},
   "source": [
    "priordf = pickle.load(open('data/pickle_files/priordf.p', 'rb'))\n",
    "user_info = pickle.load(open('data/pickle_files/user_info.p', 'rb'))\n",
    "product_info = pickle.load(open('data/pickle_files/product_info.p', 'rb'))\n",
    "user_product_info = pickle.load(open('data/pickle_files/user_product_info.p', 'rb'))\n",
    "ordertime_info = pickle.load(open('data/pickle_files/ordertime_info.p', 'rb'))\n",
    "user_ordertime_info = pickle.load(open('data/pickle_files/user_ordertime_info.p', 'rb'))\n",
    "product_ordertime_info = pickle.load(open('data/pickle_files/product_ordertime_info.p', 'rb'))\n",
    "aisle_info = pickle.load(open('data/pickle_files/aisle_info.p', 'rb'))\n",
    "department_info = pickle.load(open('data/pickle_files/department_info.p', 'rb'))"
   ]
  },
  {
   "cell_type": "markdown",
   "metadata": {},
   "source": [
    "##  Genarating Features"
   ]
  },
  {
   "cell_type": "code",
   "execution_count": 9,
   "metadata": {
    "collapsed": true
   },
   "outputs": [],
   "source": [
    "orders['days_since_first_order'] = orders.groupby('user_id')['days_since_prior_order'].cumsum()"
   ]
  },
  {
   "cell_type": "code",
   "execution_count": 10,
   "metadata": {},
   "outputs": [
    {
     "data": {
      "text/html": [
       "<div>\n",
       "<style>\n",
       "    .dataframe thead tr:only-child th {\n",
       "        text-align: right;\n",
       "    }\n",
       "\n",
       "    .dataframe thead th {\n",
       "        text-align: left;\n",
       "    }\n",
       "\n",
       "    .dataframe tbody tr th {\n",
       "        vertical-align: top;\n",
       "    }\n",
       "</style>\n",
       "<table border=\"1\" class=\"dataframe\">\n",
       "  <thead>\n",
       "    <tr style=\"text-align: right;\">\n",
       "      <th></th>\n",
       "      <th>order_id</th>\n",
       "      <th>user_id</th>\n",
       "      <th>eval_set</th>\n",
       "      <th>order_number</th>\n",
       "      <th>order_dow</th>\n",
       "      <th>order_hour_of_day</th>\n",
       "      <th>days_since_prior_order</th>\n",
       "      <th>days_since_first_order</th>\n",
       "    </tr>\n",
       "  </thead>\n",
       "  <tbody>\n",
       "    <tr>\n",
       "      <th>0</th>\n",
       "      <td>2539329</td>\n",
       "      <td>1</td>\n",
       "      <td>prior</td>\n",
       "      <td>1</td>\n",
       "      <td>2</td>\n",
       "      <td>8</td>\n",
       "      <td>NaN</td>\n",
       "      <td>NaN</td>\n",
       "    </tr>\n",
       "    <tr>\n",
       "      <th>1</th>\n",
       "      <td>2398795</td>\n",
       "      <td>1</td>\n",
       "      <td>prior</td>\n",
       "      <td>2</td>\n",
       "      <td>3</td>\n",
       "      <td>7</td>\n",
       "      <td>15.0</td>\n",
       "      <td>15.0</td>\n",
       "    </tr>\n",
       "    <tr>\n",
       "      <th>2</th>\n",
       "      <td>473747</td>\n",
       "      <td>1</td>\n",
       "      <td>prior</td>\n",
       "      <td>3</td>\n",
       "      <td>3</td>\n",
       "      <td>12</td>\n",
       "      <td>21.0</td>\n",
       "      <td>36.0</td>\n",
       "    </tr>\n",
       "    <tr>\n",
       "      <th>3</th>\n",
       "      <td>2254736</td>\n",
       "      <td>1</td>\n",
       "      <td>prior</td>\n",
       "      <td>4</td>\n",
       "      <td>4</td>\n",
       "      <td>7</td>\n",
       "      <td>29.0</td>\n",
       "      <td>65.0</td>\n",
       "    </tr>\n",
       "    <tr>\n",
       "      <th>4</th>\n",
       "      <td>431534</td>\n",
       "      <td>1</td>\n",
       "      <td>prior</td>\n",
       "      <td>5</td>\n",
       "      <td>4</td>\n",
       "      <td>15</td>\n",
       "      <td>28.0</td>\n",
       "      <td>93.0</td>\n",
       "    </tr>\n",
       "  </tbody>\n",
       "</table>\n",
       "</div>"
      ],
      "text/plain": [
       "   order_id  user_id eval_set  order_number  order_dow  order_hour_of_day  \\\n",
       "0   2539329        1    prior             1          2                  8   \n",
       "1   2398795        1    prior             2          3                  7   \n",
       "2    473747        1    prior             3          3                 12   \n",
       "3   2254736        1    prior             4          4                  7   \n",
       "4    431534        1    prior             5          4                 15   \n",
       "\n",
       "   days_since_prior_order  days_since_first_order  \n",
       "0                     NaN                     NaN  \n",
       "1                    15.0                    15.0  \n",
       "2                    21.0                    36.0  \n",
       "3                    29.0                    65.0  \n",
       "4                    28.0                    93.0  "
      ]
     },
     "execution_count": 10,
     "metadata": {},
     "output_type": "execute_result"
    }
   ],
   "source": [
    "orders.head()"
   ]
  },
  {
   "cell_type": "code",
   "execution_count": 11,
   "metadata": {
    "collapsed": true
   },
   "outputs": [],
   "source": [
    "orders.days_since_first_order.fillna(0, inplace = True)"
   ]
  },
  {
   "cell_type": "code",
   "execution_count": 12,
   "metadata": {},
   "outputs": [
    {
     "data": {
      "text/plain": [
       "(32434489, 4)"
      ]
     },
     "execution_count": 12,
     "metadata": {},
     "output_type": "execute_result"
    }
   ],
   "source": [
    "order_products_prior.shape"
   ]
  },
  {
   "cell_type": "code",
   "execution_count": 13,
   "metadata": {
    "collapsed": true
   },
   "outputs": [],
   "source": [
    "priordf = pd.merge(order_products_prior, orders, on = 'order_id', how = 'left')"
   ]
  },
  {
   "cell_type": "code",
   "execution_count": 14,
   "metadata": {},
   "outputs": [
    {
     "data": {
      "text/plain": [
       "(32434489, 11)"
      ]
     },
     "execution_count": 14,
     "metadata": {},
     "output_type": "execute_result"
    }
   ],
   "source": [
    "priordf.shape"
   ]
  },
  {
   "cell_type": "code",
   "execution_count": 15,
   "metadata": {},
   "outputs": [
    {
     "data": {
      "text/html": [
       "<div>\n",
       "<style>\n",
       "    .dataframe thead tr:only-child th {\n",
       "        text-align: right;\n",
       "    }\n",
       "\n",
       "    .dataframe thead th {\n",
       "        text-align: left;\n",
       "    }\n",
       "\n",
       "    .dataframe tbody tr th {\n",
       "        vertical-align: top;\n",
       "    }\n",
       "</style>\n",
       "<table border=\"1\" class=\"dataframe\">\n",
       "  <thead>\n",
       "    <tr style=\"text-align: right;\">\n",
       "      <th></th>\n",
       "      <th>order_id</th>\n",
       "      <th>product_id</th>\n",
       "      <th>add_to_cart_order</th>\n",
       "      <th>reordered</th>\n",
       "      <th>user_id</th>\n",
       "      <th>eval_set</th>\n",
       "      <th>order_number</th>\n",
       "      <th>order_dow</th>\n",
       "      <th>order_hour_of_day</th>\n",
       "      <th>days_since_prior_order</th>\n",
       "      <th>days_since_first_order</th>\n",
       "    </tr>\n",
       "  </thead>\n",
       "  <tbody>\n",
       "    <tr>\n",
       "      <th>0</th>\n",
       "      <td>2</td>\n",
       "      <td>33120</td>\n",
       "      <td>1</td>\n",
       "      <td>1</td>\n",
       "      <td>202279</td>\n",
       "      <td>prior</td>\n",
       "      <td>3</td>\n",
       "      <td>5</td>\n",
       "      <td>9</td>\n",
       "      <td>8.0</td>\n",
       "      <td>28.0</td>\n",
       "    </tr>\n",
       "    <tr>\n",
       "      <th>1</th>\n",
       "      <td>2</td>\n",
       "      <td>28985</td>\n",
       "      <td>2</td>\n",
       "      <td>1</td>\n",
       "      <td>202279</td>\n",
       "      <td>prior</td>\n",
       "      <td>3</td>\n",
       "      <td>5</td>\n",
       "      <td>9</td>\n",
       "      <td>8.0</td>\n",
       "      <td>28.0</td>\n",
       "    </tr>\n",
       "    <tr>\n",
       "      <th>2</th>\n",
       "      <td>2</td>\n",
       "      <td>9327</td>\n",
       "      <td>3</td>\n",
       "      <td>0</td>\n",
       "      <td>202279</td>\n",
       "      <td>prior</td>\n",
       "      <td>3</td>\n",
       "      <td>5</td>\n",
       "      <td>9</td>\n",
       "      <td>8.0</td>\n",
       "      <td>28.0</td>\n",
       "    </tr>\n",
       "    <tr>\n",
       "      <th>3</th>\n",
       "      <td>2</td>\n",
       "      <td>45918</td>\n",
       "      <td>4</td>\n",
       "      <td>1</td>\n",
       "      <td>202279</td>\n",
       "      <td>prior</td>\n",
       "      <td>3</td>\n",
       "      <td>5</td>\n",
       "      <td>9</td>\n",
       "      <td>8.0</td>\n",
       "      <td>28.0</td>\n",
       "    </tr>\n",
       "    <tr>\n",
       "      <th>4</th>\n",
       "      <td>2</td>\n",
       "      <td>30035</td>\n",
       "      <td>5</td>\n",
       "      <td>0</td>\n",
       "      <td>202279</td>\n",
       "      <td>prior</td>\n",
       "      <td>3</td>\n",
       "      <td>5</td>\n",
       "      <td>9</td>\n",
       "      <td>8.0</td>\n",
       "      <td>28.0</td>\n",
       "    </tr>\n",
       "  </tbody>\n",
       "</table>\n",
       "</div>"
      ],
      "text/plain": [
       "   order_id  product_id  add_to_cart_order  reordered  user_id eval_set  \\\n",
       "0         2       33120                  1          1   202279    prior   \n",
       "1         2       28985                  2          1   202279    prior   \n",
       "2         2        9327                  3          0   202279    prior   \n",
       "3         2       45918                  4          1   202279    prior   \n",
       "4         2       30035                  5          0   202279    prior   \n",
       "\n",
       "   order_number  order_dow  order_hour_of_day  days_since_prior_order  \\\n",
       "0             3          5                  9                     8.0   \n",
       "1             3          5                  9                     8.0   \n",
       "2             3          5                  9                     8.0   \n",
       "3             3          5                  9                     8.0   \n",
       "4             3          5                  9                     8.0   \n",
       "\n",
       "   days_since_first_order  \n",
       "0                    28.0  \n",
       "1                    28.0  \n",
       "2                    28.0  \n",
       "3                    28.0  \n",
       "4                    28.0  "
      ]
     },
     "execution_count": 15,
     "metadata": {},
     "output_type": "execute_result"
    }
   ],
   "source": [
    "priordf.head()"
   ]
  },
  {
   "cell_type": "code",
   "execution_count": 16,
   "metadata": {
    "collapsed": true
   },
   "outputs": [],
   "source": [
    "priordf['days_since_first_order'].fillna(0, inplace=True)"
   ]
  },
  {
   "cell_type": "code",
   "execution_count": 17,
   "metadata": {
    "collapsed": true
   },
   "outputs": [],
   "source": [
    "priordf.sort_values(['user_id', 'product_id','order_number'], inplace = True)"
   ]
  },
  {
   "cell_type": "code",
   "execution_count": 18,
   "metadata": {
    "collapsed": true
   },
   "outputs": [],
   "source": [
    "priordf['days_since_prior_product_purchase'] = priordf.groupby(['user_id', 'product_id'])['days_since_first_order'].transform(lambda x: x.diff())"
   ]
  },
  {
   "cell_type": "code",
   "execution_count": 19,
   "metadata": {
    "collapsed": true
   },
   "outputs": [],
   "source": [
    "#pickle.dump(priordf, open('data/pickle_files/priordf.p', 'wb'))"
   ]
  },
  {
   "cell_type": "code",
   "execution_count": 14,
   "metadata": {
    "collapsed": true
   },
   "outputs": [],
   "source": [
    "priordf = pickle.load(open('data/pickle_files/priordf.p', 'rb'))"
   ]
  },
  {
   "cell_type": "code",
   "execution_count": 15,
   "metadata": {
    "collapsed": true
   },
   "outputs": [],
   "source": [
    "#user_info"
   ]
  },
  {
   "cell_type": "code",
   "execution_count": 16,
   "metadata": {
    "collapsed": true
   },
   "outputs": [],
   "source": [
    "user_info = pd.DataFrame()\n",
    "user_info['user_order_num'] = priordf.groupby('user_id')['order_id'].nunique().astype(np.uint16)"
   ]
  },
  {
   "cell_type": "code",
   "execution_count": 17,
   "metadata": {
    "collapsed": true
   },
   "outputs": [],
   "source": [
    "user_info['user_order_interval_mean'] = pd.DataFrame(priordf.groupby(['user_id', 'order_id'])['days_since_prior_order'].mean()).groupby(['user_id'])['days_since_prior_order'].mean().astype(np.float32)"
   ]
  },
  {
   "cell_type": "code",
   "execution_count": 18,
   "metadata": {
    "collapsed": true
   },
   "outputs": [],
   "source": [
    "user_info['user_order_interval_std'] = pd.DataFrame(priordf.groupby(['user_id', 'order_id'])['days_since_prior_order'].mean()).groupby(['user_id'])['days_since_prior_order'].std().astype(np.float32)"
   ]
  },
  {
   "cell_type": "code",
   "execution_count": 19,
   "metadata": {
    "collapsed": true
   },
   "outputs": [],
   "source": [
    "user_info['user_basket_size_mean'] = pd.DataFrame(priordf.groupby(['user_id', 'order_id'])['product_id'].count()).groupby('user_id')['product_id'].mean().astype(np.float32)"
   ]
  },
  {
   "cell_type": "code",
   "execution_count": 20,
   "metadata": {
    "collapsed": true
   },
   "outputs": [],
   "source": [
    "user_info['user_basket_size_std'] = pd.DataFrame(priordf.groupby(['user_id', 'order_id'])['product_id'].count()).groupby('user_id')['product_id'].std().astype(np.float32)"
   ]
  },
  {
   "cell_type": "code",
   "execution_count": 21,
   "metadata": {
    "collapsed": true
   },
   "outputs": [],
   "source": [
    "user_info['user_history'] = priordf.groupby('user_id')['days_since_first_order'].max().astype(np.uint16)"
   ]
  },
  {
   "cell_type": "code",
   "execution_count": 22,
   "metadata": {
    "collapsed": true
   },
   "outputs": [],
   "source": [
    "user_info.reset_index(inplace = True)"
   ]
  },
  {
   "cell_type": "code",
   "execution_count": 23,
   "metadata": {},
   "outputs": [
    {
     "data": {
      "text/html": [
       "<div>\n",
       "<style>\n",
       "    .dataframe thead tr:only-child th {\n",
       "        text-align: right;\n",
       "    }\n",
       "\n",
       "    .dataframe thead th {\n",
       "        text-align: left;\n",
       "    }\n",
       "\n",
       "    .dataframe tbody tr th {\n",
       "        vertical-align: top;\n",
       "    }\n",
       "</style>\n",
       "<table border=\"1\" class=\"dataframe\">\n",
       "  <thead>\n",
       "    <tr style=\"text-align: right;\">\n",
       "      <th></th>\n",
       "      <th>user_id</th>\n",
       "      <th>user_order_num</th>\n",
       "      <th>user_order_interval_mean</th>\n",
       "      <th>user_order_interval_std</th>\n",
       "      <th>user_basket_size_mean</th>\n",
       "      <th>user_basket_size_std</th>\n",
       "      <th>user_history</th>\n",
       "    </tr>\n",
       "  </thead>\n",
       "  <tbody>\n",
       "    <tr>\n",
       "      <th>0</th>\n",
       "      <td>1</td>\n",
       "      <td>10</td>\n",
       "      <td>19.555555</td>\n",
       "      <td>9.395625</td>\n",
       "      <td>5.900000</td>\n",
       "      <td>1.523884</td>\n",
       "      <td>176</td>\n",
       "    </tr>\n",
       "    <tr>\n",
       "      <th>1</th>\n",
       "      <td>2</td>\n",
       "      <td>14</td>\n",
       "      <td>15.230769</td>\n",
       "      <td>9.867064</td>\n",
       "      <td>13.928572</td>\n",
       "      <td>5.717238</td>\n",
       "      <td>198</td>\n",
       "    </tr>\n",
       "    <tr>\n",
       "      <th>2</th>\n",
       "      <td>3</td>\n",
       "      <td>12</td>\n",
       "      <td>12.090909</td>\n",
       "      <td>5.375026</td>\n",
       "      <td>7.333333</td>\n",
       "      <td>2.103388</td>\n",
       "      <td>133</td>\n",
       "    </tr>\n",
       "    <tr>\n",
       "      <th>3</th>\n",
       "      <td>4</td>\n",
       "      <td>5</td>\n",
       "      <td>13.750000</td>\n",
       "      <td>9.500000</td>\n",
       "      <td>3.600000</td>\n",
       "      <td>2.073644</td>\n",
       "      <td>55</td>\n",
       "    </tr>\n",
       "    <tr>\n",
       "      <th>4</th>\n",
       "      <td>5</td>\n",
       "      <td>4</td>\n",
       "      <td>13.333333</td>\n",
       "      <td>4.932883</td>\n",
       "      <td>9.250000</td>\n",
       "      <td>3.095696</td>\n",
       "      <td>40</td>\n",
       "    </tr>\n",
       "  </tbody>\n",
       "</table>\n",
       "</div>"
      ],
      "text/plain": [
       "   user_id  user_order_num  user_order_interval_mean  user_order_interval_std  \\\n",
       "0        1              10                 19.555555                 9.395625   \n",
       "1        2              14                 15.230769                 9.867064   \n",
       "2        3              12                 12.090909                 5.375026   \n",
       "3        4               5                 13.750000                 9.500000   \n",
       "4        5               4                 13.333333                 4.932883   \n",
       "\n",
       "   user_basket_size_mean  user_basket_size_std  user_history  \n",
       "0               5.900000              1.523884           176  \n",
       "1              13.928572              5.717238           198  \n",
       "2               7.333333              2.103388           133  \n",
       "3               3.600000              2.073644            55  \n",
       "4               9.250000              3.095696            40  "
      ]
     },
     "execution_count": 23,
     "metadata": {},
     "output_type": "execute_result"
    }
   ],
   "source": [
    "user_info.head()"
   ]
  },
  {
   "cell_type": "code",
   "execution_count": 24,
   "metadata": {
    "collapsed": true
   },
   "outputs": [],
   "source": [
    "#pickle.dump(user_info, open('data/pickle_files/user_info.p', 'wb'))"
   ]
  },
  {
   "cell_type": "code",
   "execution_count": null,
   "metadata": {
    "collapsed": true
   },
   "outputs": [],
   "source": [
    "#product_info"
   ]
  },
  {
   "cell_type": "code",
   "execution_count": 25,
   "metadata": {
    "collapsed": true
   },
   "outputs": [],
   "source": [
    "product_info = pd.DataFrame()"
   ]
  },
  {
   "cell_type": "code",
   "execution_count": 26,
   "metadata": {
    "collapsed": true
   },
   "outputs": [],
   "source": [
    "product_info['product_user_num'] = priordf.groupby(['product_id'])['user_id'].nunique().astype(np.uint32)"
   ]
  },
  {
   "cell_type": "code",
   "execution_count": 27,
   "metadata": {
    "collapsed": true
   },
   "outputs": [],
   "source": [
    "product_info['product_order_num'] = priordf.groupby(['product_id'])['order_id'].nunique().astype(np.uint32)"
   ]
  },
  {
   "cell_type": "code",
   "execution_count": 28,
   "metadata": {
    "collapsed": true
   },
   "outputs": [],
   "source": [
    "product_info['product_order_interval_mean'] = priordf.groupby(['product_id'])['days_since_prior_product_purchase'].mean().astype(np.float32)"
   ]
  },
  {
   "cell_type": "code",
   "execution_count": 29,
   "metadata": {
    "collapsed": true
   },
   "outputs": [],
   "source": [
    "product_info['product_order_interval_std'] = priordf.groupby(['product_id'])['days_since_prior_product_purchase'].std().astype(np.float32)"
   ]
  },
  {
   "cell_type": "code",
   "execution_count": 30,
   "metadata": {
    "collapsed": true
   },
   "outputs": [],
   "source": [
    "product_info['product_reorder_num'] = priordf[priordf.reordered == 1].groupby(['product_id'])['order_id'].nunique().astype(np.uint32)"
   ]
  },
  {
   "cell_type": "code",
   "execution_count": 31,
   "metadata": {
    "collapsed": true
   },
   "outputs": [],
   "source": [
    "product_info['product_reorder_num'].fillna(0, inplace = True)"
   ]
  },
  {
   "cell_type": "code",
   "execution_count": 32,
   "metadata": {
    "collapsed": true
   },
   "outputs": [],
   "source": [
    "product_info['product_reorder_user_num'] = priordf[priordf.reordered == 1].groupby(['product_id'])['user_id'].nunique().astype(np.uint32)"
   ]
  },
  {
   "cell_type": "code",
   "execution_count": 33,
   "metadata": {
    "collapsed": true
   },
   "outputs": [],
   "source": [
    "product_info['product_reorder_user_num'].fillna(0, inplace = True)"
   ]
  },
  {
   "cell_type": "code",
   "execution_count": 34,
   "metadata": {
    "collapsed": true
   },
   "outputs": [],
   "source": [
    "product_info['product_reorder_ratio'] = product_info['product_reorder_num']/product_info['product_order_num']"
   ]
  },
  {
   "cell_type": "code",
   "execution_count": 35,
   "metadata": {
    "collapsed": true
   },
   "outputs": [],
   "source": [
    "product_info['product_reorder_user_ratio'] = product_info['product_reorder_user_num']/product_info['product_user_num']"
   ]
  },
  {
   "cell_type": "code",
   "execution_count": 36,
   "metadata": {
    "collapsed": true
   },
   "outputs": [],
   "source": [
    "product_info['product_add_to_cart_order_mean'] = priordf.groupby(['product_id'])['add_to_cart_order'].mean().astype(np.float32)"
   ]
  },
  {
   "cell_type": "code",
   "execution_count": 37,
   "metadata": {
    "collapsed": true
   },
   "outputs": [],
   "source": [
    "product_info['product_add_to_cart_order_std'] = priordf.groupby(['product_id'])['add_to_cart_order'].std().astype(np.float32)"
   ]
  },
  {
   "cell_type": "code",
   "execution_count": 38,
   "metadata": {
    "collapsed": true
   },
   "outputs": [],
   "source": [
    "product_info.reset_index(inplace = True)"
   ]
  },
  {
   "cell_type": "code",
   "execution_count": 39,
   "metadata": {
    "collapsed": true
   },
   "outputs": [],
   "source": [
    "product_info = pd.merge(product_info, products, on = 'product_id', how = 'left')"
   ]
  },
  {
   "cell_type": "code",
   "execution_count": 11,
   "metadata": {
    "collapsed": true
   },
   "outputs": [],
   "source": [
    "product_info['product_order_interval_mean_NaN'] = product_info.product_order_interval_mean.isnull()\n",
    "product_info['product_order_interval_mean_NaN'].replace([False, True], [0, 1], inplace = True)\n",
    "product_info['product_order_interval_std_NaN'] = product_info.product_order_interval_std.isnull()\n",
    "product_info['product_order_interval_std_NaN'].replace([False, True], [0, 1], inplace = True)\n",
    "product_info['product_add_to_cart_order_std_NaN'] = product_info.product_add_to_cart_order_std.isnull()\n",
    "product_info['product_add_to_cart_order_std_NaN'].replace([False, True], [0, 1], inplace = True)"
   ]
  },
  {
   "cell_type": "code",
   "execution_count": null,
   "metadata": {
    "collapsed": true
   },
   "outputs": [],
   "source": [
    "product_info.fillna(product_info.mean(), inplace = True)"
   ]
  },
  {
   "cell_type": "code",
   "execution_count": 13,
   "metadata": {},
   "outputs": [
    {
     "data": {
      "text/html": [
       "<div>\n",
       "<style>\n",
       "    .dataframe thead tr:only-child th {\n",
       "        text-align: right;\n",
       "    }\n",
       "\n",
       "    .dataframe thead th {\n",
       "        text-align: left;\n",
       "    }\n",
       "\n",
       "    .dataframe tbody tr th {\n",
       "        vertical-align: top;\n",
       "    }\n",
       "</style>\n",
       "<table border=\"1\" class=\"dataframe\">\n",
       "  <thead>\n",
       "    <tr style=\"text-align: right;\">\n",
       "      <th></th>\n",
       "      <th>product_id</th>\n",
       "      <th>product_user_num</th>\n",
       "      <th>product_order_num</th>\n",
       "      <th>product_order_interval_mean</th>\n",
       "      <th>product_order_interval_std</th>\n",
       "      <th>product_reorder_num</th>\n",
       "      <th>product_reorder_user_num</th>\n",
       "      <th>product_reorder_ratio</th>\n",
       "      <th>product_reorder_user_ratio</th>\n",
       "      <th>product_add_to_cart_order_mean</th>\n",
       "      <th>product_add_to_cart_order_std</th>\n",
       "      <th>product_name</th>\n",
       "      <th>aisle_id</th>\n",
       "      <th>department_id</th>\n",
       "      <th>product_order_interval_mean_NaN</th>\n",
       "      <th>product_order_interval_std_NaN</th>\n",
       "      <th>product_add_to_cart_order_std_NaN</th>\n",
       "    </tr>\n",
       "  </thead>\n",
       "  <tbody>\n",
       "    <tr>\n",
       "      <th>0</th>\n",
       "      <td>1</td>\n",
       "      <td>716</td>\n",
       "      <td>1852</td>\n",
       "      <td>27.961267</td>\n",
       "      <td>37.873127</td>\n",
       "      <td>1136.0</td>\n",
       "      <td>276.0</td>\n",
       "      <td>0.613391</td>\n",
       "      <td>0.385475</td>\n",
       "      <td>5.801836</td>\n",
       "      <td>5.575389</td>\n",
       "      <td>Chocolate Sandwich Cookies</td>\n",
       "      <td>61</td>\n",
       "      <td>19</td>\n",
       "      <td>0</td>\n",
       "      <td>0</td>\n",
       "      <td>0</td>\n",
       "    </tr>\n",
       "    <tr>\n",
       "      <th>1</th>\n",
       "      <td>2</td>\n",
       "      <td>78</td>\n",
       "      <td>90</td>\n",
       "      <td>50.166668</td>\n",
       "      <td>52.135895</td>\n",
       "      <td>12.0</td>\n",
       "      <td>8.0</td>\n",
       "      <td>0.133333</td>\n",
       "      <td>0.102564</td>\n",
       "      <td>9.888889</td>\n",
       "      <td>7.821671</td>\n",
       "      <td>All-Seasons Salt</td>\n",
       "      <td>104</td>\n",
       "      <td>13</td>\n",
       "      <td>0</td>\n",
       "      <td>0</td>\n",
       "      <td>0</td>\n",
       "    </tr>\n",
       "    <tr>\n",
       "      <th>2</th>\n",
       "      <td>3</td>\n",
       "      <td>74</td>\n",
       "      <td>277</td>\n",
       "      <td>19.369457</td>\n",
       "      <td>24.833035</td>\n",
       "      <td>203.0</td>\n",
       "      <td>36.0</td>\n",
       "      <td>0.732852</td>\n",
       "      <td>0.486486</td>\n",
       "      <td>6.415163</td>\n",
       "      <td>6.472701</td>\n",
       "      <td>Robust Golden Unsweetened Oolong Tea</td>\n",
       "      <td>94</td>\n",
       "      <td>7</td>\n",
       "      <td>0</td>\n",
       "      <td>0</td>\n",
       "      <td>0</td>\n",
       "    </tr>\n",
       "    <tr>\n",
       "      <th>3</th>\n",
       "      <td>4</td>\n",
       "      <td>182</td>\n",
       "      <td>329</td>\n",
       "      <td>31.707483</td>\n",
       "      <td>28.790031</td>\n",
       "      <td>147.0</td>\n",
       "      <td>64.0</td>\n",
       "      <td>0.446809</td>\n",
       "      <td>0.351648</td>\n",
       "      <td>9.507599</td>\n",
       "      <td>6.861485</td>\n",
       "      <td>Smart Ones Classic Favorites Mini Rigatoni Wit...</td>\n",
       "      <td>38</td>\n",
       "      <td>1</td>\n",
       "      <td>0</td>\n",
       "      <td>0</td>\n",
       "      <td>0</td>\n",
       "    </tr>\n",
       "    <tr>\n",
       "      <th>4</th>\n",
       "      <td>5</td>\n",
       "      <td>6</td>\n",
       "      <td>15</td>\n",
       "      <td>34.888889</td>\n",
       "      <td>36.511795</td>\n",
       "      <td>9.0</td>\n",
       "      <td>4.0</td>\n",
       "      <td>0.600000</td>\n",
       "      <td>0.666667</td>\n",
       "      <td>6.466667</td>\n",
       "      <td>3.563038</td>\n",
       "      <td>Green Chile Anytime Sauce</td>\n",
       "      <td>5</td>\n",
       "      <td>13</td>\n",
       "      <td>0</td>\n",
       "      <td>0</td>\n",
       "      <td>0</td>\n",
       "    </tr>\n",
       "  </tbody>\n",
       "</table>\n",
       "</div>"
      ],
      "text/plain": [
       "   product_id  product_user_num  product_order_num  \\\n",
       "0           1               716               1852   \n",
       "1           2                78                 90   \n",
       "2           3                74                277   \n",
       "3           4               182                329   \n",
       "4           5                 6                 15   \n",
       "\n",
       "   product_order_interval_mean  product_order_interval_std  \\\n",
       "0                    27.961267                   37.873127   \n",
       "1                    50.166668                   52.135895   \n",
       "2                    19.369457                   24.833035   \n",
       "3                    31.707483                   28.790031   \n",
       "4                    34.888889                   36.511795   \n",
       "\n",
       "   product_reorder_num  product_reorder_user_num  product_reorder_ratio  \\\n",
       "0               1136.0                     276.0               0.613391   \n",
       "1                 12.0                       8.0               0.133333   \n",
       "2                203.0                      36.0               0.732852   \n",
       "3                147.0                      64.0               0.446809   \n",
       "4                  9.0                       4.0               0.600000   \n",
       "\n",
       "   product_reorder_user_ratio  product_add_to_cart_order_mean  \\\n",
       "0                    0.385475                        5.801836   \n",
       "1                    0.102564                        9.888889   \n",
       "2                    0.486486                        6.415163   \n",
       "3                    0.351648                        9.507599   \n",
       "4                    0.666667                        6.466667   \n",
       "\n",
       "   product_add_to_cart_order_std  \\\n",
       "0                       5.575389   \n",
       "1                       7.821671   \n",
       "2                       6.472701   \n",
       "3                       6.861485   \n",
       "4                       3.563038   \n",
       "\n",
       "                                        product_name  aisle_id  department_id  \\\n",
       "0                         Chocolate Sandwich Cookies        61             19   \n",
       "1                                   All-Seasons Salt       104             13   \n",
       "2               Robust Golden Unsweetened Oolong Tea        94              7   \n",
       "3  Smart Ones Classic Favorites Mini Rigatoni Wit...        38              1   \n",
       "4                          Green Chile Anytime Sauce         5             13   \n",
       "\n",
       "   product_order_interval_mean_NaN  product_order_interval_std_NaN  \\\n",
       "0                                0                               0   \n",
       "1                                0                               0   \n",
       "2                                0                               0   \n",
       "3                                0                               0   \n",
       "4                                0                               0   \n",
       "\n",
       "   product_add_to_cart_order_std_NaN  \n",
       "0                                  0  \n",
       "1                                  0  \n",
       "2                                  0  \n",
       "3                                  0  \n",
       "4                                  0  "
      ]
     },
     "execution_count": 13,
     "metadata": {},
     "output_type": "execute_result"
    }
   ],
   "source": [
    "product_info.head()"
   ]
  },
  {
   "cell_type": "code",
   "execution_count": 14,
   "metadata": {
    "collapsed": true
   },
   "outputs": [],
   "source": [
    "#pickle.dump(product_info, open('data/pickle_files/product_info.p', 'wb'))"
   ]
  },
  {
   "cell_type": "code",
   "execution_count": 11,
   "metadata": {
    "collapsed": true
   },
   "outputs": [],
   "source": [
    "#user_product_info"
   ]
  },
  {
   "cell_type": "code",
   "execution_count": 42,
   "metadata": {
    "collapsed": true
   },
   "outputs": [],
   "source": [
    "user_product_info = pd.DataFrame(priordf.reset_index().groupby(['user_id', 'product_id'])['order_id'].nunique())"
   ]
  },
  {
   "cell_type": "code",
   "execution_count": 43,
   "metadata": {
    "collapsed": true
   },
   "outputs": [],
   "source": [
    "user_product_info.rename(columns = {'order_id': 'user_product_order_num'}, inplace = True)"
   ]
  },
  {
   "cell_type": "code",
   "execution_count": 44,
   "metadata": {
    "collapsed": true
   },
   "outputs": [],
   "source": [
    "user_product_info['user_product_last_purchase_day'] = priordf.reset_index().groupby(['user_id', 'product_id'])['days_since_first_order'].max().astype(np.uint32)"
   ]
  },
  {
   "cell_type": "code",
   "execution_count": 45,
   "metadata": {
    "collapsed": true
   },
   "outputs": [],
   "source": [
    "user_product_info.rename(columns = {'user_product_order_interval': 'user_product_order_interval_mean'}, inplace = True)"
   ]
  },
  {
   "cell_type": "code",
   "execution_count": 46,
   "metadata": {
    "collapsed": true
   },
   "outputs": [],
   "source": [
    "user_product_info['user_product_order_interval_mean'] = priordf.reset_index().groupby(['user_id', 'product_id'])['days_since_prior_product_purchase'].mean()"
   ]
  },
  {
   "cell_type": "code",
   "execution_count": 47,
   "metadata": {
    "collapsed": true
   },
   "outputs": [],
   "source": [
    "user_product_info['user_product_order_interval_std'] = priordf.reset_index().groupby(['user_id', 'product_id'])['days_since_prior_product_purchase'].std()"
   ]
  },
  {
   "cell_type": "code",
   "execution_count": 48,
   "metadata": {
    "collapsed": true
   },
   "outputs": [],
   "source": [
    "user_product_info['user_product_rank'] = user_product_info.groupby('user_id')['user_product_order_num'].rank(ascending=False)"
   ]
  },
  {
   "cell_type": "code",
   "execution_count": 49,
   "metadata": {
    "collapsed": true
   },
   "outputs": [],
   "source": [
    "user_product_info['user_product_add_order_mean'] = priordf.reset_index().groupby(['user_id', 'product_id'])['add_to_cart_order'].mean().astype(np.float32)"
   ]
  },
  {
   "cell_type": "code",
   "execution_count": 50,
   "metadata": {
    "collapsed": true
   },
   "outputs": [],
   "source": [
    "user_product_info['user_product_add_order_std'] = priordf.reset_index().groupby(['user_id', 'product_id'])['add_to_cart_order'].std().astype(np.float32)"
   ]
  },
  {
   "cell_type": "code",
   "execution_count": 51,
   "metadata": {
    "collapsed": true
   },
   "outputs": [],
   "source": [
    "user_product_info = pd.merge(pd.DataFrame(user_product_info).reset_index(), user_info.reset_index()[['user_id', 'user_order_num']], on='user_id', how = 'left')"
   ]
  },
  {
   "cell_type": "code",
   "execution_count": 52,
   "metadata": {
    "collapsed": true
   },
   "outputs": [],
   "source": [
    "user_product_info['user_product_reorder_ratio'] = user_product_info.user_product_order_num/user_product_info.user_order_num"
   ]
  },
  {
   "cell_type": "code",
   "execution_count": 53,
   "metadata": {
    "collapsed": true
   },
   "outputs": [],
   "source": [
    "user_product_info.drop('user_order_num', axis = 1, inplace = True)"
   ]
  },
  {
   "cell_type": "code",
   "execution_count": 5,
   "metadata": {
    "collapsed": true
   },
   "outputs": [],
   "source": [
    "user_product_info['user_product_order_interval_mean_NaN'] = user_product_info.user_product_order_interval_mean.isnull()\n",
    "user_product_info['user_product_order_interval_mean_NaN'].replace([False, True], [0, 1], inplace = True)\n",
    "user_product_info['user_product_order_interval_std_NaN'] = user_product_info.user_product_order_interval_std.isnull()\n",
    "user_product_info['user_product_order_interval_std_NaN'].replace([False, True], [0, 1], inplace = True)\n",
    "user_product_info['user_product_add_order_std_NaN'] = user_product_info.user_product_add_order_std.isnull()\n",
    "user_product_info['user_product_add_order_std_NaN'].replace([False, True], [0, 1], inplace = True)"
   ]
  },
  {
   "cell_type": "code",
   "execution_count": null,
   "metadata": {
    "collapsed": true
   },
   "outputs": [],
   "source": [
    "user_product_info.fillna(user_product_info.mean(), inplace = True)"
   ]
  },
  {
   "cell_type": "code",
   "execution_count": 9,
   "metadata": {},
   "outputs": [
    {
     "data": {
      "text/html": [
       "<div>\n",
       "<style>\n",
       "    .dataframe thead tr:only-child th {\n",
       "        text-align: right;\n",
       "    }\n",
       "\n",
       "    .dataframe thead th {\n",
       "        text-align: left;\n",
       "    }\n",
       "\n",
       "    .dataframe tbody tr th {\n",
       "        vertical-align: top;\n",
       "    }\n",
       "</style>\n",
       "<table border=\"1\" class=\"dataframe\">\n",
       "  <thead>\n",
       "    <tr style=\"text-align: right;\">\n",
       "      <th></th>\n",
       "      <th>user_id</th>\n",
       "      <th>product_id</th>\n",
       "      <th>user_product_order_num</th>\n",
       "      <th>user_product_last_purchase_day</th>\n",
       "      <th>user_product_order_interval_mean</th>\n",
       "      <th>user_product_order_interval_std</th>\n",
       "      <th>user_product_rank</th>\n",
       "      <th>user_product_add_order_mean</th>\n",
       "      <th>user_product_add_order_std</th>\n",
       "      <th>user_product_reorder_ratio</th>\n",
       "      <th>user_product_order_interval_mean_NaN</th>\n",
       "      <th>user_product_order_interval_std_NaN</th>\n",
       "      <th>user_product_add_order_std_NaN</th>\n",
       "    </tr>\n",
       "  </thead>\n",
       "  <tbody>\n",
       "    <tr>\n",
       "      <th>0</th>\n",
       "      <td>1</td>\n",
       "      <td>196</td>\n",
       "      <td>10</td>\n",
       "      <td>176</td>\n",
       "      <td>19.555555</td>\n",
       "      <td>9.395625</td>\n",
       "      <td>1.5</td>\n",
       "      <td>1.400000</td>\n",
       "      <td>0.966092</td>\n",
       "      <td>1.0</td>\n",
       "      <td>0</td>\n",
       "      <td>0</td>\n",
       "      <td>0</td>\n",
       "    </tr>\n",
       "    <tr>\n",
       "      <th>1</th>\n",
       "      <td>1</td>\n",
       "      <td>10258</td>\n",
       "      <td>9</td>\n",
       "      <td>176</td>\n",
       "      <td>20.125000</td>\n",
       "      <td>9.876922</td>\n",
       "      <td>3.0</td>\n",
       "      <td>3.333333</td>\n",
       "      <td>1.322876</td>\n",
       "      <td>0.9</td>\n",
       "      <td>0</td>\n",
       "      <td>0</td>\n",
       "      <td>0</td>\n",
       "    </tr>\n",
       "    <tr>\n",
       "      <th>2</th>\n",
       "      <td>1</td>\n",
       "      <td>10326</td>\n",
       "      <td>1</td>\n",
       "      <td>93</td>\n",
       "      <td>42.677544</td>\n",
       "      <td>25.335363</td>\n",
       "      <td>14.5</td>\n",
       "      <td>5.000000</td>\n",
       "      <td>4.219923</td>\n",
       "      <td>0.1</td>\n",
       "      <td>1</td>\n",
       "      <td>1</td>\n",
       "      <td>1</td>\n",
       "    </tr>\n",
       "    <tr>\n",
       "      <th>3</th>\n",
       "      <td>1</td>\n",
       "      <td>12427</td>\n",
       "      <td>10</td>\n",
       "      <td>176</td>\n",
       "      <td>19.555555</td>\n",
       "      <td>9.395625</td>\n",
       "      <td>1.5</td>\n",
       "      <td>3.300000</td>\n",
       "      <td>2.406011</td>\n",
       "      <td>1.0</td>\n",
       "      <td>0</td>\n",
       "      <td>0</td>\n",
       "      <td>0</td>\n",
       "    </tr>\n",
       "    <tr>\n",
       "      <th>4</th>\n",
       "      <td>1</td>\n",
       "      <td>13032</td>\n",
       "      <td>3</td>\n",
       "      <td>176</td>\n",
       "      <td>80.500000</td>\n",
       "      <td>51.618793</td>\n",
       "      <td>5.5</td>\n",
       "      <td>6.333333</td>\n",
       "      <td>1.527525</td>\n",
       "      <td>0.3</td>\n",
       "      <td>0</td>\n",
       "      <td>0</td>\n",
       "      <td>0</td>\n",
       "    </tr>\n",
       "  </tbody>\n",
       "</table>\n",
       "</div>"
      ],
      "text/plain": [
       "   user_id  product_id  user_product_order_num  \\\n",
       "0        1         196                      10   \n",
       "1        1       10258                       9   \n",
       "2        1       10326                       1   \n",
       "3        1       12427                      10   \n",
       "4        1       13032                       3   \n",
       "\n",
       "   user_product_last_purchase_day  user_product_order_interval_mean  \\\n",
       "0                             176                         19.555555   \n",
       "1                             176                         20.125000   \n",
       "2                              93                         42.677544   \n",
       "3                             176                         19.555555   \n",
       "4                             176                         80.500000   \n",
       "\n",
       "   user_product_order_interval_std  user_product_rank  \\\n",
       "0                         9.395625                1.5   \n",
       "1                         9.876922                3.0   \n",
       "2                        25.335363               14.5   \n",
       "3                         9.395625                1.5   \n",
       "4                        51.618793                5.5   \n",
       "\n",
       "   user_product_add_order_mean  user_product_add_order_std  \\\n",
       "0                     1.400000                    0.966092   \n",
       "1                     3.333333                    1.322876   \n",
       "2                     5.000000                    4.219923   \n",
       "3                     3.300000                    2.406011   \n",
       "4                     6.333333                    1.527525   \n",
       "\n",
       "   user_product_reorder_ratio  user_product_order_interval_mean_NaN  \\\n",
       "0                         1.0                                     0   \n",
       "1                         0.9                                     0   \n",
       "2                         0.1                                     1   \n",
       "3                         1.0                                     0   \n",
       "4                         0.3                                     0   \n",
       "\n",
       "   user_product_order_interval_std_NaN  user_product_add_order_std_NaN  \n",
       "0                                    0                               0  \n",
       "1                                    0                               0  \n",
       "2                                    1                               1  \n",
       "3                                    0                               0  \n",
       "4                                    0                               0  "
      ]
     },
     "execution_count": 9,
     "metadata": {},
     "output_type": "execute_result"
    }
   ],
   "source": [
    "user_product_info.head()"
   ]
  },
  {
   "cell_type": "code",
   "execution_count": 10,
   "metadata": {
    "collapsed": true
   },
   "outputs": [],
   "source": [
    "#pickle.dump(user_product_info, open('data/pickle_files/user_product_info.p', 'wb'))"
   ]
  },
  {
   "cell_type": "code",
   "execution_count": 64,
   "metadata": {
    "collapsed": true
   },
   "outputs": [],
   "source": [
    "#ordertime_info"
   ]
  },
  {
   "cell_type": "code",
   "execution_count": 56,
   "metadata": {},
   "outputs": [
    {
     "data": {
      "text/html": [
       "<div>\n",
       "<style>\n",
       "    .dataframe thead tr:only-child th {\n",
       "        text-align: right;\n",
       "    }\n",
       "\n",
       "    .dataframe thead th {\n",
       "        text-align: left;\n",
       "    }\n",
       "\n",
       "    .dataframe tbody tr th {\n",
       "        vertical-align: top;\n",
       "    }\n",
       "</style>\n",
       "<table border=\"1\" class=\"dataframe\">\n",
       "  <thead>\n",
       "    <tr style=\"text-align: right;\">\n",
       "      <th></th>\n",
       "      <th>order_id</th>\n",
       "      <th>product_id</th>\n",
       "      <th>add_to_cart_order</th>\n",
       "      <th>reordered</th>\n",
       "      <th>user_id</th>\n",
       "      <th>eval_set</th>\n",
       "      <th>order_number</th>\n",
       "      <th>order_dow</th>\n",
       "      <th>order_hour_of_day</th>\n",
       "      <th>days_since_prior_order</th>\n",
       "      <th>days_since_first_order</th>\n",
       "      <th>days_since_prior_product_purchase</th>\n",
       "    </tr>\n",
       "  </thead>\n",
       "  <tbody>\n",
       "    <tr>\n",
       "      <th>24076664</th>\n",
       "      <td>2539329</td>\n",
       "      <td>196</td>\n",
       "      <td>1</td>\n",
       "      <td>0</td>\n",
       "      <td>1</td>\n",
       "      <td>prior</td>\n",
       "      <td>1</td>\n",
       "      <td>2</td>\n",
       "      <td>8</td>\n",
       "      <td>NaN</td>\n",
       "      <td>0.0</td>\n",
       "      <td>NaN</td>\n",
       "    </tr>\n",
       "    <tr>\n",
       "      <th>22742744</th>\n",
       "      <td>2398795</td>\n",
       "      <td>196</td>\n",
       "      <td>1</td>\n",
       "      <td>1</td>\n",
       "      <td>1</td>\n",
       "      <td>prior</td>\n",
       "      <td>2</td>\n",
       "      <td>3</td>\n",
       "      <td>7</td>\n",
       "      <td>15.0</td>\n",
       "      <td>15.0</td>\n",
       "      <td>15.0</td>\n",
       "    </tr>\n",
       "    <tr>\n",
       "      <th>4488095</th>\n",
       "      <td>473747</td>\n",
       "      <td>196</td>\n",
       "      <td>1</td>\n",
       "      <td>1</td>\n",
       "      <td>1</td>\n",
       "      <td>prior</td>\n",
       "      <td>3</td>\n",
       "      <td>3</td>\n",
       "      <td>12</td>\n",
       "      <td>21.0</td>\n",
       "      <td>36.0</td>\n",
       "      <td>21.0</td>\n",
       "    </tr>\n",
       "    <tr>\n",
       "      <th>21376074</th>\n",
       "      <td>2254736</td>\n",
       "      <td>196</td>\n",
       "      <td>1</td>\n",
       "      <td>1</td>\n",
       "      <td>1</td>\n",
       "      <td>prior</td>\n",
       "      <td>4</td>\n",
       "      <td>4</td>\n",
       "      <td>7</td>\n",
       "      <td>29.0</td>\n",
       "      <td>65.0</td>\n",
       "      <td>29.0</td>\n",
       "    </tr>\n",
       "    <tr>\n",
       "      <th>4089398</th>\n",
       "      <td>431534</td>\n",
       "      <td>196</td>\n",
       "      <td>1</td>\n",
       "      <td>1</td>\n",
       "      <td>1</td>\n",
       "      <td>prior</td>\n",
       "      <td>5</td>\n",
       "      <td>4</td>\n",
       "      <td>15</td>\n",
       "      <td>28.0</td>\n",
       "      <td>93.0</td>\n",
       "      <td>28.0</td>\n",
       "    </tr>\n",
       "  </tbody>\n",
       "</table>\n",
       "</div>"
      ],
      "text/plain": [
       "          order_id  product_id  add_to_cart_order  reordered  user_id  \\\n",
       "24076664   2539329         196                  1          0        1   \n",
       "22742744   2398795         196                  1          1        1   \n",
       "4488095     473747         196                  1          1        1   \n",
       "21376074   2254736         196                  1          1        1   \n",
       "4089398     431534         196                  1          1        1   \n",
       "\n",
       "         eval_set  order_number  order_dow  order_hour_of_day  \\\n",
       "24076664    prior             1          2                  8   \n",
       "22742744    prior             2          3                  7   \n",
       "4488095     prior             3          3                 12   \n",
       "21376074    prior             4          4                  7   \n",
       "4089398     prior             5          4                 15   \n",
       "\n",
       "          days_since_prior_order  days_since_first_order  \\\n",
       "24076664                     NaN                     0.0   \n",
       "22742744                    15.0                    15.0   \n",
       "4488095                     21.0                    36.0   \n",
       "21376074                    29.0                    65.0   \n",
       "4089398                     28.0                    93.0   \n",
       "\n",
       "          days_since_prior_product_purchase  \n",
       "24076664                                NaN  \n",
       "22742744                               15.0  \n",
       "4488095                                21.0  \n",
       "21376074                               29.0  \n",
       "4089398                                28.0  "
      ]
     },
     "execution_count": 56,
     "metadata": {},
     "output_type": "execute_result"
    }
   ],
   "source": [
    "priordf.head()"
   ]
  },
  {
   "cell_type": "code",
   "execution_count": 57,
   "metadata": {
    "collapsed": true
   },
   "outputs": [],
   "source": [
    "ordertime_info = pd.DataFrame(priordf.reset_index().groupby(['order_dow', 'order_hour_of_day'])['order_id'].nunique())"
   ]
  },
  {
   "cell_type": "code",
   "execution_count": 58,
   "metadata": {
    "collapsed": true
   },
   "outputs": [],
   "source": [
    "ordertime_info.rename(columns = {'order_id': 'ordertime_order_num'}, inplace = True)"
   ]
  },
  {
   "cell_type": "code",
   "execution_count": 59,
   "metadata": {
    "collapsed": true
   },
   "outputs": [],
   "source": [
    "ordertime_info.reset_index(inplace=True)"
   ]
  },
  {
   "cell_type": "code",
   "execution_count": 60,
   "metadata": {},
   "outputs": [
    {
     "data": {
      "text/html": [
       "<div>\n",
       "<style>\n",
       "    .dataframe thead tr:only-child th {\n",
       "        text-align: right;\n",
       "    }\n",
       "\n",
       "    .dataframe thead th {\n",
       "        text-align: left;\n",
       "    }\n",
       "\n",
       "    .dataframe tbody tr th {\n",
       "        vertical-align: top;\n",
       "    }\n",
       "</style>\n",
       "<table border=\"1\" class=\"dataframe\">\n",
       "  <thead>\n",
       "    <tr style=\"text-align: right;\">\n",
       "      <th></th>\n",
       "      <th>order_dow</th>\n",
       "      <th>order_hour_of_day</th>\n",
       "      <th>ordertime_order_num</th>\n",
       "    </tr>\n",
       "  </thead>\n",
       "  <tbody>\n",
       "    <tr>\n",
       "      <th>0</th>\n",
       "      <td>0</td>\n",
       "      <td>0</td>\n",
       "      <td>3692</td>\n",
       "    </tr>\n",
       "    <tr>\n",
       "      <th>1</th>\n",
       "      <td>0</td>\n",
       "      <td>1</td>\n",
       "      <td>2235</td>\n",
       "    </tr>\n",
       "    <tr>\n",
       "      <th>2</th>\n",
       "      <td>0</td>\n",
       "      <td>2</td>\n",
       "      <td>1299</td>\n",
       "    </tr>\n",
       "    <tr>\n",
       "      <th>3</th>\n",
       "      <td>0</td>\n",
       "      <td>3</td>\n",
       "      <td>888</td>\n",
       "    </tr>\n",
       "    <tr>\n",
       "      <th>4</th>\n",
       "      <td>0</td>\n",
       "      <td>4</td>\n",
       "      <td>750</td>\n",
       "    </tr>\n",
       "  </tbody>\n",
       "</table>\n",
       "</div>"
      ],
      "text/plain": [
       "   order_dow  order_hour_of_day  ordertime_order_num\n",
       "0          0                  0                 3692\n",
       "1          0                  1                 2235\n",
       "2          0                  2                 1299\n",
       "3          0                  3                  888\n",
       "4          0                  4                  750"
      ]
     },
     "execution_count": 60,
     "metadata": {},
     "output_type": "execute_result"
    }
   ],
   "source": [
    "ordertime_info.head()"
   ]
  },
  {
   "cell_type": "code",
   "execution_count": 61,
   "metadata": {
    "collapsed": true
   },
   "outputs": [],
   "source": [
    "#pickle.dump(ordertime_info, open('data/pickle_files/ordertime_info.p', 'wb'))"
   ]
  },
  {
   "cell_type": "code",
   "execution_count": 62,
   "metadata": {
    "collapsed": true
   },
   "outputs": [],
   "source": [
    "user_ordertime_info = pd.DataFrame(priordf.reset_index().groupby(['user_id','order_dow', 'order_hour_of_day'])['order_id'].nunique())"
   ]
  },
  {
   "cell_type": "code",
   "execution_count": 63,
   "metadata": {
    "collapsed": true
   },
   "outputs": [],
   "source": [
    "user_ordertime_info.rename(columns = {'order_id': 'user_ordertime_order_num'}, inplace = True)\n",
    "user_ordertime_info.reset_index(inplace=True)"
   ]
  },
  {
   "cell_type": "code",
   "execution_count": 64,
   "metadata": {},
   "outputs": [
    {
     "data": {
      "text/html": [
       "<div>\n",
       "<style>\n",
       "    .dataframe thead tr:only-child th {\n",
       "        text-align: right;\n",
       "    }\n",
       "\n",
       "    .dataframe thead th {\n",
       "        text-align: left;\n",
       "    }\n",
       "\n",
       "    .dataframe tbody tr th {\n",
       "        vertical-align: top;\n",
       "    }\n",
       "</style>\n",
       "<table border=\"1\" class=\"dataframe\">\n",
       "  <thead>\n",
       "    <tr style=\"text-align: right;\">\n",
       "      <th></th>\n",
       "      <th>user_id</th>\n",
       "      <th>order_dow</th>\n",
       "      <th>order_hour_of_day</th>\n",
       "      <th>user_ordertime_order_num</th>\n",
       "    </tr>\n",
       "  </thead>\n",
       "  <tbody>\n",
       "    <tr>\n",
       "      <th>0</th>\n",
       "      <td>1</td>\n",
       "      <td>1</td>\n",
       "      <td>9</td>\n",
       "      <td>1</td>\n",
       "    </tr>\n",
       "    <tr>\n",
       "      <th>1</th>\n",
       "      <td>1</td>\n",
       "      <td>1</td>\n",
       "      <td>14</td>\n",
       "      <td>1</td>\n",
       "    </tr>\n",
       "    <tr>\n",
       "      <th>2</th>\n",
       "      <td>1</td>\n",
       "      <td>1</td>\n",
       "      <td>16</td>\n",
       "      <td>1</td>\n",
       "    </tr>\n",
       "    <tr>\n",
       "      <th>3</th>\n",
       "      <td>1</td>\n",
       "      <td>2</td>\n",
       "      <td>7</td>\n",
       "      <td>1</td>\n",
       "    </tr>\n",
       "    <tr>\n",
       "      <th>4</th>\n",
       "      <td>1</td>\n",
       "      <td>2</td>\n",
       "      <td>8</td>\n",
       "      <td>1</td>\n",
       "    </tr>\n",
       "  </tbody>\n",
       "</table>\n",
       "</div>"
      ],
      "text/plain": [
       "   user_id  order_dow  order_hour_of_day  user_ordertime_order_num\n",
       "0        1          1                  9                         1\n",
       "1        1          1                 14                         1\n",
       "2        1          1                 16                         1\n",
       "3        1          2                  7                         1\n",
       "4        1          2                  8                         1"
      ]
     },
     "execution_count": 64,
     "metadata": {},
     "output_type": "execute_result"
    }
   ],
   "source": [
    "user_ordertime_info.head()"
   ]
  },
  {
   "cell_type": "code",
   "execution_count": 65,
   "metadata": {
    "collapsed": true
   },
   "outputs": [],
   "source": [
    "#pickle.dump(user_ordertime_info, open('data/pickle_files/user_ordertime_info.p', 'wb'))"
   ]
  },
  {
   "cell_type": "code",
   "execution_count": 75,
   "metadata": {
    "collapsed": true
   },
   "outputs": [],
   "source": [
    "product_ordertime_info = pd.DataFrame(priordf.reset_index().groupby(['product_id','order_dow', 'order_hour_of_day'])['order_id'].nunique())"
   ]
  },
  {
   "cell_type": "code",
   "execution_count": 76,
   "metadata": {
    "collapsed": true
   },
   "outputs": [],
   "source": [
    "product_ordertime_info.rename(columns = {'order_id': 'product_ordertime_order_num'}, inplace = True)\n",
    "product_ordertime_info.reset_index(inplace=True)"
   ]
  },
  {
   "cell_type": "code",
   "execution_count": 77,
   "metadata": {},
   "outputs": [
    {
     "data": {
      "text/html": [
       "<div>\n",
       "<style>\n",
       "    .dataframe thead tr:only-child th {\n",
       "        text-align: right;\n",
       "    }\n",
       "\n",
       "    .dataframe thead th {\n",
       "        text-align: left;\n",
       "    }\n",
       "\n",
       "    .dataframe tbody tr th {\n",
       "        vertical-align: top;\n",
       "    }\n",
       "</style>\n",
       "<table border=\"1\" class=\"dataframe\">\n",
       "  <thead>\n",
       "    <tr style=\"text-align: right;\">\n",
       "      <th></th>\n",
       "      <th>product_id</th>\n",
       "      <th>order_dow</th>\n",
       "      <th>order_hour_of_day</th>\n",
       "      <th>product_ordertime_order_num</th>\n",
       "    </tr>\n",
       "  </thead>\n",
       "  <tbody>\n",
       "    <tr>\n",
       "      <th>0</th>\n",
       "      <td>1</td>\n",
       "      <td>0</td>\n",
       "      <td>0</td>\n",
       "      <td>1</td>\n",
       "    </tr>\n",
       "    <tr>\n",
       "      <th>1</th>\n",
       "      <td>1</td>\n",
       "      <td>0</td>\n",
       "      <td>1</td>\n",
       "      <td>1</td>\n",
       "    </tr>\n",
       "    <tr>\n",
       "      <th>2</th>\n",
       "      <td>1</td>\n",
       "      <td>0</td>\n",
       "      <td>5</td>\n",
       "      <td>1</td>\n",
       "    </tr>\n",
       "    <tr>\n",
       "      <th>3</th>\n",
       "      <td>1</td>\n",
       "      <td>0</td>\n",
       "      <td>6</td>\n",
       "      <td>1</td>\n",
       "    </tr>\n",
       "    <tr>\n",
       "      <th>4</th>\n",
       "      <td>1</td>\n",
       "      <td>0</td>\n",
       "      <td>7</td>\n",
       "      <td>4</td>\n",
       "    </tr>\n",
       "  </tbody>\n",
       "</table>\n",
       "</div>"
      ],
      "text/plain": [
       "   product_id  order_dow  order_hour_of_day  product_ordertime_order_num\n",
       "0           1          0                  0                            1\n",
       "1           1          0                  1                            1\n",
       "2           1          0                  5                            1\n",
       "3           1          0                  6                            1\n",
       "4           1          0                  7                            4"
      ]
     },
     "execution_count": 77,
     "metadata": {},
     "output_type": "execute_result"
    }
   ],
   "source": [
    "product_ordertime_info.head()"
   ]
  },
  {
   "cell_type": "code",
   "execution_count": 78,
   "metadata": {
    "collapsed": true
   },
   "outputs": [],
   "source": [
    "#pickle.dump(product_ordertime_info, open('data/pickle_files/product_ordertime_info.p', 'wb'))"
   ]
  },
  {
   "cell_type": "code",
   "execution_count": 76,
   "metadata": {
    "collapsed": true
   },
   "outputs": [],
   "source": [
    "#aisle_info"
   ]
  },
  {
   "cell_type": "code",
   "execution_count": 77,
   "metadata": {},
   "outputs": [
    {
     "data": {
      "text/html": [
       "<div>\n",
       "<style>\n",
       "    .dataframe thead tr:only-child th {\n",
       "        text-align: right;\n",
       "    }\n",
       "\n",
       "    .dataframe thead th {\n",
       "        text-align: left;\n",
       "    }\n",
       "\n",
       "    .dataframe tbody tr th {\n",
       "        vertical-align: top;\n",
       "    }\n",
       "</style>\n",
       "<table border=\"1\" class=\"dataframe\">\n",
       "  <thead>\n",
       "    <tr style=\"text-align: right;\">\n",
       "      <th></th>\n",
       "      <th>product_id</th>\n",
       "      <th>product_user_num</th>\n",
       "      <th>product_order_num</th>\n",
       "      <th>product_order_interval_mean</th>\n",
       "      <th>product_order_interval_std</th>\n",
       "      <th>product_reorder_num</th>\n",
       "      <th>product_reorder_user_num</th>\n",
       "      <th>product_reorder_ratio</th>\n",
       "      <th>product_reorder_user_ratio</th>\n",
       "      <th>product_add_to_cart_order_mean</th>\n",
       "      <th>product_add_to_cart_order_std</th>\n",
       "      <th>product_name</th>\n",
       "      <th>aisle_id</th>\n",
       "      <th>department_id</th>\n",
       "    </tr>\n",
       "  </thead>\n",
       "  <tbody>\n",
       "    <tr>\n",
       "      <th>0</th>\n",
       "      <td>1</td>\n",
       "      <td>716</td>\n",
       "      <td>1852</td>\n",
       "      <td>27.961267</td>\n",
       "      <td>37.873127</td>\n",
       "      <td>1136.0</td>\n",
       "      <td>276.0</td>\n",
       "      <td>0.613391</td>\n",
       "      <td>0.385475</td>\n",
       "      <td>5.801836</td>\n",
       "      <td>5.575389</td>\n",
       "      <td>Chocolate Sandwich Cookies</td>\n",
       "      <td>61</td>\n",
       "      <td>19</td>\n",
       "    </tr>\n",
       "    <tr>\n",
       "      <th>1</th>\n",
       "      <td>2</td>\n",
       "      <td>78</td>\n",
       "      <td>90</td>\n",
       "      <td>50.166668</td>\n",
       "      <td>52.135895</td>\n",
       "      <td>12.0</td>\n",
       "      <td>8.0</td>\n",
       "      <td>0.133333</td>\n",
       "      <td>0.102564</td>\n",
       "      <td>9.888889</td>\n",
       "      <td>7.821671</td>\n",
       "      <td>All-Seasons Salt</td>\n",
       "      <td>104</td>\n",
       "      <td>13</td>\n",
       "    </tr>\n",
       "    <tr>\n",
       "      <th>2</th>\n",
       "      <td>3</td>\n",
       "      <td>74</td>\n",
       "      <td>277</td>\n",
       "      <td>19.369457</td>\n",
       "      <td>24.833035</td>\n",
       "      <td>203.0</td>\n",
       "      <td>36.0</td>\n",
       "      <td>0.732852</td>\n",
       "      <td>0.486486</td>\n",
       "      <td>6.415163</td>\n",
       "      <td>6.472701</td>\n",
       "      <td>Robust Golden Unsweetened Oolong Tea</td>\n",
       "      <td>94</td>\n",
       "      <td>7</td>\n",
       "    </tr>\n",
       "    <tr>\n",
       "      <th>3</th>\n",
       "      <td>4</td>\n",
       "      <td>182</td>\n",
       "      <td>329</td>\n",
       "      <td>31.707483</td>\n",
       "      <td>28.790031</td>\n",
       "      <td>147.0</td>\n",
       "      <td>64.0</td>\n",
       "      <td>0.446809</td>\n",
       "      <td>0.351648</td>\n",
       "      <td>9.507599</td>\n",
       "      <td>6.861485</td>\n",
       "      <td>Smart Ones Classic Favorites Mini Rigatoni Wit...</td>\n",
       "      <td>38</td>\n",
       "      <td>1</td>\n",
       "    </tr>\n",
       "    <tr>\n",
       "      <th>4</th>\n",
       "      <td>5</td>\n",
       "      <td>6</td>\n",
       "      <td>15</td>\n",
       "      <td>34.888889</td>\n",
       "      <td>36.511795</td>\n",
       "      <td>9.0</td>\n",
       "      <td>4.0</td>\n",
       "      <td>0.600000</td>\n",
       "      <td>0.666667</td>\n",
       "      <td>6.466667</td>\n",
       "      <td>3.563038</td>\n",
       "      <td>Green Chile Anytime Sauce</td>\n",
       "      <td>5</td>\n",
       "      <td>13</td>\n",
       "    </tr>\n",
       "  </tbody>\n",
       "</table>\n",
       "</div>"
      ],
      "text/plain": [
       "   product_id  product_user_num  product_order_num  \\\n",
       "0           1               716               1852   \n",
       "1           2                78                 90   \n",
       "2           3                74                277   \n",
       "3           4               182                329   \n",
       "4           5                 6                 15   \n",
       "\n",
       "   product_order_interval_mean  product_order_interval_std  \\\n",
       "0                    27.961267                   37.873127   \n",
       "1                    50.166668                   52.135895   \n",
       "2                    19.369457                   24.833035   \n",
       "3                    31.707483                   28.790031   \n",
       "4                    34.888889                   36.511795   \n",
       "\n",
       "   product_reorder_num  product_reorder_user_num  product_reorder_ratio  \\\n",
       "0               1136.0                     276.0               0.613391   \n",
       "1                 12.0                       8.0               0.133333   \n",
       "2                203.0                      36.0               0.732852   \n",
       "3                147.0                      64.0               0.446809   \n",
       "4                  9.0                       4.0               0.600000   \n",
       "\n",
       "   product_reorder_user_ratio  product_add_to_cart_order_mean  \\\n",
       "0                    0.385475                        5.801836   \n",
       "1                    0.102564                        9.888889   \n",
       "2                    0.486486                        6.415163   \n",
       "3                    0.351648                        9.507599   \n",
       "4                    0.666667                        6.466667   \n",
       "\n",
       "   product_add_to_cart_order_std  \\\n",
       "0                       5.575389   \n",
       "1                       7.821671   \n",
       "2                       6.472701   \n",
       "3                       6.861485   \n",
       "4                       3.563038   \n",
       "\n",
       "                                        product_name  aisle_id  department_id  \n",
       "0                         Chocolate Sandwich Cookies        61             19  \n",
       "1                                   All-Seasons Salt       104             13  \n",
       "2               Robust Golden Unsweetened Oolong Tea        94              7  \n",
       "3  Smart Ones Classic Favorites Mini Rigatoni Wit...        38              1  \n",
       "4                          Green Chile Anytime Sauce         5             13  "
      ]
     },
     "execution_count": 77,
     "metadata": {},
     "output_type": "execute_result"
    }
   ],
   "source": [
    "product_info.head()"
   ]
  },
  {
   "cell_type": "code",
   "execution_count": 66,
   "metadata": {
    "collapsed": true
   },
   "outputs": [],
   "source": [
    "agg_to_aisle = {\n",
    "    'product_user_num':['sum','mean','std'], \n",
    "    'product_order_num':['sum', 'mean', 'std'], \n",
    "    'product_order_interval_mean':['mean', 'std'],\n",
    "    'product_reorder_num': ['sum','mean','std'],\n",
    "    'product_reorder_user_num': ['sum','mean','std'],\n",
    "    'product_add_to_cart_order_mean': ['mean','std'],\n",
    "    'department_id': ['mean']\n",
    "}"
   ]
  },
  {
   "cell_type": "code",
   "execution_count": 67,
   "metadata": {
    "collapsed": true
   },
   "outputs": [],
   "source": [
    "aisle_info = product_info.groupby('aisle_id').agg(agg_to_aisle)"
   ]
  },
  {
   "cell_type": "code",
   "execution_count": 68,
   "metadata": {
    "collapsed": true
   },
   "outputs": [],
   "source": [
    "aisle_info.columns = [\"_\".join(x) for x in aisle_info.columns.ravel()]"
   ]
  },
  {
   "cell_type": "code",
   "execution_count": 69,
   "metadata": {},
   "outputs": [
    {
     "data": {
      "text/plain": [
       "(134, 17)"
      ]
     },
     "execution_count": 69,
     "metadata": {},
     "output_type": "execute_result"
    }
   ],
   "source": [
    "aisle_info.shape"
   ]
  },
  {
   "cell_type": "code",
   "execution_count": 70,
   "metadata": {
    "collapsed": true
   },
   "outputs": [],
   "source": [
    "aisle_info.rename(columns = {'product_user_num_sum': 'aisle_prod_user_num_sum', 'product_user_num_mean': 'aisle_prod_user_num_mean', 'product_user_num_std': 'aisle_prod_user_num_std', 'product_order_num_sum': 'aisle_prod_order_num_sum', 'product_order_num_mean': 'aisle_prod_order_num_mean', 'product_order_num_std': 'aisle_prod_order_num_std', 'product_order_interval_mean_mean': 'aisle_prod_order_interval_mean_mean', 'product_order_interval_mean_std': 'aisle_prod_order_interval_mean_std', 'product_reorder_num_sum': 'aisle_prod_reorder_num_sum',\n",
    "'product_reorder_num_mean': 'aisle_prod_reorder_num_mean', 'product_reorder_num_std': 'aisle_prod_reorder_num_std', 'product_reorder_user_num_sum': 'aisle_prod_reorder_user_num_sum', 'product_reorder_user_num_mean': 'aisle_prod_reorder_user_num_mean', 'product_reorder_user_num_std': 'aisle_prod_reorder_user_num_std', 'product_add_to_cart_order_mean_mean': 'aisle_prod_add_to_cart_order_mean', 'product_add_to_cart_order_mean_std': 'aisle_prod_add_to_cart_order_std', 'department_id_mean': 'department_id'}, inplace=True)"
   ]
  },
  {
   "cell_type": "code",
   "execution_count": 71,
   "metadata": {
    "collapsed": true
   },
   "outputs": [],
   "source": [
    "aisle_info['aisle_reorder_ratio'] = aisle_info.aisle_prod_reorder_num_mean/aisle_info.aisle_prod_order_num_mean"
   ]
  },
  {
   "cell_type": "code",
   "execution_count": 72,
   "metadata": {
    "collapsed": true
   },
   "outputs": [],
   "source": [
    "aisle_info['aisle_user_reorder_ratio'] = aisle_info.aisle_prod_reorder_user_num_mean/aisle_info.aisle_prod_user_num_mean"
   ]
  },
  {
   "cell_type": "code",
   "execution_count": 73,
   "metadata": {
    "collapsed": true
   },
   "outputs": [],
   "source": [
    "aisle_info.reset_index(inplace = True)"
   ]
  },
  {
   "cell_type": "code",
   "execution_count": 74,
   "metadata": {
    "scrolled": true
   },
   "outputs": [
    {
     "data": {
      "text/html": [
       "<div>\n",
       "<style>\n",
       "    .dataframe thead tr:only-child th {\n",
       "        text-align: right;\n",
       "    }\n",
       "\n",
       "    .dataframe thead th {\n",
       "        text-align: left;\n",
       "    }\n",
       "\n",
       "    .dataframe tbody tr th {\n",
       "        vertical-align: top;\n",
       "    }\n",
       "</style>\n",
       "<table border=\"1\" class=\"dataframe\">\n",
       "  <thead>\n",
       "    <tr style=\"text-align: right;\">\n",
       "      <th></th>\n",
       "      <th>aisle_id</th>\n",
       "      <th>aisle_prod_user_num_sum</th>\n",
       "      <th>aisle_prod_user_num_mean</th>\n",
       "      <th>aisle_prod_user_num_std</th>\n",
       "      <th>aisle_prod_order_num_sum</th>\n",
       "      <th>aisle_prod_order_num_mean</th>\n",
       "      <th>aisle_prod_order_num_std</th>\n",
       "      <th>aisle_prod_order_interval_mean_mean</th>\n",
       "      <th>aisle_prod_order_interval_mean_std</th>\n",
       "      <th>aisle_prod_reorder_num_sum</th>\n",
       "      <th>aisle_prod_reorder_num_mean</th>\n",
       "      <th>aisle_prod_reorder_num_std</th>\n",
       "      <th>aisle_prod_reorder_user_num_sum</th>\n",
       "      <th>aisle_prod_reorder_user_num_mean</th>\n",
       "      <th>aisle_prod_reorder_user_num_std</th>\n",
       "      <th>aisle_prod_add_to_cart_order_mean</th>\n",
       "      <th>aisle_prod_add_to_cart_order_std</th>\n",
       "      <th>department_id</th>\n",
       "      <th>aisle_reorder_ratio</th>\n",
       "      <th>aisle_user_reorder_ratio</th>\n",
       "    </tr>\n",
       "  </thead>\n",
       "  <tbody>\n",
       "    <tr>\n",
       "      <th>0</th>\n",
       "      <td>1</td>\n",
       "      <td>29016</td>\n",
       "      <td>198.739726</td>\n",
       "      <td>327.565736</td>\n",
       "      <td>71928</td>\n",
       "      <td>492.657534</td>\n",
       "      <td>903.061677</td>\n",
       "      <td>27.059513</td>\n",
       "      <td>13.772337</td>\n",
       "      <td>42912.0</td>\n",
       "      <td>293.917808</td>\n",
       "      <td>606.896350</td>\n",
       "      <td>11534.0</td>\n",
       "      <td>79.000000</td>\n",
       "      <td>142.516835</td>\n",
       "      <td>8.818574</td>\n",
       "      <td>1.806635</td>\n",
       "      <td>20</td>\n",
       "      <td>0.596597</td>\n",
       "      <td>0.397505</td>\n",
       "    </tr>\n",
       "    <tr>\n",
       "      <th>1</th>\n",
       "      <td>2</td>\n",
       "      <td>42126</td>\n",
       "      <td>155.446494</td>\n",
       "      <td>407.096189</td>\n",
       "      <td>82491</td>\n",
       "      <td>304.394834</td>\n",
       "      <td>839.887252</td>\n",
       "      <td>36.342415</td>\n",
       "      <td>17.781334</td>\n",
       "      <td>40365.0</td>\n",
       "      <td>148.948339</td>\n",
       "      <td>451.846038</td>\n",
       "      <td>13739.0</td>\n",
       "      <td>50.697417</td>\n",
       "      <td>147.091319</td>\n",
       "      <td>9.358910</td>\n",
       "      <td>2.217766</td>\n",
       "      <td>16</td>\n",
       "      <td>0.489326</td>\n",
       "      <td>0.326141</td>\n",
       "    </tr>\n",
       "    <tr>\n",
       "      <th>2</th>\n",
       "      <td>3</td>\n",
       "      <td>183464</td>\n",
       "      <td>220.509615</td>\n",
       "      <td>446.923550</td>\n",
       "      <td>456386</td>\n",
       "      <td>548.540865</td>\n",
       "      <td>1193.136418</td>\n",
       "      <td>26.012691</td>\n",
       "      <td>14.447985</td>\n",
       "      <td>272922.0</td>\n",
       "      <td>328.031250</td>\n",
       "      <td>756.991138</td>\n",
       "      <td>75508.0</td>\n",
       "      <td>90.754808</td>\n",
       "      <td>199.192987</td>\n",
       "      <td>9.891664</td>\n",
       "      <td>2.654259</td>\n",
       "      <td>19</td>\n",
       "      <td>0.598007</td>\n",
       "      <td>0.411568</td>\n",
       "    </tr>\n",
       "    <tr>\n",
       "      <th>3</th>\n",
       "      <td>4</td>\n",
       "      <td>102444</td>\n",
       "      <td>188.662983</td>\n",
       "      <td>482.255550</td>\n",
       "      <td>200687</td>\n",
       "      <td>369.589319</td>\n",
       "      <td>1022.140681</td>\n",
       "      <td>36.945961</td>\n",
       "      <td>16.613544</td>\n",
       "      <td>98243.0</td>\n",
       "      <td>180.926335</td>\n",
       "      <td>547.872967</td>\n",
       "      <td>35470.0</td>\n",
       "      <td>65.322284</td>\n",
       "      <td>186.106379</td>\n",
       "      <td>10.449979</td>\n",
       "      <td>2.380114</td>\n",
       "      <td>9</td>\n",
       "      <td>0.489533</td>\n",
       "      <td>0.346238</td>\n",
       "    </tr>\n",
       "    <tr>\n",
       "      <th>4</th>\n",
       "      <td>5</td>\n",
       "      <td>44968</td>\n",
       "      <td>109.946210</td>\n",
       "      <td>389.037396</td>\n",
       "      <td>62510</td>\n",
       "      <td>152.836186</td>\n",
       "      <td>535.526065</td>\n",
       "      <td>48.310493</td>\n",
       "      <td>28.437979</td>\n",
       "      <td>17542.0</td>\n",
       "      <td>42.889976</td>\n",
       "      <td>151.139042</td>\n",
       "      <td>9067.0</td>\n",
       "      <td>22.168704</td>\n",
       "      <td>79.528503</td>\n",
       "      <td>10.370530</td>\n",
       "      <td>2.503755</td>\n",
       "      <td>13</td>\n",
       "      <td>0.280627</td>\n",
       "      <td>0.201632</td>\n",
       "    </tr>\n",
       "  </tbody>\n",
       "</table>\n",
       "</div>"
      ],
      "text/plain": [
       "   aisle_id  aisle_prod_user_num_sum  aisle_prod_user_num_mean  \\\n",
       "0         1                    29016                198.739726   \n",
       "1         2                    42126                155.446494   \n",
       "2         3                   183464                220.509615   \n",
       "3         4                   102444                188.662983   \n",
       "4         5                    44968                109.946210   \n",
       "\n",
       "   aisle_prod_user_num_std  aisle_prod_order_num_sum  \\\n",
       "0               327.565736                     71928   \n",
       "1               407.096189                     82491   \n",
       "2               446.923550                    456386   \n",
       "3               482.255550                    200687   \n",
       "4               389.037396                     62510   \n",
       "\n",
       "   aisle_prod_order_num_mean  aisle_prod_order_num_std  \\\n",
       "0                 492.657534                903.061677   \n",
       "1                 304.394834                839.887252   \n",
       "2                 548.540865               1193.136418   \n",
       "3                 369.589319               1022.140681   \n",
       "4                 152.836186                535.526065   \n",
       "\n",
       "   aisle_prod_order_interval_mean_mean  aisle_prod_order_interval_mean_std  \\\n",
       "0                            27.059513                           13.772337   \n",
       "1                            36.342415                           17.781334   \n",
       "2                            26.012691                           14.447985   \n",
       "3                            36.945961                           16.613544   \n",
       "4                            48.310493                           28.437979   \n",
       "\n",
       "   aisle_prod_reorder_num_sum  aisle_prod_reorder_num_mean  \\\n",
       "0                     42912.0                   293.917808   \n",
       "1                     40365.0                   148.948339   \n",
       "2                    272922.0                   328.031250   \n",
       "3                     98243.0                   180.926335   \n",
       "4                     17542.0                    42.889976   \n",
       "\n",
       "   aisle_prod_reorder_num_std  aisle_prod_reorder_user_num_sum  \\\n",
       "0                  606.896350                          11534.0   \n",
       "1                  451.846038                          13739.0   \n",
       "2                  756.991138                          75508.0   \n",
       "3                  547.872967                          35470.0   \n",
       "4                  151.139042                           9067.0   \n",
       "\n",
       "   aisle_prod_reorder_user_num_mean  aisle_prod_reorder_user_num_std  \\\n",
       "0                         79.000000                       142.516835   \n",
       "1                         50.697417                       147.091319   \n",
       "2                         90.754808                       199.192987   \n",
       "3                         65.322284                       186.106379   \n",
       "4                         22.168704                        79.528503   \n",
       "\n",
       "   aisle_prod_add_to_cart_order_mean  aisle_prod_add_to_cart_order_std  \\\n",
       "0                           8.818574                          1.806635   \n",
       "1                           9.358910                          2.217766   \n",
       "2                           9.891664                          2.654259   \n",
       "3                          10.449979                          2.380114   \n",
       "4                          10.370530                          2.503755   \n",
       "\n",
       "   department_id  aisle_reorder_ratio  aisle_user_reorder_ratio  \n",
       "0             20             0.596597                  0.397505  \n",
       "1             16             0.489326                  0.326141  \n",
       "2             19             0.598007                  0.411568  \n",
       "3              9             0.489533                  0.346238  \n",
       "4             13             0.280627                  0.201632  "
      ]
     },
     "execution_count": 74,
     "metadata": {},
     "output_type": "execute_result"
    }
   ],
   "source": [
    "aisle_info.head()"
   ]
  },
  {
   "cell_type": "code",
   "execution_count": 79,
   "metadata": {
    "collapsed": true
   },
   "outputs": [],
   "source": [
    "#pickle.dump(aisle_info, open('data/pickle_files/aisle_info.p', 'wb'))"
   ]
  },
  {
   "cell_type": "code",
   "execution_count": 80,
   "metadata": {
    "collapsed": true
   },
   "outputs": [],
   "source": [
    "agg_to_department = {\n",
    "    'aisle_prod_user_num_sum':['sum'], \n",
    "    'aisle_prod_user_num_mean':['mean', 'std'], \n",
    "    'aisle_prod_order_num_sum':['sum'],\n",
    "    'aisle_prod_order_num_mean': ['mean','std'],\n",
    "    'aisle_prod_add_to_cart_order_mean': ['mean','std'],\n",
    "    'aisle_prod_reorder_num_sum': ['sum'],\n",
    "    'aisle_prod_reorder_num_mean': ['mean', 'std'],\n",
    "    'aisle_prod_reorder_user_num_sum': ['sum'],\n",
    "    'aisle_prod_reorder_user_num_mean': ['mean', 'std'],\n",
    "    'aisle_prod_add_to_cart_order_mean': ['mean', 'std']\n",
    "}"
   ]
  },
  {
   "cell_type": "code",
   "execution_count": 81,
   "metadata": {
    "collapsed": true
   },
   "outputs": [],
   "source": [
    "department_info = aisle_info.groupby('department_id').agg(agg_to_department)"
   ]
  },
  {
   "cell_type": "code",
   "execution_count": 82,
   "metadata": {
    "collapsed": true
   },
   "outputs": [],
   "source": [
    "department_info.columns = [\"_\".join(x) for x in department_info.columns.ravel()]"
   ]
  },
  {
   "cell_type": "code",
   "execution_count": 83,
   "metadata": {
    "collapsed": true
   },
   "outputs": [],
   "source": [
    "department_info.rename(columns = {'aisle_prod_user_num_sum_sum': 'department_prod_user_num_sum', 'aisle_prod_user_num_mean_mean': 'department_prod_user_num_mean', 'aisle_prod_user_num_mean_std': 'department_prod_user_num_std', 'aisle_prod_order_num_sum_sum': 'department_prod_order_num_sum', 'aisle_prod_order_num_mean_mean': 'department_prod_order_num_mean', 'aisle_prod_order_num_mean_std': 'department_prod_order_num_std', 'aisle_prod_add_to_cart_order_mean_mean': 'department_prod_add_to_cart_order_mean', 'aisle_prod_add_to_cart_order_mean_std': 'department_prod_add_to_cart_order_std', 'aisle_prod_reorder_num_sum_sum': 'department_prod_reorder_num_sum', 'aisle_prod_reorder_num_mean_mean': 'department_prod_reorder_num_mean', 'aisle_prod_reorder_num_mean_std': 'department_prod_reorder_num_std', 'aisle_prod_reorder_user_num_sum_sum': 'department_prod_reorder_user_num_sum', 'aisle_prod_reorder_user_num_mean_mean': 'department_prod_reorder_user_num_mean', 'aisle_prod_reorder_user_num_mean_std': 'department_prod_reorder_user_num_std'}, inplace=True)"
   ]
  },
  {
   "cell_type": "code",
   "execution_count": 84,
   "metadata": {
    "collapsed": true
   },
   "outputs": [],
   "source": [
    "department_info.reset_index(inplace=True)"
   ]
  },
  {
   "cell_type": "code",
   "execution_count": null,
   "metadata": {
    "collapsed": true
   },
   "outputs": [],
   "source": [
    "department_info.fillna(department_info.mean(), inplace = True)"
   ]
  },
  {
   "cell_type": "code",
   "execution_count": 16,
   "metadata": {},
   "outputs": [
    {
     "data": {
      "text/html": [
       "<div>\n",
       "<style>\n",
       "    .dataframe thead tr:only-child th {\n",
       "        text-align: right;\n",
       "    }\n",
       "\n",
       "    .dataframe thead th {\n",
       "        text-align: left;\n",
       "    }\n",
       "\n",
       "    .dataframe tbody tr th {\n",
       "        vertical-align: top;\n",
       "    }\n",
       "</style>\n",
       "<table border=\"1\" class=\"dataframe\">\n",
       "  <thead>\n",
       "    <tr style=\"text-align: right;\">\n",
       "      <th></th>\n",
       "      <th>department_id</th>\n",
       "      <th>department_prod_user_num_sum</th>\n",
       "      <th>department_prod_user_num_mean</th>\n",
       "      <th>department_prod_user_num_std</th>\n",
       "      <th>department_prod_order_num_sum</th>\n",
       "      <th>department_prod_order_num_mean</th>\n",
       "      <th>department_prod_order_num_std</th>\n",
       "      <th>department_prod_add_to_cart_order_mean</th>\n",
       "      <th>department_prod_add_to_cart_order_std</th>\n",
       "      <th>department_prod_reorder_num_sum</th>\n",
       "      <th>department_prod_reorder_num_mean</th>\n",
       "      <th>department_prod_reorder_num_std</th>\n",
       "      <th>department_prod_reorder_user_num_sum</th>\n",
       "      <th>department_prod_reorder_user_num_mean</th>\n",
       "      <th>department_prod_reorder_user_num_std</th>\n",
       "    </tr>\n",
       "  </thead>\n",
       "  <tbody>\n",
       "    <tr>\n",
       "      <th>0</th>\n",
       "      <td>1</td>\n",
       "      <td>1024542</td>\n",
       "      <td>236.481141</td>\n",
       "      <td>157.357773</td>\n",
       "      <td>2236432</td>\n",
       "      <td>521.277099</td>\n",
       "      <td>357.891529</td>\n",
       "      <td>9.448644</td>\n",
       "      <td>0.410135</td>\n",
       "      <td>1211890.0</td>\n",
       "      <td>284.795958</td>\n",
       "      <td>203.467608</td>\n",
       "      <td>384906.0</td>\n",
       "      <td>89.447962</td>\n",
       "      <td>62.441625</td>\n",
       "    </tr>\n",
       "    <tr>\n",
       "      <th>1</th>\n",
       "      <td>2</td>\n",
       "      <td>21485</td>\n",
       "      <td>39.206204</td>\n",
       "      <td>140.801184</td>\n",
       "      <td>36291</td>\n",
       "      <td>66.224453</td>\n",
       "      <td>440.523334</td>\n",
       "      <td>8.194178</td>\n",
       "      <td>0.660021</td>\n",
       "      <td>14806.0</td>\n",
       "      <td>27.018248</td>\n",
       "      <td>310.080199</td>\n",
       "      <td>5242.0</td>\n",
       "      <td>9.565693</td>\n",
       "      <td>68.354231</td>\n",
       "    </tr>\n",
       "    <tr>\n",
       "      <th>2</th>\n",
       "      <td>3</td>\n",
       "      <td>437599</td>\n",
       "      <td>284.799407</td>\n",
       "      <td>133.339532</td>\n",
       "      <td>1176787</td>\n",
       "      <td>731.722032</td>\n",
       "      <td>402.974496</td>\n",
       "      <td>8.688531</td>\n",
       "      <td>0.679768</td>\n",
       "      <td>739188.0</td>\n",
       "      <td>446.922625</td>\n",
       "      <td>279.338436</td>\n",
       "      <td>191404.0</td>\n",
       "      <td>120.370615</td>\n",
       "      <td>64.988071</td>\n",
       "    </tr>\n",
       "    <tr>\n",
       "      <th>3</th>\n",
       "      <td>4</td>\n",
       "      <td>3318581</td>\n",
       "      <td>2190.172202</td>\n",
       "      <td>683.524710</td>\n",
       "      <td>9479291</td>\n",
       "      <td>6286.046039</td>\n",
       "      <td>2799.902559</td>\n",
       "      <td>8.410426</td>\n",
       "      <td>1.865486</td>\n",
       "      <td>6160710.0</td>\n",
       "      <td>4095.873837</td>\n",
       "      <td>2222.922021</td>\n",
       "      <td>1598097.0</td>\n",
       "      <td>1047.023084</td>\n",
       "      <td>403.342103</td>\n",
       "    </tr>\n",
       "    <tr>\n",
       "      <th>4</th>\n",
       "      <td>5</td>\n",
       "      <td>66101</td>\n",
       "      <td>64.488959</td>\n",
       "      <td>8.432910</td>\n",
       "      <td>153696</td>\n",
       "      <td>149.577623</td>\n",
       "      <td>35.271070</td>\n",
       "      <td>6.270197</td>\n",
       "      <td>0.480617</td>\n",
       "      <td>87595.0</td>\n",
       "      <td>85.088664</td>\n",
       "      <td>27.718302</td>\n",
       "      <td>24289.0</td>\n",
       "      <td>23.233552</td>\n",
       "      <td>5.400507</td>\n",
       "    </tr>\n",
       "  </tbody>\n",
       "</table>\n",
       "</div>"
      ],
      "text/plain": [
       "   department_id  department_prod_user_num_sum  department_prod_user_num_mean  \\\n",
       "0              1                       1024542                     236.481141   \n",
       "1              2                         21485                      39.206204   \n",
       "2              3                        437599                     284.799407   \n",
       "3              4                       3318581                    2190.172202   \n",
       "4              5                         66101                      64.488959   \n",
       "\n",
       "   department_prod_user_num_std  department_prod_order_num_sum  \\\n",
       "0                    157.357773                        2236432   \n",
       "1                    140.801184                          36291   \n",
       "2                    133.339532                        1176787   \n",
       "3                    683.524710                        9479291   \n",
       "4                      8.432910                         153696   \n",
       "\n",
       "   department_prod_order_num_mean  department_prod_order_num_std  \\\n",
       "0                      521.277099                     357.891529   \n",
       "1                       66.224453                     440.523334   \n",
       "2                      731.722032                     402.974496   \n",
       "3                     6286.046039                    2799.902559   \n",
       "4                      149.577623                      35.271070   \n",
       "\n",
       "   department_prod_add_to_cart_order_mean  \\\n",
       "0                                9.448644   \n",
       "1                                8.194178   \n",
       "2                                8.688531   \n",
       "3                                8.410426   \n",
       "4                                6.270197   \n",
       "\n",
       "   department_prod_add_to_cart_order_std  department_prod_reorder_num_sum  \\\n",
       "0                               0.410135                        1211890.0   \n",
       "1                               0.660021                          14806.0   \n",
       "2                               0.679768                         739188.0   \n",
       "3                               1.865486                        6160710.0   \n",
       "4                               0.480617                          87595.0   \n",
       "\n",
       "   department_prod_reorder_num_mean  department_prod_reorder_num_std  \\\n",
       "0                        284.795958                       203.467608   \n",
       "1                         27.018248                       310.080199   \n",
       "2                        446.922625                       279.338436   \n",
       "3                       4095.873837                      2222.922021   \n",
       "4                         85.088664                        27.718302   \n",
       "\n",
       "   department_prod_reorder_user_num_sum  \\\n",
       "0                              384906.0   \n",
       "1                                5242.0   \n",
       "2                              191404.0   \n",
       "3                             1598097.0   \n",
       "4                               24289.0   \n",
       "\n",
       "   department_prod_reorder_user_num_mean  department_prod_reorder_user_num_std  \n",
       "0                              89.447962                             62.441625  \n",
       "1                               9.565693                             68.354231  \n",
       "2                             120.370615                             64.988071  \n",
       "3                            1047.023084                            403.342103  \n",
       "4                              23.233552                              5.400507  "
      ]
     },
     "execution_count": 16,
     "metadata": {},
     "output_type": "execute_result"
    }
   ],
   "source": [
    "department_info.head()"
   ]
  },
  {
   "cell_type": "code",
   "execution_count": 17,
   "metadata": {
    "collapsed": true
   },
   "outputs": [],
   "source": [
    "#pickle.dump(department_info, open('data/pickle_files/department_info.p', 'wb'))"
   ]
  },
  {
   "cell_type": "markdown",
   "metadata": {},
   "source": [
    "## Baseline"
   ]
  },
  {
   "cell_type": "code",
   "execution_count": 158,
   "metadata": {
    "collapsed": true
   },
   "outputs": [],
   "source": [
    "master_prior_df = pd.merge(user_product_info.reset_index(), user_info.reset_index(), on='user_id', how='left')"
   ]
  },
  {
   "cell_type": "code",
   "execution_count": 159,
   "metadata": {
    "collapsed": true
   },
   "outputs": [],
   "source": [
    "master_prior_df = pd.merge(master_prior_df, product_info.reset_index(), on='product_id', how = 'left')"
   ]
  },
  {
   "cell_type": "code",
   "execution_count": 161,
   "metadata": {
    "collapsed": true
   },
   "outputs": [],
   "source": [
    "#pickle.dump(master_prior_df, open('data/master_prior_df.p', 'wb'))"
   ]
  },
  {
   "cell_type": "code",
   "execution_count": 162,
   "metadata": {
    "collapsed": true
   },
   "outputs": [],
   "source": [
    "train_users = orders[orders.eval_set == 'train'].user_id"
   ]
  },
  {
   "cell_type": "code",
   "execution_count": 163,
   "metadata": {},
   "outputs": [
    {
     "data": {
      "text/plain": [
       "10    1\n",
       "25    2\n",
       "49    5\n",
       "74    7\n",
       "78    8\n",
       "Name: user_id, dtype: uint32"
      ]
     },
     "execution_count": 163,
     "metadata": {},
     "output_type": "execute_result"
    }
   ],
   "source": [
    "train_users.head()"
   ]
  },
  {
   "cell_type": "code",
   "execution_count": 164,
   "metadata": {
    "collapsed": true
   },
   "outputs": [],
   "source": [
    "traindf = master_prior_df[master_prior_df.user_id.isin(train_users)]"
   ]
  },
  {
   "cell_type": "code",
   "execution_count": 165,
   "metadata": {
    "collapsed": true
   },
   "outputs": [],
   "source": [
    "traindf = pd.merge(traindf, orders[orders.eval_set == 'train'], on='user_id', how = 'left')"
   ]
  },
  {
   "cell_type": "code",
   "execution_count": 166,
   "metadata": {
    "collapsed": true
   },
   "outputs": [],
   "source": [
    "traindf = pd.merge(traindf, order_product_train, on =['order_id', 'product_id'], how = 'left')"
   ]
  },
  {
   "cell_type": "code",
   "execution_count": 167,
   "metadata": {},
   "outputs": [
    {
     "data": {
      "text/plain": [
       "Index(['user_id', 'product_id', 'user_product_purchase_count',\n",
       "       'user_product_last_purchase_day',\n",
       "       'user_product_average_purchase_interval', 'user_product_rank',\n",
       "       'user_product_avg_add_order', 'user_count_of_order',\n",
       "       'user_average_order_interval', 'user_average_basket_size',\n",
       "       'product_user_count', 'product_order_count',\n",
       "       'product_average_purchase_interval', 'product_reorder_count',\n",
       "       'reorder_ratio', 'average_add_to_cart_order', 'order_id', 'eval_set',\n",
       "       'order_number', 'order_dow', 'order_hour_of_day',\n",
       "       'days_since_prior_order', 'add_to_cart_order', 'reordered'],\n",
       "      dtype='object')"
      ]
     },
     "execution_count": 167,
     "metadata": {},
     "output_type": "execute_result"
    }
   ],
   "source": [
    "traindf.columns"
   ]
  },
  {
   "cell_type": "code",
   "execution_count": 168,
   "metadata": {
    "collapsed": true
   },
   "outputs": [],
   "source": [
    "traindf.reordered.fillna(0, inplace = True)"
   ]
  },
  {
   "cell_type": "code",
   "execution_count": 169,
   "metadata": {},
   "outputs": [
    {
     "data": {
      "text/plain": [
       "0.0    7645837\n",
       "1.0     828824\n",
       "Name: reordered, dtype: int64"
      ]
     },
     "execution_count": 169,
     "metadata": {},
     "output_type": "execute_result"
    }
   ],
   "source": [
    "traindf.reordered.value_counts()"
   ]
  },
  {
   "cell_type": "code",
   "execution_count": 170,
   "metadata": {
    "collapsed": true
   },
   "outputs": [],
   "source": [
    "traindf.rename(columns = {'reordered': 'y'}, inplace = True)"
   ]
  },
  {
   "cell_type": "code",
   "execution_count": 171,
   "metadata": {},
   "outputs": [
    {
     "data": {
      "text/plain": [
       "Index(['user_id', 'product_id', 'user_product_purchase_count',\n",
       "       'user_product_last_purchase_day',\n",
       "       'user_product_average_purchase_interval', 'user_product_rank',\n",
       "       'user_product_avg_add_order', 'user_count_of_order',\n",
       "       'user_average_order_interval', 'user_average_basket_size',\n",
       "       'product_user_count', 'product_order_count',\n",
       "       'product_average_purchase_interval', 'product_reorder_count',\n",
       "       'reorder_ratio', 'average_add_to_cart_order', 'order_id', 'eval_set',\n",
       "       'order_number', 'order_dow', 'order_hour_of_day',\n",
       "       'days_since_prior_order', 'add_to_cart_order', 'y'],\n",
       "      dtype='object')"
      ]
     },
     "execution_count": 171,
     "metadata": {},
     "output_type": "execute_result"
    }
   ],
   "source": [
    "traindf.columns"
   ]
  },
  {
   "cell_type": "code",
   "execution_count": 172,
   "metadata": {},
   "outputs": [
    {
     "data": {
      "text/html": [
       "<div>\n",
       "<style>\n",
       "    .dataframe thead tr:only-child th {\n",
       "        text-align: right;\n",
       "    }\n",
       "\n",
       "    .dataframe thead th {\n",
       "        text-align: left;\n",
       "    }\n",
       "\n",
       "    .dataframe tbody tr th {\n",
       "        vertical-align: top;\n",
       "    }\n",
       "</style>\n",
       "<table border=\"1\" class=\"dataframe\">\n",
       "  <thead>\n",
       "    <tr style=\"text-align: right;\">\n",
       "      <th></th>\n",
       "      <th>user_id</th>\n",
       "      <th>product_id</th>\n",
       "      <th>user_product_purchase_count</th>\n",
       "      <th>user_product_last_purchase_day</th>\n",
       "      <th>user_product_average_purchase_interval</th>\n",
       "      <th>user_product_rank</th>\n",
       "      <th>user_product_avg_add_order</th>\n",
       "      <th>user_count_of_order</th>\n",
       "      <th>user_average_order_interval</th>\n",
       "      <th>user_average_basket_size</th>\n",
       "      <th>...</th>\n",
       "      <th>reorder_ratio</th>\n",
       "      <th>average_add_to_cart_order</th>\n",
       "      <th>order_id</th>\n",
       "      <th>eval_set</th>\n",
       "      <th>order_number</th>\n",
       "      <th>order_dow</th>\n",
       "      <th>order_hour_of_day</th>\n",
       "      <th>days_since_prior_order</th>\n",
       "      <th>add_to_cart_order</th>\n",
       "      <th>y</th>\n",
       "    </tr>\n",
       "  </thead>\n",
       "  <tbody>\n",
       "    <tr>\n",
       "      <th>0</th>\n",
       "      <td>1</td>\n",
       "      <td>196</td>\n",
       "      <td>10</td>\n",
       "      <td>176</td>\n",
       "      <td>19.555555</td>\n",
       "      <td>1.5</td>\n",
       "      <td>1</td>\n",
       "      <td>10</td>\n",
       "      <td>19.555555</td>\n",
       "      <td>5.9</td>\n",
       "      <td>...</td>\n",
       "      <td>0.776480</td>\n",
       "      <td>3</td>\n",
       "      <td>1187899</td>\n",
       "      <td>train</td>\n",
       "      <td>11</td>\n",
       "      <td>4</td>\n",
       "      <td>8</td>\n",
       "      <td>14.0</td>\n",
       "      <td>1.0</td>\n",
       "      <td>1.0</td>\n",
       "    </tr>\n",
       "    <tr>\n",
       "      <th>1</th>\n",
       "      <td>1</td>\n",
       "      <td>10258</td>\n",
       "      <td>9</td>\n",
       "      <td>176</td>\n",
       "      <td>20.125000</td>\n",
       "      <td>3.0</td>\n",
       "      <td>3</td>\n",
       "      <td>10</td>\n",
       "      <td>19.555555</td>\n",
       "      <td>5.9</td>\n",
       "      <td>...</td>\n",
       "      <td>0.713772</td>\n",
       "      <td>4</td>\n",
       "      <td>1187899</td>\n",
       "      <td>train</td>\n",
       "      <td>11</td>\n",
       "      <td>4</td>\n",
       "      <td>8</td>\n",
       "      <td>14.0</td>\n",
       "      <td>6.0</td>\n",
       "      <td>1.0</td>\n",
       "    </tr>\n",
       "    <tr>\n",
       "      <th>2</th>\n",
       "      <td>1</td>\n",
       "      <td>10326</td>\n",
       "      <td>1</td>\n",
       "      <td>93</td>\n",
       "      <td>NaN</td>\n",
       "      <td>14.5</td>\n",
       "      <td>5</td>\n",
       "      <td>10</td>\n",
       "      <td>19.555555</td>\n",
       "      <td>5.9</td>\n",
       "      <td>...</td>\n",
       "      <td>0.652009</td>\n",
       "      <td>4</td>\n",
       "      <td>1187899</td>\n",
       "      <td>train</td>\n",
       "      <td>11</td>\n",
       "      <td>4</td>\n",
       "      <td>8</td>\n",
       "      <td>14.0</td>\n",
       "      <td>NaN</td>\n",
       "      <td>0.0</td>\n",
       "    </tr>\n",
       "    <tr>\n",
       "      <th>3</th>\n",
       "      <td>1</td>\n",
       "      <td>12427</td>\n",
       "      <td>10</td>\n",
       "      <td>176</td>\n",
       "      <td>19.555555</td>\n",
       "      <td>1.5</td>\n",
       "      <td>3</td>\n",
       "      <td>10</td>\n",
       "      <td>19.555555</td>\n",
       "      <td>5.9</td>\n",
       "      <td>...</td>\n",
       "      <td>0.740735</td>\n",
       "      <td>4</td>\n",
       "      <td>1187899</td>\n",
       "      <td>train</td>\n",
       "      <td>11</td>\n",
       "      <td>4</td>\n",
       "      <td>8</td>\n",
       "      <td>14.0</td>\n",
       "      <td>NaN</td>\n",
       "      <td>0.0</td>\n",
       "    </tr>\n",
       "    <tr>\n",
       "      <th>4</th>\n",
       "      <td>1</td>\n",
       "      <td>13032</td>\n",
       "      <td>3</td>\n",
       "      <td>176</td>\n",
       "      <td>80.500000</td>\n",
       "      <td>5.5</td>\n",
       "      <td>6</td>\n",
       "      <td>10</td>\n",
       "      <td>19.555555</td>\n",
       "      <td>5.9</td>\n",
       "      <td>...</td>\n",
       "      <td>0.657158</td>\n",
       "      <td>5</td>\n",
       "      <td>1187899</td>\n",
       "      <td>train</td>\n",
       "      <td>11</td>\n",
       "      <td>4</td>\n",
       "      <td>8</td>\n",
       "      <td>14.0</td>\n",
       "      <td>7.0</td>\n",
       "      <td>1.0</td>\n",
       "    </tr>\n",
       "  </tbody>\n",
       "</table>\n",
       "<p>5 rows × 24 columns</p>\n",
       "</div>"
      ],
      "text/plain": [
       "   user_id  product_id  user_product_purchase_count  \\\n",
       "0        1         196                           10   \n",
       "1        1       10258                            9   \n",
       "2        1       10326                            1   \n",
       "3        1       12427                           10   \n",
       "4        1       13032                            3   \n",
       "\n",
       "   user_product_last_purchase_day  user_product_average_purchase_interval  \\\n",
       "0                             176                               19.555555   \n",
       "1                             176                               20.125000   \n",
       "2                              93                                     NaN   \n",
       "3                             176                               19.555555   \n",
       "4                             176                               80.500000   \n",
       "\n",
       "   user_product_rank  user_product_avg_add_order  user_count_of_order  \\\n",
       "0                1.5                           1                   10   \n",
       "1                3.0                           3                   10   \n",
       "2               14.5                           5                   10   \n",
       "3                1.5                           3                   10   \n",
       "4                5.5                           6                   10   \n",
       "\n",
       "   user_average_order_interval  user_average_basket_size ...   reorder_ratio  \\\n",
       "0                    19.555555                       5.9 ...        0.776480   \n",
       "1                    19.555555                       5.9 ...        0.713772   \n",
       "2                    19.555555                       5.9 ...        0.652009   \n",
       "3                    19.555555                       5.9 ...        0.740735   \n",
       "4                    19.555555                       5.9 ...        0.657158   \n",
       "\n",
       "   average_add_to_cart_order  order_id  eval_set  order_number  order_dow  \\\n",
       "0                          3   1187899     train            11          4   \n",
       "1                          4   1187899     train            11          4   \n",
       "2                          4   1187899     train            11          4   \n",
       "3                          4   1187899     train            11          4   \n",
       "4                          5   1187899     train            11          4   \n",
       "\n",
       "   order_hour_of_day days_since_prior_order  add_to_cart_order    y  \n",
       "0                  8                   14.0                1.0  1.0  \n",
       "1                  8                   14.0                6.0  1.0  \n",
       "2                  8                   14.0                NaN  0.0  \n",
       "3                  8                   14.0                NaN  0.0  \n",
       "4                  8                   14.0                7.0  1.0  \n",
       "\n",
       "[5 rows x 24 columns]"
      ]
     },
     "execution_count": 172,
     "metadata": {},
     "output_type": "execute_result"
    }
   ],
   "source": [
    "traindf.head()"
   ]
  },
  {
   "cell_type": "code",
   "execution_count": 173,
   "metadata": {
    "collapsed": true
   },
   "outputs": [],
   "source": [
    "traindf['y_baseline'] = np.where(traindf.user_product_rank < traindf.user_average_basket_size, 1, 0)"
   ]
  },
  {
   "cell_type": "code",
   "execution_count": 174,
   "metadata": {},
   "outputs": [
    {
     "data": {
      "text/html": [
       "<div>\n",
       "<style>\n",
       "    .dataframe thead tr:only-child th {\n",
       "        text-align: right;\n",
       "    }\n",
       "\n",
       "    .dataframe thead th {\n",
       "        text-align: left;\n",
       "    }\n",
       "\n",
       "    .dataframe tbody tr th {\n",
       "        vertical-align: top;\n",
       "    }\n",
       "</style>\n",
       "<table border=\"1\" class=\"dataframe\">\n",
       "  <thead>\n",
       "    <tr style=\"text-align: right;\">\n",
       "      <th></th>\n",
       "      <th>user_id</th>\n",
       "      <th>product_id</th>\n",
       "      <th>user_product_purchase_count</th>\n",
       "      <th>user_product_last_purchase_day</th>\n",
       "      <th>user_product_average_purchase_interval</th>\n",
       "      <th>user_product_rank</th>\n",
       "      <th>user_product_avg_add_order</th>\n",
       "      <th>user_count_of_order</th>\n",
       "      <th>user_average_order_interval</th>\n",
       "      <th>user_average_basket_size</th>\n",
       "      <th>...</th>\n",
       "      <th>average_add_to_cart_order</th>\n",
       "      <th>order_id</th>\n",
       "      <th>eval_set</th>\n",
       "      <th>order_number</th>\n",
       "      <th>order_dow</th>\n",
       "      <th>order_hour_of_day</th>\n",
       "      <th>days_since_prior_order</th>\n",
       "      <th>add_to_cart_order</th>\n",
       "      <th>y</th>\n",
       "      <th>y_predicted</th>\n",
       "    </tr>\n",
       "  </thead>\n",
       "  <tbody>\n",
       "    <tr>\n",
       "      <th>0</th>\n",
       "      <td>1</td>\n",
       "      <td>196</td>\n",
       "      <td>10</td>\n",
       "      <td>176</td>\n",
       "      <td>19.555555</td>\n",
       "      <td>1.5</td>\n",
       "      <td>1</td>\n",
       "      <td>10</td>\n",
       "      <td>19.555555</td>\n",
       "      <td>5.9</td>\n",
       "      <td>...</td>\n",
       "      <td>3</td>\n",
       "      <td>1187899</td>\n",
       "      <td>train</td>\n",
       "      <td>11</td>\n",
       "      <td>4</td>\n",
       "      <td>8</td>\n",
       "      <td>14.0</td>\n",
       "      <td>1.0</td>\n",
       "      <td>1.0</td>\n",
       "      <td>1</td>\n",
       "    </tr>\n",
       "    <tr>\n",
       "      <th>1</th>\n",
       "      <td>1</td>\n",
       "      <td>10258</td>\n",
       "      <td>9</td>\n",
       "      <td>176</td>\n",
       "      <td>20.125000</td>\n",
       "      <td>3.0</td>\n",
       "      <td>3</td>\n",
       "      <td>10</td>\n",
       "      <td>19.555555</td>\n",
       "      <td>5.9</td>\n",
       "      <td>...</td>\n",
       "      <td>4</td>\n",
       "      <td>1187899</td>\n",
       "      <td>train</td>\n",
       "      <td>11</td>\n",
       "      <td>4</td>\n",
       "      <td>8</td>\n",
       "      <td>14.0</td>\n",
       "      <td>6.0</td>\n",
       "      <td>1.0</td>\n",
       "      <td>1</td>\n",
       "    </tr>\n",
       "    <tr>\n",
       "      <th>2</th>\n",
       "      <td>1</td>\n",
       "      <td>10326</td>\n",
       "      <td>1</td>\n",
       "      <td>93</td>\n",
       "      <td>NaN</td>\n",
       "      <td>14.5</td>\n",
       "      <td>5</td>\n",
       "      <td>10</td>\n",
       "      <td>19.555555</td>\n",
       "      <td>5.9</td>\n",
       "      <td>...</td>\n",
       "      <td>4</td>\n",
       "      <td>1187899</td>\n",
       "      <td>train</td>\n",
       "      <td>11</td>\n",
       "      <td>4</td>\n",
       "      <td>8</td>\n",
       "      <td>14.0</td>\n",
       "      <td>NaN</td>\n",
       "      <td>0.0</td>\n",
       "      <td>0</td>\n",
       "    </tr>\n",
       "    <tr>\n",
       "      <th>3</th>\n",
       "      <td>1</td>\n",
       "      <td>12427</td>\n",
       "      <td>10</td>\n",
       "      <td>176</td>\n",
       "      <td>19.555555</td>\n",
       "      <td>1.5</td>\n",
       "      <td>3</td>\n",
       "      <td>10</td>\n",
       "      <td>19.555555</td>\n",
       "      <td>5.9</td>\n",
       "      <td>...</td>\n",
       "      <td>4</td>\n",
       "      <td>1187899</td>\n",
       "      <td>train</td>\n",
       "      <td>11</td>\n",
       "      <td>4</td>\n",
       "      <td>8</td>\n",
       "      <td>14.0</td>\n",
       "      <td>NaN</td>\n",
       "      <td>0.0</td>\n",
       "      <td>1</td>\n",
       "    </tr>\n",
       "    <tr>\n",
       "      <th>4</th>\n",
       "      <td>1</td>\n",
       "      <td>13032</td>\n",
       "      <td>3</td>\n",
       "      <td>176</td>\n",
       "      <td>80.500000</td>\n",
       "      <td>5.5</td>\n",
       "      <td>6</td>\n",
       "      <td>10</td>\n",
       "      <td>19.555555</td>\n",
       "      <td>5.9</td>\n",
       "      <td>...</td>\n",
       "      <td>5</td>\n",
       "      <td>1187899</td>\n",
       "      <td>train</td>\n",
       "      <td>11</td>\n",
       "      <td>4</td>\n",
       "      <td>8</td>\n",
       "      <td>14.0</td>\n",
       "      <td>7.0</td>\n",
       "      <td>1.0</td>\n",
       "      <td>1</td>\n",
       "    </tr>\n",
       "  </tbody>\n",
       "</table>\n",
       "<p>5 rows × 25 columns</p>\n",
       "</div>"
      ],
      "text/plain": [
       "   user_id  product_id  user_product_purchase_count  \\\n",
       "0        1         196                           10   \n",
       "1        1       10258                            9   \n",
       "2        1       10326                            1   \n",
       "3        1       12427                           10   \n",
       "4        1       13032                            3   \n",
       "\n",
       "   user_product_last_purchase_day  user_product_average_purchase_interval  \\\n",
       "0                             176                               19.555555   \n",
       "1                             176                               20.125000   \n",
       "2                              93                                     NaN   \n",
       "3                             176                               19.555555   \n",
       "4                             176                               80.500000   \n",
       "\n",
       "   user_product_rank  user_product_avg_add_order  user_count_of_order  \\\n",
       "0                1.5                           1                   10   \n",
       "1                3.0                           3                   10   \n",
       "2               14.5                           5                   10   \n",
       "3                1.5                           3                   10   \n",
       "4                5.5                           6                   10   \n",
       "\n",
       "   user_average_order_interval  user_average_basket_size     ...       \\\n",
       "0                    19.555555                       5.9     ...        \n",
       "1                    19.555555                       5.9     ...        \n",
       "2                    19.555555                       5.9     ...        \n",
       "3                    19.555555                       5.9     ...        \n",
       "4                    19.555555                       5.9     ...        \n",
       "\n",
       "   average_add_to_cart_order  order_id  eval_set  order_number  order_dow  \\\n",
       "0                          3   1187899     train            11          4   \n",
       "1                          4   1187899     train            11          4   \n",
       "2                          4   1187899     train            11          4   \n",
       "3                          4   1187899     train            11          4   \n",
       "4                          5   1187899     train            11          4   \n",
       "\n",
       "   order_hour_of_day  days_since_prior_order add_to_cart_order    y  \\\n",
       "0                  8                    14.0               1.0  1.0   \n",
       "1                  8                    14.0               6.0  1.0   \n",
       "2                  8                    14.0               NaN  0.0   \n",
       "3                  8                    14.0               NaN  0.0   \n",
       "4                  8                    14.0               7.0  1.0   \n",
       "\n",
       "   y_predicted  \n",
       "0            1  \n",
       "1            1  \n",
       "2            0  \n",
       "3            1  \n",
       "4            1  \n",
       "\n",
       "[5 rows x 25 columns]"
      ]
     },
     "execution_count": 174,
     "metadata": {},
     "output_type": "execute_result"
    }
   ],
   "source": [
    "traindf.head()"
   ]
  },
  {
   "cell_type": "code",
   "execution_count": 175,
   "metadata": {
    "collapsed": true
   },
   "outputs": [],
   "source": [
    "from sklearn.metrics import f1_score"
   ]
  },
  {
   "cell_type": "code",
   "execution_count": 176,
   "metadata": {
    "scrolled": true
   },
   "outputs": [
    {
     "data": {
      "text/plain": [
       "0.37379894766909949"
      ]
     },
     "execution_count": 176,
     "metadata": {},
     "output_type": "execute_result"
    }
   ],
   "source": [
    "f1_score(traindf.y, traindf.y_predicted)"
   ]
  },
  {
   "cell_type": "markdown",
   "metadata": {},
   "source": [
    "## Models!"
   ]
  },
  {
   "cell_type": "code",
   "execution_count": 1,
   "metadata": {
    "collapsed": true
   },
   "outputs": [],
   "source": [
    "import numpy as np\n",
    "import pandas as pd\n",
    "import matplotlib.pyplot as plt\n",
    "import pickle\n",
    "\n",
    "%matplotlib inline "
   ]
  },
  {
   "cell_type": "code",
   "execution_count": 2,
   "metadata": {
    "collapsed": true
   },
   "outputs": [],
   "source": [
    "pd.set_option('display.max_rows', 100)\n",
    "pd.set_option('display.max_columns', 100)"
   ]
  },
  {
   "cell_type": "code",
   "execution_count": 3,
   "metadata": {
    "collapsed": true
   },
   "outputs": [],
   "source": [
    "from sklearn.neighbors import KNeighborsClassifier\n",
    "from sklearn.model_selection import train_test_split, cross_val_score, learning_curve, KFold, GridSearchCV, GroupKFold\n",
    "from sklearn.linear_model import LogisticRegression\n",
    "from sklearn.metrics import accuracy_score\n",
    "from sklearn.naive_bayes import GaussianNB\n",
    "from sklearn.svm import SVC\n",
    "from sklearn.tree import DecisionTreeClassifier\n",
    "from sklearn.ensemble import RandomForestClassifier\n",
    "from sklearn.preprocessing import MinMaxScaler\n",
    "from sklearn.neighbors import KNeighborsClassifier\n",
    "from sklearn.metrics import roc_curve,auc,accuracy_score,recall_score,precision_score,f1_score\n",
    "from xgboost import XGBClassifier"
   ]
  },
  {
   "cell_type": "code",
   "execution_count": 4,
   "metadata": {
    "collapsed": true
   },
   "outputs": [],
   "source": [
    "aisles = pd.read_csv('data/aisles.csv', dtype = {\n",
    "    'aisle_id': np.uint16,\n",
    "    'aisle': np.str},\n",
    "    usecols=['aisle_id', 'aisle'])"
   ]
  },
  {
   "cell_type": "code",
   "execution_count": 5,
   "metadata": {
    "collapsed": true
   },
   "outputs": [],
   "source": [
    "departments = pd.read_csv('data/departments.csv', dtype = {\n",
    "    'department_id': np.uint16,\n",
    "    'department': np.str},\n",
    "    usecols=['department_id', 'department'])"
   ]
  },
  {
   "cell_type": "code",
   "execution_count": 6,
   "metadata": {
    "collapsed": true
   },
   "outputs": [],
   "source": [
    "order_products_prior = pd.read_csv('data/order_products__prior.csv', dtype = {\n",
    "    'order_id': np.uint32,\n",
    "    'product_id': np.uint32,\n",
    "    'add_to_cart_order': np.uint16,\n",
    "    'reordered': np.uint16},\n",
    "    usecols=['order_id', 'product_id', 'add_to_cart_order', 'reordered'])"
   ]
  },
  {
   "cell_type": "code",
   "execution_count": 7,
   "metadata": {
    "collapsed": true
   },
   "outputs": [],
   "source": [
    "order_product_train = pd.read_csv('data/order_products__train.csv', dtype = {\n",
    "    'order_id': np.uint32,\n",
    "    'product_id': np.uint32,\n",
    "    'add_to_cart_order': np.uint16,\n",
    "    'reordered': np.uint16},\n",
    "    usecols=['order_id', 'product_id', 'add_to_cart_order', 'reordered'])"
   ]
  },
  {
   "cell_type": "code",
   "execution_count": 8,
   "metadata": {
    "collapsed": true
   },
   "outputs": [],
   "source": [
    "orders = pd.read_csv('data/orders.csv', dtype = {\n",
    "    'order_id': np.uint32,\n",
    "    'user_id' :np.uint32,\n",
    "    'eval_set': 'category',\n",
    "    'order_number': np.uint16,\n",
    "    'order_dow': np.uint16,\n",
    "    'order_hour_of_day': np.uint8,\n",
    "    'days_since_prior_order': np.float32},\n",
    "                     usecols=['order_id', 'user_id', 'eval_set', 'order_number', 'order_dow', 'order_hour_of_day', 'days_since_prior_order'])"
   ]
  },
  {
   "cell_type": "code",
   "execution_count": 9,
   "metadata": {
    "collapsed": true
   },
   "outputs": [],
   "source": [
    "products = pd.read_csv('data/products.csv', dtype = {'product_id': np.uint16,\n",
    "        'product_name': np.str,\n",
    "        'aisle_id': np.uint16,\n",
    "        'department_id': np.uint16},\n",
    "        usecols=['product_id', 'product_name', 'aisle_id', 'department_id'])"
   ]
  },
  {
   "cell_type": "code",
   "execution_count": 10,
   "metadata": {
    "collapsed": true
   },
   "outputs": [],
   "source": [
    "priordf = pickle.load(open('data/pickle_files/priordf.p', 'rb'))\n",
    "user_info = pickle.load(open('data/pickle_files/user_info.p', 'rb'))\n",
    "product_info = pickle.load(open('data/pickle_files/product_info.p', 'rb'))\n",
    "user_product_info = pickle.load(open('data/pickle_files/user_product_info.p', 'rb'))\n",
    "ordertime_info = pickle.load(open('data/pickle_files/ordertime_info.p', 'rb'))\n",
    "user_ordertime_info = pickle.load(open('data/pickle_files/user_ordertime_info.p', 'rb'))\n",
    "product_ordertime_info = pickle.load(open('data/pickle_files/product_ordertime_info.p', 'rb'))\n",
    "aisle_info = pickle.load(open('data/pickle_files/aisle_info.p', 'rb'))\n",
    "department_info = pickle.load(open('data/pickle_files/department_info.p', 'rb'))"
   ]
  },
  {
   "cell_type": "code",
   "execution_count": 11,
   "metadata": {
    "collapsed": true
   },
   "outputs": [],
   "source": [
    "master_prior_df = pd.merge(user_product_info, user_info, on = 'user_id', how = 'left')"
   ]
  },
  {
   "cell_type": "code",
   "execution_count": 12,
   "metadata": {
    "collapsed": true
   },
   "outputs": [],
   "source": [
    "master_prior_df = pd.merge(master_prior_df, product_info, on = 'product_id', how = 'left')"
   ]
  },
  {
   "cell_type": "code",
   "execution_count": 13,
   "metadata": {
    "collapsed": true
   },
   "outputs": [],
   "source": [
    "master_prior_df = pd.merge(master_prior_df, aisle_info, on = 'aisle_id', how = 'left', suffixes=('', '_y'))"
   ]
  },
  {
   "cell_type": "code",
   "execution_count": 14,
   "metadata": {
    "collapsed": true
   },
   "outputs": [],
   "source": [
    "master_prior_df.drop('department_id_y', axis = 1, inplace=True)"
   ]
  },
  {
   "cell_type": "code",
   "execution_count": 15,
   "metadata": {
    "collapsed": true
   },
   "outputs": [],
   "source": [
    "master_prior_df = pd.merge(master_prior_df, department_info, on = 'department_id', how = 'left', suffixes=('', '_y'))"
   ]
  },
  {
   "cell_type": "code",
   "execution_count": 16,
   "metadata": {
    "collapsed": true
   },
   "outputs": [],
   "source": [
    "train_users = orders[orders.eval_set == 'train'].user_id"
   ]
  },
  {
   "cell_type": "code",
   "execution_count": 17,
   "metadata": {
    "collapsed": true
   },
   "outputs": [],
   "source": [
    "train_df = master_prior_df[master_prior_df.user_id.isin(train_users)]"
   ]
  },
  {
   "cell_type": "code",
   "execution_count": 18,
   "metadata": {},
   "outputs": [
    {
     "data": {
      "text/html": [
       "<div>\n",
       "<style>\n",
       "    .dataframe thead tr:only-child th {\n",
       "        text-align: right;\n",
       "    }\n",
       "\n",
       "    .dataframe thead th {\n",
       "        text-align: left;\n",
       "    }\n",
       "\n",
       "    .dataframe tbody tr th {\n",
       "        vertical-align: top;\n",
       "    }\n",
       "</style>\n",
       "<table border=\"1\" class=\"dataframe\">\n",
       "  <thead>\n",
       "    <tr style=\"text-align: right;\">\n",
       "      <th></th>\n",
       "      <th>user_id</th>\n",
       "      <th>product_id</th>\n",
       "      <th>user_product_order_num</th>\n",
       "      <th>user_product_last_purchase_day</th>\n",
       "      <th>user_product_order_interval_mean</th>\n",
       "      <th>user_product_order_interval_std</th>\n",
       "      <th>user_product_rank</th>\n",
       "      <th>user_product_add_order_mean</th>\n",
       "      <th>user_product_add_order_std</th>\n",
       "      <th>user_product_reorder_ratio</th>\n",
       "      <th>user_product_order_interval_mean_NaN</th>\n",
       "      <th>user_product_order_interval_std_NaN</th>\n",
       "      <th>user_product_add_order_std_NaN</th>\n",
       "      <th>user_order_num</th>\n",
       "      <th>user_order_interval_mean</th>\n",
       "      <th>user_order_interval_std</th>\n",
       "      <th>user_basket_size_mean</th>\n",
       "      <th>user_basket_size_std</th>\n",
       "      <th>user_history</th>\n",
       "      <th>product_user_num</th>\n",
       "      <th>product_order_num</th>\n",
       "      <th>product_order_interval_mean</th>\n",
       "      <th>product_order_interval_std</th>\n",
       "      <th>product_reorder_num</th>\n",
       "      <th>product_reorder_user_num</th>\n",
       "      <th>product_reorder_ratio</th>\n",
       "      <th>product_reorder_user_ratio</th>\n",
       "      <th>product_add_to_cart_order_mean</th>\n",
       "      <th>product_add_to_cart_order_std</th>\n",
       "      <th>product_name</th>\n",
       "      <th>aisle_id</th>\n",
       "      <th>department_id</th>\n",
       "      <th>product_order_interval_mean_NaN</th>\n",
       "      <th>product_order_interval_std_NaN</th>\n",
       "      <th>product_add_to_cart_order_std_NaN</th>\n",
       "      <th>aisle_prod_user_num_sum</th>\n",
       "      <th>aisle_prod_user_num_mean</th>\n",
       "      <th>aisle_prod_user_num_std</th>\n",
       "      <th>aisle_prod_order_num_sum</th>\n",
       "      <th>aisle_prod_order_num_mean</th>\n",
       "      <th>aisle_prod_order_num_std</th>\n",
       "      <th>aisle_prod_order_interval_mean_mean</th>\n",
       "      <th>aisle_prod_order_interval_mean_std</th>\n",
       "      <th>aisle_prod_reorder_num_sum</th>\n",
       "      <th>aisle_prod_reorder_num_mean</th>\n",
       "      <th>aisle_prod_reorder_num_std</th>\n",
       "      <th>aisle_prod_reorder_user_num_sum</th>\n",
       "      <th>aisle_prod_reorder_user_num_mean</th>\n",
       "      <th>aisle_prod_reorder_user_num_std</th>\n",
       "      <th>aisle_prod_add_to_cart_order_mean</th>\n",
       "      <th>aisle_prod_add_to_cart_order_std</th>\n",
       "      <th>aisle_reorder_ratio</th>\n",
       "      <th>aisle_user_reorder_ratio</th>\n",
       "      <th>department_prod_user_num_sum</th>\n",
       "      <th>department_prod_user_num_mean</th>\n",
       "      <th>department_prod_user_num_std</th>\n",
       "      <th>department_prod_order_num_sum</th>\n",
       "      <th>department_prod_order_num_mean</th>\n",
       "      <th>department_prod_order_num_std</th>\n",
       "      <th>department_prod_add_to_cart_order_mean</th>\n",
       "      <th>department_prod_add_to_cart_order_std</th>\n",
       "      <th>department_prod_reorder_num_sum</th>\n",
       "      <th>department_prod_reorder_num_mean</th>\n",
       "      <th>department_prod_reorder_num_std</th>\n",
       "      <th>department_prod_reorder_user_num_sum</th>\n",
       "      <th>department_prod_reorder_user_num_mean</th>\n",
       "      <th>department_prod_reorder_user_num_std</th>\n",
       "    </tr>\n",
       "  </thead>\n",
       "  <tbody>\n",
       "    <tr>\n",
       "      <th>0</th>\n",
       "      <td>1</td>\n",
       "      <td>196</td>\n",
       "      <td>10</td>\n",
       "      <td>176</td>\n",
       "      <td>19.555555</td>\n",
       "      <td>9.395625</td>\n",
       "      <td>1.5</td>\n",
       "      <td>1.400000</td>\n",
       "      <td>0.966092</td>\n",
       "      <td>1.0</td>\n",
       "      <td>0</td>\n",
       "      <td>0</td>\n",
       "      <td>0</td>\n",
       "      <td>10</td>\n",
       "      <td>19.555555</td>\n",
       "      <td>9.395625</td>\n",
       "      <td>5.9</td>\n",
       "      <td>1.523884</td>\n",
       "      <td>176</td>\n",
       "      <td>8000</td>\n",
       "      <td>35791</td>\n",
       "      <td>22.623835</td>\n",
       "      <td>26.001011</td>\n",
       "      <td>27791.0</td>\n",
       "      <td>4660.0</td>\n",
       "      <td>0.776480</td>\n",
       "      <td>0.582500</td>\n",
       "      <td>3.721774</td>\n",
       "      <td>4.110813</td>\n",
       "      <td>Soda</td>\n",
       "      <td>77</td>\n",
       "      <td>7</td>\n",
       "      <td>0</td>\n",
       "      <td>0</td>\n",
       "      <td>0</td>\n",
       "      <td>129131</td>\n",
       "      <td>278.900648</td>\n",
       "      <td>736.904549</td>\n",
       "      <td>357537</td>\n",
       "      <td>772.218143</td>\n",
       "      <td>2415.057166</td>\n",
       "      <td>25.996077</td>\n",
       "      <td>14.911694</td>\n",
       "      <td>228406.0</td>\n",
       "      <td>493.317495</td>\n",
       "      <td>1726.669834</td>\n",
       "      <td>55534.0</td>\n",
       "      <td>119.943844</td>\n",
       "      <td>354.541349</td>\n",
       "      <td>7.647766</td>\n",
       "      <td>2.189116</td>\n",
       "      <td>0.638832</td>\n",
       "      <td>0.430059</td>\n",
       "      <td>932237</td>\n",
       "      <td>228.512015</td>\n",
       "      <td>192.511727</td>\n",
       "      <td>2690129</td>\n",
       "      <td>690.856125</td>\n",
       "      <td>753.685494</td>\n",
       "      <td>8.079681</td>\n",
       "      <td>0.705206</td>\n",
       "      <td>1757892.0</td>\n",
       "      <td>462.344110</td>\n",
       "      <td>562.454967</td>\n",
       "      <td>408690.0</td>\n",
       "      <td>103.938473</td>\n",
       "      <td>108.233336</td>\n",
       "    </tr>\n",
       "    <tr>\n",
       "      <th>1</th>\n",
       "      <td>1</td>\n",
       "      <td>10258</td>\n",
       "      <td>9</td>\n",
       "      <td>176</td>\n",
       "      <td>20.125000</td>\n",
       "      <td>9.876922</td>\n",
       "      <td>3.0</td>\n",
       "      <td>3.333333</td>\n",
       "      <td>1.322876</td>\n",
       "      <td>0.9</td>\n",
       "      <td>0</td>\n",
       "      <td>0</td>\n",
       "      <td>0</td>\n",
       "      <td>10</td>\n",
       "      <td>19.555555</td>\n",
       "      <td>9.395625</td>\n",
       "      <td>5.9</td>\n",
       "      <td>1.523884</td>\n",
       "      <td>176</td>\n",
       "      <td>557</td>\n",
       "      <td>1946</td>\n",
       "      <td>24.268539</td>\n",
       "      <td>26.848476</td>\n",
       "      <td>1389.0</td>\n",
       "      <td>308.0</td>\n",
       "      <td>0.713772</td>\n",
       "      <td>0.552962</td>\n",
       "      <td>4.277493</td>\n",
       "      <td>3.567502</td>\n",
       "      <td>Pistachios</td>\n",
       "      <td>117</td>\n",
       "      <td>19</td>\n",
       "      <td>0</td>\n",
       "      <td>0</td>\n",
       "      <td>0</td>\n",
       "      <td>147368</td>\n",
       "      <td>253.209622</td>\n",
       "      <td>676.108087</td>\n",
       "      <td>306487</td>\n",
       "      <td>526.609966</td>\n",
       "      <td>1478.642046</td>\n",
       "      <td>31.982382</td>\n",
       "      <td>18.959030</td>\n",
       "      <td>159119.0</td>\n",
       "      <td>273.400344</td>\n",
       "      <td>845.712074</td>\n",
       "      <td>50103.0</td>\n",
       "      <td>86.087629</td>\n",
       "      <td>248.092359</td>\n",
       "      <td>9.712533</td>\n",
       "      <td>2.255376</td>\n",
       "      <td>0.519170</td>\n",
       "      <td>0.339986</td>\n",
       "      <td>1229577</td>\n",
       "      <td>184.277748</td>\n",
       "      <td>78.117275</td>\n",
       "      <td>2887550</td>\n",
       "      <td>429.355375</td>\n",
       "      <td>201.135440</td>\n",
       "      <td>9.605942</td>\n",
       "      <td>0.644157</td>\n",
       "      <td>1657973.0</td>\n",
       "      <td>245.077627</td>\n",
       "      <td>125.815728</td>\n",
       "      <td>483357.0</td>\n",
       "      <td>70.903977</td>\n",
       "      <td>35.028622</td>\n",
       "    </tr>\n",
       "    <tr>\n",
       "      <th>2</th>\n",
       "      <td>1</td>\n",
       "      <td>10326</td>\n",
       "      <td>1</td>\n",
       "      <td>93</td>\n",
       "      <td>42.677544</td>\n",
       "      <td>25.335363</td>\n",
       "      <td>14.5</td>\n",
       "      <td>5.000000</td>\n",
       "      <td>4.219923</td>\n",
       "      <td>0.1</td>\n",
       "      <td>1</td>\n",
       "      <td>1</td>\n",
       "      <td>1</td>\n",
       "      <td>10</td>\n",
       "      <td>19.555555</td>\n",
       "      <td>9.395625</td>\n",
       "      <td>5.9</td>\n",
       "      <td>1.523884</td>\n",
       "      <td>176</td>\n",
       "      <td>1923</td>\n",
       "      <td>5526</td>\n",
       "      <td>26.605606</td>\n",
       "      <td>36.763191</td>\n",
       "      <td>3603.0</td>\n",
       "      <td>1003.0</td>\n",
       "      <td>0.652009</td>\n",
       "      <td>0.521581</td>\n",
       "      <td>4.191097</td>\n",
       "      <td>3.611701</td>\n",
       "      <td>Organic Fuji Apples</td>\n",
       "      <td>24</td>\n",
       "      <td>4</td>\n",
       "      <td>0</td>\n",
       "      <td>0</td>\n",
       "      <td>0</td>\n",
       "      <td>1026719</td>\n",
       "      <td>2687.746073</td>\n",
       "      <td>8357.649783</td>\n",
       "      <td>3642188</td>\n",
       "      <td>9534.523560</td>\n",
       "      <td>40105.378548</td>\n",
       "      <td>24.105310</td>\n",
       "      <td>12.450514</td>\n",
       "      <td>2615469.0</td>\n",
       "      <td>6846.777487</td>\n",
       "      <td>32174.918772</td>\n",
       "      <td>560354.0</td>\n",
       "      <td>1466.895288</td>\n",
       "      <td>5410.202963</td>\n",
       "      <td>8.672981</td>\n",
       "      <td>2.014458</td>\n",
       "      <td>0.718104</td>\n",
       "      <td>0.545772</td>\n",
       "      <td>3318581</td>\n",
       "      <td>2190.172202</td>\n",
       "      <td>683.524710</td>\n",
       "      <td>9479291</td>\n",
       "      <td>6286.046039</td>\n",
       "      <td>2799.902559</td>\n",
       "      <td>8.410426</td>\n",
       "      <td>1.865486</td>\n",
       "      <td>6160710.0</td>\n",
       "      <td>4095.873837</td>\n",
       "      <td>2222.922021</td>\n",
       "      <td>1598097.0</td>\n",
       "      <td>1047.023084</td>\n",
       "      <td>403.342103</td>\n",
       "    </tr>\n",
       "    <tr>\n",
       "      <th>3</th>\n",
       "      <td>1</td>\n",
       "      <td>12427</td>\n",
       "      <td>10</td>\n",
       "      <td>176</td>\n",
       "      <td>19.555555</td>\n",
       "      <td>9.395625</td>\n",
       "      <td>1.5</td>\n",
       "      <td>3.300000</td>\n",
       "      <td>2.406011</td>\n",
       "      <td>1.0</td>\n",
       "      <td>0</td>\n",
       "      <td>0</td>\n",
       "      <td>0</td>\n",
       "      <td>10</td>\n",
       "      <td>19.555555</td>\n",
       "      <td>9.395625</td>\n",
       "      <td>5.9</td>\n",
       "      <td>1.523884</td>\n",
       "      <td>176</td>\n",
       "      <td>1679</td>\n",
       "      <td>6476</td>\n",
       "      <td>19.953512</td>\n",
       "      <td>25.316103</td>\n",
       "      <td>4797.0</td>\n",
       "      <td>889.0</td>\n",
       "      <td>0.740735</td>\n",
       "      <td>0.529482</td>\n",
       "      <td>4.760037</td>\n",
       "      <td>4.782450</td>\n",
       "      <td>Original Beef Jerky</td>\n",
       "      <td>23</td>\n",
       "      <td>19</td>\n",
       "      <td>0</td>\n",
       "      <td>0</td>\n",
       "      <td>0</td>\n",
       "      <td>66720</td>\n",
       "      <td>211.139241</td>\n",
       "      <td>565.300465</td>\n",
       "      <td>163524</td>\n",
       "      <td>517.481013</td>\n",
       "      <td>1572.546061</td>\n",
       "      <td>31.392450</td>\n",
       "      <td>14.166268</td>\n",
       "      <td>96804.0</td>\n",
       "      <td>306.341772</td>\n",
       "      <td>1018.486136</td>\n",
       "      <td>27658.0</td>\n",
       "      <td>87.525316</td>\n",
       "      <td>265.427758</td>\n",
       "      <td>9.348668</td>\n",
       "      <td>2.149298</td>\n",
       "      <td>0.591986</td>\n",
       "      <td>0.414538</td>\n",
       "      <td>1229577</td>\n",
       "      <td>184.277748</td>\n",
       "      <td>78.117275</td>\n",
       "      <td>2887550</td>\n",
       "      <td>429.355375</td>\n",
       "      <td>201.135440</td>\n",
       "      <td>9.605942</td>\n",
       "      <td>0.644157</td>\n",
       "      <td>1657973.0</td>\n",
       "      <td>245.077627</td>\n",
       "      <td>125.815728</td>\n",
       "      <td>483357.0</td>\n",
       "      <td>70.903977</td>\n",
       "      <td>35.028622</td>\n",
       "    </tr>\n",
       "    <tr>\n",
       "      <th>4</th>\n",
       "      <td>1</td>\n",
       "      <td>13032</td>\n",
       "      <td>3</td>\n",
       "      <td>176</td>\n",
       "      <td>80.500000</td>\n",
       "      <td>51.618793</td>\n",
       "      <td>5.5</td>\n",
       "      <td>6.333333</td>\n",
       "      <td>1.527525</td>\n",
       "      <td>0.3</td>\n",
       "      <td>0</td>\n",
       "      <td>0</td>\n",
       "      <td>0</td>\n",
       "      <td>10</td>\n",
       "      <td>19.555555</td>\n",
       "      <td>9.395625</td>\n",
       "      <td>5.9</td>\n",
       "      <td>1.523884</td>\n",
       "      <td>176</td>\n",
       "      <td>1286</td>\n",
       "      <td>3751</td>\n",
       "      <td>31.215416</td>\n",
       "      <td>37.182076</td>\n",
       "      <td>2465.0</td>\n",
       "      <td>617.0</td>\n",
       "      <td>0.657158</td>\n",
       "      <td>0.479782</td>\n",
       "      <td>5.622767</td>\n",
       "      <td>5.345184</td>\n",
       "      <td>Cinnamon Toast Crunch</td>\n",
       "      <td>121</td>\n",
       "      <td>14</td>\n",
       "      <td>0</td>\n",
       "      <td>0</td>\n",
       "      <td>0</td>\n",
       "      <td>161764</td>\n",
       "      <td>356.308370</td>\n",
       "      <td>824.174526</td>\n",
       "      <td>377586</td>\n",
       "      <td>831.687225</td>\n",
       "      <td>1973.034402</td>\n",
       "      <td>30.660225</td>\n",
       "      <td>10.067678</td>\n",
       "      <td>215822.0</td>\n",
       "      <td>475.378855</td>\n",
       "      <td>1157.061839</td>\n",
       "      <td>66813.0</td>\n",
       "      <td>147.165198</td>\n",
       "      <td>359.088257</td>\n",
       "      <td>9.421302</td>\n",
       "      <td>2.247966</td>\n",
       "      <td>0.571584</td>\n",
       "      <td>0.413028</td>\n",
       "      <td>311556</td>\n",
       "      <td>252.928220</td>\n",
       "      <td>78.002364</td>\n",
       "      <td>709569</td>\n",
       "      <td>580.795337</td>\n",
       "      <td>177.463013</td>\n",
       "      <td>9.460799</td>\n",
       "      <td>0.091380</td>\n",
       "      <td>398013.0</td>\n",
       "      <td>327.867117</td>\n",
       "      <td>105.550970</td>\n",
       "      <td>122600.0</td>\n",
       "      <td>99.369176</td>\n",
       "      <td>32.916165</td>\n",
       "    </tr>\n",
       "  </tbody>\n",
       "</table>\n",
       "</div>"
      ],
      "text/plain": [
       "   user_id  product_id  user_product_order_num  \\\n",
       "0        1         196                      10   \n",
       "1        1       10258                       9   \n",
       "2        1       10326                       1   \n",
       "3        1       12427                      10   \n",
       "4        1       13032                       3   \n",
       "\n",
       "   user_product_last_purchase_day  user_product_order_interval_mean  \\\n",
       "0                             176                         19.555555   \n",
       "1                             176                         20.125000   \n",
       "2                              93                         42.677544   \n",
       "3                             176                         19.555555   \n",
       "4                             176                         80.500000   \n",
       "\n",
       "   user_product_order_interval_std  user_product_rank  \\\n",
       "0                         9.395625                1.5   \n",
       "1                         9.876922                3.0   \n",
       "2                        25.335363               14.5   \n",
       "3                         9.395625                1.5   \n",
       "4                        51.618793                5.5   \n",
       "\n",
       "   user_product_add_order_mean  user_product_add_order_std  \\\n",
       "0                     1.400000                    0.966092   \n",
       "1                     3.333333                    1.322876   \n",
       "2                     5.000000                    4.219923   \n",
       "3                     3.300000                    2.406011   \n",
       "4                     6.333333                    1.527525   \n",
       "\n",
       "   user_product_reorder_ratio  user_product_order_interval_mean_NaN  \\\n",
       "0                         1.0                                     0   \n",
       "1                         0.9                                     0   \n",
       "2                         0.1                                     1   \n",
       "3                         1.0                                     0   \n",
       "4                         0.3                                     0   \n",
       "\n",
       "   user_product_order_interval_std_NaN  user_product_add_order_std_NaN  \\\n",
       "0                                    0                               0   \n",
       "1                                    0                               0   \n",
       "2                                    1                               1   \n",
       "3                                    0                               0   \n",
       "4                                    0                               0   \n",
       "\n",
       "   user_order_num  user_order_interval_mean  user_order_interval_std  \\\n",
       "0              10                 19.555555                 9.395625   \n",
       "1              10                 19.555555                 9.395625   \n",
       "2              10                 19.555555                 9.395625   \n",
       "3              10                 19.555555                 9.395625   \n",
       "4              10                 19.555555                 9.395625   \n",
       "\n",
       "   user_basket_size_mean  user_basket_size_std  user_history  \\\n",
       "0                    5.9              1.523884           176   \n",
       "1                    5.9              1.523884           176   \n",
       "2                    5.9              1.523884           176   \n",
       "3                    5.9              1.523884           176   \n",
       "4                    5.9              1.523884           176   \n",
       "\n",
       "   product_user_num  product_order_num  product_order_interval_mean  \\\n",
       "0              8000              35791                    22.623835   \n",
       "1               557               1946                    24.268539   \n",
       "2              1923               5526                    26.605606   \n",
       "3              1679               6476                    19.953512   \n",
       "4              1286               3751                    31.215416   \n",
       "\n",
       "   product_order_interval_std  product_reorder_num  product_reorder_user_num  \\\n",
       "0                   26.001011              27791.0                    4660.0   \n",
       "1                   26.848476               1389.0                     308.0   \n",
       "2                   36.763191               3603.0                    1003.0   \n",
       "3                   25.316103               4797.0                     889.0   \n",
       "4                   37.182076               2465.0                     617.0   \n",
       "\n",
       "   product_reorder_ratio  product_reorder_user_ratio  \\\n",
       "0               0.776480                    0.582500   \n",
       "1               0.713772                    0.552962   \n",
       "2               0.652009                    0.521581   \n",
       "3               0.740735                    0.529482   \n",
       "4               0.657158                    0.479782   \n",
       "\n",
       "   product_add_to_cart_order_mean  product_add_to_cart_order_std  \\\n",
       "0                        3.721774                       4.110813   \n",
       "1                        4.277493                       3.567502   \n",
       "2                        4.191097                       3.611701   \n",
       "3                        4.760037                       4.782450   \n",
       "4                        5.622767                       5.345184   \n",
       "\n",
       "            product_name  aisle_id  department_id  \\\n",
       "0                   Soda        77              7   \n",
       "1             Pistachios       117             19   \n",
       "2    Organic Fuji Apples        24              4   \n",
       "3    Original Beef Jerky        23             19   \n",
       "4  Cinnamon Toast Crunch       121             14   \n",
       "\n",
       "   product_order_interval_mean_NaN  product_order_interval_std_NaN  \\\n",
       "0                                0                               0   \n",
       "1                                0                               0   \n",
       "2                                0                               0   \n",
       "3                                0                               0   \n",
       "4                                0                               0   \n",
       "\n",
       "   product_add_to_cart_order_std_NaN  aisle_prod_user_num_sum  \\\n",
       "0                                  0                   129131   \n",
       "1                                  0                   147368   \n",
       "2                                  0                  1026719   \n",
       "3                                  0                    66720   \n",
       "4                                  0                   161764   \n",
       "\n",
       "   aisle_prod_user_num_mean  aisle_prod_user_num_std  \\\n",
       "0                278.900648               736.904549   \n",
       "1                253.209622               676.108087   \n",
       "2               2687.746073              8357.649783   \n",
       "3                211.139241               565.300465   \n",
       "4                356.308370               824.174526   \n",
       "\n",
       "   aisle_prod_order_num_sum  aisle_prod_order_num_mean  \\\n",
       "0                    357537                 772.218143   \n",
       "1                    306487                 526.609966   \n",
       "2                   3642188                9534.523560   \n",
       "3                    163524                 517.481013   \n",
       "4                    377586                 831.687225   \n",
       "\n",
       "   aisle_prod_order_num_std  aisle_prod_order_interval_mean_mean  \\\n",
       "0               2415.057166                            25.996077   \n",
       "1               1478.642046                            31.982382   \n",
       "2              40105.378548                            24.105310   \n",
       "3               1572.546061                            31.392450   \n",
       "4               1973.034402                            30.660225   \n",
       "\n",
       "   aisle_prod_order_interval_mean_std  aisle_prod_reorder_num_sum  \\\n",
       "0                           14.911694                    228406.0   \n",
       "1                           18.959030                    159119.0   \n",
       "2                           12.450514                   2615469.0   \n",
       "3                           14.166268                     96804.0   \n",
       "4                           10.067678                    215822.0   \n",
       "\n",
       "   aisle_prod_reorder_num_mean  aisle_prod_reorder_num_std  \\\n",
       "0                   493.317495                 1726.669834   \n",
       "1                   273.400344                  845.712074   \n",
       "2                  6846.777487                32174.918772   \n",
       "3                   306.341772                 1018.486136   \n",
       "4                   475.378855                 1157.061839   \n",
       "\n",
       "   aisle_prod_reorder_user_num_sum  aisle_prod_reorder_user_num_mean  \\\n",
       "0                          55534.0                        119.943844   \n",
       "1                          50103.0                         86.087629   \n",
       "2                         560354.0                       1466.895288   \n",
       "3                          27658.0                         87.525316   \n",
       "4                          66813.0                        147.165198   \n",
       "\n",
       "   aisle_prod_reorder_user_num_std  aisle_prod_add_to_cart_order_mean  \\\n",
       "0                       354.541349                           7.647766   \n",
       "1                       248.092359                           9.712533   \n",
       "2                      5410.202963                           8.672981   \n",
       "3                       265.427758                           9.348668   \n",
       "4                       359.088257                           9.421302   \n",
       "\n",
       "   aisle_prod_add_to_cart_order_std  aisle_reorder_ratio  \\\n",
       "0                          2.189116             0.638832   \n",
       "1                          2.255376             0.519170   \n",
       "2                          2.014458             0.718104   \n",
       "3                          2.149298             0.591986   \n",
       "4                          2.247966             0.571584   \n",
       "\n",
       "   aisle_user_reorder_ratio  department_prod_user_num_sum  \\\n",
       "0                  0.430059                        932237   \n",
       "1                  0.339986                       1229577   \n",
       "2                  0.545772                       3318581   \n",
       "3                  0.414538                       1229577   \n",
       "4                  0.413028                        311556   \n",
       "\n",
       "   department_prod_user_num_mean  department_prod_user_num_std  \\\n",
       "0                     228.512015                    192.511727   \n",
       "1                     184.277748                     78.117275   \n",
       "2                    2190.172202                    683.524710   \n",
       "3                     184.277748                     78.117275   \n",
       "4                     252.928220                     78.002364   \n",
       "\n",
       "   department_prod_order_num_sum  department_prod_order_num_mean  \\\n",
       "0                        2690129                      690.856125   \n",
       "1                        2887550                      429.355375   \n",
       "2                        9479291                     6286.046039   \n",
       "3                        2887550                      429.355375   \n",
       "4                         709569                      580.795337   \n",
       "\n",
       "   department_prod_order_num_std  department_prod_add_to_cart_order_mean  \\\n",
       "0                     753.685494                                8.079681   \n",
       "1                     201.135440                                9.605942   \n",
       "2                    2799.902559                                8.410426   \n",
       "3                     201.135440                                9.605942   \n",
       "4                     177.463013                                9.460799   \n",
       "\n",
       "   department_prod_add_to_cart_order_std  department_prod_reorder_num_sum  \\\n",
       "0                               0.705206                        1757892.0   \n",
       "1                               0.644157                        1657973.0   \n",
       "2                               1.865486                        6160710.0   \n",
       "3                               0.644157                        1657973.0   \n",
       "4                               0.091380                         398013.0   \n",
       "\n",
       "   department_prod_reorder_num_mean  department_prod_reorder_num_std  \\\n",
       "0                        462.344110                       562.454967   \n",
       "1                        245.077627                       125.815728   \n",
       "2                       4095.873837                      2222.922021   \n",
       "3                        245.077627                       125.815728   \n",
       "4                        327.867117                       105.550970   \n",
       "\n",
       "   department_prod_reorder_user_num_sum  \\\n",
       "0                              408690.0   \n",
       "1                              483357.0   \n",
       "2                             1598097.0   \n",
       "3                              483357.0   \n",
       "4                              122600.0   \n",
       "\n",
       "   department_prod_reorder_user_num_mean  department_prod_reorder_user_num_std  \n",
       "0                             103.938473                            108.233336  \n",
       "1                              70.903977                             35.028622  \n",
       "2                            1047.023084                            403.342103  \n",
       "3                              70.903977                             35.028622  \n",
       "4                              99.369176                             32.916165  "
      ]
     },
     "execution_count": 18,
     "metadata": {},
     "output_type": "execute_result"
    }
   ],
   "source": [
    "train_df.head()"
   ]
  },
  {
   "cell_type": "code",
   "execution_count": 19,
   "metadata": {
    "scrolled": true
   },
   "outputs": [
    {
     "data": {
      "text/plain": [
       "(8474661, 67)"
      ]
     },
     "execution_count": 19,
     "metadata": {},
     "output_type": "execute_result"
    }
   ],
   "source": [
    "train_df.shape"
   ]
  },
  {
   "cell_type": "code",
   "execution_count": 20,
   "metadata": {
    "collapsed": true
   },
   "outputs": [],
   "source": [
    "train_df = pd.merge(train_df, orders[orders.eval_set == 'train'], on='user_id', how = 'left')"
   ]
  },
  {
   "cell_type": "code",
   "execution_count": 21,
   "metadata": {
    "collapsed": true
   },
   "outputs": [],
   "source": [
    "train_df = pd.merge(train_df, order_product_train, on =['order_id', 'product_id'], how = 'left')"
   ]
  },
  {
   "cell_type": "code",
   "execution_count": 22,
   "metadata": {
    "collapsed": true
   },
   "outputs": [],
   "source": [
    "train_df.reordered.fillna(0, inplace = True)"
   ]
  },
  {
   "cell_type": "code",
   "execution_count": 23,
   "metadata": {
    "collapsed": true
   },
   "outputs": [],
   "source": [
    "train_df.rename(columns = {'reordered': 'y'}, inplace = True)"
   ]
  },
  {
   "cell_type": "code",
   "execution_count": 24,
   "metadata": {
    "collapsed": true
   },
   "outputs": [],
   "source": [
    "X = train_df.drop(['aisle_id', 'department_id', 'order_id', 'eval_set', 'order_number', 'add_to_cart_order', 'user_id', 'product_id', 'product_name', 'y'], axis = 1)"
   ]
  },
  {
   "cell_type": "code",
   "execution_count": 25,
   "metadata": {
    "collapsed": true
   },
   "outputs": [],
   "source": [
    "y = train_df.y"
   ]
  },
  {
   "cell_type": "code",
   "execution_count": 26,
   "metadata": {
    "collapsed": true
   },
   "outputs": [],
   "source": [
    "def new_f1_score(df):\n",
    "    TNdf = pd.DataFrame(df[(df.y == 0) & (df.XGB_pred_y == 0)].groupby('user_id')['product_id'].nunique())\n",
    "    TNdf.rename(columns = {'product_id': 'TN'}, inplace = True)\n",
    "    TNdf.reset_index(inplace = True)\n",
    "    \n",
    "    TPdf = pd.DataFrame(df[(df.y == 1) & (df.XGB_pred_y == 1)].groupby('user_id')['product_id'].nunique())\n",
    "    TPdf.rename(columns = {'product_id': 'TP'}, inplace = True)\n",
    "    TPdf.reset_index(inplace = True)\n",
    "    \n",
    "    FNdf = pd.DataFrame(df[(df.y == 1) & (df.XGB_pred_y == 0)].groupby('user_id')['product_id'].nunique())\n",
    "    FNdf.rename(columns = {'product_id': 'FN'}, inplace = True)\n",
    "    FNdf.reset_index(inplace = True)\n",
    "    \n",
    "    FPdf = pd.DataFrame(df[(df.y == 0) & (df.XGB_pred_y == 1)].groupby('user_id')['product_id'].nunique())\n",
    "    FPdf.rename(columns = {'product_id': 'FP'}, inplace = True)\n",
    "    FPdf.reset_index(inplace = True)\n",
    "    \n",
    "    matrix_df = pd.merge(TNdf, TPdf, on = 'user_id', how = 'outer')\n",
    "    matrix_df = pd.merge(matrix_df, FNdf, on = 'user_id', how = 'outer')\n",
    "    matrix_df = pd.merge(matrix_df, FPdf, on = 'user_id', how = 'outer')\n",
    "    \n",
    "    matrix_df.fillna(0, inplace = True)\n",
    "    matrix_df['precision'] = matrix_df.TP / (matrix_df.FP + matrix_df.TP)\n",
    "    matrix_df['recall'] = matrix_df.TP / (matrix_df.FN + matrix_df.TP)\n",
    "    matrix_df['f1'] = 2*matrix_df.TP / (2*matrix_df.TP+matrix_df.FP+matrix_df.FN)\n",
    "    matrix_df.fillna(1, inplace = True)\n",
    "    return matrix_df.f1.mean()"
   ]
  },
  {
   "cell_type": "code",
   "execution_count": 27,
   "metadata": {
    "collapsed": true
   },
   "outputs": [],
   "source": [
    "def man_cross_val(learning_rate=0.2, max_depth=6, n_estimators=100, gamma=0, min_child_weight=1, subsample=1, threshold=0.2):\n",
    "    kf = GroupKFold(n_splits=2)\n",
    "    scores = []\n",
    "    for i, (train_index, test_index) in enumerate(kf.split(train_df.iloc[:100], groups=train_df.iloc[:100]['user_id'].values)):\n",
    "        xgb_model = XGBClassifier(learning_rate=learning_rate, max_depth=max_depth, n_estimators=n_estimators, gamma=gamma, min_child_weight=min_child_weight, subsample=subsample, n_jobs=-1)\n",
    "        xgb_fit = xgb_model.fit(X.iloc[train_index], y.iloc[train_index])\n",
    "        result = xgb_fit.predict_proba(X.iloc[test_index])\n",
    "        bins = [0, threshold, 1]\n",
    "        group_names = [0, 1]\n",
    "        new_df = train_df.iloc[test_index][['y', 'user_id', 'product_id']]\n",
    "        new_df['True'] = result[:, 1:]\n",
    "        new_df['XGB_pred_y'] = pd.cut(new_df['True'], bins, labels=group_names).astype(np.float32)\n",
    "        scores.append(new_f1_score(new_df))\n",
    "    return np.mean(scores)"
   ]
  },
  {
   "cell_type": "code",
   "execution_count": 28,
   "metadata": {
    "collapsed": true
   },
   "outputs": [],
   "source": [
    "def tune_para_xgb(learning_rate_list=[0.2], max_depth_list=[6], n_estimators_list=[100], gamma_list=[0], min_child_weight_list=[1], subsample_list=[1], threshold_list=[0.2]):\n",
    "    max_score = 0\n",
    "    parameters = [0.2, 6, 100, 0, 1, 1, 0.2]\n",
    "    for lr in learning_rate_list:\n",
    "        for md in max_depth_list:\n",
    "            for n in n_estimators_list:\n",
    "                for g in gamma_list:\n",
    "                    for w in min_child_weight_list:\n",
    "                        for s in subsample_list:\n",
    "                            for t in threshold_list:\n",
    "                                score = man_cross_val(learning_rate=lr, max_depth=md, n_estimators=n, gamma=g, min_child_weight=w, subsample=s, threshold=t)\n",
    "                                if score > max_score:\n",
    "                                    max_score = score\n",
    "                                    parameters = [lr, md, n, g, w, s, t]\n",
    "    return max_score, parameters"
   ]
  },
  {
   "cell_type": "code",
   "execution_count": 29,
   "metadata": {
    "collapsed": true
   },
   "outputs": [],
   "source": [
    "learning_rate_list = np.arange(0.01,0.2,0.1)\n",
    "max_depth_list = np.arange(1,15,10)\n",
    "n_estimators_list = np.arange(20,21,1)\n",
    "gamma_list = np.arange(0,0.3,0.2)\n",
    "min_child_weight_list = np.arange(1,1.1,1)\n",
    "threshold_list = np.arange(0.1,0.4,0.3)\n",
    "subsample_list = np.arange(0.5,1,0.4)"
   ]
  },
  {
   "cell_type": "code",
   "execution_count": 30,
   "metadata": {
    "collapsed": true
   },
   "outputs": [],
   "source": [
    "parameter_optimize_result = tune_para_xgb(learning_rate_list=learning_rate_list, max_depth_list=max_depth_list, n_estimators_list=n_estimators_list, gamma_list=gamma_list, min_child_weight_list=min_child_weight_list, subsample_list = subsample_list, threshold_list=threshold_list)"
   ]
  },
  {
   "cell_type": "code",
   "execution_count": 31,
   "metadata": {},
   "outputs": [
    {
     "data": {
      "text/plain": [
       "(0.46927146927146923,\n",
       " [0.11, 11, 20, 0.0, 1.0, 0.90000000000000002, 0.10000000000000001])"
      ]
     },
     "execution_count": 31,
     "metadata": {},
     "output_type": "execute_result"
    }
   ],
   "source": [
    "parameter_optimize_result"
   ]
  },
  {
   "cell_type": "code",
   "execution_count": 32,
   "metadata": {
    "collapsed": true
   },
   "outputs": [],
   "source": [
    "pickle.dump(parameter_optimize_result, open('parameter_optimize_result.p', 'wb'))"
   ]
  },
  {
   "cell_type": "markdown",
   "metadata": {},
   "source": [
    "## Prediction"
   ]
  },
  {
   "cell_type": "code",
   "execution_count": 33,
   "metadata": {
    "collapsed": true
   },
   "outputs": [],
   "source": [
    "lr = parameter_optimize_result[1][0]\n",
    "md = parameter_optimize_result[1][1]\n",
    "n = parameter_optimize_result[1][2]\n",
    "g = parameter_optimize_result[1][3]\n",
    "w = parameter_optimize_result[1][4]\n",
    "s = parameter_optimize_result[1][5]\n",
    "threshold = parameter_optimize_result[1][6]"
   ]
  },
  {
   "cell_type": "code",
   "execution_count": 34,
   "metadata": {},
   "outputs": [
    {
     "name": "stdout",
     "output_type": "stream",
     "text": [
      "0.11 11 20 0.0 1.0 0.9 0.1\n"
     ]
    }
   ],
   "source": [
    "print(lr, md, n, g, w, s, threshold)"
   ]
  },
  {
   "cell_type": "code",
   "execution_count": 35,
   "metadata": {
    "collapsed": true
   },
   "outputs": [],
   "source": [
    "xgb_optimized_model = XGBClassifier(learning_rate=lr, max_depth=md, n_estimators=n, gamma=g, min_child_weight=w, subsample=s, n_jobs=-1)"
   ]
  },
  {
   "cell_type": "code",
   "execution_count": 36,
   "metadata": {
    "collapsed": true
   },
   "outputs": [],
   "source": [
    "xgb_optimized_fit = xgb_optimized_model.fit(X.iloc[0:100000],y[0:100000])"
   ]
  },
  {
   "cell_type": "code",
   "execution_count": 37,
   "metadata": {
    "collapsed": true
   },
   "outputs": [],
   "source": [
    "test_users = orders[orders.eval_set == 'test'].user_id"
   ]
  },
  {
   "cell_type": "code",
   "execution_count": 38,
   "metadata": {
    "collapsed": true
   },
   "outputs": [],
   "source": [
    "test_df = master_prior_df[master_prior_df.user_id.isin(test_users)]"
   ]
  },
  {
   "cell_type": "code",
   "execution_count": 39,
   "metadata": {},
   "outputs": [
    {
     "data": {
      "text/plain": [
       "(4833292, 67)"
      ]
     },
     "execution_count": 39,
     "metadata": {},
     "output_type": "execute_result"
    }
   ],
   "source": [
    "test_df.shape"
   ]
  },
  {
   "cell_type": "code",
   "execution_count": 40,
   "metadata": {
    "collapsed": true
   },
   "outputs": [],
   "source": [
    "test_df = pd.merge(test_df, orders[orders.eval_set == 'test'], on='user_id', how = 'left')"
   ]
  },
  {
   "cell_type": "code",
   "execution_count": 41,
   "metadata": {
    "collapsed": true
   },
   "outputs": [],
   "source": [
    "test_df = pd.merge(test_df, order_product_train, on =['order_id', 'product_id'], how = 'left')"
   ]
  },
  {
   "cell_type": "code",
   "execution_count": 42,
   "metadata": {
    "collapsed": true
   },
   "outputs": [],
   "source": [
    "test_df.drop('reordered', axis = 1, inplace = True)"
   ]
  },
  {
   "cell_type": "code",
   "execution_count": 43,
   "metadata": {
    "collapsed": true
   },
   "outputs": [],
   "source": [
    "X_test = test_df.drop(['aisle_id', 'department_id', 'order_id', 'eval_set', 'order_number', 'add_to_cart_order', 'user_id', 'product_id', 'product_name'], axis = 1)"
   ]
  },
  {
   "cell_type": "code",
   "execution_count": 44,
   "metadata": {
    "collapsed": true
   },
   "outputs": [],
   "source": [
    "test_df['True'] = xgb_optimized_fit.predict_proba(X_test)[:,1:]"
   ]
  },
  {
   "cell_type": "code",
   "execution_count": 45,
   "metadata": {
    "collapsed": true
   },
   "outputs": [],
   "source": [
    "bins = [0, threshold, 1]\n",
    "group_names = [0, 1]"
   ]
  },
  {
   "cell_type": "code",
   "execution_count": 46,
   "metadata": {
    "collapsed": true
   },
   "outputs": [],
   "source": [
    "test_df['XGB_pred_y'] = pd.cut(test_df['True'], bins, labels=group_names)"
   ]
  },
  {
   "cell_type": "code",
   "execution_count": 47,
   "metadata": {},
   "outputs": [
    {
     "data": {
      "text/plain": [
       "75000"
      ]
     },
     "execution_count": 47,
     "metadata": {},
     "output_type": "execute_result"
    }
   ],
   "source": [
    "test_df.order_id.nunique()"
   ]
  },
  {
   "cell_type": "code",
   "execution_count": 48,
   "metadata": {},
   "outputs": [
    {
     "data": {
      "text/html": [
       "<div>\n",
       "<style>\n",
       "    .dataframe thead tr:only-child th {\n",
       "        text-align: right;\n",
       "    }\n",
       "\n",
       "    .dataframe thead th {\n",
       "        text-align: left;\n",
       "    }\n",
       "\n",
       "    .dataframe tbody tr th {\n",
       "        vertical-align: top;\n",
       "    }\n",
       "</style>\n",
       "<table border=\"1\" class=\"dataframe\">\n",
       "  <thead>\n",
       "    <tr style=\"text-align: right;\">\n",
       "      <th></th>\n",
       "      <th>user_id</th>\n",
       "      <th>product_id</th>\n",
       "      <th>user_product_order_num</th>\n",
       "      <th>user_product_last_purchase_day</th>\n",
       "      <th>user_product_order_interval_mean</th>\n",
       "      <th>user_product_order_interval_std</th>\n",
       "      <th>user_product_rank</th>\n",
       "      <th>user_product_add_order_mean</th>\n",
       "      <th>user_product_add_order_std</th>\n",
       "      <th>user_product_reorder_ratio</th>\n",
       "      <th>user_product_order_interval_mean_NaN</th>\n",
       "      <th>user_product_order_interval_std_NaN</th>\n",
       "      <th>user_product_add_order_std_NaN</th>\n",
       "      <th>user_order_num</th>\n",
       "      <th>user_order_interval_mean</th>\n",
       "      <th>user_order_interval_std</th>\n",
       "      <th>user_basket_size_mean</th>\n",
       "      <th>user_basket_size_std</th>\n",
       "      <th>user_history</th>\n",
       "      <th>product_user_num</th>\n",
       "      <th>product_order_num</th>\n",
       "      <th>product_order_interval_mean</th>\n",
       "      <th>product_order_interval_std</th>\n",
       "      <th>product_reorder_num</th>\n",
       "      <th>product_reorder_user_num</th>\n",
       "      <th>product_reorder_ratio</th>\n",
       "      <th>product_reorder_user_ratio</th>\n",
       "      <th>product_add_to_cart_order_mean</th>\n",
       "      <th>product_add_to_cart_order_std</th>\n",
       "      <th>product_name</th>\n",
       "      <th>aisle_id</th>\n",
       "      <th>department_id</th>\n",
       "      <th>product_order_interval_mean_NaN</th>\n",
       "      <th>product_order_interval_std_NaN</th>\n",
       "      <th>product_add_to_cart_order_std_NaN</th>\n",
       "      <th>aisle_prod_user_num_sum</th>\n",
       "      <th>aisle_prod_user_num_mean</th>\n",
       "      <th>aisle_prod_user_num_std</th>\n",
       "      <th>aisle_prod_order_num_sum</th>\n",
       "      <th>aisle_prod_order_num_mean</th>\n",
       "      <th>aisle_prod_order_num_std</th>\n",
       "      <th>aisle_prod_order_interval_mean_mean</th>\n",
       "      <th>aisle_prod_order_interval_mean_std</th>\n",
       "      <th>aisle_prod_reorder_num_sum</th>\n",
       "      <th>aisle_prod_reorder_num_mean</th>\n",
       "      <th>aisle_prod_reorder_num_std</th>\n",
       "      <th>aisle_prod_reorder_user_num_sum</th>\n",
       "      <th>aisle_prod_reorder_user_num_mean</th>\n",
       "      <th>aisle_prod_reorder_user_num_std</th>\n",
       "      <th>aisle_prod_add_to_cart_order_mean</th>\n",
       "      <th>aisle_prod_add_to_cart_order_std</th>\n",
       "      <th>aisle_reorder_ratio</th>\n",
       "      <th>aisle_user_reorder_ratio</th>\n",
       "      <th>department_prod_user_num_sum</th>\n",
       "      <th>department_prod_user_num_mean</th>\n",
       "      <th>department_prod_user_num_std</th>\n",
       "      <th>department_prod_order_num_sum</th>\n",
       "      <th>department_prod_order_num_mean</th>\n",
       "      <th>department_prod_order_num_std</th>\n",
       "      <th>department_prod_add_to_cart_order_mean</th>\n",
       "      <th>department_prod_add_to_cart_order_std</th>\n",
       "      <th>department_prod_reorder_num_sum</th>\n",
       "      <th>department_prod_reorder_num_mean</th>\n",
       "      <th>department_prod_reorder_num_std</th>\n",
       "      <th>department_prod_reorder_user_num_sum</th>\n",
       "      <th>department_prod_reorder_user_num_mean</th>\n",
       "      <th>department_prod_reorder_user_num_std</th>\n",
       "      <th>order_id</th>\n",
       "      <th>eval_set</th>\n",
       "      <th>order_number</th>\n",
       "      <th>order_dow</th>\n",
       "      <th>order_hour_of_day</th>\n",
       "      <th>days_since_prior_order</th>\n",
       "      <th>add_to_cart_order</th>\n",
       "      <th>True</th>\n",
       "      <th>XGB_pred_y</th>\n",
       "    </tr>\n",
       "  </thead>\n",
       "  <tbody>\n",
       "    <tr>\n",
       "      <th>0</th>\n",
       "      <td>3</td>\n",
       "      <td>248</td>\n",
       "      <td>1</td>\n",
       "      <td>9</td>\n",
       "      <td>42.677544</td>\n",
       "      <td>25.335363</td>\n",
       "      <td>26.5</td>\n",
       "      <td>3.000000</td>\n",
       "      <td>4.219923</td>\n",
       "      <td>0.083333</td>\n",
       "      <td>1</td>\n",
       "      <td>1</td>\n",
       "      <td>1</td>\n",
       "      <td>12</td>\n",
       "      <td>12.090909</td>\n",
       "      <td>5.375026</td>\n",
       "      <td>7.333333</td>\n",
       "      <td>2.103388</td>\n",
       "      <td>133</td>\n",
       "      <td>3821</td>\n",
       "      <td>6371</td>\n",
       "      <td>46.417255</td>\n",
       "      <td>50.716755</td>\n",
       "      <td>2550.0</td>\n",
       "      <td>1068.0</td>\n",
       "      <td>0.400251</td>\n",
       "      <td>0.279508</td>\n",
       "      <td>10.620782</td>\n",
       "      <td>8.025390</td>\n",
       "      <td>Dried Sweetened Cranberries</td>\n",
       "      <td>117</td>\n",
       "      <td>19</td>\n",
       "      <td>0</td>\n",
       "      <td>0</td>\n",
       "      <td>0</td>\n",
       "      <td>147368</td>\n",
       "      <td>253.209622</td>\n",
       "      <td>676.108087</td>\n",
       "      <td>306487</td>\n",
       "      <td>526.609966</td>\n",
       "      <td>1478.642046</td>\n",
       "      <td>31.982382</td>\n",
       "      <td>18.959030</td>\n",
       "      <td>159119.0</td>\n",
       "      <td>273.400344</td>\n",
       "      <td>845.712074</td>\n",
       "      <td>50103.0</td>\n",
       "      <td>86.087629</td>\n",
       "      <td>248.092359</td>\n",
       "      <td>9.712533</td>\n",
       "      <td>2.255376</td>\n",
       "      <td>0.519170</td>\n",
       "      <td>0.339986</td>\n",
       "      <td>1229577</td>\n",
       "      <td>184.277748</td>\n",
       "      <td>78.117275</td>\n",
       "      <td>2887550</td>\n",
       "      <td>429.355375</td>\n",
       "      <td>201.135440</td>\n",
       "      <td>9.605942</td>\n",
       "      <td>0.644157</td>\n",
       "      <td>1657973.0</td>\n",
       "      <td>245.077627</td>\n",
       "      <td>125.815728</td>\n",
       "      <td>483357.0</td>\n",
       "      <td>70.903977</td>\n",
       "      <td>35.028622</td>\n",
       "      <td>2774568</td>\n",
       "      <td>test</td>\n",
       "      <td>13</td>\n",
       "      <td>5</td>\n",
       "      <td>15</td>\n",
       "      <td>11.0</td>\n",
       "      <td>NaN</td>\n",
       "      <td>0.075636</td>\n",
       "      <td>0</td>\n",
       "    </tr>\n",
       "    <tr>\n",
       "      <th>1</th>\n",
       "      <td>3</td>\n",
       "      <td>1005</td>\n",
       "      <td>1</td>\n",
       "      <td>107</td>\n",
       "      <td>42.677544</td>\n",
       "      <td>25.335363</td>\n",
       "      <td>26.5</td>\n",
       "      <td>5.000000</td>\n",
       "      <td>4.219923</td>\n",
       "      <td>0.083333</td>\n",
       "      <td>1</td>\n",
       "      <td>1</td>\n",
       "      <td>1</td>\n",
       "      <td>12</td>\n",
       "      <td>12.090909</td>\n",
       "      <td>5.375026</td>\n",
       "      <td>7.333333</td>\n",
       "      <td>2.103388</td>\n",
       "      <td>133</td>\n",
       "      <td>259</td>\n",
       "      <td>463</td>\n",
       "      <td>41.313725</td>\n",
       "      <td>45.692371</td>\n",
       "      <td>204.0</td>\n",
       "      <td>81.0</td>\n",
       "      <td>0.440605</td>\n",
       "      <td>0.312741</td>\n",
       "      <td>9.498920</td>\n",
       "      <td>7.984800</td>\n",
       "      <td>China Green Tips Green Tea</td>\n",
       "      <td>94</td>\n",
       "      <td>7</td>\n",
       "      <td>0</td>\n",
       "      <td>0</td>\n",
       "      <td>0</td>\n",
       "      <td>117785</td>\n",
       "      <td>131.750559</td>\n",
       "      <td>250.349819</td>\n",
       "      <td>249341</td>\n",
       "      <td>278.904922</td>\n",
       "      <td>573.800820</td>\n",
       "      <td>36.561707</td>\n",
       "      <td>21.398149</td>\n",
       "      <td>131556.0</td>\n",
       "      <td>147.154362</td>\n",
       "      <td>356.875358</td>\n",
       "      <td>38583.0</td>\n",
       "      <td>43.157718</td>\n",
       "      <td>89.546667</td>\n",
       "      <td>8.890520</td>\n",
       "      <td>2.308560</td>\n",
       "      <td>0.527615</td>\n",
       "      <td>0.327571</td>\n",
       "      <td>932237</td>\n",
       "      <td>228.512015</td>\n",
       "      <td>192.511727</td>\n",
       "      <td>2690129</td>\n",
       "      <td>690.856125</td>\n",
       "      <td>753.685494</td>\n",
       "      <td>8.079681</td>\n",
       "      <td>0.705206</td>\n",
       "      <td>1757892.0</td>\n",
       "      <td>462.344110</td>\n",
       "      <td>562.454967</td>\n",
       "      <td>408690.0</td>\n",
       "      <td>103.938473</td>\n",
       "      <td>108.233336</td>\n",
       "      <td>2774568</td>\n",
       "      <td>test</td>\n",
       "      <td>13</td>\n",
       "      <td>5</td>\n",
       "      <td>15</td>\n",
       "      <td>11.0</td>\n",
       "      <td>NaN</td>\n",
       "      <td>0.080432</td>\n",
       "      <td>0</td>\n",
       "    </tr>\n",
       "    <tr>\n",
       "      <th>2</th>\n",
       "      <td>3</td>\n",
       "      <td>1819</td>\n",
       "      <td>3</td>\n",
       "      <td>76</td>\n",
       "      <td>13.000000</td>\n",
       "      <td>8.485281</td>\n",
       "      <td>10.0</td>\n",
       "      <td>2.666667</td>\n",
       "      <td>2.081666</td>\n",
       "      <td>0.250000</td>\n",
       "      <td>0</td>\n",
       "      <td>0</td>\n",
       "      <td>0</td>\n",
       "      <td>12</td>\n",
       "      <td>12.090909</td>\n",
       "      <td>5.375026</td>\n",
       "      <td>7.333333</td>\n",
       "      <td>2.103388</td>\n",
       "      <td>133</td>\n",
       "      <td>1231</td>\n",
       "      <td>2424</td>\n",
       "      <td>34.731770</td>\n",
       "      <td>42.123444</td>\n",
       "      <td>1193.0</td>\n",
       "      <td>427.0</td>\n",
       "      <td>0.492162</td>\n",
       "      <td>0.346872</td>\n",
       "      <td>9.287541</td>\n",
       "      <td>7.441464</td>\n",
       "      <td>All Natural No Stir Creamy Almond Butter</td>\n",
       "      <td>88</td>\n",
       "      <td>13</td>\n",
       "      <td>0</td>\n",
       "      <td>0</td>\n",
       "      <td>0</td>\n",
       "      <td>148279</td>\n",
       "      <td>301.380081</td>\n",
       "      <td>939.878510</td>\n",
       "      <td>289400</td>\n",
       "      <td>588.211382</td>\n",
       "      <td>1987.319908</td>\n",
       "      <td>42.612740</td>\n",
       "      <td>22.806234</td>\n",
       "      <td>141121.0</td>\n",
       "      <td>286.831301</td>\n",
       "      <td>1057.015871</td>\n",
       "      <td>50916.0</td>\n",
       "      <td>103.487805</td>\n",
       "      <td>363.993283</td>\n",
       "      <td>9.534949</td>\n",
       "      <td>2.093723</td>\n",
       "      <td>0.487633</td>\n",
       "      <td>0.343380</td>\n",
       "      <td>1225276</td>\n",
       "      <td>220.021779</td>\n",
       "      <td>112.494815</td>\n",
       "      <td>1875577</td>\n",
       "      <td>344.582258</td>\n",
       "      <td>183.375250</td>\n",
       "      <td>9.786937</td>\n",
       "      <td>0.470421</td>\n",
       "      <td>650301.0</td>\n",
       "      <td>124.560479</td>\n",
       "      <td>82.869489</td>\n",
       "      <td>282866.0</td>\n",
       "      <td>53.347841</td>\n",
       "      <td>31.830262</td>\n",
       "      <td>2774568</td>\n",
       "      <td>test</td>\n",
       "      <td>13</td>\n",
       "      <td>5</td>\n",
       "      <td>15</td>\n",
       "      <td>11.0</td>\n",
       "      <td>NaN</td>\n",
       "      <td>0.183152</td>\n",
       "      <td>1</td>\n",
       "    </tr>\n",
       "    <tr>\n",
       "      <th>3</th>\n",
       "      <td>3</td>\n",
       "      <td>7503</td>\n",
       "      <td>1</td>\n",
       "      <td>30</td>\n",
       "      <td>42.677544</td>\n",
       "      <td>25.335363</td>\n",
       "      <td>26.5</td>\n",
       "      <td>6.000000</td>\n",
       "      <td>4.219923</td>\n",
       "      <td>0.083333</td>\n",
       "      <td>1</td>\n",
       "      <td>1</td>\n",
       "      <td>1</td>\n",
       "      <td>12</td>\n",
       "      <td>12.090909</td>\n",
       "      <td>5.375026</td>\n",
       "      <td>7.333333</td>\n",
       "      <td>2.103388</td>\n",
       "      <td>133</td>\n",
       "      <td>5569</td>\n",
       "      <td>12474</td>\n",
       "      <td>35.672268</td>\n",
       "      <td>40.877598</td>\n",
       "      <td>6905.0</td>\n",
       "      <td>2137.0</td>\n",
       "      <td>0.553551</td>\n",
       "      <td>0.383731</td>\n",
       "      <td>9.547379</td>\n",
       "      <td>7.622521</td>\n",
       "      <td>Whole Almonds</td>\n",
       "      <td>117</td>\n",
       "      <td>19</td>\n",
       "      <td>0</td>\n",
       "      <td>0</td>\n",
       "      <td>0</td>\n",
       "      <td>147368</td>\n",
       "      <td>253.209622</td>\n",
       "      <td>676.108087</td>\n",
       "      <td>306487</td>\n",
       "      <td>526.609966</td>\n",
       "      <td>1478.642046</td>\n",
       "      <td>31.982382</td>\n",
       "      <td>18.959030</td>\n",
       "      <td>159119.0</td>\n",
       "      <td>273.400344</td>\n",
       "      <td>845.712074</td>\n",
       "      <td>50103.0</td>\n",
       "      <td>86.087629</td>\n",
       "      <td>248.092359</td>\n",
       "      <td>9.712533</td>\n",
       "      <td>2.255376</td>\n",
       "      <td>0.519170</td>\n",
       "      <td>0.339986</td>\n",
       "      <td>1229577</td>\n",
       "      <td>184.277748</td>\n",
       "      <td>78.117275</td>\n",
       "      <td>2887550</td>\n",
       "      <td>429.355375</td>\n",
       "      <td>201.135440</td>\n",
       "      <td>9.605942</td>\n",
       "      <td>0.644157</td>\n",
       "      <td>1657973.0</td>\n",
       "      <td>245.077627</td>\n",
       "      <td>125.815728</td>\n",
       "      <td>483357.0</td>\n",
       "      <td>70.903977</td>\n",
       "      <td>35.028622</td>\n",
       "      <td>2774568</td>\n",
       "      <td>test</td>\n",
       "      <td>13</td>\n",
       "      <td>5</td>\n",
       "      <td>15</td>\n",
       "      <td>11.0</td>\n",
       "      <td>NaN</td>\n",
       "      <td>0.075252</td>\n",
       "      <td>0</td>\n",
       "    </tr>\n",
       "    <tr>\n",
       "      <th>4</th>\n",
       "      <td>3</td>\n",
       "      <td>8021</td>\n",
       "      <td>1</td>\n",
       "      <td>9</td>\n",
       "      <td>42.677544</td>\n",
       "      <td>25.335363</td>\n",
       "      <td>26.5</td>\n",
       "      <td>5.000000</td>\n",
       "      <td>4.219923</td>\n",
       "      <td>0.083333</td>\n",
       "      <td>1</td>\n",
       "      <td>1</td>\n",
       "      <td>1</td>\n",
       "      <td>12</td>\n",
       "      <td>12.090909</td>\n",
       "      <td>5.375026</td>\n",
       "      <td>7.333333</td>\n",
       "      <td>2.103388</td>\n",
       "      <td>133</td>\n",
       "      <td>11392</td>\n",
       "      <td>27864</td>\n",
       "      <td>39.763054</td>\n",
       "      <td>40.347542</td>\n",
       "      <td>16472.0</td>\n",
       "      <td>5022.0</td>\n",
       "      <td>0.591157</td>\n",
       "      <td>0.440836</td>\n",
       "      <td>8.822854</td>\n",
       "      <td>7.211007</td>\n",
       "      <td>100% Recycled Paper Towels</td>\n",
       "      <td>54</td>\n",
       "      <td>17</td>\n",
       "      <td>0</td>\n",
       "      <td>0</td>\n",
       "      <td>0</td>\n",
       "      <td>114693</td>\n",
       "      <td>356.189441</td>\n",
       "      <td>890.200890</td>\n",
       "      <td>242996</td>\n",
       "      <td>754.645963</td>\n",
       "      <td>2098.962414</td>\n",
       "      <td>38.155159</td>\n",
       "      <td>13.827178</td>\n",
       "      <td>128303.0</td>\n",
       "      <td>398.456522</td>\n",
       "      <td>1222.160938</td>\n",
       "      <td>43551.0</td>\n",
       "      <td>135.251553</td>\n",
       "      <td>375.084001</td>\n",
       "      <td>7.903104</td>\n",
       "      <td>1.810790</td>\n",
       "      <td>0.528005</td>\n",
       "      <td>0.379718</td>\n",
       "      <td>441591</td>\n",
       "      <td>154.393354</td>\n",
       "      <td>110.280874</td>\n",
       "      <td>738666</td>\n",
       "      <td>256.710108</td>\n",
       "      <td>219.790858</td>\n",
       "      <td>8.838033</td>\n",
       "      <td>0.584963</td>\n",
       "      <td>297075.0</td>\n",
       "      <td>102.316753</td>\n",
       "      <td>116.317382</td>\n",
       "      <td>121200.0</td>\n",
       "      <td>42.064604</td>\n",
       "      <td>40.343935</td>\n",
       "      <td>2774568</td>\n",
       "      <td>test</td>\n",
       "      <td>13</td>\n",
       "      <td>5</td>\n",
       "      <td>15</td>\n",
       "      <td>11.0</td>\n",
       "      <td>NaN</td>\n",
       "      <td>0.136334</td>\n",
       "      <td>1</td>\n",
       "    </tr>\n",
       "  </tbody>\n",
       "</table>\n",
       "</div>"
      ],
      "text/plain": [
       "   user_id  product_id  user_product_order_num  \\\n",
       "0        3         248                       1   \n",
       "1        3        1005                       1   \n",
       "2        3        1819                       3   \n",
       "3        3        7503                       1   \n",
       "4        3        8021                       1   \n",
       "\n",
       "   user_product_last_purchase_day  user_product_order_interval_mean  \\\n",
       "0                               9                         42.677544   \n",
       "1                             107                         42.677544   \n",
       "2                              76                         13.000000   \n",
       "3                              30                         42.677544   \n",
       "4                               9                         42.677544   \n",
       "\n",
       "   user_product_order_interval_std  user_product_rank  \\\n",
       "0                        25.335363               26.5   \n",
       "1                        25.335363               26.5   \n",
       "2                         8.485281               10.0   \n",
       "3                        25.335363               26.5   \n",
       "4                        25.335363               26.5   \n",
       "\n",
       "   user_product_add_order_mean  user_product_add_order_std  \\\n",
       "0                     3.000000                    4.219923   \n",
       "1                     5.000000                    4.219923   \n",
       "2                     2.666667                    2.081666   \n",
       "3                     6.000000                    4.219923   \n",
       "4                     5.000000                    4.219923   \n",
       "\n",
       "   user_product_reorder_ratio  user_product_order_interval_mean_NaN  \\\n",
       "0                    0.083333                                     1   \n",
       "1                    0.083333                                     1   \n",
       "2                    0.250000                                     0   \n",
       "3                    0.083333                                     1   \n",
       "4                    0.083333                                     1   \n",
       "\n",
       "   user_product_order_interval_std_NaN  user_product_add_order_std_NaN  \\\n",
       "0                                    1                               1   \n",
       "1                                    1                               1   \n",
       "2                                    0                               0   \n",
       "3                                    1                               1   \n",
       "4                                    1                               1   \n",
       "\n",
       "   user_order_num  user_order_interval_mean  user_order_interval_std  \\\n",
       "0              12                 12.090909                 5.375026   \n",
       "1              12                 12.090909                 5.375026   \n",
       "2              12                 12.090909                 5.375026   \n",
       "3              12                 12.090909                 5.375026   \n",
       "4              12                 12.090909                 5.375026   \n",
       "\n",
       "   user_basket_size_mean  user_basket_size_std  user_history  \\\n",
       "0               7.333333              2.103388           133   \n",
       "1               7.333333              2.103388           133   \n",
       "2               7.333333              2.103388           133   \n",
       "3               7.333333              2.103388           133   \n",
       "4               7.333333              2.103388           133   \n",
       "\n",
       "   product_user_num  product_order_num  product_order_interval_mean  \\\n",
       "0              3821               6371                    46.417255   \n",
       "1               259                463                    41.313725   \n",
       "2              1231               2424                    34.731770   \n",
       "3              5569              12474                    35.672268   \n",
       "4             11392              27864                    39.763054   \n",
       "\n",
       "   product_order_interval_std  product_reorder_num  product_reorder_user_num  \\\n",
       "0                   50.716755               2550.0                    1068.0   \n",
       "1                   45.692371                204.0                      81.0   \n",
       "2                   42.123444               1193.0                     427.0   \n",
       "3                   40.877598               6905.0                    2137.0   \n",
       "4                   40.347542              16472.0                    5022.0   \n",
       "\n",
       "   product_reorder_ratio  product_reorder_user_ratio  \\\n",
       "0               0.400251                    0.279508   \n",
       "1               0.440605                    0.312741   \n",
       "2               0.492162                    0.346872   \n",
       "3               0.553551                    0.383731   \n",
       "4               0.591157                    0.440836   \n",
       "\n",
       "   product_add_to_cart_order_mean  product_add_to_cart_order_std  \\\n",
       "0                       10.620782                       8.025390   \n",
       "1                        9.498920                       7.984800   \n",
       "2                        9.287541                       7.441464   \n",
       "3                        9.547379                       7.622521   \n",
       "4                        8.822854                       7.211007   \n",
       "\n",
       "                               product_name  aisle_id  department_id  \\\n",
       "0               Dried Sweetened Cranberries       117             19   \n",
       "1                China Green Tips Green Tea        94              7   \n",
       "2  All Natural No Stir Creamy Almond Butter        88             13   \n",
       "3                             Whole Almonds       117             19   \n",
       "4                100% Recycled Paper Towels        54             17   \n",
       "\n",
       "   product_order_interval_mean_NaN  product_order_interval_std_NaN  \\\n",
       "0                                0                               0   \n",
       "1                                0                               0   \n",
       "2                                0                               0   \n",
       "3                                0                               0   \n",
       "4                                0                               0   \n",
       "\n",
       "   product_add_to_cart_order_std_NaN  aisle_prod_user_num_sum  \\\n",
       "0                                  0                   147368   \n",
       "1                                  0                   117785   \n",
       "2                                  0                   148279   \n",
       "3                                  0                   147368   \n",
       "4                                  0                   114693   \n",
       "\n",
       "   aisle_prod_user_num_mean  aisle_prod_user_num_std  \\\n",
       "0                253.209622               676.108087   \n",
       "1                131.750559               250.349819   \n",
       "2                301.380081               939.878510   \n",
       "3                253.209622               676.108087   \n",
       "4                356.189441               890.200890   \n",
       "\n",
       "   aisle_prod_order_num_sum  aisle_prod_order_num_mean  \\\n",
       "0                    306487                 526.609966   \n",
       "1                    249341                 278.904922   \n",
       "2                    289400                 588.211382   \n",
       "3                    306487                 526.609966   \n",
       "4                    242996                 754.645963   \n",
       "\n",
       "   aisle_prod_order_num_std  aisle_prod_order_interval_mean_mean  \\\n",
       "0               1478.642046                            31.982382   \n",
       "1                573.800820                            36.561707   \n",
       "2               1987.319908                            42.612740   \n",
       "3               1478.642046                            31.982382   \n",
       "4               2098.962414                            38.155159   \n",
       "\n",
       "   aisle_prod_order_interval_mean_std  aisle_prod_reorder_num_sum  \\\n",
       "0                           18.959030                    159119.0   \n",
       "1                           21.398149                    131556.0   \n",
       "2                           22.806234                    141121.0   \n",
       "3                           18.959030                    159119.0   \n",
       "4                           13.827178                    128303.0   \n",
       "\n",
       "   aisle_prod_reorder_num_mean  aisle_prod_reorder_num_std  \\\n",
       "0                   273.400344                  845.712074   \n",
       "1                   147.154362                  356.875358   \n",
       "2                   286.831301                 1057.015871   \n",
       "3                   273.400344                  845.712074   \n",
       "4                   398.456522                 1222.160938   \n",
       "\n",
       "   aisle_prod_reorder_user_num_sum  aisle_prod_reorder_user_num_mean  \\\n",
       "0                          50103.0                         86.087629   \n",
       "1                          38583.0                         43.157718   \n",
       "2                          50916.0                        103.487805   \n",
       "3                          50103.0                         86.087629   \n",
       "4                          43551.0                        135.251553   \n",
       "\n",
       "   aisle_prod_reorder_user_num_std  aisle_prod_add_to_cart_order_mean  \\\n",
       "0                       248.092359                           9.712533   \n",
       "1                        89.546667                           8.890520   \n",
       "2                       363.993283                           9.534949   \n",
       "3                       248.092359                           9.712533   \n",
       "4                       375.084001                           7.903104   \n",
       "\n",
       "   aisle_prod_add_to_cart_order_std  aisle_reorder_ratio  \\\n",
       "0                          2.255376             0.519170   \n",
       "1                          2.308560             0.527615   \n",
       "2                          2.093723             0.487633   \n",
       "3                          2.255376             0.519170   \n",
       "4                          1.810790             0.528005   \n",
       "\n",
       "   aisle_user_reorder_ratio  department_prod_user_num_sum  \\\n",
       "0                  0.339986                       1229577   \n",
       "1                  0.327571                        932237   \n",
       "2                  0.343380                       1225276   \n",
       "3                  0.339986                       1229577   \n",
       "4                  0.379718                        441591   \n",
       "\n",
       "   department_prod_user_num_mean  department_prod_user_num_std  \\\n",
       "0                     184.277748                     78.117275   \n",
       "1                     228.512015                    192.511727   \n",
       "2                     220.021779                    112.494815   \n",
       "3                     184.277748                     78.117275   \n",
       "4                     154.393354                    110.280874   \n",
       "\n",
       "   department_prod_order_num_sum  department_prod_order_num_mean  \\\n",
       "0                        2887550                      429.355375   \n",
       "1                        2690129                      690.856125   \n",
       "2                        1875577                      344.582258   \n",
       "3                        2887550                      429.355375   \n",
       "4                         738666                      256.710108   \n",
       "\n",
       "   department_prod_order_num_std  department_prod_add_to_cart_order_mean  \\\n",
       "0                     201.135440                                9.605942   \n",
       "1                     753.685494                                8.079681   \n",
       "2                     183.375250                                9.786937   \n",
       "3                     201.135440                                9.605942   \n",
       "4                     219.790858                                8.838033   \n",
       "\n",
       "   department_prod_add_to_cart_order_std  department_prod_reorder_num_sum  \\\n",
       "0                               0.644157                        1657973.0   \n",
       "1                               0.705206                        1757892.0   \n",
       "2                               0.470421                         650301.0   \n",
       "3                               0.644157                        1657973.0   \n",
       "4                               0.584963                         297075.0   \n",
       "\n",
       "   department_prod_reorder_num_mean  department_prod_reorder_num_std  \\\n",
       "0                        245.077627                       125.815728   \n",
       "1                        462.344110                       562.454967   \n",
       "2                        124.560479                        82.869489   \n",
       "3                        245.077627                       125.815728   \n",
       "4                        102.316753                       116.317382   \n",
       "\n",
       "   department_prod_reorder_user_num_sum  \\\n",
       "0                              483357.0   \n",
       "1                              408690.0   \n",
       "2                              282866.0   \n",
       "3                              483357.0   \n",
       "4                              121200.0   \n",
       "\n",
       "   department_prod_reorder_user_num_mean  \\\n",
       "0                              70.903977   \n",
       "1                             103.938473   \n",
       "2                              53.347841   \n",
       "3                              70.903977   \n",
       "4                              42.064604   \n",
       "\n",
       "   department_prod_reorder_user_num_std  order_id eval_set  order_number  \\\n",
       "0                             35.028622   2774568     test            13   \n",
       "1                            108.233336   2774568     test            13   \n",
       "2                             31.830262   2774568     test            13   \n",
       "3                             35.028622   2774568     test            13   \n",
       "4                             40.343935   2774568     test            13   \n",
       "\n",
       "   order_dow  order_hour_of_day  days_since_prior_order  add_to_cart_order  \\\n",
       "0          5                 15                    11.0                NaN   \n",
       "1          5                 15                    11.0                NaN   \n",
       "2          5                 15                    11.0                NaN   \n",
       "3          5                 15                    11.0                NaN   \n",
       "4          5                 15                    11.0                NaN   \n",
       "\n",
       "       True XGB_pred_y  \n",
       "0  0.075636          0  \n",
       "1  0.080432          0  \n",
       "2  0.183152          1  \n",
       "3  0.075252          0  \n",
       "4  0.136334          1  "
      ]
     },
     "execution_count": 48,
     "metadata": {},
     "output_type": "execute_result"
    }
   ],
   "source": [
    "test_df.head()"
   ]
  },
  {
   "cell_type": "code",
   "execution_count": 49,
   "metadata": {
    "collapsed": true
   },
   "outputs": [],
   "source": [
    "result = test_df[test_df.XGB_pred_y == 1][['order_id', 'product_id']].reset_index(drop = True)"
   ]
  },
  {
   "cell_type": "code",
   "execution_count": 50,
   "metadata": {
    "collapsed": true
   },
   "outputs": [],
   "source": [
    "submission = pd.DataFrame(result.groupby('order_id').aggregate(lambda x: tuple(x)), columns = ['product_id']).reset_index()"
   ]
  },
  {
   "cell_type": "code",
   "execution_count": 51,
   "metadata": {
    "collapsed": true
   },
   "outputs": [],
   "source": [
    "submission['products'] = submission.product_id.apply(lambda x: ' '.join([str(a) for a in x]))"
   ]
  },
  {
   "cell_type": "code",
   "execution_count": 52,
   "metadata": {
    "collapsed": true
   },
   "outputs": [],
   "source": [
    "submission.drop('product_id', axis = 1, inplace=True)"
   ]
  },
  {
   "cell_type": "code",
   "execution_count": 53,
   "metadata": {},
   "outputs": [
    {
     "data": {
      "text/html": [
       "<div>\n",
       "<style>\n",
       "    .dataframe thead tr:only-child th {\n",
       "        text-align: right;\n",
       "    }\n",
       "\n",
       "    .dataframe thead th {\n",
       "        text-align: left;\n",
       "    }\n",
       "\n",
       "    .dataframe tbody tr th {\n",
       "        vertical-align: top;\n",
       "    }\n",
       "</style>\n",
       "<table border=\"1\" class=\"dataframe\">\n",
       "  <thead>\n",
       "    <tr style=\"text-align: right;\">\n",
       "      <th></th>\n",
       "      <th>order_id</th>\n",
       "      <th>products</th>\n",
       "    </tr>\n",
       "  </thead>\n",
       "  <tbody>\n",
       "    <tr>\n",
       "      <th>0</th>\n",
       "      <td>17</td>\n",
       "      <td>6291 7035 11494 13107 13535 15613 16965 18288 ...</td>\n",
       "    </tr>\n",
       "    <tr>\n",
       "      <th>1</th>\n",
       "      <td>34</td>\n",
       "      <td>2596 5134 7035 7131 7559 7948 9597 9839 10132 ...</td>\n",
       "    </tr>\n",
       "    <tr>\n",
       "      <th>2</th>\n",
       "      <td>137</td>\n",
       "      <td>2326 5134 13304 13740 14678 14992 16797 18465 ...</td>\n",
       "    </tr>\n",
       "    <tr>\n",
       "      <th>3</th>\n",
       "      <td>182</td>\n",
       "      <td>1244 2078 2480 3397 5479 6972 8021 8518 9337 1...</td>\n",
       "    </tr>\n",
       "    <tr>\n",
       "      <th>4</th>\n",
       "      <td>257</td>\n",
       "      <td>1025 2063 4605 8277 11140 11782 12341 12456 13...</td>\n",
       "    </tr>\n",
       "  </tbody>\n",
       "</table>\n",
       "</div>"
      ],
      "text/plain": [
       "   order_id                                           products\n",
       "0        17  6291 7035 11494 13107 13535 15613 16965 18288 ...\n",
       "1        34  2596 5134 7035 7131 7559 7948 9597 9839 10132 ...\n",
       "2       137  2326 5134 13304 13740 14678 14992 16797 18465 ...\n",
       "3       182  1244 2078 2480 3397 5479 6972 8021 8518 9337 1...\n",
       "4       257  1025 2063 4605 8277 11140 11782 12341 12456 13..."
      ]
     },
     "execution_count": 53,
     "metadata": {},
     "output_type": "execute_result"
    }
   ],
   "source": [
    "submission.head()"
   ]
  },
  {
   "cell_type": "code",
   "execution_count": 54,
   "metadata": {
    "collapsed": true
   },
   "outputs": [],
   "source": [
    "new_submission = pd.merge(orders[orders.eval_set == 'test'], submission, on = 'order_id', how = 'left')"
   ]
  },
  {
   "cell_type": "code",
   "execution_count": 55,
   "metadata": {
    "collapsed": true
   },
   "outputs": [],
   "source": [
    "new_submission = new_submission[['order_id', 'products']]"
   ]
  },
  {
   "cell_type": "code",
   "execution_count": 56,
   "metadata": {
    "collapsed": true
   },
   "outputs": [],
   "source": [
    "new_submission = new_submission.sort_values('order_id').reset_index(drop =True)"
   ]
  },
  {
   "cell_type": "code",
   "execution_count": 57,
   "metadata": {
    "collapsed": true
   },
   "outputs": [],
   "source": [
    "new_submission.to_csv('submission.csv', index=False)"
   ]
  },
  {
   "cell_type": "code",
   "execution_count": 58,
   "metadata": {},
   "outputs": [
    {
     "data": {
      "text/plain": [
       "(75000, 2)"
      ]
     },
     "execution_count": 58,
     "metadata": {},
     "output_type": "execute_result"
    }
   ],
   "source": [
    "new_submission.shape"
   ]
  },
  {
   "cell_type": "code",
   "execution_count": null,
   "metadata": {
    "collapsed": true
   },
   "outputs": [],
   "source": []
  }
 ],
 "metadata": {
  "kernelspec": {
   "display_name": "Python 3",
   "language": "python",
   "name": "python3"
  },
  "language_info": {
   "codemirror_mode": {
    "name": "ipython",
    "version": 3
   },
   "file_extension": ".py",
   "mimetype": "text/x-python",
   "name": "python",
   "nbconvert_exporter": "python",
   "pygments_lexer": "ipython3",
   "version": "3.6.1"
  }
 },
 "nbformat": 4,
 "nbformat_minor": 2
}
