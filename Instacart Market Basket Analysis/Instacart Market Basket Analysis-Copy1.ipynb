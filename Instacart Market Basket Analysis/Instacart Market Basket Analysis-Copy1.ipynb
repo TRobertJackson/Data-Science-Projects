{
 "cells": [
  {
   "cell_type": "markdown",
   "metadata": {},
   "source": [
    "## Models!"
   ]
  },
  {
   "cell_type": "code",
   "execution_count": 1,
   "metadata": {
    "collapsed": true
   },
   "outputs": [],
   "source": [
    "import numpy as np\n",
    "import pandas as pd\n",
    "import matplotlib.pyplot as plt\n",
    "import pickle\n",
    "\n",
    "%matplotlib inline "
   ]
  },
  {
   "cell_type": "code",
   "execution_count": 2,
   "metadata": {
    "collapsed": true
   },
   "outputs": [],
   "source": [
    "pd.set_option('display.max_rows', 100)\n",
    "pd.set_option('display.max_columns', 100)"
   ]
  },
  {
   "cell_type": "code",
   "execution_count": 3,
   "metadata": {
    "collapsed": true
   },
   "outputs": [],
   "source": [
    "from sklearn.neighbors import KNeighborsClassifier\n",
    "from sklearn.model_selection import train_test_split, cross_val_score, learning_curve, KFold, GridSearchCV, GroupKFold\n",
    "from sklearn.linear_model import LogisticRegression\n",
    "from sklearn.metrics import accuracy_score\n",
    "from sklearn.naive_bayes import GaussianNB\n",
    "from sklearn.svm import SVC\n",
    "from sklearn.tree import DecisionTreeClassifier\n",
    "from sklearn.ensemble import RandomForestClassifier\n",
    "from sklearn.preprocessing import MinMaxScaler\n",
    "from sklearn.neighbors import KNeighborsClassifier\n",
    "from sklearn.metrics import roc_curve,auc,accuracy_score,recall_score,precision_score,f1_score\n",
    "from xgboost import XGBClassifier"
   ]
  },
  {
   "cell_type": "code",
   "execution_count": 4,
   "metadata": {
    "collapsed": true
   },
   "outputs": [],
   "source": [
    "aisles = pd.read_csv('data/aisles.csv', dtype = {\n",
    "    'aisle_id': np.uint16,\n",
    "    'aisle': np.str},\n",
    "    usecols=['aisle_id', 'aisle'])"
   ]
  },
  {
   "cell_type": "code",
   "execution_count": 5,
   "metadata": {
    "collapsed": true
   },
   "outputs": [],
   "source": [
    "departments = pd.read_csv('data/departments.csv', dtype = {\n",
    "    'department_id': np.uint16,\n",
    "    'department': np.str},\n",
    "    usecols=['department_id', 'department'])"
   ]
  },
  {
   "cell_type": "code",
   "execution_count": 6,
   "metadata": {
    "collapsed": true
   },
   "outputs": [],
   "source": [
    "order_products_prior = pd.read_csv('data/order_products__prior.csv', dtype = {\n",
    "    'order_id': np.uint32,\n",
    "    'product_id': np.uint32,\n",
    "    'add_to_cart_order': np.uint16,\n",
    "    'reordered': np.uint16},\n",
    "    usecols=['order_id', 'product_id', 'add_to_cart_order', 'reordered'])"
   ]
  },
  {
   "cell_type": "code",
   "execution_count": 7,
   "metadata": {
    "collapsed": true
   },
   "outputs": [],
   "source": [
    "order_product_train = pd.read_csv('data/order_products__train.csv', dtype = {\n",
    "    'order_id': np.uint32,\n",
    "    'product_id': np.uint32,\n",
    "    'add_to_cart_order': np.uint16,\n",
    "    'reordered': np.uint16},\n",
    "    usecols=['order_id', 'product_id', 'add_to_cart_order', 'reordered'])"
   ]
  },
  {
   "cell_type": "code",
   "execution_count": 8,
   "metadata": {
    "collapsed": true
   },
   "outputs": [],
   "source": [
    "orders = pd.read_csv('data/orders.csv', dtype = {\n",
    "    'order_id': np.uint32,\n",
    "    'user_id' :np.uint32,\n",
    "    'eval_set': 'category',\n",
    "    'order_number': np.uint16,\n",
    "    'order_dow': np.uint16,\n",
    "    'order_hour_of_day': np.uint8,\n",
    "    'days_since_prior_order': np.float32},\n",
    "                     usecols=['order_id', 'user_id', 'eval_set', 'order_number', 'order_dow', 'order_hour_of_day', 'days_since_prior_order'])"
   ]
  },
  {
   "cell_type": "code",
   "execution_count": 9,
   "metadata": {
    "collapsed": true
   },
   "outputs": [],
   "source": [
    "products = pd.read_csv('data/products.csv', dtype = {'product_id': np.uint16,\n",
    "        'product_name': np.str,\n",
    "        'aisle_id': np.uint16,\n",
    "        'department_id': np.uint16},\n",
    "        usecols=['product_id', 'product_name', 'aisle_id', 'department_id'])"
   ]
  },
  {
   "cell_type": "code",
   "execution_count": 10,
   "metadata": {
    "collapsed": true
   },
   "outputs": [],
   "source": [
    "priordf = pickle.load(open('data/pickle_files/priordf.p', 'rb'))\n",
    "user_info = pickle.load(open('data/pickle_files/user_info.p', 'rb'))\n",
    "product_info = pickle.load(open('data/pickle_files/product_info.p', 'rb'))\n",
    "user_product_info = pickle.load(open('data/pickle_files/user_product_info.p', 'rb'))\n",
    "ordertime_info = pickle.load(open('data/pickle_files/ordertime_info.p', 'rb'))\n",
    "user_ordertime_info = pickle.load(open('data/pickle_files/user_ordertime_info.p', 'rb'))\n",
    "product_ordertime_info = pickle.load(open('data/pickle_files/product_ordertime_info.p', 'rb'))\n",
    "aisle_info = pickle.load(open('data/pickle_files/aisle_info.p', 'rb'))\n",
    "department_info = pickle.load(open('data/pickle_files/department_info.p', 'rb'))"
   ]
  },
  {
   "cell_type": "code",
   "execution_count": 11,
   "metadata": {
    "collapsed": true
   },
   "outputs": [],
   "source": [
    "master_prior_df = pd.merge(user_product_info, user_info, on = 'user_id', how = 'left')"
   ]
  },
  {
   "cell_type": "code",
   "execution_count": 12,
   "metadata": {
    "collapsed": true
   },
   "outputs": [],
   "source": [
    "master_prior_df = pd.merge(master_prior_df, product_info, on = 'product_id', how = 'left')"
   ]
  },
  {
   "cell_type": "code",
   "execution_count": 13,
   "metadata": {
    "collapsed": true
   },
   "outputs": [],
   "source": [
    "master_prior_df = pd.merge(master_prior_df, aisle_info, on = 'aisle_id', how = 'left', suffixes=('', '_y'))"
   ]
  },
  {
   "cell_type": "code",
   "execution_count": 14,
   "metadata": {
    "collapsed": true
   },
   "outputs": [],
   "source": [
    "master_prior_df.drop('department_id_y', axis = 1, inplace=True)"
   ]
  },
  {
   "cell_type": "code",
   "execution_count": 15,
   "metadata": {
    "collapsed": true
   },
   "outputs": [],
   "source": [
    "master_prior_df = pd.merge(master_prior_df, department_info, on = 'department_id', how = 'left', suffixes=('', '_y'))"
   ]
  },
  {
   "cell_type": "code",
   "execution_count": 16,
   "metadata": {
    "collapsed": true
   },
   "outputs": [],
   "source": [
    "train_users = orders[orders.eval_set == 'train'].user_id"
   ]
  },
  {
   "cell_type": "code",
   "execution_count": 17,
   "metadata": {
    "collapsed": true
   },
   "outputs": [],
   "source": [
    "train_df = master_prior_df[master_prior_df.user_id.isin(train_users)]"
   ]
  },
  {
   "cell_type": "code",
   "execution_count": 18,
   "metadata": {},
   "outputs": [
    {
     "data": {
      "text/html": [
       "<div>\n",
       "<style>\n",
       "    .dataframe thead tr:only-child th {\n",
       "        text-align: right;\n",
       "    }\n",
       "\n",
       "    .dataframe thead th {\n",
       "        text-align: left;\n",
       "    }\n",
       "\n",
       "    .dataframe tbody tr th {\n",
       "        vertical-align: top;\n",
       "    }\n",
       "</style>\n",
       "<table border=\"1\" class=\"dataframe\">\n",
       "  <thead>\n",
       "    <tr style=\"text-align: right;\">\n",
       "      <th></th>\n",
       "      <th>user_id</th>\n",
       "      <th>product_id</th>\n",
       "      <th>user_product_order_num</th>\n",
       "      <th>user_product_last_purchase_day</th>\n",
       "      <th>user_product_order_interval_mean</th>\n",
       "      <th>user_product_order_interval_std</th>\n",
       "      <th>user_product_rank</th>\n",
       "      <th>user_product_add_order_mean</th>\n",
       "      <th>user_product_add_order_std</th>\n",
       "      <th>user_product_reorder_ratio</th>\n",
       "      <th>user_product_order_interval_mean_NaN</th>\n",
       "      <th>user_product_order_interval_std_NaN</th>\n",
       "      <th>user_product_add_order_std_NaN</th>\n",
       "      <th>user_order_num</th>\n",
       "      <th>user_order_interval_mean</th>\n",
       "      <th>user_order_interval_std</th>\n",
       "      <th>user_basket_size_mean</th>\n",
       "      <th>user_basket_size_std</th>\n",
       "      <th>user_history</th>\n",
       "      <th>product_user_num</th>\n",
       "      <th>product_order_num</th>\n",
       "      <th>product_order_interval_mean</th>\n",
       "      <th>product_order_interval_std</th>\n",
       "      <th>product_reorder_num</th>\n",
       "      <th>product_reorder_user_num</th>\n",
       "      <th>product_reorder_ratio</th>\n",
       "      <th>product_reorder_user_ratio</th>\n",
       "      <th>product_add_to_cart_order_mean</th>\n",
       "      <th>product_add_to_cart_order_std</th>\n",
       "      <th>product_name</th>\n",
       "      <th>aisle_id</th>\n",
       "      <th>department_id</th>\n",
       "      <th>product_order_interval_mean_NaN</th>\n",
       "      <th>product_order_interval_std_NaN</th>\n",
       "      <th>product_add_to_cart_order_std_NaN</th>\n",
       "      <th>aisle_prod_user_num_sum</th>\n",
       "      <th>aisle_prod_user_num_mean</th>\n",
       "      <th>aisle_prod_user_num_std</th>\n",
       "      <th>aisle_prod_order_num_sum</th>\n",
       "      <th>aisle_prod_order_num_mean</th>\n",
       "      <th>aisle_prod_order_num_std</th>\n",
       "      <th>aisle_prod_order_interval_mean_mean</th>\n",
       "      <th>aisle_prod_order_interval_mean_std</th>\n",
       "      <th>aisle_prod_reorder_num_sum</th>\n",
       "      <th>aisle_prod_reorder_num_mean</th>\n",
       "      <th>aisle_prod_reorder_num_std</th>\n",
       "      <th>aisle_prod_reorder_user_num_sum</th>\n",
       "      <th>aisle_prod_reorder_user_num_mean</th>\n",
       "      <th>aisle_prod_reorder_user_num_std</th>\n",
       "      <th>aisle_prod_add_to_cart_order_mean</th>\n",
       "      <th>aisle_prod_add_to_cart_order_std</th>\n",
       "      <th>aisle_reorder_ratio</th>\n",
       "      <th>aisle_user_reorder_ratio</th>\n",
       "      <th>department_prod_user_num_sum</th>\n",
       "      <th>department_prod_user_num_mean</th>\n",
       "      <th>department_prod_user_num_std</th>\n",
       "      <th>department_prod_order_num_sum</th>\n",
       "      <th>department_prod_order_num_mean</th>\n",
       "      <th>department_prod_order_num_std</th>\n",
       "      <th>department_prod_add_to_cart_order_mean</th>\n",
       "      <th>department_prod_add_to_cart_order_std</th>\n",
       "      <th>department_prod_reorder_num_sum</th>\n",
       "      <th>department_prod_reorder_num_mean</th>\n",
       "      <th>department_prod_reorder_num_std</th>\n",
       "      <th>department_prod_reorder_user_num_sum</th>\n",
       "      <th>department_prod_reorder_user_num_mean</th>\n",
       "      <th>department_prod_reorder_user_num_std</th>\n",
       "    </tr>\n",
       "  </thead>\n",
       "  <tbody>\n",
       "    <tr>\n",
       "      <th>0</th>\n",
       "      <td>1</td>\n",
       "      <td>196</td>\n",
       "      <td>10</td>\n",
       "      <td>176</td>\n",
       "      <td>19.555555</td>\n",
       "      <td>9.395625</td>\n",
       "      <td>1.5</td>\n",
       "      <td>1.400000</td>\n",
       "      <td>0.966092</td>\n",
       "      <td>1.0</td>\n",
       "      <td>0</td>\n",
       "      <td>0</td>\n",
       "      <td>0</td>\n",
       "      <td>10</td>\n",
       "      <td>19.555555</td>\n",
       "      <td>9.395625</td>\n",
       "      <td>5.9</td>\n",
       "      <td>1.523884</td>\n",
       "      <td>176</td>\n",
       "      <td>8000</td>\n",
       "      <td>35791</td>\n",
       "      <td>22.623835</td>\n",
       "      <td>26.001011</td>\n",
       "      <td>27791.0</td>\n",
       "      <td>4660.0</td>\n",
       "      <td>0.776480</td>\n",
       "      <td>0.582500</td>\n",
       "      <td>3.721774</td>\n",
       "      <td>4.110813</td>\n",
       "      <td>Soda</td>\n",
       "      <td>77</td>\n",
       "      <td>7</td>\n",
       "      <td>0</td>\n",
       "      <td>0</td>\n",
       "      <td>0</td>\n",
       "      <td>129131</td>\n",
       "      <td>278.900648</td>\n",
       "      <td>736.904549</td>\n",
       "      <td>357537</td>\n",
       "      <td>772.218143</td>\n",
       "      <td>2415.057166</td>\n",
       "      <td>25.996077</td>\n",
       "      <td>14.911694</td>\n",
       "      <td>228406.0</td>\n",
       "      <td>493.317495</td>\n",
       "      <td>1726.669834</td>\n",
       "      <td>55534.0</td>\n",
       "      <td>119.943844</td>\n",
       "      <td>354.541349</td>\n",
       "      <td>7.647766</td>\n",
       "      <td>2.189116</td>\n",
       "      <td>0.638832</td>\n",
       "      <td>0.430059</td>\n",
       "      <td>932237</td>\n",
       "      <td>228.512015</td>\n",
       "      <td>192.511727</td>\n",
       "      <td>2690129</td>\n",
       "      <td>690.856125</td>\n",
       "      <td>753.685494</td>\n",
       "      <td>8.079681</td>\n",
       "      <td>0.705206</td>\n",
       "      <td>1757892.0</td>\n",
       "      <td>462.344110</td>\n",
       "      <td>562.454967</td>\n",
       "      <td>408690.0</td>\n",
       "      <td>103.938473</td>\n",
       "      <td>108.233336</td>\n",
       "    </tr>\n",
       "    <tr>\n",
       "      <th>1</th>\n",
       "      <td>1</td>\n",
       "      <td>10258</td>\n",
       "      <td>9</td>\n",
       "      <td>176</td>\n",
       "      <td>20.125000</td>\n",
       "      <td>9.876922</td>\n",
       "      <td>3.0</td>\n",
       "      <td>3.333333</td>\n",
       "      <td>1.322876</td>\n",
       "      <td>0.9</td>\n",
       "      <td>0</td>\n",
       "      <td>0</td>\n",
       "      <td>0</td>\n",
       "      <td>10</td>\n",
       "      <td>19.555555</td>\n",
       "      <td>9.395625</td>\n",
       "      <td>5.9</td>\n",
       "      <td>1.523884</td>\n",
       "      <td>176</td>\n",
       "      <td>557</td>\n",
       "      <td>1946</td>\n",
       "      <td>24.268539</td>\n",
       "      <td>26.848476</td>\n",
       "      <td>1389.0</td>\n",
       "      <td>308.0</td>\n",
       "      <td>0.713772</td>\n",
       "      <td>0.552962</td>\n",
       "      <td>4.277493</td>\n",
       "      <td>3.567502</td>\n",
       "      <td>Pistachios</td>\n",
       "      <td>117</td>\n",
       "      <td>19</td>\n",
       "      <td>0</td>\n",
       "      <td>0</td>\n",
       "      <td>0</td>\n",
       "      <td>147368</td>\n",
       "      <td>253.209622</td>\n",
       "      <td>676.108087</td>\n",
       "      <td>306487</td>\n",
       "      <td>526.609966</td>\n",
       "      <td>1478.642046</td>\n",
       "      <td>31.982382</td>\n",
       "      <td>18.959030</td>\n",
       "      <td>159119.0</td>\n",
       "      <td>273.400344</td>\n",
       "      <td>845.712074</td>\n",
       "      <td>50103.0</td>\n",
       "      <td>86.087629</td>\n",
       "      <td>248.092359</td>\n",
       "      <td>9.712533</td>\n",
       "      <td>2.255376</td>\n",
       "      <td>0.519170</td>\n",
       "      <td>0.339986</td>\n",
       "      <td>1229577</td>\n",
       "      <td>184.277748</td>\n",
       "      <td>78.117275</td>\n",
       "      <td>2887550</td>\n",
       "      <td>429.355375</td>\n",
       "      <td>201.135440</td>\n",
       "      <td>9.605942</td>\n",
       "      <td>0.644157</td>\n",
       "      <td>1657973.0</td>\n",
       "      <td>245.077627</td>\n",
       "      <td>125.815728</td>\n",
       "      <td>483357.0</td>\n",
       "      <td>70.903977</td>\n",
       "      <td>35.028622</td>\n",
       "    </tr>\n",
       "    <tr>\n",
       "      <th>2</th>\n",
       "      <td>1</td>\n",
       "      <td>10326</td>\n",
       "      <td>1</td>\n",
       "      <td>93</td>\n",
       "      <td>42.677544</td>\n",
       "      <td>25.335363</td>\n",
       "      <td>14.5</td>\n",
       "      <td>5.000000</td>\n",
       "      <td>4.219923</td>\n",
       "      <td>0.1</td>\n",
       "      <td>1</td>\n",
       "      <td>1</td>\n",
       "      <td>1</td>\n",
       "      <td>10</td>\n",
       "      <td>19.555555</td>\n",
       "      <td>9.395625</td>\n",
       "      <td>5.9</td>\n",
       "      <td>1.523884</td>\n",
       "      <td>176</td>\n",
       "      <td>1923</td>\n",
       "      <td>5526</td>\n",
       "      <td>26.605606</td>\n",
       "      <td>36.763191</td>\n",
       "      <td>3603.0</td>\n",
       "      <td>1003.0</td>\n",
       "      <td>0.652009</td>\n",
       "      <td>0.521581</td>\n",
       "      <td>4.191097</td>\n",
       "      <td>3.611701</td>\n",
       "      <td>Organic Fuji Apples</td>\n",
       "      <td>24</td>\n",
       "      <td>4</td>\n",
       "      <td>0</td>\n",
       "      <td>0</td>\n",
       "      <td>0</td>\n",
       "      <td>1026719</td>\n",
       "      <td>2687.746073</td>\n",
       "      <td>8357.649783</td>\n",
       "      <td>3642188</td>\n",
       "      <td>9534.523560</td>\n",
       "      <td>40105.378548</td>\n",
       "      <td>24.105310</td>\n",
       "      <td>12.450514</td>\n",
       "      <td>2615469.0</td>\n",
       "      <td>6846.777487</td>\n",
       "      <td>32174.918772</td>\n",
       "      <td>560354.0</td>\n",
       "      <td>1466.895288</td>\n",
       "      <td>5410.202963</td>\n",
       "      <td>8.672981</td>\n",
       "      <td>2.014458</td>\n",
       "      <td>0.718104</td>\n",
       "      <td>0.545772</td>\n",
       "      <td>3318581</td>\n",
       "      <td>2190.172202</td>\n",
       "      <td>683.524710</td>\n",
       "      <td>9479291</td>\n",
       "      <td>6286.046039</td>\n",
       "      <td>2799.902559</td>\n",
       "      <td>8.410426</td>\n",
       "      <td>1.865486</td>\n",
       "      <td>6160710.0</td>\n",
       "      <td>4095.873837</td>\n",
       "      <td>2222.922021</td>\n",
       "      <td>1598097.0</td>\n",
       "      <td>1047.023084</td>\n",
       "      <td>403.342103</td>\n",
       "    </tr>\n",
       "    <tr>\n",
       "      <th>3</th>\n",
       "      <td>1</td>\n",
       "      <td>12427</td>\n",
       "      <td>10</td>\n",
       "      <td>176</td>\n",
       "      <td>19.555555</td>\n",
       "      <td>9.395625</td>\n",
       "      <td>1.5</td>\n",
       "      <td>3.300000</td>\n",
       "      <td>2.406011</td>\n",
       "      <td>1.0</td>\n",
       "      <td>0</td>\n",
       "      <td>0</td>\n",
       "      <td>0</td>\n",
       "      <td>10</td>\n",
       "      <td>19.555555</td>\n",
       "      <td>9.395625</td>\n",
       "      <td>5.9</td>\n",
       "      <td>1.523884</td>\n",
       "      <td>176</td>\n",
       "      <td>1679</td>\n",
       "      <td>6476</td>\n",
       "      <td>19.953512</td>\n",
       "      <td>25.316103</td>\n",
       "      <td>4797.0</td>\n",
       "      <td>889.0</td>\n",
       "      <td>0.740735</td>\n",
       "      <td>0.529482</td>\n",
       "      <td>4.760037</td>\n",
       "      <td>4.782450</td>\n",
       "      <td>Original Beef Jerky</td>\n",
       "      <td>23</td>\n",
       "      <td>19</td>\n",
       "      <td>0</td>\n",
       "      <td>0</td>\n",
       "      <td>0</td>\n",
       "      <td>66720</td>\n",
       "      <td>211.139241</td>\n",
       "      <td>565.300465</td>\n",
       "      <td>163524</td>\n",
       "      <td>517.481013</td>\n",
       "      <td>1572.546061</td>\n",
       "      <td>31.392450</td>\n",
       "      <td>14.166268</td>\n",
       "      <td>96804.0</td>\n",
       "      <td>306.341772</td>\n",
       "      <td>1018.486136</td>\n",
       "      <td>27658.0</td>\n",
       "      <td>87.525316</td>\n",
       "      <td>265.427758</td>\n",
       "      <td>9.348668</td>\n",
       "      <td>2.149298</td>\n",
       "      <td>0.591986</td>\n",
       "      <td>0.414538</td>\n",
       "      <td>1229577</td>\n",
       "      <td>184.277748</td>\n",
       "      <td>78.117275</td>\n",
       "      <td>2887550</td>\n",
       "      <td>429.355375</td>\n",
       "      <td>201.135440</td>\n",
       "      <td>9.605942</td>\n",
       "      <td>0.644157</td>\n",
       "      <td>1657973.0</td>\n",
       "      <td>245.077627</td>\n",
       "      <td>125.815728</td>\n",
       "      <td>483357.0</td>\n",
       "      <td>70.903977</td>\n",
       "      <td>35.028622</td>\n",
       "    </tr>\n",
       "    <tr>\n",
       "      <th>4</th>\n",
       "      <td>1</td>\n",
       "      <td>13032</td>\n",
       "      <td>3</td>\n",
       "      <td>176</td>\n",
       "      <td>80.500000</td>\n",
       "      <td>51.618793</td>\n",
       "      <td>5.5</td>\n",
       "      <td>6.333333</td>\n",
       "      <td>1.527525</td>\n",
       "      <td>0.3</td>\n",
       "      <td>0</td>\n",
       "      <td>0</td>\n",
       "      <td>0</td>\n",
       "      <td>10</td>\n",
       "      <td>19.555555</td>\n",
       "      <td>9.395625</td>\n",
       "      <td>5.9</td>\n",
       "      <td>1.523884</td>\n",
       "      <td>176</td>\n",
       "      <td>1286</td>\n",
       "      <td>3751</td>\n",
       "      <td>31.215416</td>\n",
       "      <td>37.182076</td>\n",
       "      <td>2465.0</td>\n",
       "      <td>617.0</td>\n",
       "      <td>0.657158</td>\n",
       "      <td>0.479782</td>\n",
       "      <td>5.622767</td>\n",
       "      <td>5.345184</td>\n",
       "      <td>Cinnamon Toast Crunch</td>\n",
       "      <td>121</td>\n",
       "      <td>14</td>\n",
       "      <td>0</td>\n",
       "      <td>0</td>\n",
       "      <td>0</td>\n",
       "      <td>161764</td>\n",
       "      <td>356.308370</td>\n",
       "      <td>824.174526</td>\n",
       "      <td>377586</td>\n",
       "      <td>831.687225</td>\n",
       "      <td>1973.034402</td>\n",
       "      <td>30.660225</td>\n",
       "      <td>10.067678</td>\n",
       "      <td>215822.0</td>\n",
       "      <td>475.378855</td>\n",
       "      <td>1157.061839</td>\n",
       "      <td>66813.0</td>\n",
       "      <td>147.165198</td>\n",
       "      <td>359.088257</td>\n",
       "      <td>9.421302</td>\n",
       "      <td>2.247966</td>\n",
       "      <td>0.571584</td>\n",
       "      <td>0.413028</td>\n",
       "      <td>311556</td>\n",
       "      <td>252.928220</td>\n",
       "      <td>78.002364</td>\n",
       "      <td>709569</td>\n",
       "      <td>580.795337</td>\n",
       "      <td>177.463013</td>\n",
       "      <td>9.460799</td>\n",
       "      <td>0.091380</td>\n",
       "      <td>398013.0</td>\n",
       "      <td>327.867117</td>\n",
       "      <td>105.550970</td>\n",
       "      <td>122600.0</td>\n",
       "      <td>99.369176</td>\n",
       "      <td>32.916165</td>\n",
       "    </tr>\n",
       "  </tbody>\n",
       "</table>\n",
       "</div>"
      ],
      "text/plain": [
       "   user_id  product_id  user_product_order_num  \\\n",
       "0        1         196                      10   \n",
       "1        1       10258                       9   \n",
       "2        1       10326                       1   \n",
       "3        1       12427                      10   \n",
       "4        1       13032                       3   \n",
       "\n",
       "   user_product_last_purchase_day  user_product_order_interval_mean  \\\n",
       "0                             176                         19.555555   \n",
       "1                             176                         20.125000   \n",
       "2                              93                         42.677544   \n",
       "3                             176                         19.555555   \n",
       "4                             176                         80.500000   \n",
       "\n",
       "   user_product_order_interval_std  user_product_rank  \\\n",
       "0                         9.395625                1.5   \n",
       "1                         9.876922                3.0   \n",
       "2                        25.335363               14.5   \n",
       "3                         9.395625                1.5   \n",
       "4                        51.618793                5.5   \n",
       "\n",
       "   user_product_add_order_mean  user_product_add_order_std  \\\n",
       "0                     1.400000                    0.966092   \n",
       "1                     3.333333                    1.322876   \n",
       "2                     5.000000                    4.219923   \n",
       "3                     3.300000                    2.406011   \n",
       "4                     6.333333                    1.527525   \n",
       "\n",
       "   user_product_reorder_ratio  user_product_order_interval_mean_NaN  \\\n",
       "0                         1.0                                     0   \n",
       "1                         0.9                                     0   \n",
       "2                         0.1                                     1   \n",
       "3                         1.0                                     0   \n",
       "4                         0.3                                     0   \n",
       "\n",
       "   user_product_order_interval_std_NaN  user_product_add_order_std_NaN  \\\n",
       "0                                    0                               0   \n",
       "1                                    0                               0   \n",
       "2                                    1                               1   \n",
       "3                                    0                               0   \n",
       "4                                    0                               0   \n",
       "\n",
       "   user_order_num  user_order_interval_mean  user_order_interval_std  \\\n",
       "0              10                 19.555555                 9.395625   \n",
       "1              10                 19.555555                 9.395625   \n",
       "2              10                 19.555555                 9.395625   \n",
       "3              10                 19.555555                 9.395625   \n",
       "4              10                 19.555555                 9.395625   \n",
       "\n",
       "   user_basket_size_mean  user_basket_size_std  user_history  \\\n",
       "0                    5.9              1.523884           176   \n",
       "1                    5.9              1.523884           176   \n",
       "2                    5.9              1.523884           176   \n",
       "3                    5.9              1.523884           176   \n",
       "4                    5.9              1.523884           176   \n",
       "\n",
       "   product_user_num  product_order_num  product_order_interval_mean  \\\n",
       "0              8000              35791                    22.623835   \n",
       "1               557               1946                    24.268539   \n",
       "2              1923               5526                    26.605606   \n",
       "3              1679               6476                    19.953512   \n",
       "4              1286               3751                    31.215416   \n",
       "\n",
       "   product_order_interval_std  product_reorder_num  product_reorder_user_num  \\\n",
       "0                   26.001011              27791.0                    4660.0   \n",
       "1                   26.848476               1389.0                     308.0   \n",
       "2                   36.763191               3603.0                    1003.0   \n",
       "3                   25.316103               4797.0                     889.0   \n",
       "4                   37.182076               2465.0                     617.0   \n",
       "\n",
       "   product_reorder_ratio  product_reorder_user_ratio  \\\n",
       "0               0.776480                    0.582500   \n",
       "1               0.713772                    0.552962   \n",
       "2               0.652009                    0.521581   \n",
       "3               0.740735                    0.529482   \n",
       "4               0.657158                    0.479782   \n",
       "\n",
       "   product_add_to_cart_order_mean  product_add_to_cart_order_std  \\\n",
       "0                        3.721774                       4.110813   \n",
       "1                        4.277493                       3.567502   \n",
       "2                        4.191097                       3.611701   \n",
       "3                        4.760037                       4.782450   \n",
       "4                        5.622767                       5.345184   \n",
       "\n",
       "            product_name  aisle_id  department_id  \\\n",
       "0                   Soda        77              7   \n",
       "1             Pistachios       117             19   \n",
       "2    Organic Fuji Apples        24              4   \n",
       "3    Original Beef Jerky        23             19   \n",
       "4  Cinnamon Toast Crunch       121             14   \n",
       "\n",
       "   product_order_interval_mean_NaN  product_order_interval_std_NaN  \\\n",
       "0                                0                               0   \n",
       "1                                0                               0   \n",
       "2                                0                               0   \n",
       "3                                0                               0   \n",
       "4                                0                               0   \n",
       "\n",
       "   product_add_to_cart_order_std_NaN  aisle_prod_user_num_sum  \\\n",
       "0                                  0                   129131   \n",
       "1                                  0                   147368   \n",
       "2                                  0                  1026719   \n",
       "3                                  0                    66720   \n",
       "4                                  0                   161764   \n",
       "\n",
       "   aisle_prod_user_num_mean  aisle_prod_user_num_std  \\\n",
       "0                278.900648               736.904549   \n",
       "1                253.209622               676.108087   \n",
       "2               2687.746073              8357.649783   \n",
       "3                211.139241               565.300465   \n",
       "4                356.308370               824.174526   \n",
       "\n",
       "   aisle_prod_order_num_sum  aisle_prod_order_num_mean  \\\n",
       "0                    357537                 772.218143   \n",
       "1                    306487                 526.609966   \n",
       "2                   3642188                9534.523560   \n",
       "3                    163524                 517.481013   \n",
       "4                    377586                 831.687225   \n",
       "\n",
       "   aisle_prod_order_num_std  aisle_prod_order_interval_mean_mean  \\\n",
       "0               2415.057166                            25.996077   \n",
       "1               1478.642046                            31.982382   \n",
       "2              40105.378548                            24.105310   \n",
       "3               1572.546061                            31.392450   \n",
       "4               1973.034402                            30.660225   \n",
       "\n",
       "   aisle_prod_order_interval_mean_std  aisle_prod_reorder_num_sum  \\\n",
       "0                           14.911694                    228406.0   \n",
       "1                           18.959030                    159119.0   \n",
       "2                           12.450514                   2615469.0   \n",
       "3                           14.166268                     96804.0   \n",
       "4                           10.067678                    215822.0   \n",
       "\n",
       "   aisle_prod_reorder_num_mean  aisle_prod_reorder_num_std  \\\n",
       "0                   493.317495                 1726.669834   \n",
       "1                   273.400344                  845.712074   \n",
       "2                  6846.777487                32174.918772   \n",
       "3                   306.341772                 1018.486136   \n",
       "4                   475.378855                 1157.061839   \n",
       "\n",
       "   aisle_prod_reorder_user_num_sum  aisle_prod_reorder_user_num_mean  \\\n",
       "0                          55534.0                        119.943844   \n",
       "1                          50103.0                         86.087629   \n",
       "2                         560354.0                       1466.895288   \n",
       "3                          27658.0                         87.525316   \n",
       "4                          66813.0                        147.165198   \n",
       "\n",
       "   aisle_prod_reorder_user_num_std  aisle_prod_add_to_cart_order_mean  \\\n",
       "0                       354.541349                           7.647766   \n",
       "1                       248.092359                           9.712533   \n",
       "2                      5410.202963                           8.672981   \n",
       "3                       265.427758                           9.348668   \n",
       "4                       359.088257                           9.421302   \n",
       "\n",
       "   aisle_prod_add_to_cart_order_std  aisle_reorder_ratio  \\\n",
       "0                          2.189116             0.638832   \n",
       "1                          2.255376             0.519170   \n",
       "2                          2.014458             0.718104   \n",
       "3                          2.149298             0.591986   \n",
       "4                          2.247966             0.571584   \n",
       "\n",
       "   aisle_user_reorder_ratio  department_prod_user_num_sum  \\\n",
       "0                  0.430059                        932237   \n",
       "1                  0.339986                       1229577   \n",
       "2                  0.545772                       3318581   \n",
       "3                  0.414538                       1229577   \n",
       "4                  0.413028                        311556   \n",
       "\n",
       "   department_prod_user_num_mean  department_prod_user_num_std  \\\n",
       "0                     228.512015                    192.511727   \n",
       "1                     184.277748                     78.117275   \n",
       "2                    2190.172202                    683.524710   \n",
       "3                     184.277748                     78.117275   \n",
       "4                     252.928220                     78.002364   \n",
       "\n",
       "   department_prod_order_num_sum  department_prod_order_num_mean  \\\n",
       "0                        2690129                      690.856125   \n",
       "1                        2887550                      429.355375   \n",
       "2                        9479291                     6286.046039   \n",
       "3                        2887550                      429.355375   \n",
       "4                         709569                      580.795337   \n",
       "\n",
       "   department_prod_order_num_std  department_prod_add_to_cart_order_mean  \\\n",
       "0                     753.685494                                8.079681   \n",
       "1                     201.135440                                9.605942   \n",
       "2                    2799.902559                                8.410426   \n",
       "3                     201.135440                                9.605942   \n",
       "4                     177.463013                                9.460799   \n",
       "\n",
       "   department_prod_add_to_cart_order_std  department_prod_reorder_num_sum  \\\n",
       "0                               0.705206                        1757892.0   \n",
       "1                               0.644157                        1657973.0   \n",
       "2                               1.865486                        6160710.0   \n",
       "3                               0.644157                        1657973.0   \n",
       "4                               0.091380                         398013.0   \n",
       "\n",
       "   department_prod_reorder_num_mean  department_prod_reorder_num_std  \\\n",
       "0                        462.344110                       562.454967   \n",
       "1                        245.077627                       125.815728   \n",
       "2                       4095.873837                      2222.922021   \n",
       "3                        245.077627                       125.815728   \n",
       "4                        327.867117                       105.550970   \n",
       "\n",
       "   department_prod_reorder_user_num_sum  \\\n",
       "0                              408690.0   \n",
       "1                              483357.0   \n",
       "2                             1598097.0   \n",
       "3                              483357.0   \n",
       "4                              122600.0   \n",
       "\n",
       "   department_prod_reorder_user_num_mean  department_prod_reorder_user_num_std  \n",
       "0                             103.938473                            108.233336  \n",
       "1                              70.903977                             35.028622  \n",
       "2                            1047.023084                            403.342103  \n",
       "3                              70.903977                             35.028622  \n",
       "4                              99.369176                             32.916165  "
      ]
     },
     "execution_count": 18,
     "metadata": {},
     "output_type": "execute_result"
    }
   ],
   "source": [
    "train_df.head()"
   ]
  },
  {
   "cell_type": "code",
   "execution_count": 19,
   "metadata": {
    "scrolled": true
   },
   "outputs": [
    {
     "data": {
      "text/plain": [
       "(8474661, 67)"
      ]
     },
     "execution_count": 19,
     "metadata": {},
     "output_type": "execute_result"
    }
   ],
   "source": [
    "train_df.shape"
   ]
  },
  {
   "cell_type": "code",
   "execution_count": 20,
   "metadata": {
    "collapsed": true
   },
   "outputs": [],
   "source": [
    "train_df = pd.merge(train_df, orders[orders.eval_set == 'train'], on='user_id', how = 'left')"
   ]
  },
  {
   "cell_type": "code",
   "execution_count": 21,
   "metadata": {
    "collapsed": true
   },
   "outputs": [],
   "source": [
    "train_df = pd.merge(train_df, order_product_train, on =['order_id', 'product_id'], how = 'left')"
   ]
  },
  {
   "cell_type": "code",
   "execution_count": 22,
   "metadata": {
    "collapsed": true
   },
   "outputs": [],
   "source": [
    "train_df.reordered.fillna(0, inplace = True)"
   ]
  },
  {
   "cell_type": "code",
   "execution_count": 23,
   "metadata": {
    "collapsed": true
   },
   "outputs": [],
   "source": [
    "train_df.rename(columns = {'reordered': 'y'}, inplace = True)"
   ]
  },
  {
   "cell_type": "code",
   "execution_count": 24,
   "metadata": {
    "collapsed": true
   },
   "outputs": [],
   "source": [
    "X = train_df.drop(['aisle_id', 'department_id', 'order_id', 'eval_set', 'order_number', 'add_to_cart_order', 'user_id', 'product_id', 'product_name', 'y'], axis = 1)"
   ]
  },
  {
   "cell_type": "code",
   "execution_count": 25,
   "metadata": {
    "collapsed": true
   },
   "outputs": [],
   "source": [
    "y = train_df.y"
   ]
  },
  {
   "cell_type": "code",
   "execution_count": 26,
   "metadata": {
    "collapsed": true
   },
   "outputs": [],
   "source": [
    "def new_f1_score(df):\n",
    "    TNdf = pd.DataFrame(df[(df.y == 0) & (df.XGB_pred_y == 0)].groupby('user_id')['product_id'].nunique())\n",
    "    TNdf.rename(columns = {'product_id': 'TN'}, inplace = True)\n",
    "    TNdf.reset_index(inplace = True)\n",
    "    \n",
    "    TPdf = pd.DataFrame(df[(df.y == 1) & (df.XGB_pred_y == 1)].groupby('user_id')['product_id'].nunique())\n",
    "    TPdf.rename(columns = {'product_id': 'TP'}, inplace = True)\n",
    "    TPdf.reset_index(inplace = True)\n",
    "    \n",
    "    FNdf = pd.DataFrame(df[(df.y == 1) & (df.XGB_pred_y == 0)].groupby('user_id')['product_id'].nunique())\n",
    "    FNdf.rename(columns = {'product_id': 'FN'}, inplace = True)\n",
    "    FNdf.reset_index(inplace = True)\n",
    "    \n",
    "    FPdf = pd.DataFrame(df[(df.y == 0) & (df.XGB_pred_y == 1)].groupby('user_id')['product_id'].nunique())\n",
    "    FPdf.rename(columns = {'product_id': 'FP'}, inplace = True)\n",
    "    FPdf.reset_index(inplace = True)\n",
    "    \n",
    "    matrix_df = pd.merge(TNdf, TPdf, on = 'user_id', how = 'outer')\n",
    "    matrix_df = pd.merge(matrix_df, FNdf, on = 'user_id', how = 'outer')\n",
    "    matrix_df = pd.merge(matrix_df, FPdf, on = 'user_id', how = 'outer')\n",
    "    \n",
    "    matrix_df.fillna(0, inplace = True)\n",
    "    matrix_df['precision'] = matrix_df.TP / (matrix_df.FP + matrix_df.TP)\n",
    "    matrix_df['recall'] = matrix_df.TP / (matrix_df.FN + matrix_df.TP)\n",
    "    matrix_df['f1'] = 2*matrix_df.TP / (2*matrix_df.TP+matrix_df.FP+matrix_df.FN)\n",
    "    matrix_df.fillna(1, inplace = True)\n",
    "    return matrix_df.f1.mean()"
   ]
  },
  {
   "cell_type": "code",
   "execution_count": 97,
   "metadata": {
    "collapsed": true
   },
   "outputs": [],
   "source": [
    "def man_cross_val(masterdf, learning_rate=0.2, max_depth=6, n_estimators=100, gamma=0, min_child_weight=1, subsample=1, threshold=0.2):\n",
    "    X = masterdf.drop(['aisle_id', 'department_id', 'order_id', 'eval_set', 'order_number', 'add_to_cart_order', 'user_id', 'product_id', 'product_name', 'y'], axis = 1)\n",
    "    y = masterdf.y\n",
    "    kf = GroupKFold(n_splits=5)\n",
    "    final_df = pd.DataFrame()\n",
    "    for i, (train_index, test_index) in enumerate(kf.split(masterdf, groups=masterdf['user_id'].values)):\n",
    "        xgb_model = XGBClassifier(learning_rate=learning_rate, max_depth=max_depth, n_estimators=n_estimators, gamma=gamma, min_child_weight=min_child_weight, subsample=subsample, n_jobs=-1)\n",
    "        xgb_fit = xgb_model.fit(X.iloc[train_index], y.iloc[train_index])\n",
    "        result = xgb_fit.predict_proba(X.iloc[test_index])\n",
    "        new_df = masterdf.iloc[test_index][['y', 'user_id', 'product_id']]\n",
    "        new_df['True'] = result[:, 1:]\n",
    "        new_df['set'] = i\n",
    "        final_df = pd.concat([final_df, new_df])\n",
    "    return final_df"
   ]
  },
  {
   "cell_type": "code",
   "execution_count": 82,
   "metadata": {
    "collapsed": true
   },
   "outputs": [],
   "source": [
    "def optimize_threshold(result_df, threshold_list=[0.2]):\n",
    "    threshold_opt = 0.2\n",
    "    max_score = 0\n",
    "    for threshold in threshold_list:\n",
    "        scores = []\n",
    "        bins = [0, threshold, 1]\n",
    "        group_names = [0, 1]\n",
    "        result_df['XGB_pred_y'] = pd.cut(result_df['True'], bins, labels=group_names).astype(np.float32)\n",
    "        for i in range(5):\n",
    "            scores.append(new_f1_score(result_df[result_df.set == i]))\n",
    "        score = np.mean(scores)\n",
    "        #print(threshold, score)\n",
    "        if score > max_score:\n",
    "            max_score = score\n",
    "            threshold_opt = threshold\n",
    "    return threshold_opt, max_score"
   ]
  },
  {
   "cell_type": "code",
   "execution_count": 122,
   "metadata": {
    "collapsed": true
   },
   "outputs": [],
   "source": [
    "def tune_para_xgb(masterdf, learning_rate_list=[0.2], max_depth_list=[6], n_estimators_list=[100], gamma_list=[0], min_child_weight_list=[1], subsample_list=[1], threshold_list=[0.2]):\n",
    "    max_score = 0\n",
    "    parameters = [0.2, 6, 100, 0, 1, 1, 0.2]\n",
    "    cols = ['learning_rate', 'max_depth', 'n_estimators', 'gamma', 'min_child_weight_list', 'subsapmle', 'opt_threshold', 'score']\n",
    "    parameter_df = pd.DataFrame(columns = cols)\n",
    "    for lr in learning_rate_list:\n",
    "        for md in max_depth_list:\n",
    "            for n in n_estimators_list:\n",
    "                for g in gamma_list:\n",
    "                    for w in min_child_weight_list:\n",
    "                        for s in subsample_list:\n",
    "                            print(lr, md, n, g, w, s)\n",
    "                            temp = optimize_threshold(man_cross_val(masterdf, learning_rate=lr, max_depth=md, n_estimators=n, gamma=g, min_child_weight=w, subsample=s), threshold_list=threshold_list)\n",
    "                            score = temp[1]\n",
    "                            threshold_opt = temp[0]\n",
    "                            parameter_df = parameter_df.append(pd.DataFrame([[lr, md, n, g, w, s, threshold_opt, score]], columns=cols))\n",
    "                            print(score, threshold_opt)\n",
    "                            if score > max_score:\n",
    "                                max_score = score\n",
    "                                parameters = [lr, md, n, g, w, s, threshold_opt]\n",
    "    return max_score, parameters, parameter_df"
   ]
  },
  {
   "cell_type": "code",
   "execution_count": 84,
   "metadata": {
    "collapsed": true
   },
   "outputs": [],
   "source": [
    "# learning_rate_list = np.arange(0.05,0.3,0.05)\n",
    "# max_depth_list = [3]\n",
    "# n_estimators_list = np.arange(20,100,20)\n",
    "# gamma_list = [0, 0.05]\n",
    "# min_child_weight_list = [1]\n",
    "# threshold_list = np.arange(0.1,0.4,0.001)\n",
    "# subsample_list = [0.8]"
   ]
  },
  {
   "cell_type": "code",
   "execution_count": 102,
   "metadata": {
    "collapsed": true
   },
   "outputs": [],
   "source": [
    "learning_rate_list = np.arange(0.1,0.3,0.05)\n",
    "max_depth_list = [3, 6, 9]\n",
    "n_estimators_list = np.arange(20,100,20)\n",
    "gamma_list = [0]\n",
    "min_child_weight_list = [1, 3]\n",
    "threshold_list = np.arange(0.1,0.4,0.001)\n",
    "subsample_list = [0.8, 1]"
   ]
  },
  {
   "cell_type": "code",
   "execution_count": 116,
   "metadata": {
    "collapsed": true
   },
   "outputs": [],
   "source": [
    "import copy\n",
    "masterdf = copy.deepcopy(train_df.iloc[0:1000, :])"
   ]
  },
  {
   "cell_type": "code",
   "execution_count": 123,
   "metadata": {},
   "outputs": [
    {
     "name": "stdout",
     "output_type": "stream",
     "text": [
      "0.1 6 60 0 1 1\n",
      "0.277056957378 0.105\n"
     ]
    }
   ],
   "source": [
    "parameter_optimize_result = tune_para_xgb(masterdf, learning_rate_list=learning_rate_list, max_depth_list=max_depth_list, n_estimators_list=n_estimators_list, gamma_list=gamma_list, min_child_weight_list=min_child_weight_list, subsample_list = subsample_list, threshold_list=threshold_list)"
   ]
  },
  {
   "cell_type": "code",
   "execution_count": 124,
   "metadata": {},
   "outputs": [
    {
     "data": {
      "text/html": [
       "<div>\n",
       "<style>\n",
       "    .dataframe thead tr:only-child th {\n",
       "        text-align: right;\n",
       "    }\n",
       "\n",
       "    .dataframe thead th {\n",
       "        text-align: left;\n",
       "    }\n",
       "\n",
       "    .dataframe tbody tr th {\n",
       "        vertical-align: top;\n",
       "    }\n",
       "</style>\n",
       "<table border=\"1\" class=\"dataframe\">\n",
       "  <thead>\n",
       "    <tr style=\"text-align: right;\">\n",
       "      <th></th>\n",
       "      <th>learning_rate</th>\n",
       "      <th>max_depth</th>\n",
       "      <th>n_estimators</th>\n",
       "      <th>gamma</th>\n",
       "      <th>min_child_weight_list</th>\n",
       "      <th>subsapmle</th>\n",
       "      <th>opt_threshold</th>\n",
       "      <th>score</th>\n",
       "    </tr>\n",
       "  </thead>\n",
       "  <tbody>\n",
       "    <tr>\n",
       "      <th>0</th>\n",
       "      <td>0.1</td>\n",
       "      <td>6</td>\n",
       "      <td>60</td>\n",
       "      <td>0</td>\n",
       "      <td>1</td>\n",
       "      <td>1</td>\n",
       "      <td>0.105</td>\n",
       "      <td>0.277057</td>\n",
       "    </tr>\n",
       "  </tbody>\n",
       "</table>\n",
       "</div>"
      ],
      "text/plain": [
       "   learning_rate max_depth n_estimators gamma min_child_weight_list subsapmle  \\\n",
       "0            0.1         6           60     0                     1         1   \n",
       "\n",
       "   opt_threshold     score  \n",
       "0          0.105  0.277057  "
      ]
     },
     "execution_count": 124,
     "metadata": {},
     "output_type": "execute_result"
    }
   ],
   "source": [
    "parameter_optimize_result[2]"
   ]
  },
  {
   "cell_type": "code",
   "execution_count": null,
   "metadata": {
    "collapsed": true
   },
   "outputs": [],
   "source": [
    "pickle.dump(parameter_optimize_result, open('parameter_optimize_result.p', 'wb'))"
   ]
  },
  {
   "cell_type": "markdown",
   "metadata": {},
   "source": [
    "## Prediction"
   ]
  },
  {
   "cell_type": "code",
   "execution_count": null,
   "metadata": {
    "collapsed": true
   },
   "outputs": [],
   "source": [
    "lr = parameter_optimize_result[1][0]\n",
    "md = parameter_optimize_result[1][1]\n",
    "n = parameter_optimize_result[1][2]\n",
    "g = parameter_optimize_result[1][3]\n",
    "w = parameter_optimize_result[1][4]\n",
    "s = parameter_optimize_result[1][5]\n",
    "threshold = parameter_optimize_result[1][6]"
   ]
  },
  {
   "cell_type": "code",
   "execution_count": null,
   "metadata": {
    "collapsed": true
   },
   "outputs": [],
   "source": [
    "print(lr, md, n, g, w, s, threshold)"
   ]
  },
  {
   "cell_type": "code",
   "execution_count": null,
   "metadata": {
    "collapsed": true
   },
   "outputs": [],
   "source": [
    "xgb_optimized_model = XGBClassifier(learning_rate=lr, max_depth=md, n_estimators=n, gamma=g, min_child_weight=w, subsample=s, n_jobs=-1)"
   ]
  },
  {
   "cell_type": "code",
   "execution_count": null,
   "metadata": {
    "collapsed": true
   },
   "outputs": [],
   "source": [
    "xgb_optimized_fit = xgb_optimized_model.fit(X,y)"
   ]
  },
  {
   "cell_type": "code",
   "execution_count": null,
   "metadata": {
    "collapsed": true
   },
   "outputs": [],
   "source": [
    "test_users = orders[orders.eval_set == 'test'].user_id"
   ]
  },
  {
   "cell_type": "code",
   "execution_count": null,
   "metadata": {
    "collapsed": true
   },
   "outputs": [],
   "source": [
    "test_df = master_prior_df[master_prior_df.user_id.isin(test_users)]"
   ]
  },
  {
   "cell_type": "code",
   "execution_count": null,
   "metadata": {
    "collapsed": true
   },
   "outputs": [],
   "source": [
    "test_df.shape"
   ]
  },
  {
   "cell_type": "code",
   "execution_count": null,
   "metadata": {
    "collapsed": true
   },
   "outputs": [],
   "source": [
    "test_df = pd.merge(test_df, orders[orders.eval_set == 'test'], on='user_id', how = 'left')"
   ]
  },
  {
   "cell_type": "code",
   "execution_count": null,
   "metadata": {
    "collapsed": true
   },
   "outputs": [],
   "source": [
    "test_df = pd.merge(test_df, order_product_train, on =['order_id', 'product_id'], how = 'left')"
   ]
  },
  {
   "cell_type": "code",
   "execution_count": null,
   "metadata": {
    "collapsed": true
   },
   "outputs": [],
   "source": [
    "test_df.drop('reordered', axis = 1, inplace = True)"
   ]
  },
  {
   "cell_type": "code",
   "execution_count": null,
   "metadata": {
    "collapsed": true
   },
   "outputs": [],
   "source": [
    "X_test = test_df.drop(['aisle_id', 'department_id', 'order_id', 'eval_set', 'order_number', 'add_to_cart_order', 'user_id', 'product_id', 'product_name'], axis = 1)"
   ]
  },
  {
   "cell_type": "code",
   "execution_count": null,
   "metadata": {
    "collapsed": true
   },
   "outputs": [],
   "source": [
    "test_df['True'] = xgb_optimized_fit.predict_proba(X_test)[:,1:]"
   ]
  },
  {
   "cell_type": "code",
   "execution_count": null,
   "metadata": {
    "collapsed": true
   },
   "outputs": [],
   "source": [
    "bins = [0, threshold, 1]\n",
    "group_names = [0, 1]"
   ]
  },
  {
   "cell_type": "code",
   "execution_count": null,
   "metadata": {
    "collapsed": true
   },
   "outputs": [],
   "source": [
    "test_df['XGB_pred_y'] = pd.cut(test_df['True'], bins, labels=group_names)"
   ]
  },
  {
   "cell_type": "code",
   "execution_count": null,
   "metadata": {
    "collapsed": true
   },
   "outputs": [],
   "source": [
    "test_df.order_id.nunique()"
   ]
  },
  {
   "cell_type": "code",
   "execution_count": null,
   "metadata": {
    "collapsed": true
   },
   "outputs": [],
   "source": [
    "test_df.head()"
   ]
  },
  {
   "cell_type": "code",
   "execution_count": null,
   "metadata": {
    "collapsed": true
   },
   "outputs": [],
   "source": [
    "result = test_df[test_df.XGB_pred_y == 1][['order_id', 'product_id']].reset_index(drop = True)"
   ]
  },
  {
   "cell_type": "code",
   "execution_count": null,
   "metadata": {
    "collapsed": true
   },
   "outputs": [],
   "source": [
    "submission = pd.DataFrame(result.groupby('order_id').aggregate(lambda x: tuple(x)), columns = ['product_id']).reset_index()"
   ]
  },
  {
   "cell_type": "code",
   "execution_count": null,
   "metadata": {
    "collapsed": true
   },
   "outputs": [],
   "source": [
    "submission['products'] = submission.product_id.apply(lambda x: ' '.join([str(a) for a in x]))"
   ]
  },
  {
   "cell_type": "code",
   "execution_count": null,
   "metadata": {
    "collapsed": true
   },
   "outputs": [],
   "source": [
    "submission.drop('product_id', axis = 1, inplace=True)"
   ]
  },
  {
   "cell_type": "code",
   "execution_count": null,
   "metadata": {
    "collapsed": true
   },
   "outputs": [],
   "source": [
    "submission.head()"
   ]
  },
  {
   "cell_type": "code",
   "execution_count": null,
   "metadata": {
    "collapsed": true
   },
   "outputs": [],
   "source": [
    "new_submission = pd.merge(orders[orders.eval_set == 'test'], submission, on = 'order_id', how = 'left')"
   ]
  },
  {
   "cell_type": "code",
   "execution_count": null,
   "metadata": {
    "collapsed": true
   },
   "outputs": [],
   "source": [
    "new_submission = new_submission[['order_id', 'products']]"
   ]
  },
  {
   "cell_type": "code",
   "execution_count": null,
   "metadata": {
    "collapsed": true
   },
   "outputs": [],
   "source": [
    "new_submission = new_submission.sort_values('order_id').reset_index(drop =True)"
   ]
  },
  {
   "cell_type": "code",
   "execution_count": null,
   "metadata": {
    "collapsed": true
   },
   "outputs": [],
   "source": [
    "new_submission.to_csv('submission.csv', index=False)"
   ]
  },
  {
   "cell_type": "code",
   "execution_count": null,
   "metadata": {
    "collapsed": true
   },
   "outputs": [],
   "source": [
    "new_submission.shape"
   ]
  },
  {
   "cell_type": "code",
   "execution_count": null,
   "metadata": {
    "collapsed": true
   },
   "outputs": [],
   "source": []
  },
  {
   "cell_type": "code",
   "execution_count": null,
   "metadata": {
    "collapsed": true
   },
   "outputs": [],
   "source": []
  }
 ],
 "metadata": {
  "kernelspec": {
   "display_name": "Python 3",
   "language": "python",
   "name": "python3"
  },
  "language_info": {
   "codemirror_mode": {
    "name": "ipython",
    "version": 3
   },
   "file_extension": ".py",
   "mimetype": "text/x-python",
   "name": "python",
   "nbconvert_exporter": "python",
   "pygments_lexer": "ipython3",
   "version": "3.6.1"
  }
 },
 "nbformat": 4,
 "nbformat_minor": 2
}
