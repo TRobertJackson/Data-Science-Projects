{
 "cells": [
  {
   "cell_type": "code",
   "execution_count": 1,
   "metadata": {
    "collapsed": true
   },
   "outputs": [],
   "source": [
    "import numpy as np\n",
    "import pandas as pd\n",
    "import matplotlib.pyplot as plt\n",
    "import pickle\n",
    "\n",
    "%matplotlib inline "
   ]
  },
  {
   "cell_type": "code",
   "execution_count": 2,
   "metadata": {
    "collapsed": true
   },
   "outputs": [],
   "source": [
    "pd.set_option('display.max_rows', 100)"
   ]
  },
  {
   "cell_type": "markdown",
   "metadata": {},
   "source": [
    "## Load Data"
   ]
  },
  {
   "cell_type": "code",
   "execution_count": 3,
   "metadata": {
    "collapsed": true
   },
   "outputs": [],
   "source": [
    "aisles = pd.read_csv('data/aisles.csv', dtype = {\n",
    "    'aisle_id': np.uint16,\n",
    "    'aisle': np.str},\n",
    "    usecols=['aisle_id', 'aisle'])"
   ]
  },
  {
   "cell_type": "code",
   "execution_count": 4,
   "metadata": {
    "collapsed": true
   },
   "outputs": [],
   "source": [
    "departments = pd.read_csv('data/departments.csv', dtype = {\n",
    "    'department_id': np.uint16,\n",
    "    'department': np.str},\n",
    "    usecols=['department_id', 'department'])"
   ]
  },
  {
   "cell_type": "code",
   "execution_count": 5,
   "metadata": {
    "collapsed": true
   },
   "outputs": [],
   "source": [
    "order_products_prior = pd.read_csv('data/order_products__prior.csv', dtype = {\n",
    "    'order_id': np.uint32,\n",
    "    'product_id': np.uint32,\n",
    "    'add_to_cart_order': np.uint16,\n",
    "    'reordered': np.uint16},\n",
    "    usecols=['order_id', 'product_id', 'add_to_cart_order', 'reordered'])"
   ]
  },
  {
   "cell_type": "code",
   "execution_count": 6,
   "metadata": {
    "collapsed": true
   },
   "outputs": [],
   "source": [
    "order_product_train = pd.read_csv('data/order_products__train.csv', dtype = {\n",
    "    'order_id': np.uint32,\n",
    "    'product_id': np.uint32,\n",
    "    'add_to_cart_order': np.uint16,\n",
    "    'reordered': np.uint16},\n",
    "    usecols=['order_id', 'product_id', 'add_to_cart_order', 'reordered'])"
   ]
  },
  {
   "cell_type": "code",
   "execution_count": 7,
   "metadata": {
    "collapsed": true
   },
   "outputs": [],
   "source": [
    "orders = pd.read_csv('data/orders.csv', dtype = {\n",
    "    'order_id': np.uint32,\n",
    "    'user_id' :np.uint32,\n",
    "    'eval_set': 'category',\n",
    "    'order_number': np.uint16,\n",
    "    'order_dow': np.uint16,\n",
    "    'order_hour_of_day': np.uint8,\n",
    "    'days_since_prior_order': np.float32},\n",
    "                     usecols=['order_id', 'user_id', 'eval_set', 'order_number', 'order_dow', 'order_hour_of_day', 'days_since_prior_order'])"
   ]
  },
  {
   "cell_type": "code",
   "execution_count": 8,
   "metadata": {
    "collapsed": true
   },
   "outputs": [],
   "source": [
    "products = pd.read_csv('data/products.csv', dtype = {'product_id': np.uint16,\n",
    "        'product_name': np.str,\n",
    "        'aisle_id': np.uint16,\n",
    "        'department_id': np.uint16},\n",
    "        usecols=['product_id', 'product_name', 'aisle_id', 'department_id'])"
   ]
  },
  {
   "cell_type": "markdown",
   "metadata": {},
   "source": [
    "##  Genarating Features"
   ]
  },
  {
   "cell_type": "code",
   "execution_count": 9,
   "metadata": {
    "collapsed": true
   },
   "outputs": [],
   "source": [
    "orders['days_since_first_order'] = orders.groupby('user_id')['days_since_prior_order'].cumsum()"
   ]
  },
  {
   "cell_type": "code",
   "execution_count": 10,
   "metadata": {},
   "outputs": [
    {
     "data": {
      "text/html": [
       "<div>\n",
       "<style>\n",
       "    .dataframe thead tr:only-child th {\n",
       "        text-align: right;\n",
       "    }\n",
       "\n",
       "    .dataframe thead th {\n",
       "        text-align: left;\n",
       "    }\n",
       "\n",
       "    .dataframe tbody tr th {\n",
       "        vertical-align: top;\n",
       "    }\n",
       "</style>\n",
       "<table border=\"1\" class=\"dataframe\">\n",
       "  <thead>\n",
       "    <tr style=\"text-align: right;\">\n",
       "      <th></th>\n",
       "      <th>order_id</th>\n",
       "      <th>user_id</th>\n",
       "      <th>eval_set</th>\n",
       "      <th>order_number</th>\n",
       "      <th>order_dow</th>\n",
       "      <th>order_hour_of_day</th>\n",
       "      <th>days_since_prior_order</th>\n",
       "      <th>days_since_first_order</th>\n",
       "    </tr>\n",
       "  </thead>\n",
       "  <tbody>\n",
       "    <tr>\n",
       "      <th>0</th>\n",
       "      <td>2539329</td>\n",
       "      <td>1</td>\n",
       "      <td>prior</td>\n",
       "      <td>1</td>\n",
       "      <td>2</td>\n",
       "      <td>8</td>\n",
       "      <td>NaN</td>\n",
       "      <td>NaN</td>\n",
       "    </tr>\n",
       "    <tr>\n",
       "      <th>1</th>\n",
       "      <td>2398795</td>\n",
       "      <td>1</td>\n",
       "      <td>prior</td>\n",
       "      <td>2</td>\n",
       "      <td>3</td>\n",
       "      <td>7</td>\n",
       "      <td>15.0</td>\n",
       "      <td>15.0</td>\n",
       "    </tr>\n",
       "    <tr>\n",
       "      <th>2</th>\n",
       "      <td>473747</td>\n",
       "      <td>1</td>\n",
       "      <td>prior</td>\n",
       "      <td>3</td>\n",
       "      <td>3</td>\n",
       "      <td>12</td>\n",
       "      <td>21.0</td>\n",
       "      <td>36.0</td>\n",
       "    </tr>\n",
       "    <tr>\n",
       "      <th>3</th>\n",
       "      <td>2254736</td>\n",
       "      <td>1</td>\n",
       "      <td>prior</td>\n",
       "      <td>4</td>\n",
       "      <td>4</td>\n",
       "      <td>7</td>\n",
       "      <td>29.0</td>\n",
       "      <td>65.0</td>\n",
       "    </tr>\n",
       "    <tr>\n",
       "      <th>4</th>\n",
       "      <td>431534</td>\n",
       "      <td>1</td>\n",
       "      <td>prior</td>\n",
       "      <td>5</td>\n",
       "      <td>4</td>\n",
       "      <td>15</td>\n",
       "      <td>28.0</td>\n",
       "      <td>93.0</td>\n",
       "    </tr>\n",
       "  </tbody>\n",
       "</table>\n",
       "</div>"
      ],
      "text/plain": [
       "   order_id  user_id eval_set  order_number  order_dow  order_hour_of_day  \\\n",
       "0   2539329        1    prior             1          2                  8   \n",
       "1   2398795        1    prior             2          3                  7   \n",
       "2    473747        1    prior             3          3                 12   \n",
       "3   2254736        1    prior             4          4                  7   \n",
       "4    431534        1    prior             5          4                 15   \n",
       "\n",
       "   days_since_prior_order  days_since_first_order  \n",
       "0                     NaN                     NaN  \n",
       "1                    15.0                    15.0  \n",
       "2                    21.0                    36.0  \n",
       "3                    29.0                    65.0  \n",
       "4                    28.0                    93.0  "
      ]
     },
     "execution_count": 10,
     "metadata": {},
     "output_type": "execute_result"
    }
   ],
   "source": [
    "orders.head()"
   ]
  },
  {
   "cell_type": "code",
   "execution_count": 11,
   "metadata": {
    "collapsed": true
   },
   "outputs": [],
   "source": [
    "orders.days_since_first_order.fillna(0, inplace = True)"
   ]
  },
  {
   "cell_type": "code",
   "execution_count": 12,
   "metadata": {},
   "outputs": [
    {
     "data": {
      "text/plain": [
       "(32434489, 4)"
      ]
     },
     "execution_count": 12,
     "metadata": {},
     "output_type": "execute_result"
    }
   ],
   "source": [
    "order_products_prior.shape"
   ]
  },
  {
   "cell_type": "code",
   "execution_count": 13,
   "metadata": {
    "collapsed": true
   },
   "outputs": [],
   "source": [
    "priordf = pd.merge(order_products_prior, orders, on = 'order_id', how = 'left')"
   ]
  },
  {
   "cell_type": "code",
   "execution_count": 14,
   "metadata": {},
   "outputs": [
    {
     "data": {
      "text/plain": [
       "(32434489, 11)"
      ]
     },
     "execution_count": 14,
     "metadata": {},
     "output_type": "execute_result"
    }
   ],
   "source": [
    "priordf.shape"
   ]
  },
  {
   "cell_type": "code",
   "execution_count": 15,
   "metadata": {},
   "outputs": [
    {
     "data": {
      "text/html": [
       "<div>\n",
       "<style>\n",
       "    .dataframe thead tr:only-child th {\n",
       "        text-align: right;\n",
       "    }\n",
       "\n",
       "    .dataframe thead th {\n",
       "        text-align: left;\n",
       "    }\n",
       "\n",
       "    .dataframe tbody tr th {\n",
       "        vertical-align: top;\n",
       "    }\n",
       "</style>\n",
       "<table border=\"1\" class=\"dataframe\">\n",
       "  <thead>\n",
       "    <tr style=\"text-align: right;\">\n",
       "      <th></th>\n",
       "      <th>order_id</th>\n",
       "      <th>product_id</th>\n",
       "      <th>add_to_cart_order</th>\n",
       "      <th>reordered</th>\n",
       "      <th>user_id</th>\n",
       "      <th>eval_set</th>\n",
       "      <th>order_number</th>\n",
       "      <th>order_dow</th>\n",
       "      <th>order_hour_of_day</th>\n",
       "      <th>days_since_prior_order</th>\n",
       "      <th>days_since_first_order</th>\n",
       "    </tr>\n",
       "  </thead>\n",
       "  <tbody>\n",
       "    <tr>\n",
       "      <th>0</th>\n",
       "      <td>2</td>\n",
       "      <td>33120</td>\n",
       "      <td>1</td>\n",
       "      <td>1</td>\n",
       "      <td>202279</td>\n",
       "      <td>prior</td>\n",
       "      <td>3</td>\n",
       "      <td>5</td>\n",
       "      <td>9</td>\n",
       "      <td>8.0</td>\n",
       "      <td>28.0</td>\n",
       "    </tr>\n",
       "    <tr>\n",
       "      <th>1</th>\n",
       "      <td>2</td>\n",
       "      <td>28985</td>\n",
       "      <td>2</td>\n",
       "      <td>1</td>\n",
       "      <td>202279</td>\n",
       "      <td>prior</td>\n",
       "      <td>3</td>\n",
       "      <td>5</td>\n",
       "      <td>9</td>\n",
       "      <td>8.0</td>\n",
       "      <td>28.0</td>\n",
       "    </tr>\n",
       "    <tr>\n",
       "      <th>2</th>\n",
       "      <td>2</td>\n",
       "      <td>9327</td>\n",
       "      <td>3</td>\n",
       "      <td>0</td>\n",
       "      <td>202279</td>\n",
       "      <td>prior</td>\n",
       "      <td>3</td>\n",
       "      <td>5</td>\n",
       "      <td>9</td>\n",
       "      <td>8.0</td>\n",
       "      <td>28.0</td>\n",
       "    </tr>\n",
       "    <tr>\n",
       "      <th>3</th>\n",
       "      <td>2</td>\n",
       "      <td>45918</td>\n",
       "      <td>4</td>\n",
       "      <td>1</td>\n",
       "      <td>202279</td>\n",
       "      <td>prior</td>\n",
       "      <td>3</td>\n",
       "      <td>5</td>\n",
       "      <td>9</td>\n",
       "      <td>8.0</td>\n",
       "      <td>28.0</td>\n",
       "    </tr>\n",
       "    <tr>\n",
       "      <th>4</th>\n",
       "      <td>2</td>\n",
       "      <td>30035</td>\n",
       "      <td>5</td>\n",
       "      <td>0</td>\n",
       "      <td>202279</td>\n",
       "      <td>prior</td>\n",
       "      <td>3</td>\n",
       "      <td>5</td>\n",
       "      <td>9</td>\n",
       "      <td>8.0</td>\n",
       "      <td>28.0</td>\n",
       "    </tr>\n",
       "  </tbody>\n",
       "</table>\n",
       "</div>"
      ],
      "text/plain": [
       "   order_id  product_id  add_to_cart_order  reordered  user_id eval_set  \\\n",
       "0         2       33120                  1          1   202279    prior   \n",
       "1         2       28985                  2          1   202279    prior   \n",
       "2         2        9327                  3          0   202279    prior   \n",
       "3         2       45918                  4          1   202279    prior   \n",
       "4         2       30035                  5          0   202279    prior   \n",
       "\n",
       "   order_number  order_dow  order_hour_of_day  days_since_prior_order  \\\n",
       "0             3          5                  9                     8.0   \n",
       "1             3          5                  9                     8.0   \n",
       "2             3          5                  9                     8.0   \n",
       "3             3          5                  9                     8.0   \n",
       "4             3          5                  9                     8.0   \n",
       "\n",
       "   days_since_first_order  \n",
       "0                    28.0  \n",
       "1                    28.0  \n",
       "2                    28.0  \n",
       "3                    28.0  \n",
       "4                    28.0  "
      ]
     },
     "execution_count": 15,
     "metadata": {},
     "output_type": "execute_result"
    }
   ],
   "source": [
    "priordf.head()"
   ]
  },
  {
   "cell_type": "code",
   "execution_count": 16,
   "metadata": {
    "collapsed": true
   },
   "outputs": [],
   "source": [
    "priordf['days_since_first_order'].fillna(0, inplace=True)"
   ]
  },
  {
   "cell_type": "code",
   "execution_count": 17,
   "metadata": {
    "collapsed": true
   },
   "outputs": [],
   "source": [
    "priordf.sort_values(['user_id', 'product_id','order_number'], inplace = True)"
   ]
  },
  {
   "cell_type": "code",
   "execution_count": 18,
   "metadata": {
    "collapsed": true
   },
   "outputs": [],
   "source": [
    "priordf['days_since_prior_product_purchase'] = priordf.groupby(['user_id', 'product_id'])['days_since_first_order'].transform(lambda x: x.diff())"
   ]
  },
  {
   "cell_type": "code",
   "execution_count": 19,
   "metadata": {
    "collapsed": true
   },
   "outputs": [],
   "source": [
    "#pickle.dump(priordf, open('data/pickle_files/priordf.p', 'wb'))"
   ]
  },
  {
   "cell_type": "code",
   "execution_count": 66,
   "metadata": {
    "collapsed": true
   },
   "outputs": [],
   "source": [
    "#priordf = pickle.load(open('data/priordf.p', 'rb'))"
   ]
  },
  {
   "cell_type": "code",
   "execution_count": null,
   "metadata": {
    "collapsed": true
   },
   "outputs": [],
   "source": [
    "#user_info"
   ]
  },
  {
   "cell_type": "code",
   "execution_count": 20,
   "metadata": {
    "collapsed": true
   },
   "outputs": [],
   "source": [
    "user_info = pd.DataFrame()\n",
    "user_info['user_order_num'] = priordf.groupby('user_id')['order_id'].nunique().astype(np.uint16)"
   ]
  },
  {
   "cell_type": "code",
   "execution_count": 21,
   "metadata": {
    "collapsed": true
   },
   "outputs": [],
   "source": [
    "user_info['user_order_interval_mean'] = pd.DataFrame(priordf.groupby(['user_id', 'order_id'])['days_since_prior_order'].mean()).groupby(['user_id'])['days_since_prior_order'].mean().astype(np.float32)"
   ]
  },
  {
   "cell_type": "code",
   "execution_count": 22,
   "metadata": {
    "collapsed": true
   },
   "outputs": [],
   "source": [
    "user_info['user_order_interval_std'] = pd.DataFrame(priordf.groupby(['user_id', 'order_id'])['days_since_prior_order'].mean()).groupby(['user_id'])['days_since_prior_order'].std().astype(np.float32)"
   ]
  },
  {
   "cell_type": "code",
   "execution_count": 23,
   "metadata": {
    "collapsed": true
   },
   "outputs": [],
   "source": [
    "user_info['user_basket_size_mean'] = pd.DataFrame(priordf.groupby(['user_id', 'order_id'])['product_id'].count()).groupby('user_id')['product_id'].mean().astype(np.float32)"
   ]
  },
  {
   "cell_type": "code",
   "execution_count": 24,
   "metadata": {
    "collapsed": true
   },
   "outputs": [],
   "source": [
    "user_info['user_basket_size_std'] = pd.DataFrame(priordf.groupby(['user_id', 'order_id'])['product_id'].count()).groupby('user_id')['product_id'].std().astype(np.float32)"
   ]
  },
  {
   "cell_type": "code",
   "execution_count": 25,
   "metadata": {
    "collapsed": true
   },
   "outputs": [],
   "source": [
    "user_info['user_history'] = priordf.groupby('user_id')['days_since_first_order'].max().astype(np.uint16)"
   ]
  },
  {
   "cell_type": "code",
   "execution_count": 26,
   "metadata": {
    "collapsed": true
   },
   "outputs": [],
   "source": [
    "user_info.reset_index(inplace = True)"
   ]
  },
  {
   "cell_type": "code",
   "execution_count": 27,
   "metadata": {},
   "outputs": [
    {
     "data": {
      "text/html": [
       "<div>\n",
       "<style>\n",
       "    .dataframe thead tr:only-child th {\n",
       "        text-align: right;\n",
       "    }\n",
       "\n",
       "    .dataframe thead th {\n",
       "        text-align: left;\n",
       "    }\n",
       "\n",
       "    .dataframe tbody tr th {\n",
       "        vertical-align: top;\n",
       "    }\n",
       "</style>\n",
       "<table border=\"1\" class=\"dataframe\">\n",
       "  <thead>\n",
       "    <tr style=\"text-align: right;\">\n",
       "      <th></th>\n",
       "      <th>user_id</th>\n",
       "      <th>user_order_num</th>\n",
       "      <th>user_order_interval_mean</th>\n",
       "      <th>user_order_interval_std</th>\n",
       "      <th>user_basket_size_mean</th>\n",
       "      <th>user_basket_size_std</th>\n",
       "      <th>user_history</th>\n",
       "    </tr>\n",
       "  </thead>\n",
       "  <tbody>\n",
       "    <tr>\n",
       "      <th>0</th>\n",
       "      <td>1</td>\n",
       "      <td>10</td>\n",
       "      <td>19.555555</td>\n",
       "      <td>9.395625</td>\n",
       "      <td>5.900000</td>\n",
       "      <td>1.523884</td>\n",
       "      <td>176</td>\n",
       "    </tr>\n",
       "    <tr>\n",
       "      <th>1</th>\n",
       "      <td>2</td>\n",
       "      <td>14</td>\n",
       "      <td>15.230769</td>\n",
       "      <td>9.867064</td>\n",
       "      <td>13.928572</td>\n",
       "      <td>5.717238</td>\n",
       "      <td>198</td>\n",
       "    </tr>\n",
       "    <tr>\n",
       "      <th>2</th>\n",
       "      <td>3</td>\n",
       "      <td>12</td>\n",
       "      <td>12.090909</td>\n",
       "      <td>5.375026</td>\n",
       "      <td>7.333333</td>\n",
       "      <td>2.103388</td>\n",
       "      <td>133</td>\n",
       "    </tr>\n",
       "    <tr>\n",
       "      <th>3</th>\n",
       "      <td>4</td>\n",
       "      <td>5</td>\n",
       "      <td>13.750000</td>\n",
       "      <td>9.500000</td>\n",
       "      <td>3.600000</td>\n",
       "      <td>2.073644</td>\n",
       "      <td>55</td>\n",
       "    </tr>\n",
       "    <tr>\n",
       "      <th>4</th>\n",
       "      <td>5</td>\n",
       "      <td>4</td>\n",
       "      <td>13.333333</td>\n",
       "      <td>4.932883</td>\n",
       "      <td>9.250000</td>\n",
       "      <td>3.095696</td>\n",
       "      <td>40</td>\n",
       "    </tr>\n",
       "  </tbody>\n",
       "</table>\n",
       "</div>"
      ],
      "text/plain": [
       "   user_id  user_order_num  user_order_interval_mean  user_order_interval_std  \\\n",
       "0        1              10                 19.555555                 9.395625   \n",
       "1        2              14                 15.230769                 9.867064   \n",
       "2        3              12                 12.090909                 5.375026   \n",
       "3        4               5                 13.750000                 9.500000   \n",
       "4        5               4                 13.333333                 4.932883   \n",
       "\n",
       "   user_basket_size_mean  user_basket_size_std  user_history  \n",
       "0               5.900000              1.523884           176  \n",
       "1              13.928572              5.717238           198  \n",
       "2               7.333333              2.103388           133  \n",
       "3               3.600000              2.073644            55  \n",
       "4               9.250000              3.095696            40  "
      ]
     },
     "execution_count": 27,
     "metadata": {},
     "output_type": "execute_result"
    }
   ],
   "source": [
    "user_info.head()"
   ]
  },
  {
   "cell_type": "code",
   "execution_count": 28,
   "metadata": {
    "collapsed": true
   },
   "outputs": [],
   "source": [
    "#product_info"
   ]
  },
  {
   "cell_type": "code",
   "execution_count": 29,
   "metadata": {
    "collapsed": true
   },
   "outputs": [],
   "source": [
    "product_info = pd.DataFrame()"
   ]
  },
  {
   "cell_type": "code",
   "execution_count": 30,
   "metadata": {
    "collapsed": true
   },
   "outputs": [],
   "source": [
    "product_info['product_user_num'] = priordf.groupby(['product_id'])['user_id'].nunique().astype(np.uint32)"
   ]
  },
  {
   "cell_type": "code",
   "execution_count": 31,
   "metadata": {
    "collapsed": true
   },
   "outputs": [],
   "source": [
    "product_info['product_order_num'] = priordf.groupby(['product_id'])['order_id'].nunique().astype(np.uint32)"
   ]
  },
  {
   "cell_type": "code",
   "execution_count": 32,
   "metadata": {
    "collapsed": true
   },
   "outputs": [],
   "source": [
    "product_info['product_order_interval_mean'] = priordf.groupby(['product_id'])['days_since_prior_product_purchase'].mean().astype(np.float32)"
   ]
  },
  {
   "cell_type": "code",
   "execution_count": 33,
   "metadata": {
    "collapsed": true
   },
   "outputs": [],
   "source": [
    "product_info['product_order_interval_std'] = priordf.groupby(['product_id'])['days_since_prior_product_purchase'].std().astype(np.float32)"
   ]
  },
  {
   "cell_type": "code",
   "execution_count": 34,
   "metadata": {
    "collapsed": true
   },
   "outputs": [],
   "source": [
    "product_info['product_reorder_num'] = priordf[priordf.reordered == 1].groupby(['product_id'])['order_id'].nunique().astype(np.uint32)"
   ]
  },
  {
   "cell_type": "code",
   "execution_count": 35,
   "metadata": {
    "collapsed": true
   },
   "outputs": [],
   "source": [
    "product_info['product_reorder_num'].fillna(0, inplace = True)"
   ]
  },
  {
   "cell_type": "code",
   "execution_count": 36,
   "metadata": {
    "collapsed": true
   },
   "outputs": [],
   "source": [
    "product_info['product_reorder_user_num'] = priordf[priordf.reordered == 1].groupby(['product_id'])['user_id'].nunique().astype(np.uint32)"
   ]
  },
  {
   "cell_type": "code",
   "execution_count": 37,
   "metadata": {
    "collapsed": true
   },
   "outputs": [],
   "source": [
    "product_info['product_reorder_user_num'].fillna(0, inplace = True)"
   ]
  },
  {
   "cell_type": "code",
   "execution_count": 38,
   "metadata": {
    "collapsed": true
   },
   "outputs": [],
   "source": [
    "product_info['product_reorder_ratio'] = product_info['product_reorder_num']/product_info['product_order_num']"
   ]
  },
  {
   "cell_type": "code",
   "execution_count": 39,
   "metadata": {
    "collapsed": true
   },
   "outputs": [],
   "source": [
    "product_info['product_reorder_user_ratio'] = product_info['product_reorder_user_num']/product_info['product_user_num']"
   ]
  },
  {
   "cell_type": "code",
   "execution_count": 40,
   "metadata": {
    "collapsed": true
   },
   "outputs": [],
   "source": [
    "product_info['product_add_to_cart_order_mean'] = priordf.groupby(['product_id'])['add_to_cart_order'].mean().astype(np.float32)"
   ]
  },
  {
   "cell_type": "code",
   "execution_count": 41,
   "metadata": {
    "collapsed": true
   },
   "outputs": [],
   "source": [
    "product_info['product_add_to_cart_order_std'] = priordf.groupby(['product_id'])['add_to_cart_order'].std().astype(np.float32)"
   ]
  },
  {
   "cell_type": "code",
   "execution_count": 42,
   "metadata": {
    "collapsed": true
   },
   "outputs": [],
   "source": [
    "product_info.reset_index(inplace = True)"
   ]
  },
  {
   "cell_type": "code",
   "execution_count": 43,
   "metadata": {
    "collapsed": true
   },
   "outputs": [],
   "source": [
    "product_info = pd.merge(product_info, products, on = 'product_id', how = 'left')"
   ]
  },
  {
   "cell_type": "code",
   "execution_count": 44,
   "metadata": {},
   "outputs": [
    {
     "data": {
      "text/html": [
       "<div>\n",
       "<style>\n",
       "    .dataframe thead tr:only-child th {\n",
       "        text-align: right;\n",
       "    }\n",
       "\n",
       "    .dataframe thead th {\n",
       "        text-align: left;\n",
       "    }\n",
       "\n",
       "    .dataframe tbody tr th {\n",
       "        vertical-align: top;\n",
       "    }\n",
       "</style>\n",
       "<table border=\"1\" class=\"dataframe\">\n",
       "  <thead>\n",
       "    <tr style=\"text-align: right;\">\n",
       "      <th></th>\n",
       "      <th>product_id</th>\n",
       "      <th>product_user_num</th>\n",
       "      <th>product_order_num</th>\n",
       "      <th>product_order_interval_mean</th>\n",
       "      <th>product_order_interval_std</th>\n",
       "      <th>product_reorder_num</th>\n",
       "      <th>product_reorder_user_num</th>\n",
       "      <th>product_reorder_ratio</th>\n",
       "      <th>product_reorder_user_ratio</th>\n",
       "      <th>product_add_to_cart_order_mean</th>\n",
       "      <th>product_add_to_cart_order_std</th>\n",
       "      <th>product_name</th>\n",
       "      <th>aisle_id</th>\n",
       "      <th>department_id</th>\n",
       "    </tr>\n",
       "  </thead>\n",
       "  <tbody>\n",
       "    <tr>\n",
       "      <th>0</th>\n",
       "      <td>1</td>\n",
       "      <td>716</td>\n",
       "      <td>1852</td>\n",
       "      <td>27.961267</td>\n",
       "      <td>37.873127</td>\n",
       "      <td>1136.0</td>\n",
       "      <td>276.0</td>\n",
       "      <td>0.613391</td>\n",
       "      <td>0.385475</td>\n",
       "      <td>5.801836</td>\n",
       "      <td>5.575389</td>\n",
       "      <td>Chocolate Sandwich Cookies</td>\n",
       "      <td>61</td>\n",
       "      <td>19</td>\n",
       "    </tr>\n",
       "    <tr>\n",
       "      <th>1</th>\n",
       "      <td>2</td>\n",
       "      <td>78</td>\n",
       "      <td>90</td>\n",
       "      <td>50.166668</td>\n",
       "      <td>52.135895</td>\n",
       "      <td>12.0</td>\n",
       "      <td>8.0</td>\n",
       "      <td>0.133333</td>\n",
       "      <td>0.102564</td>\n",
       "      <td>9.888889</td>\n",
       "      <td>7.821671</td>\n",
       "      <td>All-Seasons Salt</td>\n",
       "      <td>104</td>\n",
       "      <td>13</td>\n",
       "    </tr>\n",
       "    <tr>\n",
       "      <th>2</th>\n",
       "      <td>3</td>\n",
       "      <td>74</td>\n",
       "      <td>277</td>\n",
       "      <td>19.369457</td>\n",
       "      <td>24.833035</td>\n",
       "      <td>203.0</td>\n",
       "      <td>36.0</td>\n",
       "      <td>0.732852</td>\n",
       "      <td>0.486486</td>\n",
       "      <td>6.415163</td>\n",
       "      <td>6.472701</td>\n",
       "      <td>Robust Golden Unsweetened Oolong Tea</td>\n",
       "      <td>94</td>\n",
       "      <td>7</td>\n",
       "    </tr>\n",
       "    <tr>\n",
       "      <th>3</th>\n",
       "      <td>4</td>\n",
       "      <td>182</td>\n",
       "      <td>329</td>\n",
       "      <td>31.707483</td>\n",
       "      <td>28.790031</td>\n",
       "      <td>147.0</td>\n",
       "      <td>64.0</td>\n",
       "      <td>0.446809</td>\n",
       "      <td>0.351648</td>\n",
       "      <td>9.507599</td>\n",
       "      <td>6.861485</td>\n",
       "      <td>Smart Ones Classic Favorites Mini Rigatoni Wit...</td>\n",
       "      <td>38</td>\n",
       "      <td>1</td>\n",
       "    </tr>\n",
       "    <tr>\n",
       "      <th>4</th>\n",
       "      <td>5</td>\n",
       "      <td>6</td>\n",
       "      <td>15</td>\n",
       "      <td>34.888889</td>\n",
       "      <td>36.511795</td>\n",
       "      <td>9.0</td>\n",
       "      <td>4.0</td>\n",
       "      <td>0.600000</td>\n",
       "      <td>0.666667</td>\n",
       "      <td>6.466667</td>\n",
       "      <td>3.563038</td>\n",
       "      <td>Green Chile Anytime Sauce</td>\n",
       "      <td>5</td>\n",
       "      <td>13</td>\n",
       "    </tr>\n",
       "  </tbody>\n",
       "</table>\n",
       "</div>"
      ],
      "text/plain": [
       "   product_id  product_user_num  product_order_num  \\\n",
       "0           1               716               1852   \n",
       "1           2                78                 90   \n",
       "2           3                74                277   \n",
       "3           4               182                329   \n",
       "4           5                 6                 15   \n",
       "\n",
       "   product_order_interval_mean  product_order_interval_std  \\\n",
       "0                    27.961267                   37.873127   \n",
       "1                    50.166668                   52.135895   \n",
       "2                    19.369457                   24.833035   \n",
       "3                    31.707483                   28.790031   \n",
       "4                    34.888889                   36.511795   \n",
       "\n",
       "   product_reorder_num  product_reorder_user_num  product_reorder_ratio  \\\n",
       "0               1136.0                     276.0               0.613391   \n",
       "1                 12.0                       8.0               0.133333   \n",
       "2                203.0                      36.0               0.732852   \n",
       "3                147.0                      64.0               0.446809   \n",
       "4                  9.0                       4.0               0.600000   \n",
       "\n",
       "   product_reorder_user_ratio  product_add_to_cart_order_mean  \\\n",
       "0                    0.385475                        5.801836   \n",
       "1                    0.102564                        9.888889   \n",
       "2                    0.486486                        6.415163   \n",
       "3                    0.351648                        9.507599   \n",
       "4                    0.666667                        6.466667   \n",
       "\n",
       "   product_add_to_cart_order_std  \\\n",
       "0                       5.575389   \n",
       "1                       7.821671   \n",
       "2                       6.472701   \n",
       "3                       6.861485   \n",
       "4                       3.563038   \n",
       "\n",
       "                                        product_name  aisle_id  department_id  \n",
       "0                         Chocolate Sandwich Cookies        61             19  \n",
       "1                                   All-Seasons Salt       104             13  \n",
       "2               Robust Golden Unsweetened Oolong Tea        94              7  \n",
       "3  Smart Ones Classic Favorites Mini Rigatoni Wit...        38              1  \n",
       "4                          Green Chile Anytime Sauce         5             13  "
      ]
     },
     "execution_count": 44,
     "metadata": {},
     "output_type": "execute_result"
    }
   ],
   "source": [
    "product_info.head()"
   ]
  },
  {
   "cell_type": "code",
   "execution_count": 45,
   "metadata": {
    "collapsed": true
   },
   "outputs": [],
   "source": [
    "#user_product_info"
   ]
  },
  {
   "cell_type": "code",
   "execution_count": 46,
   "metadata": {
    "collapsed": true
   },
   "outputs": [],
   "source": [
    "user_product_info = pd.DataFrame(priordf.reset_index().groupby(['user_id', 'product_id'])['order_id'].nunique())"
   ]
  },
  {
   "cell_type": "code",
   "execution_count": 55,
   "metadata": {
    "collapsed": true
   },
   "outputs": [],
   "source": [
    "user_product_info.rename(columns = {'order_id': 'user_product_order_num'}, inplace = True)"
   ]
  },
  {
   "cell_type": "code",
   "execution_count": 48,
   "metadata": {
    "collapsed": true
   },
   "outputs": [],
   "source": [
    "user_product_info['user_product_last_purchase_day'] = priordf.reset_index().groupby(['user_id', 'product_id'])['days_since_first_order'].max().astype(np.uint32)"
   ]
  },
  {
   "cell_type": "code",
   "execution_count": 49,
   "metadata": {
    "collapsed": true
   },
   "outputs": [],
   "source": [
    "user_product_info.rename(columns = {'user_product_order_interval': 'user_product_order_interval_mean'}, inplace = True)"
   ]
  },
  {
   "cell_type": "code",
   "execution_count": 50,
   "metadata": {
    "collapsed": true
   },
   "outputs": [],
   "source": [
    "user_product_info['user_product_order_interval_mean'] = priordf.reset_index().groupby(['user_id', 'product_id'])['days_since_prior_product_purchase'].mean()"
   ]
  },
  {
   "cell_type": "code",
   "execution_count": 51,
   "metadata": {
    "collapsed": true
   },
   "outputs": [],
   "source": [
    "user_product_info['user_product_order_interval_std'] = priordf.reset_index().groupby(['user_id', 'product_id'])['days_since_prior_product_purchase'].std()"
   ]
  },
  {
   "cell_type": "code",
   "execution_count": 57,
   "metadata": {
    "collapsed": true
   },
   "outputs": [],
   "source": [
    "user_product_info['user_product_rank'] = user_product_info.groupby('user_id')['user_product_order_num'].rank(ascending=False)"
   ]
  },
  {
   "cell_type": "code",
   "execution_count": 58,
   "metadata": {
    "collapsed": true
   },
   "outputs": [],
   "source": [
    "user_product_info['user_product_add_order_mean'] = priordf.reset_index().groupby(['user_id', 'product_id'])['add_to_cart_order'].mean().astype(np.float32)"
   ]
  },
  {
   "cell_type": "code",
   "execution_count": 59,
   "metadata": {
    "collapsed": true
   },
   "outputs": [],
   "source": [
    "user_product_info['user_product_add_order_std'] = priordf.reset_index().groupby(['user_id', 'product_id'])['add_to_cart_order'].std().astype(np.float32)"
   ]
  },
  {
   "cell_type": "code",
   "execution_count": 60,
   "metadata": {
    "collapsed": true
   },
   "outputs": [],
   "source": [
    "user_product_info = pd.merge(pd.DataFrame(user_product_info).reset_index(), user_info.reset_index()[['user_id', 'user_order_num']], on='user_id', how = 'left')"
   ]
  },
  {
   "cell_type": "code",
   "execution_count": 61,
   "metadata": {
    "collapsed": true
   },
   "outputs": [],
   "source": [
    "user_product_info['user_product_reorder_ratio'] = user_product_info.user_product_order_num/user_product_info.user_order_num"
   ]
  },
  {
   "cell_type": "code",
   "execution_count": 62,
   "metadata": {
    "collapsed": true
   },
   "outputs": [],
   "source": [
    "user_product_info.drop('user_order_num', axis = 1, inplace = True)"
   ]
  },
  {
   "cell_type": "code",
   "execution_count": 63,
   "metadata": {},
   "outputs": [
    {
     "data": {
      "text/html": [
       "<div>\n",
       "<style>\n",
       "    .dataframe thead tr:only-child th {\n",
       "        text-align: right;\n",
       "    }\n",
       "\n",
       "    .dataframe thead th {\n",
       "        text-align: left;\n",
       "    }\n",
       "\n",
       "    .dataframe tbody tr th {\n",
       "        vertical-align: top;\n",
       "    }\n",
       "</style>\n",
       "<table border=\"1\" class=\"dataframe\">\n",
       "  <thead>\n",
       "    <tr style=\"text-align: right;\">\n",
       "      <th></th>\n",
       "      <th>user_id</th>\n",
       "      <th>product_id</th>\n",
       "      <th>user_product_order_num</th>\n",
       "      <th>user_product_last_purchase_day</th>\n",
       "      <th>user_product_order_interval_mean</th>\n",
       "      <th>user_product_order_interval_std</th>\n",
       "      <th>user_product_rank</th>\n",
       "      <th>user_product_add_order_mean</th>\n",
       "      <th>user_product_add_order_std</th>\n",
       "      <th>user_product_reorder_ratio</th>\n",
       "    </tr>\n",
       "  </thead>\n",
       "  <tbody>\n",
       "    <tr>\n",
       "      <th>0</th>\n",
       "      <td>1</td>\n",
       "      <td>196</td>\n",
       "      <td>10</td>\n",
       "      <td>176</td>\n",
       "      <td>19.555555</td>\n",
       "      <td>9.395625</td>\n",
       "      <td>1.5</td>\n",
       "      <td>1.400000</td>\n",
       "      <td>0.966092</td>\n",
       "      <td>1.0</td>\n",
       "    </tr>\n",
       "    <tr>\n",
       "      <th>1</th>\n",
       "      <td>1</td>\n",
       "      <td>10258</td>\n",
       "      <td>9</td>\n",
       "      <td>176</td>\n",
       "      <td>20.125000</td>\n",
       "      <td>9.876922</td>\n",
       "      <td>3.0</td>\n",
       "      <td>3.333333</td>\n",
       "      <td>1.322876</td>\n",
       "      <td>0.9</td>\n",
       "    </tr>\n",
       "    <tr>\n",
       "      <th>2</th>\n",
       "      <td>1</td>\n",
       "      <td>10326</td>\n",
       "      <td>1</td>\n",
       "      <td>93</td>\n",
       "      <td>NaN</td>\n",
       "      <td>NaN</td>\n",
       "      <td>14.5</td>\n",
       "      <td>5.000000</td>\n",
       "      <td>NaN</td>\n",
       "      <td>0.1</td>\n",
       "    </tr>\n",
       "    <tr>\n",
       "      <th>3</th>\n",
       "      <td>1</td>\n",
       "      <td>12427</td>\n",
       "      <td>10</td>\n",
       "      <td>176</td>\n",
       "      <td>19.555555</td>\n",
       "      <td>9.395625</td>\n",
       "      <td>1.5</td>\n",
       "      <td>3.300000</td>\n",
       "      <td>2.406011</td>\n",
       "      <td>1.0</td>\n",
       "    </tr>\n",
       "    <tr>\n",
       "      <th>4</th>\n",
       "      <td>1</td>\n",
       "      <td>13032</td>\n",
       "      <td>3</td>\n",
       "      <td>176</td>\n",
       "      <td>80.500000</td>\n",
       "      <td>51.618793</td>\n",
       "      <td>5.5</td>\n",
       "      <td>6.333333</td>\n",
       "      <td>1.527525</td>\n",
       "      <td>0.3</td>\n",
       "    </tr>\n",
       "  </tbody>\n",
       "</table>\n",
       "</div>"
      ],
      "text/plain": [
       "   user_id  product_id  user_product_order_num  \\\n",
       "0        1         196                      10   \n",
       "1        1       10258                       9   \n",
       "2        1       10326                       1   \n",
       "3        1       12427                      10   \n",
       "4        1       13032                       3   \n",
       "\n",
       "   user_product_last_purchase_day  user_product_order_interval_mean  \\\n",
       "0                             176                         19.555555   \n",
       "1                             176                         20.125000   \n",
       "2                              93                               NaN   \n",
       "3                             176                         19.555555   \n",
       "4                             176                         80.500000   \n",
       "\n",
       "   user_product_order_interval_std  user_product_rank  \\\n",
       "0                         9.395625                1.5   \n",
       "1                         9.876922                3.0   \n",
       "2                              NaN               14.5   \n",
       "3                         9.395625                1.5   \n",
       "4                        51.618793                5.5   \n",
       "\n",
       "   user_product_add_order_mean  user_product_add_order_std  \\\n",
       "0                     1.400000                    0.966092   \n",
       "1                     3.333333                    1.322876   \n",
       "2                     5.000000                         NaN   \n",
       "3                     3.300000                    2.406011   \n",
       "4                     6.333333                    1.527525   \n",
       "\n",
       "   user_product_reorder_ratio  \n",
       "0                         1.0  \n",
       "1                         0.9  \n",
       "2                         0.1  \n",
       "3                         1.0  \n",
       "4                         0.3  "
      ]
     },
     "execution_count": 63,
     "metadata": {},
     "output_type": "execute_result"
    }
   ],
   "source": [
    "user_product_info.head()"
   ]
  },
  {
   "cell_type": "code",
   "execution_count": 64,
   "metadata": {
    "collapsed": true
   },
   "outputs": [],
   "source": [
    "#time_info"
   ]
  },
  {
   "cell_type": "code",
   "execution_count": 65,
   "metadata": {},
   "outputs": [
    {
     "data": {
      "text/html": [
       "<div>\n",
       "<style>\n",
       "    .dataframe thead tr:only-child th {\n",
       "        text-align: right;\n",
       "    }\n",
       "\n",
       "    .dataframe thead th {\n",
       "        text-align: left;\n",
       "    }\n",
       "\n",
       "    .dataframe tbody tr th {\n",
       "        vertical-align: top;\n",
       "    }\n",
       "</style>\n",
       "<table border=\"1\" class=\"dataframe\">\n",
       "  <thead>\n",
       "    <tr style=\"text-align: right;\">\n",
       "      <th></th>\n",
       "      <th>order_id</th>\n",
       "      <th>product_id</th>\n",
       "      <th>add_to_cart_order</th>\n",
       "      <th>reordered</th>\n",
       "      <th>user_id</th>\n",
       "      <th>eval_set</th>\n",
       "      <th>order_number</th>\n",
       "      <th>order_dow</th>\n",
       "      <th>order_hour_of_day</th>\n",
       "      <th>days_since_prior_order</th>\n",
       "      <th>days_since_first_order</th>\n",
       "      <th>days_since_prior_product_purchase</th>\n",
       "    </tr>\n",
       "  </thead>\n",
       "  <tbody>\n",
       "    <tr>\n",
       "      <th>24076664</th>\n",
       "      <td>2539329</td>\n",
       "      <td>196</td>\n",
       "      <td>1</td>\n",
       "      <td>0</td>\n",
       "      <td>1</td>\n",
       "      <td>prior</td>\n",
       "      <td>1</td>\n",
       "      <td>2</td>\n",
       "      <td>8</td>\n",
       "      <td>NaN</td>\n",
       "      <td>0.0</td>\n",
       "      <td>NaN</td>\n",
       "    </tr>\n",
       "    <tr>\n",
       "      <th>22742744</th>\n",
       "      <td>2398795</td>\n",
       "      <td>196</td>\n",
       "      <td>1</td>\n",
       "      <td>1</td>\n",
       "      <td>1</td>\n",
       "      <td>prior</td>\n",
       "      <td>2</td>\n",
       "      <td>3</td>\n",
       "      <td>7</td>\n",
       "      <td>15.0</td>\n",
       "      <td>15.0</td>\n",
       "      <td>15.0</td>\n",
       "    </tr>\n",
       "    <tr>\n",
       "      <th>4488095</th>\n",
       "      <td>473747</td>\n",
       "      <td>196</td>\n",
       "      <td>1</td>\n",
       "      <td>1</td>\n",
       "      <td>1</td>\n",
       "      <td>prior</td>\n",
       "      <td>3</td>\n",
       "      <td>3</td>\n",
       "      <td>12</td>\n",
       "      <td>21.0</td>\n",
       "      <td>36.0</td>\n",
       "      <td>21.0</td>\n",
       "    </tr>\n",
       "    <tr>\n",
       "      <th>21376074</th>\n",
       "      <td>2254736</td>\n",
       "      <td>196</td>\n",
       "      <td>1</td>\n",
       "      <td>1</td>\n",
       "      <td>1</td>\n",
       "      <td>prior</td>\n",
       "      <td>4</td>\n",
       "      <td>4</td>\n",
       "      <td>7</td>\n",
       "      <td>29.0</td>\n",
       "      <td>65.0</td>\n",
       "      <td>29.0</td>\n",
       "    </tr>\n",
       "    <tr>\n",
       "      <th>4089398</th>\n",
       "      <td>431534</td>\n",
       "      <td>196</td>\n",
       "      <td>1</td>\n",
       "      <td>1</td>\n",
       "      <td>1</td>\n",
       "      <td>prior</td>\n",
       "      <td>5</td>\n",
       "      <td>4</td>\n",
       "      <td>15</td>\n",
       "      <td>28.0</td>\n",
       "      <td>93.0</td>\n",
       "      <td>28.0</td>\n",
       "    </tr>\n",
       "  </tbody>\n",
       "</table>\n",
       "</div>"
      ],
      "text/plain": [
       "          order_id  product_id  add_to_cart_order  reordered  user_id  \\\n",
       "24076664   2539329         196                  1          0        1   \n",
       "22742744   2398795         196                  1          1        1   \n",
       "4488095     473747         196                  1          1        1   \n",
       "21376074   2254736         196                  1          1        1   \n",
       "4089398     431534         196                  1          1        1   \n",
       "\n",
       "         eval_set  order_number  order_dow  order_hour_of_day  \\\n",
       "24076664    prior             1          2                  8   \n",
       "22742744    prior             2          3                  7   \n",
       "4488095     prior             3          3                 12   \n",
       "21376074    prior             4          4                  7   \n",
       "4089398     prior             5          4                 15   \n",
       "\n",
       "          days_since_prior_order  days_since_first_order  \\\n",
       "24076664                     NaN                     0.0   \n",
       "22742744                    15.0                    15.0   \n",
       "4488095                     21.0                    36.0   \n",
       "21376074                    29.0                    65.0   \n",
       "4089398                     28.0                    93.0   \n",
       "\n",
       "          days_since_prior_product_purchase  \n",
       "24076664                                NaN  \n",
       "22742744                               15.0  \n",
       "4488095                                21.0  \n",
       "21376074                               29.0  \n",
       "4089398                                28.0  "
      ]
     },
     "execution_count": 65,
     "metadata": {},
     "output_type": "execute_result"
    }
   ],
   "source": [
    "priordf.head()"
   ]
  },
  {
   "cell_type": "code",
   "execution_count": 66,
   "metadata": {
    "collapsed": true
   },
   "outputs": [],
   "source": [
    "ordertime_info = pd.DataFrame(priordf.reset_index().groupby(['order_dow', 'order_hour_of_day'])['order_id'].nunique())"
   ]
  },
  {
   "cell_type": "code",
   "execution_count": 67,
   "metadata": {
    "collapsed": true
   },
   "outputs": [],
   "source": [
    "ordertime_info.rename(columns = {'order_id': 'ordertime_order_num'}, inplace = True)"
   ]
  },
  {
   "cell_type": "code",
   "execution_count": 68,
   "metadata": {
    "collapsed": true
   },
   "outputs": [],
   "source": [
    "ordertime_info.reset_index(inplace=True)"
   ]
  },
  {
   "cell_type": "code",
   "execution_count": 69,
   "metadata": {},
   "outputs": [
    {
     "data": {
      "text/html": [
       "<div>\n",
       "<style>\n",
       "    .dataframe thead tr:only-child th {\n",
       "        text-align: right;\n",
       "    }\n",
       "\n",
       "    .dataframe thead th {\n",
       "        text-align: left;\n",
       "    }\n",
       "\n",
       "    .dataframe tbody tr th {\n",
       "        vertical-align: top;\n",
       "    }\n",
       "</style>\n",
       "<table border=\"1\" class=\"dataframe\">\n",
       "  <thead>\n",
       "    <tr style=\"text-align: right;\">\n",
       "      <th></th>\n",
       "      <th>order_dow</th>\n",
       "      <th>order_hour_of_day</th>\n",
       "      <th>ordertime_order_num</th>\n",
       "    </tr>\n",
       "  </thead>\n",
       "  <tbody>\n",
       "    <tr>\n",
       "      <th>0</th>\n",
       "      <td>0</td>\n",
       "      <td>0</td>\n",
       "      <td>3692</td>\n",
       "    </tr>\n",
       "    <tr>\n",
       "      <th>1</th>\n",
       "      <td>0</td>\n",
       "      <td>1</td>\n",
       "      <td>2235</td>\n",
       "    </tr>\n",
       "    <tr>\n",
       "      <th>2</th>\n",
       "      <td>0</td>\n",
       "      <td>2</td>\n",
       "      <td>1299</td>\n",
       "    </tr>\n",
       "    <tr>\n",
       "      <th>3</th>\n",
       "      <td>0</td>\n",
       "      <td>3</td>\n",
       "      <td>888</td>\n",
       "    </tr>\n",
       "    <tr>\n",
       "      <th>4</th>\n",
       "      <td>0</td>\n",
       "      <td>4</td>\n",
       "      <td>750</td>\n",
       "    </tr>\n",
       "  </tbody>\n",
       "</table>\n",
       "</div>"
      ],
      "text/plain": [
       "   order_dow  order_hour_of_day  ordertime_order_num\n",
       "0          0                  0                 3692\n",
       "1          0                  1                 2235\n",
       "2          0                  2                 1299\n",
       "3          0                  3                  888\n",
       "4          0                  4                  750"
      ]
     },
     "execution_count": 69,
     "metadata": {},
     "output_type": "execute_result"
    }
   ],
   "source": [
    "ordertime_info.head()"
   ]
  },
  {
   "cell_type": "code",
   "execution_count": 70,
   "metadata": {
    "collapsed": true
   },
   "outputs": [],
   "source": [
    "user_ordertime_info = pd.DataFrame(priordf.reset_index().groupby(['user_id','order_dow', 'order_hour_of_day'])['order_id'].nunique())"
   ]
  },
  {
   "cell_type": "code",
   "execution_count": 71,
   "metadata": {
    "collapsed": true
   },
   "outputs": [],
   "source": [
    "user_ordertime_info.rename(columns = {'order_id': 'user_ordertime_order_num'}, inplace = True)\n",
    "user_ordertime_info.reset_index(inplace=True)"
   ]
  },
  {
   "cell_type": "code",
   "execution_count": 72,
   "metadata": {},
   "outputs": [
    {
     "data": {
      "text/html": [
       "<div>\n",
       "<style>\n",
       "    .dataframe thead tr:only-child th {\n",
       "        text-align: right;\n",
       "    }\n",
       "\n",
       "    .dataframe thead th {\n",
       "        text-align: left;\n",
       "    }\n",
       "\n",
       "    .dataframe tbody tr th {\n",
       "        vertical-align: top;\n",
       "    }\n",
       "</style>\n",
       "<table border=\"1\" class=\"dataframe\">\n",
       "  <thead>\n",
       "    <tr style=\"text-align: right;\">\n",
       "      <th></th>\n",
       "      <th>user_id</th>\n",
       "      <th>order_dow</th>\n",
       "      <th>order_hour_of_day</th>\n",
       "      <th>user_ordertime_order_num</th>\n",
       "    </tr>\n",
       "  </thead>\n",
       "  <tbody>\n",
       "    <tr>\n",
       "      <th>0</th>\n",
       "      <td>1</td>\n",
       "      <td>1</td>\n",
       "      <td>9</td>\n",
       "      <td>1</td>\n",
       "    </tr>\n",
       "    <tr>\n",
       "      <th>1</th>\n",
       "      <td>1</td>\n",
       "      <td>1</td>\n",
       "      <td>14</td>\n",
       "      <td>1</td>\n",
       "    </tr>\n",
       "    <tr>\n",
       "      <th>2</th>\n",
       "      <td>1</td>\n",
       "      <td>1</td>\n",
       "      <td>16</td>\n",
       "      <td>1</td>\n",
       "    </tr>\n",
       "    <tr>\n",
       "      <th>3</th>\n",
       "      <td>1</td>\n",
       "      <td>2</td>\n",
       "      <td>7</td>\n",
       "      <td>1</td>\n",
       "    </tr>\n",
       "    <tr>\n",
       "      <th>4</th>\n",
       "      <td>1</td>\n",
       "      <td>2</td>\n",
       "      <td>8</td>\n",
       "      <td>1</td>\n",
       "    </tr>\n",
       "  </tbody>\n",
       "</table>\n",
       "</div>"
      ],
      "text/plain": [
       "   user_id  order_dow  order_hour_of_day  user_ordertime_order_num\n",
       "0        1          1                  9                         1\n",
       "1        1          1                 14                         1\n",
       "2        1          1                 16                         1\n",
       "3        1          2                  7                         1\n",
       "4        1          2                  8                         1"
      ]
     },
     "execution_count": 72,
     "metadata": {},
     "output_type": "execute_result"
    }
   ],
   "source": [
    "user_ordertime_info.head()"
   ]
  },
  {
   "cell_type": "code",
   "execution_count": 73,
   "metadata": {
    "collapsed": true
   },
   "outputs": [],
   "source": [
    "product_ordertime_info = pd.DataFrame(priordf.reset_index().groupby(['product_id','order_dow', 'order_hour_of_day'])['order_id'].nunique())"
   ]
  },
  {
   "cell_type": "code",
   "execution_count": 74,
   "metadata": {
    "collapsed": true
   },
   "outputs": [],
   "source": [
    "product_ordertime_info.rename(columns = {'order_id': 'product_ordertime_order_num'}, inplace = True)\n",
    "product_ordertime_info.reset_index(inplace=True)"
   ]
  },
  {
   "cell_type": "code",
   "execution_count": 75,
   "metadata": {},
   "outputs": [
    {
     "data": {
      "text/html": [
       "<div>\n",
       "<style>\n",
       "    .dataframe thead tr:only-child th {\n",
       "        text-align: right;\n",
       "    }\n",
       "\n",
       "    .dataframe thead th {\n",
       "        text-align: left;\n",
       "    }\n",
       "\n",
       "    .dataframe tbody tr th {\n",
       "        vertical-align: top;\n",
       "    }\n",
       "</style>\n",
       "<table border=\"1\" class=\"dataframe\">\n",
       "  <thead>\n",
       "    <tr style=\"text-align: right;\">\n",
       "      <th></th>\n",
       "      <th>product_id</th>\n",
       "      <th>order_dow</th>\n",
       "      <th>order_hour_of_day</th>\n",
       "      <th>product_ordertime_order_num</th>\n",
       "    </tr>\n",
       "  </thead>\n",
       "  <tbody>\n",
       "    <tr>\n",
       "      <th>0</th>\n",
       "      <td>1</td>\n",
       "      <td>0</td>\n",
       "      <td>0</td>\n",
       "      <td>1</td>\n",
       "    </tr>\n",
       "    <tr>\n",
       "      <th>1</th>\n",
       "      <td>1</td>\n",
       "      <td>0</td>\n",
       "      <td>1</td>\n",
       "      <td>1</td>\n",
       "    </tr>\n",
       "    <tr>\n",
       "      <th>2</th>\n",
       "      <td>1</td>\n",
       "      <td>0</td>\n",
       "      <td>5</td>\n",
       "      <td>1</td>\n",
       "    </tr>\n",
       "    <tr>\n",
       "      <th>3</th>\n",
       "      <td>1</td>\n",
       "      <td>0</td>\n",
       "      <td>6</td>\n",
       "      <td>1</td>\n",
       "    </tr>\n",
       "    <tr>\n",
       "      <th>4</th>\n",
       "      <td>1</td>\n",
       "      <td>0</td>\n",
       "      <td>7</td>\n",
       "      <td>4</td>\n",
       "    </tr>\n",
       "  </tbody>\n",
       "</table>\n",
       "</div>"
      ],
      "text/plain": [
       "   product_id  order_dow  order_hour_of_day  product_ordertime_order_num\n",
       "0           1          0                  0                            1\n",
       "1           1          0                  1                            1\n",
       "2           1          0                  5                            1\n",
       "3           1          0                  6                            1\n",
       "4           1          0                  7                            4"
      ]
     },
     "execution_count": 75,
     "metadata": {},
     "output_type": "execute_result"
    }
   ],
   "source": [
    "product_ordertime_info.head()"
   ]
  },
  {
   "cell_type": "code",
   "execution_count": 76,
   "metadata": {
    "collapsed": true
   },
   "outputs": [],
   "source": [
    "#aisle_info"
   ]
  },
  {
   "cell_type": "code",
   "execution_count": 77,
   "metadata": {},
   "outputs": [
    {
     "data": {
      "text/html": [
       "<div>\n",
       "<style>\n",
       "    .dataframe thead tr:only-child th {\n",
       "        text-align: right;\n",
       "    }\n",
       "\n",
       "    .dataframe thead th {\n",
       "        text-align: left;\n",
       "    }\n",
       "\n",
       "    .dataframe tbody tr th {\n",
       "        vertical-align: top;\n",
       "    }\n",
       "</style>\n",
       "<table border=\"1\" class=\"dataframe\">\n",
       "  <thead>\n",
       "    <tr style=\"text-align: right;\">\n",
       "      <th></th>\n",
       "      <th>product_id</th>\n",
       "      <th>product_user_num</th>\n",
       "      <th>product_order_num</th>\n",
       "      <th>product_order_interval_mean</th>\n",
       "      <th>product_order_interval_std</th>\n",
       "      <th>product_reorder_num</th>\n",
       "      <th>product_reorder_user_num</th>\n",
       "      <th>product_reorder_ratio</th>\n",
       "      <th>product_reorder_user_ratio</th>\n",
       "      <th>product_add_to_cart_order_mean</th>\n",
       "      <th>product_add_to_cart_order_std</th>\n",
       "      <th>product_name</th>\n",
       "      <th>aisle_id</th>\n",
       "      <th>department_id</th>\n",
       "    </tr>\n",
       "  </thead>\n",
       "  <tbody>\n",
       "    <tr>\n",
       "      <th>0</th>\n",
       "      <td>1</td>\n",
       "      <td>716</td>\n",
       "      <td>1852</td>\n",
       "      <td>27.961267</td>\n",
       "      <td>37.873127</td>\n",
       "      <td>1136.0</td>\n",
       "      <td>276.0</td>\n",
       "      <td>0.613391</td>\n",
       "      <td>0.385475</td>\n",
       "      <td>5.801836</td>\n",
       "      <td>5.575389</td>\n",
       "      <td>Chocolate Sandwich Cookies</td>\n",
       "      <td>61</td>\n",
       "      <td>19</td>\n",
       "    </tr>\n",
       "    <tr>\n",
       "      <th>1</th>\n",
       "      <td>2</td>\n",
       "      <td>78</td>\n",
       "      <td>90</td>\n",
       "      <td>50.166668</td>\n",
       "      <td>52.135895</td>\n",
       "      <td>12.0</td>\n",
       "      <td>8.0</td>\n",
       "      <td>0.133333</td>\n",
       "      <td>0.102564</td>\n",
       "      <td>9.888889</td>\n",
       "      <td>7.821671</td>\n",
       "      <td>All-Seasons Salt</td>\n",
       "      <td>104</td>\n",
       "      <td>13</td>\n",
       "    </tr>\n",
       "    <tr>\n",
       "      <th>2</th>\n",
       "      <td>3</td>\n",
       "      <td>74</td>\n",
       "      <td>277</td>\n",
       "      <td>19.369457</td>\n",
       "      <td>24.833035</td>\n",
       "      <td>203.0</td>\n",
       "      <td>36.0</td>\n",
       "      <td>0.732852</td>\n",
       "      <td>0.486486</td>\n",
       "      <td>6.415163</td>\n",
       "      <td>6.472701</td>\n",
       "      <td>Robust Golden Unsweetened Oolong Tea</td>\n",
       "      <td>94</td>\n",
       "      <td>7</td>\n",
       "    </tr>\n",
       "    <tr>\n",
       "      <th>3</th>\n",
       "      <td>4</td>\n",
       "      <td>182</td>\n",
       "      <td>329</td>\n",
       "      <td>31.707483</td>\n",
       "      <td>28.790031</td>\n",
       "      <td>147.0</td>\n",
       "      <td>64.0</td>\n",
       "      <td>0.446809</td>\n",
       "      <td>0.351648</td>\n",
       "      <td>9.507599</td>\n",
       "      <td>6.861485</td>\n",
       "      <td>Smart Ones Classic Favorites Mini Rigatoni Wit...</td>\n",
       "      <td>38</td>\n",
       "      <td>1</td>\n",
       "    </tr>\n",
       "    <tr>\n",
       "      <th>4</th>\n",
       "      <td>5</td>\n",
       "      <td>6</td>\n",
       "      <td>15</td>\n",
       "      <td>34.888889</td>\n",
       "      <td>36.511795</td>\n",
       "      <td>9.0</td>\n",
       "      <td>4.0</td>\n",
       "      <td>0.600000</td>\n",
       "      <td>0.666667</td>\n",
       "      <td>6.466667</td>\n",
       "      <td>3.563038</td>\n",
       "      <td>Green Chile Anytime Sauce</td>\n",
       "      <td>5</td>\n",
       "      <td>13</td>\n",
       "    </tr>\n",
       "  </tbody>\n",
       "</table>\n",
       "</div>"
      ],
      "text/plain": [
       "   product_id  product_user_num  product_order_num  \\\n",
       "0           1               716               1852   \n",
       "1           2                78                 90   \n",
       "2           3                74                277   \n",
       "3           4               182                329   \n",
       "4           5                 6                 15   \n",
       "\n",
       "   product_order_interval_mean  product_order_interval_std  \\\n",
       "0                    27.961267                   37.873127   \n",
       "1                    50.166668                   52.135895   \n",
       "2                    19.369457                   24.833035   \n",
       "3                    31.707483                   28.790031   \n",
       "4                    34.888889                   36.511795   \n",
       "\n",
       "   product_reorder_num  product_reorder_user_num  product_reorder_ratio  \\\n",
       "0               1136.0                     276.0               0.613391   \n",
       "1                 12.0                       8.0               0.133333   \n",
       "2                203.0                      36.0               0.732852   \n",
       "3                147.0                      64.0               0.446809   \n",
       "4                  9.0                       4.0               0.600000   \n",
       "\n",
       "   product_reorder_user_ratio  product_add_to_cart_order_mean  \\\n",
       "0                    0.385475                        5.801836   \n",
       "1                    0.102564                        9.888889   \n",
       "2                    0.486486                        6.415163   \n",
       "3                    0.351648                        9.507599   \n",
       "4                    0.666667                        6.466667   \n",
       "\n",
       "   product_add_to_cart_order_std  \\\n",
       "0                       5.575389   \n",
       "1                       7.821671   \n",
       "2                       6.472701   \n",
       "3                       6.861485   \n",
       "4                       3.563038   \n",
       "\n",
       "                                        product_name  aisle_id  department_id  \n",
       "0                         Chocolate Sandwich Cookies        61             19  \n",
       "1                                   All-Seasons Salt       104             13  \n",
       "2               Robust Golden Unsweetened Oolong Tea        94              7  \n",
       "3  Smart Ones Classic Favorites Mini Rigatoni Wit...        38              1  \n",
       "4                          Green Chile Anytime Sauce         5             13  "
      ]
     },
     "execution_count": 77,
     "metadata": {},
     "output_type": "execute_result"
    }
   ],
   "source": [
    "product_info.head()"
   ]
  },
  {
   "cell_type": "code",
   "execution_count": 79,
   "metadata": {
    "collapsed": true
   },
   "outputs": [],
   "source": [
    "agg_to_aisle = {\n",
    "    'product_user_num':['sum','mean','std'], \n",
    "    'product_order_num':['sum', 'mean', 'std'], \n",
    "    'product_order_interval_mean':['mean', 'std'],\n",
    "    'product_reorder_num': ['sum','mean','std'],\n",
    "    'product_reorder_user_num': ['sum','mean','std'],\n",
    "    'product_add_to_cart_order_mean': ['mean','std'],\n",
    "}"
   ]
  },
  {
   "cell_type": "code",
   "execution_count": 80,
   "metadata": {
    "collapsed": true
   },
   "outputs": [],
   "source": [
    "aisle_info = product_info.groupby('aisle_id').agg(agg_to_aisle)"
   ]
  },
  {
   "cell_type": "code",
   "execution_count": 81,
   "metadata": {
    "collapsed": true
   },
   "outputs": [],
   "source": [
    "aisle_info.columns = [\"_\".join(x) for x in aisle_info.columns.ravel()]"
   ]
  },
  {
   "cell_type": "code",
   "execution_count": 85,
   "metadata": {
    "collapsed": true
   },
   "outputs": [],
   "source": [
    "aisle_info.rename(columns = {'product_user_num_sum': 'aisle_prod_user_num_sum', 'product_user_num_mean': 'aisle_prod_user_num_mean', 'product_user_num_std': 'aisle_prod_user_num_std', 'product_order_num_sum': 'aisle_prod_order_num_sum', 'product_order_num_mean': 'aisle_prod_order_num_mean', 'product_order_num_std': 'aisle_prod_order_num_std', 'product_order_interval_mean_mean': 'aisle_prod_order_interval_mean_mean', 'product_order_interval_mean_std': 'aisle_prod_order_interval_mean_std', 'product_reorder_num_sum': 'aisle_prod_reorder_num_sum',\n",
    "'product_reorder_num_mean': 'aisle_prod_reorder_num_mean', 'product_reorder_num_std': 'aisle_prod_reorder_num_std', 'product_reorder_user_num_sum': 'aisle_prod_reorder_user_num_sum', 'product_reorder_user_num_mean': 'aisle_prod_reorder_user_num_mean', 'product_reorder_user_num_std': 'aisle_prod_reorder_user_num_std', 'product_add_to_cart_order_mean_mean': 'aisle_prod_add_to_cart_order_mean', 'product_add_to_cart_order_mean_std': 'aisle_prod_add_to_cart_order_std'}, inplace=True)"
   ]
  },
  {
   "cell_type": "code",
   "execution_count": 86,
   "metadata": {
    "collapsed": true
   },
   "outputs": [],
   "source": [
    "aisle_info['aisle_reorder_ratio'] = aisle_info.aisle_prod_reorder_num_mean/aisle_info.aisle_prod_order_num_mean"
   ]
  },
  {
   "cell_type": "code",
   "execution_count": 89,
   "metadata": {
    "collapsed": true
   },
   "outputs": [],
   "source": [
    "aisle_info['aisle_user_reorder_ratio'] = aisle_info.aisle_prod_reorder_user_num_mean/aisle_info.aisle_prod_user_num_mean"
   ]
  },
  {
   "cell_type": "code",
   "execution_count": 90,
   "metadata": {},
   "outputs": [
    {
     "data": {
      "text/html": [
       "<div>\n",
       "<style>\n",
       "    .dataframe thead tr:only-child th {\n",
       "        text-align: right;\n",
       "    }\n",
       "\n",
       "    .dataframe thead th {\n",
       "        text-align: left;\n",
       "    }\n",
       "\n",
       "    .dataframe tbody tr th {\n",
       "        vertical-align: top;\n",
       "    }\n",
       "</style>\n",
       "<table border=\"1\" class=\"dataframe\">\n",
       "  <thead>\n",
       "    <tr style=\"text-align: right;\">\n",
       "      <th></th>\n",
       "      <th>aisle_prod_user_num_sum</th>\n",
       "      <th>aisle_prod_user_num_mean</th>\n",
       "      <th>aisle_prod_user_num_std</th>\n",
       "      <th>aisle_prod_order_num_sum</th>\n",
       "      <th>aisle_prod_order_num_mean</th>\n",
       "      <th>aisle_prod_order_num_std</th>\n",
       "      <th>aisle_prod_order_interval_mean_mean</th>\n",
       "      <th>aisle_prod_order_interval_mean_std</th>\n",
       "      <th>aisle_prod_reorder_num_sum</th>\n",
       "      <th>aisle_prod_reorder_num_mean</th>\n",
       "      <th>aisle_prod_reorder_num_std</th>\n",
       "      <th>aisle_prod_reorder_user_num_sum</th>\n",
       "      <th>aisle_prod_reorder_user_num_mean</th>\n",
       "      <th>aisle_prod_reorder_user_num_std</th>\n",
       "      <th>aisle_prod_add_to_cart_order_mean</th>\n",
       "      <th>aisle_prod_add_to_cart_order_std</th>\n",
       "      <th>aisle_reorder_ratio</th>\n",
       "      <th>aisle_user_reorder_ratio</th>\n",
       "    </tr>\n",
       "    <tr>\n",
       "      <th>aisle_id</th>\n",
       "      <th></th>\n",
       "      <th></th>\n",
       "      <th></th>\n",
       "      <th></th>\n",
       "      <th></th>\n",
       "      <th></th>\n",
       "      <th></th>\n",
       "      <th></th>\n",
       "      <th></th>\n",
       "      <th></th>\n",
       "      <th></th>\n",
       "      <th></th>\n",
       "      <th></th>\n",
       "      <th></th>\n",
       "      <th></th>\n",
       "      <th></th>\n",
       "      <th></th>\n",
       "      <th></th>\n",
       "    </tr>\n",
       "  </thead>\n",
       "  <tbody>\n",
       "    <tr>\n",
       "      <th>1</th>\n",
       "      <td>29016</td>\n",
       "      <td>198.739726</td>\n",
       "      <td>327.565736</td>\n",
       "      <td>71928</td>\n",
       "      <td>492.657534</td>\n",
       "      <td>903.061677</td>\n",
       "      <td>27.059513</td>\n",
       "      <td>13.772337</td>\n",
       "      <td>42912.0</td>\n",
       "      <td>293.917808</td>\n",
       "      <td>606.896350</td>\n",
       "      <td>11534.0</td>\n",
       "      <td>79.000000</td>\n",
       "      <td>142.516835</td>\n",
       "      <td>8.818574</td>\n",
       "      <td>1.806635</td>\n",
       "      <td>0.596597</td>\n",
       "      <td>0.397505</td>\n",
       "    </tr>\n",
       "    <tr>\n",
       "      <th>2</th>\n",
       "      <td>42126</td>\n",
       "      <td>155.446494</td>\n",
       "      <td>407.096189</td>\n",
       "      <td>82491</td>\n",
       "      <td>304.394834</td>\n",
       "      <td>839.887252</td>\n",
       "      <td>36.342415</td>\n",
       "      <td>17.781334</td>\n",
       "      <td>40365.0</td>\n",
       "      <td>148.948339</td>\n",
       "      <td>451.846038</td>\n",
       "      <td>13739.0</td>\n",
       "      <td>50.697417</td>\n",
       "      <td>147.091319</td>\n",
       "      <td>9.358910</td>\n",
       "      <td>2.217766</td>\n",
       "      <td>0.489326</td>\n",
       "      <td>0.326141</td>\n",
       "    </tr>\n",
       "    <tr>\n",
       "      <th>3</th>\n",
       "      <td>183464</td>\n",
       "      <td>220.509615</td>\n",
       "      <td>446.923550</td>\n",
       "      <td>456386</td>\n",
       "      <td>548.540865</td>\n",
       "      <td>1193.136418</td>\n",
       "      <td>26.012691</td>\n",
       "      <td>14.447985</td>\n",
       "      <td>272922.0</td>\n",
       "      <td>328.031250</td>\n",
       "      <td>756.991138</td>\n",
       "      <td>75508.0</td>\n",
       "      <td>90.754808</td>\n",
       "      <td>199.192987</td>\n",
       "      <td>9.891664</td>\n",
       "      <td>2.654259</td>\n",
       "      <td>0.598007</td>\n",
       "      <td>0.411568</td>\n",
       "    </tr>\n",
       "    <tr>\n",
       "      <th>4</th>\n",
       "      <td>102444</td>\n",
       "      <td>188.662983</td>\n",
       "      <td>482.255550</td>\n",
       "      <td>200687</td>\n",
       "      <td>369.589319</td>\n",
       "      <td>1022.140681</td>\n",
       "      <td>36.945961</td>\n",
       "      <td>16.613544</td>\n",
       "      <td>98243.0</td>\n",
       "      <td>180.926335</td>\n",
       "      <td>547.872967</td>\n",
       "      <td>35470.0</td>\n",
       "      <td>65.322284</td>\n",
       "      <td>186.106379</td>\n",
       "      <td>10.449979</td>\n",
       "      <td>2.380114</td>\n",
       "      <td>0.489533</td>\n",
       "      <td>0.346238</td>\n",
       "    </tr>\n",
       "    <tr>\n",
       "      <th>5</th>\n",
       "      <td>44968</td>\n",
       "      <td>109.946210</td>\n",
       "      <td>389.037396</td>\n",
       "      <td>62510</td>\n",
       "      <td>152.836186</td>\n",
       "      <td>535.526065</td>\n",
       "      <td>48.310493</td>\n",
       "      <td>28.437979</td>\n",
       "      <td>17542.0</td>\n",
       "      <td>42.889976</td>\n",
       "      <td>151.139042</td>\n",
       "      <td>9067.0</td>\n",
       "      <td>22.168704</td>\n",
       "      <td>79.528503</td>\n",
       "      <td>10.370530</td>\n",
       "      <td>2.503755</td>\n",
       "      <td>0.280627</td>\n",
       "      <td>0.201632</td>\n",
       "    </tr>\n",
       "  </tbody>\n",
       "</table>\n",
       "</div>"
      ],
      "text/plain": [
       "          aisle_prod_user_num_sum  aisle_prod_user_num_mean  \\\n",
       "aisle_id                                                      \n",
       "1                           29016                198.739726   \n",
       "2                           42126                155.446494   \n",
       "3                          183464                220.509615   \n",
       "4                          102444                188.662983   \n",
       "5                           44968                109.946210   \n",
       "\n",
       "          aisle_prod_user_num_std  aisle_prod_order_num_sum  \\\n",
       "aisle_id                                                      \n",
       "1                      327.565736                     71928   \n",
       "2                      407.096189                     82491   \n",
       "3                      446.923550                    456386   \n",
       "4                      482.255550                    200687   \n",
       "5                      389.037396                     62510   \n",
       "\n",
       "          aisle_prod_order_num_mean  aisle_prod_order_num_std  \\\n",
       "aisle_id                                                        \n",
       "1                        492.657534                903.061677   \n",
       "2                        304.394834                839.887252   \n",
       "3                        548.540865               1193.136418   \n",
       "4                        369.589319               1022.140681   \n",
       "5                        152.836186                535.526065   \n",
       "\n",
       "          aisle_prod_order_interval_mean_mean  \\\n",
       "aisle_id                                        \n",
       "1                                   27.059513   \n",
       "2                                   36.342415   \n",
       "3                                   26.012691   \n",
       "4                                   36.945961   \n",
       "5                                   48.310493   \n",
       "\n",
       "          aisle_prod_order_interval_mean_std  aisle_prod_reorder_num_sum  \\\n",
       "aisle_id                                                                   \n",
       "1                                  13.772337                     42912.0   \n",
       "2                                  17.781334                     40365.0   \n",
       "3                                  14.447985                    272922.0   \n",
       "4                                  16.613544                     98243.0   \n",
       "5                                  28.437979                     17542.0   \n",
       "\n",
       "          aisle_prod_reorder_num_mean  aisle_prod_reorder_num_std  \\\n",
       "aisle_id                                                            \n",
       "1                          293.917808                  606.896350   \n",
       "2                          148.948339                  451.846038   \n",
       "3                          328.031250                  756.991138   \n",
       "4                          180.926335                  547.872967   \n",
       "5                           42.889976                  151.139042   \n",
       "\n",
       "          aisle_prod_reorder_user_num_sum  aisle_prod_reorder_user_num_mean  \\\n",
       "aisle_id                                                                      \n",
       "1                                 11534.0                         79.000000   \n",
       "2                                 13739.0                         50.697417   \n",
       "3                                 75508.0                         90.754808   \n",
       "4                                 35470.0                         65.322284   \n",
       "5                                  9067.0                         22.168704   \n",
       "\n",
       "          aisle_prod_reorder_user_num_std  aisle_prod_add_to_cart_order_mean  \\\n",
       "aisle_id                                                                       \n",
       "1                              142.516835                           8.818574   \n",
       "2                              147.091319                           9.358910   \n",
       "3                              199.192987                           9.891664   \n",
       "4                              186.106379                          10.449979   \n",
       "5                               79.528503                          10.370530   \n",
       "\n",
       "          aisle_prod_add_to_cart_order_std  aisle_reorder_ratio  \\\n",
       "aisle_id                                                          \n",
       "1                                 1.806635             0.596597   \n",
       "2                                 2.217766             0.489326   \n",
       "3                                 2.654259             0.598007   \n",
       "4                                 2.380114             0.489533   \n",
       "5                                 2.503755             0.280627   \n",
       "\n",
       "          aisle_user_reorder_ratio  \n",
       "aisle_id                            \n",
       "1                         0.397505  \n",
       "2                         0.326141  \n",
       "3                         0.411568  \n",
       "4                         0.346238  \n",
       "5                         0.201632  "
      ]
     },
     "execution_count": 90,
     "metadata": {},
     "output_type": "execute_result"
    }
   ],
   "source": [
    "aisle_info.head()"
   ]
  },
  {
   "cell_type": "code",
   "execution_count": null,
   "metadata": {
    "collapsed": true
   },
   "outputs": [],
   "source": []
  },
  {
   "cell_type": "code",
   "execution_count": 158,
   "metadata": {
    "collapsed": true
   },
   "outputs": [],
   "source": [
    "master_prior_df = pd.merge(user_product_info.reset_index(), user_info.reset_index(), on='user_id', how='left')"
   ]
  },
  {
   "cell_type": "code",
   "execution_count": 159,
   "metadata": {
    "collapsed": true
   },
   "outputs": [],
   "source": [
    "master_prior_df = pd.merge(master_prior_df, product_info.reset_index(), on='product_id', how = 'left')"
   ]
  },
  {
   "cell_type": "code",
   "execution_count": 161,
   "metadata": {
    "collapsed": true
   },
   "outputs": [],
   "source": [
    "#pickle.dump(master_prior_df, open('data/master_prior_df.p', 'wb'))"
   ]
  },
  {
   "cell_type": "markdown",
   "metadata": {},
   "source": [
    "## Baseline"
   ]
  },
  {
   "cell_type": "code",
   "execution_count": 162,
   "metadata": {
    "collapsed": true
   },
   "outputs": [],
   "source": [
    "train_users = orders[orders.eval_set == 'train'].user_id"
   ]
  },
  {
   "cell_type": "code",
   "execution_count": 163,
   "metadata": {},
   "outputs": [
    {
     "data": {
      "text/plain": [
       "10    1\n",
       "25    2\n",
       "49    5\n",
       "74    7\n",
       "78    8\n",
       "Name: user_id, dtype: uint32"
      ]
     },
     "execution_count": 163,
     "metadata": {},
     "output_type": "execute_result"
    }
   ],
   "source": [
    "train_users.head()"
   ]
  },
  {
   "cell_type": "code",
   "execution_count": 164,
   "metadata": {
    "collapsed": true
   },
   "outputs": [],
   "source": [
    "traindf = master_prior_df[master_prior_df.user_id.isin(train_users)]"
   ]
  },
  {
   "cell_type": "code",
   "execution_count": 165,
   "metadata": {
    "collapsed": true
   },
   "outputs": [],
   "source": [
    "traindf = pd.merge(traindf, orders[orders.eval_set == 'train'], on='user_id', how = 'left')"
   ]
  },
  {
   "cell_type": "code",
   "execution_count": 166,
   "metadata": {
    "collapsed": true
   },
   "outputs": [],
   "source": [
    "traindf = pd.merge(traindf, order_product_train, on =['order_id', 'product_id'], how = 'left')"
   ]
  },
  {
   "cell_type": "code",
   "execution_count": 167,
   "metadata": {},
   "outputs": [
    {
     "data": {
      "text/plain": [
       "Index(['user_id', 'product_id', 'user_product_purchase_count',\n",
       "       'user_product_last_purchase_day',\n",
       "       'user_product_average_purchase_interval', 'user_product_rank',\n",
       "       'user_product_avg_add_order', 'user_count_of_order',\n",
       "       'user_average_order_interval', 'user_average_basket_size',\n",
       "       'product_user_count', 'product_order_count',\n",
       "       'product_average_purchase_interval', 'product_reorder_count',\n",
       "       'reorder_ratio', 'average_add_to_cart_order', 'order_id', 'eval_set',\n",
       "       'order_number', 'order_dow', 'order_hour_of_day',\n",
       "       'days_since_prior_order', 'add_to_cart_order', 'reordered'],\n",
       "      dtype='object')"
      ]
     },
     "execution_count": 167,
     "metadata": {},
     "output_type": "execute_result"
    }
   ],
   "source": [
    "traindf.columns"
   ]
  },
  {
   "cell_type": "code",
   "execution_count": 168,
   "metadata": {
    "collapsed": true
   },
   "outputs": [],
   "source": [
    "traindf.reordered.fillna(0, inplace = True)"
   ]
  },
  {
   "cell_type": "code",
   "execution_count": 169,
   "metadata": {},
   "outputs": [
    {
     "data": {
      "text/plain": [
       "0.0    7645837\n",
       "1.0     828824\n",
       "Name: reordered, dtype: int64"
      ]
     },
     "execution_count": 169,
     "metadata": {},
     "output_type": "execute_result"
    }
   ],
   "source": [
    "traindf.reordered.value_counts()"
   ]
  },
  {
   "cell_type": "code",
   "execution_count": 170,
   "metadata": {
    "collapsed": true
   },
   "outputs": [],
   "source": [
    "traindf.rename(columns = {'reordered': 'y'}, inplace = True)"
   ]
  },
  {
   "cell_type": "code",
   "execution_count": 171,
   "metadata": {},
   "outputs": [
    {
     "data": {
      "text/plain": [
       "Index(['user_id', 'product_id', 'user_product_purchase_count',\n",
       "       'user_product_last_purchase_day',\n",
       "       'user_product_average_purchase_interval', 'user_product_rank',\n",
       "       'user_product_avg_add_order', 'user_count_of_order',\n",
       "       'user_average_order_interval', 'user_average_basket_size',\n",
       "       'product_user_count', 'product_order_count',\n",
       "       'product_average_purchase_interval', 'product_reorder_count',\n",
       "       'reorder_ratio', 'average_add_to_cart_order', 'order_id', 'eval_set',\n",
       "       'order_number', 'order_dow', 'order_hour_of_day',\n",
       "       'days_since_prior_order', 'add_to_cart_order', 'y'],\n",
       "      dtype='object')"
      ]
     },
     "execution_count": 171,
     "metadata": {},
     "output_type": "execute_result"
    }
   ],
   "source": [
    "traindf.columns"
   ]
  },
  {
   "cell_type": "code",
   "execution_count": 172,
   "metadata": {},
   "outputs": [
    {
     "data": {
      "text/html": [
       "<div>\n",
       "<style>\n",
       "    .dataframe thead tr:only-child th {\n",
       "        text-align: right;\n",
       "    }\n",
       "\n",
       "    .dataframe thead th {\n",
       "        text-align: left;\n",
       "    }\n",
       "\n",
       "    .dataframe tbody tr th {\n",
       "        vertical-align: top;\n",
       "    }\n",
       "</style>\n",
       "<table border=\"1\" class=\"dataframe\">\n",
       "  <thead>\n",
       "    <tr style=\"text-align: right;\">\n",
       "      <th></th>\n",
       "      <th>user_id</th>\n",
       "      <th>product_id</th>\n",
       "      <th>user_product_purchase_count</th>\n",
       "      <th>user_product_last_purchase_day</th>\n",
       "      <th>user_product_average_purchase_interval</th>\n",
       "      <th>user_product_rank</th>\n",
       "      <th>user_product_avg_add_order</th>\n",
       "      <th>user_count_of_order</th>\n",
       "      <th>user_average_order_interval</th>\n",
       "      <th>user_average_basket_size</th>\n",
       "      <th>...</th>\n",
       "      <th>reorder_ratio</th>\n",
       "      <th>average_add_to_cart_order</th>\n",
       "      <th>order_id</th>\n",
       "      <th>eval_set</th>\n",
       "      <th>order_number</th>\n",
       "      <th>order_dow</th>\n",
       "      <th>order_hour_of_day</th>\n",
       "      <th>days_since_prior_order</th>\n",
       "      <th>add_to_cart_order</th>\n",
       "      <th>y</th>\n",
       "    </tr>\n",
       "  </thead>\n",
       "  <tbody>\n",
       "    <tr>\n",
       "      <th>0</th>\n",
       "      <td>1</td>\n",
       "      <td>196</td>\n",
       "      <td>10</td>\n",
       "      <td>176</td>\n",
       "      <td>19.555555</td>\n",
       "      <td>1.5</td>\n",
       "      <td>1</td>\n",
       "      <td>10</td>\n",
       "      <td>19.555555</td>\n",
       "      <td>5.9</td>\n",
       "      <td>...</td>\n",
       "      <td>0.776480</td>\n",
       "      <td>3</td>\n",
       "      <td>1187899</td>\n",
       "      <td>train</td>\n",
       "      <td>11</td>\n",
       "      <td>4</td>\n",
       "      <td>8</td>\n",
       "      <td>14.0</td>\n",
       "      <td>1.0</td>\n",
       "      <td>1.0</td>\n",
       "    </tr>\n",
       "    <tr>\n",
       "      <th>1</th>\n",
       "      <td>1</td>\n",
       "      <td>10258</td>\n",
       "      <td>9</td>\n",
       "      <td>176</td>\n",
       "      <td>20.125000</td>\n",
       "      <td>3.0</td>\n",
       "      <td>3</td>\n",
       "      <td>10</td>\n",
       "      <td>19.555555</td>\n",
       "      <td>5.9</td>\n",
       "      <td>...</td>\n",
       "      <td>0.713772</td>\n",
       "      <td>4</td>\n",
       "      <td>1187899</td>\n",
       "      <td>train</td>\n",
       "      <td>11</td>\n",
       "      <td>4</td>\n",
       "      <td>8</td>\n",
       "      <td>14.0</td>\n",
       "      <td>6.0</td>\n",
       "      <td>1.0</td>\n",
       "    </tr>\n",
       "    <tr>\n",
       "      <th>2</th>\n",
       "      <td>1</td>\n",
       "      <td>10326</td>\n",
       "      <td>1</td>\n",
       "      <td>93</td>\n",
       "      <td>NaN</td>\n",
       "      <td>14.5</td>\n",
       "      <td>5</td>\n",
       "      <td>10</td>\n",
       "      <td>19.555555</td>\n",
       "      <td>5.9</td>\n",
       "      <td>...</td>\n",
       "      <td>0.652009</td>\n",
       "      <td>4</td>\n",
       "      <td>1187899</td>\n",
       "      <td>train</td>\n",
       "      <td>11</td>\n",
       "      <td>4</td>\n",
       "      <td>8</td>\n",
       "      <td>14.0</td>\n",
       "      <td>NaN</td>\n",
       "      <td>0.0</td>\n",
       "    </tr>\n",
       "    <tr>\n",
       "      <th>3</th>\n",
       "      <td>1</td>\n",
       "      <td>12427</td>\n",
       "      <td>10</td>\n",
       "      <td>176</td>\n",
       "      <td>19.555555</td>\n",
       "      <td>1.5</td>\n",
       "      <td>3</td>\n",
       "      <td>10</td>\n",
       "      <td>19.555555</td>\n",
       "      <td>5.9</td>\n",
       "      <td>...</td>\n",
       "      <td>0.740735</td>\n",
       "      <td>4</td>\n",
       "      <td>1187899</td>\n",
       "      <td>train</td>\n",
       "      <td>11</td>\n",
       "      <td>4</td>\n",
       "      <td>8</td>\n",
       "      <td>14.0</td>\n",
       "      <td>NaN</td>\n",
       "      <td>0.0</td>\n",
       "    </tr>\n",
       "    <tr>\n",
       "      <th>4</th>\n",
       "      <td>1</td>\n",
       "      <td>13032</td>\n",
       "      <td>3</td>\n",
       "      <td>176</td>\n",
       "      <td>80.500000</td>\n",
       "      <td>5.5</td>\n",
       "      <td>6</td>\n",
       "      <td>10</td>\n",
       "      <td>19.555555</td>\n",
       "      <td>5.9</td>\n",
       "      <td>...</td>\n",
       "      <td>0.657158</td>\n",
       "      <td>5</td>\n",
       "      <td>1187899</td>\n",
       "      <td>train</td>\n",
       "      <td>11</td>\n",
       "      <td>4</td>\n",
       "      <td>8</td>\n",
       "      <td>14.0</td>\n",
       "      <td>7.0</td>\n",
       "      <td>1.0</td>\n",
       "    </tr>\n",
       "  </tbody>\n",
       "</table>\n",
       "<p>5 rows × 24 columns</p>\n",
       "</div>"
      ],
      "text/plain": [
       "   user_id  product_id  user_product_purchase_count  \\\n",
       "0        1         196                           10   \n",
       "1        1       10258                            9   \n",
       "2        1       10326                            1   \n",
       "3        1       12427                           10   \n",
       "4        1       13032                            3   \n",
       "\n",
       "   user_product_last_purchase_day  user_product_average_purchase_interval  \\\n",
       "0                             176                               19.555555   \n",
       "1                             176                               20.125000   \n",
       "2                              93                                     NaN   \n",
       "3                             176                               19.555555   \n",
       "4                             176                               80.500000   \n",
       "\n",
       "   user_product_rank  user_product_avg_add_order  user_count_of_order  \\\n",
       "0                1.5                           1                   10   \n",
       "1                3.0                           3                   10   \n",
       "2               14.5                           5                   10   \n",
       "3                1.5                           3                   10   \n",
       "4                5.5                           6                   10   \n",
       "\n",
       "   user_average_order_interval  user_average_basket_size ...   reorder_ratio  \\\n",
       "0                    19.555555                       5.9 ...        0.776480   \n",
       "1                    19.555555                       5.9 ...        0.713772   \n",
       "2                    19.555555                       5.9 ...        0.652009   \n",
       "3                    19.555555                       5.9 ...        0.740735   \n",
       "4                    19.555555                       5.9 ...        0.657158   \n",
       "\n",
       "   average_add_to_cart_order  order_id  eval_set  order_number  order_dow  \\\n",
       "0                          3   1187899     train            11          4   \n",
       "1                          4   1187899     train            11          4   \n",
       "2                          4   1187899     train            11          4   \n",
       "3                          4   1187899     train            11          4   \n",
       "4                          5   1187899     train            11          4   \n",
       "\n",
       "   order_hour_of_day days_since_prior_order  add_to_cart_order    y  \n",
       "0                  8                   14.0                1.0  1.0  \n",
       "1                  8                   14.0                6.0  1.0  \n",
       "2                  8                   14.0                NaN  0.0  \n",
       "3                  8                   14.0                NaN  0.0  \n",
       "4                  8                   14.0                7.0  1.0  \n",
       "\n",
       "[5 rows x 24 columns]"
      ]
     },
     "execution_count": 172,
     "metadata": {},
     "output_type": "execute_result"
    }
   ],
   "source": [
    "traindf.head()"
   ]
  },
  {
   "cell_type": "code",
   "execution_count": 173,
   "metadata": {
    "collapsed": true
   },
   "outputs": [],
   "source": [
    "traindf['y_baseline'] = np.where(traindf.user_product_rank < traindf.user_average_basket_size, 1, 0)"
   ]
  },
  {
   "cell_type": "code",
   "execution_count": 174,
   "metadata": {},
   "outputs": [
    {
     "data": {
      "text/html": [
       "<div>\n",
       "<style>\n",
       "    .dataframe thead tr:only-child th {\n",
       "        text-align: right;\n",
       "    }\n",
       "\n",
       "    .dataframe thead th {\n",
       "        text-align: left;\n",
       "    }\n",
       "\n",
       "    .dataframe tbody tr th {\n",
       "        vertical-align: top;\n",
       "    }\n",
       "</style>\n",
       "<table border=\"1\" class=\"dataframe\">\n",
       "  <thead>\n",
       "    <tr style=\"text-align: right;\">\n",
       "      <th></th>\n",
       "      <th>user_id</th>\n",
       "      <th>product_id</th>\n",
       "      <th>user_product_purchase_count</th>\n",
       "      <th>user_product_last_purchase_day</th>\n",
       "      <th>user_product_average_purchase_interval</th>\n",
       "      <th>user_product_rank</th>\n",
       "      <th>user_product_avg_add_order</th>\n",
       "      <th>user_count_of_order</th>\n",
       "      <th>user_average_order_interval</th>\n",
       "      <th>user_average_basket_size</th>\n",
       "      <th>...</th>\n",
       "      <th>average_add_to_cart_order</th>\n",
       "      <th>order_id</th>\n",
       "      <th>eval_set</th>\n",
       "      <th>order_number</th>\n",
       "      <th>order_dow</th>\n",
       "      <th>order_hour_of_day</th>\n",
       "      <th>days_since_prior_order</th>\n",
       "      <th>add_to_cart_order</th>\n",
       "      <th>y</th>\n",
       "      <th>y_predicted</th>\n",
       "    </tr>\n",
       "  </thead>\n",
       "  <tbody>\n",
       "    <tr>\n",
       "      <th>0</th>\n",
       "      <td>1</td>\n",
       "      <td>196</td>\n",
       "      <td>10</td>\n",
       "      <td>176</td>\n",
       "      <td>19.555555</td>\n",
       "      <td>1.5</td>\n",
       "      <td>1</td>\n",
       "      <td>10</td>\n",
       "      <td>19.555555</td>\n",
       "      <td>5.9</td>\n",
       "      <td>...</td>\n",
       "      <td>3</td>\n",
       "      <td>1187899</td>\n",
       "      <td>train</td>\n",
       "      <td>11</td>\n",
       "      <td>4</td>\n",
       "      <td>8</td>\n",
       "      <td>14.0</td>\n",
       "      <td>1.0</td>\n",
       "      <td>1.0</td>\n",
       "      <td>1</td>\n",
       "    </tr>\n",
       "    <tr>\n",
       "      <th>1</th>\n",
       "      <td>1</td>\n",
       "      <td>10258</td>\n",
       "      <td>9</td>\n",
       "      <td>176</td>\n",
       "      <td>20.125000</td>\n",
       "      <td>3.0</td>\n",
       "      <td>3</td>\n",
       "      <td>10</td>\n",
       "      <td>19.555555</td>\n",
       "      <td>5.9</td>\n",
       "      <td>...</td>\n",
       "      <td>4</td>\n",
       "      <td>1187899</td>\n",
       "      <td>train</td>\n",
       "      <td>11</td>\n",
       "      <td>4</td>\n",
       "      <td>8</td>\n",
       "      <td>14.0</td>\n",
       "      <td>6.0</td>\n",
       "      <td>1.0</td>\n",
       "      <td>1</td>\n",
       "    </tr>\n",
       "    <tr>\n",
       "      <th>2</th>\n",
       "      <td>1</td>\n",
       "      <td>10326</td>\n",
       "      <td>1</td>\n",
       "      <td>93</td>\n",
       "      <td>NaN</td>\n",
       "      <td>14.5</td>\n",
       "      <td>5</td>\n",
       "      <td>10</td>\n",
       "      <td>19.555555</td>\n",
       "      <td>5.9</td>\n",
       "      <td>...</td>\n",
       "      <td>4</td>\n",
       "      <td>1187899</td>\n",
       "      <td>train</td>\n",
       "      <td>11</td>\n",
       "      <td>4</td>\n",
       "      <td>8</td>\n",
       "      <td>14.0</td>\n",
       "      <td>NaN</td>\n",
       "      <td>0.0</td>\n",
       "      <td>0</td>\n",
       "    </tr>\n",
       "    <tr>\n",
       "      <th>3</th>\n",
       "      <td>1</td>\n",
       "      <td>12427</td>\n",
       "      <td>10</td>\n",
       "      <td>176</td>\n",
       "      <td>19.555555</td>\n",
       "      <td>1.5</td>\n",
       "      <td>3</td>\n",
       "      <td>10</td>\n",
       "      <td>19.555555</td>\n",
       "      <td>5.9</td>\n",
       "      <td>...</td>\n",
       "      <td>4</td>\n",
       "      <td>1187899</td>\n",
       "      <td>train</td>\n",
       "      <td>11</td>\n",
       "      <td>4</td>\n",
       "      <td>8</td>\n",
       "      <td>14.0</td>\n",
       "      <td>NaN</td>\n",
       "      <td>0.0</td>\n",
       "      <td>1</td>\n",
       "    </tr>\n",
       "    <tr>\n",
       "      <th>4</th>\n",
       "      <td>1</td>\n",
       "      <td>13032</td>\n",
       "      <td>3</td>\n",
       "      <td>176</td>\n",
       "      <td>80.500000</td>\n",
       "      <td>5.5</td>\n",
       "      <td>6</td>\n",
       "      <td>10</td>\n",
       "      <td>19.555555</td>\n",
       "      <td>5.9</td>\n",
       "      <td>...</td>\n",
       "      <td>5</td>\n",
       "      <td>1187899</td>\n",
       "      <td>train</td>\n",
       "      <td>11</td>\n",
       "      <td>4</td>\n",
       "      <td>8</td>\n",
       "      <td>14.0</td>\n",
       "      <td>7.0</td>\n",
       "      <td>1.0</td>\n",
       "      <td>1</td>\n",
       "    </tr>\n",
       "  </tbody>\n",
       "</table>\n",
       "<p>5 rows × 25 columns</p>\n",
       "</div>"
      ],
      "text/plain": [
       "   user_id  product_id  user_product_purchase_count  \\\n",
       "0        1         196                           10   \n",
       "1        1       10258                            9   \n",
       "2        1       10326                            1   \n",
       "3        1       12427                           10   \n",
       "4        1       13032                            3   \n",
       "\n",
       "   user_product_last_purchase_day  user_product_average_purchase_interval  \\\n",
       "0                             176                               19.555555   \n",
       "1                             176                               20.125000   \n",
       "2                              93                                     NaN   \n",
       "3                             176                               19.555555   \n",
       "4                             176                               80.500000   \n",
       "\n",
       "   user_product_rank  user_product_avg_add_order  user_count_of_order  \\\n",
       "0                1.5                           1                   10   \n",
       "1                3.0                           3                   10   \n",
       "2               14.5                           5                   10   \n",
       "3                1.5                           3                   10   \n",
       "4                5.5                           6                   10   \n",
       "\n",
       "   user_average_order_interval  user_average_basket_size     ...       \\\n",
       "0                    19.555555                       5.9     ...        \n",
       "1                    19.555555                       5.9     ...        \n",
       "2                    19.555555                       5.9     ...        \n",
       "3                    19.555555                       5.9     ...        \n",
       "4                    19.555555                       5.9     ...        \n",
       "\n",
       "   average_add_to_cart_order  order_id  eval_set  order_number  order_dow  \\\n",
       "0                          3   1187899     train            11          4   \n",
       "1                          4   1187899     train            11          4   \n",
       "2                          4   1187899     train            11          4   \n",
       "3                          4   1187899     train            11          4   \n",
       "4                          5   1187899     train            11          4   \n",
       "\n",
       "   order_hour_of_day  days_since_prior_order add_to_cart_order    y  \\\n",
       "0                  8                    14.0               1.0  1.0   \n",
       "1                  8                    14.0               6.0  1.0   \n",
       "2                  8                    14.0               NaN  0.0   \n",
       "3                  8                    14.0               NaN  0.0   \n",
       "4                  8                    14.0               7.0  1.0   \n",
       "\n",
       "   y_predicted  \n",
       "0            1  \n",
       "1            1  \n",
       "2            0  \n",
       "3            1  \n",
       "4            1  \n",
       "\n",
       "[5 rows x 25 columns]"
      ]
     },
     "execution_count": 174,
     "metadata": {},
     "output_type": "execute_result"
    }
   ],
   "source": [
    "traindf.head()"
   ]
  },
  {
   "cell_type": "code",
   "execution_count": 175,
   "metadata": {
    "collapsed": true
   },
   "outputs": [],
   "source": [
    "from sklearn.metrics import f1_score"
   ]
  },
  {
   "cell_type": "code",
   "execution_count": 176,
   "metadata": {
    "scrolled": true
   },
   "outputs": [
    {
     "data": {
      "text/plain": [
       "0.37379894766909949"
      ]
     },
     "execution_count": 176,
     "metadata": {},
     "output_type": "execute_result"
    }
   ],
   "source": [
    "f1_score(traindf.y, traindf.y_predicted)"
   ]
  },
  {
   "cell_type": "markdown",
   "metadata": {},
   "source": [
    "## Dummy Variables"
   ]
  },
  {
   "cell_type": "code",
   "execution_count": 85,
   "metadata": {
    "collapsed": true
   },
   "outputs": [],
   "source": [
    "hour_bins = [-1, 6, 12, 18, 24]\n",
    "hour_group_names = ['early_morning', 'morning', 'afternoon', 'night']\n",
    "priordf['time_of_day'] = pd.cut(priordf['order_hour_of_day'], hour_bins, labels=hour_group_names)"
   ]
  },
  {
   "cell_type": "code",
   "execution_count": 221,
   "metadata": {
    "scrolled": true
   },
   "outputs": [
    {
     "data": {
      "text/plain": [
       "False"
      ]
     },
     "execution_count": 221,
     "metadata": {},
     "output_type": "execute_result"
    }
   ],
   "source": [
    "traindf.user_product_purchase_count.isnull().any()"
   ]
  },
  {
   "cell_type": "code",
   "execution_count": 219,
   "metadata": {},
   "outputs": [
    {
     "data": {
      "image/png": "[encoded data removed]",
      "text/plain": [
       "<matplotlib.figure.Figure at 0x343041358>"
      ]
     },
     "metadata": {},
     "output_type": "display_data"
    }
   ],
   "source": [
    "traindf[traindf.user_product_purchase_count <= 20].user_product_purchase_count.hist(bins = 10);"
   ]
  },
  {
   "cell_type": "code",
   "execution_count": 177,
   "metadata": {
    "collapsed": true
   },
   "outputs": [],
   "source": [
    "user_product_count_bins = [0, 5, 10, 30, 50, 75, 100]\n",
    "user_product_count_group_names = ['1-5', '6-10', '11-30', '31-50', '51-75', '76-100']\n",
    "traindf['user_product_purchase_count_category'] = pd.cut(traindf['user_product_purchase_count'], user_product_count_bins, labels=user_product_count_group_names)"
   ]
  },
  {
   "cell_type": "code",
   "execution_count": 225,
   "metadata": {
    "scrolled": true
   },
   "outputs": [
    {
     "data": {
      "text/plain": [
       "False"
      ]
     },
     "execution_count": 225,
     "metadata": {},
     "output_type": "execute_result"
    }
   ],
   "source": [
    "traindf.user_product_last_purchase_day.isnull().any()"
   ]
  },
  {
   "cell_type": "code",
   "execution_count": 228,
   "metadata": {},
   "outputs": [
    {
     "data": {
      "text/plain": [
       "365"
      ]
     },
     "execution_count": 228,
     "metadata": {},
     "output_type": "execute_result"
    }
   ],
   "source": [
    "traindf.user_product_last_purchase_day.max()"
   ]
  },
  {
   "cell_type": "code",
   "execution_count": 226,
   "metadata": {},
   "outputs": [
    {
     "data": {
      "image/png": "[encoded data removed]",
      "text/plain": [
       "<matplotlib.figure.Figure at 0x3f45bb748>"
      ]
     },
     "metadata": {},
     "output_type": "display_data"
    }
   ],
   "source": [
    "traindf.user_product_last_purchase_day.hist();"
   ]
  },
  {
   "cell_type": "code",
   "execution_count": 178,
   "metadata": {
    "collapsed": true
   },
   "outputs": [],
   "source": [
    "user_product_last_purchase_day_bins = [-1, 30, 60, 90, 180, 366]\n",
    "user_product_last_purchase_day_group_names = ['0-1mon', ' 1-2mon', '2-3mon', '3-6mon', '6mon-1year']\n",
    "traindf['user_product_last_purchase_day_category'] = pd.cut(traindf['user_product_last_purchase_day'], user_product_last_purchase_day_bins, labels=user_product_last_purchase_day_group_names)"
   ]
  },
  {
   "cell_type": "code",
   "execution_count": 235,
   "metadata": {
    "collapsed": true
   },
   "outputs": [],
   "source": [
    "traindf.user_product_average_purchase_interval.fillna(-2, inplace = True)"
   ]
  },
  {
   "cell_type": "code",
   "execution_count": 241,
   "metadata": {},
   "outputs": [
    {
     "data": {
      "text/plain": [
       "364.0"
      ]
     },
     "execution_count": 241,
     "metadata": {},
     "output_type": "execute_result"
    }
   ],
   "source": [
    "traindf.user_product_average_purchase_interval.max()"
   ]
  },
  {
   "cell_type": "code",
   "execution_count": 274,
   "metadata": {},
   "outputs": [
    {
     "data": {
      "image/png": "[encoded data removed]",
      "text/plain": [
       "<matplotlib.figure.Figure at 0x3f4c36e48>"
      ]
     },
     "metadata": {},
     "output_type": "display_data"
    }
   ],
   "source": [
    "traindf.user_product_average_purchase_interval.hist();"
   ]
  },
  {
   "cell_type": "code",
   "execution_count": 179,
   "metadata": {
    "collapsed": true
   },
   "outputs": [],
   "source": [
    "user_product_interval_bins = [-3, 0, 10, 30, 50, 100, 400]\n",
    "user_product_interval_group_names = ['NaN', ' 1-10', '11-30', '31-50', '51-100', '>100']\n",
    "traindf['user_product_interval_category'] = pd.cut(traindf['user_product_average_purchase_interval'], user_product_interval_bins, labels=user_product_interval_group_names)"
   ]
  },
  {
   "cell_type": "code",
   "execution_count": 276,
   "metadata": {},
   "outputs": [
    {
     "data": {
      "text/plain": [
       "3    23986\n",
       "4    19590\n",
       "5    16165\n",
       "6    13850\n",
       "7    11700\n",
       "Name: user_count_of_order, dtype: int64"
      ]
     },
     "execution_count": 276,
     "metadata": {},
     "output_type": "execute_result"
    }
   ],
   "source": [
    "user_info.user_count_of_order.value_counts().head()"
   ]
  },
  {
   "cell_type": "code",
   "execution_count": 272,
   "metadata": {},
   "outputs": [
    {
     "data": {
      "image/png": "[encoded data removed]",
      "text/plain": [
       "<matplotlib.figure.Figure at 0x3f4c68a20>"
      ]
     },
     "metadata": {},
     "output_type": "display_data"
    }
   ],
   "source": [
    "user_info['user_count_of_order'].hist();"
   ]
  },
  {
   "cell_type": "code",
   "execution_count": 180,
   "metadata": {
    "collapsed": true
   },
   "outputs": [],
   "source": [
    "user_order_count_bins = [1, 10, 30, 60, 100,]\n",
    "user_order_count_group_names = ['4-10', ' 11-30', '31-60', '61-100']\n",
    "traindf['user_count_of_order_category'] = pd.cut(traindf['user_count_of_order'], user_order_count_bins, labels=user_order_count_group_names)"
   ]
  },
  {
   "cell_type": "code",
   "execution_count": 277,
   "metadata": {},
   "outputs": [
    {
     "data": {
      "text/plain": [
       "30.0"
      ]
     },
     "execution_count": 277,
     "metadata": {},
     "output_type": "execute_result"
    }
   ],
   "source": [
    "user_info.user_average_order_interval.max()"
   ]
  },
  {
   "cell_type": "code",
   "execution_count": 278,
   "metadata": {},
   "outputs": [
    {
     "data": {
      "image/png": "[encoded data removed]",
      "text/plain": [
       "<matplotlib.figure.Figure at 0x3f4a49b00>"
      ]
     },
     "metadata": {},
     "output_type": "display_data"
    }
   ],
   "source": [
    "user_info.user_average_order_interval.hist(bins = 20);"
   ]
  },
  {
   "cell_type": "code",
   "execution_count": 181,
   "metadata": {
    "collapsed": true
   },
   "outputs": [],
   "source": [
    "user_order_interval_bins = [-1, 10, 17, 25, 100]\n",
    "user_order_interval_group_names = ['1-10', ' 11-17', '18-25', '>25']\n",
    "traindf['user_order_interval_category'] = pd.cut(traindf['user_average_order_interval'], user_order_interval_bins, labels=user_order_interval_group_names)"
   ]
  },
  {
   "cell_type": "code",
   "execution_count": 280,
   "metadata": {},
   "outputs": [
    {
     "data": {
      "image/png": "[encoded data removed]",
      "text/plain": [
       "<matplotlib.figure.Figure at 0x3f4aaf5c0>"
      ]
     },
     "metadata": {},
     "output_type": "display_data"
    }
   ],
   "source": [
    "user_info[user_info.user_average_basket_size < 30].user_average_basket_size.hist();"
   ]
  },
  {
   "cell_type": "code",
   "execution_count": 182,
   "metadata": {
    "collapsed": true
   },
   "outputs": [],
   "source": [
    "user_basket_size_bins = [-1, 10, 20, 30, 1000]\n",
    "user_basket_size_group_names = ['1-10', '11-20', '21-30', '>30']\n",
    "traindf['user_basket_size_category'] = pd.cut(traindf['user_average_basket_size'], user_basket_size_bins, labels = user_basket_size_group_names)"
   ]
  },
  {
   "cell_type": "code",
   "execution_count": 286,
   "metadata": {},
   "outputs": [
    {
     "data": {
      "text/plain": [
       "73956"
      ]
     },
     "execution_count": 286,
     "metadata": {},
     "output_type": "execute_result"
    }
   ],
   "source": [
    "product_info.product_user_count.max()"
   ]
  },
  {
   "cell_type": "code",
   "execution_count": 285,
   "metadata": {},
   "outputs": [
    {
     "data": {
      "image/png": "[encoded data removed]",
      "text/plain": [
       "<matplotlib.figure.Figure at 0x3f4602b70>"
      ]
     },
     "metadata": {},
     "output_type": "display_data"
    }
   ],
   "source": [
    "product_info[product_info.product_user_count < 500].product_user_count.hist();"
   ]
  },
  {
   "cell_type": "code",
   "execution_count": 184,
   "metadata": {
    "collapsed": true
   },
   "outputs": [],
   "source": [
    "product_user_count_bins = [-3, 0, 100, 500, 2000, 5000, 10000, 50000, 300000]\n",
    "product_user_count_group_names = ['NaN','1-100', '101-500', '501-2,000', '2,001-5,000', '5,001-10,000', '10,001-50,000', '>50,000']\n",
    "traindf['product_user_count_category'] = pd.cut(traindf['product_user_count'], product_user_count_bins, labels=product_user_count_group_names)"
   ]
  },
  {
   "cell_type": "code",
   "execution_count": 290,
   "metadata": {},
   "outputs": [
    {
     "data": {
      "text/plain": [
       "472565"
      ]
     },
     "execution_count": 290,
     "metadata": {},
     "output_type": "execute_result"
    }
   ],
   "source": [
    "product_info.product_order_count.max()"
   ]
  },
  {
   "cell_type": "code",
   "execution_count": 295,
   "metadata": {},
   "outputs": [
    {
     "data": {
      "image/png": "[encoded data removed]",
      "text/plain": [
       "<matplotlib.figure.Figure at 0x3f4e13278>"
      ]
     },
     "metadata": {},
     "output_type": "display_data"
    }
   ],
   "source": [
    "product_info[product_info.product_order_count < 500].product_order_count.hist();"
   ]
  },
  {
   "cell_type": "code",
   "execution_count": 185,
   "metadata": {
    "collapsed": true
   },
   "outputs": [],
   "source": [
    "product_order_count_bins = [-3, 0, 100, 500, 2000, 10000, 100000, 10000000]\n",
    "product_order_count_group_names = ['NaN','1-100', '101-500', '501-2,000', '2,001-10,000', '10,001-100,000', '>100,000']\n",
    "traindf['product_order_count_category'] = pd.cut(traindf['product_order_count'], product_order_count_bins, labels=product_order_count_group_names)"
   ]
  },
  {
   "cell_type": "code",
   "execution_count": 300,
   "metadata": {
    "collapsed": true
   },
   "outputs": [],
   "source": [
    "product_info.product_average_purchase_interval.fillna(-2, inplace = True)"
   ]
  },
  {
   "cell_type": "code",
   "execution_count": 303,
   "metadata": {},
   "outputs": [
    {
     "data": {
      "text/plain": [
       "-2.0"
      ]
     },
     "execution_count": 303,
     "metadata": {},
     "output_type": "execute_result"
    }
   ],
   "source": [
    "product_info.product_average_purchase_interval.min()"
   ]
  },
  {
   "cell_type": "code",
   "execution_count": 304,
   "metadata": {},
   "outputs": [
    {
     "data": {
      "image/png": "[encoded data removed]",
      "text/plain": [
       "<matplotlib.figure.Figure at 0x3f4689c18>"
      ]
     },
     "metadata": {},
     "output_type": "display_data"
    }
   ],
   "source": [
    "product_info[product_info.product_average_purchase_interval < 100].product_average_purchase_interval.hist();"
   ]
  },
  {
   "cell_type": "code",
   "execution_count": 186,
   "metadata": {
    "collapsed": true
   },
   "outputs": [],
   "source": [
    "product_order_interval_bins = [-3, 0, 20, 40, 70, 100, 400]\n",
    "product_order_interval_group_names = ['NaN', '1-20', '21-40', '41-70', '71-100', '>100']\n",
    "traindf['product_purchase_interval_category'] = pd.cut(traindf['product_average_purchase_interval'], product_order_interval_bins, labels=product_order_interval_group_names)"
   ]
  },
  {
   "cell_type": "code",
   "execution_count": 192,
   "metadata": {
    "collapsed": true
   },
   "outputs": [],
   "source": [
    "user_add_to_cart_bins = [0, 1, 2, 4, 7, 10, 1000]\n",
    "user_add_to_cart_group_names = ['1','2', '3-4', '5-7', '8-10', '>10']\n",
    "traindf['user_product_avg_add_order_categories'] = pd.cut(traindf['user_product_avg_add_order'], user_add_to_cart_bins, labels=user_add_to_cart_group_names)"
   ]
  },
  {
   "cell_type": "code",
   "execution_count": 193,
   "metadata": {
    "collapsed": true
   },
   "outputs": [],
   "source": [
    "traindf['product_avg_add_order_categories'] = pd.cut(traindf['average_add_to_cart_order'], user_add_to_cart_bins, labels=user_add_to_cart_group_names)"
   ]
  },
  {
   "cell_type": "code",
   "execution_count": 210,
   "metadata": {
    "collapsed": true
   },
   "outputs": [],
   "source": [
    "traindf = pd.merge(traindf, pd.DataFrame(traindf.groupby('user_id')['product_id'].nunique().reset_index()), on = 'user_id', how = 'left')"
   ]
  },
  {
   "cell_type": "code",
   "execution_count": 216,
   "metadata": {
    "collapsed": true
   },
   "outputs": [],
   "source": [
    "traindf.rename(columns = {'product_id_x': 'product_id', 'product_id_y':'user_total_product'}, inplace = True)"
   ]
  },
  {
   "cell_type": "code",
   "execution_count": 217,
   "metadata": {},
   "outputs": [
    {
     "data": {
      "text/html": [
       "<div>\n",
       "<style>\n",
       "    .dataframe thead tr:only-child th {\n",
       "        text-align: right;\n",
       "    }\n",
       "\n",
       "    .dataframe thead th {\n",
       "        text-align: left;\n",
       "    }\n",
       "\n",
       "    .dataframe tbody tr th {\n",
       "        vertical-align: top;\n",
       "    }\n",
       "</style>\n",
       "<table border=\"1\" class=\"dataframe\">\n",
       "  <thead>\n",
       "    <tr style=\"text-align: right;\">\n",
       "      <th></th>\n",
       "      <th>user_id</th>\n",
       "      <th>product_id</th>\n",
       "      <th>user_product_purchase_count</th>\n",
       "      <th>user_product_last_purchase_day</th>\n",
       "      <th>user_product_average_purchase_interval</th>\n",
       "      <th>user_product_rank</th>\n",
       "      <th>user_product_avg_add_order</th>\n",
       "      <th>user_count_of_order</th>\n",
       "      <th>user_average_order_interval</th>\n",
       "      <th>user_average_basket_size</th>\n",
       "      <th>...</th>\n",
       "      <th>user_count_of_order_category</th>\n",
       "      <th>user_order_interval_category</th>\n",
       "      <th>user_basket_size_category</th>\n",
       "      <th>product_user_count_category</th>\n",
       "      <th>product_order_count_category</th>\n",
       "      <th>product_purchase_interval_category</th>\n",
       "      <th>user_product_avg_add_order_categories</th>\n",
       "      <th>product_avg_add_order_categories</th>\n",
       "      <th>user_product_rank_percentage</th>\n",
       "      <th>user_total_product</th>\n",
       "    </tr>\n",
       "  </thead>\n",
       "  <tbody>\n",
       "    <tr>\n",
       "      <th>0</th>\n",
       "      <td>1</td>\n",
       "      <td>196</td>\n",
       "      <td>10</td>\n",
       "      <td>176</td>\n",
       "      <td>19.555555</td>\n",
       "      <td>1.5</td>\n",
       "      <td>1</td>\n",
       "      <td>10</td>\n",
       "      <td>19.555555</td>\n",
       "      <td>5.9</td>\n",
       "      <td>...</td>\n",
       "      <td>4-10</td>\n",
       "      <td>18-25</td>\n",
       "      <td>1-10</td>\n",
       "      <td>5,001-10,000</td>\n",
       "      <td>10,001-100,000</td>\n",
       "      <td>21-40</td>\n",
       "      <td>1</td>\n",
       "      <td>3-4</td>\n",
       "      <td>NaN</td>\n",
       "      <td>18</td>\n",
       "    </tr>\n",
       "    <tr>\n",
       "      <th>1</th>\n",
       "      <td>1</td>\n",
       "      <td>10258</td>\n",
       "      <td>9</td>\n",
       "      <td>176</td>\n",
       "      <td>20.125000</td>\n",
       "      <td>3.0</td>\n",
       "      <td>3</td>\n",
       "      <td>10</td>\n",
       "      <td>19.555555</td>\n",
       "      <td>5.9</td>\n",
       "      <td>...</td>\n",
       "      <td>4-10</td>\n",
       "      <td>18-25</td>\n",
       "      <td>1-10</td>\n",
       "      <td>501-2,000</td>\n",
       "      <td>501-2,000</td>\n",
       "      <td>21-40</td>\n",
       "      <td>3-4</td>\n",
       "      <td>3-4</td>\n",
       "      <td>0.166667</td>\n",
       "      <td>18</td>\n",
       "    </tr>\n",
       "    <tr>\n",
       "      <th>2</th>\n",
       "      <td>1</td>\n",
       "      <td>10326</td>\n",
       "      <td>1</td>\n",
       "      <td>93</td>\n",
       "      <td>NaN</td>\n",
       "      <td>14.5</td>\n",
       "      <td>5</td>\n",
       "      <td>10</td>\n",
       "      <td>19.555555</td>\n",
       "      <td>5.9</td>\n",
       "      <td>...</td>\n",
       "      <td>4-10</td>\n",
       "      <td>18-25</td>\n",
       "      <td>1-10</td>\n",
       "      <td>501-2,000</td>\n",
       "      <td>2,001-10,000</td>\n",
       "      <td>21-40</td>\n",
       "      <td>5-7</td>\n",
       "      <td>3-4</td>\n",
       "      <td>0.142157</td>\n",
       "      <td>18</td>\n",
       "    </tr>\n",
       "    <tr>\n",
       "      <th>3</th>\n",
       "      <td>1</td>\n",
       "      <td>12427</td>\n",
       "      <td>10</td>\n",
       "      <td>176</td>\n",
       "      <td>19.555555</td>\n",
       "      <td>1.5</td>\n",
       "      <td>3</td>\n",
       "      <td>10</td>\n",
       "      <td>19.555555</td>\n",
       "      <td>5.9</td>\n",
       "      <td>...</td>\n",
       "      <td>4-10</td>\n",
       "      <td>18-25</td>\n",
       "      <td>1-10</td>\n",
       "      <td>501-2,000</td>\n",
       "      <td>2,001-10,000</td>\n",
       "      <td>1-20</td>\n",
       "      <td>3-4</td>\n",
       "      <td>3-4</td>\n",
       "      <td>NaN</td>\n",
       "      <td>18</td>\n",
       "    </tr>\n",
       "    <tr>\n",
       "      <th>4</th>\n",
       "      <td>1</td>\n",
       "      <td>13032</td>\n",
       "      <td>3</td>\n",
       "      <td>176</td>\n",
       "      <td>80.500000</td>\n",
       "      <td>5.5</td>\n",
       "      <td>6</td>\n",
       "      <td>10</td>\n",
       "      <td>19.555555</td>\n",
       "      <td>5.9</td>\n",
       "      <td>...</td>\n",
       "      <td>4-10</td>\n",
       "      <td>18-25</td>\n",
       "      <td>1-10</td>\n",
       "      <td>501-2,000</td>\n",
       "      <td>2,001-10,000</td>\n",
       "      <td>21-40</td>\n",
       "      <td>5-7</td>\n",
       "      <td>5-7</td>\n",
       "      <td>NaN</td>\n",
       "      <td>18</td>\n",
       "    </tr>\n",
       "  </tbody>\n",
       "</table>\n",
       "<p>5 rows × 38 columns</p>\n",
       "</div>"
      ],
      "text/plain": [
       "   user_id  product_id  user_product_purchase_count  \\\n",
       "0        1         196                           10   \n",
       "1        1       10258                            9   \n",
       "2        1       10326                            1   \n",
       "3        1       12427                           10   \n",
       "4        1       13032                            3   \n",
       "\n",
       "   user_product_last_purchase_day  user_product_average_purchase_interval  \\\n",
       "0                             176                               19.555555   \n",
       "1                             176                               20.125000   \n",
       "2                              93                                     NaN   \n",
       "3                             176                               19.555555   \n",
       "4                             176                               80.500000   \n",
       "\n",
       "   user_product_rank  user_product_avg_add_order  user_count_of_order  \\\n",
       "0                1.5                           1                   10   \n",
       "1                3.0                           3                   10   \n",
       "2               14.5                           5                   10   \n",
       "3                1.5                           3                   10   \n",
       "4                5.5                           6                   10   \n",
       "\n",
       "   user_average_order_interval  user_average_basket_size         ...          \\\n",
       "0                    19.555555                       5.9         ...           \n",
       "1                    19.555555                       5.9         ...           \n",
       "2                    19.555555                       5.9         ...           \n",
       "3                    19.555555                       5.9         ...           \n",
       "4                    19.555555                       5.9         ...           \n",
       "\n",
       "   user_count_of_order_category  user_order_interval_category  \\\n",
       "0                          4-10                         18-25   \n",
       "1                          4-10                         18-25   \n",
       "2                          4-10                         18-25   \n",
       "3                          4-10                         18-25   \n",
       "4                          4-10                         18-25   \n",
       "\n",
       "   user_basket_size_category  product_user_count_category  \\\n",
       "0                       1-10                 5,001-10,000   \n",
       "1                       1-10                    501-2,000   \n",
       "2                       1-10                    501-2,000   \n",
       "3                       1-10                    501-2,000   \n",
       "4                       1-10                    501-2,000   \n",
       "\n",
       "   product_order_count_category  product_purchase_interval_category  \\\n",
       "0                10,001-100,000                               21-40   \n",
       "1                     501-2,000                               21-40   \n",
       "2                  2,001-10,000                               21-40   \n",
       "3                  2,001-10,000                                1-20   \n",
       "4                  2,001-10,000                               21-40   \n",
       "\n",
       "   user_product_avg_add_order_categories product_avg_add_order_categories  \\\n",
       "0                                      1                              3-4   \n",
       "1                                    3-4                              3-4   \n",
       "2                                    5-7                              3-4   \n",
       "3                                    3-4                              3-4   \n",
       "4                                    5-7                              5-7   \n",
       "\n",
       "   user_product_rank_percentage  user_total_product  \n",
       "0                           NaN                  18  \n",
       "1                      0.166667                  18  \n",
       "2                      0.142157                  18  \n",
       "3                           NaN                  18  \n",
       "4                           NaN                  18  \n",
       "\n",
       "[5 rows x 38 columns]"
      ]
     },
     "execution_count": 217,
     "metadata": {},
     "output_type": "execute_result"
    }
   ],
   "source": [
    "traindf.head()"
   ]
  },
  {
   "cell_type": "code",
   "execution_count": 225,
   "metadata": {},
   "outputs": [
    {
     "data": {
      "text/plain": [
       "726"
      ]
     },
     "execution_count": 225,
     "metadata": {},
     "output_type": "execute_result"
    }
   ],
   "source": [
    "traindf.user_total_product.max()"
   ]
  },
  {
   "cell_type": "code",
   "execution_count": 218,
   "metadata": {},
   "outputs": [
    {
     "data": {
      "image/png": "[encoded data removed]",
      "text/plain": [
       "<matplotlib.figure.Figure at 0x11f5d4198>"
      ]
     },
     "metadata": {},
     "output_type": "display_data"
    }
   ],
   "source": [
    "traindf.user_total_product.hist();"
   ]
  },
  {
   "cell_type": "code",
   "execution_count": 231,
   "metadata": {
    "collapsed": true
   },
   "outputs": [],
   "source": [
    "user_total_product_bins = [0, 20, 50, 100, 200, 400, 10000]\n",
    "user_total_product_group_names = ['1-20', '21-50', '51-100', '101-200', '201-400', '>400']\n",
    "traindf['user_total_product_category'] = pd.cut(traindf['user_total_product'], user_total_product_bins, labels=user_total_product_group_names)"
   ]
  },
  {
   "cell_type": "code",
   "execution_count": 224,
   "metadata": {},
   "outputs": [
    {
     "data": {
      "text/plain": [
       "573.0"
      ]
     },
     "execution_count": 224,
     "metadata": {},
     "output_type": "execute_result"
    }
   ],
   "source": [
    "traindf.user_product_rank.max()"
   ]
  },
  {
   "cell_type": "code",
   "execution_count": 219,
   "metadata": {},
   "outputs": [
    {
     "data": {
      "image/png": "[encoded data removed]",
      "text/plain": [
       "<matplotlib.figure.Figure at 0x2431ea828>"
      ]
     },
     "metadata": {},
     "output_type": "display_data"
    }
   ],
   "source": [
    "traindf[traindf.user_product_rank < 100].user_product_rank.hist();"
   ]
  },
  {
   "cell_type": "code",
   "execution_count": 226,
   "metadata": {
    "collapsed": true
   },
   "outputs": [],
   "source": [
    "user_product_rank_bins = [0, 5, 10, 20, 40, 100, 10000]\n",
    "user_product_rank_group_names = ['1-5','6-10', '11-20', '21-40', '40-100', '>100']\n",
    "traindf['user_product_rank_category'] = pd.cut(traindf['user_product_rank'], user_product_rank_bins, labels=user_product_rank_group_names)"
   ]
  },
  {
   "cell_type": "code",
   "execution_count": 227,
   "metadata": {
    "collapsed": true
   },
   "outputs": [],
   "source": [
    "traindf['user_product_rank_percentage'] = traindf.user_product_rank/traindf.user_total_product"
   ]
  },
  {
   "cell_type": "code",
   "execution_count": 228,
   "metadata": {},
   "outputs": [
    {
     "data": {
      "image/png": "[encoded data removed]",
      "text/plain": [
       "<matplotlib.figure.Figure at 0x38c38ee10>"
      ]
     },
     "metadata": {},
     "output_type": "display_data"
    }
   ],
   "source": [
    "traindf.user_product_rank_percentage.hist();"
   ]
  },
  {
   "cell_type": "code",
   "execution_count": 229,
   "metadata": {
    "collapsed": true
   },
   "outputs": [],
   "source": [
    "user_product_rank_percentage_bins = [0, 0.05, 0.1, 0.2, 0.3, 0.5, 1]\n",
    "user_product_rank_percentage_group_names = ['0-0.05','0.05-0.1', '0.1-0.2', '0.2-0.3', '0.3-0.5', '0.5-1']\n",
    "traindf['user_product_rank_percentage_category'] = pd.cut(traindf['user_product_rank_percentage'], user_product_rank_percentage_bins, labels=user_product_rank_percentage_group_names)"
   ]
  },
  {
   "cell_type": "code",
   "execution_count": 205,
   "metadata": {},
   "outputs": [
    {
     "data": {
      "text/html": [
       "<div>\n",
       "<style>\n",
       "    .dataframe thead tr:only-child th {\n",
       "        text-align: right;\n",
       "    }\n",
       "\n",
       "    .dataframe thead th {\n",
       "        text-align: left;\n",
       "    }\n",
       "\n",
       "    .dataframe tbody tr th {\n",
       "        vertical-align: top;\n",
       "    }\n",
       "</style>\n",
       "<table border=\"1\" class=\"dataframe\">\n",
       "  <thead>\n",
       "    <tr style=\"text-align: right;\">\n",
       "      <th></th>\n",
       "      <th>user_id</th>\n",
       "      <th>product_id</th>\n",
       "      <th>user_product_purchase_count</th>\n",
       "      <th>user_product_last_purchase_day</th>\n",
       "      <th>user_product_average_purchase_interval</th>\n",
       "      <th>user_product_rank</th>\n",
       "      <th>user_product_avg_add_order</th>\n",
       "      <th>user_count_of_order</th>\n",
       "      <th>user_average_order_interval</th>\n",
       "      <th>user_average_basket_size</th>\n",
       "      <th>...</th>\n",
       "      <th>user_product_rank_category_21-40</th>\n",
       "      <th>user_product_rank_category_40-100</th>\n",
       "      <th>user_product_rank_category_6-10</th>\n",
       "      <th>user_product_rank_category_&gt;100</th>\n",
       "      <th>user_product_rank_percentage_category_0-0.05</th>\n",
       "      <th>user_product_rank_percentage_category_0.05-0.1</th>\n",
       "      <th>user_product_rank_percentage_category_0.1-0.2</th>\n",
       "      <th>user_product_rank_percentage_category_0.2-0.3</th>\n",
       "      <th>user_product_rank_percentage_category_0.3-0.5</th>\n",
       "      <th>user_product_rank_percentage_category_0.5-1</th>\n",
       "    </tr>\n",
       "  </thead>\n",
       "  <tbody>\n",
       "    <tr>\n",
       "      <th>0</th>\n",
       "      <td>1</td>\n",
       "      <td>196</td>\n",
       "      <td>10</td>\n",
       "      <td>176</td>\n",
       "      <td>19.555555</td>\n",
       "      <td>1.5</td>\n",
       "      <td>1</td>\n",
       "      <td>10</td>\n",
       "      <td>19.555555</td>\n",
       "      <td>5.9</td>\n",
       "      <td>...</td>\n",
       "      <td>0</td>\n",
       "      <td>0</td>\n",
       "      <td>0</td>\n",
       "      <td>0</td>\n",
       "      <td>0</td>\n",
       "      <td>1</td>\n",
       "      <td>0</td>\n",
       "      <td>0</td>\n",
       "      <td>0</td>\n",
       "      <td>0</td>\n",
       "    </tr>\n",
       "    <tr>\n",
       "      <th>1</th>\n",
       "      <td>1</td>\n",
       "      <td>10258</td>\n",
       "      <td>9</td>\n",
       "      <td>176</td>\n",
       "      <td>20.125000</td>\n",
       "      <td>3.0</td>\n",
       "      <td>3</td>\n",
       "      <td>10</td>\n",
       "      <td>19.555555</td>\n",
       "      <td>5.9</td>\n",
       "      <td>...</td>\n",
       "      <td>0</td>\n",
       "      <td>0</td>\n",
       "      <td>0</td>\n",
       "      <td>0</td>\n",
       "      <td>0</td>\n",
       "      <td>0</td>\n",
       "      <td>1</td>\n",
       "      <td>0</td>\n",
       "      <td>0</td>\n",
       "      <td>0</td>\n",
       "    </tr>\n",
       "    <tr>\n",
       "      <th>2</th>\n",
       "      <td>1</td>\n",
       "      <td>10326</td>\n",
       "      <td>1</td>\n",
       "      <td>93</td>\n",
       "      <td>10000.000000</td>\n",
       "      <td>14.5</td>\n",
       "      <td>5</td>\n",
       "      <td>10</td>\n",
       "      <td>19.555555</td>\n",
       "      <td>5.9</td>\n",
       "      <td>...</td>\n",
       "      <td>0</td>\n",
       "      <td>0</td>\n",
       "      <td>0</td>\n",
       "      <td>0</td>\n",
       "      <td>0</td>\n",
       "      <td>0</td>\n",
       "      <td>0</td>\n",
       "      <td>0</td>\n",
       "      <td>0</td>\n",
       "      <td>1</td>\n",
       "    </tr>\n",
       "    <tr>\n",
       "      <th>3</th>\n",
       "      <td>1</td>\n",
       "      <td>12427</td>\n",
       "      <td>10</td>\n",
       "      <td>176</td>\n",
       "      <td>19.555555</td>\n",
       "      <td>1.5</td>\n",
       "      <td>3</td>\n",
       "      <td>10</td>\n",
       "      <td>19.555555</td>\n",
       "      <td>5.9</td>\n",
       "      <td>...</td>\n",
       "      <td>0</td>\n",
       "      <td>0</td>\n",
       "      <td>0</td>\n",
       "      <td>0</td>\n",
       "      <td>0</td>\n",
       "      <td>1</td>\n",
       "      <td>0</td>\n",
       "      <td>0</td>\n",
       "      <td>0</td>\n",
       "      <td>0</td>\n",
       "    </tr>\n",
       "    <tr>\n",
       "      <th>4</th>\n",
       "      <td>1</td>\n",
       "      <td>13032</td>\n",
       "      <td>3</td>\n",
       "      <td>176</td>\n",
       "      <td>80.500000</td>\n",
       "      <td>5.5</td>\n",
       "      <td>6</td>\n",
       "      <td>10</td>\n",
       "      <td>19.555555</td>\n",
       "      <td>5.9</td>\n",
       "      <td>...</td>\n",
       "      <td>0</td>\n",
       "      <td>0</td>\n",
       "      <td>1</td>\n",
       "      <td>0</td>\n",
       "      <td>0</td>\n",
       "      <td>0</td>\n",
       "      <td>0</td>\n",
       "      <td>0</td>\n",
       "      <td>1</td>\n",
       "      <td>0</td>\n",
       "    </tr>\n",
       "  </tbody>\n",
       "</table>\n",
       "<p>5 rows × 121 columns</p>\n",
       "</div>"
      ],
      "text/plain": [
       "   user_id  product_id  user_product_purchase_count  \\\n",
       "0        1         196                           10   \n",
       "1        1       10258                            9   \n",
       "2        1       10326                            1   \n",
       "3        1       12427                           10   \n",
       "4        1       13032                            3   \n",
       "\n",
       "   user_product_last_purchase_day  user_product_average_purchase_interval  \\\n",
       "0                             176                               19.555555   \n",
       "1                             176                               20.125000   \n",
       "2                              93                            10000.000000   \n",
       "3                             176                               19.555555   \n",
       "4                             176                               80.500000   \n",
       "\n",
       "   user_product_rank  user_product_avg_add_order  user_count_of_order  \\\n",
       "0                1.5                           1                   10   \n",
       "1                3.0                           3                   10   \n",
       "2               14.5                           5                   10   \n",
       "3                1.5                           3                   10   \n",
       "4                5.5                           6                   10   \n",
       "\n",
       "   user_average_order_interval  user_average_basket_size  \\\n",
       "0                    19.555555                       5.9   \n",
       "1                    19.555555                       5.9   \n",
       "2                    19.555555                       5.9   \n",
       "3                    19.555555                       5.9   \n",
       "4                    19.555555                       5.9   \n",
       "\n",
       "                      ...                       \\\n",
       "0                     ...                        \n",
       "1                     ...                        \n",
       "2                     ...                        \n",
       "3                     ...                        \n",
       "4                     ...                        \n",
       "\n",
       "   user_product_rank_category_21-40  user_product_rank_category_40-100  \\\n",
       "0                                 0                                  0   \n",
       "1                                 0                                  0   \n",
       "2                                 0                                  0   \n",
       "3                                 0                                  0   \n",
       "4                                 0                                  0   \n",
       "\n",
       "   user_product_rank_category_6-10  user_product_rank_category_>100  \\\n",
       "0                                0                                0   \n",
       "1                                0                                0   \n",
       "2                                0                                0   \n",
       "3                                0                                0   \n",
       "4                                1                                0   \n",
       "\n",
       "   user_product_rank_percentage_category_0-0.05  \\\n",
       "0                                             0   \n",
       "1                                             0   \n",
       "2                                             0   \n",
       "3                                             0   \n",
       "4                                             0   \n",
       "\n",
       "   user_product_rank_percentage_category_0.05-0.1  \\\n",
       "0                                               1   \n",
       "1                                               0   \n",
       "2                                               0   \n",
       "3                                               1   \n",
       "4                                               0   \n",
       "\n",
       "   user_product_rank_percentage_category_0.1-0.2  \\\n",
       "0                                              0   \n",
       "1                                              1   \n",
       "2                                              0   \n",
       "3                                              0   \n",
       "4                                              0   \n",
       "\n",
       "  user_product_rank_percentage_category_0.2-0.3  \\\n",
       "0                                             0   \n",
       "1                                             0   \n",
       "2                                             0   \n",
       "3                                             0   \n",
       "4                                             0   \n",
       "\n",
       "   user_product_rank_percentage_category_0.3-0.5  \\\n",
       "0                                              0   \n",
       "1                                              0   \n",
       "2                                              0   \n",
       "3                                              0   \n",
       "4                                              1   \n",
       "\n",
       "   user_product_rank_percentage_category_0.5-1  \n",
       "0                                            0  \n",
       "1                                            0  \n",
       "2                                            1  \n",
       "3                                            0  \n",
       "4                                            0  \n",
       "\n",
       "[5 rows x 121 columns]"
      ]
     },
     "execution_count": 205,
     "metadata": {},
     "output_type": "execute_result"
    }
   ],
   "source": [
    "traindf.head()"
   ]
  },
  {
   "cell_type": "code",
   "execution_count": 238,
   "metadata": {
    "collapsed": true
   },
   "outputs": [],
   "source": [
    "dummy_columns = [\n",
    "       'user_product_purchase_count_category',\n",
    "       'user_product_last_purchase_day_category',\n",
    "       'user_product_interval_category', 'user_count_of_order_category',\n",
    "       'user_order_interval_category', 'user_basket_size_category',\n",
    "       'product_user_count_category', 'product_order_count_category',\n",
    "       'product_purchase_interval_category',\n",
    "       'user_product_avg_add_order_categories',\n",
    "       'product_avg_add_order_categories', 'user_total_product_category',\n",
    "       'user_product_rank_category', 'user_product_rank_percentage_category']"
   ]
  },
  {
   "cell_type": "code",
   "execution_count": 239,
   "metadata": {
    "collapsed": true
   },
   "outputs": [],
   "source": [
    "for column in dummy_columns:\n",
    "    traindf = pd.concat([traindf, pd.get_dummies(traindf[column], prefix=column)], axis = 1)"
   ]
  },
  {
   "cell_type": "code",
   "execution_count": 273,
   "metadata": {
    "collapsed": true
   },
   "outputs": [],
   "source": [
    "#pickle.dump(traindf, open('data/traindf.p', 'wb'))"
   ]
  },
  {
   "cell_type": "code",
   "execution_count": 3,
   "metadata": {
    "collapsed": true
   },
   "outputs": [],
   "source": [
    "#import pickle\n",
    "traindf = pickle.load(open('data/traindf.p', 'rb'))"
   ]
  },
  {
   "cell_type": "code",
   "execution_count": 4,
   "metadata": {
    "collapsed": true
   },
   "outputs": [],
   "source": [
    "columns = traindf.columns"
   ]
  },
  {
   "cell_type": "code",
   "execution_count": 5,
   "metadata": {
    "collapsed": true
   },
   "outputs": [],
   "source": [
    "feature_with_dummies = ['user_product_purchase_count', 'user_product_last_purchase_day', 'user_product_average_purchase_interval', 'user_product_rank', 'user_average_order_interval', 'user_average_basket_size', 'product_user_count', 'product_average_purchase_interval', 'product_reorder_count','reorder_ratio', 'average_add_to_cart_order', 'days_since_prior_order', 'user_product_rank_percentage', 'user_total_product', 'user_product_avg_add_order', 'user_count_of_order', 'product_order_count', 'user_product_purchase_count_category_1-5', 'user_product_purchase_count_category_11-30', 'user_product_purchase_count_category_31-50', 'user_product_purchase_count_category_51-75', 'user_product_purchase_count_category_6-10', 'user_product_purchase_count_category_76-100', 'user_product_last_purchase_day_category_ 1-2mon', 'user_product_last_purchase_day_category_0-1mon', 'user_product_last_purchase_day_category_2-3mon', 'user_product_last_purchase_day_category_3-6mon','user_product_last_purchase_day_category_6mon-1year', 'user_product_interval_category_ 1-10', 'user_product_interval_category_11-30', 'user_product_interval_category_31-50', 'user_product_interval_category_51-100', 'user_product_interval_category_>100', 'user_product_interval_category_NaN', 'user_count_of_order_category_ 11-30', 'user_count_of_order_category_31-60', 'user_count_of_order_category_4-10', 'user_count_of_order_category_61-100', 'user_order_interval_category_ 11-17', 'user_order_interval_category_1-10', 'user_order_interval_category_18-25', 'user_order_interval_category_>25', 'user_basket_size_category_1-10', 'user_basket_size_category_11-20', 'user_basket_size_category_21-30', 'user_basket_size_category_>30', 'product_user_count_category_1-100', 'product_user_count_category_10,001-50,000', 'product_user_count_category_101-500', 'product_user_count_category_2,001-5,000', 'product_user_count_category_5,001-10,000', 'product_user_count_category_501-2,000', 'product_user_count_category_>50,000', 'product_user_count_category_NaN', 'product_order_count_category_1-100', 'product_order_count_category_10,001-100,000', 'product_order_count_category_101-500', 'product_order_count_category_2,001-10,000', 'product_order_count_category_501-2,000', 'product_order_count_category_>100,000', 'product_order_count_category_NaN', 'product_purchase_interval_category_1-20', 'product_purchase_interval_category_21-40', 'product_purchase_interval_category_41-70', 'product_purchase_interval_category_71-100', 'product_purchase_interval_category_>100', 'product_purchase_interval_category_NaN', 'user_product_avg_add_order_categories_1', 'user_product_avg_add_order_categories_2', 'user_product_avg_add_order_categories_3-4', 'user_product_avg_add_order_categories_5-7', 'user_product_avg_add_order_categories_8-10', 'user_product_avg_add_order_categories_>10', 'product_avg_add_order_categories_1', 'product_avg_add_order_categories_2', 'product_avg_add_order_categories_3-4', 'product_avg_add_order_categories_5-7', 'product_avg_add_order_categories_8-10', 'product_avg_add_order_categories_>10', 'user_total_product_category_1-20', 'user_total_product_category_101-200', 'user_total_product_category_201-400', 'user_total_product_category_21-50', 'user_total_product_category_51-100', 'user_total_product_category_>400', 'user_product_rank_category_1-5', 'user_product_rank_category_11-20', 'user_product_rank_category_21-40', 'user_product_rank_category_40-100', 'user_product_rank_category_6-10', 'user_product_rank_category_>100', 'user_product_rank_percentage_category_0-0.05', 'user_product_rank_percentage_category_0.05-0.1','user_product_rank_percentage_category_0.1-0.2', 'user_product_rank_percentage_category_0.2-0.3', 'user_product_rank_percentage_category_0.3-0.5', 'user_product_rank_percentage_category_0.5-1']"
   ]
  },
  {
   "cell_type": "code",
   "execution_count": 6,
   "metadata": {
    "collapsed": true
   },
   "outputs": [],
   "source": [
    "feature_without_dummies = ['user_product_purchase_count', 'user_product_last_purchase_day', 'user_product_average_purchase_interval', 'user_product_rank', 'user_average_order_interval', 'user_average_basket_size', 'product_user_count', 'product_average_purchase_interval', 'product_reorder_count','reorder_ratio', 'average_add_to_cart_order', 'days_since_prior_order', 'user_product_rank_percentage', 'user_total_product', 'user_product_avg_add_order', 'user_count_of_order', 'product_order_count']"
   ]
  },
  {
   "cell_type": "code",
   "execution_count": 7,
   "metadata": {
    "collapsed": true
   },
   "outputs": [],
   "source": [
    "traindf['product_reorder_count'].fillna(0, inplace = True)\n",
    "traindf['user_product_average_purchase_interval'].fillna(10000, inplace = True)\n",
    "traindf['product_average_purchase_interval'].fillna(10000, inplace = True)"
   ]
  },
  {
   "cell_type": "code",
   "execution_count": 8,
   "metadata": {
    "collapsed": true
   },
   "outputs": [],
   "source": [
    "X_with_dummies = traindf[feature_with_dummies]"
   ]
  },
  {
   "cell_type": "code",
   "execution_count": 9,
   "metadata": {
    "collapsed": true
   },
   "outputs": [],
   "source": [
    "X_without_dummies = traindf[feature_without_dummies]"
   ]
  },
  {
   "cell_type": "code",
   "execution_count": 10,
   "metadata": {},
   "outputs": [
    {
     "data": {
      "text/plain": [
       "(8474661, 97)"
      ]
     },
     "execution_count": 10,
     "metadata": {},
     "output_type": "execute_result"
    }
   ],
   "source": [
    "X_with_dummies.shape"
   ]
  },
  {
   "cell_type": "code",
   "execution_count": 11,
   "metadata": {},
   "outputs": [
    {
     "data": {
      "text/plain": [
       "(8474661, 17)"
      ]
     },
     "execution_count": 11,
     "metadata": {},
     "output_type": "execute_result"
    }
   ],
   "source": [
    "X_without_dummies.shape"
   ]
  },
  {
   "cell_type": "code",
   "execution_count": 12,
   "metadata": {
    "collapsed": true
   },
   "outputs": [],
   "source": [
    "y = traindf.y"
   ]
  },
  {
   "cell_type": "code",
   "execution_count": 13,
   "metadata": {},
   "outputs": [
    {
     "data": {
      "text/plain": [
       "0.0    7645837\n",
       "1.0     828824\n",
       "Name: y, dtype: int64"
      ]
     },
     "execution_count": 13,
     "metadata": {},
     "output_type": "execute_result"
    }
   ],
   "source": [
    "y.value_counts()"
   ]
  },
  {
   "cell_type": "markdown",
   "metadata": {},
   "source": [
    "## Models!"
   ]
  },
  {
   "cell_type": "code",
   "execution_count": 15,
   "metadata": {
    "collapsed": true
   },
   "outputs": [],
   "source": [
    "import numpy as np\n",
    "import pandas as pd\n",
    "import matplotlib.pyplot as plt\n",
    "\n",
    "%matplotlib inline "
   ]
  },
  {
   "cell_type": "code",
   "execution_count": 16,
   "metadata": {
    "collapsed": true
   },
   "outputs": [],
   "source": [
    "from sklearn.neighbors import KNeighborsClassifier\n",
    "from sklearn.model_selection import train_test_split\n",
    "from sklearn.model_selection import cross_val_score\n",
    "from sklearn.model_selection import learning_curve\n",
    "from sklearn.model_selection import KFold\n",
    "from sklearn.model_selection import GridSearchCV\n",
    "from sklearn.linear_model import LogisticRegression\n",
    "from sklearn.metrics import accuracy_score\n",
    "from sklearn.naive_bayes import GaussianNB\n",
    "from sklearn.svm import SVC\n",
    "from sklearn.tree import DecisionTreeClassifier\n",
    "from sklearn.ensemble import RandomForestClassifier\n",
    "from sklearn.preprocessing import MinMaxScaler\n",
    "from sklearn.neighbors import KNeighborsClassifier\n",
    "from sklearn.metrics import roc_curve,auc,accuracy_score,recall_score,precision_score,f1_score"
   ]
  },
  {
   "cell_type": "code",
   "execution_count": 17,
   "metadata": {
    "collapsed": true
   },
   "outputs": [],
   "source": [
    "cross_validator = KFold(n_splits = 5, shuffle=True, random_state=802)"
   ]
  },
  {
   "cell_type": "code",
   "execution_count": 39,
   "metadata": {},
   "outputs": [
    {
     "data": {
      "text/plain": [
       "array([ 0.29737913,  0.30173452,  0.30069932,  0.29739381,  0.29646971])"
      ]
     },
     "execution_count": 39,
     "metadata": {},
     "output_type": "execute_result"
    }
   ],
   "source": [
    "#Naive Bayes\n",
    "cross_val_score(GaussianNB(), X_with_dummies.iloc[:, :], y[:], cv=cross_validator, scoring='f1')"
   ]
  },
  {
   "cell_type": "code",
   "execution_count": 40,
   "metadata": {},
   "outputs": [
    {
     "data": {
      "text/plain": [
       "array([ 0.29109273,  0.29584732,  0.29499826,  0.29141501,  0.29046224])"
      ]
     },
     "execution_count": 40,
     "metadata": {},
     "output_type": "execute_result"
    }
   ],
   "source": [
    "#Naive Bayes\n",
    "cross_val_score(GaussianNB(), X_without_dummies.iloc[:, :], y[:], cv=cross_validator, scoring='f1')"
   ]
  },
  {
   "cell_type": "code",
   "execution_count": null,
   "metadata": {
    "collapsed": true
   },
   "outputs": [],
   "source": [
    "#Random Forest Classifier with no dummy features\n",
    "rfc = RandomForestClassifier(criterion='entropy')\n",
    "n = np.arange(1,30,2)\n",
    "m = np.arange(1,30,2)\n",
    "parameters = {'n_estimators': n, 'min_samples_leaf': m}\n",
    "clf_rfc = GridSearchCV(rfc, parameters, cv = cross_validator)\n",
    "clf_rfc.fit(X_without_dummies.iloc[:100000, :], y[:100000]);"
   ]
  },
  {
   "cell_type": "code",
   "execution_count": null,
   "metadata": {
    "collapsed": true
   },
   "outputs": [],
   "source": [
    "clf_rfc.best_estimator_"
   ]
  },
  {
   "cell_type": "code",
   "execution_count": null,
   "metadata": {
    "collapsed": true
   },
   "outputs": [],
   "source": [
    "f1_score(clf_rfc.predict(X.iloc[:100000, :]), y[:100000])"
   ]
  },
  {
   "cell_type": "code",
   "execution_count": null,
   "metadata": {
    "collapsed": true,
    "scrolled": false
   },
   "outputs": [],
   "source": [
    "for model in models:\n",
    "    print(0)\n",
    "    for score in scores:\n",
    "        print(1)\n",
    "        score_table.set_value(model, score, np.mean(cross_val_score(model_functions[model], X_with_dummies.iloc[:, :], y[:], cv=cross_validator, scoring=score)))"
   ]
  },
  {
   "cell_type": "code",
   "execution_count": 32,
   "metadata": {},
   "outputs": [
    {
     "data": {
      "text/html": [
       "<div>\n",
       "<style>\n",
       "    .dataframe thead tr:only-child th {\n",
       "        text-align: right;\n",
       "    }\n",
       "\n",
       "    .dataframe thead th {\n",
       "        text-align: left;\n",
       "    }\n",
       "\n",
       "    .dataframe tbody tr th {\n",
       "        vertical-align: top;\n",
       "    }\n",
       "</style>\n",
       "<table border=\"1\" class=\"dataframe\">\n",
       "  <thead>\n",
       "    <tr style=\"text-align: right;\">\n",
       "      <th></th>\n",
       "      <th>accuracy</th>\n",
       "      <th>precision</th>\n",
       "      <th>recall</th>\n",
       "      <th>f1</th>\n",
       "    </tr>\n",
       "  </thead>\n",
       "  <tbody>\n",
       "    <tr>\n",
       "      <th>Logistic_Regression</th>\n",
       "      <td>0.8914</td>\n",
       "      <td>0.561142</td>\n",
       "      <td>0.0667771</td>\n",
       "      <td>0.118455</td>\n",
       "    </tr>\n",
       "    <tr>\n",
       "      <th>Naive_Bayes</th>\n",
       "      <td>0.7007</td>\n",
       "      <td>0.219658</td>\n",
       "      <td>0.673125</td>\n",
       "      <td>0.330886</td>\n",
       "    </tr>\n",
       "    <tr>\n",
       "      <th>Decision_Tree</th>\n",
       "      <td>0.8315</td>\n",
       "      <td>0.254691</td>\n",
       "      <td>0.280204</td>\n",
       "      <td>0.277496</td>\n",
       "    </tr>\n",
       "    <tr>\n",
       "      <th>Random_Forest</th>\n",
       "      <td>0.8892</td>\n",
       "      <td>0.486596</td>\n",
       "      <td>0.140868</td>\n",
       "      <td>0.216294</td>\n",
       "    </tr>\n",
       "  </tbody>\n",
       "</table>\n",
       "</div>"
      ],
      "text/plain": [
       "                    accuracy precision     recall        f1\n",
       "Logistic_Regression   0.8914  0.561142  0.0667771  0.118455\n",
       "Naive_Bayes           0.7007  0.219658   0.673125  0.330886\n",
       "Decision_Tree         0.8315  0.254691   0.280204  0.277496\n",
       "Random_Forest         0.8892  0.486596   0.140868  0.216294"
      ]
     },
     "execution_count": 32,
     "metadata": {},
     "output_type": "execute_result"
    }
   ],
   "source": [
    "#with dummies\n",
    "score_table"
   ]
  },
  {
   "cell_type": "code",
   "execution_count": 28,
   "metadata": {},
   "outputs": [
    {
     "data": {
      "text/html": [
       "<div>\n",
       "<style>\n",
       "    .dataframe thead tr:only-child th {\n",
       "        text-align: right;\n",
       "    }\n",
       "\n",
       "    .dataframe thead th {\n",
       "        text-align: left;\n",
       "    }\n",
       "\n",
       "    .dataframe tbody tr th {\n",
       "        vertical-align: top;\n",
       "    }\n",
       "</style>\n",
       "<table border=\"1\" class=\"dataframe\">\n",
       "  <thead>\n",
       "    <tr style=\"text-align: right;\">\n",
       "      <th></th>\n",
       "      <th>accuracy</th>\n",
       "      <th>precision</th>\n",
       "      <th>recall</th>\n",
       "      <th>f1</th>\n",
       "    </tr>\n",
       "  </thead>\n",
       "  <tbody>\n",
       "    <tr>\n",
       "      <th>Logistic_Regression</th>\n",
       "      <td>0.895</td>\n",
       "      <td>0.49</td>\n",
       "      <td>0.0406699</td>\n",
       "      <td>0.0722061</td>\n",
       "    </tr>\n",
       "    <tr>\n",
       "      <th>Naive_Bayes</th>\n",
       "      <td>0.62</td>\n",
       "      <td>0.179959</td>\n",
       "      <td>0.754067</td>\n",
       "      <td>0.289774</td>\n",
       "    </tr>\n",
       "    <tr>\n",
       "      <th>Decision_Tree</th>\n",
       "      <td>0.847</td>\n",
       "      <td>0.268733</td>\n",
       "      <td>0.319617</td>\n",
       "      <td>0.277347</td>\n",
       "    </tr>\n",
       "    <tr>\n",
       "      <th>Random_Forest</th>\n",
       "      <td>0.897</td>\n",
       "      <td>0.597857</td>\n",
       "      <td>0.141627</td>\n",
       "      <td>0.208849</td>\n",
       "    </tr>\n",
       "  </tbody>\n",
       "</table>\n",
       "</div>"
      ],
      "text/plain": [
       "                    accuracy precision     recall         f1\n",
       "Logistic_Regression    0.895      0.49  0.0406699  0.0722061\n",
       "Naive_Bayes             0.62  0.179959   0.754067   0.289774\n",
       "Decision_Tree          0.847  0.268733   0.319617   0.277347\n",
       "Random_Forest          0.897  0.597857   0.141627   0.208849"
      ]
     },
     "execution_count": 28,
     "metadata": {},
     "output_type": "execute_result"
    }
   ],
   "source": [
    "#without dummies\n",
    "score_table"
   ]
  },
  {
   "cell_type": "code",
   "execution_count": 15,
   "metadata": {
    "collapsed": true
   },
   "outputs": [],
   "source": [
    "f1_score_table = pd.DataFrame(columns = ['f1'], index = models)"
   ]
  },
  {
   "cell_type": "code",
   "execution_count": 16,
   "metadata": {
    "collapsed": true
   },
   "outputs": [],
   "source": [
    "%%timeit\n",
    "for model in models:\n",
    "    f1_score_table.set_value(model, score, np.mean(cross_val_score(model_functions[model], X.iloc[:1000000, :], y[:1000000], cv=cross_validator, scoring=score)))"
   ]
  },
  {
   "cell_type": "code",
   "execution_count": 17,
   "metadata": {},
   "outputs": [
    {
     "data": {
      "text/html": [
       "<div>\n",
       "<style>\n",
       "    .dataframe thead tr:only-child th {\n",
       "        text-align: right;\n",
       "    }\n",
       "\n",
       "    .dataframe thead th {\n",
       "        text-align: left;\n",
       "    }\n",
       "\n",
       "    .dataframe tbody tr th {\n",
       "        vertical-align: top;\n",
       "    }\n",
       "</style>\n",
       "<table border=\"1\" class=\"dataframe\">\n",
       "  <thead>\n",
       "    <tr style=\"text-align: right;\">\n",
       "      <th></th>\n",
       "      <th>f1</th>\n",
       "    </tr>\n",
       "  </thead>\n",
       "  <tbody>\n",
       "    <tr>\n",
       "      <th>Logistic_Regression</th>\n",
       "      <td>0.179982</td>\n",
       "    </tr>\n",
       "    <tr>\n",
       "      <th>Naive_Bayes</th>\n",
       "      <td>0.345459</td>\n",
       "    </tr>\n",
       "    <tr>\n",
       "      <th>Decision_Tree</th>\n",
       "      <td>0.268761</td>\n",
       "    </tr>\n",
       "    <tr>\n",
       "      <th>Random_Forest</th>\n",
       "      <td>0.202612</td>\n",
       "    </tr>\n",
       "  </tbody>\n",
       "</table>\n",
       "</div>"
      ],
      "text/plain": [
       "                           f1\n",
       "Logistic_Regression  0.179982\n",
       "Naive_Bayes          0.345459\n",
       "Decision_Tree        0.268761\n",
       "Random_Forest        0.202612"
      ]
     },
     "execution_count": 17,
     "metadata": {},
     "output_type": "execute_result"
    }
   ],
   "source": [
    "f1_score_table"
   ]
  },
  {
   "cell_type": "code",
   "execution_count": 18,
   "metadata": {},
   "outputs": [
    {
     "name": "stderr",
     "output_type": "stream",
     "text": [
      "/usr/local/lib/python3.5/dist-packages/sklearn/cross_validation.py:44: DeprecationWarning: This module was deprecated in version 0.18 in favor of the model_selection module into which all the refactored classes and functions are moved. Also note that the interface of the new CV iterators are different from that of this module. This module will be removed in 0.20.\n",
      "  \"This module will be removed in 0.20.\", DeprecationWarning)\n"
     ]
    }
   ],
   "source": [
    "from xgboost import XGBClassifier"
   ]
  },
  {
   "cell_type": "code",
   "execution_count": 19,
   "metadata": {
    "collapsed": true
   },
   "outputs": [],
   "source": [
    "xgb_model = XGBClassifier()\n",
    "xgb_score = []"
   ]
  },
  {
   "cell_type": "code",
   "execution_count": 21,
   "metadata": {
    "collapsed": true
   },
   "outputs": [],
   "source": [
    "parameters = {'nthread':[4], #when use hyperthread, xgboost may become slower\n",
    "              'objective':['binary:logistic'],\n",
    "              'learning_rate': [0.05], #so called `eta` value\n",
    "              'max_depth': [11],\n",
    "              'min_child_weight': [1, 2],\n",
    "              'gamma':[0],\n",
    "              'silent': [1],\n",
    "              'subsample': [0.8],\n",
    "              'colsample_bytree': [0.7],\n",
    "              'n_estimators': [30], #number of trees, change it to 1000 for better results\n",
    "              'missing':[-999],\n",
    "              'seed': [1337],}\n",
    "clf = GridSearchCV(xgb_model, parameters, n_jobs=12, \n",
    "                   cv=cross_validator, \n",
    "                   scoring='f1', refit=True)"
   ]
  },
  {
   "cell_type": "code",
   "execution_count": null,
   "metadata": {
    "collapsed": true
   },
   "outputs": [],
   "source": [
    "%%timeit \n",
    "clf.fit(X_with_dummies.iloc[:100000, :], y[:100000])"
   ]
  },
  {
   "cell_type": "code",
   "execution_count": null,
   "metadata": {
    "collapsed": true
   },
   "outputs": [],
   "source": [
    "clf.best_score_"
   ]
  },
  {
   "cell_type": "code",
   "execution_count": null,
   "metadata": {
    "collapsed": true
   },
   "outputs": [],
   "source": [
    "clf.best_params_"
   ]
  },
  {
   "cell_type": "code",
   "execution_count": 241,
   "metadata": {
    "collapsed": true
   },
   "outputs": [],
   "source": [
    "parameters = {'nthread':[4], #when use hyperthread, xgboost may become slower\n",
    "              'objective':['binary:logistic'],\n",
    "              'learning_rate': [0.05], #so called `eta` value\n",
    "              'max_depth': [11],\n",
    "              'min_child_weight': [1],\n",
    "              'gamma':np.arange(0,0.01,0.05),\n",
    "              'silent': [1],\n",
    "              'subsample': [0.8],\n",
    "              'colsample_bytree': [0.7],\n",
    "              'n_estimators': [30], #number of trees, change it to 1000 for better results\n",
    "              'missing':[-999],\n",
    "              'seed': [1337],}\n",
    "clf = GridSearchCV(xgb_model, parameters, n_jobs=5, \n",
    "                   cv=cross_validator, \n",
    "                   scoring='f1', refit=True)"
   ]
  },
  {
   "cell_type": "code",
   "execution_count": 242,
   "metadata": {},
   "outputs": [
    {
     "name": "stdout",
     "output_type": "stream",
     "text": [
      "1 loop, best of 3: 21.3 s per loop\n"
     ]
    }
   ],
   "source": [
    "%%timeit \n",
    "clf.fit(X_new.iloc[:100000, :], y[:100000])"
   ]
  },
  {
   "cell_type": "code",
   "execution_count": 243,
   "metadata": {},
   "outputs": [
    {
     "data": {
      "text/plain": [
       "0.23039627608359384"
      ]
     },
     "execution_count": 243,
     "metadata": {},
     "output_type": "execute_result"
    }
   ],
   "source": [
    "clf.best_score_"
   ]
  },
  {
   "cell_type": "code",
   "execution_count": 244,
   "metadata": {},
   "outputs": [
    {
     "data": {
      "text/plain": [
       "{'colsample_bytree': 0.7,\n",
       " 'gamma': 0.0,\n",
       " 'learning_rate': 0.05,\n",
       " 'max_depth': 11,\n",
       " 'min_child_weight': 1,\n",
       " 'missing': -999,\n",
       " 'n_estimators': 30,\n",
       " 'nthread': 4,\n",
       " 'objective': 'binary:logistic',\n",
       " 'seed': 1337,\n",
       " 'silent': 1,\n",
       " 'subsample': 0.8}"
      ]
     },
     "execution_count": 244,
     "metadata": {},
     "output_type": "execute_result"
    }
   ],
   "source": [
    "clf.best_params_"
   ]
  },
  {
   "cell_type": "code",
   "execution_count": 249,
   "metadata": {
    "collapsed": true
   },
   "outputs": [],
   "source": [
    "parameters = {'nthread':[4], #when use hyperthread, xgboost may become slower\n",
    "              'objective':['binary:logistic'],\n",
    "              'learning_rate': [0.05], #so called `eta` value\n",
    "              'max_depth': [11],\n",
    "              'min_child_weight': [1],\n",
    "              'gamma':[0],\n",
    "              'silent': [1],\n",
    "              'subsample': np.arange(0.5, 1, 0.1),\n",
    "              'colsample_bytree': [0.7],\n",
    "              'n_estimators': [30], #number of trees, change it to 1000 for better results\n",
    "              'missing':[-999],\n",
    "              'seed': [1337],}\n",
    "clf = GridSearchCV(xgb_model, parameters, n_jobs=5, \n",
    "                   cv=cross_validator, \n",
    "                   scoring='f1', refit=True)"
   ]
  },
  {
   "cell_type": "code",
   "execution_count": 250,
   "metadata": {},
   "outputs": [
    {
     "name": "stdout",
     "output_type": "stream",
     "text": [
      "1 loop, best of 3: 1min 10s per loop\n"
     ]
    }
   ],
   "source": [
    "%%timeit \n",
    "clf.fit(X_new.iloc[:100000, :], y[:100000])"
   ]
  },
  {
   "cell_type": "code",
   "execution_count": 251,
   "metadata": {},
   "outputs": [
    {
     "data": {
      "text/plain": [
       "0.23039627608359384"
      ]
     },
     "execution_count": 251,
     "metadata": {},
     "output_type": "execute_result"
    }
   ],
   "source": [
    "clf.best_score_"
   ]
  },
  {
   "cell_type": "code",
   "execution_count": 252,
   "metadata": {},
   "outputs": [
    {
     "data": {
      "text/plain": [
       "{'colsample_bytree': 0.7,\n",
       " 'gamma': 0,\n",
       " 'learning_rate': 0.05,\n",
       " 'max_depth': 11,\n",
       " 'min_child_weight': 1,\n",
       " 'missing': -999,\n",
       " 'n_estimators': 30,\n",
       " 'nthread': 4,\n",
       " 'objective': 'binary:logistic',\n",
       " 'seed': 1337,\n",
       " 'silent': 1,\n",
       " 'subsample': 0.79999999999999993}"
      ]
     },
     "execution_count": 252,
     "metadata": {},
     "output_type": "execute_result"
    }
   ],
   "source": [
    "clf.best_params_"
   ]
  },
  {
   "cell_type": "code",
   "execution_count": 253,
   "metadata": {
    "collapsed": true
   },
   "outputs": [],
   "source": [
    "parameters = {'nthread':[4], #when use hyperthread, xgboost may become slower\n",
    "              'objective':['binary:logistic'],\n",
    "              'learning_rate': [0.05, 0.1, 0.15], #so called `eta` value\n",
    "              'max_depth': [11],\n",
    "              'min_child_weight': [1],\n",
    "              'gamma':[0],\n",
    "              'silent': [1],\n",
    "              'subsample': [0.8],\n",
    "              'colsample_bytree': [0.8],\n",
    "              'n_estimators': [30], #number of trees, change it to 1000 for better results\n",
    "              'missing':[-999],\n",
    "              'seed': [1337],}\n",
    "clf = GridSearchCV(xgb_model, parameters, n_jobs=5, \n",
    "                   cv=cross_validator, \n",
    "                   scoring='f1', refit=True)"
   ]
  },
  {
   "cell_type": "code",
   "execution_count": 254,
   "metadata": {},
   "outputs": [
    {
     "name": "stdout",
     "output_type": "stream",
     "text": [
      "1 loop, best of 3: 50 s per loop\n"
     ]
    }
   ],
   "source": [
    "%%timeit \n",
    "clf.fit(X_new.iloc[:100000, :], y[:100000])"
   ]
  },
  {
   "cell_type": "code",
   "execution_count": 255,
   "metadata": {},
   "outputs": [
    {
     "data": {
      "text/plain": [
       "0.28496480388508977"
      ]
     },
     "execution_count": 255,
     "metadata": {},
     "output_type": "execute_result"
    }
   ],
   "source": [
    "clf.best_score_"
   ]
  },
  {
   "cell_type": "code",
   "execution_count": 256,
   "metadata": {},
   "outputs": [
    {
     "data": {
      "text/plain": [
       "{'colsample_bytree': 0.8,\n",
       " 'gamma': 0,\n",
       " 'learning_rate': 0.15,\n",
       " 'max_depth': 11,\n",
       " 'min_child_weight': 1,\n",
       " 'missing': -999,\n",
       " 'n_estimators': 30,\n",
       " 'nthread': 4,\n",
       " 'objective': 'binary:logistic',\n",
       " 'seed': 1337,\n",
       " 'silent': 1,\n",
       " 'subsample': 0.8}"
      ]
     },
     "execution_count": 256,
     "metadata": {},
     "output_type": "execute_result"
    }
   ],
   "source": [
    "clf.best_params_"
   ]
  },
  {
   "cell_type": "code",
   "execution_count": 257,
   "metadata": {
    "collapsed": true
   },
   "outputs": [],
   "source": [
    "parameters = {'nthread':[4], #when use hyperthread, xgboost may become slower\n",
    "              'objective':['binary:logistic'],\n",
    "              'learning_rate': [0.2], #so called `eta` value\n",
    "              'max_depth': [11],\n",
    "              'min_child_weight': [1],\n",
    "              'gamma':[0],\n",
    "              'silent': [1],\n",
    "              'subsample': [0.8],\n",
    "              'colsample_bytree': [0.8],\n",
    "              'n_estimators': [30], #number of trees, change it to 1000 for better results\n",
    "              'missing':[-999],\n",
    "              'seed': [1337],}\n",
    "clf = GridSearchCV(xgb_model, parameters, n_jobs=5, \n",
    "                   cv=cross_validator, \n",
    "                   scoring='f1', refit=True)"
   ]
  },
  {
   "cell_type": "code",
   "execution_count": 258,
   "metadata": {},
   "outputs": [
    {
     "name": "stdout",
     "output_type": "stream",
     "text": [
      "1 loop, best of 3: 21.9 s per loop\n"
     ]
    }
   ],
   "source": [
    "%%timeit \n",
    "clf.fit(X_new.iloc[:100000, :], y[:100000])"
   ]
  },
  {
   "cell_type": "code",
   "execution_count": 259,
   "metadata": {},
   "outputs": [
    {
     "data": {
      "text/plain": [
       "0.30003195639622959"
      ]
     },
     "execution_count": 259,
     "metadata": {},
     "output_type": "execute_result"
    }
   ],
   "source": [
    "clf.best_score_"
   ]
  },
  {
   "cell_type": "code",
   "execution_count": 261,
   "metadata": {
    "collapsed": true
   },
   "outputs": [],
   "source": [
    "parameters = {'nthread':[4], #when use hyperthread, xgboost may become slower\n",
    "              'objective':['binary:logistic'],\n",
    "              'learning_rate': [0.25, 0.3], #so called `eta` value\n",
    "              'max_depth': [11],\n",
    "              'min_child_weight': [1],\n",
    "              'gamma':[0],\n",
    "              'silent': [1],\n",
    "              'subsample': [0.8],\n",
    "              'colsample_bytree': [0.8],\n",
    "              'n_estimators': [30], #number of trees, change it to 1000 for better results\n",
    "              'missing':[-999],\n",
    "              'seed': [1337],}\n",
    "clf = GridSearchCV(xgb_model, parameters, n_jobs=5, \n",
    "                   cv=cross_validator, \n",
    "                   scoring='f1', refit=True)"
   ]
  },
  {
   "cell_type": "code",
   "execution_count": 262,
   "metadata": {},
   "outputs": [
    {
     "name": "stdout",
     "output_type": "stream",
     "text": [
      "1 loop, best of 3: 34.4 s per loop\n"
     ]
    }
   ],
   "source": [
    "%%timeit \n",
    "clf.fit(X_new.iloc[:100000, :], y[:100000])"
   ]
  },
  {
   "cell_type": "code",
   "execution_count": 263,
   "metadata": {},
   "outputs": [
    {
     "data": {
      "text/plain": [
       "0.30974714914781531"
      ]
     },
     "execution_count": 263,
     "metadata": {},
     "output_type": "execute_result"
    }
   ],
   "source": [
    "clf.best_score_"
   ]
  },
  {
   "cell_type": "code",
   "execution_count": 265,
   "metadata": {},
   "outputs": [
    {
     "data": {
      "text/plain": [
       "{'colsample_bytree': 0.8,\n",
       " 'gamma': 0,\n",
       " 'learning_rate': 0.3,\n",
       " 'max_depth': 11,\n",
       " 'min_child_weight': 1,\n",
       " 'missing': -999,\n",
       " 'n_estimators': 30,\n",
       " 'nthread': 4,\n",
       " 'objective': 'binary:logistic',\n",
       " 'seed': 1337,\n",
       " 'silent': 1,\n",
       " 'subsample': 0.8}"
      ]
     },
     "execution_count": 265,
     "metadata": {},
     "output_type": "execute_result"
    }
   ],
   "source": [
    "clf.best_params_"
   ]
  },
  {
   "cell_type": "code",
   "execution_count": 266,
   "metadata": {
    "collapsed": true
   },
   "outputs": [],
   "source": [
    "parameters = {'nthread':[4], #when use hyperthread, xgboost may become slower\n",
    "              'objective':['binary:logistic'],\n",
    "              'learning_rate': [0.35, 0.4], #so called `eta` value\n",
    "              'max_depth': [11],\n",
    "              'min_child_weight': [1],\n",
    "              'gamma':[0],\n",
    "              'silent': [1],\n",
    "              'subsample': [0.8],\n",
    "              'colsample_bytree': [0.8],\n",
    "              'n_estimators': [30], #number of trees, change it to 1000 for better results\n",
    "              'missing':[-999],\n",
    "              'seed': [1337],}\n",
    "clf = GridSearchCV(xgb_model, parameters, n_jobs=5, \n",
    "                   cv=cross_validator, \n",
    "                   scoring='f1', refit=True)"
   ]
  },
  {
   "cell_type": "code",
   "execution_count": 267,
   "metadata": {},
   "outputs": [
    {
     "name": "stdout",
     "output_type": "stream",
     "text": [
      "1 loop, best of 3: 34.4 s per loop\n"
     ]
    }
   ],
   "source": [
    "%%timeit \n",
    "clf.fit(X_new.iloc[:100000, :], y[:100000])"
   ]
  },
  {
   "cell_type": "code",
   "execution_count": 268,
   "metadata": {},
   "outputs": [
    {
     "data": {
      "text/plain": [
       "0.31448815811302394"
      ]
     },
     "execution_count": 268,
     "metadata": {},
     "output_type": "execute_result"
    }
   ],
   "source": [
    "clf.best_score_"
   ]
  },
  {
   "cell_type": "code",
   "execution_count": 269,
   "metadata": {},
   "outputs": [
    {
     "data": {
      "text/plain": [
       "{'colsample_bytree': 0.8,\n",
       " 'gamma': 0,\n",
       " 'learning_rate': 0.4,\n",
       " 'max_depth': 11,\n",
       " 'min_child_weight': 1,\n",
       " 'missing': -999,\n",
       " 'n_estimators': 30,\n",
       " 'nthread': 4,\n",
       " 'objective': 'binary:logistic',\n",
       " 'seed': 1337,\n",
       " 'silent': 1,\n",
       " 'subsample': 0.8}"
      ]
     },
     "execution_count": 269,
     "metadata": {},
     "output_type": "execute_result"
    }
   ],
   "source": [
    "clf.best_params_"
   ]
  },
  {
   "cell_type": "code",
   "execution_count": 270,
   "metadata": {
    "collapsed": true
   },
   "outputs": [],
   "source": [
    "parameters = {'nthread':[4], #when use hyperthread, xgboost may become slower\n",
    "              'objective':['binary:logistic'],\n",
    "              'learning_rate': np.arange(0.45, 0.65, 0.05), #so called `eta` value\n",
    "              'max_depth': [11],\n",
    "              'min_child_weight': [1],\n",
    "              'gamma':[0],\n",
    "              'silent': [1],\n",
    "              'subsample': [0.8],\n",
    "              'colsample_bytree': [0.8],\n",
    "              'n_estimators': [30], #number of trees, change it to 1000 for better results\n",
    "              'missing':[-999],\n",
    "              'seed': [1337],}\n",
    "clf = GridSearchCV(xgb_model, parameters, n_jobs=5, \n",
    "                   cv=cross_validator, \n",
    "                   scoring='f1', refit=True)"
   ]
  },
  {
   "cell_type": "code",
   "execution_count": 271,
   "metadata": {},
   "outputs": [
    {
     "name": "stdout",
     "output_type": "stream",
     "text": [
      "1 loop, best of 3: 59.8 s per loop\n"
     ]
    }
   ],
   "source": [
    "%%timeit \n",
    "clf.fit(X_new.iloc[:100000, :], y[:100000])"
   ]
  },
  {
   "cell_type": "code",
   "execution_count": 272,
   "metadata": {},
   "outputs": [
    {
     "data": {
      "text/plain": [
       "0.31757508358223857"
      ]
     },
     "execution_count": 272,
     "metadata": {},
     "output_type": "execute_result"
    }
   ],
   "source": [
    "clf.best_score_"
   ]
  },
  {
   "cell_type": "code",
   "execution_count": 273,
   "metadata": {},
   "outputs": [
    {
     "data": {
      "text/plain": [
       "{'colsample_bytree': 0.8,\n",
       " 'gamma': 0,\n",
       " 'learning_rate': 0.55000000000000004,\n",
       " 'max_depth': 11,\n",
       " 'min_child_weight': 1,\n",
       " 'missing': -999,\n",
       " 'n_estimators': 30,\n",
       " 'nthread': 4,\n",
       " 'objective': 'binary:logistic',\n",
       " 'seed': 1337,\n",
       " 'silent': 1,\n",
       " 'subsample': 0.8}"
      ]
     },
     "execution_count": 273,
     "metadata": {},
     "output_type": "execute_result"
    }
   ],
   "source": [
    "clf.best_params_"
   ]
  },
  {
   "cell_type": "code",
   "execution_count": 274,
   "metadata": {
    "collapsed": true
   },
   "outputs": [],
   "source": [
    "parameters = {'nthread':[4], #when use hyperthread, xgboost may become slower\n",
    "              'objective':['binary:logistic'],\n",
    "              'learning_rate': np.arange(0.5, 0.6, 0.01), #so called `eta` value\n",
    "              'max_depth': [11],\n",
    "              'min_child_weight': [1],\n",
    "              'gamma':[0],\n",
    "              'silent': [1],\n",
    "              'subsample': [0.8],\n",
    "              'colsample_bytree': [0.8],\n",
    "              'n_estimators': [30], #number of trees, change it to 1000 for better results\n",
    "              'missing':[-999],\n",
    "              'seed': [1337],}\n",
    "clf = GridSearchCV(xgb_model, parameters, n_jobs=5, \n",
    "                   cv=cross_validator, \n",
    "                   scoring='f1', refit=True)"
   ]
  },
  {
   "cell_type": "code",
   "execution_count": 275,
   "metadata": {},
   "outputs": [
    {
     "name": "stdout",
     "output_type": "stream",
     "text": [
      "1 loop, best of 3: 2min 20s per loop\n"
     ]
    }
   ],
   "source": [
    "%%timeit \n",
    "clf.fit(X_new.iloc[:100000, :], y[:100000])"
   ]
  },
  {
   "cell_type": "code",
   "execution_count": 276,
   "metadata": {},
   "outputs": [
    {
     "data": {
      "text/plain": [
       "0.32544652626539777"
      ]
     },
     "execution_count": 276,
     "metadata": {},
     "output_type": "execute_result"
    }
   ],
   "source": [
    "clf.best_score_"
   ]
  },
  {
   "cell_type": "code",
   "execution_count": 277,
   "metadata": {},
   "outputs": [
    {
     "data": {
      "text/plain": [
       "{'colsample_bytree': 0.8,\n",
       " 'gamma': 0,\n",
       " 'learning_rate': 0.56000000000000005,\n",
       " 'max_depth': 11,\n",
       " 'min_child_weight': 1,\n",
       " 'missing': -999,\n",
       " 'n_estimators': 30,\n",
       " 'nthread': 4,\n",
       " 'objective': 'binary:logistic',\n",
       " 'seed': 1337,\n",
       " 'silent': 1,\n",
       " 'subsample': 0.8}"
      ]
     },
     "execution_count": 277,
     "metadata": {},
     "output_type": "execute_result"
    }
   ],
   "source": [
    "clf.best_params_"
   ]
  },
  {
   "cell_type": "code",
   "execution_count": 286,
   "metadata": {
    "collapsed": true
   },
   "outputs": [],
   "source": [
    "parameters = {'nthread':[4], #when use hyperthread, xgboost may become slower\n",
    "              'objective':['binary:logistic'],\n",
    "              'learning_rate': np.arange(0.5, 0.6, 0.02), #so called `eta` value\n",
    "              'max_depth': [8, 11, 14],\n",
    "              'min_child_weight': [1, 2, 3],\n",
    "              'gamma':[0],\n",
    "              'silent': [1],\n",
    "              'subsample': [0.8],\n",
    "              'colsample_bytree': [0.8],\n",
    "              'n_estimators': [10, 20, 30, 40, 50], #number of trees, change it to 1000 for better results\n",
    "              'missing':[-999],\n",
    "              'seed': [1337],}\n",
    "clf = GridSearchCV(xgb_model, parameters, n_jobs=5, \n",
    "                   cv=cross_validator, \n",
    "                   scoring='f1', refit=True)"
   ]
  },
  {
   "cell_type": "code",
   "execution_count": null,
   "metadata": {
    "collapsed": true
   },
   "outputs": [],
   "source": [
    "%%timeit \n",
    "clf.fit(X_new.iloc[:100000, :], y[:100000])"
   ]
  },
  {
   "cell_type": "code",
   "execution_count": null,
   "metadata": {
    "collapsed": true
   },
   "outputs": [],
   "source": [
    "clf.best_score_"
   ]
  },
  {
   "cell_type": "code",
   "execution_count": null,
   "metadata": {
    "collapsed": true
   },
   "outputs": [],
   "source": [
    "clf.best_params_"
   ]
  },
  {
   "cell_type": "code",
   "execution_count": null,
   "metadata": {
    "collapsed": true
   },
   "outputs": [],
   "source": []
  }
 ],
 "metadata": {
  "kernelspec": {
   "display_name": "Python 3",
   "language": "python",
   "name": "python3"
  },
  "language_info": {
   "codemirror_mode": {
    "name": "ipython",
    "version": 3
   },
   "file_extension": ".py",
   "mimetype": "text/x-python",
   "name": "python",
   "nbconvert_exporter": "python",
   "pygments_lexer": "ipython3",
   "version": "3.6.1"
  }
 },
 "nbformat": 4,
 "nbformat_minor": 2
}
