{
 "cells": [
  {
   "cell_type": "code",
   "execution_count": null,
   "metadata": {
    "collapsed": true
   },
   "outputs": [],
   "source": [
    "learning_rate_list = np.arange(0.05,0.25,0.02)\n",
    "max_depth_list = [3, 5, 7]\n",
    "n_estimators_list = np.arange(40,100,20)\n",
    "gamma_list = [0]\n",
    "min_child_weight_list = [1]\n",
    "threshold_list = np.arange(0.1,0.4,0.001)\n",
    "subsample_list = [1]"
   ]
  },
  {
   "cell_type": "code",
   "execution_count": null,
   "metadata": {
    "collapsed": true
   },
   "outputs": [],
   "source": [
    "for lr in learning_rate_list:\n",
    "        for md in max_depth_list:\n",
    "            for n in n_estimators_list:\n",
    "                for g in gamma_list:\n",
    "                    for w in min_child_weight_list:\n",
    "                        for s in subsample_list:\n",
    "                            print(lr, md, n, g, w, s)\n",
    "                            #sys.stdout.flush()\n",
    "                            temp = optimize_threshold(man_cross_val(masterdf, learning_rate=lr, max_depth=md, n_estimators=n, gamma=g, min_child_weight=w, subsample=s), threshold_list=threshold_list)\n",
    "                            score = temp[1]\n",
    "                            threshold_opt = temp[0]\n",
    "                            parameter_df = parameter_df.append(pd.DataFrame([[lr, md, n, g, w, s, threshold_opt, score]], columns=cols))\n",
    "                            print(score, threshold_opt)\n",
    "                            #sys.stdout.flush()\n",
    "                            if score > max_score:\n",
    "                                max_score = score\n",
    "                                parameters = [lr, md, n, g, w, s, threshold_opt]"
   ]
  },
  {
   "cell_type": "markdown",
   "metadata": {},
   "source": [
    "## Traindf"
   ]
  },
  {
   "cell_type": "code",
   "execution_count": 1,
   "metadata": {
    "collapsed": true
   },
   "outputs": [],
   "source": [
    "import numpy as np\n",
    "import pandas as pd\n",
    "import matplotlib.pyplot as plt\n",
    "import pickle\n",
    "import random\n",
    "\n",
    "%matplotlib inline "
   ]
  },
  {
   "cell_type": "code",
   "execution_count": 2,
   "metadata": {
    "collapsed": true
   },
   "outputs": [],
   "source": [
    "aisles = pd.read_csv('data/aisles.csv', dtype = {\n",
    "    'aisle_id': np.uint16,\n",
    "    'aisle': np.str},\n",
    "    usecols=['aisle_id', 'aisle'])"
   ]
  },
  {
   "cell_type": "code",
   "execution_count": 3,
   "metadata": {
    "collapsed": true
   },
   "outputs": [],
   "source": [
    "departments = pd.read_csv('data/departments.csv', dtype = {\n",
    "    'department_id': np.uint16,\n",
    "    'department': np.str},\n",
    "    usecols=['department_id', 'department'])"
   ]
  },
  {
   "cell_type": "code",
   "execution_count": 4,
   "metadata": {
    "collapsed": true
   },
   "outputs": [],
   "source": [
    "order_products_prior = pd.read_csv('data/order_products__prior.csv', dtype = {\n",
    "    'order_id': np.uint32,\n",
    "    'product_id': np.uint32,\n",
    "    'add_to_cart_order': np.uint16,\n",
    "    'reordered': np.uint16},\n",
    "    usecols=['order_id', 'product_id', 'add_to_cart_order', 'reordered'])"
   ]
  },
  {
   "cell_type": "code",
   "execution_count": 5,
   "metadata": {
    "collapsed": true
   },
   "outputs": [],
   "source": [
    "order_product_train = pd.read_csv('data/order_products__train.csv', dtype = {\n",
    "    'order_id': np.uint32,\n",
    "    'product_id': np.uint32,\n",
    "    'add_to_cart_order': np.uint16,\n",
    "    'reordered': np.uint16},\n",
    "    usecols=['order_id', 'product_id', 'add_to_cart_order', 'reordered'])"
   ]
  },
  {
   "cell_type": "code",
   "execution_count": 6,
   "metadata": {
    "collapsed": true
   },
   "outputs": [],
   "source": [
    "orders = pd.read_csv('data/orders.csv', dtype = {\n",
    "    'order_id': np.uint32,\n",
    "    'user_id' :np.uint32,\n",
    "    'eval_set': 'category',\n",
    "    'order_number': np.uint16,\n",
    "    'order_dow': np.uint16,\n",
    "    'order_hour_of_day': np.uint8,\n",
    "    'days_since_prior_order': np.float32},\n",
    "                     usecols=['order_id', 'user_id', 'eval_set', 'order_number', 'order_dow', 'order_hour_of_day', 'days_since_prior_order'])"
   ]
  },
  {
   "cell_type": "code",
   "execution_count": 7,
   "metadata": {
    "collapsed": true
   },
   "outputs": [],
   "source": [
    "products = pd.read_csv('data/products.csv', dtype = {'product_id': np.uint16,\n",
    "        'product_name': np.str,\n",
    "        'aisle_id': np.uint16,\n",
    "        'department_id': np.uint16},\n",
    "        usecols=['product_id', 'product_name', 'aisle_id', 'department_id'])"
   ]
  },
  {
   "cell_type": "code",
   "execution_count": 8,
   "metadata": {
    "collapsed": true
   },
   "outputs": [],
   "source": [
    "priordf = pickle.load(open('data/pickle_files/priordf.p', 'rb'))\n",
    "user_info = pickle.load(open('data/pickle_files/user_info.p', 'rb'))\n",
    "product_info = pickle.load(open('data/pickle_files/product_info.p', 'rb'))\n",
    "user_product_info = pickle.load(open('data/pickle_files/user_product_info.p', 'rb'))\n",
    "ordertime_info = pickle.load(open('data/pickle_files/ordertime_info.p', 'rb'))\n",
    "user_ordertime_info = pickle.load(open('data/pickle_files/user_ordertime_info.p', 'rb'))\n",
    "product_ordertime_info = pickle.load(open('data/pickle_files/product_ordertime_info.p', 'rb'))\n",
    "aisle_info = pickle.load(open('data/pickle_files/aisle_info.p', 'rb'))\n",
    "department_info = pickle.load(open('data/pickle_files/department_info.p', 'rb'))"
   ]
  },
  {
   "cell_type": "code",
   "execution_count": null,
   "metadata": {
    "collapsed": true
   },
   "outputs": [],
   "source": [
    "train_users = orders[orders.eval_set == 'train'].user_id"
   ]
  },
  {
   "cell_type": "code",
   "execution_count": 63,
   "metadata": {
    "collapsed": true
   },
   "outputs": [],
   "source": [
    "train_df = pd.merge(user_product_info[user_product_info.user_id.isin(train_users)], user_info, on = 'user_id', how = 'left')"
   ]
  },
  {
   "cell_type": "code",
   "execution_count": 64,
   "metadata": {
    "collapsed": true
   },
   "outputs": [],
   "source": [
    "train_df = pd.merge(train_df, product_info, on = 'product_id', how = 'left')"
   ]
  },
  {
   "cell_type": "code",
   "execution_count": 65,
   "metadata": {
    "collapsed": true
   },
   "outputs": [],
   "source": [
    "train_df = pd.merge(train_df, aisle_info, on = 'aisle_id', how = 'left', suffixes=('', '_y'))"
   ]
  },
  {
   "cell_type": "code",
   "execution_count": 66,
   "metadata": {
    "collapsed": true
   },
   "outputs": [],
   "source": [
    "train_df = pd.merge(train_df, department_info, on = 'department_id', how = 'left', suffixes=('', '_y'))"
   ]
  },
  {
   "cell_type": "code",
   "execution_count": 67,
   "metadata": {
    "collapsed": true
   },
   "outputs": [],
   "source": [
    "train_df = pd.merge(train_df, orders[orders.eval_set == 'train'], on='user_id', how = 'left')"
   ]
  },
  {
   "cell_type": "code",
   "execution_count": 68,
   "metadata": {
    "collapsed": true
   },
   "outputs": [],
   "source": [
    "train_df = pd.merge(train_df, order_product_train, on =['order_id', 'product_id'], how = 'left')"
   ]
  },
  {
   "cell_type": "code",
   "execution_count": 69,
   "metadata": {},
   "outputs": [
    {
     "data": {
      "text/html": [
       "<div>\n",
       "<style>\n",
       "    .dataframe thead tr:only-child th {\n",
       "        text-align: right;\n",
       "    }\n",
       "\n",
       "    .dataframe thead th {\n",
       "        text-align: left;\n",
       "    }\n",
       "\n",
       "    .dataframe tbody tr th {\n",
       "        vertical-align: top;\n",
       "    }\n",
       "</style>\n",
       "<table border=\"1\" class=\"dataframe\">\n",
       "  <thead>\n",
       "    <tr style=\"text-align: right;\">\n",
       "      <th></th>\n",
       "      <th>user_id</th>\n",
       "      <th>product_id</th>\n",
       "      <th>user_product_order_num</th>\n",
       "      <th>user_product_last_purchase_day</th>\n",
       "      <th>user_product_order_interval_mean</th>\n",
       "      <th>user_product_order_interval_std</th>\n",
       "      <th>user_product_rank</th>\n",
       "      <th>user_product_add_order_mean</th>\n",
       "      <th>user_product_add_order_std</th>\n",
       "      <th>user_product_reorder_ratio</th>\n",
       "      <th>...</th>\n",
       "      <th>department_product_add_to_cart_order_std</th>\n",
       "      <th>department</th>\n",
       "      <th>order_id</th>\n",
       "      <th>eval_set</th>\n",
       "      <th>order_number</th>\n",
       "      <th>order_dow</th>\n",
       "      <th>order_hour_of_day</th>\n",
       "      <th>days_since_prior_order</th>\n",
       "      <th>add_to_cart_order</th>\n",
       "      <th>reordered</th>\n",
       "    </tr>\n",
       "  </thead>\n",
       "  <tbody>\n",
       "    <tr>\n",
       "      <th>0</th>\n",
       "      <td>1</td>\n",
       "      <td>196</td>\n",
       "      <td>10</td>\n",
       "      <td>176</td>\n",
       "      <td>19.555555</td>\n",
       "      <td>9.395625</td>\n",
       "      <td>1.5</td>\n",
       "      <td>1.400000</td>\n",
       "      <td>0.966092</td>\n",
       "      <td>1.0</td>\n",
       "      <td>...</td>\n",
       "      <td>2.369946</td>\n",
       "      <td>beverages</td>\n",
       "      <td>1187899</td>\n",
       "      <td>train</td>\n",
       "      <td>11</td>\n",
       "      <td>4</td>\n",
       "      <td>8</td>\n",
       "      <td>14.0</td>\n",
       "      <td>1.0</td>\n",
       "      <td>1.0</td>\n",
       "    </tr>\n",
       "    <tr>\n",
       "      <th>1</th>\n",
       "      <td>1</td>\n",
       "      <td>10258</td>\n",
       "      <td>9</td>\n",
       "      <td>176</td>\n",
       "      <td>20.125000</td>\n",
       "      <td>9.876922</td>\n",
       "      <td>3.0</td>\n",
       "      <td>3.333333</td>\n",
       "      <td>1.322876</td>\n",
       "      <td>0.9</td>\n",
       "      <td>...</td>\n",
       "      <td>2.467903</td>\n",
       "      <td>snacks</td>\n",
       "      <td>1187899</td>\n",
       "      <td>train</td>\n",
       "      <td>11</td>\n",
       "      <td>4</td>\n",
       "      <td>8</td>\n",
       "      <td>14.0</td>\n",
       "      <td>6.0</td>\n",
       "      <td>1.0</td>\n",
       "    </tr>\n",
       "    <tr>\n",
       "      <th>2</th>\n",
       "      <td>1</td>\n",
       "      <td>10326</td>\n",
       "      <td>1</td>\n",
       "      <td>93</td>\n",
       "      <td>42.677544</td>\n",
       "      <td>25.335363</td>\n",
       "      <td>14.5</td>\n",
       "      <td>5.000000</td>\n",
       "      <td>4.219923</td>\n",
       "      <td>0.1</td>\n",
       "      <td>...</td>\n",
       "      <td>1.801582</td>\n",
       "      <td>produce</td>\n",
       "      <td>1187899</td>\n",
       "      <td>train</td>\n",
       "      <td>11</td>\n",
       "      <td>4</td>\n",
       "      <td>8</td>\n",
       "      <td>14.0</td>\n",
       "      <td>NaN</td>\n",
       "      <td>NaN</td>\n",
       "    </tr>\n",
       "    <tr>\n",
       "      <th>3</th>\n",
       "      <td>1</td>\n",
       "      <td>12427</td>\n",
       "      <td>10</td>\n",
       "      <td>176</td>\n",
       "      <td>19.555555</td>\n",
       "      <td>9.395625</td>\n",
       "      <td>1.5</td>\n",
       "      <td>3.300000</td>\n",
       "      <td>2.406011</td>\n",
       "      <td>1.0</td>\n",
       "      <td>...</td>\n",
       "      <td>2.467903</td>\n",
       "      <td>snacks</td>\n",
       "      <td>1187899</td>\n",
       "      <td>train</td>\n",
       "      <td>11</td>\n",
       "      <td>4</td>\n",
       "      <td>8</td>\n",
       "      <td>14.0</td>\n",
       "      <td>NaN</td>\n",
       "      <td>NaN</td>\n",
       "    </tr>\n",
       "    <tr>\n",
       "      <th>4</th>\n",
       "      <td>1</td>\n",
       "      <td>13032</td>\n",
       "      <td>3</td>\n",
       "      <td>176</td>\n",
       "      <td>80.500000</td>\n",
       "      <td>51.618793</td>\n",
       "      <td>5.5</td>\n",
       "      <td>6.333333</td>\n",
       "      <td>1.527525</td>\n",
       "      <td>0.3</td>\n",
       "      <td>...</td>\n",
       "      <td>2.065538</td>\n",
       "      <td>breakfast</td>\n",
       "      <td>1187899</td>\n",
       "      <td>train</td>\n",
       "      <td>11</td>\n",
       "      <td>4</td>\n",
       "      <td>8</td>\n",
       "      <td>14.0</td>\n",
       "      <td>7.0</td>\n",
       "      <td>1.0</td>\n",
       "    </tr>\n",
       "  </tbody>\n",
       "</table>\n",
       "<p>5 rows × 65 columns</p>\n",
       "</div>"
      ],
      "text/plain": [
       "   user_id  product_id  user_product_order_num  \\\n",
       "0        1         196                      10   \n",
       "1        1       10258                       9   \n",
       "2        1       10326                       1   \n",
       "3        1       12427                      10   \n",
       "4        1       13032                       3   \n",
       "\n",
       "   user_product_last_purchase_day  user_product_order_interval_mean  \\\n",
       "0                             176                         19.555555   \n",
       "1                             176                         20.125000   \n",
       "2                              93                         42.677544   \n",
       "3                             176                         19.555555   \n",
       "4                             176                         80.500000   \n",
       "\n",
       "   user_product_order_interval_std  user_product_rank  \\\n",
       "0                         9.395625                1.5   \n",
       "1                         9.876922                3.0   \n",
       "2                        25.335363               14.5   \n",
       "3                         9.395625                1.5   \n",
       "4                        51.618793                5.5   \n",
       "\n",
       "   user_product_add_order_mean  user_product_add_order_std  \\\n",
       "0                     1.400000                    0.966092   \n",
       "1                     3.333333                    1.322876   \n",
       "2                     5.000000                    4.219923   \n",
       "3                     3.300000                    2.406011   \n",
       "4                     6.333333                    1.527525   \n",
       "\n",
       "   user_product_reorder_ratio    ...      \\\n",
       "0                         1.0    ...       \n",
       "1                         0.9    ...       \n",
       "2                         0.1    ...       \n",
       "3                         1.0    ...       \n",
       "4                         0.3    ...       \n",
       "\n",
       "   department_product_add_to_cart_order_std  department  order_id  eval_set  \\\n",
       "0                                  2.369946   beverages   1187899     train   \n",
       "1                                  2.467903      snacks   1187899     train   \n",
       "2                                  1.801582     produce   1187899     train   \n",
       "3                                  2.467903      snacks   1187899     train   \n",
       "4                                  2.065538   breakfast   1187899     train   \n",
       "\n",
       "   order_number  order_dow  order_hour_of_day  days_since_prior_order  \\\n",
       "0            11          4                  8                    14.0   \n",
       "1            11          4                  8                    14.0   \n",
       "2            11          4                  8                    14.0   \n",
       "3            11          4                  8                    14.0   \n",
       "4            11          4                  8                    14.0   \n",
       "\n",
       "   add_to_cart_order  reordered  \n",
       "0                1.0        1.0  \n",
       "1                6.0        1.0  \n",
       "2                NaN        NaN  \n",
       "3                NaN        NaN  \n",
       "4                7.0        1.0  \n",
       "\n",
       "[5 rows x 65 columns]"
      ]
     },
     "execution_count": 69,
     "metadata": {},
     "output_type": "execute_result"
    }
   ],
   "source": [
    "train_df.head()"
   ]
  },
  {
   "cell_type": "code",
   "execution_count": 70,
   "metadata": {
    "collapsed": true
   },
   "outputs": [],
   "source": [
    "train_df.reordered.fillna(0, inplace = True)"
   ]
  },
  {
   "cell_type": "code",
   "execution_count": 71,
   "metadata": {
    "collapsed": true
   },
   "outputs": [],
   "source": [
    "train_df.rename(columns = {'reordered': 'y'}, inplace = True)"
   ]
  },
  {
   "cell_type": "code",
   "execution_count": 72,
   "metadata": {
    "collapsed": true
   },
   "outputs": [],
   "source": [
    "hour_bins = [-1,2,6,10,14,18,22,25]\n",
    "hour_gourp_names = ['22-2', '3-6', '7-10', '11-14', '15-18', '19-22', '22-2']\n",
    "train_df['order_hour_group'] = pd.cut(train_df.order_hour_of_day, bins = hour_bins, labels=hour_gourp_names)"
   ]
  },
  {
   "cell_type": "code",
   "execution_count": 73,
   "metadata": {},
   "outputs": [
    {
     "data": {
      "text/html": [
       "<div>\n",
       "<style>\n",
       "    .dataframe thead tr:only-child th {\n",
       "        text-align: right;\n",
       "    }\n",
       "\n",
       "    .dataframe thead th {\n",
       "        text-align: left;\n",
       "    }\n",
       "\n",
       "    .dataframe tbody tr th {\n",
       "        vertical-align: top;\n",
       "    }\n",
       "</style>\n",
       "<table border=\"1\" class=\"dataframe\">\n",
       "  <thead>\n",
       "    <tr style=\"text-align: right;\">\n",
       "      <th></th>\n",
       "      <th>order_dow</th>\n",
       "      <th>order_hour_group</th>\n",
       "      <th>ordertime_order_num</th>\n",
       "    </tr>\n",
       "  </thead>\n",
       "  <tbody>\n",
       "    <tr>\n",
       "      <th>0</th>\n",
       "      <td>0</td>\n",
       "      <td>11-14</td>\n",
       "      <td>195567</td>\n",
       "    </tr>\n",
       "    <tr>\n",
       "      <th>1</th>\n",
       "      <td>0</td>\n",
       "      <td>15-18</td>\n",
       "      <td>160171</td>\n",
       "    </tr>\n",
       "    <tr>\n",
       "      <th>2</th>\n",
       "      <td>0</td>\n",
       "      <td>19-22</td>\n",
       "      <td>61821</td>\n",
       "    </tr>\n",
       "    <tr>\n",
       "      <th>3</th>\n",
       "      <td>0</td>\n",
       "      <td>22-2</td>\n",
       "      <td>13619</td>\n",
       "    </tr>\n",
       "    <tr>\n",
       "      <th>4</th>\n",
       "      <td>0</td>\n",
       "      <td>3-6</td>\n",
       "      <td>5852</td>\n",
       "    </tr>\n",
       "  </tbody>\n",
       "</table>\n",
       "</div>"
      ],
      "text/plain": [
       "   order_dow order_hour_group  ordertime_order_num\n",
       "0          0            11-14               195567\n",
       "1          0            15-18               160171\n",
       "2          0            19-22                61821\n",
       "3          0             22-2                13619\n",
       "4          0              3-6                 5852"
      ]
     },
     "execution_count": 73,
     "metadata": {},
     "output_type": "execute_result"
    }
   ],
   "source": [
    "ordertime_info.head()"
   ]
  },
  {
   "cell_type": "code",
   "execution_count": 74,
   "metadata": {
    "collapsed": true
   },
   "outputs": [],
   "source": [
    "train_df = pd.merge(train_df, ordertime_info, on = ['order_dow', 'order_hour_group'], how = 'left')"
   ]
  },
  {
   "cell_type": "code",
   "execution_count": 172,
   "metadata": {},
   "outputs": [
    {
     "data": {
      "text/plain": [
       "Index(['user_id', 'product_id', 'user_product_order_num',\n",
       "       'user_product_last_purchase_day', 'user_product_order_interval_mean',\n",
       "       'user_product_order_interval_std', 'user_product_rank',\n",
       "       'user_product_add_order_mean', 'user_product_add_order_std',\n",
       "       'user_product_reorder_ratio', 'user_product_order_interval_mean_NaN',\n",
       "       'user_product_order_interval_std_NaN', 'user_product_add_order_std_NaN',\n",
       "       'user_order_num', 'user_order_interval_mean', 'user_order_interval_std',\n",
       "       'user_basket_size_mean', 'user_basket_size_std', 'user_history',\n",
       "       'product_user_num', 'product_order_num', 'product_order_interval_mean',\n",
       "       'product_order_interval_std', 'product_reorder_num',\n",
       "       'product_reorder_user_num', 'product_reorder_ratio',\n",
       "       'product_reorder_user_ratio', 'product_add_to_cart_order_mean',\n",
       "       'product_add_to_cart_order_std', 'product_name', 'aisle_id',\n",
       "       'department_id', 'product_order_interval_mean_NaN',\n",
       "       'product_order_interval_std_NaN', 'product_add_to_cart_order_std_NaN',\n",
       "       'aisle_user_num', 'aisle_order_num', 'aisle_order_interval_mean',\n",
       "       'aisle_order_interval_std', 'aisle_reorder_num',\n",
       "       'aisle_reorder_user_num', 'aisle_reorder_ratio',\n",
       "       'aisle_reorder_user_ratio', 'aisle_product_add_to_cart_order_mean',\n",
       "       'aisle_product_add_to_cart_order_std', 'aisle', 'department_user_num',\n",
       "       'department_order_num', 'department_order_interval_mean',\n",
       "       'department_order_interval_std', 'department_reorder_num',\n",
       "       'department_reorder_user_num', 'department_reorder_ratio',\n",
       "       'department_reorder_user_ratio',\n",
       "       'department_product_add_to_cart_order_mean',\n",
       "       'department_product_add_to_cart_order_std', 'department', 'order_id',\n",
       "       'eval_set', 'order_number', 'order_dow', 'order_hour_of_day',\n",
       "       'days_since_prior_order', 'add_to_cart_order', 'y', 'order_hour_group',\n",
       "       'ordertime_order_num', 'user_ordertime_order_num',\n",
       "       'product_ordertime_order_num', '11-14', '15-18', '19-22', '22-2', '3-6',\n",
       "       '7-10', 'order_dow_0', 'order_dow_1', 'order_dow_2', 'order_dow_3',\n",
       "       'order_dow_4', 'order_dow_5', 'order_dow_6'],\n",
       "      dtype='object')"
      ]
     },
     "execution_count": 172,
     "metadata": {},
     "output_type": "execute_result"
    }
   ],
   "source": [
    "train_df.columns"
   ]
  },
  {
   "cell_type": "code",
   "execution_count": 75,
   "metadata": {},
   "outputs": [
    {
     "data": {
      "text/html": [
       "<div>\n",
       "<style>\n",
       "    .dataframe thead tr:only-child th {\n",
       "        text-align: right;\n",
       "    }\n",
       "\n",
       "    .dataframe thead th {\n",
       "        text-align: left;\n",
       "    }\n",
       "\n",
       "    .dataframe tbody tr th {\n",
       "        vertical-align: top;\n",
       "    }\n",
       "</style>\n",
       "<table border=\"1\" class=\"dataframe\">\n",
       "  <thead>\n",
       "    <tr style=\"text-align: right;\">\n",
       "      <th></th>\n",
       "      <th>user_id</th>\n",
       "      <th>order_dow</th>\n",
       "      <th>order_hour_group</th>\n",
       "      <th>user_ordertime_order_num</th>\n",
       "    </tr>\n",
       "  </thead>\n",
       "  <tbody>\n",
       "    <tr>\n",
       "      <th>0</th>\n",
       "      <td>1</td>\n",
       "      <td>1</td>\n",
       "      <td>11-14</td>\n",
       "      <td>1</td>\n",
       "    </tr>\n",
       "    <tr>\n",
       "      <th>1</th>\n",
       "      <td>1</td>\n",
       "      <td>1</td>\n",
       "      <td>15-18</td>\n",
       "      <td>1</td>\n",
       "    </tr>\n",
       "    <tr>\n",
       "      <th>2</th>\n",
       "      <td>1</td>\n",
       "      <td>1</td>\n",
       "      <td>7-10</td>\n",
       "      <td>1</td>\n",
       "    </tr>\n",
       "    <tr>\n",
       "      <th>3</th>\n",
       "      <td>1</td>\n",
       "      <td>2</td>\n",
       "      <td>7-10</td>\n",
       "      <td>2</td>\n",
       "    </tr>\n",
       "    <tr>\n",
       "      <th>4</th>\n",
       "      <td>1</td>\n",
       "      <td>3</td>\n",
       "      <td>11-14</td>\n",
       "      <td>1</td>\n",
       "    </tr>\n",
       "  </tbody>\n",
       "</table>\n",
       "</div>"
      ],
      "text/plain": [
       "   user_id  order_dow order_hour_group  user_ordertime_order_num\n",
       "0        1          1            11-14                         1\n",
       "1        1          1            15-18                         1\n",
       "2        1          1             7-10                         1\n",
       "3        1          2             7-10                         2\n",
       "4        1          3            11-14                         1"
      ]
     },
     "execution_count": 75,
     "metadata": {},
     "output_type": "execute_result"
    }
   ],
   "source": [
    "user_ordertime_info.head()"
   ]
  },
  {
   "cell_type": "code",
   "execution_count": 76,
   "metadata": {
    "collapsed": true
   },
   "outputs": [],
   "source": [
    "train_df = pd.merge(train_df, user_ordertime_info, on = ['user_id', 'order_dow', 'order_hour_group'], how = 'left')"
   ]
  },
  {
   "cell_type": "code",
   "execution_count": 77,
   "metadata": {
    "collapsed": true
   },
   "outputs": [],
   "source": [
    "train_df = pd.merge(train_df, product_ordertime_info, on = ['product_id', 'order_dow', 'order_hour_group'], how = 'left')"
   ]
  },
  {
   "cell_type": "code",
   "execution_count": 79,
   "metadata": {
    "collapsed": true
   },
   "outputs": [],
   "source": [
    "train_df['user_ordertime_order_num'].fillna(0, inplace = True)\n",
    "train_df['product_ordertime_order_num'].fillna(0, inplace = True)"
   ]
  },
  {
   "cell_type": "code",
   "execution_count": 89,
   "metadata": {
    "collapsed": true
   },
   "outputs": [],
   "source": [
    "train_df = pd.concat([train_df, pd.get_dummies(train_df['order_hour_group'])], axis = 1)"
   ]
  },
  {
   "cell_type": "code",
   "execution_count": 90,
   "metadata": {
    "collapsed": true
   },
   "outputs": [],
   "source": [
    "train_df = pd.concat([train_df, pd.get_dummies(train_df['order_dow'], prefix='order_dow')], axis = 1)"
   ]
  },
  {
   "cell_type": "code",
   "execution_count": 93,
   "metadata": {
    "collapsed": true
   },
   "outputs": [],
   "source": [
    "info_columns = ['user_id', 'product_id', 'product_name', 'aisle_id', 'department_id', 'aisle', 'department', 'order_id', 'eval_set', 'add_to_cart_order', 'y', 'order_hour_group', 'order_dow', 'order_hour_of_day']"
   ]
  },
  {
   "cell_type": "code",
   "execution_count": 94,
   "metadata": {
    "collapsed": true
   },
   "outputs": [],
   "source": [
    "X = train_df.drop(info_columns, axis = 1)"
   ]
  },
  {
   "cell_type": "code",
   "execution_count": 95,
   "metadata": {
    "collapsed": true
   },
   "outputs": [],
   "source": [
    "y = train_df.y"
   ]
  },
  {
   "cell_type": "markdown",
   "metadata": {},
   "source": [
    "## Models!"
   ]
  },
  {
   "cell_type": "markdown",
   "metadata": {},
   "source": [
    "### Feature Importance"
   ]
  },
  {
   "cell_type": "code",
   "execution_count": 60,
   "metadata": {
    "collapsed": true
   },
   "outputs": [],
   "source": [
    "import numpy as np\n",
    "import pandas as pd\n",
    "import matplotlib.pyplot as plt\n",
    "import pickle\n",
    "import random\n",
    "\n",
    "%matplotlib inline "
   ]
  },
  {
   "cell_type": "code",
   "execution_count": 2,
   "metadata": {
    "collapsed": true
   },
   "outputs": [],
   "source": [
    "pd.set_option('display.max_rows', 100)\n",
    "pd.set_option('display.max_columns', 100)"
   ]
  },
  {
   "cell_type": "code",
   "execution_count": 99,
   "metadata": {
    "collapsed": true
   },
   "outputs": [],
   "source": [
    "from sklearn.neighbors import KNeighborsClassifier\n",
    "from sklearn.model_selection import train_test_split, cross_val_score, learning_curve, KFold, GridSearchCV, GroupKFold\n",
    "from sklearn.linear_model import LogisticRegression\n",
    "from sklearn.naive_bayes import GaussianNB\n",
    "from sklearn.svm import SVC\n",
    "from sklearn.tree import DecisionTreeClassifier\n",
    "from sklearn.ensemble import RandomForestClassifier\n",
    "from sklearn.preprocessing import MinMaxScaler\n",
    "from sklearn.neighbors import KNeighborsClassifier\n",
    "from sklearn.metrics import roc_curve,auc,accuracy_score,recall_score,precision_score,f1_score\n",
    "from xgboost import XGBClassifier"
   ]
  },
  {
   "cell_type": "code",
   "execution_count": 100,
   "metadata": {
    "collapsed": true
   },
   "outputs": [],
   "source": [
    "#xgb_model = XGBClassifier(learning_rate=0.1, max_depth=6, n_estimators=80, gamma=0, min_child_weight=3, subsample=1, nthread=-1)"
   ]
  },
  {
   "cell_type": "code",
   "execution_count": 101,
   "metadata": {
    "collapsed": true
   },
   "outputs": [],
   "source": [
    "#xgb_model_fit = xgb_model.fit(X,y)"
   ]
  },
  {
   "cell_type": "code",
   "execution_count": 102,
   "metadata": {},
   "outputs": [
    {
     "data": {
      "text/plain": [
       "(68,)"
      ]
     },
     "execution_count": 102,
     "metadata": {},
     "output_type": "execute_result"
    }
   ],
   "source": [
    "X.columns.shape"
   ]
  },
  {
   "cell_type": "code",
   "execution_count": 103,
   "metadata": {},
   "outputs": [
    {
     "data": {
      "text/plain": [
       "(68,)"
      ]
     },
     "execution_count": 103,
     "metadata": {},
     "output_type": "execute_result"
    }
   ],
   "source": [
    "xgb_model_fit.feature_importances_.shape"
   ]
  },
  {
   "cell_type": "code",
   "execution_count": 104,
   "metadata": {},
   "outputs": [
    {
     "data": {
      "text/plain": [
       "array([ 0.03203342,  0.19498608,  0.05949065,  0.01313172,  0.0206924 ,\n",
       "        0.01233585,  0.00119379,  0.07879029,  0.        ,  0.        ,\n",
       "        0.        ,  0.0252686 ,  0.01830482,  0.01193792,  0.01730999,\n",
       "        0.00815758,  0.13270991,  0.02268205,  0.00417827,  0.04019101,\n",
       "        0.00577   ,  0.01333068,  0.01452447,  0.02686033,  0.05789892,\n",
       "        0.01014723,  0.00298448,  0.00019897,  0.        ,  0.        ,\n",
       "        0.00318345,  0.00119379,  0.00736172,  0.00417827,  0.00099483,\n",
       "        0.00019897,  0.00318345,  0.00179069,  0.00278552,  0.00238758,\n",
       "        0.00278552,  0.00019897,  0.00378034,  0.00039793,  0.        ,\n",
       "        0.        ,  0.0005969 ,  0.0005969 ,  0.00298448,  0.00218862,\n",
       "        0.        ,  0.10664544,  0.00537207,  0.00855551,  0.00676482,\n",
       "        0.00039793,  0.00039793,  0.00019897,  0.00079586,  0.        ,\n",
       "        0.00119379,  0.00238758,  0.        ,  0.00019897,  0.        ,\n",
       "        0.0005969 ,  0.00019897,  0.00039793], dtype=float32)"
      ]
     },
     "execution_count": 104,
     "metadata": {},
     "output_type": "execute_result"
    }
   ],
   "source": [
    "#xgb_model_fit.feature_importances_"
   ]
  },
  {
   "cell_type": "code",
   "execution_count": 105,
   "metadata": {},
   "outputs": [
    {
     "data": {
      "image/png": "[encoded data removed]",
      "text/plain": [
       "<matplotlib.figure.Figure at 0x1171ef7b8>"
      ]
     },
     "metadata": {},
     "output_type": "display_data"
    }
   ],
   "source": [
    "#print(xgb_model_fit.feature_importances_)\n",
    "\n",
    "plt.bar(range(len(xgb_model_fit.feature_importances_)), xgb_model_fit.feature_importances_)\n",
    "plt.show();"
   ]
  },
  {
   "cell_type": "code",
   "execution_count": 108,
   "metadata": {
    "collapsed": true
   },
   "outputs": [],
   "source": [
    "feature_importance = pd.DataFrame(columns = ['feature', 'importance'])\n",
    "for index, importance in enumerate(xgb_model_fit.feature_importances_):\n",
    "    feature_importance.loc[index] = [X.columns[index], importance]\n",
    "feature_importance.sort_values('importance', inplace = True, ascending = False)\n",
    "feature_importance.reset_index(drop = True, inplace = True)"
   ]
  },
  {
   "cell_type": "code",
   "execution_count": 110,
   "metadata": {},
   "outputs": [
    {
     "data": {
      "text/html": [
       "<div>\n",
       "<style>\n",
       "    .dataframe thead tr:only-child th {\n",
       "        text-align: right;\n",
       "    }\n",
       "\n",
       "    .dataframe thead th {\n",
       "        text-align: left;\n",
       "    }\n",
       "\n",
       "    .dataframe tbody tr th {\n",
       "        vertical-align: top;\n",
       "    }\n",
       "</style>\n",
       "<table border=\"1\" class=\"dataframe\">\n",
       "  <thead>\n",
       "    <tr style=\"text-align: right;\">\n",
       "      <th></th>\n",
       "      <th>feature</th>\n",
       "      <th>importance</th>\n",
       "    </tr>\n",
       "  </thead>\n",
       "  <tbody>\n",
       "    <tr>\n",
       "      <th>0</th>\n",
       "      <td>user_product_last_purchase_day</td>\n",
       "      <td>0.194986</td>\n",
       "    </tr>\n",
       "    <tr>\n",
       "      <th>1</th>\n",
       "      <td>user_history</td>\n",
       "      <td>0.132710</td>\n",
       "    </tr>\n",
       "    <tr>\n",
       "      <th>2</th>\n",
       "      <td>days_since_prior_order</td>\n",
       "      <td>0.106645</td>\n",
       "    </tr>\n",
       "    <tr>\n",
       "      <th>3</th>\n",
       "      <td>user_product_reorder_ratio</td>\n",
       "      <td>0.078790</td>\n",
       "    </tr>\n",
       "    <tr>\n",
       "      <th>4</th>\n",
       "      <td>user_product_order_interval_mean</td>\n",
       "      <td>0.059491</td>\n",
       "    </tr>\n",
       "  </tbody>\n",
       "</table>\n",
       "</div>"
      ],
      "text/plain": [
       "                            feature  importance\n",
       "0    user_product_last_purchase_day    0.194986\n",
       "1                      user_history    0.132710\n",
       "2            days_since_prior_order    0.106645\n",
       "3        user_product_reorder_ratio    0.078790\n",
       "4  user_product_order_interval_mean    0.059491"
      ]
     },
     "execution_count": 110,
     "metadata": {},
     "output_type": "execute_result"
    }
   ],
   "source": [
    "feature_importance.head()"
   ]
  },
  {
   "cell_type": "code",
   "execution_count": 111,
   "metadata": {
    "collapsed": true
   },
   "outputs": [],
   "source": [
    "featuredf = feature_importance.iloc[:3,:].sort_values('importance', ascending = True)"
   ]
  },
  {
   "cell_type": "code",
   "execution_count": 112,
   "metadata": {
    "collapsed": true
   },
   "outputs": [],
   "source": [
    "import matplotlib"
   ]
  },
  {
   "cell_type": "code",
   "execution_count": 113,
   "metadata": {},
   "outputs": [
    {
     "data": {
      "image/png": "[encoded data removed]",
      "text/plain": [
       "<matplotlib.figure.Figure at 0x13a9a1860>"
      ]
     },
     "metadata": {},
     "output_type": "display_data"
    }
   ],
   "source": [
    "matplotlib.rcParams.update({'font.size': 16})\n",
    "objects = (featuredf.feature[:3])\n",
    "y_pos = np.arange(len(objects))\n",
    "performance = featuredf.importance[:3]\n",
    " \n",
    "plt.barh(y_pos, performance, align='center', alpha=0.5)\n",
    "plt.yticks(y_pos, objects)\n",
    "plt.xlabel('Importance')\n",
    "plt.title('Top 3 Important Features')\n",
    " \n",
    "plt.show()"
   ]
  },
  {
   "cell_type": "code",
   "execution_count": 152,
   "metadata": {
    "collapsed": true
   },
   "outputs": [],
   "source": [
    "import copy\n",
    "result_df = copy.deepcopy(train_df )\n",
    "result_df['XGB_pred_prob'] = xgb_model_fit.predict_proba(X)[:, 1:]"
   ]
  },
  {
   "cell_type": "code",
   "execution_count": 143,
   "metadata": {},
   "outputs": [
    {
     "data": {
      "text/plain": [
       "(8474661, 83)"
      ]
     },
     "execution_count": 143,
     "metadata": {},
     "output_type": "execute_result"
    }
   ],
   "source": [
    "result_df.shape"
   ]
  },
  {
   "cell_type": "code",
   "execution_count": 148,
   "metadata": {
    "collapsed": true
   },
   "outputs": [],
   "source": [
    "bins = [0, 0.2, 1]\n",
    "group_names = [0, 1]\n",
    "result_df['XGB_pred_y'] = pd.cut(result_df['XGB_pred_prob'], bins, labels=group_names)"
   ]
  },
  {
   "cell_type": "code",
   "execution_count": 151,
   "metadata": {},
   "outputs": [
    {
     "data": {
      "text/plain": [
       "0.3764929269287516"
      ]
     },
     "execution_count": 151,
     "metadata": {},
     "output_type": "execute_result"
    }
   ],
   "source": [
    "new_f1_score(result_df)"
   ]
  },
  {
   "cell_type": "markdown",
   "metadata": {},
   "source": [
    "### Tuning Parameters"
   ]
  },
  {
   "cell_type": "code",
   "execution_count": 1,
   "metadata": {
    "collapsed": true
   },
   "outputs": [],
   "source": [
    "def get():\n",
    "    return 1,2"
   ]
  },
  {
   "cell_type": "code",
   "execution_count": 5,
   "metadata": {
    "collapsed": true
   },
   "outputs": [],
   "source": [
    "a = get()"
   ]
  },
  {
   "cell_type": "code",
   "execution_count": 6,
   "metadata": {},
   "outputs": [
    {
     "data": {
      "text/plain": [
       "(1, 2)"
      ]
     },
     "execution_count": 6,
     "metadata": {},
     "output_type": "execute_result"
    }
   ],
   "source": [
    "a"
   ]
  },
  {
   "cell_type": "code",
   "execution_count": 206,
   "metadata": {
    "collapsed": true
   },
   "outputs": [],
   "source": [
    "random.seed(808)\n",
    "random_users = random.sample(set(train_df.user_id), 1000)"
   ]
  },
  {
   "cell_type": "code",
   "execution_count": 207,
   "metadata": {
    "collapsed": true
   },
   "outputs": [],
   "source": [
    "sample_train_df = train_df[train_df.user_id.isin(random_users)]"
   ]
  },
  {
   "cell_type": "code",
   "execution_count": 208,
   "metadata": {},
   "outputs": [
    {
     "data": {
      "text/plain": [
       "(63544, 82)"
      ]
     },
     "execution_count": 208,
     "metadata": {},
     "output_type": "execute_result"
    }
   ],
   "source": [
    "sample_train_df.shape"
   ]
  },
  {
   "cell_type": "code",
   "execution_count": 198,
   "metadata": {
    "collapsed": true
   },
   "outputs": [],
   "source": [
    "def new_f1_score(df):\n",
    "    TNdf = pd.DataFrame(df[(df.y == 0) & (df.XGB_pred_y == 0)].groupby('user_id')['product_id'].nunique())\n",
    "    TNdf.rename(columns = {'product_id': 'TN'}, inplace = True)\n",
    "    TNdf.reset_index(inplace = True)\n",
    "    \n",
    "    TPdf = pd.DataFrame(df[(df.y == 1) & (df.XGB_pred_y == 1)].groupby('user_id')['product_id'].nunique())\n",
    "    TPdf.rename(columns = {'product_id': 'TP'}, inplace = True)\n",
    "    TPdf.reset_index(inplace = True)\n",
    "    \n",
    "    FNdf = pd.DataFrame(df[(df.y == 1) & (df.XGB_pred_y == 0)].groupby('user_id')['product_id'].nunique())\n",
    "    FNdf.rename(columns = {'product_id': 'FN'}, inplace = True)\n",
    "    FNdf.reset_index(inplace = True)\n",
    "    \n",
    "    FPdf = pd.DataFrame(df[(df.y == 0) & (df.XGB_pred_y == 1)].groupby('user_id')['product_id'].nunique())\n",
    "    FPdf.rename(columns = {'product_id': 'FP'}, inplace = True)\n",
    "    FPdf.reset_index(inplace = True)\n",
    "    \n",
    "    matrix_df = pd.merge(TNdf, TPdf, on = 'user_id', how = 'outer')\n",
    "    matrix_df = pd.merge(matrix_df, FNdf, on = 'user_id', how = 'outer')\n",
    "    matrix_df = pd.merge(matrix_df, FPdf, on = 'user_id', how = 'outer')\n",
    "    \n",
    "    matrix_df.fillna(0, inplace = True)\n",
    "    matrix_df['precision'] = matrix_df.TP / (matrix_df.FP + matrix_df.TP)\n",
    "    matrix_df['recall'] = matrix_df.TP / (matrix_df.FN + matrix_df.TP)\n",
    "    matrix_df['f1'] = 2*matrix_df.TP / (2*matrix_df.TP+matrix_df.FP+matrix_df.FN)\n",
    "    matrix_df.fillna(1, inplace = True)\n",
    "    return matrix_df.f1.mean()"
   ]
  },
  {
   "cell_type": "code",
   "execution_count": 199,
   "metadata": {
    "collapsed": true
   },
   "outputs": [],
   "source": [
    "def man_cross_val(masterdf, learning_rate=0.2, max_depth=6, n_estimators=100, gamma=0, min_child_weight=1, subsample=1, threshold=0.2):\n",
    "    info_columns = ['user_id', 'product_id', 'product_name', 'aisle_id', 'department_id', 'aisle', 'department', 'order_id', 'eval_set', 'add_to_cart_order', 'y', 'order_hour_group', 'order_dow', 'order_hour_of_day']\n",
    "    X = masterdf.drop(info_columns, axis = 1)\n",
    "    y = masterdf.y\n",
    "    kf = GroupKFold(n_splits=5)\n",
    "    final_df = pd.DataFrame()\n",
    "    for i, (train_index, test_index) in enumerate(kf.split(masterdf, groups=masterdf['user_id'].values)):\n",
    "        xgb_model = XGBClassifier(learning_rate=learning_rate, max_depth=max_depth, n_estimators=n_estimators, gamma=gamma, min_child_weight=min_child_weight, subsample=subsample)\n",
    "        xgb_fit = xgb_model.fit(X.iloc[train_index], y.iloc[train_index])\n",
    "        result = xgb_fit.predict_proba(X.iloc[test_index])\n",
    "        new_df = masterdf.iloc[test_index][['y', 'user_id', 'product_id']]\n",
    "        new_df['True'] = result[:, 1:]\n",
    "        new_df['set'] = i\n",
    "        final_df = pd.concat([final_df, new_df])\n",
    "    return final_df"
   ]
  },
  {
   "cell_type": "code",
   "execution_count": 200,
   "metadata": {
    "collapsed": true
   },
   "outputs": [],
   "source": [
    "def optimize_threshold(result_df, threshold_list=[0.2]):\n",
    "    threshold_opt = 0.2\n",
    "    max_score = 0\n",
    "    for threshold in threshold_list:\n",
    "        scores = []\n",
    "        bins = [0, threshold, 1]\n",
    "        group_names = [0, 1]\n",
    "        result_df['XGB_pred_y'] = pd.cut(result_df['True'], bins, labels=group_names).astype(np.float32)\n",
    "        for i in range(5):\n",
    "            scores.append(new_f1_score(result_df[result_df.set == i]))\n",
    "        score = np.mean(scores)\n",
    "        #print(threshold, score)\n",
    "        if score > max_score:\n",
    "            max_score = score\n",
    "            threshold_opt = threshold\n",
    "    return threshold_opt, max_score"
   ]
  },
  {
   "cell_type": "code",
   "execution_count": 201,
   "metadata": {
    "collapsed": true
   },
   "outputs": [],
   "source": [
    "def tune_para_xgb(masterdf, learning_rate_list=[0.2], max_depth_list=[6], n_estimators_list=[100], gamma_list=[0], min_child_weight_list=[1], subsample_list=[1], threshold_list=[0.2]):\n",
    "    max_score = 0\n",
    "    parameters = [0.2, 6, 100, 0, 1, 1, 0.2]\n",
    "    cols = ['learning_rate', 'max_depth', 'n_estimators', 'gamma', 'min_child_weight_list', 'subsapmle', 'opt_threshold', 'score']\n",
    "    parameter_df = pd.DataFrame(columns = cols)\n",
    "    for lr in learning_rate_list:\n",
    "        for md in max_depth_list:\n",
    "            for n in n_estimators_list:\n",
    "                for g in gamma_list:\n",
    "                    for w in min_child_weight_list:\n",
    "                        for s in subsample_list:\n",
    "                            print(lr, md, n, g, w, s)\n",
    "                            #sys.stdout.flush()\n",
    "                            temp = optimize_threshold(man_cross_val(masterdf, learning_rate=lr, max_depth=md, n_estimators=n, gamma=g, min_child_weight=w, subsample=s), threshold_list=threshold_list)\n",
    "                            score = temp[1]\n",
    "                            threshold_opt = temp[0]\n",
    "                            parameter_df = parameter_df.append(pd.DataFrame([[lr, md, n, g, w, s, threshold_opt, score]], columns=cols))\n",
    "                            print(score, threshold_opt)\n",
    "                            #sys.stdout.flush()\n",
    "                            if score > max_score:\n",
    "                                max_score = score\n",
    "                                parameters = [lr, md, n, g, w, s, threshold_opt]\n",
    "    return max_score, parameters, parameter_df"
   ]
  },
  {
   "cell_type": "code",
   "execution_count": 202,
   "metadata": {
    "collapsed": true
   },
   "outputs": [],
   "source": [
    "learning_rate_list = np.arange(0.05,0.25,0.02)\n",
    "max_depth_list = [3, 6]\n",
    "n_estimators_list = np.arange(40,100,20)\n",
    "gamma_list = [0]\n",
    "min_child_weight_list = [1, 3]\n",
    "threshold_list = np.arange(0.1,0.3,0.001)\n",
    "subsample_list = [0.8, 1]"
   ]
  },
  {
   "cell_type": "code",
   "execution_count": 210,
   "metadata": {
    "collapsed": true
   },
   "outputs": [],
   "source": [
    "import copy\n",
    "masterdf = copy.deepcopy(sample_train_df )"
   ]
  },
  {
   "cell_type": "code",
   "execution_count": 211,
   "metadata": {
    "collapsed": true
   },
   "outputs": [],
   "source": [
    "# import sys\n",
    "\n",
    "# orig_stdout = sys.stdout\n",
    "# f = open('out.txt', 'w')\n",
    "# sys.stdout = f"
   ]
  },
  {
   "cell_type": "code",
   "execution_count": null,
   "metadata": {
    "collapsed": true
   },
   "outputs": [],
   "source": [
    "parameter_optimize_result = tune_para_xgb(masterdf, learning_rate_list=learning_rate_list, max_depth_list=max_depth_list, n_estimators_list=n_estimators_list, gamma_list=gamma_list, min_child_weight_list=min_child_weight_list, subsample_list = subsample_list, threshold_list=threshold_list)"
   ]
  },
  {
   "cell_type": "code",
   "execution_count": 218,
   "metadata": {},
   "outputs": [
    {
     "data": {
      "text/plain": [
       "(0.37580078994796473, [0.13, 6, 60, 0, 1, 1, 0.19400000000000009])"
      ]
     },
     "execution_count": 218,
     "metadata": {},
     "output_type": "execute_result"
    }
   ],
   "source": [
    "parameter_optimize_result[:2]"
   ]
  },
  {
   "cell_type": "code",
   "execution_count": null,
   "metadata": {
    "collapsed": true
   },
   "outputs": [],
   "source": [
    "#pickle.dump(parameter_optimize_result, open('parameter_optimize_result.p', 'wb'))"
   ]
  }
 ],
 "metadata": {
  "kernelspec": {
   "display_name": "Python 3",
   "language": "python",
   "name": "python3"
  },
  "language_info": {
   "codemirror_mode": {
    "name": "ipython",
    "version": 3
   },
   "file_extension": ".py",
   "mimetype": "text/x-python",
   "name": "python",
   "nbconvert_exporter": "python",
   "pygments_lexer": "ipython3",
   "version": "3.6.1"
  }
 },
 "nbformat": 4,
 "nbformat_minor": 2
}
