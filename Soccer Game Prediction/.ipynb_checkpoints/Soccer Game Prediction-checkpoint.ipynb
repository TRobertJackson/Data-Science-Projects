{
 "cells": [
  {
   "cell_type": "code",
   "execution_count": 95,
   "metadata": {
    "collapsed": true
   },
   "outputs": [],
   "source": [
    "import pandas as pd\n",
    "import requests\n",
    "from bs4 import BeautifulSoup as soup"
   ]
  },
  {
   "cell_type": "code",
   "execution_count": 96,
   "metadata": {
    "collapsed": true
   },
   "outputs": [],
   "source": [
    "from selenium import webdriver\n",
    "from selenium.webdriver.common.keys import Keys\n",
    "import time"
   ]
  },
  {
   "cell_type": "code",
   "execution_count": 97,
   "metadata": {
    "collapsed": true
   },
   "outputs": [],
   "source": [
    "chromedriver_path = \"/Users/Tong/chromedriver\"\n",
    "\n",
    "driver = webdriver.Chrome(chromedriver_path)\n",
    "driver.get('https://www.whoscored.com/')\n",
    "time.sleep(1); "
   ]
  },
  {
   "cell_type": "code",
   "execution_count": 98,
   "metadata": {},
   "outputs": [],
   "source": [
    "Laliga = driver.find_element_by_xpath('//a[@title=\"Spain\"]')\n",
    "Laliga.click()\n",
    "time.sleep(1);"
   ]
  },
  {
   "cell_type": "code",
   "execution_count": 99,
   "metadata": {
    "collapsed": true
   },
   "outputs": [],
   "source": [
    "season = driver.find_element_by_xpath('//*[@id=\"seasons\"]/option[7]')\n",
    "season.click()\n",
    "time.sleep(1);"
   ]
  },
  {
   "cell_type": "code",
   "execution_count": 100,
   "metadata": {
    "collapsed": true
   },
   "outputs": [],
   "source": [
    "Fixtures = driver.find_element_by_xpath('//*[@id=\"sub-navigation\"]/ul/li[2]/a')\n",
    "try:\n",
    "    Fixtures.click()\n",
    "except WebDriverException:\n",
    "    pass\n",
    "time.sleep(1);"
   ]
  },
  {
   "cell_type": "code",
   "execution_count": 101,
   "metadata": {},
   "outputs": [],
   "source": [
    "Time_selection = driver.find_element_by_xpath('//*[@id=\"date-config-toggle-button\"]')\n",
    "Time_selection.click()\n",
    "time.sleep(1);"
   ]
  },
  {
   "cell_type": "code",
   "execution_count": 102,
   "metadata": {
    "collapsed": true
   },
   "outputs": [],
   "source": [
    "Year = driver.find_element_by_xpath('//*[@id=\"date-config\"]/div[1]/div/table/tbody/tr/td[1]/div/table/tbody/tr[1]/td')\n",
    "Year.click()\n",
    "time.sleep(1);"
   ]
  },
  {
   "cell_type": "code",
   "execution_count": 103,
   "metadata": {},
   "outputs": [],
   "source": [
    "Month = driver.find_element_by_xpath('//*[@id=\"date-config\"]/div[1]/div/table/tbody/tr/td[2]/div/table/tbody/tr[2]/td[4]')\n",
    "try:\n",
    "    Month.click()\n",
    "except WebDriverException:\n",
    "    pass\n",
    "time.sleep(1);\n",
    "\n",
    "#//*[@id=\"date-config\"]/div[1]/div/table/tbody/tr/td[2]/div/table/tbody/tr[1]/td[2]"
   ]
  },
  {
   "cell_type": "code",
   "execution_count": 104,
   "metadata": {},
   "outputs": [],
   "source": [
    "results = pd.DataFrame(columns = ['season','home team', 'score', 'away team'])"
   ]
  },
  {
   "cell_type": "code",
   "execution_count": 105,
   "metadata": {},
   "outputs": [],
   "source": [
    "table = driver.find_element_by_xpath('//*[@id=\"tournament-fixture\"]/tbody')"
   ]
  },
  {
   "cell_type": "code",
   "execution_count": 106,
   "metadata": {},
   "outputs": [
    {
     "name": "stdout",
     "output_type": "stream",
     "text": [
      "\n",
      "17:00\n",
      "FT\n",
      "1Hercules\n",
      "0 : 1\n",
      "Athletic Club\n",
      "Match Report\n",
      "\n",
      "19:00\n",
      "FT\n",
      "Malaga\n",
      "1 : 3\n",
      "Valencia\n",
      "Match Report\n",
      "\n",
      "21:00\n",
      "FT\n",
      "Levante\n",
      "1 : 4\n",
      "Sevilla\n",
      "Match Report\n",
      "\n",
      "16:00\n",
      "FT\n",
      "Espanyol\n",
      "3 : 1\n",
      "Getafe\n",
      "Match Report\n",
      "\n",
      "16:00\n",
      "FT\n",
      "Real Sociedad\n",
      "1 : 0\n",
      "Villarreal\n",
      "Match Report\n",
      "\n",
      "16:00\n",
      "FT\n",
      "Osasuna\n",
      "0 : 0\n",
      "Almeria1\n",
      "Match Report\n",
      "\n",
      "16:00\n",
      "FT\n",
      "Deportivo La Coruna\n",
      "0 : 0\n",
      "Zaragoza\n",
      "Match Report\n",
      "\n",
      "18:00\n",
      "FT\n",
      "Racing Santander\n",
      "0 : 3\n",
      "Barcelona\n",
      "Match Report\n",
      "\n",
      "20:00\n",
      "FT\n",
      "Mallorca\n",
      "0 : 0\n",
      "Real Madrid\n",
      "Match Report\n",
      "\n",
      "21:00\n",
      "FT\n",
      "Atletico Madrid\n",
      "4 : 0\n",
      "Sporting Gijon\n",
      "Match Report\n"
     ]
    }
   ],
   "source": [
    "allrows = table.find_elements_by_tag_name('tr')\n",
    "for row in allrows:\n",
    "    cell = row.find_elements_by_tag_name('td')\n",
    "    if len(cell) != 0:\n",
    "        for element in cell:\n",
    "            print(element.text)"
   ]
  }
 ],
 "metadata": {
  "kernelspec": {
   "display_name": "Python 3",
   "language": "python",
   "name": "python3"
  },
  "language_info": {
   "codemirror_mode": {
    "name": "ipython",
    "version": 3
   },
   "file_extension": ".py",
   "mimetype": "text/x-python",
   "name": "python",
   "nbconvert_exporter": "python",
   "pygments_lexer": "ipython3",
   "version": "3.6.1"
  }
 },
 "nbformat": 4,
 "nbformat_minor": 2
}
