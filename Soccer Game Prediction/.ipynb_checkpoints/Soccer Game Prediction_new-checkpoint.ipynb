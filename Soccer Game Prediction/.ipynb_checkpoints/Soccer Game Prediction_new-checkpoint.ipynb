{
 "cells": [
  {
   "cell_type": "code",
   "execution_count": 102,
   "metadata": {
    "collapsed": true
   },
   "outputs": [],
   "source": [
    "import pandas as pd\n",
    "import requests\n",
    "from bs4 import BeautifulSoup as soup\n",
    "import pickle\n",
    "from selenium import webdriver\n",
    "from selenium.webdriver.common.keys import Keys\n",
    "import time"
   ]
  },
  {
   "cell_type": "markdown",
   "metadata": {},
   "source": [
    "# Data Scraping"
   ]
  },
  {
   "cell_type": "code",
   "execution_count": null,
   "metadata": {
    "collapsed": true
   },
   "outputs": [],
   "source": [
    "chromedriver_path = \"/Users/Tong/chromedriver\"\n",
    "driver = webdriver.Chrome(chromedriver_path)\n",
    "driver.get('https://www.whoscored.com/')\n",
    "time.sleep(5); "
   ]
  },
  {
   "cell_type": "code",
   "execution_count": 104,
   "metadata": {
    "collapsed": true
   },
   "outputs": [],
   "source": [
    "def Laliga_click():\n",
    "    Laliga = driver.find_element_by_xpath('//a[@title=\"Spain\"]')\n",
    "    Laliga.click()\n",
    "    time.sleep(5);"
   ]
  },
  {
   "cell_type": "code",
   "execution_count": 105,
   "metadata": {
    "collapsed": true
   },
   "outputs": [],
   "source": [
    "Laliga_click() #choose the league Laliga"
   ]
  },
  {
   "cell_type": "code",
   "execution_count": 62,
   "metadata": {
    "collapsed": true
   },
   "outputs": [],
   "source": [
    "def season_click(season_num):\n",
    "    season = driver.find_element_by_xpath('//*[@id=\"seasons\"]/option[%d]' %(8-season_num))\n",
    "    try:\n",
    "        season.click()\n",
    "    except WebDriverException:\n",
    "        pass\n",
    "    time.sleep(5)"
   ]
  },
  {
   "cell_type": "raw",
   "metadata": {},
   "source": [
    "def Fixtures_click():\n",
    "    Fixtures = driver.find_element_by_xpath('//*[@id=\"sub-navigation\"]/ul/li[2]/a')\n",
    "    while True:\n",
    "        try:\n",
    "            Fixtures.click()\n",
    "            break\n",
    "        except:\n",
    "            raise\n",
    "    time.sleep(5);"
   ]
  },
  {
   "cell_type": "raw",
   "metadata": {},
   "source": [
    "def Time_in_season_selection_click():\n",
    "    Time_selection = driver.find_element_by_id(\"date-config-toggle-button\")\n",
    "    Time_selection.click()\n",
    "    time.sleep(5);"
   ]
  },
  {
   "cell_type": "raw",
   "metadata": {},
   "source": [
    "def Year_select(year_num):\n",
    "    Year = driver.find_element_by_xpath('//*[@id=\"date-config\"]/div[1]/div/table/tbody/tr/td[1]/div/table/tbody/tr[%d]/td' %(year_num))\n",
    "    try:\n",
    "        Year.click()\n",
    "    except WebDriverException:\n",
    "        pass\n",
    "    time.sleep(5);"
   ]
  },
  {
   "cell_type": "raw",
   "metadata": {},
   "source": [
    "def Month_select(month_num):\n",
    "    row = (month_num - 1)//4 + 1\n",
    "    col = (month_num - 1)%4 + 1\n",
    "    Month = driver.find_element_by_xpath ('//*[@id=\"date-config\"]/div[1]/div/table/tbody/tr/td[2]/div/table/tbody/tr[%d]/td[%d]' %(row, col))\n",
    "    try:\n",
    "        Month.click()\n",
    "    except WebDriverException:\n",
    "        pass\n",
    "    time.sleep(5);"
   ]
  },
  {
   "cell_type": "markdown",
   "metadata": {},
   "source": [
    "Get match results for all the matches in 7 seasons."
   ]
  },
  {
   "cell_type": "raw",
   "metadata": {},
   "source": [
    "def Season_Match_Results(season_num):\n",
    "    results = pd.DataFrame(columns = ['season','year', 'month', 'home team', 'score', 'away team'])\n",
    "    print('season: 201%d - 201%d' %((season_num - 1), (season_num - 0)))\n",
    "    \n",
    "    season_click(season_num) #choose the season\n",
    "    time.sleep(5);\n",
    "    Fixtures_click()  #click on Fixtures tab\n",
    "    time.sleep(5);\n",
    "    Time_in_season_selection_click()  #click on time-selection drop manual\n",
    "    time.sleep(5);    \n",
    "    for year in (1,2):\n",
    "        #select the year in the season\n",
    "        Year_select(year)\n",
    "        time.sleep(5);\n",
    "        if year == 1:\n",
    "            months = (8, 9, 10, 11, 12)\n",
    "        else:\n",
    "            months = (1, 2, 3, 4, 5)\n",
    "            \n",
    "        for month in months:\n",
    "        #choose month in the year\n",
    "            Month_select(month)\n",
    "            time.sleep(5);\n",
    "            table = driver.find_element_by_xpath('//*[@id=\"tournament-fixture\"]/tbody')\n",
    "            allrows = table.find_elements_by_tag_name('tr')\n",
    "            for row in allrows:\n",
    "                cell = row.find_elements_by_tag_name('td')\n",
    "                if len(cell) != 0:\n",
    "                    results = results.append(pd.DataFrame([['201%d - 201%d' %((season_num - 1), (season_num - 0)), year, month, cell[3].text, cell[4].text, cell[5].text]], columns = ['season','year', 'month', 'home team', 'score', 'away team']))\n",
    "    return results"
   ]
  },
  {
   "cell_type": "raw",
   "metadata": {},
   "source": [
    "Raw_Match_Results = pd.DataFrame(columns = ['season','year', 'month', 'home team', 'score', 'away team'])"
   ]
  },
  {
   "cell_type": "raw",
   "metadata": {},
   "source": [
    "for season_num in range(1,8):\n",
    "    Raw_Match_Results = Raw_Match_Results.append(Season_Match_Results(season_num))"
   ]
  },
  {
   "cell_type": "raw",
   "metadata": {},
   "source": [
    "Raw_Match_Results.shape"
   ]
  },
  {
   "cell_type": "raw",
   "metadata": {},
   "source": [
    "pickle.dump(Raw_Match_Results, open('Match Results Raw Data.p', 'wb'))"
   ]
  },
  {
   "cell_type": "markdown",
   "metadata": {},
   "source": [
    "Get team statistical data for 7 seasons"
   ]
  },
  {
   "cell_type": "code",
   "execution_count": 90,
   "metadata": {
    "collapsed": true
   },
   "outputs": [],
   "source": [
    "def Team_Statistics_click():\n",
    "    Team_Statistics = driver.find_element_by_xpath('//*[@id=\"sub-navigation\"]/ul/li[3]/a')\n",
    "    try:\n",
    "        Team_Statistics.click()\n",
    "    except WebDriverException:\n",
    "        pass\n",
    "    time.sleep(5)"
   ]
  },
  {
   "cell_type": "code",
   "execution_count": 91,
   "metadata": {
    "collapsed": true
   },
   "outputs": [],
   "source": [
    "def Summary_in_Team_Statistics_click():\n",
    "    Summary = driver.find_element_by_xpath('//*[@id=\"stage-team-stats-options\"]/li[1]/a')\n",
    "    try:\n",
    "        Summary.click()\n",
    "    except WebDriverException:\n",
    "        pass\n",
    "    time.sleep(5)"
   ]
  },
  {
   "cell_type": "code",
   "execution_count": 118,
   "metadata": {
    "collapsed": true
   },
   "outputs": [],
   "source": [
    "def Home_click():\n",
    "    Home = driver.find_element_by_xpath('//*[@id=\"field\"]/dd[2]/a')\n",
    "    while True:\n",
    "        try:\n",
    "            Home.click()\n",
    "            break\n",
    "        except:\n",
    "            pass\n",
    "    time.sleep(5)"
   ]
  },
  {
   "cell_type": "code",
   "execution_count": 119,
   "metadata": {
    "collapsed": true
   },
   "outputs": [],
   "source": [
    "def Away_click():\n",
    "    Away = driver.find_element_by_xpath('//*[@id=\"field\"]/dd[3]/a')\n",
    "    while True:\n",
    "        try:\n",
    "            Away.click()\n",
    "            break\n",
    "        except:\n",
    "            pass\n",
    "    time.sleep(5)"
   ]
  },
  {
   "cell_type": "code",
   "execution_count": 120,
   "metadata": {
    "collapsed": true
   },
   "outputs": [],
   "source": [
    "def Field_click(field):\n",
    "    if field == 'home':\n",
    "        Home_click()\n",
    "        time.sleep(5);\n",
    "    elif field == 'away':\n",
    "        Away_click()\n",
    "        time.sleep(5)\n",
    "    else:\n",
    "        print('field is either \\\"home\\\" or \\\"away\\\"')"
   ]
  },
  {
   "cell_type": "code",
   "execution_count": 121,
   "metadata": {
    "collapsed": true
   },
   "outputs": [],
   "source": [
    "def Defensive_in_Team_Statistics_click():\n",
    "    Defensive = driver.find_element_by_xpath('//*[@id=\"stage-team-stats-options\"]/li[2]/a')\n",
    "    try:\n",
    "        Defensive.click()\n",
    "    except WebDriverException:\n",
    "        pass\n",
    "    time.sleep(5);"
   ]
  },
  {
   "cell_type": "code",
   "execution_count": 122,
   "metadata": {
    "collapsed": true
   },
   "outputs": [],
   "source": [
    "def Offensive_in_Team_Statistics_click():\n",
    "    Offensive = driver.find_element_by_xpath('//*[@id=\"stage-team-stats-options\"]/li[3]/a')\n",
    "    try:\n",
    "        Offensive.click()\n",
    "    except WebDriverException:\n",
    "        pass\n",
    "    time.sleep(5);"
   ]
  },
  {
   "cell_type": "code",
   "execution_count": 123,
   "metadata": {},
   "outputs": [],
   "source": [
    "def Season_Team_Statistics(season_num, stat_option, field):\n",
    "    season_click(season_num)  #choose the ith latest season\n",
    "    time.sleep(5);\n",
    "    Team_Statistics_click()  #select Team Statistics Tab \n",
    "    time.sleep(5);\n",
    "    \n",
    "    if stat_option == 'summary':\n",
    "        columns = ['season', 'R', 'team','shots_pg', 'discipline_yellow', 'discipline_red', 'possession', 'pass_success', 'aerials_won', 'rating']\n",
    "        Summary_in_Team_Statistics_click() #select summary statistics \n",
    "        time.sleep(5);\n",
    "        Field_click(field)\n",
    "        time.sleep(5);\n",
    "        table = driver.find_element_by_xpath('//*[@id=\"statistics-team-table-summary\"]')\n",
    "    \n",
    "    elif stat_option == 'defensive':\n",
    "        columns = ['season', 'R', 'team','shots_pg', 'tackles_pg', 'interceptions_pg', 'fouls_pg', 'offsides_pg', 'rating']\n",
    "        Defensive_in_Team_Statistics_click() #select summary statistics \n",
    "        time.sleep(5);\n",
    "        Field_click(field)\n",
    "        time.sleep(5);\n",
    "        table = driver.find_element_by_xpath('//*[@id=\"statistics-team-table-defensive\"]')\n",
    "        \n",
    "    elif stat_option == 'offensive':\n",
    "        columns = ['season', 'R', 'team','shots_pg', 'shots_ot_pg', 'dribbles_pg', 'fouled_pg', 'rating']\n",
    "        Offensive_in_Team_Statistics_click() #select summary statistics \n",
    "        time.sleep(5);\n",
    "        Field_click(field)\n",
    "        time.sleep(5);\n",
    "        table = driver.find_element_by_xpath('//*[@id=\"statistics-team-table-offensive\"]')\n",
    "        \n",
    "    team_statistic = pd.DataFrame(columns = columns)\n",
    "    \n",
    "    table = driver.find_element_by_xpath('//*[@id=\"top-team-stats-summary-content\"]')\n",
    "    allrows = table.find_elements_by_tag_name('tr')\n",
    "    \n",
    "    for row in allrows:\n",
    "        cell = row.find_elements_by_tag_name('td')\n",
    "        data = ['201%d - 201%d' %((num - 1), (num - 0))]\n",
    "        if len(cell) != 0:\n",
    "            for element in cell:\n",
    "                Card = element.find_elements_by_tag_name('span')\n",
    "                if len(Card) != 0:\n",
    "                    for card in Card:\n",
    "                        data.append(card.text)\n",
    "                else:\n",
    "                    data.append(element.text)\n",
    "        team_statistic = team_statistic.append(pd.DataFrame([data], columns = columns))\n",
    "\n",
    "    return team_statistic"
   ]
  },
  {
   "cell_type": "code",
   "execution_count": null,
   "metadata": {},
   "outputs": [],
   "source": [
    "test = Season_Team_Statistics(2, 'defensive', 'home')"
   ]
  },
  {
   "cell_type": "code",
   "execution_count": null,
   "metadata": {
    "collapsed": true
   },
   "outputs": [],
   "source": []
  },
  {
   "cell_type": "code",
   "execution_count": null,
   "metadata": {
    "collapsed": true
   },
   "outputs": [],
   "source": []
  },
  {
   "cell_type": "code",
   "execution_count": null,
   "metadata": {
    "collapsed": true
   },
   "outputs": [],
   "source": []
  },
  {
   "cell_type": "code",
   "execution_count": null,
   "metadata": {
    "collapsed": true
   },
   "outputs": [],
   "source": []
  },
  {
   "cell_type": "code",
   "execution_count": null,
   "metadata": {
    "collapsed": true
   },
   "outputs": [],
   "source": []
  },
  {
   "cell_type": "code",
   "execution_count": null,
   "metadata": {
    "collapsed": true
   },
   "outputs": [],
   "source": []
  },
  {
   "cell_type": "code",
   "execution_count": null,
   "metadata": {
    "collapsed": true
   },
   "outputs": [],
   "source": [
    "def SeasonTeamStatisticsDefensive(season_num, view):\n",
    "    team_statistic_defensive = pd.DataFrame(columns = ['season', 'R', 'team','shots_pg', 'tackles_pg', 'interceptions_pg', 'fouls_pg', 'offsides_pg', 'rating'])\n",
    "\n",
    "    season_click(season_num)  #choose the ith latest season\n",
    "    time.sleep(5);\n",
    "    Team_Statistics_click()  #select Team Statistics Tab \n",
    "    time.sleep(5);\n",
    "    Defensive_in_Team_Statistics_click() #select summary statistics \n",
    "    time.sleep(5);\n",
    "    Field.click(field)\n",
    "    time.sleep(5);\n",
    "    \n",
    "    table = driver.find_element_by_xpath('//*[@id=\"top-team-stats-summary-grid\"]')\n",
    "    allrows = table.find_elements_by_tag_name('tr')\n",
    "    \n",
    "    for row in allrows:\n",
    "        cell = row.find_elements_by_tag_name('td')\n",
    "        data = ['201%d - 201%d' %((num - 1), (num - 0))]\n",
    "        if len(cell) != 0:\n",
    "            for element in cell:\n",
    "                data.append(element.text)\n",
    "        team_statistic_summary = team_statistic_summary.append(pd.DataFrame([data], columns = ['season', 'R', 'team','shots_pg', 'tackles_pg', 'interceptions_pg', 'fouls_pg', 'offsides_pg', 'rating']))\n",
    "\n",
    "    return team_statistic_summary"
   ]
  },
  {
   "cell_type": "code",
   "execution_count": null,
   "metadata": {
    "collapsed": true
   },
   "outputs": [],
   "source": [
    "def SeasonTeamStatisticsDefensive(season_num, view):\n",
    "    team_statistic_offensive = pd.DataFrame(columns = ['season', 'R', 'team','shots_pg', 'shots_ot_pg', 'dribbles_pg', 'fouled_pg', 'rating'])\n",
    "\n",
    "    season_click(season_num)  #choose the ith latest season\n",
    "    time.sleep(5);\n",
    "    Team_Statistics_click()  #select Team Statistics Tab \n",
    "    time.sleep(5);\n",
    "    Offensive_in_Team_Statistics_click() #select summary statistics \n",
    "    time.sleep(5);\n",
    "    Field.click(field)\n",
    "    time.sleep(5);\n",
    "    \n",
    "    table = driver.find_element_by_xpath('//*[@id=\"statistics-team-table-offensive\"]')\n",
    "    home: //*[@id=\"statistics-team-table-defensive\"]\n",
    "    away: //*[@id=\"statistics-team-table-defensive\"]\n",
    "        \n",
    "    offensive: \n",
    "        home: //*[@id=\"statistics-team-table-offensive\"]\n",
    "        away: //*[@id=\"statistics-team-table-offensive\"]\n",
    "    summary: \n",
    "        home: //*[@id=\"statistics-team-table-summary\"]\n",
    "        away: //*[@id=\"statistics-team-table-summary\"]\n",
    "    \n",
    "    allrows = table.find_elements_by_tag_name('tr')\n",
    "    \n",
    "    for row in allrows:\n",
    "        cell = row.find_elements_by_tag_name('td')\n",
    "        data = ['201%d - 201%d' %((num - 1), (num - 0))]\n",
    "        if len(cell) != 0:\n",
    "            for element in cell:\n",
    "                data.append(element.text)\n",
    "        team_statistic_summary = team_statistic_summary.append(pd.DataFrame([data], columns = ['season', 'R', 'team','shots_pg', 'tackles_pg', 'interceptions_pg', 'fouls_pg', 'offsides_pg', 'rating']))\n",
    "\n",
    "    return team_statistic_summary"
   ]
  }
 ],
 "metadata": {
  "kernelspec": {
   "display_name": "Python 3",
   "language": "python",
   "name": "python3"
  },
  "language_info": {
   "codemirror_mode": {
    "name": "ipython",
    "version": 3
   },
   "file_extension": ".py",
   "mimetype": "text/x-python",
   "name": "python",
   "nbconvert_exporter": "python",
   "pygments_lexer": "ipython3",
   "version": "3.6.1"
  }
 },
 "nbformat": 4,
 "nbformat_minor": 2
}
