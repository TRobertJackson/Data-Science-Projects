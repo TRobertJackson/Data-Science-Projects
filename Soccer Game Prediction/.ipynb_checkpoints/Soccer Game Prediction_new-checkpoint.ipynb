{
 "cells": [
  {
   "cell_type": "code",
   "execution_count": 1,
   "metadata": {
    "collapsed": true
   },
   "outputs": [],
   "source": [
    "import pandas as pd\n",
    "import requests\n",
    "import pickle\n",
    "import time"
   ]
  },
  {
   "cell_type": "markdown",
   "metadata": {},
   "source": [
    "# Data Scraping"
   ]
  },
  {
   "cell_type": "raw",
   "metadata": {
    "collapsed": true
   },
   "source": [
    "from bs4 import BeautifulSoup as soup\n",
    "from selenium import webdriver\n",
    "from selenium.webdriver.common.keys import Keys"
   ]
  },
  {
   "cell_type": "raw",
   "metadata": {
    "collapsed": true
   },
   "source": [
    "chromedriver_path = \"/Users/Tong/chromedriver\"\n",
    "driver = webdriver.Chrome(chromedriver_path)\n",
    "driver.get('https://www.whoscored.com/')\n",
    "time.sleep(5); "
   ]
  },
  {
   "cell_type": "raw",
   "metadata": {
    "collapsed": true
   },
   "source": [
    "def Laliga_click():\n",
    "    Laliga = driver.find_element_by_xpath('//a[@title=\"Spain\"]')\n",
    "    Laliga.click()\n",
    "    time.sleep(5);"
   ]
  },
  {
   "cell_type": "raw",
   "metadata": {
    "collapsed": true
   },
   "source": [
    "Laliga_click() #choose the league Laliga"
   ]
  },
  {
   "cell_type": "raw",
   "metadata": {
    "collapsed": true
   },
   "source": [
    "def season_click(season_num):\n",
    "    season = driver.find_element_by_xpath('//*[@id=\"seasons\"]/option[%d]' %(8-season_num))\n",
    "    try:\n",
    "        season.click()\n",
    "    except WebDriverException:\n",
    "        pass\n",
    "    time.sleep(5)"
   ]
  },
  {
   "cell_type": "raw",
   "metadata": {},
   "source": [
    "def Fixtures_click():\n",
    "    Fixtures = driver.find_element_by_xpath('//*[@id=\"sub-navigation\"]/ul/li[2]/a')\n",
    "    while True:\n",
    "        try:\n",
    "            Fixtures.click()\n",
    "            break\n",
    "        except:\n",
    "            raise\n",
    "    time.sleep(5);"
   ]
  },
  {
   "cell_type": "raw",
   "metadata": {},
   "source": [
    "def Time_in_season_selection_click():\n",
    "    Time_selection = driver.find_element_by_id(\"date-config-toggle-button\")\n",
    "    Time_selection.click()\n",
    "    time.sleep(5);"
   ]
  },
  {
   "cell_type": "raw",
   "metadata": {},
   "source": [
    "def Year_select(year_num):\n",
    "    Year = driver.find_element_by_xpath('//*[@id=\"date-config\"]/div[1]/div/table/tbody/tr/td[1]/div/table/tbody/tr[%d]/td' %(year_num))\n",
    "    try:\n",
    "        Year.click()\n",
    "    except WebDriverException:\n",
    "        pass\n",
    "    time.sleep(5);"
   ]
  },
  {
   "cell_type": "raw",
   "metadata": {},
   "source": [
    "def Month_select(month_num):\n",
    "    row = (month_num - 1)//4 + 1\n",
    "    col = (month_num - 1)%4 + 1\n",
    "    Month = driver.find_element_by_xpath ('//*[@id=\"date-config\"]/div[1]/div/table/tbody/tr/td[2]/div/table/tbody/tr[%d]/td[%d]' %(row, col))\n",
    "    try:\n",
    "        Month.click()\n",
    "    except WebDriverException:\n",
    "        pass\n",
    "    time.sleep(5);"
   ]
  },
  {
   "cell_type": "markdown",
   "metadata": {},
   "source": [
    "Get match results for all the matches in 7 seasons."
   ]
  },
  {
   "cell_type": "raw",
   "metadata": {},
   "source": [
    "def Season_Match_Results(season_num):\n",
    "    results = pd.DataFrame(columns = ['season','year', 'month', 'home team', 'score', 'away team'])\n",
    "    print('season: 201%d - 201%d' %((season_num - 1), (season_num - 0)))\n",
    "    \n",
    "    season_click(season_num) #choose the season\n",
    "    time.sleep(5);\n",
    "    Fixtures_click()  #click on Fixtures tab\n",
    "    time.sleep(5);\n",
    "    Time_in_season_selection_click()  #click on time-selection drop manual\n",
    "    time.sleep(5);    \n",
    "    for year in (1,2):\n",
    "        #select the year in the season\n",
    "        Year_select(year)\n",
    "        time.sleep(5);\n",
    "        if year == 1:\n",
    "            months = (8, 9, 10, 11, 12)\n",
    "        else:\n",
    "            months = (1, 2, 3, 4, 5)\n",
    "            \n",
    "        for month in months:\n",
    "        #choose month in the year\n",
    "            Month_select(month)\n",
    "            time.sleep(5);\n",
    "            table = driver.find_element_by_xpath('//*[@id=\"tournament-fixture\"]/tbody')\n",
    "            allrows = table.find_elements_by_tag_name('tr')\n",
    "            for row in allrows:\n",
    "                cell = row.find_elements_by_tag_name('td')\n",
    "                if len(cell) != 0:\n",
    "                    results = results.append(pd.DataFrame([['201%d - 201%d' %((season_num - 1), (season_num - 0)), year, month, cell[3].text, cell[4].text, cell[5].text]], columns = ['season','year', 'month', 'home team', 'score', 'away team']))\n",
    "    return results"
   ]
  },
  {
   "cell_type": "raw",
   "metadata": {},
   "source": [
    "Raw_Match_Results = pd.DataFrame(columns = ['season','year', 'month', 'home team', 'score', 'away team'])"
   ]
  },
  {
   "cell_type": "raw",
   "metadata": {},
   "source": [
    "for season_num in range(1,8):\n",
    "    Raw_Match_Results = Raw_Match_Results.append(Season_Match_Results(season_num))"
   ]
  },
  {
   "cell_type": "raw",
   "metadata": {},
   "source": [
    "Raw_Match_Results.shape"
   ]
  },
  {
   "cell_type": "raw",
   "metadata": {},
   "source": [
    "pickle.dump(Raw_Match_Results, open('Match Results Raw Data.p', 'wb'))"
   ]
  },
  {
   "cell_type": "markdown",
   "metadata": {},
   "source": [
    "Get team statistical data for 7 seasons(2010-2011, 2011-2012, 2012-2013, 2013-2014, 2014-2015, 2015-2016, 2016-2017). \n",
    "\n",
    "Team statistical data consists of three aspects: summary stats, defensive stats and offensive stats.\n",
    "\n",
    "Team statistics are different for a team when it's playing at home or away. "
   ]
  },
  {
   "cell_type": "code",
   "execution_count": 41,
   "metadata": {
    "collapsed": true
   },
   "outputs": [],
   "source": [
    "def Team_Statistics_click():\n",
    "    Team_Statistics = driver.find_element_by_xpath('//*[@id=\"sub-navigation\"]/ul/li[3]/a')\n",
    "    while True:\n",
    "        try:\n",
    "            Team_Statistics.click()\n",
    "            break\n",
    "        except:\n",
    "            time.sleep(2);\n",
    "    time.sleep(5);"
   ]
  },
  {
   "cell_type": "raw",
   "metadata": {
    "collapsed": true
   },
   "source": [
    "def Summary_in_Team_Statistics_click():\n",
    "    Summary = driver.find_element_by_xpath('//*[@id=\"stage-team-stats-options\"]/li[1]/a')\n",
    "    try:\n",
    "        Summary.click()\n",
    "    except:\n",
    "        time.sleep(2);\n",
    "    time.sleep(5);"
   ]
  },
  {
   "cell_type": "raw",
   "metadata": {},
   "source": [
    "def Home_click():\n",
    "    Home = driver.find_elements_by_xpath('//*[@id=\"field\"]/dd[2]/a')\n",
    "    for home in Home:\n",
    "        try:\n",
    "            home.click()\n",
    "        except:\n",
    "            continue\n",
    "    time.sleep(5);"
   ]
  },
  {
   "cell_type": "raw",
   "metadata": {
    "collapsed": true
   },
   "source": [
    "def Away_click():\n",
    "    Away = driver.find_elements_by_xpath('//*[@id=\"field\"]/dd[3]/a')\n",
    "    for away in Away:\n",
    "        try:\n",
    "            away.click()\n",
    "        except:\n",
    "            continue\n",
    "    time.sleep(5);"
   ]
  },
  {
   "cell_type": "raw",
   "metadata": {
    "collapsed": true
   },
   "source": [
    "def Field_click(field):\n",
    "    if field == 'home':\n",
    "        Home_click()\n",
    "        time.sleep(5);\n",
    "    elif field == 'away':\n",
    "        Away_click()\n",
    "        time.sleep(5)\n",
    "    else:\n",
    "        print('field is either \\\"home\\\" or \\\"away\\\"')"
   ]
  },
  {
   "cell_type": "raw",
   "metadata": {
    "collapsed": true
   },
   "source": [
    "def Defensive_in_Team_Statistics_click():\n",
    "    Defensive = driver.find_element_by_xpath('//*[@id=\"stage-team-stats-options\"]/li[2]/a')\n",
    "    try:\n",
    "        Defensive.click()\n",
    "    except:\n",
    "        time.sleep(1);\n",
    "    time.sleep(5);"
   ]
  },
  {
   "cell_type": "raw",
   "metadata": {
    "collapsed": true
   },
   "source": [
    "def Offensive_in_Team_Statistics_click():\n",
    "    Offensive = driver.find_element_by_xpath('//*[@id=\"stage-team-stats-options\"]/li[3]/a')\n",
    "    while True:\n",
    "        try:\n",
    "            Offensive.click()\n",
    "            break\n",
    "        except:\n",
    "            time.sleep(1);\n",
    "    time.sleep(5);"
   ]
  },
  {
   "cell_type": "raw",
   "metadata": {
    "collapsed": true
   },
   "source": [
    "def Season_Team_Statistics(season_num, stat_option, field):\n",
    "    season_click(season_num)  #choose the ith latest season\n",
    "    time.sleep(5);\n",
    "    print(season_num)\n",
    "    Team_Statistics_click()  #select Team Statistics Tab \n",
    "    time.sleep(5);\n",
    "    \n",
    "    if stat_option == 'summary':\n",
    "        columns = ['season', 'R', 'team','shots_pg', 'discipline_yellow', 'discipline_red', 'possession', 'pass_success', 'aerials_won', 'rating']\n",
    "        Summary_in_Team_Statistics_click() #select summary statistics \n",
    "        time.sleep(5);\n",
    "        Field_click(field)\n",
    "        time.sleep(5);\n",
    "        table = driver.find_element_by_xpath('//*[@id=\"statistics-team-table-summary\"]')\n",
    "    \n",
    "    elif stat_option == 'defensive':\n",
    "        columns = ['season', 'R', 'team','shots_pg', 'tackles_pg', 'interceptions_pg', 'fouls_pg', 'offsides_pg', 'rating']\n",
    "        Defensive_in_Team_Statistics_click() #select summary statistics \n",
    "        time.sleep(5);\n",
    "        Field_click(field)\n",
    "        time.sleep(5);\n",
    "        table = driver.find_element_by_xpath('//*[@id=\"statistics-team-table-defensive\"]')\n",
    "        \n",
    "    elif stat_option == 'offensive':\n",
    "        columns = ['season', 'R', 'team','shots_pg', 'shots_ot_pg', 'dribbles_pg', 'fouled_pg', 'rating']\n",
    "        Offensive_in_Team_Statistics_click() #select summary statistics \n",
    "        time.sleep(5);\n",
    "        Field_click(field)\n",
    "        time.sleep(5);\n",
    "        table = driver.find_element_by_xpath('//*[@id=\"statistics-team-table-offensive\"]')\n",
    "        \n",
    "    team_statistic = pd.DataFrame(columns = columns)\n",
    "    \n",
    "    allrows = table.find_elements_by_tag_name('tr')\n",
    "    \n",
    "    for row in allrows:\n",
    "        cell = row.find_elements_by_tag_name('td')\n",
    "        data = ['201%d - 201%d' %((season_num - 1), (season_num - 0))]\n",
    "        if len(cell) != 0:\n",
    "            for element in cell:\n",
    "                Card = element.find_elements_by_tag_name('span')\n",
    "                if len(Card) != 0:\n",
    "                    for card in Card:\n",
    "                        data.append(card.text)\n",
    "                else:\n",
    "                    data.append(element.text)\n",
    "                    #print(element.text)\n",
    "            team_statistic = team_statistic.append(pd.DataFrame([data], columns = columns))\n",
    "\n",
    "    return team_statistic"
   ]
  },
  {
   "cell_type": "raw",
   "metadata": {},
   "source": [
    "#Get summary stats for team when they play at home.\n",
    "Raw_Summary_Home_Statistic = pd.DataFrame(columns = ['season', 'R', 'team','shots_pg', 'discipline_yellow', 'discipline_red', 'possession', 'pass_success', 'aerials_won', 'rating'])\n",
    "for season_num in range(1,8):\n",
    "    Raw_Summary_Home_Statistic = Raw_Summary_Home_Statistic.append(Season_Team_Statistics(season_num, 'summary', 'home'))"
   ]
  },
  {
   "cell_type": "raw",
   "metadata": {
    "collapsed": true
   },
   "source": [
    "Raw_Summary_Home_Statistic.head()"
   ]
  },
  {
   "cell_type": "raw",
   "metadata": {
    "collapsed": true
   },
   "source": [
    "pickle.dump(Raw_Summary_Home_Statistic, open('Summary Home Statistic Raw Data.p', 'wb'))"
   ]
  },
  {
   "cell_type": "raw",
   "metadata": {
    "collapsed": true
   },
   "source": [
    "#Get summary stats for team when they play away.\n",
    "Raw_Summary_Away_Statistic = pd.DataFrame(columns = ['season', 'R', 'team','shots_pg', 'discipline_yellow', 'discipline_red', 'possession', 'pass_success', 'aerials_won', 'rating'])\n",
    "for season_num in range(1,8):\n",
    "    Raw_Summary_Away_Statistic = Raw_Summary_Away_Statistic.append(Season_Team_Statistics(season_num, 'summary', 'away'))"
   ]
  },
  {
   "cell_type": "raw",
   "metadata": {},
   "source": [
    "pickle.dump(Raw_Summary_Away_Statistic, open('Summary Away Statistic Raw Data.p', 'wb'))"
   ]
  },
  {
   "cell_type": "raw",
   "metadata": {},
   "source": [
    "#Get defensive stats for team when they play at home.\n",
    "Raw_Defensive_Home_Statistic = pd.DataFrame(columns = ['season', 'R', 'team','shots_pg', 'tackles_pg', 'interceptions_pg', 'fouls_pg', 'offsides_pg', 'rating'])\n",
    "for season_num in range(1,8):\n",
    "    Raw_Defensive_Home_Statistic = Raw_Defensive_Home_Statistic.append(Season_Team_Statistics(season_num, 'defensive', 'home'))"
   ]
  },
  {
   "cell_type": "raw",
   "metadata": {},
   "source": [
    "Raw_Defensive_Home_Statistic.shape"
   ]
  },
  {
   "cell_type": "raw",
   "metadata": {},
   "source": [
    "pickle.dump(Raw_Defensive_Home_Statistic, open('Defensive Home Statistic Raw Data.p', 'wb'))"
   ]
  },
  {
   "cell_type": "raw",
   "metadata": {},
   "source": [
    "#Get defensive stats for team when they play away.\n",
    "Raw_Defensive_Away_Statistic = pd.DataFrame(columns = ['season', 'R', 'team','shots_pg', 'tackles_pg', 'interceptions_pg', 'fouls_pg', 'offsides_pg', 'rating'])\n",
    "for season_num in range(1,8):\n",
    "    Raw_Defensive_Away_Statistic = Raw_Defensive_Away_Statistic.append(Season_Team_Statistics(season_num, 'defensive', 'away'))"
   ]
  },
  {
   "cell_type": "raw",
   "metadata": {},
   "source": [
    "pickle.dump(Raw_Defensive_Away_Statistic, open('Defensive Away Statistic Raw Data.p', 'wb'))"
   ]
  },
  {
   "cell_type": "raw",
   "metadata": {},
   "source": [
    "#Get offensive stats for team when they play at home.\n",
    "Raw_Offensive_Home_Statistic = pd.DataFrame(columns = ['season', 'R', 'team','shots_pg', 'shots_ot_pg', 'dribbles_pg', 'fouled_pg', 'rating'])\n",
    "for season_num in range(1,8):\n",
    "    Raw_Offensive_Home_Statistic = Raw_Offensive_Home_Statistic.append(Season_Team_Statistics(season_num, 'offensive', 'home'))"
   ]
  },
  {
   "cell_type": "raw",
   "metadata": {},
   "source": [
    "Raw_Offensive_Home_Statistic.head()"
   ]
  },
  {
   "cell_type": "raw",
   "metadata": {},
   "source": [
    "pickle.dump(Raw_Offensive_Home_Statistic, open('Offensive Home Statistic Raw Data.p', 'wb'))"
   ]
  },
  {
   "cell_type": "raw",
   "metadata": {},
   "source": [
    "#Get offensive stats for team when they play away.\n",
    "Raw_Offensive_Away_Statistic = pd.DataFrame(columns = ['season', 'R', 'team','shots_pg', 'shots_ot_pg', 'dribbles_pg', 'fouled_pg', 'rating'])\n",
    "for season_num in range(1,8):\n",
    "    Raw_Offensive_Away_Statistic = Raw_Offensive_Away_Statistic.append(Season_Team_Statistics(season_num, 'offensive', 'away'))"
   ]
  },
  {
   "cell_type": "raw",
   "metadata": {},
   "source": [
    "pickle.dump(Raw_Offensive_Away_Statistic, open('Offensive Away Statistic Raw Data.p', 'wb'))"
   ]
  },
  {
   "cell_type": "markdown",
   "metadata": {},
   "source": [
    "Clean match result data"
   ]
  },
  {
   "cell_type": "code",
   "execution_count": 94,
   "metadata": {},
   "outputs": [],
   "source": [
    "Match_Results = pickle.load(open('Match Results Raw Data.p', 'rb'))"
   ]
  },
  {
   "cell_type": "code",
   "execution_count": 5,
   "metadata": {},
   "outputs": [
    {
     "data": {
      "text/html": [
       "<div>\n",
       "<style>\n",
       "    .dataframe thead tr:only-child th {\n",
       "        text-align: right;\n",
       "    }\n",
       "\n",
       "    .dataframe thead th {\n",
       "        text-align: left;\n",
       "    }\n",
       "\n",
       "    .dataframe tbody tr th {\n",
       "        vertical-align: top;\n",
       "    }\n",
       "</style>\n",
       "<table border=\"1\" class=\"dataframe\">\n",
       "  <thead>\n",
       "    <tr style=\"text-align: right;\">\n",
       "      <th></th>\n",
       "      <th>season</th>\n",
       "      <th>year</th>\n",
       "      <th>month</th>\n",
       "      <th>home team</th>\n",
       "      <th>score</th>\n",
       "      <th>away team</th>\n",
       "    </tr>\n",
       "  </thead>\n",
       "  <tbody>\n",
       "    <tr>\n",
       "      <th>0</th>\n",
       "      <td>2010 - 2011</td>\n",
       "      <td>1</td>\n",
       "      <td>8</td>\n",
       "      <td>1Hercules</td>\n",
       "      <td>0 : 1</td>\n",
       "      <td>Athletic Club</td>\n",
       "    </tr>\n",
       "    <tr>\n",
       "      <th>0</th>\n",
       "      <td>2010 - 2011</td>\n",
       "      <td>1</td>\n",
       "      <td>8</td>\n",
       "      <td>Malaga</td>\n",
       "      <td>1 : 3</td>\n",
       "      <td>Valencia</td>\n",
       "    </tr>\n",
       "    <tr>\n",
       "      <th>0</th>\n",
       "      <td>2010 - 2011</td>\n",
       "      <td>1</td>\n",
       "      <td>8</td>\n",
       "      <td>Levante</td>\n",
       "      <td>1 : 4</td>\n",
       "      <td>Sevilla</td>\n",
       "    </tr>\n",
       "    <tr>\n",
       "      <th>0</th>\n",
       "      <td>2010 - 2011</td>\n",
       "      <td>1</td>\n",
       "      <td>8</td>\n",
       "      <td>Espanyol</td>\n",
       "      <td>3 : 1</td>\n",
       "      <td>Getafe</td>\n",
       "    </tr>\n",
       "    <tr>\n",
       "      <th>0</th>\n",
       "      <td>2010 - 2011</td>\n",
       "      <td>1</td>\n",
       "      <td>8</td>\n",
       "      <td>Real Sociedad</td>\n",
       "      <td>1 : 0</td>\n",
       "      <td>Villarreal</td>\n",
       "    </tr>\n",
       "  </tbody>\n",
       "</table>\n",
       "</div>"
      ],
      "text/plain": [
       "        season year month      home team  score      away team\n",
       "0  2010 - 2011    1     8      1Hercules  0 : 1  Athletic Club\n",
       "0  2010 - 2011    1     8         Malaga  1 : 3       Valencia\n",
       "0  2010 - 2011    1     8        Levante  1 : 4        Sevilla\n",
       "0  2010 - 2011    1     8       Espanyol  3 : 1         Getafe\n",
       "0  2010 - 2011    1     8  Real Sociedad  1 : 0     Villarreal"
      ]
     },
     "execution_count": 5,
     "metadata": {},
     "output_type": "execute_result"
    }
   ],
   "source": [
    "Match_Results.head()"
   ]
  },
  {
   "cell_type": "code",
   "execution_count": 8,
   "metadata": {
    "collapsed": true
   },
   "outputs": [],
   "source": [
    "Match_Results['home team'] = Match_Results['home team'].str.replace('\\d+', '')\n",
    "Match_Results['away team'] = Match_Results['away team'].str.replace('\\d+', '')"
   ]
  },
  {
   "cell_type": "code",
   "execution_count": 15,
   "metadata": {},
   "outputs": [],
   "source": [
    "Match_Results['home team goals'] = Match_Results['score'].apply(lambda x: x.split(':')[0]) \n",
    "Match_Results['away team goals'] = Match_Results['score'].apply(lambda x: x.split(':')[1]) \n",
    "Match_Results['home team goals'] = pd.to_numeric(Match_Results['home team goals'], errors='coerce')\n",
    "Match_Results['away team goals'] = pd.to_numeric(Match_Results['away team goals'], errors='coerce')"
   ]
  },
  {
   "cell_type": "code",
   "execution_count": 16,
   "metadata": {},
   "outputs": [
    {
     "data": {
      "text/html": [
       "<div>\n",
       "<style>\n",
       "    .dataframe thead tr:only-child th {\n",
       "        text-align: right;\n",
       "    }\n",
       "\n",
       "    .dataframe thead th {\n",
       "        text-align: left;\n",
       "    }\n",
       "\n",
       "    .dataframe tbody tr th {\n",
       "        vertical-align: top;\n",
       "    }\n",
       "</style>\n",
       "<table border=\"1\" class=\"dataframe\">\n",
       "  <thead>\n",
       "    <tr style=\"text-align: right;\">\n",
       "      <th></th>\n",
       "      <th>season</th>\n",
       "      <th>year</th>\n",
       "      <th>month</th>\n",
       "      <th>home team</th>\n",
       "      <th>score</th>\n",
       "      <th>away team</th>\n",
       "      <th>home team goals</th>\n",
       "      <th>away team goals</th>\n",
       "    </tr>\n",
       "  </thead>\n",
       "  <tbody>\n",
       "    <tr>\n",
       "      <th>0</th>\n",
       "      <td>2010 - 2011</td>\n",
       "      <td>1</td>\n",
       "      <td>8</td>\n",
       "      <td>Hercules</td>\n",
       "      <td>0 : 1</td>\n",
       "      <td>Athletic Club</td>\n",
       "      <td>0</td>\n",
       "      <td>1</td>\n",
       "    </tr>\n",
       "    <tr>\n",
       "      <th>0</th>\n",
       "      <td>2010 - 2011</td>\n",
       "      <td>1</td>\n",
       "      <td>8</td>\n",
       "      <td>Malaga</td>\n",
       "      <td>1 : 3</td>\n",
       "      <td>Valencia</td>\n",
       "      <td>1</td>\n",
       "      <td>3</td>\n",
       "    </tr>\n",
       "    <tr>\n",
       "      <th>0</th>\n",
       "      <td>2010 - 2011</td>\n",
       "      <td>1</td>\n",
       "      <td>8</td>\n",
       "      <td>Levante</td>\n",
       "      <td>1 : 4</td>\n",
       "      <td>Sevilla</td>\n",
       "      <td>1</td>\n",
       "      <td>4</td>\n",
       "    </tr>\n",
       "    <tr>\n",
       "      <th>0</th>\n",
       "      <td>2010 - 2011</td>\n",
       "      <td>1</td>\n",
       "      <td>8</td>\n",
       "      <td>Espanyol</td>\n",
       "      <td>3 : 1</td>\n",
       "      <td>Getafe</td>\n",
       "      <td>3</td>\n",
       "      <td>1</td>\n",
       "    </tr>\n",
       "    <tr>\n",
       "      <th>0</th>\n",
       "      <td>2010 - 2011</td>\n",
       "      <td>1</td>\n",
       "      <td>8</td>\n",
       "      <td>Real Sociedad</td>\n",
       "      <td>1 : 0</td>\n",
       "      <td>Villarreal</td>\n",
       "      <td>1</td>\n",
       "      <td>0</td>\n",
       "    </tr>\n",
       "  </tbody>\n",
       "</table>\n",
       "</div>"
      ],
      "text/plain": [
       "        season year month      home team  score      away team  \\\n",
       "0  2010 - 2011    1     8       Hercules  0 : 1  Athletic Club   \n",
       "0  2010 - 2011    1     8         Malaga  1 : 3       Valencia   \n",
       "0  2010 - 2011    1     8        Levante  1 : 4        Sevilla   \n",
       "0  2010 - 2011    1     8       Espanyol  3 : 1         Getafe   \n",
       "0  2010 - 2011    1     8  Real Sociedad  1 : 0     Villarreal   \n",
       "\n",
       "   home team goals  away team goals  \n",
       "0                0                1  \n",
       "0                1                3  \n",
       "0                1                4  \n",
       "0                3                1  \n",
       "0                1                0  "
      ]
     },
     "execution_count": 16,
     "metadata": {},
     "output_type": "execute_result"
    }
   ],
   "source": [
    "Match_Results.head()"
   ]
  },
  {
   "cell_type": "code",
   "execution_count": 132,
   "metadata": {},
   "outputs": [],
   "source": [
    "Summary_Home_Statistic = pickle.load(open('Summary Home Statistic Raw Data.p', 'rb'))\n",
    "Summary_Away_Statistic = pickle.load(open('Summary Away Statistic Raw Data.p', 'rb'))\n",
    "Defensive_Home_Statistic = pickle.load(open('Defensive Home Statistic Raw Data.p', 'rb'))\n",
    "Defensive_Away_Statistic = pickle.load(open('Defensive Away Statistic Raw Data.p', 'rb'))\n",
    "Offensive_Home_Statistic = pickle.load(open('Offensive Home Statistic Raw Data.p', 'rb'))\n",
    "Offensive_Away_Statistic = pickle.load(open('Offensive Away Statistic Raw Data.p', 'rb'))"
   ]
  },
  {
   "cell_type": "code",
   "execution_count": 139,
   "metadata": {
    "collapsed": true
   },
   "outputs": [],
   "source": [
    "Defensive_Home_Statistic.rename(columns = {'shots_pg': 'shots_conceded_pg'}, inplace = True)\n",
    "Defensive_Away_Statistic.rename(columns = {'shots_pg': 'shots_conceded_pg'}, inplace = True)"
   ]
  },
  {
   "cell_type": "code",
   "execution_count": 140,
   "metadata": {},
   "outputs": [],
   "source": [
    "Home_Statistic = pd.merge(Summary_Home_Statistic, Defensive_Home_Statistic, on=['season', 'team'], how='right')\n",
    "Home_Statistic = pd.merge(Home_Statistic, Offensive_Home_Statistic, on=['season', 'team'], how = 'right')\n",
    "Home_Statistic = Home_Statistic.drop(['R_x', 'rating_x', 'R_y', 'rating_y', 'R', 'shots_pg_y', 'rating'], axis = 1)\n",
    "Home_Statistic.rename(columns = {'shots_pg_x': 'shots_pg'}, inplace = True)"
   ]
  },
  {
   "cell_type": "code",
   "execution_count": 153,
   "metadata": {},
   "outputs": [
    {
     "data": {
      "text/plain": [
       "Index(['season', 'team', 'shots_pg', 'discipline_yellow', 'discipline_red',\n",
       "       'possession', 'pass_success', 'aerials_won', 'shots_conceded_pg',\n",
       "       'tackles_pg', 'interceptions_pg', 'fouls_pg', 'offsides_pg',\n",
       "       'shots_ot_pg', 'dribbles_pg', 'fouled_pg'],\n",
       "      dtype='object')"
      ]
     },
     "execution_count": 153,
     "metadata": {},
     "output_type": "execute_result"
    }
   ],
   "source": [
    "Home_Statistic.columns"
   ]
  },
  {
   "cell_type": "code",
   "execution_count": 149,
   "metadata": {
    "collapsed": true
   },
   "outputs": [],
   "source": [
    "Away_Statistic = pd.merge(Summary_Away_Statistic, Defensive_Away_Statistic, on=['season', 'team'], how='right')\n",
    "Away_Statistic = pd.merge(Away_Statistic, Offensive_Away_Statistic, on=['season', 'team'], how = 'right')\n",
    "Away_Statistic = Away_Statistic.drop(['R_x', 'rating_x', 'R_y', 'rating_y', 'R', 'shots_pg_y', 'rating'], axis = 1)\n",
    "Away_Statistic.rename(columns = {'shots_pg_x': 'shots_pg'}, inplace = True)"
   ]
  },
  {
   "cell_type": "code",
   "execution_count": 154,
   "metadata": {},
   "outputs": [
    {
     "data": {
      "text/plain": [
       "Index(['season', 'team', 'shots_pg', 'discipline_yellow', 'discipline_red',\n",
       "       'possession', 'pass_success', 'aerials_won', 'shots_conceded_pg',\n",
       "       'tackles_pg', 'interceptions_pg', 'fouls_pg', 'offsides_pg',\n",
       "       'shots_ot_pg', 'dribbles_pg', 'fouled_pg'],\n",
       "      dtype='object')"
      ]
     },
     "execution_count": 154,
     "metadata": {},
     "output_type": "execute_result"
    }
   ],
   "source": [
    "Away_Statistic.columns"
   ]
  },
  {
   "cell_type": "code",
   "execution_count": null,
   "metadata": {
    "collapsed": true
   },
   "outputs": [],
   "source": []
  },
  {
   "cell_type": "code",
   "execution_count": null,
   "metadata": {
    "collapsed": true
   },
   "outputs": [],
   "source": []
  }
 ],
 "metadata": {
  "kernelspec": {
   "display_name": "Python 3",
   "language": "python",
   "name": "python3"
  },
  "language_info": {
   "codemirror_mode": {
    "name": "ipython",
    "version": 3
   },
   "file_extension": ".py",
   "mimetype": "text/x-python",
   "name": "python",
   "nbconvert_exporter": "python",
   "pygments_lexer": "ipython3",
   "version": "3.6.1"
  }
 },
 "nbformat": 4,
 "nbformat_minor": 2
}
