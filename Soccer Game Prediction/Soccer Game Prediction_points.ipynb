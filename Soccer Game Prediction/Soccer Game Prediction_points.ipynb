{
 "cells": [
  {
   "cell_type": "code",
   "execution_count": 108,
   "metadata": {},
   "outputs": [],
   "source": [
    "from __future__ import print_function, division\n",
    "import pandas as pd\n",
    "import requests\n",
    "import pickle\n",
    "from pandas.core import datetools\n",
    "\n",
    "import statsmodels.api as sm\n",
    "import statsmodels.formula.api as smf\n",
    "import patsy\n",
    "import seaborn as sns\n",
    "from seaborn import plt\n",
    "from sklearn.linear_model import LinearRegression\n",
    "from sklearn.linear_model import RidgeCV\n",
    "import time\n",
    "\n",
    "%matplotlib inline"
   ]
  },
  {
   "cell_type": "code",
   "execution_count": 103,
   "metadata": {
    "collapsed": true
   },
   "outputs": [],
   "source": [
    "pd.set_option('display.max_columns', 50)\n",
    "pd.set_option('display.max_rows', 500)"
   ]
  },
  {
   "cell_type": "markdown",
   "metadata": {},
   "source": [
    "# Data Scraping"
   ]
  },
  {
   "cell_type": "code",
   "execution_count": 33,
   "metadata": {
    "collapsed": true
   },
   "outputs": [],
   "source": [
    "from bs4 import BeautifulSoup as soup\n",
    "from selenium import webdriver\n",
    "from selenium.webdriver.common.keys import Keys"
   ]
  },
  {
   "cell_type": "code",
   "execution_count": 34,
   "metadata": {},
   "outputs": [],
   "source": [
    "chromedriver_path = \"/Users/Tong/chromedriver\"\n",
    "driver = webdriver.Chrome(chromedriver_path)\n",
    "driver.get('https://www.whoscored.com/')\n",
    "time.sleep(5); "
   ]
  },
  {
   "cell_type": "code",
   "execution_count": 35,
   "metadata": {
    "collapsed": true
   },
   "outputs": [],
   "source": [
    "def Laliga_click():\n",
    "    Laliga = driver.find_element_by_xpath('//a[@title=\"Spain\"]')\n",
    "    Laliga.click()\n",
    "    time.sleep(5);"
   ]
  },
  {
   "cell_type": "code",
   "execution_count": 36,
   "metadata": {
    "collapsed": true
   },
   "outputs": [],
   "source": [
    "Laliga_click() #choose the league Laliga"
   ]
  },
  {
   "cell_type": "code",
   "execution_count": 37,
   "metadata": {
    "collapsed": true
   },
   "outputs": [],
   "source": [
    "def season_click(season_num):\n",
    "    season = driver.find_element_by_xpath('//*[@id=\"seasons\"]/option[%d]' %(8-season_num))\n",
    "    try:\n",
    "        season.click()\n",
    "    except WebDriverException:\n",
    "        pass\n",
    "    time.sleep(5)"
   ]
  },
  {
   "cell_type": "raw",
   "metadata": {},
   "source": [
    "def Season_Point_Results(season_num):\n",
    "    results = pd.DataFrame(columns = ['season','team', 'points'])\n",
    "    print('season: 201%d - 201%d' %((season_num - 1), (season_num - 0)))\n",
    "    \n",
    "    season_click(season_num) #choose the season\n",
    "    time.sleep(5);   \n",
    "    \n",
    "    table = driver.find_element_by_css_selector(\"*[class^='ws-panel stat-table tournament-standings-table']\")\n",
    "    \n",
    "    allrows = table.find_elements_by_tag_name('tr')\n",
    "    for row in allrows:\n",
    "        cell = row.find_elements_by_tag_name('td')\n",
    "        if len(cell) >9:\n",
    "            #for element in cell:\n",
    "                #print(element.text)\n",
    "            results = results.append(pd.DataFrame([['201%d - 201%d' %((season_num - 1), (season_num - 0)), cell[1].text, cell[9].text]], columns = ['season','team', 'points']))\n",
    "    return results\n"
   ]
  },
  {
   "cell_type": "raw",
   "metadata": {},
   "source": [
    "Raw_Point_Results = pd.DataFrame(columns = ['season','team', 'points'])"
   ]
  },
  {
   "cell_type": "raw",
   "metadata": {},
   "source": [
    "for season_num in range(1,8):\n",
    "    Raw_Point_Results = Raw_Point_Results.append(Season_Point_Results(season_num))"
   ]
  },
  {
   "cell_type": "raw",
   "metadata": {},
   "source": [
    "Raw_Point_Results = Raw_Point_Results.reset_index(drop = True)\n",
    "Raw_Point_Results.head()"
   ]
  },
  {
   "cell_type": "raw",
   "metadata": {},
   "source": [
    "pickle.dump(Raw_Point_Results, open('data/Point Results Raw Data.p', 'wb'))"
   ]
  },
  {
   "cell_type": "raw",
   "metadata": {},
   "source": [
    "def Team_Statistics_click():\n",
    "    Team_Statistics = driver.find_element_by_xpath('//*[@id=\"sub-navigation\"]/ul/li[3]/a')\n",
    "    while True:\n",
    "        try:\n",
    "            Team_Statistics.click()\n",
    "            break\n",
    "        except:\n",
    "            time.sleep(2);\n",
    "    time.sleep(5);"
   ]
  },
  {
   "cell_type": "raw",
   "metadata": {},
   "source": [
    "def Summary_in_Team_Statistics_click():\n",
    "    Summary = driver.find_element_by_xpath('//*[@id=\"stage-team-stats-options\"]/li[1]/a')\n",
    "    try:\n",
    "        Summary.click()\n",
    "    except:\n",
    "        time.sleep(2);\n",
    "    time.sleep(5);"
   ]
  },
  {
   "cell_type": "raw",
   "metadata": {},
   "source": [
    "def Defensive_in_Team_Statistics_click():\n",
    "    Defensive = driver.find_element_by_xpath('//*[@id=\"stage-team-stats-options\"]/li[2]/a')\n",
    "    try:\n",
    "        Defensive.click()\n",
    "    except:\n",
    "        time.sleep(1);\n",
    "    time.sleep(5);"
   ]
  },
  {
   "cell_type": "raw",
   "metadata": {},
   "source": [
    "def Offensive_in_Team_Statistics_click():\n",
    "    Offensive = driver.find_element_by_xpath('//*[@id=\"stage-team-stats-options\"]/li[3]/a')\n",
    "    while True:\n",
    "        try:\n",
    "            Offensive.click()\n",
    "            break\n",
    "        except:\n",
    "            time.sleep(1);\n",
    "    time.sleep(5);"
   ]
  },
  {
   "cell_type": "raw",
   "metadata": {},
   "source": [
    "def Season_Team_Statistics(season_num, stat_option):\n",
    "    season_click(season_num)  #choose the ith latest season\n",
    "    time.sleep(5);\n",
    "    print(season_num)\n",
    "    Team_Statistics_click()  #select Team Statistics Tab \n",
    "    time.sleep(5);\n",
    "    \n",
    "    if stat_option == 'summary':\n",
    "        columns = ['season', 'R', 'team','shots_pg', 'discipline_yellow', 'discipline_red', 'possession', 'pass_success', 'aerials_won', 'rating']\n",
    "        #Summary_in_Team_Statistics_click() #select summary statistics \n",
    "        #time.sleep(5);\n",
    "        table = driver.find_element_by_xpath('//*[@id=\"statistics-team-table-summary\"]')\n",
    "    \n",
    "    elif stat_option == 'defensive':\n",
    "        columns = ['season', 'R', 'team','shots_pg', 'tackles_pg', 'interceptions_pg', 'fouls_pg', 'offsides_pg', 'rating']\n",
    "        Defensive_in_Team_Statistics_click() #select summary statistics \n",
    "        time.sleep(5);\n",
    "        table = driver.find_element_by_xpath('//*[@id=\"statistics-team-table-defensive\"]')\n",
    "        \n",
    "    elif stat_option == 'offensive':\n",
    "        columns = ['season', 'R', 'team','shots_pg', 'shots_ot_pg', 'dribbles_pg', 'fouled_pg', 'rating']\n",
    "        Offensive_in_Team_Statistics_click() #select summary statistics \n",
    "        time.sleep(5);\n",
    "        table = driver.find_element_by_xpath('//*[@id=\"statistics-team-table-offensive\"]')\n",
    "        \n",
    "    team_statistic = pd.DataFrame(columns = columns)\n",
    "    \n",
    "    allrows = table.find_elements_by_tag_name('tr')\n",
    "    \n",
    "    for row in allrows:\n",
    "        cell = row.find_elements_by_tag_name('td')\n",
    "        data = ['201%d - 201%d' %((season_num - 1), (season_num - 0))]\n",
    "        if len(cell) != 0:\n",
    "            for element in cell:\n",
    "                Card = element.find_elements_by_tag_name('span')\n",
    "                if len(Card) != 0:\n",
    "                    for card in Card:\n",
    "                        data.append(card.text)\n",
    "                else:\n",
    "                    data.append(element.text)\n",
    "                    #print(element.text)\n",
    "            team_statistic = team_statistic.append(pd.DataFrame([data], columns = columns))\n",
    "\n",
    "    return team_statistic"
   ]
  },
  {
   "cell_type": "raw",
   "metadata": {},
   "source": [
    "Raw_Summary_Overall_Statistic = pd.DataFrame(columns = ['season', 'R', 'team','shots_pg', 'discipline_yellow', 'discipline_red', 'possession', 'pass_success', 'aerials_won', 'rating'])\n",
    "for season_num in range(1,8):\n",
    "    Raw_Summary_Overall_Statistic = Raw_Summary_Overall_Statistic.append(Season_Team_Statistics(season_num, 'summary'))"
   ]
  },
  {
   "cell_type": "raw",
   "metadata": {},
   "source": [
    "Raw_Summary_Overall_Statistic.head()\n",
    "del Raw_Summary_Overall_Statistic['R']\n",
    "del Raw_Summary_Overall_Statistic['rating']\n",
    "Raw_Summary_Overall_Statistic = Raw_Summary_Overall_Statistic.reset_index(drop = True)"
   ]
  },
  {
   "cell_type": "raw",
   "metadata": {},
   "source": [
    "Raw_Summary_Overall_Statistic.head()"
   ]
  },
  {
   "cell_type": "raw",
   "metadata": {},
   "source": [
    "pickle.dump(Raw_Summary_Overall_Statistic, open('data/Summary Overall Statistic Raw Data.p', 'wb'))"
   ]
  },
  {
   "cell_type": "raw",
   "metadata": {},
   "source": [
    "#Get defensive stats for teams.\n",
    "Raw_Defensive_Overall_Statistic = pd.DataFrame(columns = ['season', 'R', 'team','shots_pg', 'tackles_pg', 'interceptions_pg', 'fouls_pg', 'offsides_pg', 'rating'])\n",
    "for season_num in range(1,8):\n",
    "    Raw_Defensive_Overall_Statistic = Raw_Defensive_Overall_Statistic.append(Season_Team_Statistics(season_num, 'defensive'))"
   ]
  },
  {
   "cell_type": "raw",
   "metadata": {},
   "source": [
    "Raw_Defensive_Overall_Statistic.shape"
   ]
  },
  {
   "cell_type": "raw",
   "metadata": {},
   "source": [
    "pickle.dump(Raw_Defensive_Overall_Statistic, open('data/Defensive Overall Statistic Raw Data.p', 'wb'))"
   ]
  },
  {
   "cell_type": "raw",
   "metadata": {},
   "source": [
    "#Get offensive stats for teams.\n",
    "Raw_Offensive_Overall_Statistic = pd.DataFrame(columns = ['season', 'R', 'team','shots_pg', 'shots_ot_pg', 'dribbles_pg', 'fouled_pg', 'rating'])\n",
    "for season_num in range(1,8):\n",
    "    Raw_Offensive_Overall_Statistic = Raw_Offensive_Overall_Statistic.append(Season_Team_Statistics(season_num, 'offensive'))"
   ]
  },
  {
   "cell_type": "raw",
   "metadata": {},
   "source": [
    "Raw_Offensive_Overall_Statistic.shape"
   ]
  },
  {
   "cell_type": "raw",
   "metadata": {},
   "source": [
    "pickle.dump(Raw_Offensive_Overall_Statistic, open('data/Offensive Overall Statistic Raw Data.p', 'wb'))"
   ]
  },
  {
   "cell_type": "markdown",
   "metadata": {},
   "source": [
    "# Clean Data"
   ]
  },
  {
   "cell_type": "raw",
   "metadata": {},
   "source": [
    "Point_Results = pickle.load(open('data/Point Results Raw Data.p', 'rb'))"
   ]
  },
  {
   "cell_type": "raw",
   "metadata": {},
   "source": [
    "Point_Results.head()"
   ]
  },
  {
   "cell_type": "raw",
   "metadata": {},
   "source": [
    "Summary_Statistic = pickle.load(open('data/Summary Overall Statistic Raw Data.p', 'rb'))\n",
    "Defensive_Statistic = pickle.load(open('data/Defensive Overall Statistic Raw Data.p', 'rb'))\n",
    "Offensive_Statistic = pickle.load(open('data/Offensive Overall Statistic Raw Data.p', 'rb'))"
   ]
  },
  {
   "cell_type": "raw",
   "metadata": {},
   "source": [
    "Summary_Statistic.head()"
   ]
  },
  {
   "cell_type": "raw",
   "metadata": {},
   "source": [
    "#del Defensive_Statistic['R']\n",
    "#del Defensive_Statistic['rating']\n",
    "#Defensive_Statistic = Defensive_Statistic.reset_index(drop = True)\n",
    "Defensive_Statistic.rename(columns = {'shots_pg': 'shots_conceded_pg'}, inplace = True)\n",
    "Defensive_Statistic.head()"
   ]
  },
  {
   "cell_type": "raw",
   "metadata": {},
   "source": [
    "del Offensive_Statistic['R']\n",
    "del Offensive_Statistic['rating']\n",
    "del Offensive_Statistic['shots_pg']\n",
    "Offensive_Statistic = Offensive_Statistic.reset_index(drop = True)\n",
    "Offensive_Statistic.head()"
   ]
  },
  {
   "cell_type": "raw",
   "metadata": {},
   "source": [
    "Statistics = pd.merge(Summary_Statistic, Defensive_Statistic, on=['season', 'team'], how='right')\n",
    "Statistics = pd.merge(Statistics, Offensive_Statistic, on=['season', 'team'], how='right')"
   ]
  },
  {
   "cell_type": "raw",
   "metadata": {},
   "source": [
    "Points_vs_Statistics = pd.merge(Point_Results, Statistics, on=['season', 'team'], how='right')"
   ]
  },
  {
   "cell_type": "raw",
   "metadata": {},
   "source": [
    "Points_vs_Statistics.columns"
   ]
  },
  {
   "cell_type": "raw",
   "metadata": {},
   "source": [
    "to_numeric_columns = ['points', 'shots_pg', 'discipline_yellow',\n",
    "       'discipline_red', 'possession', 'pass_success', 'aerials_won',\n",
    "       'shots_conceded_pg', 'tackles_pg', 'interceptions_pg', 'fouls_pg',\n",
    "       'offsides_pg', 'shots_ot_pg', 'dribbles_pg', 'fouled_pg']\n",
    "for column in to_numeric_columns:\n",
    "    Points_vs_Statistics[column] = pd.to_numeric(Points_vs_Statistics[column])"
   ]
  },
  {
   "cell_type": "raw",
   "metadata": {},
   "source": [
    "pickle.dump(Points_vs_Statistics, open('data/Points_vs_Statistics.p', 'wb'))"
   ]
  },
  {
   "cell_type": "markdown",
   "metadata": {},
   "source": [
    "# Data Exploration"
   ]
  },
  {
   "cell_type": "code",
   "execution_count": 147,
   "metadata": {
    "collapsed": true
   },
   "outputs": [],
   "source": [
    "Points_vs_Statistics = pickle.load(open('data/Points_vs_Statistics.p', 'rb'))"
   ]
  },
  {
   "cell_type": "code",
   "execution_count": 148,
   "metadata": {},
   "outputs": [
    {
     "data": {
      "text/html": [
       "<div>\n",
       "<style>\n",
       "    .dataframe thead tr:only-child th {\n",
       "        text-align: right;\n",
       "    }\n",
       "\n",
       "    .dataframe thead th {\n",
       "        text-align: left;\n",
       "    }\n",
       "\n",
       "    .dataframe tbody tr th {\n",
       "        vertical-align: top;\n",
       "    }\n",
       "</style>\n",
       "<table border=\"1\" class=\"dataframe\">\n",
       "  <thead>\n",
       "    <tr style=\"text-align: right;\">\n",
       "      <th></th>\n",
       "      <th>season</th>\n",
       "      <th>team</th>\n",
       "      <th>points</th>\n",
       "      <th>shots_pg</th>\n",
       "      <th>discipline_yellow</th>\n",
       "      <th>discipline_red</th>\n",
       "      <th>possession</th>\n",
       "      <th>pass_success</th>\n",
       "      <th>aerials_won</th>\n",
       "      <th>shots_conceded_pg</th>\n",
       "      <th>tackles_pg</th>\n",
       "      <th>interceptions_pg</th>\n",
       "      <th>fouls_pg</th>\n",
       "      <th>offsides_pg</th>\n",
       "      <th>shots_ot_pg</th>\n",
       "      <th>dribbles_pg</th>\n",
       "      <th>fouled_pg</th>\n",
       "    </tr>\n",
       "  </thead>\n",
       "  <tbody>\n",
       "    <tr>\n",
       "      <th>0</th>\n",
       "      <td>2010 - 2011</td>\n",
       "      <td>Barcelona</td>\n",
       "      <td>96</td>\n",
       "      <td>15.8</td>\n",
       "      <td>71.0</td>\n",
       "      <td>2.0</td>\n",
       "      <td>67.4</td>\n",
       "      <td>89.6</td>\n",
       "      <td>6.2</td>\n",
       "      <td>7.4</td>\n",
       "      <td>18.5</td>\n",
       "      <td>18.2</td>\n",
       "      <td>10.6</td>\n",
       "      <td>3.9</td>\n",
       "      <td>7.3</td>\n",
       "      <td>14.7</td>\n",
       "      <td>13.4</td>\n",
       "    </tr>\n",
       "    <tr>\n",
       "      <th>1</th>\n",
       "      <td>2010 - 2011</td>\n",
       "      <td>Real Madrid</td>\n",
       "      <td>92</td>\n",
       "      <td>19.1</td>\n",
       "      <td>94.0</td>\n",
       "      <td>7.0</td>\n",
       "      <td>55.0</td>\n",
       "      <td>82.9</td>\n",
       "      <td>10.1</td>\n",
       "      <td>10.2</td>\n",
       "      <td>22.4</td>\n",
       "      <td>21.8</td>\n",
       "      <td>14.2</td>\n",
       "      <td>3.8</td>\n",
       "      <td>8.0</td>\n",
       "      <td>11.7</td>\n",
       "      <td>13.7</td>\n",
       "    </tr>\n",
       "    <tr>\n",
       "      <th>2</th>\n",
       "      <td>2010 - 2011</td>\n",
       "      <td>Valencia</td>\n",
       "      <td>71</td>\n",
       "      <td>13.1</td>\n",
       "      <td>112.0</td>\n",
       "      <td>8.0</td>\n",
       "      <td>54.6</td>\n",
       "      <td>80.0</td>\n",
       "      <td>11.8</td>\n",
       "      <td>13.4</td>\n",
       "      <td>19.2</td>\n",
       "      <td>23.3</td>\n",
       "      <td>16.0</td>\n",
       "      <td>2.8</td>\n",
       "      <td>5.1</td>\n",
       "      <td>7.9</td>\n",
       "      <td>12.1</td>\n",
       "    </tr>\n",
       "    <tr>\n",
       "      <th>3</th>\n",
       "      <td>2010 - 2011</td>\n",
       "      <td>Villarreal</td>\n",
       "      <td>62</td>\n",
       "      <td>13.9</td>\n",
       "      <td>88.0</td>\n",
       "      <td>5.0</td>\n",
       "      <td>52.7</td>\n",
       "      <td>82.2</td>\n",
       "      <td>7.8</td>\n",
       "      <td>12.0</td>\n",
       "      <td>22.8</td>\n",
       "      <td>24.6</td>\n",
       "      <td>12.4</td>\n",
       "      <td>2.2</td>\n",
       "      <td>5.4</td>\n",
       "      <td>9.2</td>\n",
       "      <td>16.4</td>\n",
       "    </tr>\n",
       "    <tr>\n",
       "      <th>4</th>\n",
       "      <td>2010 - 2011</td>\n",
       "      <td>Sevilla</td>\n",
       "      <td>58</td>\n",
       "      <td>13.8</td>\n",
       "      <td>100.0</td>\n",
       "      <td>7.0</td>\n",
       "      <td>52.7</td>\n",
       "      <td>80.1</td>\n",
       "      <td>13.7</td>\n",
       "      <td>12.6</td>\n",
       "      <td>19.3</td>\n",
       "      <td>20.4</td>\n",
       "      <td>14.5</td>\n",
       "      <td>2.2</td>\n",
       "      <td>5.5</td>\n",
       "      <td>7.7</td>\n",
       "      <td>14.9</td>\n",
       "    </tr>\n",
       "  </tbody>\n",
       "</table>\n",
       "</div>"
      ],
      "text/plain": [
       "        season         team  points  shots_pg  discipline_yellow  \\\n",
       "0  2010 - 2011    Barcelona      96      15.8               71.0   \n",
       "1  2010 - 2011  Real Madrid      92      19.1               94.0   \n",
       "2  2010 - 2011     Valencia      71      13.1              112.0   \n",
       "3  2010 - 2011   Villarreal      62      13.9               88.0   \n",
       "4  2010 - 2011      Sevilla      58      13.8              100.0   \n",
       "\n",
       "   discipline_red  possession  pass_success  aerials_won  shots_conceded_pg  \\\n",
       "0             2.0        67.4          89.6          6.2                7.4   \n",
       "1             7.0        55.0          82.9         10.1               10.2   \n",
       "2             8.0        54.6          80.0         11.8               13.4   \n",
       "3             5.0        52.7          82.2          7.8               12.0   \n",
       "4             7.0        52.7          80.1         13.7               12.6   \n",
       "\n",
       "   tackles_pg  interceptions_pg  fouls_pg  offsides_pg  shots_ot_pg  \\\n",
       "0        18.5              18.2      10.6          3.9          7.3   \n",
       "1        22.4              21.8      14.2          3.8          8.0   \n",
       "2        19.2              23.3      16.0          2.8          5.1   \n",
       "3        22.8              24.6      12.4          2.2          5.4   \n",
       "4        19.3              20.4      14.5          2.2          5.5   \n",
       "\n",
       "   dribbles_pg  fouled_pg  \n",
       "0         14.7       13.4  \n",
       "1         11.7       13.7  \n",
       "2          7.9       12.1  \n",
       "3          9.2       16.4  \n",
       "4          7.7       14.9  "
      ]
     },
     "execution_count": 148,
     "metadata": {},
     "output_type": "execute_result"
    }
   ],
   "source": [
    "Points_vs_Statistics.head()"
   ]
  },
  {
   "cell_type": "code",
   "execution_count": 154,
   "metadata": {},
   "outputs": [
    {
     "data": {
      "text/plain": [
       "Index(['season', 'team', 'points', 'shots_pg', 'discipline_yellow',\n",
       "       'discipline_red', 'possession', 'pass_success', 'aerials_won',\n",
       "       'shots_conceded_pg', 'tackles_pg', 'interceptions_pg', 'fouls_pg',\n",
       "       'offsides_pg', 'shots_ot_pg', 'dribbles_pg', 'fouled_pg'],\n",
       "      dtype='object')"
      ]
     },
     "execution_count": 154,
     "metadata": {},
     "output_type": "execute_result"
    }
   ],
   "source": [
    "Points_vs_Statistics.columns"
   ]
  },
  {
   "cell_type": "code",
   "execution_count": 156,
   "metadata": {},
   "outputs": [
    {
     "name": "stdout",
     "output_type": "stream",
     "text": [
      "(20, 17)\n",
      "(120, 17)\n"
     ]
    }
   ],
   "source": [
    "#split the data into test set (season 2016-2017) and train set (6 previous season)\n",
    "Test_set = Points_vs_Statistics[Points_vs_Statistics['season'] == '2016 - 2017']\n",
    "Train_set = Points_vs_Statistics[Points_vs_Statistics['season'] != '2016 - 2017']\n",
    "print(Test_set.shape)\n",
    "print(Train_set.shape)"
   ]
  },
  {
   "cell_type": "code",
   "execution_count": 157,
   "metadata": {},
   "outputs": [
    {
     "data": {
      "text/html": [
       "<div>\n",
       "<style>\n",
       "    .dataframe thead tr:only-child th {\n",
       "        text-align: right;\n",
       "    }\n",
       "\n",
       "    .dataframe thead th {\n",
       "        text-align: left;\n",
       "    }\n",
       "\n",
       "    .dataframe tbody tr th {\n",
       "        vertical-align: top;\n",
       "    }\n",
       "</style>\n",
       "<table border=\"1\" class=\"dataframe\">\n",
       "  <thead>\n",
       "    <tr style=\"text-align: right;\">\n",
       "      <th></th>\n",
       "      <th>points</th>\n",
       "      <th>shots_pg</th>\n",
       "      <th>discipline_yellow</th>\n",
       "      <th>discipline_red</th>\n",
       "      <th>possession</th>\n",
       "      <th>pass_success</th>\n",
       "      <th>aerials_won</th>\n",
       "      <th>shots_conceded_pg</th>\n",
       "      <th>tackles_pg</th>\n",
       "      <th>interceptions_pg</th>\n",
       "      <th>fouls_pg</th>\n",
       "      <th>offsides_pg</th>\n",
       "      <th>shots_ot_pg</th>\n",
       "      <th>dribbles_pg</th>\n",
       "      <th>fouled_pg</th>\n",
       "    </tr>\n",
       "  </thead>\n",
       "  <tbody>\n",
       "    <tr>\n",
       "      <th>shots_conceded_pg</th>\n",
       "      <td>-0.637968</td>\n",
       "      <td>-0.441121</td>\n",
       "      <td>0.339195</td>\n",
       "      <td>0.268446</td>\n",
       "      <td>-0.572624</td>\n",
       "      <td>-0.528868</td>\n",
       "      <td>0.136452</td>\n",
       "      <td>1.000000</td>\n",
       "      <td>0.028220</td>\n",
       "      <td>0.308699</td>\n",
       "      <td>0.354195</td>\n",
       "      <td>-0.289437</td>\n",
       "      <td>-0.530208</td>\n",
       "      <td>-0.574663</td>\n",
       "      <td>-0.089739</td>\n",
       "    </tr>\n",
       "    <tr>\n",
       "      <th>discipline_yellow</th>\n",
       "      <td>-0.460320</td>\n",
       "      <td>-0.315475</td>\n",
       "      <td>1.000000</td>\n",
       "      <td>0.423842</td>\n",
       "      <td>-0.438370</td>\n",
       "      <td>-0.531298</td>\n",
       "      <td>0.130350</td>\n",
       "      <td>0.339195</td>\n",
       "      <td>0.220248</td>\n",
       "      <td>0.279329</td>\n",
       "      <td>0.752837</td>\n",
       "      <td>-0.182404</td>\n",
       "      <td>-0.435688</td>\n",
       "      <td>-0.434819</td>\n",
       "      <td>0.019041</td>\n",
       "    </tr>\n",
       "    <tr>\n",
       "      <th>fouls_pg</th>\n",
       "      <td>-0.423732</td>\n",
       "      <td>-0.367900</td>\n",
       "      <td>0.752837</td>\n",
       "      <td>0.374879</td>\n",
       "      <td>-0.540049</td>\n",
       "      <td>-0.636358</td>\n",
       "      <td>0.246780</td>\n",
       "      <td>0.354195</td>\n",
       "      <td>0.271171</td>\n",
       "      <td>0.316347</td>\n",
       "      <td>1.000000</td>\n",
       "      <td>-0.115588</td>\n",
       "      <td>-0.445876</td>\n",
       "      <td>-0.537932</td>\n",
       "      <td>-0.154105</td>\n",
       "    </tr>\n",
       "    <tr>\n",
       "      <th>discipline_red</th>\n",
       "      <td>-0.373896</td>\n",
       "      <td>-0.129294</td>\n",
       "      <td>0.423842</td>\n",
       "      <td>1.000000</td>\n",
       "      <td>-0.252000</td>\n",
       "      <td>-0.282582</td>\n",
       "      <td>0.118715</td>\n",
       "      <td>0.268446</td>\n",
       "      <td>0.146661</td>\n",
       "      <td>0.159666</td>\n",
       "      <td>0.374879</td>\n",
       "      <td>-0.178426</td>\n",
       "      <td>-0.241572</td>\n",
       "      <td>-0.292502</td>\n",
       "      <td>0.071413</td>\n",
       "    </tr>\n",
       "    <tr>\n",
       "      <th>aerials_won</th>\n",
       "      <td>-0.341734</td>\n",
       "      <td>-0.413680</td>\n",
       "      <td>0.130350</td>\n",
       "      <td>0.118715</td>\n",
       "      <td>-0.446628</td>\n",
       "      <td>-0.528448</td>\n",
       "      <td>1.000000</td>\n",
       "      <td>0.136452</td>\n",
       "      <td>-0.071842</td>\n",
       "      <td>-0.307719</td>\n",
       "      <td>0.246780</td>\n",
       "      <td>-0.402291</td>\n",
       "      <td>-0.482340</td>\n",
       "      <td>-0.328444</td>\n",
       "      <td>-0.319370</td>\n",
       "    </tr>\n",
       "    <tr>\n",
       "      <th>interceptions_pg</th>\n",
       "      <td>-0.245912</td>\n",
       "      <td>-0.149958</td>\n",
       "      <td>0.279329</td>\n",
       "      <td>0.159666</td>\n",
       "      <td>-0.257981</td>\n",
       "      <td>-0.326580</td>\n",
       "      <td>-0.307719</td>\n",
       "      <td>0.308699</td>\n",
       "      <td>0.457912</td>\n",
       "      <td>1.000000</td>\n",
       "      <td>0.316347</td>\n",
       "      <td>0.078595</td>\n",
       "      <td>-0.173987</td>\n",
       "      <td>-0.461634</td>\n",
       "      <td>0.113026</td>\n",
       "    </tr>\n",
       "    <tr>\n",
       "      <th>tackles_pg</th>\n",
       "      <td>0.021334</td>\n",
       "      <td>0.051508</td>\n",
       "      <td>0.220248</td>\n",
       "      <td>0.146661</td>\n",
       "      <td>-0.082118</td>\n",
       "      <td>-0.144963</td>\n",
       "      <td>-0.071842</td>\n",
       "      <td>0.028220</td>\n",
       "      <td>1.000000</td>\n",
       "      <td>0.457912</td>\n",
       "      <td>0.271171</td>\n",
       "      <td>0.101538</td>\n",
       "      <td>-0.011313</td>\n",
       "      <td>-0.237091</td>\n",
       "      <td>0.249027</td>\n",
       "    </tr>\n",
       "    <tr>\n",
       "      <th>fouled_pg</th>\n",
       "      <td>0.224410</td>\n",
       "      <td>0.289177</td>\n",
       "      <td>0.019041</td>\n",
       "      <td>0.071413</td>\n",
       "      <td>0.336060</td>\n",
       "      <td>0.321857</td>\n",
       "      <td>-0.319370</td>\n",
       "      <td>-0.089739</td>\n",
       "      <td>0.249027</td>\n",
       "      <td>0.113026</td>\n",
       "      <td>-0.154105</td>\n",
       "      <td>0.145649</td>\n",
       "      <td>0.297559</td>\n",
       "      <td>0.175609</td>\n",
       "      <td>1.000000</td>\n",
       "    </tr>\n",
       "    <tr>\n",
       "      <th>offsides_pg</th>\n",
       "      <td>0.503728</td>\n",
       "      <td>0.553819</td>\n",
       "      <td>-0.182404</td>\n",
       "      <td>-0.178426</td>\n",
       "      <td>0.480089</td>\n",
       "      <td>0.427450</td>\n",
       "      <td>-0.402291</td>\n",
       "      <td>-0.289437</td>\n",
       "      <td>0.101538</td>\n",
       "      <td>0.078595</td>\n",
       "      <td>-0.115588</td>\n",
       "      <td>1.000000</td>\n",
       "      <td>0.622238</td>\n",
       "      <td>0.248150</td>\n",
       "      <td>0.145649</td>\n",
       "    </tr>\n",
       "    <tr>\n",
       "      <th>dribbles_pg</th>\n",
       "      <td>0.622643</td>\n",
       "      <td>0.548170</td>\n",
       "      <td>-0.434819</td>\n",
       "      <td>-0.292502</td>\n",
       "      <td>0.710172</td>\n",
       "      <td>0.769414</td>\n",
       "      <td>-0.328444</td>\n",
       "      <td>-0.574663</td>\n",
       "      <td>-0.237091</td>\n",
       "      <td>-0.461634</td>\n",
       "      <td>-0.537932</td>\n",
       "      <td>0.248150</td>\n",
       "      <td>0.612996</td>\n",
       "      <td>1.000000</td>\n",
       "      <td>0.175609</td>\n",
       "    </tr>\n",
       "    <tr>\n",
       "      <th>possession</th>\n",
       "      <td>0.676649</td>\n",
       "      <td>0.693545</td>\n",
       "      <td>-0.438370</td>\n",
       "      <td>-0.252000</td>\n",
       "      <td>1.000000</td>\n",
       "      <td>0.906286</td>\n",
       "      <td>-0.446628</td>\n",
       "      <td>-0.572624</td>\n",
       "      <td>-0.082118</td>\n",
       "      <td>-0.257981</td>\n",
       "      <td>-0.540049</td>\n",
       "      <td>0.480089</td>\n",
       "      <td>0.763108</td>\n",
       "      <td>0.710172</td>\n",
       "      <td>0.336060</td>\n",
       "    </tr>\n",
       "    <tr>\n",
       "      <th>shots_pg</th>\n",
       "      <td>0.686605</td>\n",
       "      <td>1.000000</td>\n",
       "      <td>-0.315475</td>\n",
       "      <td>-0.129294</td>\n",
       "      <td>0.693545</td>\n",
       "      <td>0.699892</td>\n",
       "      <td>-0.413680</td>\n",
       "      <td>-0.441121</td>\n",
       "      <td>0.051508</td>\n",
       "      <td>-0.149958</td>\n",
       "      <td>-0.367900</td>\n",
       "      <td>0.553819</td>\n",
       "      <td>0.936822</td>\n",
       "      <td>0.548170</td>\n",
       "      <td>0.289177</td>\n",
       "    </tr>\n",
       "    <tr>\n",
       "      <th>pass_success</th>\n",
       "      <td>0.707551</td>\n",
       "      <td>0.699892</td>\n",
       "      <td>-0.531298</td>\n",
       "      <td>-0.282582</td>\n",
       "      <td>0.906286</td>\n",
       "      <td>1.000000</td>\n",
       "      <td>-0.528448</td>\n",
       "      <td>-0.528868</td>\n",
       "      <td>-0.144963</td>\n",
       "      <td>-0.326580</td>\n",
       "      <td>-0.636358</td>\n",
       "      <td>0.427450</td>\n",
       "      <td>0.775434</td>\n",
       "      <td>0.769414</td>\n",
       "      <td>0.321857</td>\n",
       "    </tr>\n",
       "    <tr>\n",
       "      <th>shots_ot_pg</th>\n",
       "      <td>0.813329</td>\n",
       "      <td>0.936822</td>\n",
       "      <td>-0.435688</td>\n",
       "      <td>-0.241572</td>\n",
       "      <td>0.763108</td>\n",
       "      <td>0.775434</td>\n",
       "      <td>-0.482340</td>\n",
       "      <td>-0.530208</td>\n",
       "      <td>-0.011313</td>\n",
       "      <td>-0.173987</td>\n",
       "      <td>-0.445876</td>\n",
       "      <td>0.622238</td>\n",
       "      <td>1.000000</td>\n",
       "      <td>0.612996</td>\n",
       "      <td>0.297559</td>\n",
       "    </tr>\n",
       "    <tr>\n",
       "      <th>points</th>\n",
       "      <td>1.000000</td>\n",
       "      <td>0.686605</td>\n",
       "      <td>-0.460320</td>\n",
       "      <td>-0.373896</td>\n",
       "      <td>0.676649</td>\n",
       "      <td>0.707551</td>\n",
       "      <td>-0.341734</td>\n",
       "      <td>-0.637968</td>\n",
       "      <td>0.021334</td>\n",
       "      <td>-0.245912</td>\n",
       "      <td>-0.423732</td>\n",
       "      <td>0.503728</td>\n",
       "      <td>0.813329</td>\n",
       "      <td>0.622643</td>\n",
       "      <td>0.224410</td>\n",
       "    </tr>\n",
       "  </tbody>\n",
       "</table>\n",
       "</div>"
      ],
      "text/plain": [
       "                     points  shots_pg  discipline_yellow  discipline_red  \\\n",
       "shots_conceded_pg -0.637968 -0.441121           0.339195        0.268446   \n",
       "discipline_yellow -0.460320 -0.315475           1.000000        0.423842   \n",
       "fouls_pg          -0.423732 -0.367900           0.752837        0.374879   \n",
       "discipline_red    -0.373896 -0.129294           0.423842        1.000000   \n",
       "aerials_won       -0.341734 -0.413680           0.130350        0.118715   \n",
       "interceptions_pg  -0.245912 -0.149958           0.279329        0.159666   \n",
       "tackles_pg         0.021334  0.051508           0.220248        0.146661   \n",
       "fouled_pg          0.224410  0.289177           0.019041        0.071413   \n",
       "offsides_pg        0.503728  0.553819          -0.182404       -0.178426   \n",
       "dribbles_pg        0.622643  0.548170          -0.434819       -0.292502   \n",
       "possession         0.676649  0.693545          -0.438370       -0.252000   \n",
       "shots_pg           0.686605  1.000000          -0.315475       -0.129294   \n",
       "pass_success       0.707551  0.699892          -0.531298       -0.282582   \n",
       "shots_ot_pg        0.813329  0.936822          -0.435688       -0.241572   \n",
       "points             1.000000  0.686605          -0.460320       -0.373896   \n",
       "\n",
       "                   possession  pass_success  aerials_won  shots_conceded_pg  \\\n",
       "shots_conceded_pg   -0.572624     -0.528868     0.136452           1.000000   \n",
       "discipline_yellow   -0.438370     -0.531298     0.130350           0.339195   \n",
       "fouls_pg            -0.540049     -0.636358     0.246780           0.354195   \n",
       "discipline_red      -0.252000     -0.282582     0.118715           0.268446   \n",
       "aerials_won         -0.446628     -0.528448     1.000000           0.136452   \n",
       "interceptions_pg    -0.257981     -0.326580    -0.307719           0.308699   \n",
       "tackles_pg          -0.082118     -0.144963    -0.071842           0.028220   \n",
       "fouled_pg            0.336060      0.321857    -0.319370          -0.089739   \n",
       "offsides_pg          0.480089      0.427450    -0.402291          -0.289437   \n",
       "dribbles_pg          0.710172      0.769414    -0.328444          -0.574663   \n",
       "possession           1.000000      0.906286    -0.446628          -0.572624   \n",
       "shots_pg             0.693545      0.699892    -0.413680          -0.441121   \n",
       "pass_success         0.906286      1.000000    -0.528448          -0.528868   \n",
       "shots_ot_pg          0.763108      0.775434    -0.482340          -0.530208   \n",
       "points               0.676649      0.707551    -0.341734          -0.637968   \n",
       "\n",
       "                   tackles_pg  interceptions_pg  fouls_pg  offsides_pg  \\\n",
       "shots_conceded_pg    0.028220          0.308699  0.354195    -0.289437   \n",
       "discipline_yellow    0.220248          0.279329  0.752837    -0.182404   \n",
       "fouls_pg             0.271171          0.316347  1.000000    -0.115588   \n",
       "discipline_red       0.146661          0.159666  0.374879    -0.178426   \n",
       "aerials_won         -0.071842         -0.307719  0.246780    -0.402291   \n",
       "interceptions_pg     0.457912          1.000000  0.316347     0.078595   \n",
       "tackles_pg           1.000000          0.457912  0.271171     0.101538   \n",
       "fouled_pg            0.249027          0.113026 -0.154105     0.145649   \n",
       "offsides_pg          0.101538          0.078595 -0.115588     1.000000   \n",
       "dribbles_pg         -0.237091         -0.461634 -0.537932     0.248150   \n",
       "possession          -0.082118         -0.257981 -0.540049     0.480089   \n",
       "shots_pg             0.051508         -0.149958 -0.367900     0.553819   \n",
       "pass_success        -0.144963         -0.326580 -0.636358     0.427450   \n",
       "shots_ot_pg         -0.011313         -0.173987 -0.445876     0.622238   \n",
       "points               0.021334         -0.245912 -0.423732     0.503728   \n",
       "\n",
       "                   shots_ot_pg  dribbles_pg  fouled_pg  \n",
       "shots_conceded_pg    -0.530208    -0.574663  -0.089739  \n",
       "discipline_yellow    -0.435688    -0.434819   0.019041  \n",
       "fouls_pg             -0.445876    -0.537932  -0.154105  \n",
       "discipline_red       -0.241572    -0.292502   0.071413  \n",
       "aerials_won          -0.482340    -0.328444  -0.319370  \n",
       "interceptions_pg     -0.173987    -0.461634   0.113026  \n",
       "tackles_pg           -0.011313    -0.237091   0.249027  \n",
       "fouled_pg             0.297559     0.175609   1.000000  \n",
       "offsides_pg           0.622238     0.248150   0.145649  \n",
       "dribbles_pg           0.612996     1.000000   0.175609  \n",
       "possession            0.763108     0.710172   0.336060  \n",
       "shots_pg              0.936822     0.548170   0.289177  \n",
       "pass_success          0.775434     0.769414   0.321857  \n",
       "shots_ot_pg           1.000000     0.612996   0.297559  \n",
       "points                0.813329     0.622643   0.224410  "
      ]
     },
     "execution_count": 157,
     "metadata": {},
     "output_type": "execute_result"
    }
   ],
   "source": [
    "#Let's see the correlations between the final team points with diffrent variables\n",
    "Train_set.corr().sort_values('points')"
   ]
  },
  {
   "cell_type": "code",
   "execution_count": 158,
   "metadata": {},
   "outputs": [
    {
     "data": {
      "text/html": [
       "<table class=\"simpletable\">\n",
       "<caption>OLS Regression Results</caption>\n",
       "<tr>\n",
       "  <th>Dep. Variable:</th>         <td>points</td>      <th>  R-squared:         </th> <td>   0.778</td>\n",
       "</tr>\n",
       "<tr>\n",
       "  <th>Model:</th>                   <td>OLS</td>       <th>  Adj. R-squared:    </th> <td>   0.750</td>\n",
       "</tr>\n",
       "<tr>\n",
       "  <th>Method:</th>             <td>Least Squares</td>  <th>  F-statistic:       </th> <td>   28.50</td>\n",
       "</tr>\n",
       "<tr>\n",
       "  <th>Date:</th>             <td>Wed, 19 Jul 2017</td> <th>  Prob (F-statistic):</th> <td>9.54e-29</td>\n",
       "</tr>\n",
       "<tr>\n",
       "  <th>Time:</th>                 <td>13:59:25</td>     <th>  Log-Likelihood:    </th> <td> -424.57</td>\n",
       "</tr>\n",
       "<tr>\n",
       "  <th>No. Observations:</th>      <td>   120</td>      <th>  AIC:               </th> <td>   877.1</td>\n",
       "</tr>\n",
       "<tr>\n",
       "  <th>Df Residuals:</th>          <td>   106</td>      <th>  BIC:               </th> <td>   916.2</td>\n",
       "</tr>\n",
       "<tr>\n",
       "  <th>Df Model:</th>              <td>    13</td>      <th>                     </th>     <td> </td>   \n",
       "</tr>\n",
       "<tr>\n",
       "  <th>Covariance Type:</th>      <td>nonrobust</td>    <th>                     </th>     <td> </td>   \n",
       "</tr>\n",
       "</table>\n",
       "<table class=\"simpletable\">\n",
       "<tr>\n",
       "          <td></td>             <th>coef</th>     <th>std err</th>      <th>t</th>      <th>P>|t|</th>  <th>[0.025</th>    <th>0.975]</th>  \n",
       "</tr>\n",
       "<tr>\n",
       "  <th>Intercept</th>         <td>  -26.3104</td> <td>   38.739</td> <td>   -0.679</td> <td> 0.499</td> <td> -103.115</td> <td>   50.494</td>\n",
       "</tr>\n",
       "<tr>\n",
       "  <th>shots_pg</th>          <td>   -3.6265</td> <td>    1.179</td> <td>   -3.076</td> <td> 0.003</td> <td>   -5.964</td> <td>   -1.289</td>\n",
       "</tr>\n",
       "<tr>\n",
       "  <th>discipline_yellow</th> <td>   -0.0228</td> <td>    0.083</td> <td>   -0.273</td> <td> 0.785</td> <td>   -0.188</td> <td>    0.142</td>\n",
       "</tr>\n",
       "<tr>\n",
       "  <th>discipline_red</th>    <td>   -0.8091</td> <td>    0.373</td> <td>   -2.171</td> <td> 0.032</td> <td>   -1.548</td> <td>   -0.070</td>\n",
       "</tr>\n",
       "<tr>\n",
       "  <th>possession</th>        <td>   -0.6552</td> <td>    0.437</td> <td>   -1.500</td> <td> 0.136</td> <td>   -1.521</td> <td>    0.211</td>\n",
       "</tr>\n",
       "<tr>\n",
       "  <th>pass_success</th>      <td>    1.0384</td> <td>    0.553</td> <td>    1.877</td> <td> 0.063</td> <td>   -0.059</td> <td>    2.135</td>\n",
       "</tr>\n",
       "<tr>\n",
       "  <th>aerials_won</th>       <td>    0.6117</td> <td>    0.370</td> <td>    1.654</td> <td> 0.101</td> <td>   -0.121</td> <td>    1.345</td>\n",
       "</tr>\n",
       "<tr>\n",
       "  <th>shots_conceded_pg</th> <td>   -1.9465</td> <td>    0.578</td> <td>   -3.366</td> <td> 0.001</td> <td>   -3.093</td> <td>   -0.800</td>\n",
       "</tr>\n",
       "<tr>\n",
       "  <th>interceptions_pg</th>  <td>    0.1173</td> <td>    0.199</td> <td>    0.589</td> <td> 0.557</td> <td>   -0.278</td> <td>    0.512</td>\n",
       "</tr>\n",
       "<tr>\n",
       "  <th>fouls_pg</th>          <td>    1.0069</td> <td>    0.818</td> <td>    1.231</td> <td> 0.221</td> <td>   -0.615</td> <td>    2.629</td>\n",
       "</tr>\n",
       "<tr>\n",
       "  <th>offsides_pg</th>       <td>    0.4663</td> <td>    2.119</td> <td>    0.220</td> <td> 0.826</td> <td>   -3.735</td> <td>    4.668</td>\n",
       "</tr>\n",
       "<tr>\n",
       "  <th>shots_ot_pg</th>       <td>   15.8137</td> <td>    2.716</td> <td>    5.822</td> <td> 0.000</td> <td>   10.429</td> <td>   21.199</td>\n",
       "</tr>\n",
       "<tr>\n",
       "  <th>dribbles_pg</th>       <td>    0.6079</td> <td>    0.656</td> <td>    0.927</td> <td> 0.356</td> <td>   -0.692</td> <td>    1.908</td>\n",
       "</tr>\n",
       "<tr>\n",
       "  <th>fouled_pg</th>         <td>    0.4984</td> <td>    0.723</td> <td>    0.690</td> <td> 0.492</td> <td>   -0.934</td> <td>    1.931</td>\n",
       "</tr>\n",
       "</table>\n",
       "<table class=\"simpletable\">\n",
       "<tr>\n",
       "  <th>Omnibus:</th>       <td> 1.189</td> <th>  Durbin-Watson:     </th> <td>   1.535</td>\n",
       "</tr>\n",
       "<tr>\n",
       "  <th>Prob(Omnibus):</th> <td> 0.552</td> <th>  Jarque-Bera (JB):  </th> <td>   1.088</td>\n",
       "</tr>\n",
       "<tr>\n",
       "  <th>Skew:</th>          <td> 0.231</td> <th>  Prob(JB):          </th> <td>   0.580</td>\n",
       "</tr>\n",
       "<tr>\n",
       "  <th>Kurtosis:</th>      <td> 2.941</td> <th>  Cond. No.          </th> <td>6.78e+03</td>\n",
       "</tr>\n",
       "</table>"
      ],
      "text/plain": [
       "<class 'statsmodels.iolib.summary.Summary'>\n",
       "\"\"\"\n",
       "                            OLS Regression Results                            \n",
       "==============================================================================\n",
       "Dep. Variable:                 points   R-squared:                       0.778\n",
       "Model:                            OLS   Adj. R-squared:                  0.750\n",
       "Method:                 Least Squares   F-statistic:                     28.50\n",
       "Date:                Wed, 19 Jul 2017   Prob (F-statistic):           9.54e-29\n",
       "Time:                        13:59:25   Log-Likelihood:                -424.57\n",
       "No. Observations:                 120   AIC:                             877.1\n",
       "Df Residuals:                     106   BIC:                             916.2\n",
       "Df Model:                          13                                         \n",
       "Covariance Type:            nonrobust                                         \n",
       "=====================================================================================\n",
       "                        coef    std err          t      P>|t|      [0.025      0.975]\n",
       "-------------------------------------------------------------------------------------\n",
       "Intercept           -26.3104     38.739     -0.679      0.499    -103.115      50.494\n",
       "shots_pg             -3.6265      1.179     -3.076      0.003      -5.964      -1.289\n",
       "discipline_yellow    -0.0228      0.083     -0.273      0.785      -0.188       0.142\n",
       "discipline_red       -0.8091      0.373     -2.171      0.032      -1.548      -0.070\n",
       "possession           -0.6552      0.437     -1.500      0.136      -1.521       0.211\n",
       "pass_success          1.0384      0.553      1.877      0.063      -0.059       2.135\n",
       "aerials_won           0.6117      0.370      1.654      0.101      -0.121       1.345\n",
       "shots_conceded_pg    -1.9465      0.578     -3.366      0.001      -3.093      -0.800\n",
       "interceptions_pg      0.1173      0.199      0.589      0.557      -0.278       0.512\n",
       "fouls_pg              1.0069      0.818      1.231      0.221      -0.615       2.629\n",
       "offsides_pg           0.4663      2.119      0.220      0.826      -3.735       4.668\n",
       "shots_ot_pg          15.8137      2.716      5.822      0.000      10.429      21.199\n",
       "dribbles_pg           0.6079      0.656      0.927      0.356      -0.692       1.908\n",
       "fouled_pg             0.4984      0.723      0.690      0.492      -0.934       1.931\n",
       "==============================================================================\n",
       "Omnibus:                        1.189   Durbin-Watson:                   1.535\n",
       "Prob(Omnibus):                  0.552   Jarque-Bera (JB):                1.088\n",
       "Skew:                           0.231   Prob(JB):                        0.580\n",
       "Kurtosis:                       2.941   Cond. No.                     6.78e+03\n",
       "==============================================================================\n",
       "\n",
       "Warnings:\n",
       "[1] Standard Errors assume that the covariance matrix of the errors is correctly specified.\n",
       "[2] The condition number is large, 6.78e+03. This might indicate that there are\n",
       "strong multicollinearity or other numerical problems.\n",
       "\"\"\""
      ]
     },
     "execution_count": 158,
     "metadata": {},
     "output_type": "execute_result"
    }
   ],
   "source": [
    "# points and tackles_pg has a correlation of 0.021. It's really low. Thus tackles_pg will not be included in the model.\n",
    "#We first have a look at the linear regression results for home_team_goals with all the variables that have correlation over 0.1.\n",
    "\n",
    "lm1 = smf.ols('points ~ shots_pg + discipline_yellow + discipline_red + possession + pass_success + aerials_won + shots_conceded_pg + interceptions_pg + fouls_pg + offsides_pg + shots_ot_pg + dribbles_pg+ fouled_pg', data=Train_set)\n",
    "fit1 = lm1.fit()\n",
    "fit1.summary()"
   ]
  },
  {
   "cell_type": "code",
   "execution_count": null,
   "metadata": {
    "collapsed": true
   },
   "outputs": [],
   "source": []
  }
 ],
 "metadata": {
  "kernelspec": {
   "display_name": "Python 3",
   "language": "python",
   "name": "python3"
  },
  "language_info": {
   "codemirror_mode": {
    "name": "ipython",
    "version": 3
   },
   "file_extension": ".py",
   "mimetype": "text/x-python",
   "name": "python",
   "nbconvert_exporter": "python",
   "pygments_lexer": "ipython3",
   "version": "3.6.1"
  }
 },
 "nbformat": 4,
 "nbformat_minor": 2
}
